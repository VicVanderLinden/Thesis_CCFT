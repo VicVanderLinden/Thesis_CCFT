{
 "cells": [
  {
   "cell_type": "markdown",
   "id": "d376de08",
   "metadata": {},
   "source": [
    "##### Data collapse (improved)"
   ]
  },
  {
   "cell_type": "code",
   "execution_count": 168,
   "id": "57127f00",
   "metadata": {},
   "outputs": [],
   "source": [
    "using JLD2\n",
    "N = 7\n",
    "v = 1\n",
    "test_values = zeros(ComplexF64,(2*N-1)^2)\n",
    "\n",
    "l = length(test_values)\n",
    "\n",
    "distx = 0.0007## distance from centre in real\n",
    "\n",
    "disty = 0.0007# distance from centre in imaginary\n",
    "\n",
    "cent_im = 0.0600im\n",
    "\n",
    "cent_r = 0.0780\n",
    "\n",
    "## snake like structure of test_values will allow for faster convergence when recycling ψ (because you don't jump the entire distx after the loop)\n",
    "for i in 1:1:(2*N-1)\n",
    "    if div(i,2) == 1\n",
    "        for j in 1:1:(2*N-1)\n",
    "            if i <N+1\n",
    "                if j<N+1\n",
    "                    test_values[i+(j-1)*(2*N-1)] =  (LinRange(-distx,0.00,N)[i])  .+cent_r+ 1im*LinRange(-disty,0.00,N)[j] .+cent_im\n",
    "                else \n",
    "                    test_values[i+(j-1)*(2*N-1)] =  (LinRange(-distx,0.00,N)[i])  .+cent_r + 1im*LinRange(disty/(N-1),disty+disty/(N-1),N)[j-N] .+cent_im\n",
    "                end\n",
    "            else\n",
    "                if j<N+1\n",
    "                    test_values[i+(j-1)*(2*N-1)] =  (LinRange(distx/(N-1),distx+distx/(N-1),N)[i-N]) .+cent_r  + 1im*LinRange(-disty,0.00,N)[j]  .+cent_im\n",
    "                else\n",
    "                    test_values[i+(j-1)*(2*N-1)] =  (LinRange(distx/(N-1),distx+distx/(N-1),N)[i-N])  .+cent_r+ 1im*LinRange(disty/(N-1),disty+disty/(N-1),N)[j-N].+cent_im\n",
    "                end\n",
    "            end \n",
    "        end\n",
    "    else\n",
    "        for j in (2*N-1):-1:1\n",
    "            if i <N+1\n",
    "                if j<N+1\n",
    "                    test_values[i+(j-1)*(2*N-1)] =  (LinRange(-distx,0.00,N)[i]) .+cent_r+ 1im*LinRange(-disty,0.00,N)[j] .+cent_im\n",
    "                else \n",
    "                    test_values[i+(j-1)*(2*N-1)] =  (LinRange(-distx,0.00,N)[i])  .+cent_r + 1im*LinRange(disty/(N-1),disty+disty/(N-1),N)[j-N] .+cent_im\n",
    "                end\n",
    "            else\n",
    "                if j<N+1\n",
    "                    test_values[i+(j-1)*(2*N-1)] =  (LinRange(distx/(N-1),distx+distx/(N-1),N)[i-N]) .+cent_r + 1im*LinRange(-disty,0.00,N)[j] .+cent_im\n",
    "                else\n",
    "                    test_values[i+(j-1)*(2*N-1)] =  (LinRange(distx/(N-1),distx+distx/(N-1),N)[i-N])   .+cent_r + 1im*LinRange(disty/(N-1),disty+disty/(N-1),N)[j-N] .+cent_im\n",
    "                end\n",
    "            end \n",
    "        end\n",
    "    end\n",
    "end"
   ]
  },
  {
   "cell_type": "markdown",
   "id": "7ea0b966",
   "metadata": {},
   "source": [
    "Trying data collaps with sigma'"
   ]
  },
  {
   "cell_type": "code",
   "execution_count": 169,
   "id": "ea7256a5",
   "metadata": {},
   "outputs": [
    {
     "data": {
      "text/plain": [
       "coef2 (generic function with 1 method)"
      ]
     },
     "metadata": {},
     "output_type": "display_data"
    }
   ],
   "source": [
    "function C_TbarT(h)\n",
    "    return h^2 - h*(cth)/12\n",
    "\n",
    "end\n",
    "\n",
    "function C_T2T2(h)\n",
    "    return h^2 - h*(cth+2)/12\n",
    "end\n",
    "\n",
    "hσ  = (0.133596708540452 - 0.0204636065293973im)/2\n",
    "hε  = (0.465613165838194 - 0.224494536412444im)/2\n",
    "hσprime = (1.11067215243258 - 0.17012663080436im)/2\n",
    "\n",
    "function coef1(hσ,hε,hσprime)\n",
    "    a = (C_TbarT(hσprime)/C_TbarT(hσ)) * ( -1 + ( (C_TbarT(hε) * C_T2T2(hσ))/( C_T2T2(hσ)*C_TbarT(hε) -C_TbarT(hσ)* C_T2T2(hε)) )) - (C_TbarT(hε) * C_T2T2(hσprime))/( C_T2T2(hσ)*C_TbarT(hε) -C_TbarT(hσ)* C_T2T2(hε))\n",
    "    return a\n",
    "end\n",
    "function coef2(hσ,hε,hσprime)\n",
    "    a = ( C_T2T2(hσprime)* C_TbarT(hσ) -C_TbarT(hσprime)* C_T2T2(hσ) )/( C_T2T2(hσ)*C_TbarT(hε) -C_TbarT(hσ)* C_T2T2(hε)) \n",
    "return a\n",
    "end"
   ]
  },
  {
   "cell_type": "code",
   "execution_count": 170,
   "id": "f1426ad6",
   "metadata": {},
   "outputs": [
    {
     "data": {
      "text/plain": [
       "-4.230232293086518 - 3.536446908452194im"
      ]
     },
     "metadata": {},
     "output_type": "display_data"
    }
   ],
   "source": [
    "coef2(hσ,hε,hσprime)"
   ]
  },
  {
   "cell_type": "code",
   "execution_count": 171,
   "id": "9ea5bc84",
   "metadata": {},
   "outputs": [],
   "source": [
    "using PlotlyJS\n",
    "E_collaps19 = []\n",
    "E_collaps20 = []\n",
    "L = 19\n",
    "for (i,lambda) in enumerate(test_values)\n",
    "            lambda_txt = round(lambda,digits = 6)\n",
    "          \n",
    "            results1 = load_object(\"Lambda_est_precise/PBC/PBC_D_500/L$L/5EXC0_PBC_L=$L\"*\"_$lambda_txt\"*\"_D100.jld2\")\n",
    "            results2 = load_object(\"Lambda_est_precise/PBC/PBC_D_500/L$L/5EXC1_PBC_L=$L\"*\"_$lambda_txt\"*\"_D100.jld2\")\n",
    "        push!(E_collaps19,L*(results2[2][end-1] + coef1(hσ,hε,hσprime)*results1[2][1]+coef2(hσ,hε,hσprime)*results2[2][end]) )\n",
    "    end\n",
    "\n",
    "    L = 20\n",
    "    for (i,lambda) in enumerate(test_values)\n",
    "        lambda_txt = round(lambda,digits = 6)\n",
    "        if L ==20 && (lambda_txt == 0.078233 +0.059883im)\n",
    "            push!(E_collaps20,0)\n",
    "        else\n",
    "            results1 = load_object(\"Lambda_est_precise/PBC/PBC_D_500/L$L/5EXC0_PBC_L=$L\"*\"_$lambda_txt\"*\"_D100.jld2\")\n",
    "            results2 = load_object(\"Lambda_est_precise/PBC/PBC_D_500/L$L/5EXC1_PBC_L=$L\"*\"_$lambda_txt\"*\"_D100.jld2\")\n",
    "            push!(E_collaps20,L*(results2[2][end-1] + coef1(hσ,hε,hσprime)*results1[2][1]+coef2(hσ,hε,hσprime)*results2[2][end] ))\n",
    "        end\n",
    "    end"
   ]
  },
  {
   "cell_type": "code",
   "execution_count": 172,
   "id": "e74c59c0",
   "metadata": {},
   "outputs": [
    {
     "data": {
      "text/plain": [
       "\"Data_collaps.png\""
      ]
     },
     "metadata": {},
     "output_type": "display_data"
    }
   ],
   "source": [
    "using PlotlyJS\n",
    "z_values = []\n",
    "    test_alt = []\n",
    "    for res in 1:1:length(test_values)\n",
    "        lambda_txt = round(test_values[res],digits = 6)\n",
    "        if L ==20 && (lambda_txt == 0.078233 +0.059883im)\n",
    "        else\n",
    "        push!(z_values,log.(abs.((E_collaps20[res]-E_collaps19[res]))))\n",
    "        push!(test_alt,test_values[res])\n",
    "        end\n",
    "    end\n",
    "p = PlotlyJS.plot(PlotlyJS.contour(   z=z_values,\n",
    "         x=real(-im*test_alt),\n",
    "             y=real(test_alt),fill=true,colorbar=attr(\n",
    "                 title=\"log(|gε'|)\", # title here\n",
    "                titleside=\"top\",\n",
    "                titlefont=attr(\n",
    "                  size=14,\n",
    "                  family=\"Arial, sans-serif\"\n",
    "              )\n",
    "             )),Layout(title=attr(text = \"Data collaps L19-L20 with Eσ Eε Eσ' L19-L20 D = 500\",x = 0.5),xaxis_title=\"Im(λ)\",yaxis_title=\"Re(λ)\")\n",
    "     )\n",
    "PlotlyJS.savefig(p,\"Data_collaps.png\")  "
   ]
  },
  {
   "cell_type": "markdown",
   "id": "e6d52de1",
   "metadata": {},
   "source": [
    "With L-1ε"
   ]
  },
  {
   "cell_type": "code",
   "execution_count": 173,
   "id": "0a82fc90",
   "metadata": {},
   "outputs": [
    {
     "data": {
      "text/plain": [
       "coef2 (generic function with 1 method)"
      ]
     },
     "metadata": {},
     "output_type": "display_data"
    }
   ],
   "source": [
    "function C_T2T2_desc(h)\n",
    "    return (h+1)^2 - (h+1)*(cth+2)/12+2(h+1)+h^2 - h*(cth)/12\n",
    "end\n",
    "function C_TbarT_desc(h)\n",
    "    return h*(h+1)^2 -(2h+1)*(cth)/24\n",
    "\n",
    "end\n",
    "### also previous C_T2T2 terms must be multiplied by 2 since we redfine z= gT2 = g_barT^2 so (gT2 + g_barT^2) = 2z of previous\n",
    "\n",
    "\n",
    "\n",
    "function coef1(hσ,hε,hσprime)\n",
    "    a = (C_TbarT_desc(hε)/C_TbarT(hσ)) * ( -1 + ( (C_TbarT(hε) * 2*C_T2T2(hσ))/( 2*C_T2T2(hσ)*C_TbarT(hε) -C_TbarT(hσ)*2* C_T2T2(hε)) )) - (C_TbarT(hε) * C_T2T2_desc(hε))/( C_T2T2(hσ)*C_TbarT(hε) -C_TbarT(hσ)* C_T2T2(hε))\n",
    "    return a\n",
    "end\n",
    "function coef2(hσ,hε,hσprime)\n",
    "    a = ( C_T2T2_desc(hε)* C_TbarT(hσ) -C_TbarT_desc(hε)* C_T2T2(hσ) )/( C_T2T2(hσ)*C_TbarT(hε) -C_TbarT(hσ)* C_T2T2(hε)) \n",
    "return a\n",
    "end"
   ]
  },
  {
   "cell_type": "code",
   "execution_count": 174,
   "id": "7559e9e5",
   "metadata": {},
   "outputs": [],
   "source": [
    "using PlotlyJS\n",
    "E_collaps19 = []\n",
    "E_collaps20 = []\n",
    "L = 19\n",
    "for (i,lambda) in enumerate(test_values)\n",
    "            lambda_txt = round(lambda,digits = 6)\n",
    "          \n",
    "            results1 = load_object(\"Lambda_est_precise/PBC/PBC_D_500/L$L/5EXC0_PBC_L=$L\"*\"_$lambda_txt\"*\"_D100.jld2\")\n",
    "            results2 = load_object(\"Lambda_est_precise/PBC/PBC_D_500/L$L/5EXC1_PBC_L=$L\"*\"_$lambda_txt\"*\"_D100.jld2\")\n",
    "        push!(E_collaps19,L*(results2[2][end-1] + coef1(hσ,hε,hσprime)*results1[2][1]+coef2(hσ,hε,hσprime)*results1[2][2]) )\n",
    "    end\n",
    "\n",
    "    L = 20\n",
    "    for (i,lambda) in enumerate(test_values)\n",
    "        lambda_txt = round(lambda,digits = 6)\n",
    "        if L ==20 && (lambda_txt == 0.078233 +0.059883im)\n",
    "            push!(E_collaps20,0)\n",
    "        else\n",
    "            results1 = load_object(\"Lambda_est_precise/PBC/PBC_D_500/L$L/5EXC0_PBC_L=$L\"*\"_$lambda_txt\"*\"_D100.jld2\")\n",
    "            results2 = load_object(\"Lambda_est_precise/PBC/PBC_D_500/L$L/5EXC1_PBC_L=$L\"*\"_$lambda_txt\"*\"_D100.jld2\")\n",
    "            push!(E_collaps20,L*(results2[2][end-1] + coef1(hσ,hε,hσprime)*results1[2][1]+coef2(hσ,hε,hσprime)*results1[2][2] ))\n",
    "        end\n",
    "    end"
   ]
  },
  {
   "cell_type": "code",
   "execution_count": 175,
   "id": "19ff16ff",
   "metadata": {},
   "outputs": [
    {
     "data": {
      "text/plain": [
       "\"Data_collaps2.png\""
      ]
     },
     "metadata": {},
     "output_type": "display_data"
    }
   ],
   "source": [
    "using PlotlyJS\n",
    "z_values = []\n",
    "    test_alt = []\n",
    "    for res in 1:1:length(test_values)\n",
    "        lambda_txt = round(test_values[res],digits = 6)\n",
    "        if L ==20 && (lambda_txt == 0.078233 +0.059883im)\n",
    "        else\n",
    "        push!(z_values,abs((E_collaps20[res]-E_collaps19[res])))\n",
    "        push!(test_alt,test_values[res])\n",
    "        end\n",
    "    end\n",
    "p = PlotlyJS.plot(PlotlyJS.contour(   z=z_values,\n",
    "         x=real(-im*test_alt),\n",
    "             y=real(test_alt),fill=true,colorbar=attr(\n",
    "                 title=\"log(|gε'|)\", # title here\n",
    "                titleside=\"top\",\n",
    "                titlefont=attr(\n",
    "                  size=14,\n",
    "                  family=\"Arial, sans-serif\"\n",
    "              )\n",
    "             )),Layout(title=attr(text = \"Data collaps with Eσ Eε EL-1ε L19-L20 D = 500\",x = 0.5),xaxis_title=\"Im(λ)\",yaxis_title=\"Re(λ)\")\n",
    "     )\n",
    "PlotlyJS.savefig(p,\"Data_collaps2.png\")  "
   ]
  }
 ],
 "metadata": {
  "kernelspec": {
   "display_name": "Julia 1.11.3",
   "language": "julia",
   "name": "julia-1.11"
  },
  "language_info": {
   "file_extension": ".jl",
   "mimetype": "application/julia",
   "name": "julia",
   "version": "1.11.3"
  }
 },
 "nbformat": 4,
 "nbformat_minor": 5
}
