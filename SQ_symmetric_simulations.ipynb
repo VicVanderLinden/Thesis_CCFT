{
 "cells": [
  {
   "cell_type": "code",
   "execution_count": 28,
   "id": "4170192f",
   "metadata": {},
   "outputs": [],
   "source": [
    "using MPSKitModels\n",
    "using TensorKit\n",
    "using TensorOperations\n",
    "using LinearAlgebra \n",
    "include(\"Potts-Operators & Hamiltonian.jl\")\n",
    "using SymGroupRepresentations\n",
    "# import Pkg\n",
    "# Pkg.activate(\".\")\n",
    "# Pkg.add(path =\"https://github.com/Yue-Zhengyuan/SymGroupRepresentations.jl\")"
   ]
  },
  {
   "cell_type": "code",
   "execution_count": 32,
   "id": "7ccc0c9f",
   "metadata": {},
   "outputs": [
    {
     "name": "stdout",
     "output_type": "stream",
     "text": [
      "Irrep[S5](4₁1₁)\n"
     ]
    },
    {
     "ename": "MethodError",
     "evalue": "MethodError: no method matching ←(::S5Irrep, ::S5Irrep)\nThe function `←` exists, but no method is defined for this combination of argument types.\n\nClosest candidates are:\n  ←(!Matched::S, !Matched::S) where S<:ElementarySpace\n   @ TensorKit C:\\Users\\vicva\\.julia\\packages\\TensorKit\\hkxhv\\src\\spaces\\homspace.jl:53\n  ←(!Matched::ProductSpace{S}, !Matched::ProductSpace{S}) where S<:ElementarySpace\n   @ TensorKit C:\\Users\\vicva\\.julia\\packages\\TensorKit\\hkxhv\\src\\spaces\\homspace.jl:50\n  ←(!Matched::VectorSpace, !Matched::VectorSpace)\n   @ TensorKit C:\\Users\\vicva\\.julia\\packages\\TensorKit\\hkxhv\\src\\spaces\\homspace.jl:56\n",
     "output_type": "error",
     "traceback": [
      "MethodError: no method matching ←(::S5Irrep, ::S5Irrep)\n",
      "The function `←` exists, but no method is defined for this combination of argument types.\n",
      "\n",
      "Closest candidates are:\n",
      "  ←(!Matched::S, !Matched::S) where S<:ElementarySpace\n",
      "   @ TensorKit C:\\Users\\vicva\\.julia\\packages\\TensorKit\\hkxhv\\src\\spaces\\homspace.jl:53\n",
      "  ←(!Matched::ProductSpace{S}, !Matched::ProductSpace{S}) where S<:ElementarySpace\n",
      "   @ TensorKit C:\\Users\\vicva\\.julia\\packages\\TensorKit\\hkxhv\\src\\spaces\\homspace.jl:50\n",
      "  ←(!Matched::VectorSpace, !Matched::VectorSpace)\n",
      "   @ TensorKit C:\\Users\\vicva\\.julia\\packages\\TensorKit\\hkxhv\\src\\spaces\\homspace.jl:56\n",
      "\n",
      "\n",
      "Stacktrace:\n",
      " [1] (::var\"#2029#2030\")(i::LatticePoint{1, FiniteChain})\n",
      "   @ Main C:\\Users\\vicva\\.julia\\packages\\MPSKitModels\\y2OAX\\src\\operators\\mpoham.jl:43\n",
      " [2] iterate\n",
      "   @ .\\generator.jl:48 [inlined]\n",
      " [3] _collect(c::Vector{LatticePoint{1, FiniteChain}}, itr::Base.Generator{Vector{LatticePoint{1, FiniteChain}}, var\"#2029#2030\"}, ::Base.EltypeUnknown, isz::Base.HasShape{1})\n",
      "   @ Base .\\array.jl:811\n",
      " [4] collect_similar(cont::Vector{LatticePoint{1, FiniteChain}}, itr::Base.Generator{Vector{LatticePoint{1, FiniteChain}}, var\"#2029#2030\"})\n",
      "   @ Base .\\array.jl:720\n",
      " [5] map(f::Function, A::Vector{LatticePoint{1, FiniteChain}})\n",
      "   @ Base .\\abstractarray.jl:3371\n",
      " [6] top-level scope\n",
      "   @ c:\\Users\\vicva\\OneDrive\\Documenten\\git\\Thesis_CCFT\\jl_notebook_cell_df34fa98e69747e1a8f8a730347b8e2f_W1sZmlsZQ==.jl:12"
     ]
    }
   ],
   "source": [
    "Q=5\n",
    "Vp = SNIrrep{5}([1,4])\n",
    "println(Vp)\n",
    "L = 4\n",
    "J=1\n",
    "h=1\n",
    "lambda=0.079 + 0.060im\n",
    "_,_,W = weyl_heisenberg_matrices(Q)\n",
    "P   = TensorMap(W,ℂ^Q←ℂ^Q)\n",
    "lat = FiniteChain(L)\n",
    "dat0 = reshape((P*sum((-h * potts_spin_shift(; q = Q,k=j)') for j in 1:1:Q-1)*P').data, (Q,Q))\n",
    "H0 = @mpoham (sum(TensorMap(dat0,Vp←Vp){i} for i in vertices(lat)[1:(end)])) ### Potts\n"
   ]
  }
 ],
 "metadata": {
  "kernelspec": {
   "display_name": "Julia 1.11.3",
   "language": "julia",
   "name": "julia-1.11"
  },
  "language_info": {
   "file_extension": ".jl",
   "mimetype": "application/julia",
   "name": "julia",
   "version": "1.11.3"
  }
 },
 "nbformat": 4,
 "nbformat_minor": 5
}
