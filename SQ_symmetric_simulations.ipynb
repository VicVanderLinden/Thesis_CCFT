{
 "cells": [
  {
   "cell_type": "code",
   "execution_count": 1,
   "id": "4170192f",
   "metadata": {},
   "outputs": [],
   "source": [
    "using MPSKitModels\n",
    "using TensorKit\n",
    "using TensorOperations\n",
    "using LinearAlgebra \n",
    "include(\"Potts-Operators & Hamiltonian.jl\")\n",
    "using SymGroupRepresentations\n",
    "# import Pkg\n",
    "# Pkg.activate(\".\")\n",
    "# Pkg.add(path =\"https://github.com/Yue-Zhengyuan/SymGroupRepresentations.jl\")"
   ]
  },
  {
   "cell_type": "code",
   "execution_count": 2,
   "id": "fc738349",
   "metadata": {},
   "outputs": [
    {
     "name": "stdout",
     "output_type": "stream",
     "text": [
      "done\n"
     ]
    }
   ],
   "source": [
    "L = 6\n",
    "Q = 5\n",
    "J=1\n",
    "h=1\n",
    "lambda=0.079 + 0.060im\n",
    "_,_,W = weyl_heisenberg_matrices(Q)\n",
    "P   = TensorMap(W,ℂ^Q←ℂ^Q)\n",
    "lat = FiniteChain(L)\n",
    "dat0 = reshape((P*sum((-h * potts_spin_shift(; q = Q,k=j)') for j in 1:1:Q-1)*P').data, (Q,Q))\n",
    "dat1 = reshape(((P ⊗ P)*sum((-J * potts_phase(; q=Q,k=j)') for j in 1:1:Q-1)*(P' ⊗ P')).data, (Q,Q,Q,Q))\n",
    "dat2 = reshape(((P ⊗ P) * sum(sum(potts_phase_shift_combined(;q=Q,k=l,p=j)' for l in 1:1:Q-1) for j in 1:1:Q-1) *(P'⊗P')).data, (Q,Q,Q,Q))\n",
    "println(\"done\")"
   ]
  },
  {
   "cell_type": "code",
   "execution_count": 3,
   "id": "11565a79",
   "metadata": {},
   "outputs": [
    {
     "ename": "ArgumentError",
     "evalue": "ArgumentError: Data has non-zero elements at incompatible positions",
     "output_type": "error",
     "traceback": [
      "ArgumentError: Data has non-zero elements at incompatible positions\n",
      "\n",
      "Stacktrace:\n",
      " [1] TensorMap(data::Array{ComplexF64, 4}, V::TensorMapSpace{GradedSpace{S5Irrep, NTuple{7, Int64}}, 2, 2}; tol::Float64)\n",
      "   @ TensorKit C:\\Users\\vicva\\.julia\\packages\\TensorKit\\hkxhv\\src\\tensors\\tensor.jl:343\n",
      " [2] TensorMap(data::Array{ComplexF64, 4}, V::TensorMapSpace{GradedSpace{S5Irrep, NTuple{7, Int64}}, 2, 2})\n",
      "   @ TensorKit C:\\Users\\vicva\\.julia\\packages\\TensorKit\\hkxhv\\src\\tensors\\tensor.jl:314\n",
      " [3] (::var\"#86#87\")(i::LatticePoint{1, FiniteChain})\n",
      "   @ Main C:\\Users\\vicva\\.julia\\packages\\MPSKitModels\\y2OAX\\src\\operators\\mpoham.jl:43\n",
      " [4] iterate\n",
      "   @ .\\generator.jl:48 [inlined]\n",
      " [5] _collect(c::Vector{LatticePoint{1, FiniteChain}}, itr::Base.Generator{Vector{LatticePoint{1, FiniteChain}}, var\"#86#87\"}, ::Base.EltypeUnknown, isz::Base.HasShape{1})\n",
      "   @ Base .\\array.jl:811\n",
      " [6] collect_similar(cont::Vector{LatticePoint{1, FiniteChain}}, itr::Base.Generator{Vector{LatticePoint{1, FiniteChain}}, var\"#86#87\"})\n",
      "   @ Base .\\array.jl:720\n",
      " [7] map(f::Function, A::Vector{LatticePoint{1, FiniteChain}})\n",
      "   @ Base .\\abstractarray.jl:3371\n",
      " [8] top-level scope\n",
      "   @ c:\\Users\\vicva\\OneDrive\\Documenten\\git\\Thesis_CCFT\\jl_notebook_cell_df34fa98e69747e1a8f8a730347b8e2f_W2sZmlsZQ==.jl:4"
     ]
    }
   ],
   "source": [
    "Vp = Vect[S5Irrep](S5Irrep([4,1])=>1, S5Irrep([5])=>1)\n",
    "# Vp = Vect[S5Irrep](ob=>120)\n",
    "H0 = @mpoham (sum(TensorMap(dat0,Vp←Vp){i} for i in vertices(lat)[1:(end)])) ### Potts\n",
    "H1 = @mpoham (sum(TensorMap(dat1, Vp⊗Vp←Vp⊗Vp){i,i+1}  for i in vertices(lat)[1:(end-1)]) + TensorMap(dat1, Vp⊗Vp←Vp⊗Vp){vertices(lat)[end],vertices(lat)[1]}) ##¨Potts with BC\n",
    "H2 =  @mpoham lambda'* sum(TensorMap(dat2,Vp⊗Vp←Vp⊗Vp){i,i+1} for i in vertices(lat)[1:(end - 1)]) + lambda' * TensorMap(dat2, Vp⊗Vp←Vp⊗Vp){vertices(lat)[end],vertices(lat)[1]} ###Extra term\n",
    "ham = H0+H1+H2\n",
    "\n",
    "D = 50\n",
    "println(Vp)\n",
    "ψ = FiniteMPS(L,Vp,Vect[S5Irrep](S5Irrep([4,1])=>D, S5Irrep([5])=>D))\n",
    "t = time()\n",
    "(ψ, envir , delta)   = find_groundstate(ψ, ham, DMRG(maxiter = 500,tol=1e-6, eigalg =MPSKit.Defaults.alg_eigsolve(; ishermitian=false)))\n",
    "println(time()-t)\n",
    "println(expectation_value(ψ,ham))"
   ]
  },
  {
   "cell_type": "code",
   "execution_count": 4,
   "id": "05cabe56",
   "metadata": {},
   "outputs": [
    {
     "name": "stderr",
     "output_type": "stream",
     "text": [
      "┌ Info: DMRG init:\tobj = -2.062478166199e+01 +2.051838955783e-01im\terr = 2.1794e-01\n",
      "└ @ MPSKit C:\\Users\\vicva\\.julia\\packages\\MPSKit\\EfZBD\\src\\algorithms\\groundstate\\dmrg.jl:35\n",
      "┌ Info: DMRG   1:\tobj = -2.554173513766e+01 -1.717174893798e+00im\terr = 2.6157152466e-06\ttime = 7.78 sec\n",
      "└ @ MPSKit C:\\Users\\vicva\\.julia\\packages\\MPSKit\\EfZBD\\src\\algorithms\\groundstate\\dmrg.jl:57\n",
      "┌ Info: DMRG conv 2:\tobj = -2.554173349375e+01 -1.717175090202e+00im\terr = 5.1511802498e-11\ttime = 8.76 sec\n",
      "└ @ MPSKit C:\\Users\\vicva\\.julia\\packages\\MPSKit\\EfZBD\\src\\algorithms\\groundstate\\dmrg.jl:51\n"
     ]
    },
    {
     "name": "stdout",
     "output_type": "stream",
     "text": [
      "96.21500015258789\n",
      "-25.54173349375127 - 1.7171750902022371im\n"
     ]
    }
   ],
   "source": [
    "Vp = Vect[ZNIrrep{Q}](sector=>1 for sector in 0:Q-1)\n",
    "# Vp = Vect[S5Irrep](ob=>120)\n",
    "D = 50\n",
    "H0 = @mpoham (sum(TensorMap(dat0,Vp←Vp){i} for i in vertices(lat)[1:(end)])) ### Potts\n",
    "H1 = @mpoham (sum(TensorMap(dat1, Vp⊗Vp←Vp⊗Vp){i,i+1}  for i in vertices(lat)[1:(end-1)]) + TensorMap(dat1, Vp⊗Vp←Vp⊗Vp){vertices(lat)[end],vertices(lat)[1]}) ##¨Potts with BC\n",
    "H2 =  @mpoham lambda'* sum(TensorMap(dat2,Vp⊗Vp←Vp⊗Vp){i,i+1} for i in vertices(lat)[1:(end - 1)]) + lambda' * TensorMap(dat2, Vp⊗Vp←Vp⊗Vp){vertices(lat)[end],vertices(lat)[1]} ###Extra term\n",
    "ham = H0+H1+H2\n",
    "J=1\n",
    "h=1\n",
    "lambda=0.079 + 0.060im\n",
    "H0 = @mpoham (sum(TensorMap(dat0,Vp←Vp){i} for i in vertices(lat)[1:(end)])) ### Potts\n",
    "ψ = FiniteMPS(L,Vp,Vect[ZNIrrep{Q}](0=>D,1=>D,2=>D,3=>D,4=>D))\n",
    "t = time()\n",
    "(ψ, envir , delta)   = find_groundstate(ψ, ham, DMRG(maxiter = 500,tol=1e-6, eigalg =MPSKit.Defaults.alg_eigsolve(; ishermitian=false)))\n",
    "println(time()-t)\n",
    "println(expectation_value(ψ,ham))"
   ]
  }
 ],
 "metadata": {
  "kernelspec": {
   "display_name": "Julia 1.11.3",
   "language": "julia",
   "name": "julia-1.11"
  },
  "language_info": {
   "file_extension": ".jl",
   "mimetype": "application/julia",
   "name": "julia",
   "version": "1.11.3"
  }
 },
 "nbformat": 4,
 "nbformat_minor": 5
}
