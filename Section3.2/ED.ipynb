{
 "cells": [
  {
   "cell_type": "code",
   "execution_count": 22,
   "id": "dbf3b09d",
   "metadata": {},
   "outputs": [],
   "source": [
    "using JLD2\n",
    "lambda = 0.0788 + 0.0603im  \n",
    "E_all_0 =[]\n",
    "E_all_1 =[]\n",
    "for l in 6:11\n",
    "      #Section3.2\\ED 9states,L = 6 0.079 + 0.06im.jld2\n",
    "      E_levels = load_object(\"ED 9states,L = $l $lambda.jld2\")\n",
    "      E_levels_0 = 2 .* (E_levels[1].- E_levels[1][1])./(E_levels[1][6] - E_levels[1][1])\n",
    "      E_levels_1 = 2 .* (E_levels[2] .- E_levels[1][1])./(E_levels[1][6] - E_levels[1][1])### renormalization by deltaT= 2\n",
    "      push!(E_all_1,E_levels_1)\n",
    "      push!(E_all_0,E_levels_0)\n",
    "end"
   ]
  },
  {
   "cell_type": "code",
   "execution_count": 79,
   "id": "face32cd",
   "metadata": {},
   "outputs": [
    {
     "name": "stdout",
     "output_type": "stream",
     "text": [
      "0.13341586159980198 - 0.02052618010475046im\n",
      "1.1085805985829704 - 0.17106960327183593im\n",
      "1.1325102479223375 - 0.021392567664524458im\n"
     ]
    }
   ],
   "source": [
    "using Plots\n",
    "using CurveFit\n",
    "L = 8:11\n",
    "\n",
    "for i in 1:3\n",
    "    levels = [E_all_1[j][i] for j in 3:6]\n",
    "    fits = linear_fit(1 ./L.^2,levels)\n",
    "    println(fits[1])\n",
    "end\n"
   ]
  },
  {
   "cell_type": "code",
   "execution_count": 88,
   "id": "62ac38f2",
   "metadata": {},
   "outputs": [
    {
     "name": "stdout",
     "output_type": "stream",
     "text": [
      "0.4645923398205263 - 0.22399595603963635im\n",
      "1.4634283046388992 - 0.22205647356712013im\n",
      "1.4634283046391237 - 0.22205647356709118im\n",
      "1.9031723267161293 - 0.6001293247445909im\n"
     ]
    }
   ],
   "source": [
    "using Plots\n",
    "using CurveFit\n",
    "L = 8:11\n",
    "\n",
    "for i in 2:5\n",
    "    levels = [E_all_0[j][i] for j in 3:6]\n",
    "    fits = linear_fit(1 ./L.^2,levels)\n",
    "    println(fits[1])\n",
    "end"
   ]
  },
  {
   "cell_type": "code",
   "execution_count": 80,
   "id": "f6f46ef8",
   "metadata": {},
   "outputs": [
    {
     "name": "stdout",
     "output_type": "stream",
     "text": [
      "Any[34.32517693482498 - 8.079203169325005im, 34.71767648684199 - 8.227093680065456im, 34.9993488661454 - 8.338564611753734im, 35.20823700408068 - 8.42419577804282im]\n",
      "2.88064261134232 - 0.7009367876475172im\n"
     ]
    }
   ],
   "source": [
    "## v first\n",
    "E0 = []\n",
    "for l in 8:11\n",
    "push!(E0,(load_object(\"ED 9states,L = $l $lambda.jld2\")[1][6]-load_object(\"ED 9states,L = $l $lambda.jld2\")[1][1])*l)\n",
    "end\n",
    "println(E0)\n",
    "fits = linear_fit(1 ./L.^2,E0)\n",
    "println(fits[1]/(4*pi))"
   ]
  },
  {
   "cell_type": "code",
   "execution_count": 82,
   "id": "6840f0a4",
   "metadata": {},
   "outputs": [
    {
     "name": "stdout",
     "output_type": "stream",
     "text": [
      "Any[2.8803321953422025 - 0.6989972065408656im]\n",
      "Any[2.8803321953422025 - 0.6989972065408656im, 2.880717416716788 - 0.7013785495187449im]\n",
      "Any[2.8803321953422025 - 0.6989972065408656im, 2.880717416716788 - 0.7013785495187449im, 2.8809386205315226 - 0.7028253031524043im]\n",
      "2.882111539195845 - 0.7102001790049959im\n"
     ]
    }
   ],
   "source": [
    "## v first\n",
    "E0 = []\n",
    "for l in 8:11\n",
    "push!(E0,(load_object(\"ED 9states,L = $l $lambda.jld2\")[1][6]-load_object(\"ED 9states,L = $l $lambda.jld2\")[1][1])*l)\n",
    "end\n",
    "fits_v  = []\n",
    "for l in 1:3\n",
    "levels = [E0[j] for j in l:l+1]\n",
    "L_t = L[l:l+1]\n",
    "fits = linear_fit(1 ./L_t.^2,levels)\n",
    "push!(fits_v,fits[1]/(4*pi))\n",
    "println(fits_v)\n",
    "end\n",
    "L_eff = 0.5 .+ L[1:end-1]\n",
    "fits = linear_fit(1 ./ L_eff.^2,fits_v)\n",
    "println(fits[1])"
   ]
  },
  {
   "cell_type": "code",
   "execution_count": 86,
   "id": "dc0a9a1e",
   "metadata": {},
   "outputs": [
    {
     "name": "stdout",
     "output_type": "stream",
     "text": [
      "ComplexF64[34.9993488661454 - 8.338564611753734im, 35.20823700408068 - 8.42419577804282im]\n",
      "1.14446386962297 - 0.025275439762127094im\n"
     ]
    }
   ],
   "source": [
    "E0 = []\n",
    "for l in 8:11\n",
    "push!(E0,load_object(\"ED 9states,L = $l $lambda.jld2\")[1][1]/l)\n",
    "end\n",
    "println(levels)\n",
    "fits = linear_fit(1 ./L.^2,E0)\n",
    "println(fits[2]*(-6/(pi*(2.882111539195845 - 0.7102001790049959im))))"
   ]
  }
 ],
 "metadata": {
  "kernelspec": {
   "display_name": "Julia 1.11.3",
   "language": "julia",
   "name": "julia-1.11"
  },
  "language_info": {
   "file_extension": ".jl",
   "mimetype": "application/julia",
   "name": "julia",
   "version": "1.11.3"
  }
 },
 "nbformat": 4,
 "nbformat_minor": 5
}
