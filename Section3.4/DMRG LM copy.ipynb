{
 "cells": [
  {
   "cell_type": "code",
   "execution_count": 2,
   "id": "1996f728-c30f-40b6-8a9a-37fcbe0c1d4d",
   "metadata": {},
   "outputs": [
    {
     "data": {
      "text/plain": [
       "find_groundstate_alt (generic function with 2 methods)"
      ]
     },
     "metadata": {},
     "output_type": "display_data"
    }
   ],
   "source": [
    "using MPSKit\n",
    "using TensorKit\n",
    "using KrylovKit\n",
    "using TensorOperations\n",
    "using MPSKitModels\n",
    "\n",
    "\n",
    "using LoggingExtras\n",
    "using MPSKit: updatetol, ∂∂AC,normalize!,add!, MPOHamiltonian,IterLog,loginit!,logiter!,logfinish!,logcancel!,fixedpoint, Algorithm, FiniteQP,LinearCombination,ProjectionOperator\n",
    "\n",
    "\n",
    "\n",
    "\n",
    "### DMRG ADAPTATION to largest magnitude\n",
    "@kwdef struct FiniteExcited_alt{A} <: Algorithm\n",
    "    \"optimization algorithm\"\n",
    "    gsalg::A = DMRG()\n",
    "    \"energy penalty for enforcing orthogonality with previous states\"\n",
    "    weight::Float64 = 1.0 ################THIS IS VARIABLE IN MY CODE -> because largest magn\n",
    "end\n",
    "function excitations_alt(H, alg::FiniteExcited_alt,\n",
    "    states::Tuple{T,Vararg{T}},energies; #\n",
    "    init=FiniteMPS([copy(first(states).AC[i])\n",
    "                    for i in 1:length(first(states))]),\n",
    "    num=1) where {T<:FiniteMPS}\n",
    "num == 0 && return (scalartype(T)[], T[])\n",
    "super_op = LinearCombination(tuple(H, ProjectionOperator.(states)...),\n",
    "                energies)\n",
    "envs = environments(init, super_op)\n",
    "ne, _ = find_groundstate_alt(init, super_op, DMRG(maxiter = 500,tol=1e-6, eigalg =MPSKit.Defaults.alg_eigsolve(; ishermitian=false)), envs)\n",
    "E = expectation_value(ne, H)\n",
    "nstates = (states..., ne)\n",
    "energies = (energies...,-E)\n",
    "println(energies)\n",
    "ens, excis = excitations_alt(H,alg, nstates,energies; init=init, num=num - 1) ## bit redudant, but don't want to screw up format\n",
    "\n",
    "push!(ens, expectation_value(ne, H))\n",
    "push!(excis, ne)\n",
    "\n",
    "return ens, excis\n",
    "end\n",
    "function excitations_alt(H, alg::FiniteExcited_alt, ψ::FiniteMPS,energies; kwargs...) #,energies::Tuple{Float64}\n",
    "return excitations_alt(H, alg, (ψ,),energies; kwargs...)\n",
    "end\n",
    "\n",
    "\n",
    "\n",
    "function calc_galerkin_alt(pos::Int, above::Union{InfiniteMPS,FiniteMPS,WindowMPS}, operator,\n",
    "    below, envs)\n",
    "AC´ = ∂∂AC(pos, above, operator, envs) * above.AC[pos]\n",
    "normalize!(AC´)\n",
    "out = add!(AC´, below.AL[pos] * below.AL[pos]' * AC´, -1)\n",
    "return norm(out)\n",
    "end\n",
    "\n",
    "function find_groundstate_alt(ψ::FiniteMPS, H, alg, envs=environments(ψ, H))\n",
    "    ϵs = map(pos -> calc_galerkin_alt(pos, ψ, H, ψ, envs), 1:length(ψ))\n",
    "    ϵ = maximum(ϵs)\n",
    "    log = IterLog(\"DMRG\")\n",
    "\n",
    "    LoggingExtras.withlevel(; alg.verbosity) do\n",
    "        @infov 2 loginit!(log, ϵ, expectation_value(ψ, H, envs))\n",
    "        for iter in 1:(alg.maxiter)\n",
    "            alg_eigsolve = updatetol(alg.eigalg, iter, ϵ)\n",
    "\n",
    "            zerovector!(ϵs)\n",
    "            for pos in [1:(length(ψ) - 1); length(ψ):-1:2]\n",
    "                h = ∂∂AC(pos, ψ, H, envs)\n",
    "                _, vec = fixedpoint(h, ψ.AC[pos], :LM, alg_eigsolve)\n",
    "                ϵs[pos] = max(ϵs[pos], calc_galerkin_alt(pos, ψ, H, ψ, envs))\n",
    "                ψ.AC[pos] = vec\n",
    "            end\n",
    "            ϵ = maximum(ϵs)\n",
    "\n",
    "            ψ, envs = alg.finalize(iter, ψ, H, envs)::Tuple{typeof(ψ),typeof(envs)}\n",
    "            if ϵ <= 1e-5 ### I manually coded this because for some reason it would be turne dto 1e-10 for exications\n",
    "                @infov 2 logfinish!(log, iter, ϵ, expectation_value(ψ, H, envs))\n",
    "                break\n",
    "            end\n",
    "            if iter == alg.maxiter\n",
    "                @warnv 1 logcancel!(log, iter, ϵ, expectation_value(ψ, H, envs))\n",
    "            else\n",
    "                @infov 3 logiter!(log, iter, ϵ, expectation_value(ψ, H, envs))\n",
    "            end\n",
    "        end\n",
    "    end\n",
    "    return ψ, envs, ϵ\n",
    "end\n",
    "\n"
   ]
  },
  {
   "cell_type": "code",
   "execution_count": null,
   "id": "91f63b73",
   "metadata": {},
   "outputs": [
    {
     "data": {
      "text/plain": [
       "Potts_CCFT (generic function with 1 method)"
      ]
     },
     "metadata": {},
     "output_type": "display_data"
    }
   ],
   "source": [
    "\n",
    "\n",
    "function classical_Potts(q::Int64, β)\n",
    "    V = ℂ^q\n",
    "    A_potts = TensorMap(zeros,ComplexF64, V ⊗ V ← V ⊗ V)\n",
    "\n",
    "    for i in 1:q\n",
    "        for j in 1:q\n",
    "            for k in 1:q\n",
    "                for l in 1:q\n",
    "                    E = -(Int(i == j) + Int(j == k) + Int(k == l) + Int(l == i))\n",
    "                    A_potts[i, j, k, l] = exp(-β * E)\n",
    "                end\n",
    "            end\n",
    "        end\n",
    "    end\n",
    "    return A_potts\n",
    "end\n",
    "\n",
    "\n",
    "function Plaquette_Potts(q::Int64, β, J□;JΔ=0.0)\n",
    "    V = ℂ^q\n",
    "    data = ComplexF64[Int(i==j)*Int(j==k) for i=1:q, j=1:q, k=1:q]\n",
    "    δ3 = TensorMap(data, V ← V ⊗ V)\n",
    "    U = isometry(fuse(V, V), V ⊗ V)\n",
    "    A_potts = TensorMap(zeros,ComplexF64, V ⊗ V ← V ⊗ V)\n",
    "    \n",
    "    for i = 1:q\n",
    "        for j = 1:q\n",
    "            for k = 1:q\n",
    "                for l = 1:q\n",
    "                    # 0.5 factor for double counting the weight on the bond\n",
    "                    E = -(Int(i == j) + Int(j == k) + Int(k == l) + Int(l == i))/2\n",
    "                    E -= J□ * Int(i == j == k == l)\n",
    "                    E -= JΔ * (Int(i==j==k)+Int(j==k==l)+Int(k==l==i)+Int(l==i==j))\n",
    "                    A_potts[i, j, k, l] = exp(-β * E)\n",
    "                end\n",
    "            end\n",
    "        end\n",
    "    end\n",
    "    @tensor Afin[-1 -2;-3 -4] := A_potts[1 2;3 4]*δ3[5;1 11]*conj(δ3[2; 6 7])*conj(δ3[10;3 8])*δ3[4;9 12]*U[-1;5 6]*U[-2;7 8]*conj(U[-3;9 10])*conj(U[-4;11 12]);\n",
    "    #return Afin\n",
    "    return A_potts\n",
    "end\n",
    "\n",
    "function eye(m)\n",
    "    return Matrix{ComplexF64}(I,m,m)\n",
    "end\n",
    "\n",
    "function Potts_CCFT(L,Q,beta,lambda)\n",
    "    L = 2\n",
    "    H = zeros(ComplexF64,(Q^L,Q^L))\n",
    "    sigma = zeros(ComplexF64,Q,Q)\n",
    "    tau = zeros(ComplexF64,Q,Q)\n",
    "    identity_e = zeros(ComplexF64,Q,Q)\n",
    "    for i in 1:Q\n",
    "        sigma[i, i] = cis(2*pi*(i-1)/Q)\n",
    "        tau[i,mod1(i + 1, Q)] = 1\n",
    "        identity_e[i,i]= 1\n",
    "    end\n",
    "    for i in 1:L-1\n",
    "        H +=  kron(kron(eye(Q^(i-1)),lambda* sum(sum(kron(tau^k, identity_e) * kron(sigma', sigma)^p + kron(identity_e ,tau^k) * kron(sigma', sigma)^p + kron(sigma', sigma)^k * kron(tau^p, identity_e) +  kron(sigma', sigma)^k * kron(identity_e ,tau^p) for k in 1:1:Q-1) for p in 1:1:Q-1)), eye(Q^(L-i-1)))\n",
    "         H += -0.5*kron(kron(eye(Q^(i-1)),(sum((tau^k) for k in 1:1:Q-1))),eye(Q^(L-i))) \n",
    "       H +=  -kron(kron(eye(Q^(i-1)), sum(kron(sigma'^k,sigma^k) for k in 1:Q-1)), eye(Q^(L-i-1)))\n",
    "\n",
    "    end\n",
    "    H += -0.5*kron(eye(Q^(L-1)),sum((tau^k) for k in 1:1:Q-1))\n",
    "    \n",
    "    Transfer_Matrix = exp(-beta*H )   #### a little bit wrong since you work with beta/n -> in fractions this is okay but the first two plots are not representative\n",
    "    V= ℂ^Q\n",
    "    A_CCFT = TensorMap(Transfer_Matrix, V ⊗ V ← V ⊗ V)   \n",
    "\n",
    "    \n",
    "    return A_CCFT\n",
    "end\n",
    "\n",
    "\n",
    "function_p"
   ]
  },
  {
   "cell_type": "code",
   "execution_count": 16,
   "id": "4f1dbba3",
   "metadata": {},
   "outputs": [
    {
     "name": "stderr",
     "output_type": "stream",
     "text": [
      "┌ Info: DMRG init:\tobj = +1.018932106024e+03 -8.803938129210e+01im\terr = 2.5753e-01\n",
      "└ @ Main c:\\Users\\vicva\\OneDrive\\Documenten\\git\\Thesis_CCFT\\jl_notebook_cell_df34fa98e69747e1a8f8a730347b8e2f_W0sZmlsZQ==.jl:62\n",
      "┌ Info: DMRG conv 1:\tobj = +1.221281891296e+03 -1.058511389887e+02im\terr = 6.7608686903e-08\ttime = 0.05 sec\n",
      "└ @ Main c:\\Users\\vicva\\OneDrive\\Documenten\\git\\Thesis_CCFT\\jl_notebook_cell_df34fa98e69747e1a8f8a730347b8e2f_W0sZmlsZQ==.jl:77\n",
      "┌ Info: DMRG init:\tobj = -2.691486068178e+03 +2.333598332883e+02im\terr = 8.1249e-01\n",
      "└ @ Main c:\\Users\\vicva\\OneDrive\\Documenten\\git\\Thesis_CCFT\\jl_notebook_cell_df34fa98e69747e1a8f8a730347b8e2f_W0sZmlsZQ==.jl:62\n"
     ]
    },
    {
     "name": "stdout",
     "output_type": "stream",
     "text": [
      "(1.0, -1221.2818912962257 + 105.85113898867165im, -880.4875442028051 + 64.94439750249492im)\n",
      "1221.2818912962257 - 105.85113898867165im\n",
      "ComplexF64[880.4875442028051 - 64.94439750249492im]\n"
     ]
    },
    {
     "name": "stderr",
     "output_type": "stream",
     "text": [
      "┌ Info: DMRG conv 1:\tobj = +8.804875442028e+02 -6.494439750249e+01im\terr = 6.4244558316e-08\ttime = 0.05 sec\n",
      "└ @ Main c:\\Users\\vicva\\OneDrive\\Documenten\\git\\Thesis_CCFT\\jl_notebook_cell_df34fa98e69747e1a8f8a730347b8e2f_W0sZmlsZQ==.jl:77\n",
      "┌ Info: DMRG init:\tobj = +1.097540117044e+03 -9.481009833687e+01im\terr = 5.4151e-03\n",
      "└ @ Main c:\\Users\\vicva\\OneDrive\\Documenten\\git\\Thesis_CCFT\\jl_notebook_cell_df34fa98e69747e1a8f8a730347b8e2f_W0sZmlsZQ==.jl:62\n"
     ]
    },
    {
     "name": "stdout",
     "output_type": "stream",
     "text": [
      "(1.0, "
     ]
    },
    {
     "name": "stderr",
     "output_type": "stream",
     "text": [
      "┌ Info: DMRG conv 1:\tobj = +1.097599295677e+03 -9.471119707488e+01im\terr = 7.7105091495e-10\ttime = 0.03 sec\n",
      "└ @ Main c:\\Users\\vicva\\OneDrive\\Documenten\\git\\Thesis_CCFT\\jl_notebook_cell_df34fa98e69747e1a8f8a730347b8e2f_W0sZmlsZQ==.jl:77\n",
      "┌ Info: DMRG init:\tobj = +8.044027430593e+02 -5.841194873151e+01im\terr = 1.1106e-02\n",
      "└ @ Main c:\\Users\\vicva\\OneDrive\\Documenten\\git\\Thesis_CCFT\\jl_notebook_cell_df34fa98e69747e1a8f8a730347b8e2f_W0sZmlsZQ==.jl:62\n",
      "┌ Info: DMRG conv 1:\tobj = +8.047981353220e+02 -5.775440632405e+01im\terr = 8.6739404019e-09\ttime = 0.05 sec\n",
      "└ @ Main c:\\Users\\vicva\\OneDrive\\Documenten\\git\\Thesis_CCFT\\jl_notebook_cell_df34fa98e69747e1a8f8a730347b8e2f_W0sZmlsZQ==.jl:77\n"
     ]
    },
    {
     "name": "stdout",
     "output_type": "stream",
     "text": [
      "-1097.5992956771 + 94.71119707487517im, -804.7981353220359 + 57.75440632405284im)\n",
      "1097.5992956771 - 94.71119707487517im\n",
      "ComplexF64[804.7981353220359 - 57.75440632405284im]\n"
     ]
    },
    {
     "name": "stderr",
     "output_type": "stream",
     "text": [
      "┌ Info: DMRG init:\tobj = +9.869139941654e+02 -8.477027472208e+01im\terr = 6.2227e-03\n",
      "└ @ Main c:\\Users\\vicva\\OneDrive\\Documenten\\git\\Thesis_CCFT\\jl_notebook_cell_df34fa98e69747e1a8f8a730347b8e2f_W0sZmlsZQ==.jl:62\n",
      "┌ Info: DMRG conv 1:\tobj = +9.869849404265e+02 -8.464978185043e+01im\terr = 1.0670702061e-09\ttime = 0.04 sec\n",
      "└ @ Main c:\\Users\\vicva\\OneDrive\\Documenten\\git\\Thesis_CCFT\\jl_notebook_cell_df34fa98e69747e1a8f8a730347b8e2f_W0sZmlsZQ==.jl:77\n",
      "┌ Info: DMRG init:\tobj = +7.371507227431e+02 -5.192004930347e+01im\terr = 1.2308e-02\n",
      "└ @ Main c:\\Users\\vicva\\OneDrive\\Documenten\\git\\Thesis_CCFT\\jl_notebook_cell_df34fa98e69747e1a8f8a730347b8e2f_W0sZmlsZQ==.jl:62\n"
     ]
    },
    {
     "name": "stdout",
     "output_type": "stream",
     "text": [
      "(1.0, -986.9849404264759 + 84.64978185043086im, -737.606660262246 + 51.15922043638838im)\n",
      "986.9849404264759 - 84.64978185043086im"
     ]
    },
    {
     "name": "stderr",
     "output_type": "stream",
     "text": [
      "┌ Info: DMRG conv 1:\tobj = +7.376066602622e+02 -5.115922043639e+01im\terr = 6.1677405456e-09\ttime = 0.06 sec\n",
      "└ @ Main c:\\Users\\vicva\\OneDrive\\Documenten\\git\\Thesis_CCFT\\jl_notebook_cell_df34fa98e69747e1a8f8a730347b8e2f_W0sZmlsZQ==.jl:77\n"
     ]
    },
    {
     "name": "stdout",
     "output_type": "stream",
     "text": [
      "\n",
      "ComplexF64[737.606660262246 - 51.15922043638838im]\n"
     ]
    },
    {
     "name": "stderr",
     "output_type": "stream",
     "text": [
      "┌ Info: DMRG init:\tobj = +8.881026227496e+02 -7.568321052206e+01im\terr = 7.2447e-03\n",
      "└ @ Main c:\\Users\\vicva\\OneDrive\\Documenten\\git\\Thesis_CCFT\\jl_notebook_cell_df34fa98e69747e1a8f8a730347b8e2f_W0sZmlsZQ==.jl:62\n",
      "┌ Info: DMRG conv 1:\tobj = +8.881895331858e+02 -7.553244562155e+01im\terr = 1.3720941542e-09\ttime = 0.03 sec\n",
      "└ @ Main c:\\Users\\vicva\\OneDrive\\Documenten\\git\\Thesis_CCFT\\jl_notebook_cell_df34fa98e69747e1a8f8a730347b8e2f_W0sZmlsZQ==.jl:77\n",
      "┌ Info: DMRG init:\tobj = +6.777039516902e+02 -4.595664400815e+01im\terr = 1.3646e-02\n",
      "└ @ Main c:\\Users\\vicva\\OneDrive\\Documenten\\git\\Thesis_CCFT\\jl_notebook_cell_df34fa98e69747e1a8f8a730347b8e2f_W0sZmlsZQ==.jl:62\n"
     ]
    },
    {
     "name": "stdout",
     "output_type": "stream",
     "text": [
      "(1.0, -888.1895331857875 + 75.53244562154852im, -678.2314076460292 + 45.07493691578589im)\n",
      "888.1895331857875 - 75.53244562154852im\n",
      "ComplexF64[678.2314076460292 - 45.07493691578589im]\n"
     ]
    },
    {
     "name": "stderr",
     "output_type": "stream",
     "text": [
      "┌ Info: DMRG conv 1:\tobj = +6.782314076460e+02 -4.507493691579e+01im\terr = 7.9580891088e-09\ttime = 0.07 sec\n",
      "└ @ Main c:\\Users\\vicva\\OneDrive\\Documenten\\git\\Thesis_CCFT\\jl_notebook_cell_df34fa98e69747e1a8f8a730347b8e2f_W0sZmlsZQ==.jl:77\n",
      "┌ Info: DMRG init:\tobj = +8.000165354780e+02 -6.742366357316e+01im\terr = 8.5756e-03\n",
      "└ @ Main c:\\Users\\vicva\\OneDrive\\Documenten\\git\\Thesis_CCFT\\jl_notebook_cell_df34fa98e69747e1a8f8a730347b8e2f_W0sZmlsZQ==.jl:62\n",
      "┌ Info: DMRG conv 1:\tobj = +8.001258618596e+02 -6.722862888269e+01im\terr = 1.5816794137e-09\ttime = 0.03 sec\n",
      "└ @ Main c:\\Users\\vicva\\OneDrive\\Documenten\\git\\Thesis_CCFT\\jl_notebook_cell_df34fa98e69747e1a8f8a730347b8e2f_W0sZmlsZQ==.jl:77\n"
     ]
    },
    {
     "name": "stdout",
     "output_type": "stream",
     "text": [
      "(1.0"
     ]
    },
    {
     "name": "stderr",
     "output_type": "stream",
     "text": [
      "┌ Info: DMRG init:\tobj = +6.254798416356e+02 -4.044496196416e+01im\terr = 1.5117e-02\n",
      "└ @ Main c:\\Users\\vicva\\OneDrive\\Documenten\\git\\Thesis_CCFT\\jl_notebook_cell_df34fa98e69747e1a8f8a730347b8e2f_W0sZmlsZQ==.jl:62\n",
      "┌ Info: DMRG conv 1:\tobj = +6.260903780658e+02 -3.942459866542e+01im\terr = 9.2790449638e-09\ttime = 0.06 sec\n",
      "└ @ Main c:\\Users\\vicva\\OneDrive\\Documenten\\git\\Thesis_CCFT\\jl_notebook_cell_df34fa98e69747e1a8f8a730347b8e2f_W0sZmlsZQ==.jl:77\n"
     ]
    },
    {
     "name": "stdout",
     "output_type": "stream",
     "text": [
      ", -800.1258618596181 + 67.22862888269455im, -626.0903780657942 + 39.42459866542424im)\n",
      "800.1258618596181 - 67.22862888269455im\n",
      "ComplexF64[626.0903780657942 - 39.42459866542424im]\n"
     ]
    },
    {
     "name": "stderr",
     "output_type": "stream",
     "text": [
      "┌ Info: DMRG init:\tobj = +7.217247512938e+02 -5.986816120263e+01im\terr = 1.0363e-02\n",
      "└ @ Main c:\\Users\\vicva\\OneDrive\\Documenten\\git\\Thesis_CCFT\\jl_notebook_cell_df34fa98e69747e1a8f8a730347b8e2f_W0sZmlsZQ==.jl:62\n",
      "┌ Info: DMRG conv 1:\tobj = +7.218668343595e+02 -5.960530159734e+01im\terr = 1.8234925624e-09\ttime = 0.03 sec\n",
      "└ @ Main c:\\Users\\vicva\\OneDrive\\Documenten\\git\\Thesis_CCFT\\jl_notebook_cell_df34fa98e69747e1a8f8a730347b8e2f_W0sZmlsZQ==.jl:77\n"
     ]
    },
    {
     "name": "stdout",
     "output_type": "stream",
     "text": [
      "("
     ]
    },
    {
     "name": "stderr",
     "output_type": "stream",
     "text": [
      "┌ Info: DMRG init:\tobj = +5.799876637392e+02 -3.531403312482e+01im\terr = 1.6705e-02\n",
      "└ @ Main c:\\Users\\vicva\\OneDrive\\Documenten\\git\\Thesis_CCFT\\jl_notebook_cell_df34fa98e69747e1a8f8a730347b8e2f_W0sZmlsZQ==.jl:62\n",
      "┌ Info: DMRG conv 1:\tobj = +5.806922803504e+02 -3.413865398341e+01im\terr = 1.2718970025e-08\ttime = 0.07 sec\n",
      "└ @ Main c:\\Users\\vicva\\OneDrive\\Documenten\\git\\Thesis_CCFT\\jl_notebook_cell_df34fa98e69747e1a8f8a730347b8e2f_W0sZmlsZQ==.jl:77\n"
     ]
    },
    {
     "name": "stdout",
     "output_type": "stream",
     "text": [
      "1.0, -721.8668343594674 + 59.60530159733847im, -580.6922803503971 + 34.138653983414365im)\n",
      "721.8668343594674 - 59.60530159733847im\n",
      "ComplexF64[580.6922803503971 - 34.138653983414365im]\n"
     ]
    },
    {
     "name": "stderr",
     "output_type": "stream",
     "text": [
      "┌ Info: DMRG init:\tobj = +6.524607501672e+02 -5.288840825724e+01im\terr = 1.2835e-02\n",
      "└ @ Main c:\\Users\\vicva\\OneDrive\\Documenten\\git\\Thesis_CCFT\\jl_notebook_cell_df34fa98e69747e1a8f8a730347b8e2f_W0sZmlsZQ==.jl:62\n",
      "┌ Info: DMRG conv 1:\tobj = +6.526528596603e+02 -5.251646683861e+01im\terr = 4.3055936291e-09\ttime = 0.06 sec\n",
      "└ @ Main c:\\Users\\vicva\\OneDrive\\Documenten\\git\\Thesis_CCFT\\jl_notebook_cell_df34fa98e69747e1a8f8a730347b8e2f_W0sZmlsZQ==.jl:77\n",
      "┌ Info: DMRG init:\tobj = +5.408192406746e+02 -3.049867953285e+01im\terr = 1.8371e-02\n",
      "└ @ Main c:\\Users\\vicva\\OneDrive\\Documenten\\git\\Thesis_CCFT\\jl_notebook_cell_df34fa98e69747e1a8f8a730347b8e2f_W0sZmlsZQ==.jl:62\n",
      "┌ Info: DMRG conv 1:\tobj = +5.416267846471e+02 -2.915400854216e+01im\terr = 1.8149501048e-08\ttime = 0.06 sec\n",
      "└ @ Main c:\\Users\\vicva\\OneDrive\\Documenten\\git\\Thesis_CCFT\\jl_notebook_cell_df34fa98e69747e1a8f8a730347b8e2f_W0sZmlsZQ==.jl:77\n"
     ]
    },
    {
     "name": "stdout",
     "output_type": "stream",
     "text": [
      "(1.0, -652.652859660323 + 52.51646683860967im, -541.6267846471345 + 29.154008542159733im)\n",
      "652.652859660323 - 52.51646683860967im\n",
      "ComplexF64[541.6267846471345 - 29.154008542159733im]\n"
     ]
    },
    {
     "name": "stderr",
     "output_type": "stream",
     "text": [
      "┌ Info: DMRG init:\tobj = +5.916429968728e+02 -4.634033185363e+01im\terr = 1.6338e-02\n",
      "└ @ Main c:\\Users\\vicva\\OneDrive\\Documenten\\git\\Thesis_CCFT\\jl_notebook_cell_df34fa98e69747e1a8f8a730347b8e2f_W0sZmlsZQ==.jl:62\n",
      "┌ Info: DMRG conv 1:\tobj = +5.919151136994e+02 -4.578428307179e+01im\terr = 1.9296994526e-08\ttime = 0.04 sec\n",
      "└ @ Main c:\\Users\\vicva\\OneDrive\\Documenten\\git\\Thesis_CCFT\\jl_notebook_cell_df34fa98e69747e1a8f8a730347b8e2f_W0sZmlsZQ==.jl:77\n",
      "┌ Info: DMRG init:\tobj = +5.076409102667e+02 -2.593756330188e+01im\terr = 2.0066e-02\n",
      "└ @ Main c:\\Users\\vicva\\OneDrive\\Documenten\\git\\Thesis_CCFT\\jl_notebook_cell_df34fa98e69747e1a8f8a730347b8e2f_W0sZmlsZQ==.jl:62\n"
     ]
    },
    {
     "name": "stdout",
     "output_type": "stream",
     "text": [
      "(1.0, -591.9151136994461 + 45.78428307178622im, -508.55694856904086 + 24.406985179687343im)\n",
      "591.9151136994461 - 45.78428307178622im\n",
      "ComplexF64[508.55694856904086 - 24.406985179687343im]\n"
     ]
    },
    {
     "name": "stderr",
     "output_type": "stream",
     "text": [
      "┌ Info: DMRG conv 1:\tobj = +5.085569485690e+02 -2.440698517969e+01im\terr = 2.2110423644e-08\ttime = 0.05 sec\n",
      "└ @ Main c:\\Users\\vicva\\OneDrive\\Documenten\\git\\Thesis_CCFT\\jl_notebook_cell_df34fa98e69747e1a8f8a730347b8e2f_W0sZmlsZQ==.jl:77\n",
      "┌ Info: DMRG init:\tobj = +5.389218557316e+02 -4.004436968169e+01im\terr = 2.1387e-02\n",
      "└ @ Main c:\\Users\\vicva\\OneDrive\\Documenten\\git\\Thesis_CCFT\\jl_notebook_cell_df34fa98e69747e1a8f8a730347b8e2f_W0sZmlsZQ==.jl:62\n",
      "┌ Info: DMRG conv 1:\tobj = +5.393278144413e+02 -3.916255634336e+01im\terr = 1.3375435787e-08\ttime = 0.10 sec\n",
      "└ @ Main c:\\Users\\vicva\\OneDrive\\Documenten\\git\\Thesis_CCFT\\jl_notebook_cell_df34fa98e69747e1a8f8a730347b8e2f_W0sZmlsZQ==.jl:77\n",
      "┌ Info: DMRG init:\tobj = +4.801957825561e+02 -2.156394903422e+01im\terr = 2.1754e-02\n",
      "└ @ Main c:\\Users\\vicva\\OneDrive\\Documenten\\git\\Thesis_CCFT\\jl_notebook_cell_df34fa98e69747e1a8f8a730347b8e2f_W0sZmlsZQ==.jl:62\n"
     ]
    },
    {
     "name": "stdout",
     "output_type": "stream",
     "text": [
      "(1.0, -539.327814441291 + 39.16255634335677im, -481.22431297370736 + 19.808202740601295im)\n",
      "539.327814441291 - 39.16255634335677im\n",
      "ComplexF64[481.22431297370736 - 19.808202740601295im]\n"
     ]
    },
    {
     "name": "stderr",
     "output_type": "stream",
     "text": [
      "┌ Info: DMRG conv 1:\tobj = +4.812243129737e+02 -1.980820274060e+01im\terr = 3.6165877035e-08\ttime = 0.33 sec\n",
      "└ @ Main c:\\Users\\vicva\\OneDrive\\Documenten\\git\\Thesis_CCFT\\jl_notebook_cell_df34fa98e69747e1a8f8a730347b8e2f_W0sZmlsZQ==.jl:77\n",
      "┌ Info: DMRG init:\tobj = +1.175978995547e+03 -2.241712300660e+02im\terr = 1.1188e-01\n",
      "└ @ Main c:\\Users\\vicva\\OneDrive\\Documenten\\git\\Thesis_CCFT\\jl_notebook_cell_df34fa98e69747e1a8f8a730347b8e2f_W0sZmlsZQ==.jl:62\n",
      "┌ Info: DMRG conv 1:\tobj = +1.202351925086e+03 -2.356655803248e+02im\terr = 1.6528203240e-08\ttime = 0.03 sec\n",
      "└ @ Main c:\\Users\\vicva\\OneDrive\\Documenten\\git\\Thesis_CCFT\\jl_notebook_cell_df34fa98e69747e1a8f8a730347b8e2f_W0sZmlsZQ==.jl:77\n"
     ]
    },
    {
     "name": "stdout",
     "output_type": "stream",
     "text": [
      "(1.0,"
     ]
    },
    {
     "name": "stderr",
     "output_type": "stream",
     "text": [
      "┌ Info: DMRG init:\tobj = +7.991686900763e+02 -1.110006111343e+02im\terr = 1.5368e-01\n",
      "└ @ Main c:\\Users\\vicva\\OneDrive\\Documenten\\git\\Thesis_CCFT\\jl_notebook_cell_df34fa98e69747e1a8f8a730347b8e2f_W0sZmlsZQ==.jl:62\n",
      "┌ Info: DMRG conv 1:\tobj = +8.683520372726e+02 -1.446535936054e+02im\terr = 8.7252440295e-08\ttime = 0.05 sec\n",
      "└ @ Main c:\\Users\\vicva\\OneDrive\\Documenten\\git\\Thesis_CCFT\\jl_notebook_cell_df34fa98e69747e1a8f8a730347b8e2f_W0sZmlsZQ==.jl:77\n"
     ]
    },
    {
     "name": "stdout",
     "output_type": "stream",
     "text": [
      " -1202.3519250862266 + 235.66558032476303im, -868.3520372725579 + 144.65359360540856im)\n",
      "1202.3519250862266 - 235.66558032476303im\n",
      "ComplexF64[868.3520372725579 - 144.65359360540856im]\n"
     ]
    },
    {
     "name": "stderr",
     "output_type": "stream",
     "text": [
      "┌ Info: DMRG init:\tobj = +1.080472096156e+03 -2.110934573152e+02im\terr = 5.3798e-03\n",
      "└ @ Main c:\\Users\\vicva\\OneDrive\\Documenten\\git\\Thesis_CCFT\\jl_notebook_cell_df34fa98e69747e1a8f8a730347b8e2f_W0sZmlsZQ==.jl:62\n"
     ]
    },
    {
     "name": "stdout",
     "output_type": "stream",
     "text": [
      "(1.0, -1080.5244900944406 + 210.87719696080907im, -793.6946586349039 + 128.6534355049676"
     ]
    },
    {
     "name": "stderr",
     "output_type": "stream",
     "text": [
      "┌ Info: DMRG conv 1:\tobj = +1.080524490094e+03 -2.108771969608e+02im\terr = 8.2804509514e-10\ttime = 0.09 sec\n",
      "└ @ Main c:\\Users\\vicva\\OneDrive\\Documenten\\git\\Thesis_CCFT\\jl_notebook_cell_df34fa98e69747e1a8f8a730347b8e2f_W0sZmlsZQ==.jl:77\n",
      "┌ Info: DMRG init:\tobj = +7.933381284360e+02 -1.301052914577e+02im\terr = 1.1021e-02\n",
      "└ @ Main c:\\Users\\vicva\\OneDrive\\Documenten\\git\\Thesis_CCFT\\jl_notebook_cell_df34fa98e69747e1a8f8a730347b8e2f_W0sZmlsZQ==.jl:62\n",
      "┌ Info: DMRG conv 1:\tobj = +7.936946586349e+02 -1.286534355050e+02im\terr = 1.2135729756e-08\ttime = 0.04 sec\n",
      "└ @ Main c:\\Users\\vicva\\OneDrive\\Documenten\\git\\Thesis_CCFT\\jl_notebook_cell_df34fa98e69747e1a8f8a730347b8e2f_W0sZmlsZQ==.jl:77\n"
     ]
    },
    {
     "name": "stdout",
     "output_type": "stream",
     "text": [
      "im)\n",
      "1080.5244900944406 - 210.87719696080907im\n",
      "ComplexF64[793.6946586349039 - 128.6534355049676im]\n"
     ]
    },
    {
     "name": "stderr",
     "output_type": "stream",
     "text": [
      "┌ Info: DMRG init:\tobj = +9.714839384311e+02 -1.887561908295e+02im\terr = 6.1766e-03\n",
      "└ @ Main c:\\Users\\vicva\\OneDrive\\Documenten\\git\\Thesis_CCFT\\jl_notebook_cell_df34fa98e69747e1a8f8a730347b8e2f_W0sZmlsZQ==.jl:62\n",
      "┌ Info: DMRG conv 1:\tobj = +9.715432689161e+02 -1.884940161831e+02im\terr = 1.2301099013e-09\ttime = 0.03 sec\n",
      "└ @ Main c:\\Users\\vicva\\OneDrive\\Documenten\\git\\Thesis_CCFT\\jl_notebook_cell_df34fa98e69747e1a8f8a730347b8e2f_W0sZmlsZQ==.jl:77\n",
      "┌ Info: DMRG init:\tobj = +7.269875463735e+02 -1.156588927878e+02im\terr = 1.2223e-02\n",
      "└ @ Main c:\\Users\\vicva\\OneDrive\\Documenten\\git\\Thesis_CCFT\\jl_notebook_cell_df34fa98e69747e1a8f8a730347b8e2f_W0sZmlsZQ==.jl:62\n"
     ]
    },
    {
     "name": "stdout",
     "output_type": "stream",
     "text": [
      "(1.0, -971.5432689161139 + 188.4940161831084im, -727.3939887460579 + 113.97779366825908im)\n",
      "971.5432689161139 - 188.4940161831084im\n",
      "ComplexF64[727.3939887460579 - 113.97779366825908im]\n"
     ]
    },
    {
     "name": "stderr",
     "output_type": "stream",
     "text": [
      "┌ Info: DMRG conv 1:\tobj = +7.273939887461e+02 -1.139777936683e+02im\terr = 1.4288133368e-08\ttime = 0.05 sec\n",
      "└ @ Main c:\\Users\\vicva\\OneDrive\\Documenten\\git\\Thesis_CCFT\\jl_notebook_cell_df34fa98e69747e1a8f8a730347b8e2f_W0sZmlsZQ==.jl:77\n",
      "┌ Info: DMRG init:\tobj = +8.741025949321e+02 -1.685449623946e+02im\terr = 7.1826e-03\n",
      "└ @ Main c:\\Users\\vicva\\OneDrive\\Documenten\\git\\Thesis_CCFT\\jl_notebook_cell_df34fa98e69747e1a8f8a730347b8e2f_W0sZmlsZQ==.jl:62\n"
     ]
    },
    {
     "name": "stdout",
     "output_type": "stream",
     "text": [
      "(1.0, -874.1695939771545 + 168.21921609854968im, -668.7790096749985 + 100.43864928662619im)\n",
      "874.1695939771545 - 168.21921609854968im\n",
      "ComplexF64[668.7790096749985 - 100.43864928662619im]\n"
     ]
    },
    {
     "name": "stderr",
     "output_type": "stream",
     "text": [
      "┌ Info: DMRG conv 1:\tobj = +8.741695939772e+02 -1.682192160985e+02im\terr = 1.8023292430e-09\ttime = 0.05 sec\n",
      "└ @ Main c:\\Users\\vicva\\OneDrive\\Documenten\\git\\Thesis_CCFT\\jl_notebook_cell_df34fa98e69747e1a8f8a730347b8e2f_W0sZmlsZQ==.jl:77\n",
      "┌ Info: DMRG init:\tobj = +6.683113167203e+02 -1.023892876882e+02im\terr = 1.3565e-02\n",
      "└ @ Main c:\\Users\\vicva\\OneDrive\\Documenten\\git\\Thesis_CCFT\\jl_notebook_cell_df34fa98e69747e1a8f8a730347b8e2f_W0sZmlsZQ==.jl:62\n",
      "┌ Info: DMRG conv 1:\tobj = +6.687790096750e+02 -1.004386492866e+02im\terr = 1.7490243409e-08\ttime = 0.05 sec\n",
      "└ @ Main c:\\Users\\vicva\\OneDrive\\Documenten\\git\\Thesis_CCFT\\jl_notebook_cell_df34fa98e69747e1a8f8a730347b8e2f_W0sZmlsZQ==.jl:77\n",
      "┌ Info: DMRG init:\tobj = +7.872444739136e+02 -1.501838459653e+02im\terr = 8.4891e-03\n",
      "└ @ Main c:\\Users\\vicva\\OneDrive\\Documenten\\git\\Thesis_CCFT\\jl_notebook_cell_df34fa98e69747e1a8f8a730347b8e2f_W0sZmlsZQ==.jl:62\n",
      "┌ Info: DMRG conv 1:\tobj = +7.873191157534e+02 -1.497665419409e+02im\terr = 2.6613074482e-09\ttime = 0.01 sec\n",
      "└ @ Main c:\\Users\\vicva\\OneDrive\\Documenten\\git\\Thesis_CCFT\\jl_notebook_cell_df34fa98e69747e1a8f8a730347b8e2f_W0sZmlsZQ==.jl:77\n",
      "┌ Info: DMRG init:\tobj = +6.167368126523e+02 -9.012428563223e+01im\terr = 1.5045e-02\n",
      "└ @ Main c:\\Users\\vicva\\OneDrive\\Documenten\\git\\Thesis_CCFT\\jl_notebook_cell_df34fa98e69747e1a8f8a730347b8e2f_W0sZmlsZQ==.jl:62\n",
      "┌ Info: DMRG conv 1:\tobj = +6.172794155437e+02 -8.786312826719e+01im\terr = 2.0617441236e-08\ttime = 0.05 sec\n",
      "└ @ Main c:\\Users\\vicva\\OneDrive\\Documenten\\git\\Thesis_CCFT\\jl_notebook_cell_df34fa98e69747e1a8f8a730347b8e2f_W0sZmlsZQ==.jl:77\n"
     ]
    },
    {
     "name": "stdout",
     "output_type": "stream",
     "text": [
      "(1.0, -787.3191157534407 + 149.76654194089073im, -617.2794155436571 + 87.86312826718613im)\n",
      "787.3191157534407 - 149.76654194089073im\n",
      "ComplexF64[617.2794155436571 - 87.86312826718613im]\n"
     ]
    },
    {
     "name": "stderr",
     "output_type": "stream",
     "text": [
      "┌ Info: DMRG init:\tobj = +7.099753861881e+02 -1.334030470984e+02im\terr = 1.0238e-02\n",
      "└ @ Main c:\\Users\\vicva\\OneDrive\\Documenten\\git\\Thesis_CCFT\\jl_notebook_cell_df34fa98e69747e1a8f8a730347b8e2f_W0sZmlsZQ==.jl:62\n",
      "┌ Info: DMRG conv 1:\tobj = +7.100556725699e+02 -1.328479215903e+02im\terr = 4.4257896264e-09\ttime = 0.02 sec\n",
      "└ @ Main c:\\Users\\vicva\\OneDrive\\Documenten\\git\\Thesis_CCFT\\jl_notebook_cell_df34fa98e69747e1a8f8a730347b8e2f_W0sZmlsZQ==.jl:77\n",
      "┌ Info: DMRG init:\tobj = +5.717845893050e+02 -7.870419997153e+01im\terr = 1.6649e-02\n",
      "└ @ Main c:\\Users\\vicva\\OneDrive\\Documenten\\git\\Thesis_CCFT\\jl_notebook_cell_df34fa98e69747e1a8f8a730347b8e2f_W0sZmlsZQ==.jl:62\n",
      "┌ Info: DMRG conv 1:\tobj = +5.724167944249e+02 -7.609583960644e+01im\terr = 2.3959788763e-08\ttime = 0.05 sec\n",
      "└ @ Main c:\\Users\\vicva\\OneDrive\\Documenten\\git\\Thesis_CCFT\\jl_notebook_cell_df34fa98e69747e1a8f8a730347b8e2f_W0sZmlsZQ==.jl:77\n"
     ]
    },
    {
     "name": "stdout",
     "output_type": "stream",
     "text": [
      "(1.0, -710.0556725698565 + 132.84792159028336im, -572.4167944248975 + 76.09583960643539im)\n",
      "710.0556725698565 - 132.84792159028336im\n",
      "ComplexF64[572.4167944248975 - 76.09583960643539im]\n"
     ]
    },
    {
     "name": "stderr",
     "output_type": "stream",
     "text": [
      "┌ Info: DMRG init:\tobj = +6.415110945779e+02 -1.179262270342e+02im\terr = 1.2649e-02\n",
      "└ @ Main c:\\Users\\vicva\\OneDrive\\Documenten\\git\\Thesis_CCFT\\jl_notebook_cell_df34fa98e69747e1a8f8a730347b8e2f_W0sZmlsZQ==.jl:62\n",
      "┌ Info: DMRG conv 1:\tobj = +6.415903857783e+02 -1.171537233608e+02im\terr = 1.0601232999e-08\ttime = 0.02 sec\n",
      "└ @ Main c:\\Users\\vicva\\OneDrive\\Documenten\\git\\Thesis_CCFT\\jl_notebook_cell_df34fa98e69747e1a8f8a730347b8e2f_W0sZmlsZQ==.jl:77\n"
     ]
    },
    {
     "name": "stdout",
     "output_type": "stream",
     "text": [
      "(1.0"
     ]
    },
    {
     "name": "stderr",
     "output_type": "stream",
     "text": [
      "┌ Info: DMRG init:\tobj = +5.330585028064e+02 -6.798301304527e+01im\terr = 1.8341e-02\n",
      "└ @ Main c:\\Users\\vicva\\OneDrive\\Documenten\\git\\Thesis_CCFT\\jl_notebook_cell_df34fa98e69747e1a8f8a730347b8e2f_W0sZmlsZQ==.jl:62\n",
      "┌ Info: DMRG conv 1:\tobj = +5.337914572425e+02 -6.500075034758e+01im\terr = 2.5387113506e-08\ttime = 0.05 sec\n",
      "└ @ Main c:\\Users\\vicva\\OneDrive\\Documenten\\git\\Thesis_CCFT\\jl_notebook_cell_df34fa98e69747e1a8f8a730347b8e2f_W0sZmlsZQ==.jl:77\n"
     ]
    },
    {
     "name": "stdout",
     "output_type": "stream",
     "text": [
      ", -641.5903857782918 + 117.153723360828im, -533.7914572425194 + 65.00075034758439im)\n",
      "641.5903857782918 - 117.153723360828im\n",
      "ComplexF64[533.7914572425194 - 65.00075034758439im]\n"
     ]
    },
    {
     "name": "stderr",
     "output_type": "stream",
     "text": [
      "┌ Info: DMRG init:\tobj = +5.812270918968e+02 -1.034501524854e+02im\terr = 1.6053e-02\n",
      "└ @ Main c:\\Users\\vicva\\OneDrive\\Documenten\\git\\Thesis_CCFT\\jl_notebook_cell_df34fa98e69747e1a8f8a730347b8e2f_W0sZmlsZQ==.jl:62\n",
      "┌ Info: DMRG conv 1:\tobj = +5.812882132144e+02 -1.023184578435e+02im\terr = 6.8358695853e-09\ttime = 0.03 sec\n",
      "└ @ Main c:\\Users\\vicva\\OneDrive\\Documenten\\git\\Thesis_CCFT\\jl_notebook_cell_df34fa98e69747e1a8f8a730347b8e2f_W0sZmlsZQ==.jl:77\n"
     ]
    },
    {
     "name": "stdout",
     "output_type": "stream",
     "text": [
      "(1.0, -581.288213214406"
     ]
    },
    {
     "name": "stderr",
     "output_type": "stream",
     "text": [
      "┌ Info: DMRG init:\tobj = +5.002318782577e+02 -5.782782834149e+01im\terr = 2.0068e-02\n",
      "└ @ Main c:\\Users\\vicva\\OneDrive\\Documenten\\git\\Thesis_CCFT\\jl_notebook_cell_df34fa98e69747e1a8f8a730347b8e2f_W0sZmlsZQ==.jl:62\n",
      "┌ Info: DMRG conv 1:\tobj = +5.010616573434e+02 -5.445543663628e+01im\terr = 3.0200637478e-08\ttime = 0.04 sec\n",
      "└ @ Main c:\\Users\\vicva\\OneDrive\\Documenten\\git\\Thesis_CCFT\\jl_notebook_cell_df34fa98e69747e1a8f8a730347b8e2f_W0sZmlsZQ==.jl:77\n"
     ]
    },
    {
     "name": "stdout",
     "output_type": "stream",
     "text": [
      " + 102.31845784348961im, -501.0616573434194 + 54.455436636278066im)\n",
      "581.288213214406 - 102.31845784348961im\n",
      "ComplexF64[501.0616573434194 - 54.455436636278066im]\n"
     ]
    },
    {
     "name": "stderr",
     "output_type": "stream",
     "text": [
      "┌ Info: DMRG init:\tobj = +5.286837403976e+02 -8.960930343365e+01im\terr = 2.0937e-02\n",
      "└ @ Main c:\\Users\\vicva\\OneDrive\\Documenten\\git\\Thesis_CCFT\\jl_notebook_cell_df34fa98e69747e1a8f8a730347b8e2f_W0sZmlsZQ==.jl:62\n",
      "┌ Info: DMRG conv 1:\tobj = +5.286856184678e+02 -8.785740974453e+01im\terr = 2.8295865328e-08\ttime = 0.03 sec\n",
      "└ @ Main c:\\Users\\vicva\\OneDrive\\Documenten\\git\\Thesis_CCFT\\jl_notebook_cell_df34fa98e69747e1a8f8a730347b8e2f_W0sZmlsZQ==.jl:77\n"
     ]
    },
    {
     "name": "stdout",
     "output_type": "stream",
     "text": [
      "("
     ]
    },
    {
     "name": "stderr",
     "output_type": "stream",
     "text": [
      "┌ Info: DMRG init:\tobj = +4.730304353136e+02 -4.810831876563e+01im\terr = 2.1789e-02\n",
      "└ @ Main c:\\Users\\vicva\\OneDrive\\Documenten\\git\\Thesis_CCFT\\jl_notebook_cell_df34fa98e69747e1a8f8a730347b8e2f_W0sZmlsZQ==.jl:62\n",
      "┌ Info: DMRG conv 1:\tobj = +4.739124355670e+02 -4.432056388986e+01im\terr = 7.6475602720e-09\ttime = 0.03 sec\n",
      "└ @ Main c:\\Users\\vicva\\OneDrive\\Documenten\\git\\Thesis_CCFT\\jl_notebook_cell_df34fa98e69747e1a8f8a730347b8e2f_W0sZmlsZQ==.jl:77\n"
     ]
    },
    {
     "name": "stdout",
     "output_type": "stream",
     "text": [
      "1.0, -528.6856184678185 + 87.85740974452632im, -473.91243556697367 + 44.320563889857205im)\n",
      "528.6856184678185 - 87.85740974452632im\n",
      "ComplexF64[473.91243556697367 - 44.320563889857205im]\n"
     ]
    },
    {
     "name": "stderr",
     "output_type": "stream",
     "text": [
      "┌ Info: DMRG init:\tobj = +1.145020080321e+03 -3.460415273805e+02im\terr = 1.0858e-01\n",
      "└ @ Main c:\\Users\\vicva\\OneDrive\\Documenten\\git\\Thesis_CCFT\\jl_notebook_cell_df34fa98e69747e1a8f8a730347b8e2f_W0sZmlsZQ==.jl:62\n",
      "┌ Info: DMRG conv 1:\tobj = +1.169202214150e+03 -3.627631341015e+02im\terr = 1.5506456413e-08\ttime = 0.02 sec\n",
      "└ @ Main c:\\Users\\vicva\\OneDrive\\Documenten\\git\\Thesis_CCFT\\jl_notebook_cell_df34fa98e69747e1a8f8a730347b8e2f_W0sZmlsZQ==.jl:77\n",
      "┌ Info: DMRG init:\tobj = +7.822088472419e+02 -1.715954091128e+02im\terr = 1.5328e-01\n",
      "└ @ Main c:\\Users\\vicva\\OneDrive\\Documenten\\git\\Thesis_CCFT\\jl_notebook_cell_df34fa98e69747e1a8f8a730347b8e2f_W0sZmlsZQ==.jl:62\n"
     ]
    },
    {
     "name": "stdout",
     "output_type": "stream",
     "text": [
      "(1.0, -1169.2022141503166 + 362.76313410147895im, -847.1000641954643 + 222.83837994838385im)\n",
      "1169.2022141503166 - 362.76313410147895im\n",
      "ComplexF64[847.1000641954643 - 222.83837994838385im]\n"
     ]
    },
    {
     "name": "stderr",
     "output_type": "stream",
     "text": [
      "┌ Info: DMRG conv 1:\tobj = +8.471000641955e+02 -2.228383799484e+02im\terr = 2.1914367145e-08\ttime = 0.05 sec\n",
      "└ @ Main c:\\Users\\vicva\\OneDrive\\Documenten\\git\\Thesis_CCFT\\jl_notebook_cell_df34fa98e69747e1a8f8a730347b8e2f_W0sZmlsZQ==.jl:77\n",
      "┌ Info: DMRG init:\tobj = +1.050588697398e+03 -3.249641920205e+02im\terr = 5.3193e-03\n",
      "└ @ Main c:\\Users\\vicva\\OneDrive\\Documenten\\git\\Thesis_CCFT\\jl_notebook_cell_df34fa98e69747e1a8f8a730347b8e2f_W0sZmlsZQ==.jl:62\n",
      "┌ Info: DMRG conv 1:\tobj = +1.050630783702e+03 -3.246412453622e+02im\terr = 8.9775916148e-10\ttime = 0.03 sec\n",
      "└ @ Main c:\\Users\\vicva\\OneDrive\\Documenten\\git\\Thesis_CCFT\\jl_notebook_cell_df34fa98e69747e1a8f8a730347b8e2f_W0sZmlsZQ==.jl:77\n"
     ]
    },
    {
     "name": "stdout",
     "output_type": "stream",
     "text": [
      "(1.0, -1050.630783701962 + 324.64124536223716im,"
     ]
    },
    {
     "name": "stderr",
     "output_type": "stream",
     "text": [
      "┌ Info: DMRG init:\tobj = +7.739648602221e+02 -2.004316392630e+02im\terr = 1.0880e-02\n",
      "└ @ Main c:\\Users\\vicva\\OneDrive\\Documenten\\git\\Thesis_CCFT\\jl_notebook_cell_df34fa98e69747e1a8f8a730347b8e2f_W0sZmlsZQ==.jl:62\n",
      "┌ Info: DMRG conv 1:\tobj = +7.742524514136e+02 -1.982302986886e+02im\terr = 3.3000081364e-09\ttime = 0.06 sec\n",
      "└ @ Main c:\\Users\\vicva\\OneDrive\\Documenten\\git\\Thesis_CCFT\\jl_notebook_cell_df34fa98e69747e1a8f8a730347b8e2f_W0sZmlsZQ==.jl:77\n"
     ]
    },
    {
     "name": "stdout",
     "output_type": "stream",
     "text": [
      " -774.2524514135508 + 198.23029868860152im)\n",
      "1050.630783701962 - 324.64124536223716im\n",
      "ComplexF64[774.2524514135508 - 198.23029868860152im]\n"
     ]
    },
    {
     "name": "stderr",
     "output_type": "stream",
     "text": [
      "┌ Info: DMRG init:\tobj = +9.444775933549e+02 -2.906201388558e+02im\terr = 6.0985e-03\n",
      "└ @ Main c:\\Users\\vicva\\OneDrive\\Documenten\\git\\Thesis_CCFT\\jl_notebook_cell_df34fa98e69747e1a8f8a730347b8e2f_W0sZmlsZQ==.jl:62\n",
      "┌ Info: DMRG conv 1:\tobj = +9.445196633157e+02 -2.902317267326e+02im\terr = 1.4296707639e-09\ttime = 0.02 sec\n",
      "└ @ Main c:\\Users\\vicva\\OneDrive\\Documenten\\git\\Thesis_CCFT\\jl_notebook_cell_df34fa98e69747e1a8f8a730347b8e2f_W0sZmlsZQ==.jl:77\n"
     ]
    },
    {
     "name": "stdout",
     "output_type": "stream",
     "text": [
      "(1.0, -944.5196633157427 + 290.23172673260285im, -709.5124510635055 + 175.662341430229im)"
     ]
    },
    {
     "name": "stderr",
     "output_type": "stream",
     "text": [
      "┌ Info: DMRG init:\tobj = +7.091950725893e+02 -1.782141042169e+02im\terr = 1.2076e-02\n",
      "└ @ Main c:\\Users\\vicva\\OneDrive\\Documenten\\git\\Thesis_CCFT\\jl_notebook_cell_df34fa98e69747e1a8f8a730347b8e2f_W0sZmlsZQ==.jl:62\n",
      "┌ Info: DMRG conv 1:\tobj = +7.095124510635e+02 -1.756623414302e+02im\terr = 4.9041628780e-09\ttime = 0.03 sec\n",
      "└ @ Main c:\\Users\\vicva\\OneDrive\\Documenten\\git\\Thesis_CCFT\\jl_notebook_cell_df34fa98e69747e1a8f8a730347b8e2f_W0sZmlsZQ==.jl:77\n"
     ]
    },
    {
     "name": "stdout",
     "output_type": "stream",
     "text": [
      "\n",
      "944.5196633157427 - 290.23172673260285im\n",
      "ComplexF64[709.5124510635055 - 175.662341430229im]\n"
     ]
    },
    {
     "name": "stderr",
     "output_type": "stream",
     "text": [
      "┌ Info: DMRG init:\tobj = +8.496128692282e+02 -2.595608828604e+02im\terr = 7.0786e-03\n",
      "└ @ Main c:\\Users\\vicva\\OneDrive\\Documenten\\git\\Thesis_CCFT\\jl_notebook_cell_df34fa98e69747e1a8f8a730347b8e2f_W0sZmlsZQ==.jl:62\n",
      "┌ Info: DMRG conv 1:\tobj = +8.496510155852e+02 -2.590837461112e+02im\terr = 2.3353361831e-09\ttime = 0.05 sec\n",
      "└ @ Main c:\\Users\\vicva\\OneDrive\\Documenten\\git\\Thesis_CCFT\\jl_notebook_cell_df34fa98e69747e1a8f8a730347b8e2f_W0sZmlsZQ==.jl:77\n"
     ]
    },
    {
     "name": "stdout",
     "output_type": "stream",
     "text": [
      "(1.0, -849.6510155852245 + 259.0837461112487im, -652.2266593989492 + 154.8416414394195im)\n",
      "849.6510155852245 - 259.0837461112487im\n",
      "ComplexF64[652.2266593989492 - 154.8416414394195im]\n"
     ]
    },
    {
     "name": "stderr",
     "output_type": "stream",
     "text": [
      "┌ Info: DMRG init:\tobj = +6.518682636964e+02 -1.578091384812e+02im\terr = 1.3417e-02\n",
      "└ @ Main c:\\Users\\vicva\\OneDrive\\Documenten\\git\\Thesis_CCFT\\jl_notebook_cell_df34fa98e69747e1a8f8a730347b8e2f_W0sZmlsZQ==.jl:62\n",
      "┌ Info: DMRG conv 1:\tobj = +6.522266593989e+02 -1.548416414394e+02im\terr = 6.3570387649e-09\ttime = 0.05 sec\n",
      "└ @ Main c:\\Users\\vicva\\OneDrive\\Documenten\\git\\Thesis_CCFT\\jl_notebook_cell_df34fa98e69747e1a8f8a730347b8e2f_W0sZmlsZQ==.jl:77\n",
      "┌ Info: DMRG init:\tobj = +7.649240011025e+02 -2.313687241489e+02im\terr = 8.3459e-03\n",
      "└ @ Main c:\\Users\\vicva\\OneDrive\\Documenten\\git\\Thesis_CCFT\\jl_notebook_cell_df34fa98e69747e1a8f8a730347b8e2f_W0sZmlsZQ==.jl:62\n",
      "┌ Info: DMRG conv 1:\tobj = +7.649496820140e+02 -2.307671791714e+02im\terr = 4.0029165658e-09\ttime = 0.04 sec\n",
      "└ @ Main c:\\Users\\vicva\\OneDrive\\Documenten\\git\\Thesis_CCFT\\jl_notebook_cell_df34fa98e69747e1a8f8a730347b8e2f_W0sZmlsZQ==.jl:77\n",
      "┌ Info: DMRG init:\tobj = +6.014280140040e+02 -1.389482286442e+02im\terr = 1.4907e-02\n",
      "└ @ Main c:\\Users\\vicva\\OneDrive\\Documenten\\git\\Thesis_CCFT\\jl_notebook_cell_df34fa98e69747e1a8f8a730347b8e2f_W0sZmlsZQ==.jl:62\n"
     ]
    },
    {
     "name": "stdout",
     "output_type": "stream",
     "text": [
      "(1.0, -764.9496820139568 + 230.7671791713723im, -601.8448165944402 + 135.49681513065337im)\n",
      "764.9496820139568 - 230.7671791713723im\n",
      "ComplexF64[601.8448165944402 - 135.49681513065337im]\n"
     ]
    },
    {
     "name": "stderr",
     "output_type": "stream",
     "text": [
      "┌ Info: DMRG conv 1:\tobj = +6.018448165944e+02 -1.354968151307e+02im\terr = 7.3704438569e-09\ttime = 0.05 sec\n",
      "└ @ Main c:\\Users\\vicva\\OneDrive\\Documenten\\git\\Thesis_CCFT\\jl_notebook_cell_df34fa98e69747e1a8f8a730347b8e2f_W0sZmlsZQ==.jl:77\n",
      "┌ Info: DMRG init:\tobj = +6.894764092947e+02 -2.056404952511e+02im\terr = 1.0034e-02\n",
      "└ @ Main c:\\Users\\vicva\\OneDrive\\Documenten\\git\\Thesis_CCFT\\jl_notebook_cell_df34fa98e69747e1a8f8a730347b8e2f_W0sZmlsZQ==.jl:62\n"
     ]
    },
    {
     "name": "stdout",
     "output_type": "stream",
     "text": [
      "(1.0, -689.471693241721 + 204.85755034541228im"
     ]
    },
    {
     "name": "stderr",
     "output_type": "stream",
     "text": [
      "┌ Info: DMRG conv 1:\tobj = +6.894716932417e+02 -2.048575503454e+02im\terr = 7.5734115464e-09\ttime = 0.03 sec\n",
      "└ @ Main c:\\Users\\vicva\\OneDrive\\Documenten\\git\\Thesis_CCFT\\jl_notebook_cell_df34fa98e69747e1a8f8a730347b8e2f_W0sZmlsZQ==.jl:77\n",
      "┌ Info: DMRG init:\tobj = +5.574143246378e+02 -1.213802035237e+02im\terr = 1.6535e-02\n",
      "└ @ Main c:\\Users\\vicva\\OneDrive\\Documenten\\git\\Thesis_CCFT\\jl_notebook_cell_df34fa98e69747e1a8f8a730347b8e2f_W0sZmlsZQ==.jl:62\n",
      "┌ Info: DMRG conv 1:\tobj = +5.579139700457e+02 -1.173837034165e+02im\terr = 8.5983209219e-09\ttime = 0.06 sec\n",
      "└ @ Main c:\\Users\\vicva\\OneDrive\\Documenten\\git\\Thesis_CCFT\\jl_notebook_cell_df34fa98e69747e1a8f8a730347b8e2f_W0sZmlsZQ==.jl:77\n"
     ]
    },
    {
     "name": "stdout",
     "output_type": "stream",
     "text": [
      ", -557.9139700456518 + 117.38370341654016im)\n",
      "689.471693241721 - 204.85755034541228im\n",
      "ComplexF64[557.9139700456518 - 117.38370341654016im]\n"
     ]
    },
    {
     "name": "stderr",
     "output_type": "stream",
     "text": [
      "┌ Info: DMRG init:\tobj = +6.224649378864e+02 -1.819725651055e+02im\terr = 1.2350e-02\n",
      "└ @ Main c:\\Users\\vicva\\OneDrive\\Documenten\\git\\Thesis_CCFT\\jl_notebook_cell_df34fa98e69747e1a8f8a730347b8e2f_W0sZmlsZQ==.jl:62\n",
      "┌ Info: DMRG conv 1:\tobj = +6.223929353598e+02 -1.809136627615e+02im\terr = 1.7182617862e-08\ttime = 0.03 sec\n",
      "└ @ Main c:\\Users\\vicva\\OneDrive\\Documenten\\git\\Thesis_CCFT\\jl_notebook_cell_df34fa98e69747e1a8f8a730347b8e2f_W0sZmlsZQ==.jl:77\n",
      "┌ Info: DMRG init:\tobj = +5.194558964548e+02 -1.048749948014e+02im\terr = 1.8272e-02\n",
      "└ @ Main c:\\Users\\vicva\\OneDrive\\Documenten\\git\\Thesis_CCFT\\jl_notebook_cell_df34fa98e69747e1a8f8a730347b8e2f_W0sZmlsZQ==.jl:62\n"
     ]
    },
    {
     "name": "stdout",
     "output_type": "stream",
     "text": [
      "(1.0, -622.3929353597799 + 180.91366276150563im, -520.0654224195525 + 100.29639499178619im)\n",
      "622.3929353597799 - 180.91366276150563im\n",
      "ComplexF64[520.0654224195525 - 100.29639499178619im]\n"
     ]
    },
    {
     "name": "stderr",
     "output_type": "stream",
     "text": [
      "┌ Info: DMRG conv 1:\tobj = +5.200654224196e+02 -1.002963949918e+02im\terr = 1.1710168864e-08\ttime = 0.03 sec\n",
      "└ @ Main c:\\Users\\vicva\\OneDrive\\Documenten\\git\\Thesis_CCFT\\jl_notebook_cell_df34fa98e69747e1a8f8a730347b8e2f_W0sZmlsZQ==.jl:77\n",
      "┌ Info: DMRG init:\tobj = +5.632099257896e+02 -1.599384366383e+02im\terr = 1.5600e-02\n",
      "└ @ Main c:\\Users\\vicva\\OneDrive\\Documenten\\git\\Thesis_CCFT\\jl_notebook_cell_df34fa98e69747e1a8f8a730347b8e2f_W0sZmlsZQ==.jl:62\n"
     ]
    },
    {
     "name": "stdout",
     "output_type": "stream",
     "text": [
      "("
     ]
    },
    {
     "name": "stderr",
     "output_type": "stream",
     "text": [
      "┌ Info: DMRG conv 1:\tobj = +5.629953510606e+02 -1.584412480225e+02im\terr = 1.1363643015e-08\ttime = 0.02 sec\n",
      "└ @ Main c:\\Users\\vicva\\OneDrive\\Documenten\\git\\Thesis_CCFT\\jl_notebook_cell_df34fa98e69747e1a8f8a730347b8e2f_W0sZmlsZQ==.jl:77\n",
      "┌ Info: DMRG init:\tobj = +4.872533349447e+02 -8.923069828024e+01im\terr = 2.0066e-02\n",
      "└ @ Main c:\\Users\\vicva\\OneDrive\\Documenten\\git\\Thesis_CCFT\\jl_notebook_cell_df34fa98e69747e1a8f8a730347b8e2f_W0sZmlsZQ==.jl:62\n",
      "┌ Info: DMRG conv 1:\tobj = +4.879832789115e+02 -8.407890002951e+01im\terr = 1.5251127400e-08\ttime = 0.05 sec\n",
      "└ @ Main c:\\Users\\vicva\\OneDrive\\Documenten\\git\\Thesis_CCFT\\jl_notebook_cell_df34fa98e69747e1a8f8a730347b8e2f_W0sZmlsZQ==.jl:77\n"
     ]
    },
    {
     "name": "stdout",
     "output_type": "stream",
     "text": [
      "1.0, -562.9953510605575 + 158.4412480225126im, -487.98327891147534 + 84.07890002950798im)\n",
      "562.9953510605575 - 158.4412480225126im\n",
      "ComplexF64[487.98327891147534 - 84.07890002950798im]\n"
     ]
    },
    {
     "name": "stderr",
     "output_type": "stream",
     "text": [
      "┌ Info: DMRG init:\tobj = +5.111554729686e+02 -1.390522586119e+02im\terr = 2.0231e-02\n",
      "└ @ Main c:\\Users\\vicva\\OneDrive\\Documenten\\git\\Thesis_CCFT\\jl_notebook_cell_df34fa98e69747e1a8f8a730347b8e2f_W0sZmlsZQ==.jl:62\n",
      "┌ Info: DMRG conv 1:\tobj = +5.106447280227e+02 -1.368297834130e+02im\terr = 9.3363232060e-16\ttime = 0.03 sec\n",
      "└ @ Main c:\\Users\\vicva\\OneDrive\\Documenten\\git\\Thesis_CCFT\\jl_notebook_cell_df34fa98e69747e1a8f8a730347b8e2f_W0sZmlsZQ==.jl:77\n",
      "┌ Info: DMRG init:\tobj = +4.605434748666e+02 -7.427834697719e+01im\terr = 2.1868e-02\n",
      "└ @ Main c:\\Users\\vicva\\OneDrive\\Documenten\\git\\Thesis_CCFT\\jl_notebook_cell_df34fa98e69747e1a8f8a730347b8e2f_W0sZmlsZQ==.jl:62\n"
     ]
    },
    {
     "name": "stdout",
     "output_type": "stream",
     "text": [
      "(1.0, -510.64472802269285 + 136.8297834129968im, -461.33985812568847 + 68.62121170447463im)\n",
      "510.64472802269285 - 136.8297834129968im\n",
      "ComplexF64[461.33985812568847 - 68.62121170447463im]\n"
     ]
    },
    {
     "name": "stderr",
     "output_type": "stream",
     "text": [
      "┌ Info: DMRG conv 1:\tobj = +4.613398581257e+02 -6.862121170447e+01im\terr = 1.7044274711e-08\ttime = 0.05 sec\n",
      "└ @ Main c:\\Users\\vicva\\OneDrive\\Documenten\\git\\Thesis_CCFT\\jl_notebook_cell_df34fa98e69747e1a8f8a730347b8e2f_W0sZmlsZQ==.jl:77\n",
      "┌ Info: DMRG init:\tobj = +1.100932985312e+03 -4.652749231766e+02im\terr = 1.0332e-01\n",
      "└ @ Main c:\\Users\\vicva\\OneDrive\\Documenten\\git\\Thesis_CCFT\\jl_notebook_cell_df34fa98e69747e1a8f8a730347b8e2f_W0sZmlsZQ==.jl:62\n",
      "┌ Info: DMRG conv 1:\tobj = +1.122247165726e+03 -4.856724194653e+02im\terr = 1.4547002091e-08\ttime = 0.06 sec\n",
      "└ @ Main c:\\Users\\vicva\\OneDrive\\Documenten\\git\\Thesis_CCFT\\jl_notebook_cell_df34fa98e69747e1a8f8a730347b8e2f_W0sZmlsZQ==.jl:77\n",
      "┌ Info: DMRG init:\tobj = +7.567866309734e+02 -2.307544531238e+02im\terr = 1.5301e-01\n",
      "└ @ Main c:\\Users\\vicva\\OneDrive\\Documenten\\git\\Thesis_CCFT\\jl_notebook_cell_df34fa98e69747e1a8f8a730347b8e2f_W0sZmlsZQ==.jl:62\n"
     ]
    },
    {
     "name": "stdout",
     "output_type": "stream",
     "text": [
      "(1.0, -1122.2471657257709 + 485.6724194652815im, -816.9982636061997 + 298.6734584818356im)\n",
      "1122.2471657257709 - 485.6724194652815im\n",
      "ComplexF64[816.9982636061997 - 298.6734584818356im]\n"
     ]
    },
    {
     "name": "stderr",
     "output_type": "stream",
     "text": [
      "┌ Info: DMRG conv 1:\tobj = +8.169982636062e+02 -2.986734584818e+02im\terr = 3.0994351870e-08\ttime = 0.33 sec\n",
      "└ @ Main c:\\Users\\vicva\\OneDrive\\Documenten\\git\\Thesis_CCFT\\jl_notebook_cell_df34fa98e69747e1a8f8a730347b8e2f_W0sZmlsZQ==.jl:77\n",
      "┌ Info: DMRG init:\tobj = +1.008272310888e+03 -4.351135226704e+02im\terr = 5.2363e-03\n",
      "└ @ Main c:\\Users\\vicva\\OneDrive\\Documenten\\git\\Thesis_CCFT\\jl_notebook_cell_df34fa98e69747e1a8f8a730347b8e2f_W0sZmlsZQ==.jl:62\n",
      "┌ Info: DMRG conv 1:\tobj = +1.008302629663e+03 -4.346983026067e+02im\terr = 9.4174926903e-10\ttime = 0.03 sec\n",
      "└ @ Main c:\\Users\\vicva\\OneDrive\\Documenten\\git\\Thesis_CCFT\\jl_notebook_cell_df34fa98e69747e1a8f8a730347b8e2f_W0sZmlsZQ==.jl:77\n",
      "┌ Info: DMRG init:\tobj = +7.465317430623e+02 -2.686512773739e+02im\terr = 1.0701e-02\n",
      "└ @ Main c:\\Users\\vicva\\OneDrive\\Documenten\\git\\Thesis_CCFT\\jl_notebook_cell_df34fa98e69747e1a8f8a730347b8e2f_W0sZmlsZQ==.jl:62\n"
     ]
    },
    {
     "name": "stdout",
     "output_type": "stream",
     "text": [
      "(1.0, -1008.3026296634018 + 434.6983026066988im, -746.7205308646476 + 265.77035539067185im)\n",
      "1008.3026296634018 - 434.6983026066988im\n",
      "ComplexF64[746.7205308646476 - 265.77035539067185im]\n"
     ]
    },
    {
     "name": "stderr",
     "output_type": "stream",
     "text": [
      "┌ Info: DMRG conv 1:\tobj = +7.467205308646e+02 -2.657703553907e+02im\terr = 3.6862196941e-09\ttime = 0.06 sec\n",
      "└ @ Main c:\\Users\\vicva\\OneDrive\\Documenten\\git\\Thesis_CCFT\\jl_notebook_cell_df34fa98e69747e1a8f8a730347b8e2f_W0sZmlsZQ==.jl:77\n",
      "┌ Info: DMRG init:\tobj = +9.062541757149e+02 -3.892059903882e+02im\terr = 5.9928e-03\n",
      "└ @ Main c:\\Users\\vicva\\OneDrive\\Documenten\\git\\Thesis_CCFT\\jl_notebook_cell_df34fa98e69747e1a8f8a730347b8e2f_W0sZmlsZQ==.jl:62\n",
      "┌ Info: DMRG conv 1:\tobj = +9.062773253901e+02 -3.887114482246e+02im\terr = 1.5654964722e-09\ttime = 0.04 sec\n",
      "└ @ Main c:\\Users\\vicva\\OneDrive\\Documenten\\git\\Thesis_CCFT\\jl_notebook_cell_df34fa98e69747e1a8f8a730347b8e2f_W0sZmlsZQ==.jl:77\n"
     ]
    },
    {
     "name": "stdout",
     "output_type": "stream",
     "text": [
      "(1.0, -906.2773253900601 + 388.71144822463714im, -684.1939171361792 + 235.60308120298495im)\n",
      "906.2773253900601 - 388.71144822463714im\n",
      "ComplexF64[684.1939171361792 - 235.60308120298495im]\n"
     ]
    },
    {
     "name": "stderr",
     "output_type": "stream",
     "text": [
      "┌ Info: DMRG init:\tobj = +6.840070828449e+02 -2.389466030510e+02im\terr = 1.1886e-02\n",
      "└ @ Main c:\\Users\\vicva\\OneDrive\\Documenten\\git\\Thesis_CCFT\\jl_notebook_cell_df34fa98e69747e1a8f8a730347b8e2f_W0sZmlsZQ==.jl:62\n",
      "┌ Info: DMRG conv 1:\tobj = +6.841939171362e+02 -2.356030812030e+02im\terr = 5.6506987324e-09\ttime = 0.04 sec\n",
      "└ @ Main c:\\Users\\vicva\\OneDrive\\Documenten\\git\\Thesis_CCFT\\jl_notebook_cell_df34fa98e69747e1a8f8a730347b8e2f_W0sZmlsZQ==.jl:77\n"
     ]
    },
    {
     "name": "stdout",
     "output_type": "stream",
     "text": [
      "("
     ]
    },
    {
     "name": "stderr",
     "output_type": "stream",
     "text": [
      "┌ Info: DMRG init:\tobj = +8.149789495607e+02 -3.477170417762e+02im\terr = 6.9405e-03\n",
      "└ @ Main c:\\Users\\vicva\\OneDrive\\Documenten\\git\\Thesis_CCFT\\jl_notebook_cell_df34fa98e69747e1a8f8a730347b8e2f_W0sZmlsZQ==.jl:62\n",
      "┌ Info: DMRG conv 1:\tobj = +8.149869772912e+02 -3.471179926947e+02im\terr = 2.7080104633e-09\ttime = 0.06 sec\n",
      "└ @ Main c:\\Users\\vicva\\OneDrive\\Documenten\\git\\Thesis_CCFT\\jl_notebook_cell_df34fa98e69747e1a8f8a730347b8e2f_W0sZmlsZQ==.jl:77\n",
      "┌ Info: DMRG init:\tobj = +6.285932664702e+02 -2.116729369128e+02im\terr = 1.3224e-02\n",
      "└ @ Main c:\\Users\\vicva\\OneDrive\\Documenten\\git\\Thesis_CCFT\\jl_notebook_cell_df34fa98e69747e1a8f8a730347b8e2f_W0sZmlsZQ==.jl:62\n",
      "┌ Info: DMRG conv 1:\tobj = +6.287867491557e+02 -2.077731286827e+02im\terr = 7.9616769975e-09\ttime = 0.04 sec\n",
      "└ @ Main c:\\Users\\vicva\\OneDrive\\Documenten\\git\\Thesis_CCFT\\jl_notebook_cell_df34fa98e69747e1a8f8a730347b8e2f_W0sZmlsZQ==.jl:77\n"
     ]
    },
    {
     "name": "stdout",
     "output_type": "stream",
     "text": [
      "1.0, -814.9869772912431 + 347.1179926946551im, -628.7867491557278 + 207.77312868265213im)\n",
      "814.9869772912431 - 347.1179926946551im\n",
      "ComplexF64[628.7867491557278 - 207.77312868265213im]\n"
     ]
    },
    {
     "name": "stderr",
     "output_type": "stream",
     "text": [
      "┌ Info: DMRG init:\tobj = +7.333996881414e+02 -3.100987166995e+02im\terr = 8.1600e-03\n",
      "└ @ Main c:\\Users\\vicva\\OneDrive\\Documenten\\git\\Thesis_CCFT\\jl_notebook_cell_df34fa98e69747e1a8f8a730347b8e2f_W0sZmlsZQ==.jl:62\n",
      "┌ Info: DMRG conv 1:\tobj = +7.333769330472e+02 -3.093584517719e+02im\terr = 4.9415263893e-09\ttime = 0.03 sec\n",
      "└ @ Main c:\\Users\\vicva\\OneDrive\\Documenten\\git\\Thesis_CCFT\\jl_notebook_cell_df34fa98e69747e1a8f8a730347b8e2f_W0sZmlsZQ==.jl:77\n"
     ]
    },
    {
     "name": "stdout",
     "output_type": "stream",
     "text": [
      "(1.0,"
     ]
    },
    {
     "name": "stderr",
     "output_type": "stream",
     "text": [
      "┌ Info: DMRG init:\tobj = +5.797532498943e+02 -1.864646118663e+02im\terr = 1.4723e-02\n",
      "└ @ Main c:\\Users\\vicva\\OneDrive\\Documenten\\git\\Thesis_CCFT\\jl_notebook_cell_df34fa98e69747e1a8f8a730347b8e2f_W0sZmlsZQ==.jl:62\n",
      "┌ Info: DMRG conv 1:\tobj = +5.799737481743e+02 -1.819050805526e+02im\terr = 1.0296407331e-08\ttime = 0.05 sec\n",
      "└ @ Main c:\\Users\\vicva\\OneDrive\\Documenten\\git\\Thesis_CCFT\\jl_notebook_cell_df34fa98e69747e1a8f8a730347b8e2f_W0sZmlsZQ==.jl:77\n"
     ]
    },
    {
     "name": "stdout",
     "output_type": "stream",
     "text": [
      " -733.3769330471889 + 309.3584517718703im, -579.9737481743391 + 181.90508055262373im)\n",
      "733.3769330471889 - 309.3584517718703im\n",
      "ComplexF64[579.9737481743391 - 181.90508055262373im]\n"
     ]
    },
    {
     "name": "stderr",
     "output_type": "stream",
     "text": [
      "┌ Info: DMRG init:\tobj = +6.605906339861e+02 -2.758301355349e+02im\terr = 9.7764e-03\n",
      "└ @ Main c:\\Users\\vicva\\OneDrive\\Documenten\\git\\Thesis_CCFT\\jl_notebook_cell_df34fa98e69747e1a8f8a730347b8e2f_W0sZmlsZQ==.jl:62\n",
      "┌ Info: DMRG conv 1:\tobj = +6.605063606550e+02 -2.748932820523e+02im\terr = 9.6996580373e-09\ttime = 0.01 sec\n",
      "└ @ Main c:\\Users\\vicva\\OneDrive\\Documenten\\git\\Thesis_CCFT\\jl_notebook_cell_df34fa98e69747e1a8f8a730347b8e2f_W0sZmlsZQ==.jl:77\n"
     ]
    },
    {
     "name": "stdout",
     "output_type": "stream",
     "text": [
      "("
     ]
    },
    {
     "name": "stderr",
     "output_type": "stream",
     "text": [
      "┌ Info: DMRG init:\tobj = +5.370511766475e+02 -1.629737402194e+02im\terr = 1.6382e-02\n",
      "└ @ Main c:\\Users\\vicva\\OneDrive\\Documenten\\git\\Thesis_CCFT\\jl_notebook_cell_df34fa98e69747e1a8f8a730347b8e2f_W0sZmlsZQ==.jl:62\n",
      "┌ Info: DMRG conv 1:\tobj = +5.373385914599e+02 -1.576544447230e+02im\terr = 1.3399625494e-08\ttime = 0.03 sec\n",
      "└ @ Main c:\\Users\\vicva\\OneDrive\\Documenten\\git\\Thesis_CCFT\\jl_notebook_cell_df34fa98e69747e1a8f8a730347b8e2f_W0sZmlsZQ==.jl:77\n"
     ]
    },
    {
     "name": "stdout",
     "output_type": "stream",
     "text": [
      "1.0, -660.5063606550113 + 274.89328205227656im, -537.3385914599338 + 157.65444472295184im)\n",
      "660.5063606550113 - 274.89328205227656im\n",
      "ComplexF64[537.3385914599338 - 157.65444472295184im]\n"
     ]
    },
    {
     "name": "stderr",
     "output_type": "stream",
     "text": [
      "┌ Info: DMRG init:\tobj = +5.957347990252e+02 -2.444038723380e+02im\terr = 1.1980e-02\n",
      "└ @ Main c:\\Users\\vicva\\OneDrive\\Documenten\\git\\Thesis_CCFT\\jl_notebook_cell_df34fa98e69747e1a8f8a730347b8e2f_W0sZmlsZQ==.jl:62\n",
      "┌ Info: DMRG conv 1:\tobj = +5.955288155557e+02 -2.431840869816e+02im\terr = 3.1985028808e-09\ttime = 0.03 sec\n",
      "└ @ Main c:\\Users\\vicva\\OneDrive\\Documenten\\git\\Thesis_CCFT\\jl_notebook_cell_df34fa98e69747e1a8f8a730347b8e2f_W0sZmlsZQ==.jl:77\n",
      "┌ Info: DMRG init:\tobj = +5.001529244613e+02 -1.408754538509e+02im\terr = 1.8182e-02\n",
      "└ @ Main c:\\Users\\vicva\\OneDrive\\Documenten\\git\\Thesis_CCFT\\jl_notebook_cell_df34fa98e69747e1a8f8a730347b8e2f_W0sZmlsZQ==.jl:62\n"
     ]
    },
    {
     "name": "stdout",
     "output_type": "stream",
     "text": [
      "(1.0, -595.5288155556999 + 243.1840869815662im, -500.5722878439354 + 134.7310889299968im)\n",
      "595.5288155556999 - 243.1840869815662im\n",
      "ComplexF64[500.5722878439354 - 134.7310889299968im]\n"
     ]
    },
    {
     "name": "stderr",
     "output_type": "stream",
     "text": [
      "┌ Info: DMRG conv 1:\tobj = +5.005722878439e+02 -1.347310889300e+02im\terr = 1.9303485397e-08\ttime = 0.03 sec\n",
      "└ @ Main c:\\Users\\vicva\\OneDrive\\Documenten\\git\\Thesis_CCFT\\jl_notebook_cell_df34fa98e69747e1a8f8a730347b8e2f_W0sZmlsZQ==.jl:77\n",
      "┌ Info: DMRG init:\tobj = +5.381089985567e+02 -2.153083728034e+02im\terr = 1.5054e-02\n",
      "└ @ Main c:\\Users\\vicva\\OneDrive\\Documenten\\git\\Thesis_CCFT\\jl_notebook_cell_df34fa98e69747e1a8f8a730347b8e2f_W0sZmlsZQ==.jl:62\n",
      "┌ Info: DMRG conv 1:\tobj = +5.376634556990e+02 -2.136671144524e+02im\terr = 1.1850863199e-08\ttime = 0.06 sec\n",
      "└ @ Main c:\\Users\\vicva\\OneDrive\\Documenten\\git\\Thesis_CCFT\\jl_notebook_cell_df34fa98e69747e1a8f8a730347b8e2f_W0sZmlsZQ==.jl:77\n",
      "┌ Info: DMRG init:\tobj = +4.688184493189e+02 -1.198860258988e+02im\terr = 2.0078e-02\n",
      "└ @ Main c:\\Users\\vicva\\OneDrive\\Documenten\\git\\Thesis_CCFT\\jl_notebook_cell_df34fa98e69747e1a8f8a730347b8e2f_W0sZmlsZQ==.jl:62\n"
     ]
    },
    {
     "name": "stdout",
     "output_type": "stream",
     "text": [
      "(1.0, -537.6634556989903 + 213.667114452357im, -469.4474674599754 + 112.94443804903794im)\n",
      "537.6634556989903 - 213.667114452357im\n",
      "ComplexF64[469.4474674599754 - 112.94443804903794im]\n"
     ]
    },
    {
     "name": "stderr",
     "output_type": "stream",
     "text": [
      "┌ Info: DMRG conv 1:\tobj = +4.694474674600e+02 -1.129444380490e+02im\terr = 3.1499873704e-08\ttime = 0.05 sec\n",
      "└ @ Main c:\\Users\\vicva\\OneDrive\\Documenten\\git\\Thesis_CCFT\\jl_notebook_cell_df34fa98e69747e1a8f8a730347b8e2f_W0sZmlsZQ==.jl:77\n",
      "┌ Info: DMRG init:\tobj = +4.870614388425e+02 -1.880033478480e+02im\terr = 1.9401e-02\n",
      "└ @ Main c:\\Users\\vicva\\OneDrive\\Documenten\\git\\Thesis_CCFT\\jl_notebook_cell_df34fa98e69747e1a8f8a730347b8e2f_W0sZmlsZQ==.jl:62\n"
     ]
    },
    {
     "name": "stdout",
     "output_type": "stream",
     "text": [
      "(1.0, -486.14488875119986 + 185.7135601831571"
     ]
    },
    {
     "name": "stderr",
     "output_type": "stream",
     "text": [
      "┌ Info: DMRG conv 1:\tobj = +4.861448887512e+02 -1.857135601832e+02im\terr = 1.0693529896e-15\ttime = 0.03 sec\n",
      "└ @ Main c:\\Users\\vicva\\OneDrive\\Documenten\\git\\Thesis_CCFT\\jl_notebook_cell_df34fa98e69747e1a8f8a730347b8e2f_W0sZmlsZQ==.jl:77\n",
      "┌ Info: DMRG init:\tobj = +4.428642671262e+02 -9.979937694603e+01im\terr = 2.2011e-02\n",
      "└ @ Main c:\\Users\\vicva\\OneDrive\\Documenten\\git\\Thesis_CCFT\\jl_notebook_cell_df34fa98e69747e1a8f8a730347b8e2f_W0sZmlsZQ==.jl:62\n",
      "┌ Info: DMRG conv 1:\tobj = +4.437316737823e+02 -9.225598126501e+01im\terr = 4.5204410909e-08\ttime = 0.03 sec\n",
      "└ @ Main c:\\Users\\vicva\\OneDrive\\Documenten\\git\\Thesis_CCFT\\jl_notebook_cell_df34fa98e69747e1a8f8a730347b8e2f_W0sZmlsZQ==.jl:77\n"
     ]
    },
    {
     "name": "stdout",
     "output_type": "stream",
     "text": [
      "im, -443.7316737823075 + 92.2559812650107im)\n",
      "486.14488875119986 - 185.7135601831571im\n",
      "ComplexF64[443.7316737823075 - 92.2559812650107im]\n"
     ]
    },
    {
     "name": "stderr",
     "output_type": "stream",
     "text": [
      "┌ Info: DMRG init:\tobj = +1.043934858795e+03 -5.804927430945e+02im\terr = 9.6858e-02\n",
      "└ @ Main c:\\Users\\vicva\\OneDrive\\Documenten\\git\\Thesis_CCFT\\jl_notebook_cell_df34fa98e69747e1a8f8a730347b8e2f_W0sZmlsZQ==.jl:62\n"
     ]
    },
    {
     "name": "stdout",
     "output_type": "stream",
     "text": [
      "("
     ]
    },
    {
     "name": "stderr",
     "output_type": "stream",
     "text": [
      "┌ Info: DMRG conv 1:\tobj = +1.062070649918e+03 -6.029636793500e+02im\terr = 1.3413290364e-08\ttime = 0.06 sec\n",
      "└ @ Main c:\\Users\\vicva\\OneDrive\\Documenten\\git\\Thesis_CCFT\\jl_notebook_cell_df34fa98e69747e1a8f8a730347b8e2f_W0sZmlsZQ==.jl:77\n",
      "┌ Info: DMRG init:\tobj = +7.225706619847e+02 -2.871302761967e+02im\terr = 1.5314e-01\n",
      "└ @ Main c:\\Users\\vicva\\OneDrive\\Documenten\\git\\Thesis_CCFT\\jl_notebook_cell_df34fa98e69747e1a8f8a730347b8e2f_W0sZmlsZQ==.jl:62\n",
      "┌ Info: DMRG conv 1:\tobj = +7.784257045671e+02 -3.713552973931e+02im\terr = 4.4779996377e-08\ttime = 0.05 sec\n",
      "└ @ Main c:\\Users\\vicva\\OneDrive\\Documenten\\git\\Thesis_CCFT\\jl_notebook_cell_df34fa98e69747e1a8f8a730347b8e2f_W0sZmlsZQ==.jl:77\n"
     ]
    },
    {
     "name": "stdout",
     "output_type": "stream",
     "text": [
      "1.0, -1062.070649917684 + 602.9636793499661im, -778.4257045670847 + 371.355297393146im)\n",
      "1062.070649917684 - 602.9636793499661im\n",
      "ComplexF64[778.4257045670847 - 371.355297393146im]\n"
     ]
    },
    {
     "name": "stderr",
     "output_type": "stream",
     "text": [
      "┌ Info: DMRG init:\tobj = +9.540604858966e+02 -5.402671961409e+02im\terr = 5.1337e-03\n",
      "└ @ Main c:\\Users\\vicva\\OneDrive\\Documenten\\git\\Thesis_CCFT\\jl_notebook_cell_df34fa98e69747e1a8f8a730347b8e2f_W0sZmlsZQ==.jl:62\n",
      "┌ Info: DMRG conv 1:\tobj = +9.540793287801e+02 -5.397758742513e+02im\terr = 9.3534832197e-10\ttime = 0.03 sec\n",
      "└ @ Main c:\\Users\\vicva\\OneDrive\\Documenten\\git\\Thesis_CCFT\\jl_notebook_cell_df34fa98e69747e1a8f8a730347b8e2f_W0sZmlsZQ==.jl:77\n",
      "┌ Info: DMRG init:\tobj = +7.113927813536e+02 -3.340442459460e+02im\terr = 1.0471e-02\n",
      "└ @ Main c:\\Users\\vicva\\OneDrive\\Documenten\\git\\Thesis_CCFT\\jl_notebook_cell_df34fa98e69747e1a8f8a730347b8e2f_W0sZmlsZQ==.jl:62\n",
      "┌ Info: DMRG conv 1:\tobj = +7.114550702361e+02 -3.305784013573e+02im\terr = 4.2704102790e-09\ttime = 0.05 sec\n",
      "└ @ Main c:\\Users\\vicva\\OneDrive\\Documenten\\git\\Thesis_CCFT\\jl_notebook_cell_df34fa98e69747e1a8f8a730347b8e2f_W0sZmlsZQ==.jl:77\n"
     ]
    },
    {
     "name": "stdout",
     "output_type": "stream",
     "text": [
      "(1.0, -954.0793287801351 + 539.7758742513391im, -711.4550702360995 + 330.57840135727065im)\n",
      "954.0793287801351 - 539.7758742513391im\n",
      "ComplexF64[711.4550702360995 - 330.57840135727065im]\n"
     ]
    },
    {
     "name": "stderr",
     "output_type": "stream",
     "text": [
      "┌ Info: DMRG init:\tobj = +8.573157396176e+02 -4.833829036162e+02im\terr = 5.8649e-03\n",
      "└ @ Main c:\\Users\\vicva\\OneDrive\\Documenten\\git\\Thesis_CCFT\\jl_notebook_cell_df34fa98e69747e1a8f8a730347b8e2f_W0sZmlsZQ==.jl:62\n",
      "┌ Info: DMRG conv 1:\tobj = +8.573216507856e+02 -4.828035616019e+02im\terr = 1.5700342279e-09\ttime = 0.03 sec\n",
      "└ @ Main c:\\Users\\vicva\\OneDrive\\Documenten\\git\\Thesis_CCFT\\jl_notebook_cell_df34fa98e69747e1a8f8a730347b8e2f_W0sZmlsZQ==.jl:77\n",
      "┌ Info: DMRG init:\tobj = +6.517587504840e+02 -2.972351603116e+02im\terr = 1.1640e-02\n",
      "└ @ Main c:\\Users\\vicva\\OneDrive\\Documenten\\git\\Thesis_CCFT\\jl_notebook_cell_df34fa98e69747e1a8f8a730347b8e2f_W0sZmlsZQ==.jl:62\n",
      "┌ Info: DMRG conv 1:\tobj = +6.517735868259e+02 -2.932101367972e+02im\terr = 6.7155474836e-09\ttime = 0.05 sec\n",
      "└ @ Main c:\\Users\\vicva\\OneDrive\\Documenten\\git\\Thesis_CCFT\\jl_notebook_cell_df34fa98e69747e1a8f8a730347b8e2f_W0sZmlsZQ==.jl:77\n"
     ]
    },
    {
     "name": "stdout",
     "output_type": "stream",
     "text": [
      "(1.0, -857.3216507855535 + 482.80356160188666im, -651.7735868259043 + 293.2101367972451im)\n",
      "857.3216507855535 - 482.80356160188666im\n",
      "ComplexF64[651.7735868259043 - 293.2101367972451im]\n"
     ]
    },
    {
     "name": "stderr",
     "output_type": "stream",
     "text": [
      "┌ Info: DMRG init:\tobj = +7.706787129269e+02 -4.320135210146e+02im\terr = 6.7773e-03\n",
      "└ @ Main c:\\Users\\vicva\\OneDrive\\Documenten\\git\\Thesis_CCFT\\jl_notebook_cell_df34fa98e69747e1a8f8a730347b8e2f_W0sZmlsZQ==.jl:62\n"
     ]
    },
    {
     "name": "stdout",
     "output_type": "stream",
     "text": [
      "(1.0"
     ]
    },
    {
     "name": "stderr",
     "output_type": "stream",
     "text": [
      "┌ Info: DMRG conv 1:\tobj = +7.706616932617e+02 -4.313217627563e+02im\terr = 2.7420215874e-09\ttime = 0.02 sec\n",
      "└ @ Main c:\\Users\\vicva\\OneDrive\\Documenten\\git\\Thesis_CCFT\\jl_notebook_cell_df34fa98e69747e1a8f8a730347b8e2f_W0sZmlsZQ==.jl:77\n",
      "┌ Info: DMRG init:\tobj = +5.988036981760e+02 -2.634561256424e+02im\terr = 1.2968e-02\n",
      "└ @ Main c:\\Users\\vicva\\OneDrive\\Documenten\\git\\Thesis_CCFT\\jl_notebook_cell_df34fa98e69747e1a8f8a730347b8e2f_W0sZmlsZQ==.jl:62\n",
      "┌ Info: DMRG conv 1:\tobj = +5.987708831079e+02 -2.587474412001e+02im\terr = 1.0250811151e-08\ttime = 0.05 sec\n",
      "└ @ Main c:\\Users\\vicva\\OneDrive\\Documenten\\git\\Thesis_CCFT\\jl_notebook_cell_df34fa98e69747e1a8f8a730347b8e2f_W0sZmlsZQ==.jl:77\n"
     ]
    },
    {
     "name": "stdout",
     "output_type": "stream",
     "text": [
      ", -770.6616932617361 + 431.321762756345im, -598.7708831079266 + 258.74744120013685im)\n",
      "770.6616932617361 - 431.321762756345im\n",
      "ComplexF64[598.7708831079266 - 258.74744120013685im]\n"
     ]
    },
    {
     "name": "stderr",
     "output_type": "stream",
     "text": [
      "┌ Info: DMRG init:\tobj = +6.931393531011e+02 -3.854930152892e+02im\terr = 7.9471e-03\n",
      "└ @ Main c:\\Users\\vicva\\OneDrive\\Documenten\\git\\Thesis_CCFT\\jl_notebook_cell_df34fa98e69747e1a8f8a730347b8e2f_W0sZmlsZQ==.jl:62\n",
      "┌ Info: DMRG conv 1:\tobj = +6.930806759502e+02 -3.846557484698e+02im\terr = 5.0555378763e-09\ttime = 0.01 sec\n",
      "└ @ Main c:\\Users\\vicva\\OneDrive\\Documenten\\git\\Thesis_CCFT\\jl_notebook_cell_df34fa98e69747e1a8f8a730347b8e2f_W0sZmlsZQ==.jl:77\n",
      "┌ Info: DMRG init:\tobj = +5.520080693075e+02 -2.322455095925e+02im\terr = 1.4471e-02\n",
      "└ @ Main c:\\Users\\vicva\\OneDrive\\Documenten\\git\\Thesis_CCFT\\jl_notebook_cell_df34fa98e69747e1a8f8a730347b8e2f_W0sZmlsZQ==.jl:62\n",
      "┌ Info: DMRG conv 1:\tobj = +5.519432734483e+02 -2.267043104287e+02im\terr = 1.4931363357e-08\ttime = 0.05 sec\n",
      "└ @ Main c:\\Users\\vicva\\OneDrive\\Documenten\\git\\Thesis_CCFT\\jl_notebook_cell_df34fa98e69747e1a8f8a730347b8e2f_W0sZmlsZQ==.jl:77\n"
     ]
    },
    {
     "name": "stdout",
     "output_type": "stream",
     "text": [
      "(1.0, -693.0806759501799 + 384.6557484697819im, -551.9432734482862 + 226.70431042869842im)\n",
      "693.0806759501799 - 384.6557484697819im\n",
      "ComplexF64[551.9432734482862 - 226.70431042869842im]\n"
     ]
    },
    {
     "name": "stderr",
     "output_type": "stream",
     "text": [
      "┌ Info: DMRG init:\tobj = +6.237952302369e+02 -3.431976210562e+02im\terr = 9.4913e-03\n",
      "└ @ Main c:\\Users\\vicva\\OneDrive\\Documenten\\git\\Thesis_CCFT\\jl_notebook_cell_df34fa98e69747e1a8f8a730347b8e2f_W0sZmlsZQ==.jl:62\n",
      "┌ Info: DMRG conv 1:\tobj = +6.236594654643e+02 -3.421691628050e+02im\terr = 1.0010223198e-08\ttime = 0.03 sec\n",
      "└ @ Main c:\\Users\\vicva\\OneDrive\\Documenten\\git\\Thesis_CCFT\\jl_notebook_cell_df34fa98e69747e1a8f8a730347b8e2f_W0sZmlsZQ==.jl:77\n",
      "┌ Info: DMRG init:\tobj = +5.109559435361e+02 -2.031530248192e+02im\terr = 1.6159e-02\n",
      "└ @ Main c:\\Users\\vicva\\OneDrive\\Documenten\\git\\Thesis_CCFT\\jl_notebook_cell_df34fa98e69747e1a8f8a730347b8e2f_W0sZmlsZQ==.jl:62\n"
     ]
    },
    {
     "name": "stdout",
     "output_type": "stream",
     "text": [
      "(1.0, -623.6594654642528 + 342.16916280498856im, -510.9096725308092 + 196.61400888194336im)\n",
      "623.6594654642528 - 342.16916280498856im\n",
      "ComplexF64[510.9096725308092 - 196.61400888194336im]\n"
     ]
    },
    {
     "name": "stderr",
     "output_type": "stream",
     "text": [
      "┌ Info: DMRG conv 1:\tobj = +5.109096725308e+02 -1.966140088819e+02im\terr = 2.2366144804e-08\ttime = 0.03 sec\n",
      "└ @ Main c:\\Users\\vicva\\OneDrive\\Documenten\\git\\Thesis_CCFT\\jl_notebook_cell_df34fa98e69747e1a8f8a730347b8e2f_W0sZmlsZQ==.jl:77\n",
      "┌ Info: DMRG init:\tobj = +5.618364113541e+02 -3.045357293918e+02im\terr = 1.1588e-02\n",
      "└ @ Main c:\\Users\\vicva\\OneDrive\\Documenten\\git\\Thesis_CCFT\\jl_notebook_cell_df34fa98e69747e1a8f8a730347b8e2f_W0sZmlsZQ==.jl:62\n",
      "┌ Info: DMRG conv 1:\tobj = +5.615562680695e+02 -3.032520360465e+02im\terr = 2.6261486788e-09\ttime = 0.03 sec\n",
      "└ @ Main c:\\Users\\vicva\\OneDrive\\Documenten\\git\\Thesis_CCFT\\jl_notebook_cell_df34fa98e69747e1a8f8a730347b8e2f_W0sZmlsZQ==.jl:77\n"
     ]
    },
    {
     "name": "stdout",
     "output_type": "stream",
     "text": [
      "(1.0, -561.5562680694823 + 303.25203604645105im, -475.4395667587036 + 168.05572038839108im)\n",
      "561.5562680694823 - 303.25203604645105im\n",
      "ComplexF64[475.4395667587036 - 168.05572038839108im]\n"
     ]
    },
    {
     "name": "stderr",
     "output_type": "stream",
     "text": [
      "┌ Info: DMRG init:\tobj = +4.753502548086e+02 -1.757394559448e+02im\terr = 1.8029e-02\n",
      "└ @ Main c:\\Users\\vicva\\OneDrive\\Documenten\\git\\Thesis_CCFT\\jl_notebook_cell_df34fa98e69747e1a8f8a730347b8e2f_W0sZmlsZQ==.jl:62\n",
      "┌ Info: DMRG conv 1:\tobj = +4.754395667587e+02 -1.680557203884e+02im\terr = 1.0983642528e-08\ttime = 0.05 sec\n",
      "└ @ Main c:\\Users\\vicva\\OneDrive\\Documenten\\git\\Thesis_CCFT\\jl_notebook_cell_df34fa98e69747e1a8f8a730347b8e2f_W0sZmlsZQ==.jl:77\n"
     ]
    },
    {
     "name": "stdout",
     "output_type": "stream",
     "text": [
      "("
     ]
    },
    {
     "name": "stderr",
     "output_type": "stream",
     "text": [
      "┌ Info: DMRG init:\tobj = +5.065258603028e+02 -2.689386803504e+02im\terr = 1.4501e-02\n",
      "└ @ Main c:\\Users\\vicva\\OneDrive\\Documenten\\git\\Thesis_CCFT\\jl_notebook_cell_df34fa98e69747e1a8f8a730347b8e2f_W0sZmlsZQ==.jl:62\n",
      "┌ Info: DMRG conv 1:\tobj = +5.059736685530e+02 -2.673093862122e+02im\terr = 9.0890948032e-09\ttime = 0.03 sec\n",
      "└ @ Main c:\\Users\\vicva\\OneDrive\\Documenten\\git\\Thesis_CCFT\\jl_notebook_cell_df34fa98e69747e1a8f8a730347b8e2f_W0sZmlsZQ==.jl:77\n",
      "┌ Info: DMRG init:\tobj = +4.450353331146e+02 -1.495974914621e+02im\terr = 2.0056e-02\n",
      "└ @ Main c:\\Users\\vicva\\OneDrive\\Documenten\\git\\Thesis_CCFT\\jl_notebook_cell_df34fa98e69747e1a8f8a730347b8e2f_W0sZmlsZQ==.jl:62\n",
      "┌ Info: DMRG conv 1:\tobj = +4.454749217172e+02 -1.407410243159e+02im\terr = 1.9158043936e-08\ttime = 0.04 sec\n",
      "└ @ Main c:\\Users\\vicva\\OneDrive\\Documenten\\git\\Thesis_CCFT\\jl_notebook_cell_df34fa98e69747e1a8f8a730347b8e2f_W0sZmlsZQ==.jl:77\n"
     ]
    },
    {
     "name": "stdout",
     "output_type": "stream",
     "text": [
      "1.0, -505.9736685530397 + 267.3093862122497im, -445.47492171721433 + 140.7410243158814im)\n",
      "505.9736685530397 - 267.3093862122497im\n",
      "ComplexF64[445.47492171721433 - 140.7410243158814im]\n"
     ]
    },
    {
     "name": "stderr",
     "output_type": "stream",
     "text": [
      "┌ Info: DMRG init:\tobj = +4.571695930107e+02 -2.358537782505e+02im\terr = 1.8594e-02\n",
      "└ @ Main c:\\Users\\vicva\\OneDrive\\Documenten\\git\\Thesis_CCFT\\jl_notebook_cell_df34fa98e69747e1a8f8a730347b8e2f_W0sZmlsZQ==.jl:62\n",
      "┌ Info: DMRG conv 1:\tobj = +4.561041152283e+02 -2.337536236467e+02im\terr = 2.7742292775e-08\ttime = 0.03 sec\n",
      "└ @ Main c:\\Users\\vicva\\OneDrive\\Documenten\\git\\Thesis_CCFT\\jl_notebook_cell_df34fa98e69747e1a8f8a730347b8e2f_W0sZmlsZQ==.jl:77\n",
      "┌ Info: DMRG init:\tobj = +4.200021637930e+02 -1.244271343812e+02im\terr = 2.2183e-02\n",
      "└ @ Main c:\\Users\\vicva\\OneDrive\\Documenten\\git\\Thesis_CCFT\\jl_notebook_cell_df34fa98e69747e1a8f8a730347b8e2f_W0sZmlsZQ==.jl:62\n"
     ]
    },
    {
     "name": "stdout",
     "output_type": "stream",
     "text": [
      "(1.0, -456.1041152282597 + 233.7536236467357im, -421.05634378937805 + 114.68807618873066im)\n",
      "456.1041152282597 - 233.7536236467357im\n",
      "ComplexF64[421.05634378937805 - 114.68807618873066im]\n"
     ]
    },
    {
     "name": "stderr",
     "output_type": "stream",
     "text": [
      "┌ Info: DMRG conv 1:\tobj = +4.210563437894e+02 -1.146880761887e+02im\terr = 3.6856938542e-08\ttime = 0.05 sec\n",
      "└ @ Main c:\\Users\\vicva\\OneDrive\\Documenten\\git\\Thesis_CCFT\\jl_notebook_cell_df34fa98e69747e1a8f8a730347b8e2f_W0sZmlsZQ==.jl:77\n",
      "┌ Info: DMRG init:\tobj = +9.744343567021e+02 -6.899674088215e+02im\terr = 9.0106e-02\n",
      "└ @ Main c:\\Users\\vicva\\OneDrive\\Documenten\\git\\Thesis_CCFT\\jl_notebook_cell_df34fa98e69747e1a8f8a730347b8e2f_W0sZmlsZQ==.jl:62\n",
      "┌ Info: DMRG conv 1:\tobj = +9.894163646918e+02 -7.132647482400e+02im\terr = 1.2055023323e-08\ttime = 0.03 sec\n",
      "└ @ Main c:\\Users\\vicva\\OneDrive\\Documenten\\git\\Thesis_CCFT\\jl_notebook_cell_df34fa98e69747e1a8f8a730347b8e2f_W0sZmlsZQ==.jl:77\n",
      "┌ Info: DMRG init:\tobj = +6.794873131226e+02 -3.392705137043e+02im\terr = 1.5348e-01\n",
      "└ @ Main c:\\Users\\vicva\\OneDrive\\Documenten\\git\\Thesis_CCFT\\jl_notebook_cell_df34fa98e69747e1a8f8a730347b8e2f_W0sZmlsZQ==.jl:62\n",
      "┌ Info: DMRG conv 1:\tobj = +7.318694886531e+02 -4.401075960957e+02im\terr = 6.8267207604e-08\ttime = 0.05 sec\n",
      "└ @ Main c:\\Users\\vicva\\OneDrive\\Documenten\\git\\Thesis_CCFT\\jl_notebook_cell_df34fa98e69747e1a8f8a730347b8e2f_W0sZmlsZQ==.jl:77\n"
     ]
    },
    {
     "name": "stdout",
     "output_type": "stream",
     "text": [
      "(1.0, -989.4163646918385 + 713.2647482400249im, -731.8694886530634 + 440.1075960957336im)\n",
      "989.4163646918385 - 713.2647482400249im\n",
      "ComplexF64[731.8694886530634 - 440.1075960957336im]\n"
     ]
    },
    {
     "name": "stderr",
     "output_type": "stream",
     "text": [
      "┌ Info: DMRG init:\tobj = +8.886360991626e+02 -6.391993642401e+02im\terr = 5.0147e-03\n",
      "└ @ Main c:\\Users\\vicva\\OneDrive\\Documenten\\git\\Thesis_CCFT\\jl_notebook_cell_df34fa98e69747e1a8f8a730347b8e2f_W0sZmlsZQ==.jl:62\n"
     ]
    },
    {
     "name": "stdout",
     "output_type": "stream",
     "text": [
      "(1.0, -888.6445447038791 + 638.6482887153259im, -668.917119426512 + 391.981615402375im)\n"
     ]
    },
    {
     "name": "stderr",
     "output_type": "stream",
     "text": [
      "┌ Info: DMRG conv 1:\tobj = +8.886445447039e+02 -6.386482887153e+02im\terr = 8.7725757733e-10\ttime = 0.03 sec\n",
      "└ @ Main c:\\Users\\vicva\\OneDrive\\Documenten\\git\\Thesis_CCFT\\jl_notebook_cell_df34fa98e69747e1a8f8a730347b8e2f_W0sZmlsZQ==.jl:77\n",
      "┌ Info: DMRG init:\tobj = +6.690030880210e+02 -3.959150129527e+02im\terr = 1.0187e-02\n",
      "└ @ Main c:\\Users\\vicva\\OneDrive\\Documenten\\git\\Thesis_CCFT\\jl_notebook_cell_df34fa98e69747e1a8f8a730347b8e2f_W0sZmlsZQ==.jl:62\n",
      "┌ Info: DMRG conv 1:\tobj = +6.689171194265e+02 -3.919816154024e+02im\terr = 5.0660907163e-09\ttime = 0.06 sec\n",
      "└ @ Main c:\\Users\\vicva\\OneDrive\\Documenten\\git\\Thesis_CCFT\\jl_notebook_cell_df34fa98e69747e1a8f8a730347b8e2f_W0sZmlsZQ==.jl:77\n"
     ]
    },
    {
     "name": "stdout",
     "output_type": "stream",
     "text": [
      "888.6445447038791 - 638.6482887153259im\n",
      "ComplexF64[668.917119426512 - 391.981615402375im]\n"
     ]
    },
    {
     "name": "stderr",
     "output_type": "stream",
     "text": [
      "┌ Info: DMRG init:\tobj = +7.982960413055e+02 -5.720576896256e+02im\terr = 5.7196e-03\n",
      "└ @ Main c:\\Users\\vicva\\OneDrive\\Documenten\\git\\Thesis_CCFT\\jl_notebook_cell_df34fa98e69747e1a8f8a730347b8e2f_W0sZmlsZQ==.jl:62\n",
      "┌ Info: DMRG conv 1:\tobj = +7.982878184247e+02 -5.714135394414e+02im\terr = 1.4406788200e-09\ttime = 0.03 sec\n",
      "└ @ Main c:\\Users\\vicva\\OneDrive\\Documenten\\git\\Thesis_CCFT\\jl_notebook_cell_df34fa98e69747e1a8f8a730347b8e2f_W0sZmlsZQ==.jl:77\n"
     ]
    },
    {
     "name": "stdout",
     "output_type": "stream",
     "text": [
      "(1.0, -798.2878184246734 + 571.4135394414352im, -612.6919741729345 + 347.914282482264im)\n",
      "798.2878184246734 - 571.4135394414352im\n",
      "ComplexF64[612.6919741729345 - 347.914282482264im]\n"
     ]
    },
    {
     "name": "stderr",
     "output_type": "stream",
     "text": [
      "┌ Info: DMRG init:\tobj = +6.128849266630e+02 -3.524786230695e+02im\terr = 1.1331e-02\n",
      "└ @ Main c:\\Users\\vicva\\OneDrive\\Documenten\\git\\Thesis_CCFT\\jl_notebook_cell_df34fa98e69747e1a8f8a730347b8e2f_W0sZmlsZQ==.jl:62\n",
      "┌ Info: DMRG conv 1:\tobj = +6.126919741729e+02 -3.479142824823e+02im\terr = 8.0270008096e-09\ttime = 0.30 sec\n",
      "└ @ Main c:\\Users\\vicva\\OneDrive\\Documenten\\git\\Thesis_CCFT\\jl_notebook_cell_df34fa98e69747e1a8f8a730347b8e2f_W0sZmlsZQ==.jl:77\n",
      "┌ Info: DMRG init:\tobj = +7.173086487614e+02 -5.114759943655e+02im\terr = 6.5975e-03\n",
      "└ @ Main c:\\Users\\vicva\\OneDrive\\Documenten\\git\\Thesis_CCFT\\jl_notebook_cell_df34fa98e69747e1a8f8a730347b8e2f_W0sZmlsZQ==.jl:62\n",
      "┌ Info: DMRG conv 1:\tobj = +7.172741981580e+02 -5.107161495214e+02im\terr = 2.4303834402e-09\ttime = 0.05 sec\n",
      "└ @ Main c:\\Users\\vicva\\OneDrive\\Documenten\\git\\Thesis_CCFT\\jl_notebook_cell_df34fa98e69747e1a8f8a730347b8e2f_W0sZmlsZQ==.jl:77\n",
      "┌ Info: DMRG init:\tobj = +5.629189109758e+02 -3.126527771586e+02im\terr = 1.2638e-02\n",
      "└ @ Main c:\\Users\\vicva\\OneDrive\\Documenten\\git\\Thesis_CCFT\\jl_notebook_cell_df34fa98e69747e1a8f8a730347b8e2f_W0sZmlsZQ==.jl:62\n",
      "┌ Info: DMRG conv 1:\tobj = +5.625999611568e+02 -3.073048279051e+02im\terr = 1.3249475610e-08\ttime = 0.05 sec\n",
      "└ @ Main c:\\Users\\vicva\\OneDrive\\Documenten\\git\\Thesis_CCFT\\jl_notebook_cell_df34fa98e69747e1a8f8a730347b8e2f_W0sZmlsZQ==.jl:77\n"
     ]
    },
    {
     "name": "stdout",
     "output_type": "stream",
     "text": [
      "(1.0, -717.2741981579865 + 510.7161495214213im, -562.5999611568461 + 307.30482790510155im)\n",
      "717.2741981579865 - 510.7161495214213im\n",
      "ComplexF64[562.5999611568461 - 307.30482790510155im]\n"
     ]
    },
    {
     "name": "stderr",
     "output_type": "stream",
     "text": [
      "┌ Info: DMRG init:\tobj = +6.447153426292e+02 -4.566817738983e+02im\terr = 7.7213e-03\n",
      "└ @ Main c:\\Users\\vicva\\OneDrive\\Documenten\\git\\Thesis_CCFT\\jl_notebook_cell_df34fa98e69747e1a8f8a730347b8e2f_W0sZmlsZQ==.jl:62\n"
     ]
    },
    {
     "name": "stdout",
     "output_type": "stream",
     "text": [
      "(1.0, -644.6377750458961 + 455.7780073464232im, -518.1437263733269 + 269.5568068830373im)\n",
      "644.6377750458961 - "
     ]
    },
    {
     "name": "stderr",
     "output_type": "stream",
     "text": [
      "┌ Info: DMRG conv 1:\tobj = +6.446377750459e+02 -4.557780073464e+02im\terr = 4.3384182910e-09\ttime = 0.03 sec\n",
      "└ @ Main c:\\Users\\vicva\\OneDrive\\Documenten\\git\\Thesis_CCFT\\jl_notebook_cell_df34fa98e69747e1a8f8a730347b8e2f_W0sZmlsZQ==.jl:77\n",
      "┌ Info: DMRG init:\tobj = +5.185958150368e+02 -2.758867090709e+02im\terr = 1.4131e-02\n",
      "└ @ Main c:\\Users\\vicva\\OneDrive\\Documenten\\git\\Thesis_CCFT\\jl_notebook_cell_df34fa98e69747e1a8f8a730347b8e2f_W0sZmlsZQ==.jl:62\n",
      "┌ Info: DMRG conv 1:\tobj = +5.181437263733e+02 -2.695568068830e+02im\terr = 2.1784196218e-08\ttime = 0.05 sec\n",
      "└ @ Main c:\\Users\\vicva\\OneDrive\\Documenten\\git\\Thesis_CCFT\\jl_notebook_cell_df34fa98e69747e1a8f8a730347b8e2f_W0sZmlsZQ==.jl:77\n"
     ]
    },
    {
     "name": "stdout",
     "output_type": "stream",
     "text": [
      "455.7780073464232im\n",
      "ComplexF64[518.1437263733269 - 269.5568068830373im]\n"
     ]
    },
    {
     "name": "stderr",
     "output_type": "stream",
     "text": [
      "┌ Info: DMRG init:\tobj = +5.796538461669e+02 -4.069602457728e+02im\terr = 9.2035e-03\n",
      "└ @ Main c:\\Users\\vicva\\OneDrive\\Documenten\\git\\Thesis_CCFT\\jl_notebook_cell_df34fa98e69747e1a8f8a730347b8e2f_W0sZmlsZQ==.jl:62\n",
      "┌ Info: DMRG conv 1:\tobj = +5.795025071572e+02 -4.058780093453e+02im\terr = 8.5894601484e-09\ttime = 0.05 sec\n",
      "└ @ Main c:\\Users\\vicva\\OneDrive\\Documenten\\git\\Thesis_CCFT\\jl_notebook_cell_df34fa98e69747e1a8f8a730347b8e2f_W0sZmlsZQ==.jl:77\n",
      "┌ Info: DMRG init:\tobj = +4.795022096535e+02 -2.416288053175e+02im\terr = 1.5833e-02\n",
      "└ @ Main c:\\Users\\vicva\\OneDrive\\Documenten\\git\\Thesis_CCFT\\jl_notebook_cell_df34fa98e69747e1a8f8a730347b8e2f_W0sZmlsZQ==.jl:62\n"
     ]
    },
    {
     "name": "stdout",
     "output_type": "stream",
     "text": [
      "(1.0, -579.502507157212 + 405.8780093453171im, -478.9479406136148 + 234.06052993074462im)\n",
      "579.502507157212 - 405.8780093453171im\n",
      "ComplexF64[478.9479406136148 - 234.06052993074462im]\n"
     ]
    },
    {
     "name": "stderr",
     "output_type": "stream",
     "text": [
      "┌ Info: DMRG conv 1:\tobj = +4.789479406136e+02 -2.340605299307e+02im\terr = 1.1012511307e-08\ttime = 0.05 sec\n",
      "└ @ Main c:\\Users\\vicva\\OneDrive\\Documenten\\git\\Thesis_CCFT\\jl_notebook_cell_df34fa98e69747e1a8f8a730347b8e2f_W0sZmlsZQ==.jl:77\n",
      "┌ Info: DMRG init:\tobj = +5.213440440974e+02 -3.616477707552e+02im\terr = 1.1216e-02\n",
      "└ @ Main c:\\Users\\vicva\\OneDrive\\Documenten\\git\\Thesis_CCFT\\jl_notebook_cell_df34fa98e69747e1a8f8a730347b8e2f_W0sZmlsZQ==.jl:62\n"
     ]
    },
    {
     "name": "stdout",
     "output_type": "stream",
     "text": [
      "(1.0"
     ]
    },
    {
     "name": "stderr",
     "output_type": "stream",
     "text": [
      "┌ Info: DMRG conv 1:\tobj = +5.210625202801e+02 -3.603464158572e+02im\terr = 1.9516992774e-09\ttime = 0.02 sec\n",
      "└ @ Main c:\\Users\\vicva\\OneDrive\\Documenten\\git\\Thesis_CCFT\\jl_notebook_cell_df34fa98e69747e1a8f8a730347b8e2f_W0sZmlsZQ==.jl:77\n",
      "┌ Info: DMRG init:\tobj = +4.453478366700e+02 -2.093079843356e+02im\terr = 1.7766e-02\n",
      "└ @ Main c:\\Users\\vicva\\OneDrive\\Documenten\\git\\Thesis_CCFT\\jl_notebook_cell_df34fa98e69747e1a8f8a730347b8e2f_W0sZmlsZQ==.jl:62\n",
      "┌ Info: DMRG conv 1:\tobj = +4.448258229830e+02 -2.001870497526e+02im\terr = 2.4168381224e-08\ttime = 0.06 sec\n",
      "└ @ Main c:\\Users\\vicva\\OneDrive\\Documenten\\git\\Thesis_CCFT\\jl_notebook_cell_df34fa98e69747e1a8f8a730347b8e2f_W0sZmlsZQ==.jl:77\n"
     ]
    },
    {
     "name": "stdout",
     "output_type": "stream",
     "text": [
      ", -521.0625202800637 + 360.3464158572273im, -444.8258229829577 + 200.1870497526391im)\n",
      "521.0625202800637 - 360.3464158572273im\n",
      "ComplexF64[444.8258229829577 - 200.1870497526391im]\n"
     ]
    },
    {
     "name": "stderr",
     "output_type": "stream",
     "text": [
      "┌ Info: DMRG init:\tobj = +4.690706403565e+02 -3.201304085919e+02im\terr = 1.4009e-02\n",
      "└ @ Main c:\\Users\\vicva\\OneDrive\\Documenten\\git\\Thesis_CCFT\\jl_notebook_cell_df34fa98e69747e1a8f8a730347b8e2f_W0sZmlsZQ==.jl:62\n"
     ]
    },
    {
     "name": "stdout",
     "output_type": "stream",
     "text": [
      "("
     ]
    },
    {
     "name": "stderr",
     "output_type": "stream",
     "text": [
      "┌ Info: DMRG conv 1:\tobj = +4.685551252870e+02 -3.185661440377e+02im\terr = 6.2042487434e-09\ttime = 0.03 sec\n",
      "└ @ Main c:\\Users\\vicva\\OneDrive\\Documenten\\git\\Thesis_CCFT\\jl_notebook_cell_df34fa98e69747e1a8f8a730347b8e2f_W0sZmlsZQ==.jl:77\n",
      "┌ Info: DMRG init:\tobj = +4.160324190943e+02 -1.783240032449e+02im\terr = 1.9942e-02\n",
      "└ @ Main c:\\Users\\vicva\\OneDrive\\Documenten\\git\\Thesis_CCFT\\jl_notebook_cell_df34fa98e69747e1a8f8a730347b8e2f_W0sZmlsZQ==.jl:62\n",
      "┌ Info: DMRG conv 1:\tobj = +4.159265417776e+02 -1.673609710857e+02im\terr = 1.3918810475e-08\ttime = 0.05 sec\n",
      "└ @ Main c:\\Users\\vicva\\OneDrive\\Documenten\\git\\Thesis_CCFT\\jl_notebook_cell_df34fa98e69747e1a8f8a730347b8e2f_W0sZmlsZQ==.jl:77\n"
     ]
    },
    {
     "name": "stdout",
     "output_type": "stream",
     "text": [
      "1.0, -468.555125286955 + 318.5661440376839im, -415.92654177762915 + 167.36097108567736im)\n",
      "468.555125286955 - 318.5661440376839im\n",
      "ComplexF64[415.92654177762915 - 167.36097108567736im]\n"
     ]
    },
    {
     "name": "stderr",
     "output_type": "stream",
     "text": [
      "┌ Info: DMRG init:\tobj = +4.221587824057e+02 -2.818517623148e+02im\terr = 1.7930e-02\n",
      "└ @ Main c:\\Users\\vicva\\OneDrive\\Documenten\\git\\Thesis_CCFT\\jl_notebook_cell_df34fa98e69747e1a8f8a730347b8e2f_W0sZmlsZQ==.jl:62\n",
      "┌ Info: DMRG conv 1:\tobj = +4.212212093789e+02 -2.799881300329e+02im\terr = 1.7073324462e-08\ttime = 0.03 sec\n",
      "└ @ Main c:\\Users\\vicva\\OneDrive\\Documenten\\git\\Thesis_CCFT\\jl_notebook_cell_df34fa98e69747e1a8f8a730347b8e2f_W0sZmlsZQ==.jl:77\n",
      "┌ Info: DMRG init:\tobj = +3.917825063841e+02 -1.481089455373e+02im\terr = 2.2347e-02\n",
      "└ @ Main c:\\Users\\vicva\\OneDrive\\Documenten\\git\\Thesis_CCFT\\jl_notebook_cell_df34fa98e69747e1a8f8a730347b8e2f_W0sZmlsZQ==.jl:62\n"
     ]
    },
    {
     "name": "stdout",
     "output_type": "stream",
     "text": [
      "(1.0, -421.2212093788612 + 279.98813003286796im, -392.89292517358894 + 135.45016188877742im)\n",
      "421.2212093788612 - 279.98813003286796im\n",
      "ComplexF64[392.89292517358894 - 135.45016188877742im]\n"
     ]
    },
    {
     "name": "stderr",
     "output_type": "stream",
     "text": [
      "┌ Info: DMRG conv 1:\tobj = +3.928929251736e+02 -1.354501618888e+02im\terr = 3.7250247319e-08\ttime = 0.05 sec\n",
      "└ @ Main c:\\Users\\vicva\\OneDrive\\Documenten\\git\\Thesis_CCFT\\jl_notebook_cell_df34fa98e69747e1a8f8a730347b8e2f_W0sZmlsZQ==.jl:77\n",
      "┌ Info: DMRG init:\tobj = +8.930879916487e+02 -7.918801572703e+02im\terr = 8.3832e-02\n",
      "└ @ Main c:\\Users\\vicva\\OneDrive\\Documenten\\git\\Thesis_CCFT\\jl_notebook_cell_df34fa98e69747e1a8f8a730347b8e2f_W0sZmlsZQ==.jl:62\n",
      "┌ Info: DMRG conv 1:\tobj = +9.051765656483e+02 -8.152772580864e+02im\terr = 1.0639555550e-08\ttime = 0.02 sec\n",
      "└ @ Main c:\\Users\\vicva\\OneDrive\\Documenten\\git\\Thesis_CCFT\\jl_notebook_cell_df34fa98e69747e1a8f8a730347b8e2f_W0sZmlsZQ==.jl:77\n",
      "┌ Info: DMRG init:\tobj = +6.274784026732e+02 -3.859141456286e+02im\terr = 1.5380e-01\n",
      "└ @ Main c:\\Users\\vicva\\OneDrive\\Documenten\\git\\Thesis_CCFT\\jl_notebook_cell_df34fa98e69747e1a8f8a730347b8e2f_W0sZmlsZQ==.jl:62\n"
     ]
    },
    {
     "name": "stdout",
     "output_type": "stream",
     "text": [
      "(1.0, -905.1765656483431 + 815.277258086416im"
     ]
    },
    {
     "name": "stderr",
     "output_type": "stream",
     "text": [
      "┌ Info: DMRG conv 1:\tobj = +6.779173862428e+02 -5.041855336378e+02im\terr = 9.9977699384e-08\ttime = 0.11 sec\n",
      "└ @ Main c:\\Users\\vicva\\OneDrive\\Documenten\\git\\Thesis_CCFT\\jl_notebook_cell_df34fa98e69747e1a8f8a730347b8e2f_W0sZmlsZQ==.jl:77\n"
     ]
    },
    {
     "name": "stdout",
     "output_type": "stream",
     "text": [
      ", -677.9173862428335 + 504.18553363777187im)\n",
      "905.1765656483431 - 815.277258086416im\n",
      "ComplexF64[677.9173862428335 - 504.18553363777187im]\n"
     ]
    },
    {
     "name": "stderr",
     "output_type": "stream",
     "text": [
      "┌ Info: DMRG init:\tobj = +8.128161116454e+02 -7.307469561890e+02im\terr = 4.8816e-03\n",
      "└ @ Main c:\\Users\\vicva\\OneDrive\\Documenten\\git\\Thesis_CCFT\\jl_notebook_cell_df34fa98e69747e1a8f8a730347b8e2f_W0sZmlsZQ==.jl:62\n"
     ]
    },
    {
     "name": "stdout",
     "output_type": "stream",
     "text": [
      "(1.0,"
     ]
    },
    {
     "name": "stderr",
     "output_type": "stream",
     "text": [
      "┌ Info: DMRG conv 1:\tobj = +8.128148479504e+02 -7.301518703091e+02im\terr = 7.8629037218e-10\ttime = 0.06 sec\n",
      "└ @ Main c:\\Users\\vicva\\OneDrive\\Documenten\\git\\Thesis_CCFT\\jl_notebook_cell_df34fa98e69747e1a8f8a730347b8e2f_W0sZmlsZQ==.jl:77\n",
      "┌ Info: DMRG init:\tobj = +6.199116327852e+02 -4.535959385177e+02im\terr = 9.8646e-03\n",
      "└ @ Main c:\\Users\\vicva\\OneDrive\\Documenten\\git\\Thesis_CCFT\\jl_notebook_cell_df34fa98e69747e1a8f8a730347b8e2f_W0sZmlsZQ==.jl:62\n",
      "┌ Info: DMRG conv 1:\tobj = +6.196666720936e+02 -4.493297241553e+02im\terr = 5.5679172650e-09\ttime = 0.05 sec\n",
      "└ @ Main c:\\Users\\vicva\\OneDrive\\Documenten\\git\\Thesis_CCFT\\jl_notebook_cell_df34fa98e69747e1a8f8a730347b8e2f_W0sZmlsZQ==.jl:77\n"
     ]
    },
    {
     "name": "stdout",
     "output_type": "stream",
     "text": [
      " -812.8148479503938 + 730.1518703091181im, -619.6666720936129 + 449.3297241553373im)\n",
      "812.8148479503938 - 730.1518703091181im\n",
      "ComplexF64[619.6666720936129 - 449.3297241553373im]\n"
     ]
    },
    {
     "name": "stderr",
     "output_type": "stream",
     "text": [
      "┌ Info: DMRG init:\tobj = +7.299487588788e+02 -6.541884114861e+02im\terr = 5.5607e-03\n",
      "└ @ Main c:\\Users\\vicva\\OneDrive\\Documenten\\git\\Thesis_CCFT\\jl_notebook_cell_df34fa98e69747e1a8f8a730347b8e2f_W0sZmlsZQ==.jl:62\n",
      "┌ Info: DMRG conv 1:\tobj = +7.299285872436e+02 -6.534971463924e+02im\terr = 1.2332808933e-09\ttime = 0.03 sec\n",
      "└ @ Main c:\\Users\\vicva\\OneDrive\\Documenten\\git\\Thesis_CCFT\\jl_notebook_cell_df34fa98e69747e1a8f8a730347b8e2f_W0sZmlsZQ==.jl:77\n",
      "┌ Info: DMRG init:\tobj = +5.679144585699e+02 -4.040954418194e+02im\terr = 1.0976e-02\n",
      "└ @ Main c:\\Users\\vicva\\OneDrive\\Documenten\\git\\Thesis_CCFT\\jl_notebook_cell_df34fa98e69747e1a8f8a730347b8e2f_W0sZmlsZQ==.jl:62\n",
      "┌ Info: DMRG conv 1:\tobj = +5.674929079858e+02 -3.991613342683e+02im\terr = 9.0192480183e-09\ttime = 0.05 sec\n",
      "└ @ Main c:\\Users\\vicva\\OneDrive\\Documenten\\git\\Thesis_CCFT\\jl_notebook_cell_df34fa98e69747e1a8f8a730347b8e2f_W0sZmlsZQ==.jl:77\n"
     ]
    },
    {
     "name": "stdout",
     "output_type": "stream",
     "text": [
      "(1.0, -729.9285872436274 + 653.4971463923662im, -567.4929079858193 + 399.1613342683393im)\n",
      "729.9285872436274 - 653.4971463923662im\n",
      "ComplexF64[567.4929079858193 - 399.1613342683393im]\n"
     ]
    },
    {
     "name": "stderr",
     "output_type": "stream",
     "text": [
      "┌ Info: DMRG init:\tobj = +6.555708756393e+02 -5.851697516046e+02im\terr = 6.4073e-03\n",
      "└ @ Main c:\\Users\\vicva\\OneDrive\\Documenten\\git\\Thesis_CCFT\\jl_notebook_cell_df34fa98e69747e1a8f8a730347b8e2f_W0sZmlsZQ==.jl:62\n"
     ]
    },
    {
     "name": "stdout",
     "output_type": "stream",
     "text": [
      "("
     ]
    },
    {
     "name": "stderr",
     "output_type": "stream",
     "text": [
      "┌ Info: DMRG conv 1:\tobj = +6.555245731500e+02 -5.843606980872e+02im\terr = 1.9151428592e-09\ttime = 0.03 sec\n",
      "└ @ Main c:\\Users\\vicva\\OneDrive\\Documenten\\git\\Thesis_CCFT\\jl_notebook_cell_df34fa98e69747e1a8f8a730347b8e2f_W0sZmlsZQ==.jl:77\n",
      "┌ Info: DMRG init:\tobj = +5.214589679873e+02 -3.587694575284e+02im\terr = 1.2250e-02\n",
      "└ @ Main c:\\Users\\vicva\\OneDrive\\Documenten\\git\\Thesis_CCFT\\jl_notebook_cell_df34fa98e69747e1a8f8a730347b8e2f_W0sZmlsZQ==.jl:62\n",
      "┌ Info: DMRG conv 1:\tobj = +5.208125782975e+02 -3.529984352868e+02im\terr = 1.6469295179e-08\ttime = 0.08 sec\n",
      "└ @ Main c:\\Users\\vicva\\OneDrive\\Documenten\\git\\Thesis_CCFT\\jl_notebook_cell_df34fa98e69747e1a8f8a730347b8e2f_W0sZmlsZQ==.jl:77\n"
     ]
    },
    {
     "name": "stdout",
     "output_type": "stream",
     "text": [
      "1.0, -655.5245731499996 + 584.3606980872371im, -520.8125782974837 + 352.9984352867789im)\n",
      "655.5245731499996 - 584.3606980872371im\n",
      "ComplexF64[520.8125782974837 - 352.9984352867789im]\n"
     ]
    },
    {
     "name": "stderr",
     "output_type": "stream",
     "text": [
      "┌ Info: DMRG init:\tobj = +5.887893440411e+02 -5.228227967800e+02im\terr = 7.4930e-03\n",
      "└ @ Main c:\\Users\\vicva\\OneDrive\\Documenten\\git\\Thesis_CCFT\\jl_notebook_cell_df34fa98e69747e1a8f8a730347b8e2f_W0sZmlsZQ==.jl:62\n",
      "┌ Info: DMRG conv 1:\tobj = +5.887056067167e+02 -5.218705062953e+02im\terr = 3.0874464839e-09\ttime = 0.03 sec\n",
      "└ @ Main c:\\Users\\vicva\\OneDrive\\Documenten\\git\\Thesis_CCFT\\jl_notebook_cell_df34fa98e69747e1a8f8a730347b8e2f_W0sZmlsZQ==.jl:77\n"
     ]
    },
    {
     "name": "stdout",
     "output_type": "stream",
     "text": [
      "(1.0, -588.7056067167077 + 521.8705062952876im, -479.1128584189085 + 310.15296389748096im)\n",
      "588.7056067167077 - 521.8705062952876im\n",
      "ComplexF64[479.1128584189085 - 310.15296389748096im]\n"
     ]
    },
    {
     "name": "stderr",
     "output_type": "stream",
     "text": [
      "┌ Info: DMRG init:\tobj = +4.800379374873e+02 -3.169940845351e+02im\terr = 1.3717e-02\n",
      "└ @ Main c:\\Users\\vicva\\OneDrive\\Documenten\\git\\Thesis_CCFT\\jl_notebook_cell_df34fa98e69747e1a8f8a730347b8e2f_W0sZmlsZQ==.jl:62\n",
      "┌ Info: DMRG conv 1:\tobj = +4.791128584189e+02 -3.101529638975e+02im\terr = 7.7663023225e-09\ttime = 0.05 sec\n",
      "└ @ Main c:\\Users\\vicva\\OneDrive\\Documenten\\git\\Thesis_CCFT\\jl_notebook_cell_df34fa98e69747e1a8f8a730347b8e2f_W0sZmlsZQ==.jl:77\n",
      "┌ Info: DMRG init:\tobj = +5.287977177881e+02 -4.663505586403e+02im\terr = 8.9297e-03\n",
      "└ @ Main c:\\Users\\vicva\\OneDrive\\Documenten\\git\\Thesis_CCFT\\jl_notebook_cell_df34fa98e69747e1a8f8a730347b8e2f_W0sZmlsZQ==.jl:62\n",
      "┌ Info: DMRG conv 1:\tobj = +5.286578131331e+02 -4.652268745173e+02im\terr = 6.0234598225e-09\ttime = 0.01 sec\n",
      "└ @ Main c:\\Users\\vicva\\OneDrive\\Documenten\\git\\Thesis_CCFT\\jl_notebook_cell_df34fa98e69747e1a8f8a730347b8e2f_W0sZmlsZQ==.jl:77\n"
     ]
    },
    {
     "name": "stdout",
     "output_type": "stream",
     "text": [
      "(1.0, -528.6578131330631 + 465.2268745173359im, -441.965329596478 + 269.88596500532674im)\n",
      "528.6578131330631 - 465.2268745173359im\n",
      "ComplexF64[441.965329596478"
     ]
    },
    {
     "name": "stderr",
     "output_type": "stream",
     "text": [
      "┌ Info: DMRG init:\tobj = +4.432147763506e+02 -2.781351031834e+02im\terr = 1.5411e-02\n",
      "└ @ Main c:\\Users\\vicva\\OneDrive\\Documenten\\git\\Thesis_CCFT\\jl_notebook_cell_df34fa98e69747e1a8f8a730347b8e2f_W0sZmlsZQ==.jl:62\n",
      "┌ Info: DMRG conv 1:\tobj = +4.419653295965e+02 -2.698859650053e+02im\terr = 1.8021620013e-08\ttime = 0.05 sec\n",
      "└ @ Main c:\\Users\\vicva\\OneDrive\\Documenten\\git\\Thesis_CCFT\\jl_notebook_cell_df34fa98e69747e1a8f8a730347b8e2f_W0sZmlsZQ==.jl:77\n"
     ]
    },
    {
     "name": "stdout",
     "output_type": "stream",
     "text": [
      " - 269.88596500532674im]\n"
     ]
    },
    {
     "name": "stderr",
     "output_type": "stream",
     "text": [
      "┌ Info: DMRG init:\tobj = +4.748658836600e+02 -4.150224279043e+02im\terr = 1.0889e-02\n",
      "└ @ Main c:\\Users\\vicva\\OneDrive\\Documenten\\git\\Thesis_CCFT\\jl_notebook_cell_df34fa98e69747e1a8f8a730347b8e2f_W0sZmlsZQ==.jl:62\n",
      "┌ Info: DMRG conv 1:\tobj = +4.746372922013e+02 -4.137000674924e+02im\terr = 1.4881757939e-08\ttime = 0.02 sec\n",
      "└ @ Main c:\\Users\\vicva\\OneDrive\\Documenten\\git\\Thesis_CCFT\\jl_notebook_cell_df34fa98e69747e1a8f8a730347b8e2f_W0sZmlsZQ==.jl:77\n",
      "┌ Info: DMRG init:\tobj = +4.106417838626e+02 -2.415046926758e+02im\terr = 1.7382e-02\n",
      "└ @ Main c:\\Users\\vicva\\OneDrive\\Documenten\\git\\Thesis_CCFT\\jl_notebook_cell_df34fa98e69747e1a8f8a730347b8e2f_W0sZmlsZQ==.jl:62\n"
     ]
    },
    {
     "name": "stdout",
     "output_type": "stream",
     "text": [
      "(1.0, -474.63729220133195 + 413.7000674924292im, -409.0843613418405 + 231.32327776487676im)\n",
      "474.63729220133195 - 413.7000674924292im\n",
      "ComplexF64[409.0843613418405 - 231.32327776487676im]\n"
     ]
    },
    {
     "name": "stderr",
     "output_type": "stream",
     "text": [
      "┌ Info: DMRG conv 1:\tobj = +4.090843613418e+02 -2.313232777649e+02im\terr = 1.2510407592e-08\ttime = 0.05 sec\n",
      "└ @ Main c:\\Users\\vicva\\OneDrive\\Documenten\\git\\Thesis_CCFT\\jl_notebook_cell_df34fa98e69747e1a8f8a730347b8e2f_W0sZmlsZQ==.jl:77\n",
      "┌ Info: DMRG init:\tobj = +4.263298176204e+02 -3.681769150832e+02im\terr = 1.3622e-02\n",
      "└ @ Main c:\\Users\\vicva\\OneDrive\\Documenten\\git\\Thesis_CCFT\\jl_notebook_cell_df34fa98e69747e1a8f8a730347b8e2f_W0sZmlsZQ==.jl:62\n",
      "┌ Info: DMRG conv 1:\tobj = +4.259546995497e+02 -3.666378971666e+02im\terr = 4.2435613332e-09\ttime = 0.03 sec\n",
      "└ @ Main c:\\Users\\vicva\\OneDrive\\Documenten\\git\\Thesis_CCFT\\jl_notebook_cell_df34fa98e69747e1a8f8a730347b8e2f_W0sZmlsZQ==.jl:77\n"
     ]
    },
    {
     "name": "stdout",
     "output_type": "stream",
     "text": [
      "(1.0, -425.95469954966796"
     ]
    },
    {
     "name": "stderr",
     "output_type": "stream",
     "text": [
      "┌ Info: DMRG init:\tobj = +3.821274394601e+02 -2.062798340929e+02im\terr = 1.9699e-02\n",
      "└ @ Main c:\\Users\\vicva\\OneDrive\\Documenten\\git\\Thesis_CCFT\\jl_notebook_cell_df34fa98e69747e1a8f8a730347b8e2f_W0sZmlsZQ==.jl:62\n",
      "┌ Info: DMRG conv 1:\tobj = +3.805668862874e+02 -1.932971852366e+02im\terr = 3.7204163812e-08\ttime = 0.06 sec\n",
      "└ @ Main c:\\Users\\vicva\\OneDrive\\Documenten\\git\\Thesis_CCFT\\jl_notebook_cell_df34fa98e69747e1a8f8a730347b8e2f_W0sZmlsZQ==.jl:77\n"
     ]
    },
    {
     "name": "stdout",
     "output_type": "stream",
     "text": [
      " + 366.6378971666162im, -380.5668862874273 + 193.29718523660267im)\n",
      "425.95469954966796 - 366.6378971666162im\n",
      "ComplexF64[380.5668862874273 - 193.29718523660267im]\n"
     ]
    },
    {
     "name": "stderr",
     "output_type": "stream",
     "text": [
      "┌ Info: DMRG init:\tobj = +3.825802155060e+02 -3.252370176705e+02im\terr = 1.7474e-02\n",
      "└ @ Main c:\\Users\\vicva\\OneDrive\\Documenten\\git\\Thesis_CCFT\\jl_notebook_cell_df34fa98e69747e1a8f8a730347b8e2f_W0sZmlsZQ==.jl:62\n",
      "┌ Info: DMRG conv 1:\tobj = +3.819565168964e+02 -3.234899169519e+02im\terr = 1.1444678567e-08\ttime = 0.03 sec\n",
      "└ @ Main c:\\Users\\vicva\\OneDrive\\Documenten\\git\\Thesis_CCFT\\jl_notebook_cell_df34fa98e69747e1a8f8a730347b8e2f_W0sZmlsZQ==.jl:77\n"
     ]
    },
    {
     "name": "stdout",
     "output_type": "stream",
     "text": [
      "("
     ]
    },
    {
     "name": "stderr",
     "output_type": "stream",
     "text": [
      "┌ Info: DMRG init:\tobj = +3.578941912411e+02 -1.713479401252e+02im\terr = 2.2465e-02\n",
      "└ @ Main c:\\Users\\vicva\\OneDrive\\Documenten\\git\\Thesis_CCFT\\jl_notebook_cell_df34fa98e69747e1a8f8a730347b8e2f_W0sZmlsZQ==.jl:62\n",
      "┌ Info: DMRG conv 1:\tobj = +3.579251632971e+02 -1.544195892955e+02im\terr = 4.5132437590e-08\ttime = 0.06 sec\n",
      "└ @ Main c:\\Users\\vicva\\OneDrive\\Documenten\\git\\Thesis_CCFT\\jl_notebook_cell_df34fa98e69747e1a8f8a730347b8e2f_W0sZmlsZQ==.jl:77\n"
     ]
    },
    {
     "name": "stdout",
     "output_type": "stream",
     "text": [
      "1.0, -381.9565168963977 + 323.4899169519146im, -357.92516329706143 + 154.41958929550833im)\n",
      "381.9565168963977 - 323.4899169519146im\n",
      "ComplexF64[357.92516329706143 - 154.41958929550833im]\n"
     ]
    },
    {
     "name": "stderr",
     "output_type": "stream",
     "text": [
      "┌ Info: DMRG init:\tobj = +8.008058117180e+02 -8.845782686390e+02im\terr = 7.8473e-02\n",
      "└ @ Main c:\\Users\\vicva\\OneDrive\\Documenten\\git\\Thesis_CCFT\\jl_notebook_cell_df34fa98e69747e1a8f8a730347b8e2f_W0sZmlsZQ==.jl:62\n",
      "┌ Info: DMRG conv 1:\tobj = +8.103795516572e+02 -9.077924970711e+02im\terr = 9.3861171311e-09\ttime = 0.03 sec\n",
      "└ @ Main c:\\Users\\vicva\\OneDrive\\Documenten\\git\\Thesis_CCFT\\jl_notebook_cell_df34fa98e69747e1a8f8a730347b8e2f_W0sZmlsZQ==.jl:77\n",
      "┌ Info: DMRG init:\tobj = +5.659841793192e+02 -4.265060232447e+02im\terr = 1.5394e-01\n",
      "└ @ Main c:\\Users\\vicva\\OneDrive\\Documenten\\git\\Thesis_CCFT\\jl_notebook_cell_df34fa98e69747e1a8f8a730347b8e2f_W0sZmlsZQ==.jl:62\n"
     ]
    },
    {
     "name": "stdout",
     "output_type": "stream",
     "text": [
      "(1.0, -810.379551657212 + 907.7924970710886im, -617.2467576972874 + 562.8798760985629im)\n",
      "810.379551657212 - 907.7924970710886im\n",
      "ComplexF64[617.2467576972874 - 562.8798760985629im]\n"
     ]
    },
    {
     "name": "stderr",
     "output_type": "stream",
     "text": [
      "┌ Info: DMRG conv 1:\tobj = +6.172467576973e+02 -5.628798760986e+02im\terr = 1.0921634659e-07\ttime = 0.03 sec\n",
      "└ @ Main c:\\Users\\vicva\\OneDrive\\Documenten\\git\\Thesis_CCFT\\jl_notebook_cell_df34fa98e69747e1a8f8a730347b8e2f_W0sZmlsZQ==.jl:77\n",
      "┌ Info: DMRG init:\tobj = +7.275393652960e+02 -8.138239138492e+02im\terr = 4.7361e-03\n",
      "└ @ Main c:\\Users\\vicva\\OneDrive\\Documenten\\git\\Thesis_CCFT\\jl_notebook_cell_df34fa98e69747e1a8f8a730347b8e2f_W0sZmlsZQ==.jl:62\n",
      "┌ Info: DMRG conv 1:\tobj = +7.275278328494e+02 -8.132000154517e+02im\terr = 6.8906907747e-10\ttime = 0.03 sec\n",
      "└ @ Main c:\\Users\\vicva\\OneDrive\\Documenten\\git\\Thesis_CCFT\\jl_notebook_cell_df34fa98e69747e1a8f8a730347b8e2f_W0sZmlsZQ==.jl:77\n"
     ]
    },
    {
     "name": "stdout",
     "output_type": "stream",
     "text": [
      "(1.0, -727.5278328493573 + 813.2000154517382im, -564.350926988686 + 501.99412246338363im)\n",
      "727.5278328493573 - 813.2000154517382im\n",
      "ComplexF64[564.350926988686 - 501.99412246338363im]\n"
     ]
    },
    {
     "name": "stderr",
     "output_type": "stream",
     "text": [
      "┌ Info: DMRG init:\tobj = +5.647499782146e+02 -5.064505945075e+02im\terr = 9.5223e-03\n",
      "└ @ Main c:\\Users\\vicva\\OneDrive\\Documenten\\git\\Thesis_CCFT\\jl_notebook_cell_df34fa98e69747e1a8f8a730347b8e2f_W0sZmlsZQ==.jl:62\n",
      "┌ Info: DMRG conv 1:\tobj = +5.643509269887e+02 -5.019941224634e+02im\terr = 4.7825860950e-09\ttime = 0.05 sec\n",
      "└ @ Main c:\\Users\\vicva\\OneDrive\\Documenten\\git\\Thesis_CCFT\\jl_notebook_cell_df34fa98e69747e1a8f8a730347b8e2f_W0sZmlsZQ==.jl:77\n",
      "┌ Info: DMRG init:\tobj = +6.531357120712e+02 -7.287980950148e+02im\terr = 5.3907e-03\n",
      "└ @ Main c:\\Users\\vicva\\OneDrive\\Documenten\\git\\Thesis_CCFT\\jl_notebook_cell_df34fa98e69747e1a8f8a730347b8e2f_W0sZmlsZQ==.jl:62\n",
      "┌ Info: DMRG conv 1:\tobj = +6.531031017142e+02 -7.280757874759e+02im\terr = 1.0309482779e-09\ttime = 0.03 sec\n",
      "└ @ Main c:\\Users\\vicva\\OneDrive\\Documenten\\git\\Thesis_CCFT\\jl_notebook_cell_df34fa98e69747e1a8f8a730347b8e2f_W0sZmlsZQ==.jl:77\n"
     ]
    },
    {
     "name": "stdout",
     "output_type": "stream",
     "text": [
      "(1.0, -653.1031017141758 + 728.0757874759408im, -516.8118853455716 + 446.40230589774984im)\n",
      "653.1031017141758 - 728.0757874759408"
     ]
    },
    {
     "name": "stderr",
     "output_type": "stream",
     "text": [
      "┌ Info: DMRG init:\tobj = +5.174581208987e+02 -4.515222495819e+02im\terr = 1.0594e-02\n",
      "└ @ Main c:\\Users\\vicva\\OneDrive\\Documenten\\git\\Thesis_CCFT\\jl_notebook_cell_df34fa98e69747e1a8f8a730347b8e2f_W0sZmlsZQ==.jl:62\n",
      "┌ Info: DMRG conv 1:\tobj = +5.168118853456e+02 -4.464023058977e+02im\terr = 9.2576038681e-09\ttime = 0.05 sec\n",
      "└ @ Main c:\\Users\\vicva\\OneDrive\\Documenten\\git\\Thesis_CCFT\\jl_notebook_cell_df34fa98e69747e1a8f8a730347b8e2f_W0sZmlsZQ==.jl:77\n"
     ]
    },
    {
     "name": "stdout",
     "output_type": "stream",
     "text": [
      "im\n",
      "ComplexF64[516.8118853455716 - 446.40230589774984im]\n"
     ]
    },
    {
     "name": "stderr",
     "output_type": "stream",
     "text": [
      "┌ Info: DMRG init:\tobj = +5.862619064224e+02 -6.522140717426e+02im\terr = 6.2100e-03\n",
      "└ @ Main c:\\Users\\vicva\\OneDrive\\Documenten\\git\\Thesis_CCFT\\jl_notebook_cell_df34fa98e69747e1a8f8a730347b8e2f_W0sZmlsZQ==.jl:62\n",
      "┌ Info: DMRG conv 1:\tobj = +5.862038035059e+02 -6.513708951118e+02im\terr = 1.4208272938e-09\ttime = 0.02 sec\n",
      "└ @ Main c:\\Users\\vicva\\OneDrive\\Documenten\\git\\Thesis_CCFT\\jl_notebook_cell_df34fa98e69747e1a8f8a730347b8e2f_W0sZmlsZQ==.jl:77\n",
      "┌ Info: DMRG init:\tobj = +4.750327339285e+02 -4.013152767913e+02im\terr = 1.1828e-02\n",
      "└ @ Main c:\\Users\\vicva\\OneDrive\\Documenten\\git\\Thesis_CCFT\\jl_notebook_cell_df34fa98e69747e1a8f8a730347b8e2f_W0sZmlsZQ==.jl:62\n"
     ]
    },
    {
     "name": "stdout",
     "output_type": "stream",
     "text": [
      "(1.0,"
     ]
    },
    {
     "name": "stderr",
     "output_type": "stream",
     "text": [
      "┌ Info: DMRG conv 1:\tobj = +4.740577356804e+02 -3.953671090895e+02im\terr = 5.3749717700e-09\ttime = 0.08 sec\n",
      "└ @ Main c:\\Users\\vicva\\OneDrive\\Documenten\\git\\Thesis_CCFT\\jl_notebook_cell_df34fa98e69747e1a8f8a730347b8e2f_W0sZmlsZQ==.jl:77\n"
     ]
    },
    {
     "name": "stdout",
     "output_type": "stream",
     "text": [
      " -586.2038035059423 + 651.3708951117736im, -474.0577356803519 + 395.3671090895292im)\n",
      "586.2038035059423 - 651.3708951117736im\n",
      "ComplexF64[474.0577356803519 - 395.3671090895292im]\n"
     ]
    },
    {
     "name": "stderr",
     "output_type": "stream",
     "text": [
      "┌ Info: DMRG init:\tobj = +5.261022005477e+02 -5.831187339674e+02im\terr = 7.2671e-03\n",
      "└ @ Main c:\\Users\\vicva\\OneDrive\\Documenten\\git\\Thesis_CCFT\\jl_notebook_cell_df34fa98e69747e1a8f8a730347b8e2f_W0sZmlsZQ==.jl:62\n",
      "┌ Info: DMRG conv 1:\tobj = +5.260139841579e+02 -5.821278417734e+02im\terr = 1.7599847449e-09\ttime = 0.30 sec\n",
      "└ @ Main c:\\Users\\vicva\\OneDrive\\Documenten\\git\\Thesis_CCFT\\jl_notebook_cell_df34fa98e69747e1a8f8a730347b8e2f_W0sZmlsZQ==.jl:77\n"
     ]
    },
    {
     "name": "stdout",
     "output_type": "stream",
     "text": [
      "(1.0, -526.0139841578772 + 582.1278417734318im, -435.55021397574814 + 348.1503176891173im)"
     ]
    },
    {
     "name": "stderr",
     "output_type": "stream",
     "text": [
      "┌ Info: DMRG init:\tobj = +4.369672512783e+02 -3.551571447759e+02im\terr = 1.3255e-02\n",
      "└ @ Main c:\\Users\\vicva\\OneDrive\\Documenten\\git\\Thesis_CCFT\\jl_notebook_cell_df34fa98e69747e1a8f8a730347b8e2f_W0sZmlsZQ==.jl:62\n",
      "┌ Info: DMRG conv 1:\tobj = +4.355502139757e+02 -3.481503176891e+02im\terr = 1.0996416854e-08\ttime = 0.06 sec\n",
      "└ @ Main c:\\Users\\vicva\\OneDrive\\Documenten\\git\\Thesis_CCFT\\jl_notebook_cell_df34fa98e69747e1a8f8a730347b8e2f_W0sZmlsZQ==.jl:77\n"
     ]
    },
    {
     "name": "stdout",
     "output_type": "stream",
     "text": [
      "\n",
      "526.0139841578772 - 582.1278417734318im\n",
      "ComplexF64[435.55021397574814 - 348.1503176891173im]\n"
     ]
    },
    {
     "name": "stderr",
     "output_type": "stream",
     "text": [
      "┌ Info: DMRG init:\tobj = +4.719178418891e+02 -5.206403053238e+02im\terr = 8.6774e-03\n",
      "└ @ Main c:\\Users\\vicva\\OneDrive\\Documenten\\git\\Thesis_CCFT\\jl_notebook_cell_df34fa98e69747e1a8f8a730347b8e2f_W0sZmlsZQ==.jl:62\n",
      "┌ Info: DMRG conv 1:\tobj = +4.717950425096e+02 -5.194713901179e+02im\terr = 3.0745577627e-09\ttime = 0.05 sec\n",
      "└ @ Main c:\\Users\\vicva\\OneDrive\\Documenten\\git\\Thesis_CCFT\\jl_notebook_cell_df34fa98e69747e1a8f8a730347b8e2f_W0sZmlsZQ==.jl:77\n",
      "┌ Info: DMRG init:\tobj = +4.027876805344e+02 -3.123706013306e+02im\terr = 1.4921e-02\n",
      "└ @ Main c:\\Users\\vicva\\OneDrive\\Documenten\\git\\Thesis_CCFT\\jl_notebook_cell_df34fa98e69747e1a8f8a730347b8e2f_W0sZmlsZQ==.jl:62\n"
     ]
    },
    {
     "name": "stdout",
     "output_type": "stream",
     "text": [
      "(1.0, -471.79504250958576 + 519.4713901178746im, -400.7645689374163 + 303.96063514497246im)\n",
      "471.79504250958576 - 519.4713901178746im\n",
      "ComplexF64[400.7645689374163 - 303.96063514497246im]\n"
     ]
    },
    {
     "name": "stderr",
     "output_type": "stream",
     "text": [
      "┌ Info: DMRG conv 1:\tobj = +4.007645689374e+02 -3.039606351450e+02im\terr = 2.7504610085e-08\ttime = 0.06 sec\n",
      "└ @ Main c:\\Users\\vicva\\OneDrive\\Documenten\\git\\Thesis_CCFT\\jl_notebook_cell_df34fa98e69747e1a8f8a730347b8e2f_W0sZmlsZQ==.jl:77\n",
      "┌ Info: DMRG init:\tobj = +4.230416932908e+02 -4.639825562898e+02im\terr = 1.0619e-02\n",
      "└ @ Main c:\\Users\\vicva\\OneDrive\\Documenten\\git\\Thesis_CCFT\\jl_notebook_cell_df34fa98e69747e1a8f8a730347b8e2f_W0sZmlsZQ==.jl:62\n",
      "┌ Info: DMRG conv 1:\tobj = +4.228801910410e+02 -4.626053379861e+02im\terr = 1.0519236703e-08\ttime = 0.04 sec\n",
      "└ @ Main c:\\Users\\vicva\\OneDrive\\Documenten\\git\\Thesis_CCFT\\jl_notebook_cell_df34fa98e69747e1a8f8a730347b8e2f_W0sZmlsZQ==.jl:77\n"
     ]
    },
    {
     "name": "stdout",
     "output_type": "stream",
     "text": [
      "(1.0, -422.88019104102415 + 462.6053379861312im, "
     ]
    },
    {
     "name": "stderr",
     "output_type": "stream",
     "text": [
      "┌ Info: DMRG init:\tobj = +3.720366565441e+02 -2.722246261896e+02im\terr = 1.6893e-02\n",
      "└ @ Main c:\\Users\\vicva\\OneDrive\\Documenten\\git\\Thesis_CCFT\\jl_notebook_cell_df34fa98e69747e1a8f8a730347b8e2f_W0sZmlsZQ==.jl:62\n",
      "┌ Info: DMRG conv 1:\tobj = +3.691503247375e+02 -2.618362371573e+02im\terr = 2.6393304917e-08\ttime = 0.05 sec\n",
      "└ @ Main c:\\Users\\vicva\\OneDrive\\Documenten\\git\\Thesis_CCFT\\jl_notebook_cell_df34fa98e69747e1a8f8a730347b8e2f_W0sZmlsZQ==.jl:77\n"
     ]
    },
    {
     "name": "stdout",
     "output_type": "stream",
     "text": [
      "-369.15032473747044 + 261.83623715734586im)\n",
      "422.88019104102415 - 462.6053379861312im\n",
      "ComplexF64[369.15032473747044 - 261.83623715734586im]\n"
     ]
    },
    {
     "name": "stderr",
     "output_type": "stream",
     "text": [
      "┌ Info: DMRG init:\tobj = +3.788770927821e+02 -4.124268946545e+02im\terr = 1.3353e-02\n",
      "└ @ Main c:\\Users\\vicva\\OneDrive\\Documenten\\git\\Thesis_CCFT\\jl_notebook_cell_df34fa98e69747e1a8f8a730347b8e2f_W0sZmlsZQ==.jl:62\n",
      "┌ Info: DMRG conv 1:\tobj = +3.786722900676e+02 -4.108197107587e+02im\terr = 3.0953391995e-09\ttime = 0.03 sec\n",
      "└ @ Main c:\\Users\\vicva\\OneDrive\\Documenten\\git\\Thesis_CCFT\\jl_notebook_cell_df34fa98e69747e1a8f8a730347b8e2f_W0sZmlsZQ==.jl:77\n"
     ]
    },
    {
     "name": "stdout",
     "output_type": "stream",
     "text": [
      "(1.0, -378.6722900675853 + 410.81971075870405im, -340.0249217838877"
     ]
    },
    {
     "name": "stderr",
     "output_type": "stream",
     "text": [
      "┌ Info: DMRG init:\tobj = +3.442441792439e+02 -2.338248031435e+02im\terr = 1.9295e-02\n",
      "└ @ Main c:\\Users\\vicva\\OneDrive\\Documenten\\git\\Thesis_CCFT\\jl_notebook_cell_df34fa98e69747e1a8f8a730347b8e2f_W0sZmlsZQ==.jl:62\n",
      "┌ Info: DMRG conv 1:\tobj = +3.400249217839e+02 -2.202787808302e+02im\terr = 3.3593322187e-08\ttime = 0.05 sec\n",
      "└ @ Main c:\\Users\\vicva\\OneDrive\\Documenten\\git\\Thesis_CCFT\\jl_notebook_cell_df34fa98e69747e1a8f8a730347b8e2f_W0sZmlsZQ==.jl:77\n"
     ]
    },
    {
     "name": "stdout",
     "output_type": "stream",
     "text": [
      " + 220.27878083023825im)\n",
      "378.6722900675853 - 410.81971075870405im\n",
      "ComplexF64[340.0249217838877 - 220.27878083023825im]\n"
     ]
    },
    {
     "name": "stderr",
     "output_type": "stream",
     "text": [
      "┌ Info: DMRG init:\tobj = +3.389022162618e+02 -3.653476388167e+02im\terr = 1.7241e-02\n",
      "└ @ Main c:\\Users\\vicva\\OneDrive\\Documenten\\git\\Thesis_CCFT\\jl_notebook_cell_df34fa98e69747e1a8f8a730347b8e2f_W0sZmlsZQ==.jl:62\n"
     ]
    },
    {
     "name": "stdout",
     "output_type": "stream",
     "text": [
      "("
     ]
    },
    {
     "name": "stderr",
     "output_type": "stream",
     "text": [
      "┌ Info: DMRG conv 1:\tobj = +3.386452406780e+02 -3.635146736831e+02im\terr = 8.0608083385e-09\ttime = 0.05 sec\n",
      "└ @ Main c:\\Users\\vicva\\OneDrive\\Documenten\\git\\Thesis_CCFT\\jl_notebook_cell_df34fa98e69747e1a8f8a730347b8e2f_W0sZmlsZQ==.jl:77\n",
      "┌ Info: DMRG init:\tobj = +3.188536793232e+02 -1.957736781566e+02im\terr = 2.2380e-02\n",
      "└ @ Main c:\\Users\\vicva\\OneDrive\\Documenten\\git\\Thesis_CCFT\\jl_notebook_cell_df34fa98e69747e1a8f8a730347b8e2f_W0sZmlsZQ==.jl:62\n",
      "┌ Info: DMRG conv 1:\tobj = +3.121906589339e+02 -1.751247586874e+02im\terr = 4.1995542847e-08\ttime = 0.06 sec\n",
      "└ @ Main c:\\Users\\vicva\\OneDrive\\Documenten\\git\\Thesis_CCFT\\jl_notebook_cell_df34fa98e69747e1a8f8a730347b8e2f_W0sZmlsZQ==.jl:77\n"
     ]
    },
    {
     "name": "stdout",
     "output_type": "stream",
     "text": [
      "1.0, -338.6452406780197 + 363.5146736830892im, -312.19065893388347 + 175.12475868743275im)\n",
      "338.6452406780197 - 363.5146736830892im\n",
      "ComplexF64[312.19065893388347 - 175.12475868743275im]\n"
     ]
    },
    {
     "name": "stderr",
     "output_type": "stream",
     "text": [
      "┌ Info: DMRG init:\tobj = +6.987032789610e+02 -9.666837612249e+02im\terr = 7.4179e-02\n",
      "└ @ Main c:\\Users\\vicva\\OneDrive\\Documenten\\git\\Thesis_CCFT\\jl_notebook_cell_df34fa98e69747e1a8f8a730347b8e2f_W0sZmlsZQ==.jl:62\n",
      "┌ Info: DMRG conv 1:\tobj = +7.061760105350e+02 -9.897063265597e+02im\terr = 8.4240448227e-09\ttime = 0.03 sec\n",
      "└ @ Main c:\\Users\\vicva\\OneDrive\\Documenten\\git\\Thesis_CCFT\\jl_notebook_cell_df34fa98e69747e1a8f8a730347b8e2f_W0sZmlsZQ==.jl:77\n",
      "┌ Info: DMRG init:\tobj = +4.944795462920e+02 -4.685808982231e+02im\terr = 1.5107e-01\n",
      "└ @ Main c:\\Users\\vicva\\OneDrive\\Documenten\\git\\Thesis_CCFT\\jl_notebook_cell_df34fa98e69747e1a8f8a730347b8e2f_W0sZmlsZQ==.jl:62\n",
      "┌ Info: DMRG conv 1:\tobj = +5.506099910042e+02 -6.155226385325e+02im\terr = 2.2639963223e-08\ttime = 0.05 sec\n",
      "└ @ Main c:\\Users\\vicva\\OneDrive\\Documenten\\git\\Thesis_CCFT\\jl_notebook_cell_df34fa98e69747e1a8f8a730347b8e2f_W0sZmlsZQ==.jl:77\n"
     ]
    },
    {
     "name": "stdout",
     "output_type": "stream",
     "text": [
      "(1.0, -706.1760105349753 + 989.7063265596838im, -550.6099910041671 + 615.5226385324835im)\n",
      "706.1760105349753 - 989.7063265596838im\n",
      "ComplexF64[550.6099910041671 - 615.5226385324835im]\n"
     ]
    },
    {
     "name": "stderr",
     "output_type": "stream",
     "text": [
      "┌ Info: DMRG init:\tobj = +6.338535010724e+02 -8.874346514176e+02im\terr = 4.5789e-03\n",
      "└ @ Main c:\\Users\\vicva\\OneDrive\\Documenten\\git\\Thesis_CCFT\\jl_notebook_cell_df34fa98e69747e1a8f8a730347b8e2f_W0sZmlsZQ==.jl:62\n"
     ]
    },
    {
     "name": "stdout",
     "output_type": "stream",
     "text": [
      "("
     ]
    },
    {
     "name": "stderr",
     "output_type": "stream",
     "text": [
      "┌ Info: DMRG conv 1:\tobj = +6.338297737217e+02 -8.867971793343e+02im\terr = 6.0685012542e-10\ttime = 0.02 sec\n",
      "└ @ Main c:\\Users\\vicva\\OneDrive\\Documenten\\git\\Thesis_CCFT\\jl_notebook_cell_df34fa98e69747e1a8f8a730347b8e2f_W0sZmlsZQ==.jl:77\n",
      "┌ Info: DMRG init:\tobj = +5.042172700853e+02 -5.538785619864e+02im\terr = 9.1872e-03\n",
      "└ @ Main c:\\Users\\vicva\\OneDrive\\Documenten\\git\\Thesis_CCFT\\jl_notebook_cell_df34fa98e69747e1a8f8a730347b8e2f_W0sZmlsZQ==.jl:62\n",
      "┌ Info: DMRG conv 1:\tobj = +5.036863204743e+02 -5.493695674729e+02im\terr = 5.3583041472e-09\ttime = 0.05 sec\n",
      "└ @ Main c:\\Users\\vicva\\OneDrive\\Documenten\\git\\Thesis_CCFT\\jl_notebook_cell_df34fa98e69747e1a8f8a730347b8e2f_W0sZmlsZQ==.jl:77\n"
     ]
    },
    {
     "name": "stdout",
     "output_type": "stream",
     "text": [
      "1.0, -633.8297737217337 + 886.7971793342564im, -503.686320474336 + 549.3695674728551im)\n",
      "633.8297737217337 - 886.7971793342564im\n",
      "ComplexF64[503.686320474336 - 549.3695674728551im]\n"
     ]
    },
    {
     "name": "stderr",
     "output_type": "stream",
     "text": [
      "┌ Info: DMRG init:\tobj = +5.688149874359e+02 -7.949874344374e+02im\terr = 5.2103e-03\n",
      "└ @ Main c:\\Users\\vicva\\OneDrive\\Documenten\\git\\Thesis_CCFT\\jl_notebook_cell_df34fa98e69747e1a8f8a730347b8e2f_W0sZmlsZQ==.jl:62\n",
      "┌ Info: DMRG conv 1:\tobj = +5.687663932849e+02 -7.942502421121e+02im\terr = 9.0130399295e-10\ttime = 0.03 sec\n",
      "└ @ Main c:\\Users\\vicva\\OneDrive\\Documenten\\git\\Thesis_CCFT\\jl_notebook_cell_df34fa98e69747e1a8f8a730347b8e2f_W0sZmlsZQ==.jl:77\n"
     ]
    },
    {
     "name": "stdout",
     "output_type": "stream",
     "text": [
      "(1.0"
     ]
    },
    {
     "name": "stderr",
     "output_type": "stream",
     "text": [
      "┌ Info: DMRG init:\tobj = +4.621896901491e+02 -4.942149332956e+02im\terr = 1.0219e-02\n",
      "└ @ Main c:\\Users\\vicva\\OneDrive\\Documenten\\git\\Thesis_CCFT\\jl_notebook_cell_df34fa98e69747e1a8f8a730347b8e2f_W0sZmlsZQ==.jl:62\n",
      "┌ Info: DMRG conv 1:\tobj = +4.613517265637e+02 -4.890870388380e+02im\terr = 1.0124407501e-08\ttime = 0.05 sec\n",
      "└ @ Main c:\\Users\\vicva\\OneDrive\\Documenten\\git\\Thesis_CCFT\\jl_notebook_cell_df34fa98e69747e1a8f8a730347b8e2f_W0sZmlsZQ==.jl:77\n"
     ]
    },
    {
     "name": "stdout",
     "output_type": "stream",
     "text": [
      ", -568.7663932849388 + 794.2502421120909im, -461.3517265636912 + 489.08703883796255im)\n",
      "568.7663932849388 - 794.2502421120909im\n",
      "ComplexF64[461.3517265636912 - 489.08703883796255im]\n"
     ]
    },
    {
     "name": "stderr",
     "output_type": "stream",
     "text": [
      "┌ Info: DMRG init:\tobj = +5.102627127777e+02 -7.117949032075e+02im\terr = 6.0062e-03\n",
      "└ @ Main c:\\Users\\vicva\\OneDrive\\Documenten\\git\\Thesis_CCFT\\jl_notebook_cell_df34fa98e69747e1a8f8a730347b8e2f_W0sZmlsZQ==.jl:62\n"
     ]
    },
    {
     "name": "stdout",
     "output_type": "stream",
     "text": [
      "(1.0, -510.1863724924891 + 710.9328079548487im, -423.0589357009437 + 433.9099400276516im)\n",
      "510.1863724924891 - 710.9328079548487im\n",
      "ComplexF64"
     ]
    },
    {
     "name": "stderr",
     "output_type": "stream",
     "text": [
      "┌ Info: DMRG conv 1:\tobj = +5.101863724925e+02 -7.109328079548e+02im\terr = 1.1861653060e-09\ttime = 0.05 sec\n",
      "└ @ Main c:\\Users\\vicva\\OneDrive\\Documenten\\git\\Thesis_CCFT\\jl_notebook_cell_df34fa98e69747e1a8f8a730347b8e2f_W0sZmlsZQ==.jl:77\n",
      "┌ Info: DMRG init:\tobj = +4.243118922916e+02 -4.397954369492e+02im\terr = 1.1409e-02\n",
      "└ @ Main c:\\Users\\vicva\\OneDrive\\Documenten\\git\\Thesis_CCFT\\jl_notebook_cell_df34fa98e69747e1a8f8a730347b8e2f_W0sZmlsZQ==.jl:62\n",
      "┌ Info: DMRG conv 1:\tobj = +4.230589357009e+02 -4.339099400277e+02im\terr = 6.6826891485e-09\ttime = 0.05 sec\n",
      "└ @ Main c:\\Users\\vicva\\OneDrive\\Documenten\\git\\Thesis_CCFT\\jl_notebook_cell_df34fa98e69747e1a8f8a730347b8e2f_W0sZmlsZQ==.jl:77\n"
     ]
    },
    {
     "name": "stdout",
     "output_type": "stream",
     "text": [
      "[423.0589357009437 - 433.9099400276516im]\n"
     ]
    },
    {
     "name": "stderr",
     "output_type": "stream",
     "text": [
      "┌ Info: DMRG init:\tobj = +4.574675509209e+02 -6.368310403015e+02im\terr = 7.0436e-03\n",
      "└ @ Main c:\\Users\\vicva\\OneDrive\\Documenten\\git\\Thesis_CCFT\\jl_notebook_cell_df34fa98e69747e1a8f8a730347b8e2f_W0sZmlsZQ==.jl:62\n",
      "┌ Info: DMRG conv 1:\tobj = +4.573633571519e+02 -6.358114702726e+02im\terr = 1.1683444700e-09\ttime = 0.04 sec\n",
      "└ @ Main c:\\Users\\vicva\\OneDrive\\Documenten\\git\\Thesis_CCFT\\jl_notebook_cell_df34fa98e69747e1a8f8a730347b8e2f_W0sZmlsZQ==.jl:77\n",
      "┌ Info: DMRG init:\tobj = +3.900896754446e+02 -3.899248779898e+02im\terr = 1.2792e-02\n",
      "└ @ Main c:\\Users\\vicva\\OneDrive\\Documenten\\git\\Thesis_CCFT\\jl_notebook_cell_df34fa98e69747e1a8f8a730347b8e2f_W0sZmlsZQ==.jl:62\n"
     ]
    },
    {
     "name": "stdout",
     "output_type": "stream",
     "text": [
      "(1.0, -457.36335715185953 + 635.8114702726333im, -388.2627367737916 + 383.0967363998459im)\n",
      "457.36335715185953 - 635.8114702726333im\n",
      "ComplexF64[388.2627367737916 - 383.0967363998459im]\n"
     ]
    },
    {
     "name": "stderr",
     "output_type": "stream",
     "text": [
      "┌ Info: DMRG conv 1:\tobj = +3.882627367738e+02 -3.830967363998e+02im\terr = 1.4672599176e-08\ttime = 0.05 sec\n",
      "└ @ Main c:\\Users\\vicva\\OneDrive\\Documenten\\git\\Thesis_CCFT\\jl_notebook_cell_df34fa98e69747e1a8f8a730347b8e2f_W0sZmlsZQ==.jl:77\n",
      "┌ Info: DMRG init:\tobj = +4.097654284243e+02 -5.691579957834e+02im\terr = 8.4449e-03\n",
      "└ @ Main c:\\Users\\vicva\\OneDrive\\Documenten\\git\\Thesis_CCFT\\jl_notebook_cell_df34fa98e69747e1a8f8a730347b8e2f_W0sZmlsZQ==.jl:62\n",
      "┌ Info: DMRG conv 1:\tobj = +4.096396841371e+02 -5.679394128721e+02im\terr = 1.5387019195e-09\ttime = 0.05 sec\n",
      "└ @ Main c:\\Users\\vicva\\OneDrive\\Documenten\\git\\Thesis_CCFT\\jl_notebook_cell_df34fa98e69747e1a8f8a730347b8e2f_W0sZmlsZQ==.jl:77\n",
      "┌ Info: DMRG init:\tobj = +3.590277842638e+02 -3.439269242439e+02im\terr = 1.4418e-02\n",
      "└ @ Main c:\\Users\\vicva\\OneDrive\\Documenten\\git\\Thesis_CCFT\\jl_notebook_cell_df34fa98e69747e1a8f8a730347b8e2f_W0sZmlsZQ==.jl:62\n"
     ]
    },
    {
     "name": "stdout",
     "output_type": "stream",
     "text": [
      "(1.0, -409.639684137103 + 567.9394128720617im, -356.37570143332505 + 335.9017170035161im)\n",
      "409.639684137103 - 567.9394128720617im\n",
      "ComplexF64[356.37570143332505 - 335.9017170035161im]\n"
     ]
    },
    {
     "name": "stderr",
     "output_type": "stream",
     "text": [
      "┌ Info: DMRG conv 1:\tobj = +3.563757014333e+02 -3.359017170035e+02im\terr = 1.3372107349e-08\ttime = 0.05 sec\n",
      "└ @ Main c:\\Users\\vicva\\OneDrive\\Documenten\\git\\Thesis_CCFT\\jl_notebook_cell_df34fa98e69747e1a8f8a730347b8e2f_W0sZmlsZQ==.jl:77\n",
      "┌ Info: DMRG init:\tobj = +3.665560566799e+02 -5.079164602705e+02im\terr = 1.0400e-02\n",
      "└ @ Main c:\\Users\\vicva\\OneDrive\\Documenten\\git\\Thesis_CCFT\\jl_notebook_cell_df34fa98e69747e1a8f8a730347b8e2f_W0sZmlsZQ==.jl:62\n"
     ]
    },
    {
     "name": "stdout",
     "output_type": "stream",
     "text": [
      "(1.0, -366.42790120804796 + 506.44789171334526im, -326.664374533289 + 291.5392763095739im)\n"
     ]
    },
    {
     "name": "stderr",
     "output_type": "stream",
     "text": [
      "┌ Info: DMRG conv 1:\tobj = +3.664279012080e+02 -5.064478917133e+02im\terr = 8.2412099295e-09\ttime = 0.03 sec\n",
      "└ @ Main c:\\Users\\vicva\\OneDrive\\Documenten\\git\\Thesis_CCFT\\jl_notebook_cell_df34fa98e69747e1a8f8a730347b8e2f_W0sZmlsZQ==.jl:77\n",
      "┌ Info: DMRG init:\tobj = +3.305872726404e+02 -3.011187473784e+02im\terr = 1.6365e-02\n",
      "└ @ Main c:\\Users\\vicva\\OneDrive\\Documenten\\git\\Thesis_CCFT\\jl_notebook_cell_df34fa98e69747e1a8f8a730347b8e2f_W0sZmlsZQ==.jl:62\n",
      "┌ Info: DMRG conv 1:\tobj = +3.266643745333e+02 -2.915392763096e+02im\terr = 1.3069396786e-08\ttime = 0.05 sec\n",
      "└ @ Main c:\\Users\\vicva\\OneDrive\\Documenten\\git\\Thesis_CCFT\\jl_notebook_cell_df34fa98e69747e1a8f8a730347b8e2f_W0sZmlsZQ==.jl:77\n"
     ]
    },
    {
     "name": "stdout",
     "output_type": "stream",
     "text": [
      "366.42790120804796 - 506.44789171334526im\n",
      "ComplexF64[326.664374533289 - 291.5392763095739im]\n"
     ]
    },
    {
     "name": "stderr",
     "output_type": "stream",
     "text": [
      "┌ Info: DMRG init:\tobj = +3.273100326251e+02 -4.523219649583e+02im\terr = 1.3191e-02\n",
      "└ @ Main c:\\Users\\vicva\\OneDrive\\Documenten\\git\\Thesis_CCFT\\jl_notebook_cell_df34fa98e69747e1a8f8a730347b8e2f_W0sZmlsZQ==.jl:62\n",
      "┌ Info: DMRG conv 1:\tobj = +3.272215199342e+02 -4.505463219476e+02im\terr = 2.4985127266e-09\ttime = 0.02 sec\n",
      "└ @ Main c:\\Users\\vicva\\OneDrive\\Documenten\\git\\Thesis_CCFT\\jl_notebook_cell_df34fa98e69747e1a8f8a730347b8e2f_W0sZmlsZQ==.jl:77\n",
      "┌ Info: DMRG init:\tobj = +3.040843564805e+02 -2.607796670901e+02im\terr = 1.8775e-02\n",
      "└ @ Main c:\\Users\\vicva\\OneDrive\\Documenten\\git\\Thesis_CCFT\\jl_notebook_cell_df34fa98e69747e1a8f8a730347b8e2f_W0sZmlsZQ==.jl:62\n"
     ]
    },
    {
     "name": "stdout",
     "output_type": "stream",
     "text": [
      "(1.0, -327.2215199342 + 450.5463219476006im, -297.9403688300084 + 249.1876326635159im)\n",
      "327.2215199342 - 450.5463219476006im\n",
      "ComplexF64[297.9403688300084 - 249.1876326635159im]\n"
     ]
    },
    {
     "name": "stderr",
     "output_type": "stream",
     "text": [
      "┌ Info: DMRG conv 1:\tobj = +2.979403688300e+02 -2.491876326635e+02im\terr = 2.3498024475e-08\ttime = 0.06 sec\n",
      "└ @ Main c:\\Users\\vicva\\OneDrive\\Documenten\\git\\Thesis_CCFT\\jl_notebook_cell_df34fa98e69747e1a8f8a730347b8e2f_W0sZmlsZQ==.jl:77\n",
      "┌ Info: DMRG init:\tobj = +2.915889620867e+02 -4.016724652616e+02im\terr = 1.7209e-02\n",
      "└ @ Main c:\\Users\\vicva\\OneDrive\\Documenten\\git\\Thesis_CCFT\\jl_notebook_cell_df34fa98e69747e1a8f8a730347b8e2f_W0sZmlsZQ==.jl:62\n",
      "┌ Info: DMRG conv 1:\tobj = +2.916174908267e+02 -3.995393489462e+02im\terr = 6.5729865475e-09\ttime = 0.03 sec\n",
      "└ @ Main c:\\Users\\vicva\\OneDrive\\Documenten\\git\\Thesis_CCFT\\jl_notebook_cell_df34fa98e69747e1a8f8a730347b8e2f_W0sZmlsZQ==.jl:77\n",
      "┌ Info: DMRG init:\tobj = +2.783831408094e+02 -2.221617676680e+02im\terr = 2.1920e-02\n",
      "└ @ Main c:\\Users\\vicva\\OneDrive\\Documenten\\git\\Thesis_CCFT\\jl_notebook_cell_df34fa98e69747e1a8f8a730347b8e2f_W0sZmlsZQ==.jl:62\n"
     ]
    },
    {
     "name": "stdout",
     "output_type": "stream",
     "text": [
      "(1.0, -291.61749082674396 + 399.5393489461878im, -267.57489286226695 + 208.73595482244338im)\n",
      "291.61749082674396 - 399.5393489461878im\n",
      "ComplexF64[267.57489286226695 - 208.73595482244338im]\n"
     ]
    },
    {
     "name": "stderr",
     "output_type": "stream",
     "text": [
      "┌ Info: DMRG conv 1:\tobj = +2.675748928623e+02 -2.087359548224e+02im\terr = 3.0163838509e-08\ttime = 0.06 sec\n",
      "└ @ Main c:\\Users\\vicva\\OneDrive\\Documenten\\git\\Thesis_CCFT\\jl_notebook_cell_df34fa98e69747e1a8f8a730347b8e2f_W0sZmlsZQ==.jl:77\n"
     ]
    }
   ],
   "source": [
    "D=150\n",
    "J=1\n",
    "h=1\n",
    "Q=5\n",
    "using JLD2\n",
    "N = 5\n",
    "test_values = zeros(ComplexF64,(2*N-1)^2)\n",
    "\n",
    "l = length(test_values)\n",
    "function Potts_βc(q)\n",
    "    return log(1+sqrt(q))\n",
    "end\n",
    "\n",
    "distx = 0.05## distance from centre in real\n",
    "\n",
    "disty = 0.05# distance from centre in imaginary\n",
    "\n",
    "cent_im =  0.0601im\n",
    "\n",
    "cent_r = 0.0780\n",
    "include(\"Potts-Operators & Hamiltonian.jl\")\n",
    "## snake like structure of test_values will allow for faster convergence when recycling ψ (because you don't jump the entire distx after the loop)\n",
    "for i in 1:1:(2*N-1)\n",
    "    if div(i,2) == 1\n",
    "        for j in 1:1:(2*N-1)\n",
    "            if i <N+1\n",
    "                if j<N+1\n",
    "                    test_values[i+(j-1)*(2*N-1)] =  (LinRange(-distx,0.00,N)[i])  .+cent_r+ 1im*LinRange(-disty,0.00,N)[j] .+cent_im\n",
    "                else \n",
    "                    test_values[i+(j-1)*(2*N-1)] =  (LinRange(-distx,0.00,N)[i])  .+cent_r + 1im*LinRange(disty/(N-1),disty+disty/(N-1),N)[j-N] .+cent_im\n",
    "                end\n",
    "            else\n",
    "                if j<N+1\n",
    "                    test_values[i+(j-1)*(2*N-1)] =  (LinRange(distx/(N-1),distx+distx/(N-1),N)[i-N]) .+cent_r  + 1im*LinRange(-disty,0.00,N)[j]  .+cent_im\n",
    "                else\n",
    "                    test_values[i+(j-1)*(2*N-1)] =  (LinRange(distx/(N-1),distx+distx/(N-1),N)[i-N])  .+cent_r+ 1im*LinRange(disty/(N-1),disty+disty/(N-1),N)[j-N].+cent_im\n",
    "                end\n",
    "            end \n",
    "        end\n",
    "    else\n",
    "        for j in (2*N-1):-1:1\n",
    "            if i <N+1\n",
    "                if j<N+1\n",
    "                    test_values[i+(j-1)*(2*N-1)] =  (LinRange(-distx,0.00,N)[i]) .+cent_r+ 1im*LinRange(-disty,0.00,N)[j] .+cent_im\n",
    "                else \n",
    "                    test_values[i+(j-1)*(2*N-1)] =  (LinRange(-distx,0.00,N)[i])  .+cent_r + 1im*LinRange(disty/(N-1),disty+disty/(N-1),N)[j-N] .+cent_im\n",
    "                end\n",
    "            else\n",
    "                if j<N+1\n",
    "                    test_values[i+(j-1)*(2*N-1)] =  (LinRange(distx/(N-1),distx+distx/(N-1),N)[i-N]) .+cent_r + 1im*LinRange(-disty,0.00,N)[j] .+cent_im\n",
    "                else\n",
    "                    test_values[i+(j-1)*(2*N-1)] =  (LinRange(distx/(N-1),distx+distx/(N-1),N)[i-N])   .+cent_r + 1im*LinRange(disty/(N-1),disty+disty/(N-1),N)[j-N] .+cent_im\n",
    "                end\n",
    "            end \n",
    "        end\n",
    "    end\n",
    "end\n",
    "\n",
    "for L in [4]\n",
    "    l = length(test_values)\n",
    "    Results = zeros(ComplexF64,(2,l))\n",
    "\n",
    "    ψ = FiniteMPS(L,ℂ^(Q), ℂ^D)\n",
    "    ψ2 = FiniteMPS(L,ℂ^(Q), ℂ^D)\n",
    "    #ψ3 = FiniteMPS(L,ℂ^(Q), ℂ^D) if you want this need to change how init works\n",
    "    for (i,lambda) in enumerate(test_values)\n",
    "        # for (j,JΔ) in enumerate(test_values_1)\n",
    "        # println(i/l)\n",
    "        plaq = @mpoham  Potts_CCFT(Q,Potts_βc(Q),lambda){vertices(FiniteChain(L))[end],vertices(FiniteChain(L))[1]} + sum(Potts_CCFT(Q,Potts_βc(Q),lambda){i,i+1} for i in vertices(FiniteChain(L))[1:end-1]) \n",
    "        (ψ, envir , delta) = find_groundstate_alt(ψ, plaq, DMRG(maxiter = 500,tol=1e-5, eigalg =MPSKit.Defaults.alg_eigsolve(; ishermitian=false)))\n",
    "        E = expectation_value(ψ, plaq)\n",
    "        En, state  = excitations_alt(plaq, FiniteExcited_alt(gsalg = DMRG(eigalg =MPSKit.Defaults.alg_eigsolve(maxiter = 500,tol=1e-5,ishermitian=false))), (ψ,),(1.0,-E),init = ψ2,num=1) \n",
    "        ψ2 = state[1]\n",
    "\n",
    "  \n",
    "        println(E)\n",
    "        println(En)\n",
    "        \n",
    "        Results[1,i] = E\n",
    "        Results[2,i] = En[1]\n",
    "    end\n",
    "\n",
    "    save_object(\"Leading boundary CCFT DMRG $L,D$D\",Results)\n",
    "end\n"
   ]
  },
  {
   "cell_type": "code",
   "execution_count": 19,
   "id": "cf862d52",
   "metadata": {},
   "outputs": [
    {
     "data": {
      "application/vnd.plotly.v1+json": {
       "config": {
        "editable": false,
        "responsive": true,
        "scrollZoom": true,
        "showLink": false,
        "staticPlot": false
       },
       "data": [
        {
         "colorbar": {
          "title": "log(|δ x_σ|)",
          "titlefont": {
           "family": "Arial, sans-serif",
           "size": 14
          },
          "titleside": "top"
         },
         "fill": true,
         "transpose": true,
         "type": "contour",
         "x": [
          0.010099999999999998,
          0.010099999999999998,
          0.010099999999999998,
          0.010099999999999998,
          0.010099999999999998,
          0.010099999999999998,
          0.010099999999999998,
          0.010099999999999998,
          0.010099999999999998,
          0.022599999999999995,
          0.022599999999999995,
          0.022599999999999995,
          0.022599999999999995,
          0.022599999999999995,
          0.022599999999999995,
          0.022599999999999995,
          0.022599999999999995,
          0.022599999999999995,
          0.0351,
          0.0351,
          0.0351,
          0.0351,
          0.0351,
          0.0351,
          0.0351,
          0.0351,
          0.0351,
          0.0476,
          0.0476,
          0.0476,
          0.0476,
          0.0476,
          0.0476,
          0.0476,
          0.0476,
          0.0476,
          0.0601,
          0.0601,
          0.0601,
          0.0601,
          0.0601,
          0.0601,
          0.0601,
          0.0601,
          0.0601,
          0.0726,
          0.0726,
          0.0726,
          0.0726,
          0.0726,
          0.0726,
          0.0726,
          0.0726,
          0.0726,
          0.08510000000000001,
          0.08510000000000001,
          0.08510000000000001,
          0.08510000000000001,
          0.08510000000000001,
          0.08510000000000001,
          0.08510000000000001,
          0.08510000000000001,
          0.08510000000000001,
          0.09759999999999999,
          0.09759999999999999,
          0.09759999999999999,
          0.09759999999999999,
          0.09759999999999999,
          0.09759999999999999,
          0.09759999999999999,
          0.09759999999999999,
          0.09759999999999999,
          0.1101,
          0.1101,
          0.1101,
          0.1101,
          0.1101,
          0.1101,
          0.1101,
          0.1101,
          0.1101
         ],
         "y": [
          0.027999999999999997,
          0.040499999999999994,
          0.053,
          0.0655,
          0.078,
          0.0905,
          0.10300000000000001,
          0.11549999999999999,
          0.128,
          0.027999999999999997,
          0.040499999999999994,
          0.053,
          0.0655,
          0.078,
          0.0905,
          0.10300000000000001,
          0.11549999999999999,
          0.128,
          0.027999999999999997,
          0.040499999999999994,
          0.053,
          0.0655,
          0.078,
          0.0905,
          0.10300000000000001,
          0.11549999999999999,
          0.128,
          0.027999999999999997,
          0.040499999999999994,
          0.053,
          0.0655,
          0.078,
          0.0905,
          0.10300000000000001,
          0.11549999999999999,
          0.128,
          0.027999999999999997,
          0.040499999999999994,
          0.053,
          0.0655,
          0.078,
          0.0905,
          0.10300000000000001,
          0.11549999999999999,
          0.128,
          0.027999999999999997,
          0.040499999999999994,
          0.053,
          0.0655,
          0.078,
          0.0905,
          0.10300000000000001,
          0.11549999999999999,
          0.128,
          0.027999999999999997,
          0.040499999999999994,
          0.053,
          0.0655,
          0.078,
          0.0905,
          0.10300000000000001,
          0.11549999999999999,
          0.128,
          0.027999999999999997,
          0.040499999999999994,
          0.053,
          0.0655,
          0.078,
          0.0905,
          0.10300000000000001,
          0.11549999999999999,
          0.128,
          0.027999999999999997,
          0.040499999999999994,
          0.053,
          0.0655,
          0.078,
          0.0905,
          0.10300000000000001,
          0.11549999999999999,
          0.128
         ],
         "z": [
          -2.4643485968898413,
          -2.67821262231491,
          -2.984430677452657,
          -3.462833267532243,
          -4.028389567160612,
          -3.451176229203124,
          -2.810218574352252,
          -2.363933354466001,
          -2.027824490394368,
          -2.4764416264830684,
          -2.697521457289594,
          -3.0232304594562183,
          -3.5842274088159876,
          -4.738546194927176,
          -3.605161774066055,
          -2.8469805026428627,
          -2.371425408066233,
          -2.0201180244393977,
          -2.4337706500583023,
          -2.6221551209928804,
          -2.868497201342027,
          -3.1716282067704094,
          -3.359477271477882,
          -3.096583487493796,
          -2.656668696797569,
          -2.2670937265576363,
          -1.942435166022288,
          -2.350334687460986,
          -2.4884040640687815,
          -2.6397015143003606,
          -2.771230486894803,
          -2.7999292563922715,
          -2.655145947173045,
          -2.3908021211411787,
          -2.0966734796638846,
          -1.814288723891507,
          -2.246282851780001,
          -2.3376061494985585,
          -2.4204295285342443,
          -2.4694222642770183,
          -2.4483346624144944,
          -2.3347653011895746,
          -2.143677960835214,
          -1.9100117582430391,
          -1.6620708873494665,
          -2.137542989191026,
          -2.1929482730024747,
          -2.232338799215866,
          -2.2396902291044274,
          -2.1973767853867825,
          -2.095298984818759,
          -1.9370981745995919,
          -1.7356107823885722,
          -1.5059741972718912,
          -2.03338720118184,
          -2.0632778034717787,
          -2.0758068172055,
          -2.060938345203111,
          -2.0089048985977507,
          -1.9135769074412288,
          -1.7737959291787126,
          -1.5900347100385632,
          -1.359919695246785,
          -1.9381444521081432,
          -1.950571925914478,
          -1.94667063025785,
          -1.9200147447766525,
          -1.864712901245729,
          -1.7766884224364619,
          -1.6536039141022199,
          -1.4912288762561254,
          -1.263747538233548,
          -1.8532731407379017,
          -1.8540566002753078,
          -1.8403719213910021,
          -1.8080758027885306,
          -1.7536203440146272,
          -1.6747528643405036,
          -1.5708327164970353,
          -1.4431449162049812,
          -1.3022256723013355
         ]
        }
       ],
       "frames": [],
       "layout": {
        "margin": {
         "b": 50,
         "l": 50,
         "r": 50,
         "t": 60
        },
        "template": {
         "data": {
          "bar": [
           {
            "error_x": {
             "color": "#2a3f5f"
            },
            "error_y": {
             "color": "#2a3f5f"
            },
            "marker": {
             "line": {
              "color": "#E5ECF6",
              "width": 0.5
             }
            },
            "type": "bar"
           }
          ],
          "barpolar": [
           {
            "marker": {
             "line": {
              "color": "#E5ECF6",
              "width": 0.5
             }
            },
            "type": "barpolar"
           }
          ],
          "carpet": [
           {
            "aaxis": {
             "endlinecolor": "#2a3f5f",
             "gridcolor": "white",
             "linecolor": "white",
             "minorgridcolor": "white",
             "startlinecolor": "#2a3f5f"
            },
            "baxis": {
             "endlinecolor": "#2a3f5f",
             "gridcolor": "white",
             "linecolor": "white",
             "minorgridcolor": "white",
             "startlinecolor": "#2a3f5f"
            },
            "type": "carpet"
           }
          ],
          "choropleth": [
           {
            "colorbar": {
             "outlinewidth": 0,
             "ticks": ""
            },
            "type": "choropleth"
           }
          ],
          "contour": [
           {
            "colorbar": {
             "outlinewidth": 0,
             "ticks": ""
            },
            "colorscale": [
             [
              0,
              "#0d0887"
             ],
             [
              0.1111111111111111,
              "#46039f"
             ],
             [
              0.2222222222222222,
              "#7201a8"
             ],
             [
              0.3333333333333333,
              "#9c179e"
             ],
             [
              0.4444444444444444,
              "#bd3786"
             ],
             [
              0.5555555555555556,
              "#d8576b"
             ],
             [
              0.6666666666666666,
              "#ed7953"
             ],
             [
              0.7777777777777778,
              "#fb9f3a"
             ],
             [
              0.8888888888888888,
              "#fdca26"
             ],
             [
              1,
              "#f0f921"
             ]
            ],
            "type": "contour"
           }
          ],
          "contourcarpet": [
           {
            "colorbar": {
             "outlinewidth": 0,
             "ticks": ""
            },
            "type": "contourcarpet"
           }
          ],
          "heatmap": [
           {
            "colorbar": {
             "outlinewidth": 0,
             "ticks": ""
            },
            "colorscale": [
             [
              0,
              "#0d0887"
             ],
             [
              0.1111111111111111,
              "#46039f"
             ],
             [
              0.2222222222222222,
              "#7201a8"
             ],
             [
              0.3333333333333333,
              "#9c179e"
             ],
             [
              0.4444444444444444,
              "#bd3786"
             ],
             [
              0.5555555555555556,
              "#d8576b"
             ],
             [
              0.6666666666666666,
              "#ed7953"
             ],
             [
              0.7777777777777778,
              "#fb9f3a"
             ],
             [
              0.8888888888888888,
              "#fdca26"
             ],
             [
              1,
              "#f0f921"
             ]
            ],
            "type": "heatmap"
           }
          ],
          "heatmapgl": [
           {
            "colorbar": {
             "outlinewidth": 0,
             "ticks": ""
            },
            "colorscale": [
             [
              0,
              "#0d0887"
             ],
             [
              0.1111111111111111,
              "#46039f"
             ],
             [
              0.2222222222222222,
              "#7201a8"
             ],
             [
              0.3333333333333333,
              "#9c179e"
             ],
             [
              0.4444444444444444,
              "#bd3786"
             ],
             [
              0.5555555555555556,
              "#d8576b"
             ],
             [
              0.6666666666666666,
              "#ed7953"
             ],
             [
              0.7777777777777778,
              "#fb9f3a"
             ],
             [
              0.8888888888888888,
              "#fdca26"
             ],
             [
              1,
              "#f0f921"
             ]
            ],
            "type": "heatmapgl"
           }
          ],
          "histogram": [
           {
            "marker": {
             "colorbar": {
              "outlinewidth": 0,
              "ticks": ""
             }
            },
            "type": "histogram"
           }
          ],
          "histogram2d": [
           {
            "colorbar": {
             "outlinewidth": 0,
             "ticks": ""
            },
            "colorscale": [
             [
              0,
              "#0d0887"
             ],
             [
              0.1111111111111111,
              "#46039f"
             ],
             [
              0.2222222222222222,
              "#7201a8"
             ],
             [
              0.3333333333333333,
              "#9c179e"
             ],
             [
              0.4444444444444444,
              "#bd3786"
             ],
             [
              0.5555555555555556,
              "#d8576b"
             ],
             [
              0.6666666666666666,
              "#ed7953"
             ],
             [
              0.7777777777777778,
              "#fb9f3a"
             ],
             [
              0.8888888888888888,
              "#fdca26"
             ],
             [
              1,
              "#f0f921"
             ]
            ],
            "type": "histogram2d"
           }
          ],
          "histogram2dcontour": [
           {
            "colorbar": {
             "outlinewidth": 0,
             "ticks": ""
            },
            "colorscale": [
             [
              0,
              "#0d0887"
             ],
             [
              0.1111111111111111,
              "#46039f"
             ],
             [
              0.2222222222222222,
              "#7201a8"
             ],
             [
              0.3333333333333333,
              "#9c179e"
             ],
             [
              0.4444444444444444,
              "#bd3786"
             ],
             [
              0.5555555555555556,
              "#d8576b"
             ],
             [
              0.6666666666666666,
              "#ed7953"
             ],
             [
              0.7777777777777778,
              "#fb9f3a"
             ],
             [
              0.8888888888888888,
              "#fdca26"
             ],
             [
              1,
              "#f0f921"
             ]
            ],
            "type": "histogram2dcontour"
           }
          ],
          "mesh3d": [
           {
            "colorbar": {
             "outlinewidth": 0,
             "ticks": ""
            },
            "type": "mesh3d"
           }
          ],
          "parcoords": [
           {
            "line": {
             "colorbar": {
              "outlinewidth": 0,
              "ticks": ""
             }
            },
            "type": "parcoords"
           }
          ],
          "pie": [
           {
            "automargin": true,
            "type": "pie"
           }
          ],
          "scatter": [
           {
            "marker": {
             "colorbar": {
              "outlinewidth": 0,
              "ticks": ""
             }
            },
            "type": "scatter"
           }
          ],
          "scatter3d": [
           {
            "line": {
             "colorbar": {
              "outlinewidth": 0,
              "ticks": ""
             }
            },
            "marker": {
             "colorbar": {
              "outlinewidth": 0,
              "ticks": ""
             }
            },
            "type": "scatter3d"
           }
          ],
          "scattercarpet": [
           {
            "marker": {
             "colorbar": {
              "outlinewidth": 0,
              "ticks": ""
             }
            },
            "type": "scattercarpet"
           }
          ],
          "scattergeo": [
           {
            "marker": {
             "colorbar": {
              "outlinewidth": 0,
              "ticks": ""
             }
            },
            "type": "scattergeo"
           }
          ],
          "scattergl": [
           {
            "marker": {
             "colorbar": {
              "outlinewidth": 0,
              "ticks": ""
             }
            },
            "type": "scattergl"
           }
          ],
          "scattermapbox": [
           {
            "marker": {
             "colorbar": {
              "outlinewidth": 0,
              "ticks": ""
             }
            },
            "type": "scattermapbox"
           }
          ],
          "scatterpolar": [
           {
            "marker": {
             "colorbar": {
              "outlinewidth": 0,
              "ticks": ""
             }
            },
            "type": "scatterpolar"
           }
          ],
          "scatterpolargl": [
           {
            "marker": {
             "colorbar": {
              "outlinewidth": 0,
              "ticks": ""
             }
            },
            "type": "scatterpolargl"
           }
          ],
          "scatterternary": [
           {
            "marker": {
             "colorbar": {
              "outlinewidth": 0,
              "ticks": ""
             }
            },
            "type": "scatterternary"
           }
          ],
          "surface": [
           {
            "colorbar": {
             "outlinewidth": 0,
             "ticks": ""
            },
            "colorscale": [
             [
              0,
              "#0d0887"
             ],
             [
              0.1111111111111111,
              "#46039f"
             ],
             [
              0.2222222222222222,
              "#7201a8"
             ],
             [
              0.3333333333333333,
              "#9c179e"
             ],
             [
              0.4444444444444444,
              "#bd3786"
             ],
             [
              0.5555555555555556,
              "#d8576b"
             ],
             [
              0.6666666666666666,
              "#ed7953"
             ],
             [
              0.7777777777777778,
              "#fb9f3a"
             ],
             [
              0.8888888888888888,
              "#fdca26"
             ],
             [
              1,
              "#f0f921"
             ]
            ],
            "type": "surface"
           }
          ],
          "table": [
           {
            "cells": {
             "fill": {
              "color": "#EBF0F8"
             },
             "line": {
              "color": "white"
             }
            },
            "header": {
             "fill": {
              "color": "#C8D4E3"
             },
             "line": {
              "color": "white"
             }
            },
            "type": "table"
           }
          ]
         },
         "layout": {
          "annotationdefaults": {
           "arrowcolor": "#2a3f5f",
           "arrowhead": 0,
           "arrowwidth": 1
          },
          "autotypenumbers": "strict",
          "coloraxis": {
           "colorbar": {
            "outlinewidth": 0,
            "ticks": ""
           }
          },
          "colorscale": {
           "diverging": [
            [
             0,
             "#8e0152"
            ],
            [
             0.1,
             "#c51b7d"
            ],
            [
             0.2,
             "#de77ae"
            ],
            [
             0.3,
             "#f1b6da"
            ],
            [
             0.4,
             "#fde0ef"
            ],
            [
             0.5,
             "#f7f7f7"
            ],
            [
             0.6,
             "#e6f5d0"
            ],
            [
             0.7,
             "#b8e186"
            ],
            [
             0.8,
             "#7fbc41"
            ],
            [
             0.9,
             "#4d9221"
            ],
            [
             1,
             "#276419"
            ]
           ],
           "sequential": [
            [
             0,
             "#0d0887"
            ],
            [
             0.1111111111111111,
             "#46039f"
            ],
            [
             0.2222222222222222,
             "#7201a8"
            ],
            [
             0.3333333333333333,
             "#9c179e"
            ],
            [
             0.4444444444444444,
             "#bd3786"
            ],
            [
             0.5555555555555556,
             "#d8576b"
            ],
            [
             0.6666666666666666,
             "#ed7953"
            ],
            [
             0.7777777777777778,
             "#fb9f3a"
            ],
            [
             0.8888888888888888,
             "#fdca26"
            ],
            [
             1,
             "#f0f921"
            ]
           ],
           "sequentialminus": [
            [
             0,
             "#0d0887"
            ],
            [
             0.1111111111111111,
             "#46039f"
            ],
            [
             0.2222222222222222,
             "#7201a8"
            ],
            [
             0.3333333333333333,
             "#9c179e"
            ],
            [
             0.4444444444444444,
             "#bd3786"
            ],
            [
             0.5555555555555556,
             "#d8576b"
            ],
            [
             0.6666666666666666,
             "#ed7953"
            ],
            [
             0.7777777777777778,
             "#fb9f3a"
            ],
            [
             0.8888888888888888,
             "#fdca26"
            ],
            [
             1,
             "#f0f921"
            ]
           ]
          },
          "colorway": [
           "#636efa",
           "#EF553B",
           "#00cc96",
           "#ab63fa",
           "#FFA15A",
           "#19d3f3",
           "#FF6692",
           "#B6E880",
           "#FF97FF",
           "#FECB52"
          ],
          "font": {
           "color": "#2a3f5f"
          },
          "geo": {
           "bgcolor": "white",
           "lakecolor": "white",
           "landcolor": "#E5ECF6",
           "showlakes": true,
           "showland": true,
           "subunitcolor": "white"
          },
          "hoverlabel": {
           "align": "left"
          },
          "hovermode": "closest",
          "mapbox": {
           "style": "light"
          },
          "paper_bgcolor": "white",
          "plot_bgcolor": "#E5ECF6",
          "polar": {
           "angularaxis": {
            "gridcolor": "white",
            "linecolor": "white",
            "ticks": ""
           },
           "bgcolor": "#E5ECF6",
           "radialaxis": {
            "gridcolor": "white",
            "linecolor": "white",
            "ticks": ""
           }
          },
          "scene": {
           "xaxis": {
            "backgroundcolor": "#E5ECF6",
            "gridcolor": "white",
            "gridwidth": 2,
            "linecolor": "white",
            "showbackground": true,
            "ticks": "",
            "zerolinecolor": "white"
           },
           "yaxis": {
            "backgroundcolor": "#E5ECF6",
            "gridcolor": "white",
            "gridwidth": 2,
            "linecolor": "white",
            "showbackground": true,
            "ticks": "",
            "zerolinecolor": "white"
           },
           "zaxis": {
            "backgroundcolor": "#E5ECF6",
            "gridcolor": "white",
            "gridwidth": 2,
            "linecolor": "white",
            "showbackground": true,
            "ticks": "",
            "zerolinecolor": "white"
           }
          },
          "shapedefaults": {
           "line": {
            "color": "#2a3f5f"
           }
          },
          "ternary": {
           "aaxis": {
            "gridcolor": "white",
            "linecolor": "white",
            "ticks": ""
           },
           "baxis": {
            "gridcolor": "white",
            "linecolor": "white",
            "ticks": ""
           },
           "bgcolor": "#E5ECF6",
           "caxis": {
            "gridcolor": "white",
            "linecolor": "white",
            "ticks": ""
           }
          },
          "title": {
           "x": 0.05
          },
          "xaxis": {
           "automargin": true,
           "gridcolor": "white",
           "linecolor": "white",
           "ticks": "",
           "title": {
            "standoff": 15
           },
           "zerolinecolor": "white",
           "zerolinewidth": 2
          },
          "yaxis": {
           "automargin": true,
           "gridcolor": "white",
           "linecolor": "white",
           "ticks": "",
           "title": {
            "standoff": 15
           },
           "zerolinecolor": "white",
           "zerolinewidth": 2
          }
         }
        },
        "title": {
         "text": "Plaquette DMRG |δ x_σ| L=4, D150",
         "x": 0.5
        },
        "xaxis": {
         "title": {
          "text": "Im(lambda)"
         }
        },
        "yaxis": {
         "title": {
          "text": "Re(lambda)"
         }
        }
       }
      },
      "image/png": "[encoded data removed]",
      "image/svg+xml": [
       "<svg class=\"main-svg\" xmlns=\"http://www.w3.org/2000/svg\" xmlns:xlink=\"http://www.w3.org/1999/xlink\" width=\"700\" height=\"500\" style=\"\" viewBox=\"0 0 700 500\"><rect x=\"0\" y=\"0\" width=\"700\" height=\"500\" style=\"fill: rgb(255, 255, 255); fill-opacity: 1;\"/><defs id=\"defs-bbdb73\"><g class=\"clips\"><clipPath id=\"clipbbdb73xyplot\" class=\"plotclip\"><rect width=\"521\" height=\"387\"/></clipPath><clipPath class=\"axesclip\" id=\"clipbbdb73x\"><rect x=\"65\" y=\"0\" width=\"521\" height=\"500\"/></clipPath><clipPath class=\"axesclip\" id=\"clipbbdb73y\"><rect x=\"0\" y=\"60\" width=\"700\" height=\"387\"/></clipPath><clipPath class=\"axesclip\" id=\"clipbbdb73xy\"><rect x=\"65\" y=\"60\" width=\"521\" height=\"387\"/></clipPath></g><g class=\"gradients\"/><g class=\"patterns\"/></defs><g class=\"bglayer\"><rect class=\"bg\" x=\"65\" y=\"60\" width=\"521\" height=\"387\" style=\"fill: rgb(229, 236, 246); fill-opacity: 1; stroke-width: 0;\"/></g><g class=\"layer-below\"><g class=\"imagelayer\"/><g class=\"shapelayer\"/></g><g class=\"cartesianlayer\"><g class=\"subplot xy\"><g class=\"layer-subplot\"><g class=\"shapelayer\"/><g class=\"imagelayer\"/></g><g class=\"gridlayer\"><g class=\"x\"><path class=\"xgrid crisp\" transform=\"translate(116.58,0)\" d=\"M0,60v387\" style=\"stroke: rgb(255, 255, 255); stroke-opacity: 1; stroke-width: 1px;\"/><path class=\"xgrid crisp\" transform=\"translate(220.78,0)\" d=\"M0,60v387\" style=\"stroke: rgb(255, 255, 255); stroke-opacity: 1; stroke-width: 1px;\"/><path class=\"xgrid crisp\" transform=\"translate(324.98,0)\" d=\"M0,60v387\" style=\"stroke: rgb(255, 255, 255); stroke-opacity: 1; stroke-width: 1px;\"/><path class=\"xgrid crisp\" transform=\"translate(429.18,0)\" d=\"M0,60v387\" style=\"stroke: rgb(255, 255, 255); stroke-opacity: 1; stroke-width: 1px;\"/><path class=\"xgrid crisp\" transform=\"translate(533.38,0)\" d=\"M0,60v387\" style=\"stroke: rgb(255, 255, 255); stroke-opacity: 1; stroke-width: 1px;\"/></g><g class=\"y\"><path class=\"ygrid crisp\" transform=\"translate(0,400.56)\" d=\"M65,0h521\" style=\"stroke: rgb(255, 255, 255); stroke-opacity: 1; stroke-width: 1px;\"/><path class=\"ygrid crisp\" transform=\"translate(0,323.16)\" d=\"M65,0h521\" style=\"stroke: rgb(255, 255, 255); stroke-opacity: 1; stroke-width: 1px;\"/><path class=\"ygrid crisp\" transform=\"translate(0,245.76)\" d=\"M65,0h521\" style=\"stroke: rgb(255, 255, 255); stroke-opacity: 1; stroke-width: 1px;\"/><path class=\"ygrid crisp\" transform=\"translate(0,168.36)\" d=\"M65,0h521\" style=\"stroke: rgb(255, 255, 255); stroke-opacity: 1; stroke-width: 1px;\"/><path class=\"ygrid crisp\" transform=\"translate(0,90.96000000000001)\" d=\"M65,0h521\" style=\"stroke: rgb(255, 255, 255); stroke-opacity: 1; stroke-width: 1px;\"/></g></g><g class=\"zerolinelayer\"/><path class=\"xlines-below\"/><path class=\"ylines-below\"/><g class=\"overlines-below\"/><g class=\"xaxislayer-below\"/><g class=\"yaxislayer-below\"/><g class=\"overaxes-below\"/><g class=\"plot\" transform=\"translate(65,60)\" clip-path=\"url(#clipbbdb73xyplot)\"><g class=\"contourlayer mlayer\"><g class=\"contour\" style=\"opacity: 1;\"><g class=\"heatmapcoloring\"/><g class=\"contourbg\"><path d=\"M0,0L521,0L521,387L0,387Z\" style=\"stroke: none; fill: rgb(13, 8, 135);\"/></g><g class=\"contourfill\"><path d=\"M0,0L521,0L521,387L0,387ZM43.25,193.5C43.26,196.86 59.26,204.38 65.13,203.5C69.77,202.8 76.38,196.86 76.39,193.5C76.4,190.13 69.78,184.02 65.13,183.32C59.26,182.43 43.24,190.13 43.25,193.5Z\" style=\"stroke: none; fill: rgb(83, 2, 162);\"/><path d=\"M0,195.93Q47.48,227.24 65.13,224.45C79.42,222.19 99.95,203.89 100,193.5C100.05,183.07 79.44,164.25 65.13,161.98Q47.5,159.19 0,191.12L0,0L521,0L521,387L0,387Z\" style=\"stroke: none; fill: rgb(138, 14, 162);\"/><path d=\"M0,238.7Q11.95,240.6 19.94,241.88C31.97,243.8 54.74,250.93 65.13,249.14C71.11,248.11 73.09,246.01 78.42,241.88C89.56,233.24 123.6,209.63 123.61,193.5C123.62,177.38 89.8,153.51 78.59,145.13C73.24,141.13 71.11,139.36 65.13,138.42C54.78,136.79 32.65,143.04 20.65,145.13Q12.44,146.56 0,149.22L0,0L521,0L521,387L0,387Z\" style=\"stroke: none; fill: rgb(184, 50, 137);\"/><path d=\"M0,288.68Q16.56,289.54 26.13,290.25C37.84,291.12 56.53,294.79 65.13,293.7C69.55,293.14 70.33,291.92 74.9,290.25C85.83,286.25 115.66,278.59 130.25,269.26C142.11,261.68 151.31,253.39 158.17,241.88C165.96,228.82 173.97,209.24 172.09,193.5C170.11,176.95 153.19,154.96 144.5,145.13C139.59,139.58 137.04,138.42 130.25,134.5C116.69,126.67 87.3,110.27 65.13,106.51Q43.85,102.9 0,111.07L0,0L521,0L521,387L0,387Z\" style=\"stroke: none; fill: rgb(219, 92, 104);\"/><path d=\"M0,378.94Q43.5,383.32 65.13,381.85C86.92,380.37 109.33,377.27 130.25,369.99C151.86,362.47 174.49,350.5 192.555,336.775C209.79,323.68 226.54,307.1 236.87,290.25C246.09,275.2 251.62,258.24 253.9,241.88C256.12,225.98 255.13,209.21 250.93,193.5C246.5,176.91 236.96,158.37 226.91,145.13C218,133.4 205.65,125.16 195.38,116.73C186.27,109.25 178.65,102.97 168.63,96.75C157.26,89.69 145.09,82.78 130.25,77.3C111.73,70.46 86.99,63.79 65.13,61.45Q43.57,59.14 0,63.12L0,0L521,0L521,387L0,387Z\" style=\"stroke: none; fill: rgb(243, 137, 72);\"/><path d=\"M413.58,387Q424.76,354.91 427.31,338.63C429.82,322.66 430.35,306.29 428.98,290.25C427.59,274.04 424.56,257.81 418.91,241.88C412.84,224.77 402.63,207.38 392.76,191.24C382.92,175.14 371.72,158.14 359.78,145.13C349.15,133.55 335.36,124.83 325.63,115.98C318,109.04 314.14,103.44 305.79,96.75C294.1,87.38 274.31,75.62 260.5,67C249.17,59.92 239.87,54.21 229.1,48.38C218.17,42.47 208.64,37.41 195.38,31.81C177.39,24.21 150.55,13.96 130.25,8.58Q113.16,4.05 81.99,0L521,0L521,387Z\" style=\"stroke: none; fill: rgb(252, 190, 44);\"/><path d=\"M521,69.91Q475.11,56.57 452.985,49.685C431.74,43.07 411.26,37.58 390.75,29.45Q369.68,21.1 328.29,0L521,0Z\" style=\"stroke: none; fill: rgb(240, 249, 33);\"/></g><g class=\"contourlines\"><g class=\"contourlevel\"><path class=\"closedline\" d=\"M43.25,193.5C43.26,196.86 59.26,204.38 65.13,203.5C69.77,202.8 76.38,196.86 76.39,193.5C76.4,190.13 69.78,184.02 65.13,183.32C59.26,182.43 43.24,190.13 43.25,193.5Z\" style=\"stroke-miterlimit: 1; vector-effect: non-scaling-stroke; fill: none; stroke: rgb(0, 0, 0); stroke-opacity: 1; stroke-width: 0.5px;\"/></g><g class=\"contourlevel\"><path class=\"openline\" d=\"M0,195.93Q47.48,227.24 65.13,224.45C79.42,222.19 99.95,203.89 100,193.5C100.05,183.07 79.44,164.25 65.13,161.98Q47.5,159.19 0,191.12\" style=\"stroke-miterlimit: 1; vector-effect: non-scaling-stroke; fill: none; stroke: rgb(0, 0, 0); stroke-opacity: 1; stroke-width: 0.5px;\"/></g><g class=\"contourlevel\"><path class=\"openline\" d=\"M0,238.7Q11.95,240.6 19.94,241.88C31.97,243.8 54.74,250.93 65.13,249.14C71.11,248.11 73.09,246.01 78.42,241.88C89.56,233.24 123.6,209.63 123.61,193.5C123.62,177.38 89.8,153.51 78.59,145.13C73.24,141.13 71.11,139.36 65.13,138.42C54.78,136.79 32.65,143.04 20.65,145.13Q12.44,146.56 0,149.22\" style=\"stroke-miterlimit: 1; vector-effect: non-scaling-stroke; fill: none; stroke: rgb(0, 0, 0); stroke-opacity: 1; stroke-width: 0.5px;\"/></g><g class=\"contourlevel\"><path class=\"openline\" d=\"M0,288.68Q16.56,289.54 26.13,290.25C37.84,291.12 56.53,294.79 65.13,293.7C69.55,293.14 70.33,291.92 74.9,290.25C85.83,286.25 115.66,278.59 130.25,269.26C142.11,261.68 151.31,253.39 158.17,241.88C165.96,228.82 173.97,209.24 172.09,193.5C170.11,176.95 153.19,154.96 144.5,145.13C139.59,139.58 137.04,138.42 130.25,134.5C116.69,126.67 87.3,110.27 65.13,106.51Q43.85,102.9 0,111.07\" style=\"stroke-miterlimit: 1; vector-effect: non-scaling-stroke; fill: none; stroke: rgb(0, 0, 0); stroke-opacity: 1; stroke-width: 0.5px;\"/></g><g class=\"contourlevel\"><path class=\"openline\" d=\"M0,378.94Q43.5,383.32 65.13,381.85C86.92,380.37 109.33,377.27 130.25,369.99C151.86,362.47 174.49,350.5 192.555,336.775C209.79,323.68 226.54,307.1 236.87,290.25C246.09,275.2 251.62,258.24 253.9,241.88C256.12,225.98 255.13,209.21 250.93,193.5C246.5,176.91 236.96,158.37 226.91,145.13C218,133.4 205.65,125.16 195.38,116.73C186.27,109.25 178.65,102.97 168.63,96.75C157.26,89.69 145.09,82.78 130.25,77.3C111.73,70.46 86.99,63.79 65.13,61.45Q43.57,59.14 0,63.12\" style=\"stroke-miterlimit: 1; vector-effect: non-scaling-stroke; fill: none; stroke: rgb(0, 0, 0); stroke-opacity: 1; stroke-width: 0.5px;\"/></g><g class=\"contourlevel\"><path class=\"openline\" d=\"M413.58,387Q424.76,354.91 427.31,338.63C429.82,322.66 430.35,306.29 428.98,290.25C427.59,274.04 424.56,257.81 418.91,241.88C412.84,224.77 402.63,207.38 392.76,191.24C382.92,175.14 371.72,158.14 359.78,145.13C349.15,133.55 335.36,124.83 325.63,115.98C318,109.04 314.14,103.44 305.79,96.75C294.1,87.38 274.31,75.62 260.5,67C249.17,59.92 239.87,54.21 229.1,48.38C218.17,42.47 208.64,37.41 195.38,31.81C177.39,24.21 150.55,13.96 130.25,8.58Q113.16,4.05 81.99,0\" style=\"stroke-miterlimit: 1; vector-effect: non-scaling-stroke; fill: none; stroke: rgb(0, 0, 0); stroke-opacity: 1; stroke-width: 0.5px;\"/></g><g class=\"contourlevel\"><path class=\"openline\" d=\"M521,69.91Q475.11,56.57 452.985,49.685C431.74,43.07 411.26,37.58 390.75,29.45Q369.68,21.1 328.29,0\" style=\"stroke-miterlimit: 1; vector-effect: non-scaling-stroke; fill: none; stroke: rgb(0, 0, 0); stroke-opacity: 1; stroke-width: 0.5px;\"/></g></g></g></g></g><g class=\"overplot\"/><path class=\"xlines-above crisp\" d=\"M0,0\" style=\"fill: none;\"/><path class=\"ylines-above crisp\" d=\"M0,0\" style=\"fill: none;\"/><g class=\"overlines-above\"/><g class=\"xaxislayer-above\"><g class=\"xtick\"><text text-anchor=\"middle\" x=\"0\" y=\"460\" transform=\"translate(116.58,0)\" style=\"font-family: 'Open Sans', verdana, arial, sans-serif; font-size: 12px; fill: rgb(42, 63, 95); fill-opacity: 1; white-space: pre; opacity: 1;\">0.02</text></g><g class=\"xtick\"><text text-anchor=\"middle\" x=\"0\" y=\"460\" style=\"font-family: 'Open Sans', verdana, arial, sans-serif; font-size: 12px; fill: rgb(42, 63, 95); fill-opacity: 1; white-space: pre; opacity: 1;\" transform=\"translate(220.78,0)\">0.04</text></g><g class=\"xtick\"><text text-anchor=\"middle\" x=\"0\" y=\"460\" style=\"font-family: 'Open Sans', verdana, arial, sans-serif; font-size: 12px; fill: rgb(42, 63, 95); fill-opacity: 1; white-space: pre; opacity: 1;\" transform=\"translate(324.98,0)\">0.06</text></g><g class=\"xtick\"><text text-anchor=\"middle\" x=\"0\" y=\"460\" style=\"font-family: 'Open Sans', verdana, arial, sans-serif; font-size: 12px; fill: rgb(42, 63, 95); fill-opacity: 1; white-space: pre; opacity: 1;\" transform=\"translate(429.18,0)\">0.08</text></g><g class=\"xtick\"><text text-anchor=\"middle\" x=\"0\" y=\"460\" style=\"font-family: 'Open Sans', verdana, arial, sans-serif; font-size: 12px; fill: rgb(42, 63, 95); fill-opacity: 1; white-space: pre; opacity: 1;\" transform=\"translate(533.38,0)\">0.1</text></g></g><g class=\"yaxislayer-above\"><g class=\"ytick\"><text text-anchor=\"end\" x=\"64\" y=\"4.199999999999999\" transform=\"translate(0,400.56)\" style=\"font-family: 'Open Sans', verdana, arial, sans-serif; font-size: 12px; fill: rgb(42, 63, 95); fill-opacity: 1; white-space: pre; opacity: 1;\">0.04</text></g><g class=\"ytick\"><text text-anchor=\"end\" x=\"64\" y=\"4.199999999999999\" style=\"font-family: 'Open Sans', verdana, arial, sans-serif; font-size: 12px; fill: rgb(42, 63, 95); fill-opacity: 1; white-space: pre; opacity: 1;\" transform=\"translate(0,323.16)\">0.06</text></g><g class=\"ytick\"><text text-anchor=\"end\" x=\"64\" y=\"4.199999999999999\" style=\"font-family: 'Open Sans', verdana, arial, sans-serif; font-size: 12px; fill: rgb(42, 63, 95); fill-opacity: 1; white-space: pre; opacity: 1;\" transform=\"translate(0,245.76)\">0.08</text></g><g class=\"ytick\"><text text-anchor=\"end\" x=\"64\" y=\"4.199999999999999\" style=\"font-family: 'Open Sans', verdana, arial, sans-serif; font-size: 12px; fill: rgb(42, 63, 95); fill-opacity: 1; white-space: pre; opacity: 1;\" transform=\"translate(0,168.36)\">0.1</text></g><g class=\"ytick\"><text text-anchor=\"end\" x=\"64\" y=\"4.199999999999999\" style=\"font-family: 'Open Sans', verdana, arial, sans-serif; font-size: 12px; fill: rgb(42, 63, 95); fill-opacity: 1; white-space: pre; opacity: 1;\" transform=\"translate(0,90.96000000000001)\">0.12</text></g></g><g class=\"overaxes-above\"/></g></g><g class=\"polarlayer\"/><g class=\"ternarylayer\"/><g class=\"geolayer\"/><g class=\"funnelarealayer\"/><g class=\"pielayer\"/><g class=\"iciclelayer\"/><g class=\"treemaplayer\"/><g class=\"sunburstlayer\"/><g class=\"glimages\"/><defs id=\"topdefs-bbdb73\"><g class=\"clips\"/></defs><g class=\"layer-above\"><g class=\"imagelayer\"/><g class=\"shapelayer\"/></g><g class=\"infolayer\"><g class=\"cbca1edd colorbar\" transform=\"translate(65,60)\"><rect class=\"cbbg\" x=\"531\" y=\"0\" width=\"91.15625\" height=\"387\" style=\"fill: rgb(0, 0, 0); fill-opacity: 0; stroke: rgb(68, 68, 68); stroke-opacity: 1; stroke-width: 0;\"/><g class=\"cbfills\" transform=\"translate(0,31)\"><rect class=\"cbfill\" x=\"541\" width=\"30\" y=\"1\" height=\"345\" fill=\"#0d0887\" style=\"\"/><rect class=\"cbfill\" x=\"541\" width=\"30\" y=\"1\" height=\"320\" fill=\"#5302a2\" style=\"\"/><rect class=\"cbfill\" x=\"541\" width=\"30\" y=\"1\" height=\"271\" fill=\"#8a0ea2\" style=\"\"/><rect class=\"cbfill\" x=\"541\" width=\"30\" y=\"1\" height=\"221\" fill=\"#b83289\" style=\"\"/><rect class=\"cbfill\" x=\"541\" width=\"30\" y=\"1\" height=\"172\" fill=\"#db5c68\" style=\"\"/><rect class=\"cbfill\" x=\"541\" width=\"30\" y=\"1\" height=\"123\" fill=\"#f38948\" style=\"\"/><rect class=\"cbfill\" x=\"541\" width=\"30\" y=\"1\" height=\"73\" fill=\"#fcbe2c\" style=\"\"/><rect class=\"cbfill\" x=\"541\" width=\"30\" y=\"0\" height=\"25\" fill=\"#f0f921\" style=\"\"/></g><g class=\"cblines\" transform=\"translate(0,31)\"><path class=\"cbline\" d=\"M541,321.25h30\" style=\"fill: none; stroke: rgb(0, 0, 0); stroke-opacity: 1; stroke-width: 0.5px;\"/><path class=\"cbline\" d=\"M541,272.25h30\" style=\"fill: none; stroke: rgb(0, 0, 0); stroke-opacity: 1; stroke-width: 0.5px;\"/><path class=\"cbline\" d=\"M541,222.25h30\" style=\"fill: none; stroke: rgb(0, 0, 0); stroke-opacity: 1; stroke-width: 0.5px;\"/><path class=\"cbline\" d=\"M541,173.25h30\" style=\"fill: none; stroke: rgb(0, 0, 0); stroke-opacity: 1; stroke-width: 0.5px;\"/><path class=\"cbline\" d=\"M541,124.25h30\" style=\"fill: none; stroke: rgb(0, 0, 0); stroke-opacity: 1; stroke-width: 0.5px;\"/><path class=\"cbline\" d=\"M541,74.25h30\" style=\"fill: none; stroke: rgb(0, 0, 0); stroke-opacity: 1; stroke-width: 0.5px;\"/><path class=\"cbline\" d=\"M541,25.25h30\" style=\"fill: none; stroke: rgb(0, 0, 0); stroke-opacity: 1; stroke-width: 0.5px;\"/></g><g class=\"cbaxis crisp\" transform=\"translate(0,-60)\"><g class=\"ycbca1eddtick\"><text text-anchor=\"start\" x=\"573.9\" y=\"4.199999999999999\" transform=\"translate(0,412.29)\" style=\"font-family: 'Open Sans', verdana, arial, sans-serif; font-size: 12px; fill: rgb(42, 63, 95); fill-opacity: 1; white-space: pre; opacity: 1;\">−4.5</text></g><g class=\"ycbca1eddtick\"><text text-anchor=\"start\" x=\"573.9\" y=\"4.199999999999999\" style=\"font-family: 'Open Sans', verdana, arial, sans-serif; font-size: 12px; fill: rgb(42, 63, 95); fill-opacity: 1; white-space: pre; opacity: 1;\" transform=\"translate(0,362.86)\">−4</text></g><g class=\"ycbca1eddtick\"><text text-anchor=\"start\" x=\"573.9\" y=\"4.199999999999999\" style=\"font-family: 'Open Sans', verdana, arial, sans-serif; font-size: 12px; fill: rgb(42, 63, 95); fill-opacity: 1; white-space: pre; opacity: 1;\" transform=\"translate(0,313.43)\">−3.5</text></g><g class=\"ycbca1eddtick\"><text text-anchor=\"start\" x=\"573.9\" y=\"4.199999999999999\" style=\"font-family: 'Open Sans', verdana, arial, sans-serif; font-size: 12px; fill: rgb(42, 63, 95); fill-opacity: 1; white-space: pre; opacity: 1;\" transform=\"translate(0,264)\">−3</text></g><g class=\"ycbca1eddtick\"><text text-anchor=\"start\" x=\"573.9\" y=\"4.199999999999999\" style=\"font-family: 'Open Sans', verdana, arial, sans-serif; font-size: 12px; fill: rgb(42, 63, 95); fill-opacity: 1; white-space: pre; opacity: 1;\" transform=\"translate(0,214.57)\">−2.5</text></g><g class=\"ycbca1eddtick\"><text text-anchor=\"start\" x=\"573.9\" y=\"4.199999999999999\" style=\"font-family: 'Open Sans', verdana, arial, sans-serif; font-size: 12px; fill: rgb(42, 63, 95); fill-opacity: 1; white-space: pre; opacity: 1;\" transform=\"translate(0,165.14)\">−2</text></g><g class=\"ycbca1eddtick\"><text text-anchor=\"start\" x=\"573.9\" y=\"4.199999999999999\" style=\"font-family: 'Open Sans', verdana, arial, sans-serif; font-size: 12px; fill: rgb(42, 63, 95); fill-opacity: 1; white-space: pre; opacity: 1;\" transform=\"translate(0,115.71000000000001)\">−1.5</text></g></g><g class=\"cbtitleunshift\" transform=\"translate(-65,-60)\"><g class=\"cbtitle\" transform=\"\"><text class=\"ycbca1eddtitle\" x=\"606.4200000000001\" y=\"83.5\" text-anchor=\"start\" style=\"font-family: Arial, sans-serif; font-size: 14px; fill: rgb(42, 63, 95); opacity: 1; font-weight: normal; white-space: pre;\">log(|δ x_σ|)</text></g></g><rect class=\"cboutline\" x=\"541\" y=\"31\" width=\"30\" height=\"346\" style=\"stroke: rgb(68, 68, 68); stroke-opacity: 1; fill: none; stroke-width: 0;\"/></g><g class=\"g-gtitle\"><text class=\"gtitle\" x=\"350\" y=\"30\" text-anchor=\"middle\" dy=\"0em\" style=\"font-family: 'Open Sans', verdana, arial, sans-serif; font-size: 17px; fill: rgb(42, 63, 95); opacity: 1; font-weight: normal; white-space: pre;\">Plaquette DMRG |δ x_σ| L=4, D150</text></g><g class=\"g-xtitle\"><text class=\"xtitle\" x=\"325.5\" y=\"487.8\" text-anchor=\"middle\" style=\"font-family: 'Open Sans', verdana, arial, sans-serif; font-size: 14px; fill: rgb(42, 63, 95); opacity: 1; font-weight: normal; white-space: pre;\">Im(lambda)</text></g><g class=\"g-ytitle\" transform=\"translate(2.0654296875,0)\"><text class=\"ytitle\" transform=\"rotate(-90,11.934375000000003,253.5)\" x=\"11.934375000000003\" y=\"253.5\" text-anchor=\"middle\" style=\"font-family: 'Open Sans', verdana, arial, sans-serif; font-size: 14px; fill: rgb(42, 63, 95); opacity: 1; font-weight: normal; white-space: pre;\">Re(lambda)</text></g></g></svg>"
      ],
      "text/html": [
       "<div\n",
       "    class=\"webio-mountpoint\"\n",
       "    data-webio-mountpoint=\"13036342495282883413\"\n",
       ">\n",
       "    <script>\n",
       "    (function(){\n",
       "    // Some integrations (namely, IJulia/Jupyter) use an alternate render pathway than\n",
       "    // just putting the html on the page. If WebIO isn't defined, then it's pretty likely\n",
       "    // that we're in one of those situations and the integration just isn't installed\n",
       "    // correctly.\n",
       "    if (typeof window.WebIO === \"undefined\") {\n",
       "        document\n",
       "            .querySelector('[data-webio-mountpoint=\"13036342495282883413\"]')\n",
       "            .innerHTML = (\n",
       "                '<div style=\"padding: 1em; background-color: #f8d6da; border: 1px solid #f5c6cb; font-weight: bold;\">' +\n",
       "                '<p><strong>WebIO not detected.</strong></p>' +\n",
       "                '<p>Please read ' +\n",
       "                '<a href=\"https://juliagizmos.github.io/WebIO.jl/latest/troubleshooting/not-detected/\" target=\"_blank\">the troubleshooting guide</a> ' +\n",
       "                'for more information on how to resolve this issue.</p>' +\n",
       "                '<p><a href=\"https://juliagizmos.github.io/WebIO.jl/latest/troubleshooting/not-detected/\" target=\"_blank\">https://juliagizmos.github.io/WebIO.jl/latest/troubleshooting/not-detected/</a></p>' +\n",
       "                '</div>'\n",
       "            );\n",
       "        return;\n",
       "    }\n",
       "    WebIO.mount(\n",
       "        document.querySelector('[data-webio-mountpoint=\"13036342495282883413\"]'),\n",
       "        {\"props\":{},\"nodeType\":\"Scope\",\"type\":\"node\",\"instanceArgs\":{\"imports\":{\"data\":[{\"name\":\"Plotly\",\"type\":\"js\",\"url\":\"\\/assetserver\\/ea045726c9e6817144fcffeb0338f99560940283-plotly.min.js\"},{\"name\":null,\"type\":\"js\",\"url\":\"\\/assetserver\\/95b5156f246fb40d2c47dbceb1d72058a4ef06a9-plotly_webio.bundle.js\"}],\"type\":\"async_block\"},\"id\":\"10193003888621455100\",\"handlers\":{\"_toImage\":[\"(function (options){return this.Plotly.toImage(this.plotElem,options).then((function (data){return WebIO.setval({\\\"name\\\":\\\"image\\\",\\\"scope\\\":\\\"10193003888621455100\\\",\\\"id\\\":\\\"75\\\",\\\"type\\\":\\\"observable\\\"},data)}))})\"],\"__get_gd_contents\":[\"(function (prop){prop==\\\"data\\\" ? (WebIO.setval({\\\"name\\\":\\\"__gd_contents\\\",\\\"scope\\\":\\\"10193003888621455100\\\",\\\"id\\\":\\\"76\\\",\\\"type\\\":\\\"observable\\\"},this.plotElem.data)) : undefined; return prop==\\\"layout\\\" ? (WebIO.setval({\\\"name\\\":\\\"__gd_contents\\\",\\\"scope\\\":\\\"10193003888621455100\\\",\\\"id\\\":\\\"76\\\",\\\"type\\\":\\\"observable\\\"},this.plotElem.layout)) : undefined})\"],\"_downloadImage\":[\"(function (options){return this.Plotly.downloadImage(this.plotElem,options)})\"],\"_commands\":[\"(function (args){var fn=args.shift(); var elem=this.plotElem; var Plotly=this.Plotly; args.unshift(elem); return Plotly[fn].apply(this,args)})\"]},\"systemjs_options\":null,\"mount_callbacks\":[\"function () {\\n    var handler = ((function (Plotly,PlotlyWebIO){PlotlyWebIO.init(WebIO); var gd=this.dom.querySelector(\\\"#plot-a8031d47-844d-4cc8-9398-725cc610de91\\\"); this.plotElem=gd; this.Plotly=Plotly; (window.Blink!==undefined) ? (gd.style.width=\\\"100%\\\", gd.style.height=\\\"100vh\\\", gd.style.marginLeft=\\\"0%\\\", gd.style.marginTop=\\\"0vh\\\") : undefined; window.onresize=(function (){return Plotly.Plots.resize(gd)}); Plotly.newPlot(gd,[{\\\"colorbar\\\":{\\\"titleside\\\":\\\"top\\\",\\\"titlefont\\\":{\\\"family\\\":\\\"Arial, sans-serif\\\",\\\"size\\\":14},\\\"title\\\":\\\"log(|δ x_σ|)\\\"},\\\"y\\\":[0.027999999999999997,0.040499999999999994,0.053,0.0655,0.078,0.0905,0.10300000000000001,0.11549999999999999,0.128,0.027999999999999997,0.040499999999999994,0.053,0.0655,0.078,0.0905,0.10300000000000001,0.11549999999999999,0.128,0.027999999999999997,0.040499999999999994,0.053,0.0655,0.078,0.0905,0.10300000000000001,0.11549999999999999,0.128,0.027999999999999997,0.040499999999999994,0.053,0.0655,0.078,0.0905,0.10300000000000001,0.11549999999999999,0.128,0.027999999999999997,0.040499999999999994,0.053,0.0655,0.078,0.0905,0.10300000000000001,0.11549999999999999,0.128,0.027999999999999997,0.040499999999999994,0.053,0.0655,0.078,0.0905,0.10300000000000001,0.11549999999999999,0.128,0.027999999999999997,0.040499999999999994,0.053,0.0655,0.078,0.0905,0.10300000000000001,0.11549999999999999,0.128,0.027999999999999997,0.040499999999999994,0.053,0.0655,0.078,0.0905,0.10300000000000001,0.11549999999999999,0.128,0.027999999999999997,0.040499999999999994,0.053,0.0655,0.078,0.0905,0.10300000000000001,0.11549999999999999,0.128],\\\"type\\\":\\\"contour\\\",\\\"fill\\\":true,\\\"z\\\":[-2.4643485968898413,-2.67821262231491,-2.984430677452657,-3.462833267532243,-4.028389567160612,-3.451176229203124,-2.810218574352252,-2.363933354466001,-2.027824490394368,-2.4764416264830684,-2.697521457289594,-3.0232304594562183,-3.5842274088159876,-4.738546194927176,-3.605161774066055,-2.8469805026428627,-2.371425408066233,-2.0201180244393977,-2.4337706500583023,-2.6221551209928804,-2.868497201342027,-3.1716282067704094,-3.359477271477882,-3.096583487493796,-2.656668696797569,-2.2670937265576363,-1.942435166022288,-2.350334687460986,-2.4884040640687815,-2.6397015143003606,-2.771230486894803,-2.7999292563922715,-2.655145947173045,-2.3908021211411787,-2.0966734796638846,-1.814288723891507,-2.246282851780001,-2.3376061494985585,-2.4204295285342443,-2.4694222642770183,-2.4483346624144944,-2.3347653011895746,-2.143677960835214,-1.9100117582430391,-1.6620708873494665,-2.137542989191026,-2.1929482730024747,-2.232338799215866,-2.2396902291044274,-2.1973767853867825,-2.095298984818759,-1.9370981745995919,-1.7356107823885722,-1.5059741972718912,-2.03338720118184,-2.0632778034717787,-2.0758068172055,-2.060938345203111,-2.0089048985977507,-1.9135769074412288,-1.7737959291787126,-1.5900347100385632,-1.359919695246785,-1.9381444521081432,-1.950571925914478,-1.94667063025785,-1.9200147447766525,-1.864712901245729,-1.7766884224364619,-1.6536039141022199,-1.4912288762561254,-1.263747538233548,-1.8532731407379017,-1.8540566002753078,-1.8403719213910021,-1.8080758027885306,-1.7536203440146272,-1.6747528643405036,-1.5708327164970353,-1.4431449162049812,-1.3022256723013355],\\\"transpose\\\":true,\\\"x\\\":[0.010099999999999998,0.010099999999999998,0.010099999999999998,0.010099999999999998,0.010099999999999998,0.010099999999999998,0.010099999999999998,0.010099999999999998,0.010099999999999998,0.022599999999999995,0.022599999999999995,0.022599999999999995,0.022599999999999995,0.022599999999999995,0.022599999999999995,0.022599999999999995,0.022599999999999995,0.022599999999999995,0.0351,0.0351,0.0351,0.0351,0.0351,0.0351,0.0351,0.0351,0.0351,0.0476,0.0476,0.0476,0.0476,0.0476,0.0476,0.0476,0.0476,0.0476,0.0601,0.0601,0.0601,0.0601,0.0601,0.0601,0.0601,0.0601,0.0601,0.0726,0.0726,0.0726,0.0726,0.0726,0.0726,0.0726,0.0726,0.0726,0.08510000000000001,0.08510000000000001,0.08510000000000001,0.08510000000000001,0.08510000000000001,0.08510000000000001,0.08510000000000001,0.08510000000000001,0.08510000000000001,0.09759999999999999,0.09759999999999999,0.09759999999999999,0.09759999999999999,0.09759999999999999,0.09759999999999999,0.09759999999999999,0.09759999999999999,0.09759999999999999,0.1101,0.1101,0.1101,0.1101,0.1101,0.1101,0.1101,0.1101,0.1101]}],{\\\"xaxis\\\":{\\\"title\\\":{\\\"text\\\":\\\"Im(lambda)\\\"}},\\\"template\\\":{\\\"layout\\\":{\\\"coloraxis\\\":{\\\"colorbar\\\":{\\\"ticks\\\":\\\"\\\",\\\"outlinewidth\\\":0}},\\\"xaxis\\\":{\\\"gridcolor\\\":\\\"white\\\",\\\"zerolinewidth\\\":2,\\\"title\\\":{\\\"standoff\\\":15},\\\"ticks\\\":\\\"\\\",\\\"zerolinecolor\\\":\\\"white\\\",\\\"automargin\\\":true,\\\"linecolor\\\":\\\"white\\\"},\\\"hovermode\\\":\\\"closest\\\",\\\"paper_bgcolor\\\":\\\"white\\\",\\\"geo\\\":{\\\"showlakes\\\":true,\\\"showland\\\":true,\\\"landcolor\\\":\\\"#E5ECF6\\\",\\\"bgcolor\\\":\\\"white\\\",\\\"subunitcolor\\\":\\\"white\\\",\\\"lakecolor\\\":\\\"white\\\"},\\\"colorscale\\\":{\\\"sequential\\\":[[0.0,\\\"#0d0887\\\"],[0.1111111111111111,\\\"#46039f\\\"],[0.2222222222222222,\\\"#7201a8\\\"],[0.3333333333333333,\\\"#9c179e\\\"],[0.4444444444444444,\\\"#bd3786\\\"],[0.5555555555555556,\\\"#d8576b\\\"],[0.6666666666666666,\\\"#ed7953\\\"],[0.7777777777777778,\\\"#fb9f3a\\\"],[0.8888888888888888,\\\"#fdca26\\\"],[1.0,\\\"#f0f921\\\"]],\\\"diverging\\\":[[0,\\\"#8e0152\\\"],[0.1,\\\"#c51b7d\\\"],[0.2,\\\"#de77ae\\\"],[0.3,\\\"#f1b6da\\\"],[0.4,\\\"#fde0ef\\\"],[0.5,\\\"#f7f7f7\\\"],[0.6,\\\"#e6f5d0\\\"],[0.7,\\\"#b8e186\\\"],[0.8,\\\"#7fbc41\\\"],[0.9,\\\"#4d9221\\\"],[1,\\\"#276419\\\"]],\\\"sequentialminus\\\":[[0.0,\\\"#0d0887\\\"],[0.1111111111111111,\\\"#46039f\\\"],[0.2222222222222222,\\\"#7201a8\\\"],[0.3333333333333333,\\\"#9c179e\\\"],[0.4444444444444444,\\\"#bd3786\\\"],[0.5555555555555556,\\\"#d8576b\\\"],[0.6666666666666666,\\\"#ed7953\\\"],[0.7777777777777778,\\\"#fb9f3a\\\"],[0.8888888888888888,\\\"#fdca26\\\"],[1.0,\\\"#f0f921\\\"]]},\\\"yaxis\\\":{\\\"gridcolor\\\":\\\"white\\\",\\\"zerolinewidth\\\":2,\\\"title\\\":{\\\"standoff\\\":15},\\\"ticks\\\":\\\"\\\",\\\"zerolinecolor\\\":\\\"white\\\",\\\"automargin\\\":true,\\\"linecolor\\\":\\\"white\\\"},\\\"shapedefaults\\\":{\\\"line\\\":{\\\"color\\\":\\\"#2a3f5f\\\"}},\\\"hoverlabel\\\":{\\\"align\\\":\\\"left\\\"},\\\"mapbox\\\":{\\\"style\\\":\\\"light\\\"},\\\"polar\\\":{\\\"angularaxis\\\":{\\\"gridcolor\\\":\\\"white\\\",\\\"ticks\\\":\\\"\\\",\\\"linecolor\\\":\\\"white\\\"},\\\"bgcolor\\\":\\\"#E5ECF6\\\",\\\"radialaxis\\\":{\\\"gridcolor\\\":\\\"white\\\",\\\"ticks\\\":\\\"\\\",\\\"linecolor\\\":\\\"white\\\"}},\\\"autotypenumbers\\\":\\\"strict\\\",\\\"font\\\":{\\\"color\\\":\\\"#2a3f5f\\\"},\\\"ternary\\\":{\\\"baxis\\\":{\\\"gridcolor\\\":\\\"white\\\",\\\"ticks\\\":\\\"\\\",\\\"linecolor\\\":\\\"white\\\"},\\\"bgcolor\\\":\\\"#E5ECF6\\\",\\\"caxis\\\":{\\\"gridcolor\\\":\\\"white\\\",\\\"ticks\\\":\\\"\\\",\\\"linecolor\\\":\\\"white\\\"},\\\"aaxis\\\":{\\\"gridcolor\\\":\\\"white\\\",\\\"ticks\\\":\\\"\\\",\\\"linecolor\\\":\\\"white\\\"}},\\\"annotationdefaults\\\":{\\\"arrowhead\\\":0,\\\"arrowwidth\\\":1,\\\"arrowcolor\\\":\\\"#2a3f5f\\\"},\\\"plot_bgcolor\\\":\\\"#E5ECF6\\\",\\\"title\\\":{\\\"x\\\":0.05},\\\"scene\\\":{\\\"xaxis\\\":{\\\"gridcolor\\\":\\\"white\\\",\\\"gridwidth\\\":2,\\\"backgroundcolor\\\":\\\"#E5ECF6\\\",\\\"ticks\\\":\\\"\\\",\\\"showbackground\\\":true,\\\"zerolinecolor\\\":\\\"white\\\",\\\"linecolor\\\":\\\"white\\\"},\\\"zaxis\\\":{\\\"gridcolor\\\":\\\"white\\\",\\\"gridwidth\\\":2,\\\"backgroundcolor\\\":\\\"#E5ECF6\\\",\\\"ticks\\\":\\\"\\\",\\\"showbackground\\\":true,\\\"zerolinecolor\\\":\\\"white\\\",\\\"linecolor\\\":\\\"white\\\"},\\\"yaxis\\\":{\\\"gridcolor\\\":\\\"white\\\",\\\"gridwidth\\\":2,\\\"backgroundcolor\\\":\\\"#E5ECF6\\\",\\\"ticks\\\":\\\"\\\",\\\"showbackground\\\":true,\\\"zerolinecolor\\\":\\\"white\\\",\\\"linecolor\\\":\\\"white\\\"}},\\\"colorway\\\":[\\\"#636efa\\\",\\\"#EF553B\\\",\\\"#00cc96\\\",\\\"#ab63fa\\\",\\\"#FFA15A\\\",\\\"#19d3f3\\\",\\\"#FF6692\\\",\\\"#B6E880\\\",\\\"#FF97FF\\\",\\\"#FECB52\\\"]},\\\"data\\\":{\\\"barpolar\\\":[{\\\"type\\\":\\\"barpolar\\\",\\\"marker\\\":{\\\"line\\\":{\\\"color\\\":\\\"#E5ECF6\\\",\\\"width\\\":0.5}}}],\\\"carpet\\\":[{\\\"aaxis\\\":{\\\"gridcolor\\\":\\\"white\\\",\\\"endlinecolor\\\":\\\"#2a3f5f\\\",\\\"minorgridcolor\\\":\\\"white\\\",\\\"startlinecolor\\\":\\\"#2a3f5f\\\",\\\"linecolor\\\":\\\"white\\\"},\\\"type\\\":\\\"carpet\\\",\\\"baxis\\\":{\\\"gridcolor\\\":\\\"white\\\",\\\"endlinecolor\\\":\\\"#2a3f5f\\\",\\\"minorgridcolor\\\":\\\"white\\\",\\\"startlinecolor\\\":\\\"#2a3f5f\\\",\\\"linecolor\\\":\\\"white\\\"}}],\\\"scatterpolar\\\":[{\\\"type\\\":\\\"scatterpolar\\\",\\\"marker\\\":{\\\"colorbar\\\":{\\\"ticks\\\":\\\"\\\",\\\"outlinewidth\\\":0}}}],\\\"parcoords\\\":[{\\\"line\\\":{\\\"colorbar\\\":{\\\"ticks\\\":\\\"\\\",\\\"outlinewidth\\\":0}},\\\"type\\\":\\\"parcoords\\\"}],\\\"scatter\\\":[{\\\"type\\\":\\\"scatter\\\",\\\"marker\\\":{\\\"colorbar\\\":{\\\"ticks\\\":\\\"\\\",\\\"outlinewidth\\\":0}}}],\\\"histogram2dcontour\\\":[{\\\"colorbar\\\":{\\\"ticks\\\":\\\"\\\",\\\"outlinewidth\\\":0},\\\"type\\\":\\\"histogram2dcontour\\\",\\\"colorscale\\\":[[0.0,\\\"#0d0887\\\"],[0.1111111111111111,\\\"#46039f\\\"],[0.2222222222222222,\\\"#7201a8\\\"],[0.3333333333333333,\\\"#9c179e\\\"],[0.4444444444444444,\\\"#bd3786\\\"],[0.5555555555555556,\\\"#d8576b\\\"],[0.6666666666666666,\\\"#ed7953\\\"],[0.7777777777777778,\\\"#fb9f3a\\\"],[0.8888888888888888,\\\"#fdca26\\\"],[1.0,\\\"#f0f921\\\"]]}],\\\"contour\\\":[{\\\"colorbar\\\":{\\\"ticks\\\":\\\"\\\",\\\"outlinewidth\\\":0},\\\"type\\\":\\\"contour\\\",\\\"colorscale\\\":[[0.0,\\\"#0d0887\\\"],[0.1111111111111111,\\\"#46039f\\\"],[0.2222222222222222,\\\"#7201a8\\\"],[0.3333333333333333,\\\"#9c179e\\\"],[0.4444444444444444,\\\"#bd3786\\\"],[0.5555555555555556,\\\"#d8576b\\\"],[0.6666666666666666,\\\"#ed7953\\\"],[0.7777777777777778,\\\"#fb9f3a\\\"],[0.8888888888888888,\\\"#fdca26\\\"],[1.0,\\\"#f0f921\\\"]]}],\\\"scattercarpet\\\":[{\\\"type\\\":\\\"scattercarpet\\\",\\\"marker\\\":{\\\"colorbar\\\":{\\\"ticks\\\":\\\"\\\",\\\"outlinewidth\\\":0}}}],\\\"mesh3d\\\":[{\\\"colorbar\\\":{\\\"ticks\\\":\\\"\\\",\\\"outlinewidth\\\":0},\\\"type\\\":\\\"mesh3d\\\"}],\\\"surface\\\":[{\\\"colorbar\\\":{\\\"ticks\\\":\\\"\\\",\\\"outlinewidth\\\":0},\\\"type\\\":\\\"surface\\\",\\\"colorscale\\\":[[0.0,\\\"#0d0887\\\"],[0.1111111111111111,\\\"#46039f\\\"],[0.2222222222222222,\\\"#7201a8\\\"],[0.3333333333333333,\\\"#9c179e\\\"],[0.4444444444444444,\\\"#bd3786\\\"],[0.5555555555555556,\\\"#d8576b\\\"],[0.6666666666666666,\\\"#ed7953\\\"],[0.7777777777777778,\\\"#fb9f3a\\\"],[0.8888888888888888,\\\"#fdca26\\\"],[1.0,\\\"#f0f921\\\"]]}],\\\"scattermapbox\\\":[{\\\"type\\\":\\\"scattermapbox\\\",\\\"marker\\\":{\\\"colorbar\\\":{\\\"ticks\\\":\\\"\\\",\\\"outlinewidth\\\":0}}}],\\\"scattergeo\\\":[{\\\"type\\\":\\\"scattergeo\\\",\\\"marker\\\":{\\\"colorbar\\\":{\\\"ticks\\\":\\\"\\\",\\\"outlinewidth\\\":0}}}],\\\"histogram\\\":[{\\\"type\\\":\\\"histogram\\\",\\\"marker\\\":{\\\"colorbar\\\":{\\\"ticks\\\":\\\"\\\",\\\"outlinewidth\\\":0}}}],\\\"pie\\\":[{\\\"type\\\":\\\"pie\\\",\\\"automargin\\\":true}],\\\"choropleth\\\":[{\\\"colorbar\\\":{\\\"ticks\\\":\\\"\\\",\\\"outlinewidth\\\":0},\\\"type\\\":\\\"choropleth\\\"}],\\\"heatmapgl\\\":[{\\\"colorbar\\\":{\\\"ticks\\\":\\\"\\\",\\\"outlinewidth\\\":0},\\\"type\\\":\\\"heatmapgl\\\",\\\"colorscale\\\":[[0.0,\\\"#0d0887\\\"],[0.1111111111111111,\\\"#46039f\\\"],[0.2222222222222222,\\\"#7201a8\\\"],[0.3333333333333333,\\\"#9c179e\\\"],[0.4444444444444444,\\\"#bd3786\\\"],[0.5555555555555556,\\\"#d8576b\\\"],[0.6666666666666666,\\\"#ed7953\\\"],[0.7777777777777778,\\\"#fb9f3a\\\"],[0.8888888888888888,\\\"#fdca26\\\"],[1.0,\\\"#f0f921\\\"]]}],\\\"bar\\\":[{\\\"type\\\":\\\"bar\\\",\\\"error_y\\\":{\\\"color\\\":\\\"#2a3f5f\\\"},\\\"error_x\\\":{\\\"color\\\":\\\"#2a3f5f\\\"},\\\"marker\\\":{\\\"line\\\":{\\\"color\\\":\\\"#E5ECF6\\\",\\\"width\\\":0.5}}}],\\\"heatmap\\\":[{\\\"colorbar\\\":{\\\"ticks\\\":\\\"\\\",\\\"outlinewidth\\\":0},\\\"type\\\":\\\"heatmap\\\",\\\"colorscale\\\":[[0.0,\\\"#0d0887\\\"],[0.1111111111111111,\\\"#46039f\\\"],[0.2222222222222222,\\\"#7201a8\\\"],[0.3333333333333333,\\\"#9c179e\\\"],[0.4444444444444444,\\\"#bd3786\\\"],[0.5555555555555556,\\\"#d8576b\\\"],[0.6666666666666666,\\\"#ed7953\\\"],[0.7777777777777778,\\\"#fb9f3a\\\"],[0.8888888888888888,\\\"#fdca26\\\"],[1.0,\\\"#f0f921\\\"]]}],\\\"contourcarpet\\\":[{\\\"colorbar\\\":{\\\"ticks\\\":\\\"\\\",\\\"outlinewidth\\\":0},\\\"type\\\":\\\"contourcarpet\\\"}],\\\"table\\\":[{\\\"type\\\":\\\"table\\\",\\\"header\\\":{\\\"line\\\":{\\\"color\\\":\\\"white\\\"},\\\"fill\\\":{\\\"color\\\":\\\"#C8D4E3\\\"}},\\\"cells\\\":{\\\"line\\\":{\\\"color\\\":\\\"white\\\"},\\\"fill\\\":{\\\"color\\\":\\\"#EBF0F8\\\"}}}],\\\"scatter3d\\\":[{\\\"line\\\":{\\\"colorbar\\\":{\\\"ticks\\\":\\\"\\\",\\\"outlinewidth\\\":0}},\\\"type\\\":\\\"scatter3d\\\",\\\"marker\\\":{\\\"colorbar\\\":{\\\"ticks\\\":\\\"\\\",\\\"outlinewidth\\\":0}}}],\\\"scattergl\\\":[{\\\"type\\\":\\\"scattergl\\\",\\\"marker\\\":{\\\"colorbar\\\":{\\\"ticks\\\":\\\"\\\",\\\"outlinewidth\\\":0}}}],\\\"histogram2d\\\":[{\\\"colorbar\\\":{\\\"ticks\\\":\\\"\\\",\\\"outlinewidth\\\":0},\\\"type\\\":\\\"histogram2d\\\",\\\"colorscale\\\":[[0.0,\\\"#0d0887\\\"],[0.1111111111111111,\\\"#46039f\\\"],[0.2222222222222222,\\\"#7201a8\\\"],[0.3333333333333333,\\\"#9c179e\\\"],[0.4444444444444444,\\\"#bd3786\\\"],[0.5555555555555556,\\\"#d8576b\\\"],[0.6666666666666666,\\\"#ed7953\\\"],[0.7777777777777778,\\\"#fb9f3a\\\"],[0.8888888888888888,\\\"#fdca26\\\"],[1.0,\\\"#f0f921\\\"]]}],\\\"scatterternary\\\":[{\\\"type\\\":\\\"scatterternary\\\",\\\"marker\\\":{\\\"colorbar\\\":{\\\"ticks\\\":\\\"\\\",\\\"outlinewidth\\\":0}}}],\\\"scatterpolargl\\\":[{\\\"type\\\":\\\"scatterpolargl\\\",\\\"marker\\\":{\\\"colorbar\\\":{\\\"ticks\\\":\\\"\\\",\\\"outlinewidth\\\":0}}}]}},\\\"margin\\\":{\\\"l\\\":50,\\\"b\\\":50,\\\"r\\\":50,\\\"t\\\":60},\\\"title\\\":{\\\"text\\\":\\\"Plaquette DMRG |δ x_σ| L=4, D150\\\",\\\"x\\\":0.5},\\\"yaxis\\\":{\\\"title\\\":{\\\"text\\\":\\\"Re(lambda)\\\"}}},{\\\"showLink\\\":false,\\\"editable\\\":false,\\\"responsive\\\":true,\\\"staticPlot\\\":false,\\\"scrollZoom\\\":true}); gd.on(\\\"plotly_hover\\\",(function (data){var filtered_data=WebIO.PlotlyCommands.filterEventData(gd,data,\\\"hover\\\"); return !(filtered_data.isnil) ? (WebIO.setval({\\\"name\\\":\\\"hover\\\",\\\"scope\\\":\\\"10193003888621455100\\\",\\\"id\\\":\\\"71\\\",\\\"type\\\":\\\"observable\\\"},filtered_data.out)) : undefined})); gd.on(\\\"plotly_unhover\\\",(function (){return WebIO.setval({\\\"name\\\":\\\"hover\\\",\\\"scope\\\":\\\"10193003888621455100\\\",\\\"id\\\":\\\"71\\\",\\\"type\\\":\\\"observable\\\"},{})})); gd.on(\\\"plotly_selected\\\",(function (data){var filtered_data=WebIO.PlotlyCommands.filterEventData(gd,data,\\\"selected\\\"); return !(filtered_data.isnil) ? (WebIO.setval({\\\"name\\\":\\\"selected\\\",\\\"scope\\\":\\\"10193003888621455100\\\",\\\"id\\\":\\\"72\\\",\\\"type\\\":\\\"observable\\\"},filtered_data.out)) : undefined})); gd.on(\\\"plotly_deselect\\\",(function (){return WebIO.setval({\\\"name\\\":\\\"selected\\\",\\\"scope\\\":\\\"10193003888621455100\\\",\\\"id\\\":\\\"72\\\",\\\"type\\\":\\\"observable\\\"},{})})); gd.on(\\\"plotly_relayout\\\",(function (data){var filtered_data=WebIO.PlotlyCommands.filterEventData(gd,data,\\\"relayout\\\"); return !(filtered_data.isnil) ? (WebIO.setval({\\\"name\\\":\\\"relayout\\\",\\\"scope\\\":\\\"10193003888621455100\\\",\\\"id\\\":\\\"74\\\",\\\"type\\\":\\\"observable\\\"},filtered_data.out)) : undefined})); return gd.on(\\\"plotly_click\\\",(function (data){var filtered_data=WebIO.PlotlyCommands.filterEventData(gd,data,\\\"click\\\"); return !(filtered_data.isnil) ? (WebIO.setval({\\\"name\\\":\\\"click\\\",\\\"scope\\\":\\\"10193003888621455100\\\",\\\"id\\\":\\\"73\\\",\\\"type\\\":\\\"observable\\\"},filtered_data.out)) : undefined}))}));\\n    (WebIO.importBlock({\\\"data\\\":[{\\\"name\\\":\\\"Plotly\\\",\\\"type\\\":\\\"js\\\",\\\"url\\\":\\\"\\/assetserver\\/ea045726c9e6817144fcffeb0338f99560940283-plotly.min.js\\\"},{\\\"name\\\":null,\\\"type\\\":\\\"js\\\",\\\"url\\\":\\\"\\/assetserver\\/95b5156f246fb40d2c47dbceb1d72058a4ef06a9-plotly_webio.bundle.js\\\"}],\\\"type\\\":\\\"async_block\\\"})).then((imports) => handler.apply(this, imports));\\n}\\n\"],\"observables\":{\"_toImage\":{\"sync\":false,\"id\":\"78\",\"value\":{}},\"hover\":{\"sync\":false,\"id\":\"71\",\"value\":{}},\"selected\":{\"sync\":false,\"id\":\"72\",\"value\":{}},\"__gd_contents\":{\"sync\":false,\"id\":\"76\",\"value\":{}},\"click\":{\"sync\":false,\"id\":\"73\",\"value\":{}},\"image\":{\"sync\":true,\"id\":\"75\",\"value\":\"\"},\"__get_gd_contents\":{\"sync\":false,\"id\":\"80\",\"value\":\"\"},\"_downloadImage\":{\"sync\":false,\"id\":\"79\",\"value\":{}},\"relayout\":{\"sync\":false,\"id\":\"74\",\"value\":{}},\"_commands\":{\"sync\":false,\"id\":\"77\",\"value\":[]}}},\"children\":[{\"props\":{\"id\":\"plot-a8031d47-844d-4cc8-9398-725cc610de91\"},\"nodeType\":\"DOM\",\"type\":\"node\",\"instanceArgs\":{\"namespace\":\"html\",\"tag\":\"div\"},\"children\":[]}]},\n",
       "        window,\n",
       "    );\n",
       "    })()\n",
       "    </script>\n",
       "</div>\n"
      ],
      "text/plain": [
       "data: [\n",
       "  \"contour with fields colorbar, fill, transpose, type, x, y, and z\"\n",
       "]\n",
       "\n",
       "layout: \"layout with fields margin, template, title, xaxis, and yaxis\"\n",
       "\n"
      ]
     },
     "metadata": {},
     "output_type": "display_data"
    }
   ],
   "source": [
    "using PlotlyJS\n",
    "using LaTeXStrings\n",
    "using JLD2\n",
    "L = 4\n",
    "D = 150\n",
    "Q = 5\n",
    "\n",
    "Results = load_object(\"Leading boundary CCFT DMRG $L,D150\")\n",
    "\n",
    "target = 0.134 − 0.021im\n",
    "\n",
    "z_values = [log(abs((log(Results[1,j]/Results[2,j])  - ((2*pi)/L)*log(1+sqrt(Q))*target))) for j in 1:l]\n",
    "p = PlotlyJS.plot(PlotlyJS.contour(   z=real(z_values),\n",
    "    x=real(-im*test_values),\n",
    "        y=real(test_values),fill=true,colorbar=attr(\n",
    "            title=\"log(|δ x_σ|)\", # title here\n",
    "            titleside=\"top\",\n",
    "            titlefont=attr(\n",
    "                size=14,\n",
    "                family=\"Arial, sans-serif\"\n",
    "            )\n",
    "        )),Layout(title=attr(text = \"Plaquette DMRG |δ x_σ| L=$L, D$D\",x = 0.5),xaxis_title=\"Im(lambda)\",yaxis_title=\"Re(lambda)\"))\n",
    "display(p)"
   ]
  },
  {
   "cell_type": "code",
   "execution_count": 36,
   "id": "cfad7a03",
   "metadata": {},
   "outputs": [
    {
     "name": "stderr",
     "output_type": "stream",
     "text": [
      "┌ Info: DMRG init:\tobj = +1.878940385958e+02 +3.983163686117e-01im\terr = 1.5577e-01\n",
      "└ @ Main c:\\Users\\vicva\\OneDrive\\Documenten\\git\\Thesis_CCFT\\jl_notebook_cell_df34fa98e69747e1a8f8a730347b8e2f_W0sZmlsZQ==.jl:62\n",
      "┌ Info: DMRG conv 1:\tobj = +1.993745567744e+02 +6.491038456370e-01im\terr = 2.6180120747e-07\ttime = 0.05 sec\n",
      "└ @ Main c:\\Users\\vicva\\OneDrive\\Documenten\\git\\Thesis_CCFT\\jl_notebook_cell_df34fa98e69747e1a8f8a730347b8e2f_W0sZmlsZQ==.jl:77\n"
     ]
    },
    {
     "name": "stdout",
     "output_type": "stream",
     "text": [
      "(1.0, -199.37455677438768 - 0.6491038456370236im, -131.6167198574076 - 1.0503321762684377im)\n",
      "199.37455677438768"
     ]
    },
    {
     "name": "stderr",
     "output_type": "stream",
     "text": [
      "┌ Info: DMRG init:\tobj = -5.206674024371e+02 -1.902572967789e+00im\terr = 9.0168e-01\n",
      "└ @ Main c:\\Users\\vicva\\OneDrive\\Documenten\\git\\Thesis_CCFT\\jl_notebook_cell_df34fa98e69747e1a8f8a730347b8e2f_W0sZmlsZQ==.jl:62\n",
      "┌ Info: DMRG conv 1:\tobj = +1.316167198574e+02 +1.050332176268e+00im\terr = 4.0547191226e-07\ttime = 0.06 sec\n",
      "└ @ Main c:\\Users\\vicva\\OneDrive\\Documenten\\git\\Thesis_CCFT\\jl_notebook_cell_df34fa98e69747e1a8f8a730347b8e2f_W0sZmlsZQ==.jl:77\n"
     ]
    },
    {
     "name": "stdout",
     "output_type": "stream",
     "text": [
      " + 0.6491038456370236im\n",
      "ComplexF64[131.6167198574076 + 1.0503321762684377im]\n",
      "("
     ]
    },
    {
     "name": "stderr",
     "output_type": "stream",
     "text": [
      "┌ Info: DMRG init:\tobj = +2.053483135637e+02 +7.894363529420e-01im\terr = 1.5605e-02\n",
      "└ @ Main c:\\Users\\vicva\\OneDrive\\Documenten\\git\\Thesis_CCFT\\jl_notebook_cell_df34fa98e69747e1a8f8a730347b8e2f_W0sZmlsZQ==.jl:62\n",
      "┌ Info: DMRG conv 1:\tobj = +2.055349224141e+02 +8.402925849683e-01im\terr = 6.9600430696e-08\ttime = 0.04 sec\n",
      "└ @ Main c:\\Users\\vicva\\OneDrive\\Documenten\\git\\Thesis_CCFT\\jl_notebook_cell_df34fa98e69747e1a8f8a730347b8e2f_W0sZmlsZQ==.jl:77\n",
      "┌ Info: DMRG init:\tobj = +1.412830144128e+02 +1.277407934315e+00im\terr = 2.8703e-02\n",
      "└ @ Main c:\\Users\\vicva\\OneDrive\\Documenten\\git\\Thesis_CCFT\\jl_notebook_cell_df34fa98e69747e1a8f8a730347b8e2f_W0sZmlsZQ==.jl:62\n",
      "┌ Info: DMRG conv 1:\tobj = +1.418675706103e+02 +1.435862492585e+00im\terr = 7.9679001855e-08\ttime = 0.04 sec\n",
      "└ @ Main c:\\Users\\vicva\\OneDrive\\Documenten\\git\\Thesis_CCFT\\jl_notebook_cell_df34fa98e69747e1a8f8a730347b8e2f_W0sZmlsZQ==.jl:77\n"
     ]
    },
    {
     "name": "stdout",
     "output_type": "stream",
     "text": [
      "1.0, -205.5349224141005 - 0.8402925849682873im, -141.86757061030133 - 1.4358624925852281im)\n",
      "205.5349224141005 + 0.8402925849682873im\n",
      "ComplexF64[141.86757061030133 + 1.4358624925852281im]\n",
      "(1.0, -213.5915186414792 - 1.111064695961146im, -156.022907345948 - 1.9969224130060146im)\n",
      "213.5915186414792 + 1.111064695961146im\n",
      "ComplexF64[156.022907345948 + 1.9969224130060146im]\n"
     ]
    },
    {
     "name": "stderr",
     "output_type": "stream",
     "text": [
      "┌ Info: DMRG init:\tobj = +2.132682051056e+02 +1.021958994913e+00im\terr = 1.8915e-02\n",
      "└ @ Main c:\\Users\\vicva\\OneDrive\\Documenten\\git\\Thesis_CCFT\\jl_notebook_cell_df34fa98e69747e1a8f8a730347b8e2f_W0sZmlsZQ==.jl:62\n",
      "┌ Info: DMRG conv 1:\tobj = +2.135915186415e+02 +1.111064695961e+00im\terr = 1.6628641140e-08\ttime = 0.02 sec\n",
      "└ @ Main c:\\Users\\vicva\\OneDrive\\Documenten\\git\\Thesis_CCFT\\jl_notebook_cell_df34fa98e69747e1a8f8a730347b8e2f_W0sZmlsZQ==.jl:77\n",
      "┌ Info: DMRG init:\tobj = +1.550819327978e+02 +1.746287681226e+00im\terr = 3.2322e-02\n",
      "└ @ Main c:\\Users\\vicva\\OneDrive\\Documenten\\git\\Thesis_CCFT\\jl_notebook_cell_df34fa98e69747e1a8f8a730347b8e2f_W0sZmlsZQ==.jl:62\n",
      "┌ Info: DMRG conv 1:\tobj = +1.560229073459e+02 +1.996922413006e+00im\terr = 1.9130618779e-07\ttime = 0.04 sec\n",
      "└ @ Main c:\\Users\\vicva\\OneDrive\\Documenten\\git\\Thesis_CCFT\\jl_notebook_cell_df34fa98e69747e1a8f8a730347b8e2f_W0sZmlsZQ==.jl:77\n"
     ]
    },
    {
     "name": "stdout",
     "output_type": "stream",
     "text": [
      "("
     ]
    },
    {
     "name": "stderr",
     "output_type": "stream",
     "text": [
      "┌ Info: DMRG init:\tobj = +2.238167396372e+02 +1.351270474451e+00im\terr = 2.3292e-02\n",
      "└ @ Main c:\\Users\\vicva\\OneDrive\\Documenten\\git\\Thesis_CCFT\\jl_notebook_cell_df34fa98e69747e1a8f8a730347b8e2f_W0sZmlsZQ==.jl:62\n",
      "┌ Info: DMRG conv 1:\tobj = +2.244171987263e+02 +1.519328217891e+00im\terr = 2.3763425748e-08\ttime = 0.03 sec\n",
      "└ @ Main c:\\Users\\vicva\\OneDrive\\Documenten\\git\\Thesis_CCFT\\jl_notebook_cell_df34fa98e69747e1a8f8a730347b8e2f_W0sZmlsZQ==.jl:77\n",
      "┌ Info: DMRG init:\tobj = +1.744007507412e+02 +2.428645520170e+00im\terr = 3.4646e-02\n",
      "└ @ Main c:\\Users\\vicva\\OneDrive\\Documenten\\git\\Thesis_CCFT\\jl_notebook_cell_df34fa98e69747e1a8f8a730347b8e2f_W0sZmlsZQ==.jl:62\n",
      "┌ Info: DMRG conv 1:\tobj = +1.757247931035e+02 +2.768625942152e+00im\terr = 8.6484525100e-08\ttime = 0.04 sec\n",
      "└ @ Main c:\\Users\\vicva\\OneDrive\\Documenten\\git\\Thesis_CCFT\\jl_notebook_cell_df34fa98e69747e1a8f8a730347b8e2f_W0sZmlsZQ==.jl:77\n"
     ]
    },
    {
     "name": "stdout",
     "output_type": "stream",
     "text": [
      "1.0, -224.4171987262979 - 1.5193282178912542im, -175.72479310345787 - 2.7686259421517225im)\n",
      "224.4171987262979 + 1.5193282178912542im\n",
      "ComplexF64[175.72479310345787 + 2.7686259421517225im]\n"
     ]
    },
    {
     "name": "stderr",
     "output_type": "stream",
     "text": [
      "┌ Info: DMRG init:\tobj = +2.383997029400e+02 +1.847798214902e+00im\terr = 2.8978e-02\n",
      "└ @ Main c:\\Users\\vicva\\OneDrive\\Documenten\\git\\Thesis_CCFT\\jl_notebook_cell_df34fa98e69747e1a8f8a730347b8e2f_W0sZmlsZQ==.jl:62\n",
      "┌ Info: DMRG conv 1:\tobj = +2.396130863022e+02 +2.191802850855e+00im\terr = 6.7174044977e-08\ttime = 0.06 sec\n",
      "└ @ Main c:\\Users\\vicva\\OneDrive\\Documenten\\git\\Thesis_CCFT\\jl_notebook_cell_df34fa98e69747e1a8f8a730347b8e2f_W0sZmlsZQ==.jl:77\n",
      "┌ Info: DMRG init:\tobj = +2.012046883931e+02 +3.367186901023e+00im\terr = 3.4111e-02\n",
      "└ @ Main c:\\Users\\vicva\\OneDrive\\Documenten\\git\\Thesis_CCFT\\jl_notebook_cell_df34fa98e69747e1a8f8a730347b8e2f_W0sZmlsZQ==.jl:62\n"
     ]
    },
    {
     "name": "stdout",
     "output_type": "stream",
     "text": [
      "(1.0, -239.61308630219554 - 2.1918028508551957im, -202.68013888924582 - 3.729943701322579im)\n",
      "239.61308630219554 + 2.1918028508551957im\n",
      "ComplexF64[202.68013888924582 + 3.729943701322579im]\n"
     ]
    },
    {
     "name": "stderr",
     "output_type": "stream",
     "text": [
      "┌ Info: DMRG conv 1:\tobj = +2.026801388892e+02 +3.729943701323e+00im\terr = 4.8354636728e-08\ttime = 0.29 sec\n",
      "└ @ Main c:\\Users\\vicva\\OneDrive\\Documenten\\git\\Thesis_CCFT\\jl_notebook_cell_df34fa98e69747e1a8f8a730347b8e2f_W0sZmlsZQ==.jl:77\n"
     ]
    },
    {
     "name": "stdout",
     "output_type": "stream",
     "text": [
      "(1.0, -262.30079729537886 - 3.3639814792878693im, -238.2962568825667 - 4.84376102457727im)\n",
      "262.30079729537886 + 3.3639814792878693im\n",
      "ComplexF64[238.2962568825667 + 4.84376102457727im]\n"
     ]
    },
    {
     "name": "stderr",
     "output_type": "stream",
     "text": [
      "┌ Info: DMRG init:\tobj = +2.597844306088e+02 +2.665657984585e+00im\terr = 3.5897e-02\n",
      "└ @ Main c:\\Users\\vicva\\OneDrive\\Documenten\\git\\Thesis_CCFT\\jl_notebook_cell_df34fa98e69747e1a8f8a730347b8e2f_W0sZmlsZQ==.jl:62\n",
      "┌ Info: DMRG conv 1:\tobj = +2.623007972954e+02 +3.363981479288e+00im\terr = 4.7368403715e-09\ttime = 0.03 sec\n",
      "└ @ Main c:\\Users\\vicva\\OneDrive\\Documenten\\git\\Thesis_CCFT\\jl_notebook_cell_df34fa98e69747e1a8f8a730347b8e2f_W0sZmlsZQ==.jl:77\n",
      "┌ Info: DMRG init:\tobj = +2.370071216351e+02 +4.536336014711e+00im\terr = 3.0384e-02\n",
      "└ @ Main c:\\Users\\vicva\\OneDrive\\Documenten\\git\\Thesis_CCFT\\jl_notebook_cell_df34fa98e69747e1a8f8a730347b8e2f_W0sZmlsZQ==.jl:62\n",
      "┌ Info: DMRG conv 1:\tobj = +2.382962568826e+02 +4.843761024577e+00im\terr = 5.6214325912e-08\ttime = 0.03 sec\n",
      "└ @ Main c:\\Users\\vicva\\OneDrive\\Documenten\\git\\Thesis_CCFT\\jl_notebook_cell_df34fa98e69747e1a8f8a730347b8e2f_W0sZmlsZQ==.jl:77\n"
     ]
    },
    {
     "name": "stdout",
     "output_type": "stream",
     "text": [
      "(1.0, -297.3394610944176 - 5.122803329729421im, -283.8378185842048 - 6.117838869871808im)\n",
      "297.3394610944176 + 5.122803329729421im\n",
      "ComplexF64[283.8378185842048 + 6.117838869871808im]\n"
     ]
    },
    {
     "name": "stderr",
     "output_type": "stream",
     "text": [
      "┌ Info: DMRG init:\tobj = +2.932597992116e+02 +4.091254871194e+00im\terr = 4.0732e-02\n",
      "└ @ Main c:\\Users\\vicva\\OneDrive\\Documenten\\git\\Thesis_CCFT\\jl_notebook_cell_df34fa98e69747e1a8f8a730347b8e2f_W0sZmlsZQ==.jl:62\n",
      "┌ Info: DMRG conv 1:\tobj = +2.973394610944e+02 +5.122803329729e+00im\terr = 6.4040691867e-08\ttime = 0.02 sec\n",
      "└ @ Main c:\\Users\\vicva\\OneDrive\\Documenten\\git\\Thesis_CCFT\\jl_notebook_cell_df34fa98e69747e1a8f8a730347b8e2f_W0sZmlsZQ==.jl:77\n",
      "┌ Info: DMRG init:\tobj = +2.828737932825e+02 +5.890954218600e+00im\terr = 2.5095e-02\n",
      "└ @ Main c:\\Users\\vicva\\OneDrive\\Documenten\\git\\Thesis_CCFT\\jl_notebook_cell_df34fa98e69747e1a8f8a730347b8e2f_W0sZmlsZQ==.jl:62\n",
      "┌ Info: DMRG conv 1:\tobj = +2.838378185842e+02 +6.117838869872e+00im\terr = 5.3029222325e-08\ttime = 0.03 sec\n",
      "└ @ Main c:\\Users\\vicva\\OneDrive\\Documenten\\git\\Thesis_CCFT\\jl_notebook_cell_df34fa98e69747e1a8f8a730347b8e2f_W0sZmlsZQ==.jl:77\n"
     ]
    },
    {
     "name": "stdout",
     "output_type": "stream",
     "text": [
      "(1.0, -199.34533742281636 - "
     ]
    },
    {
     "name": "stderr",
     "output_type": "stream",
     "text": [
      "┌ Info: DMRG init:\tobj = +1.466006821778e+02 +3.165193339037e+00im\terr = 2.5982e-01\n",
      "└ @ Main c:\\Users\\vicva\\OneDrive\\Documenten\\git\\Thesis_CCFT\\jl_notebook_cell_df34fa98e69747e1a8f8a730347b8e2f_W0sZmlsZQ==.jl:62\n",
      "┌ Info: DMRG conv 1:\tobj = +1.993453374228e+02 +1.297491779418e+00im\terr = 3.0380531189e-07\ttime = 0.03 sec\n",
      "└ @ Main c:\\Users\\vicva\\OneDrive\\Documenten\\git\\Thesis_CCFT\\jl_notebook_cell_df34fa98e69747e1a8f8a730347b8e2f_W0sZmlsZQ==.jl:77\n",
      "┌ Info: DMRG init:\tobj = +1.038200623878e+02 +3.779989508449e+00im\terr = 2.0085e-01\n",
      "└ @ Main c:\\Users\\vicva\\OneDrive\\Documenten\\git\\Thesis_CCFT\\jl_notebook_cell_df34fa98e69747e1a8f8a730347b8e2f_W0sZmlsZQ==.jl:62\n",
      "┌ Info: DMRG conv 1:\tobj = +1.315597713091e+02 +2.098944096141e+00im\terr = 4.2156680797e-07\ttime = 0.03 sec\n",
      "└ @ Main c:\\Users\\vicva\\OneDrive\\Documenten\\git\\Thesis_CCFT\\jl_notebook_cell_df34fa98e69747e1a8f8a730347b8e2f_W0sZmlsZQ==.jl:77\n"
     ]
    },
    {
     "name": "stdout",
     "output_type": "stream",
     "text": [
      "1.2974917794179652im, -131.55977130905285 - 2.098944096141153im)\n",
      "199.34533742281636 + 1.2974917794179652im\n",
      "ComplexF64[131.55977130905285 + 2.098944096141153im]\n"
     ]
    },
    {
     "name": "stderr",
     "output_type": "stream",
     "text": [
      "┌ Info: DMRG init:\tobj = +2.053125051107e+02 +1.578002018014e+00im\terr = 1.5605e-02\n",
      "└ @ Main c:\\Users\\vicva\\OneDrive\\Documenten\\git\\Thesis_CCFT\\jl_notebook_cell_df34fa98e69747e1a8f8a730347b8e2f_W0sZmlsZQ==.jl:62\n",
      "┌ Info: DMRG conv 1:\tobj = +2.054945267951e+02 +1.679470757862e+00im\terr = 7.0199745232e-08\ttime = 0.03 sec\n",
      "└ @ Main c:\\Users\\vicva\\OneDrive\\Documenten\\git\\Thesis_CCFT\\jl_notebook_cell_df34fa98e69747e1a8f8a730347b8e2f_W0sZmlsZQ==.jl:77\n",
      "┌ Info: DMRG init:\tobj = +1.412128200512e+02 +2.552723702724e+00im\terr = 2.8621e-02\n",
      "└ @ Main c:\\Users\\vicva\\OneDrive\\Documenten\\git\\Thesis_CCFT\\jl_notebook_cell_df34fa98e69747e1a8f8a730347b8e2f_W0sZmlsZQ==.jl:62\n"
     ]
    },
    {
     "name": "stdout",
     "output_type": "stream",
     "text": [
      "(1.0, -205.49452679507564 - 1.6794707578618777im, -141.7840640442999 - 2.8691785652814956im)\n",
      "205.49452679507564 + 1.6794707578618777im\n",
      "ComplexF64[141.7840640442999 + 2.8691785652814956im]\n"
     ]
    },
    {
     "name": "stderr",
     "output_type": "stream",
     "text": [
      "┌ Info: DMRG conv 1:\tobj = +1.417840640443e+02 +2.869178565281e+00im\terr = 1.7824565485e-07\ttime = 0.07 sec\n",
      "└ @ Main c:\\Users\\vicva\\OneDrive\\Documenten\\git\\Thesis_CCFT\\jl_notebook_cell_df34fa98e69747e1a8f8a730347b8e2f_W0sZmlsZQ==.jl:77\n",
      "┌ Info: DMRG init:\tobj = +2.132184166864e+02 +2.042562648289e+00im\terr = 1.8913e-02\n",
      "└ @ Main c:\\Users\\vicva\\OneDrive\\Documenten\\git\\Thesis_CCFT\\jl_notebook_cell_df34fa98e69747e1a8f8a730347b8e2f_W0sZmlsZQ==.jl:62\n",
      "┌ Info: DMRG conv 1:\tobj = +2.135328860148e+02 +2.220226887978e+00im\terr = 1.6739419654e-08\ttime = 0.03 sec\n",
      "└ @ Main c:\\Users\\vicva\\OneDrive\\Documenten\\git\\Thesis_CCFT\\jl_notebook_cell_df34fa98e69747e1a8f8a730347b8e2f_W0sZmlsZQ==.jl:77\n",
      "┌ Info: DMRG init:\tobj = +1.549794228876e+02 +3.489478421272e+00im\terr = 3.2127e-02\n",
      "└ @ Main c:\\Users\\vicva\\OneDrive\\Documenten\\git\\Thesis_CCFT\\jl_notebook_cell_df34fa98e69747e1a8f8a730347b8e2f_W0sZmlsZQ==.jl:62\n"
     ]
    },
    {
     "name": "stdout",
     "output_type": "stream",
     "text": [
      "(1.0, -213.53288601482518 - 2.2202268879777995im, -155.9032488239349 - 3.9907241460359373im)\n",
      "213.53288601482518 + 2.2202268879777995im\n",
      "ComplexF64[155.9032488239349 + 3.9907241460359373im]\n"
     ]
    },
    {
     "name": "stderr",
     "output_type": "stream",
     "text": [
      "┌ Info: DMRG conv 1:\tobj = +1.559032488239e+02 +3.990724146036e+00im\terr = 1.8946246363e-07\ttime = 0.07 sec\n",
      "└ @ Main c:\\Users\\vicva\\OneDrive\\Documenten\\git\\Thesis_CCFT\\jl_notebook_cell_df34fa98e69747e1a8f8a730347b8e2f_W0sZmlsZQ==.jl:77\n"
     ]
    },
    {
     "name": "stdout",
     "output_type": "stream",
     "text": [
      "(1.0, -224.325441967946 - "
     ]
    },
    {
     "name": "stderr",
     "output_type": "stream",
     "text": [
      "┌ Info: DMRG init:\tobj = +2.237437145965e+02 +2.700227134579e+00im\terr = 2.3288e-02\n",
      "└ @ Main c:\\Users\\vicva\\OneDrive\\Documenten\\git\\Thesis_CCFT\\jl_notebook_cell_df34fa98e69747e1a8f8a730347b8e2f_W0sZmlsZQ==.jl:62\n",
      "┌ Info: DMRG conv 1:\tobj = +2.243254419679e+02 +3.035017860184e+00im\terr = 2.4621833303e-08\ttime = 0.04 sec\n",
      "└ @ Main c:\\Users\\vicva\\OneDrive\\Documenten\\git\\Thesis_CCFT\\jl_notebook_cell_df34fa98e69747e1a8f8a730347b8e2f_W0sZmlsZQ==.jl:77\n",
      "┌ Info: DMRG init:\tobj = +1.742565983814e+02 +4.853495687354e+00im\terr = 3.4300e-02\n",
      "└ @ Main c:\\Users\\vicva\\OneDrive\\Documenten\\git\\Thesis_CCFT\\jl_notebook_cell_df34fa98e69747e1a8f8a730347b8e2f_W0sZmlsZQ==.jl:62\n",
      "┌ Info: DMRG conv 1:\tobj = +1.755674012246e+02 +5.534497174458e+00im\terr = 8.8683228329e-08\ttime = 0.04 sec\n",
      "└ @ Main c:\\Users\\vicva\\OneDrive\\Documenten\\git\\Thesis_CCFT\\jl_notebook_cell_df34fa98e69747e1a8f8a730347b8e2f_W0sZmlsZQ==.jl:77\n"
     ]
    },
    {
     "name": "stdout",
     "output_type": "stream",
     "text": [
      "3.035017860183891im, -175.56740122460062 - 5.5344971744575835im)\n",
      "224.325441967946 + 3.035017860183891im\n",
      "ComplexF64[175.56740122460062 + 5.5344971744575835im]\n"
     ]
    },
    {
     "name": "stderr",
     "output_type": "stream",
     "text": [
      "┌ Info: DMRG init:\tobj = +2.382834961112e+02 +3.691171215148e+00im\terr = 2.8971e-02\n",
      "└ @ Main c:\\Users\\vicva\\OneDrive\\Documenten\\git\\Thesis_CCFT\\jl_notebook_cell_df34fa98e69747e1a8f8a730347b8e2f_W0sZmlsZQ==.jl:62\n",
      "┌ Info: DMRG conv 1:\tobj = +2.394555292987e+02 +4.376369357213e+00im\terr = 7.1423521136e-08\ttime = 0.03 sec\n",
      "└ @ Main c:\\Users\\vicva\\OneDrive\\Documenten\\git\\Thesis_CCFT\\jl_notebook_cell_df34fa98e69747e1a8f8a730347b8e2f_W0sZmlsZQ==.jl:77\n",
      "┌ Info: DMRG init:\tobj = +2.010205665025e+02 +6.731023539821e+00im\terr = 3.3745e-02\n",
      "└ @ Main c:\\Users\\vicva\\OneDrive\\Documenten\\git\\Thesis_CCFT\\jl_notebook_cell_df34fa98e69747e1a8f8a730347b8e2f_W0sZmlsZQ==.jl:62\n",
      "┌ Info: DMRG conv 1:\tobj = +2.024927645421e+02 +7.457763454627e+00im\terr = 4.9355780920e-08\ttime = 0.05 sec\n",
      "└ @ Main c:\\Users\\vicva\\OneDrive\\Documenten\\git\\Thesis_CCFT\\jl_notebook_cell_df34fa98e69747e1a8f8a730347b8e2f_W0sZmlsZQ==.jl:77\n"
     ]
    },
    {
     "name": "stdout",
     "output_type": "stream",
     "text": [
      "(1.0, -239.455529298727 - 4.376369357212574im, -202.49276454206844 - 7.45776345462703im)\n",
      "239.455529298727 + 4.376369357212574im\n",
      "ComplexF64[202.49276454206844 + 7.45776345462703im]\n",
      "(1.0, -262.0312198680078 - 6.7184838598341im, -238.08237291567258 - 9.685263408518976im)\n",
      "262.0312198680078 + 6.7184838598341im\n",
      "ComplexF64[238.08237291567258 + 9.685263408518976im]\n"
     ]
    },
    {
     "name": "stderr",
     "output_type": "stream",
     "text": [
      "┌ Info: DMRG init:\tobj = +2.595824620724e+02 +5.322515168731e+00im\terr = 3.5898e-02\n",
      "└ @ Main c:\\Users\\vicva\\OneDrive\\Documenten\\git\\Thesis_CCFT\\jl_notebook_cell_df34fa98e69747e1a8f8a730347b8e2f_W0sZmlsZQ==.jl:62\n",
      "┌ Info: DMRG conv 1:\tobj = +2.620312198680e+02 +6.718483859834e+00im\terr = 8.8370858927e-09\ttime = 0.02 sec\n",
      "└ @ Main c:\\Users\\vicva\\OneDrive\\Documenten\\git\\Thesis_CCFT\\jl_notebook_cell_df34fa98e69747e1a8f8a730347b8e2f_W0sZmlsZQ==.jl:77\n",
      "┌ Info: DMRG init:\tobj = +2.367910358811e+02 +9.070088896095e+00im\terr = 2.9991e-02\n",
      "└ @ Main c:\\Users\\vicva\\OneDrive\\Documenten\\git\\Thesis_CCFT\\jl_notebook_cell_df34fa98e69747e1a8f8a730347b8e2f_W0sZmlsZQ==.jl:62\n",
      "┌ Info: DMRG conv 1:\tobj = +2.380823729157e+02 +9.685263408519e+00im\terr = 5.6912481090e-08\ttime = 0.03 sec\n",
      "└ @ Main c:\\Users\\vicva\\OneDrive\\Documenten\\git\\Thesis_CCFT\\jl_notebook_cell_df34fa98e69747e1a8f8a730347b8e2f_W0sZmlsZQ==.jl:77\n",
      "┌ Info: DMRG init:\tobj = +2.929295426444e+02 +8.170981317175e+00im\terr = 4.0780e-02\n",
      "└ @ Main c:\\Users\\vicva\\OneDrive\\Documenten\\git\\Thesis_CCFT\\jl_notebook_cell_df34fa98e69747e1a8f8a730347b8e2f_W0sZmlsZQ==.jl:62\n",
      "┌ Info: DMRG conv 1:\tobj = +2.969915418155e+02 +1.024339264121e+01im\terr = 6.6350167952e-08\ttime = 0.03 sec\n",
      "└ @ Main c:\\Users\\vicva\\OneDrive\\Documenten\\git\\Thesis_CCFT\\jl_notebook_cell_df34fa98e69747e1a8f8a730347b8e2f_W0sZmlsZQ==.jl:77\n",
      "┌ Info: DMRG init:\tobj = +2.826249216833e+02 +1.177916149149e+01im\terr = 2.4679e-02\n",
      "└ @ Main c:\\Users\\vicva\\OneDrive\\Documenten\\git\\Thesis_CCFT\\jl_notebook_cell_df34fa98e69747e1a8f8a730347b8e2f_W0sZmlsZQ==.jl:62\n"
     ]
    },
    {
     "name": "stdout",
     "output_type": "stream",
     "text": [
      "(1.0, -296.9915418154791 - 10.243392641209834im, -283.5915874553556 - 12.232700764826104im)\n",
      "296.9915418154791 + 10.243392641209834im\n",
      "ComplexF64[283.5915874553556 + 12.232700764826104im]\n"
     ]
    },
    {
     "name": "stderr",
     "output_type": "stream",
     "text": [
      "┌ Info: DMRG conv 1:\tobj = +2.835915874554e+02 +1.223270076483e+01im\terr = 5.1518624209e-08\ttime = 0.03 sec\n",
      "└ @ Main c:\\Users\\vicva\\OneDrive\\Documenten\\git\\Thesis_CCFT\\jl_notebook_cell_df34fa98e69747e1a8f8a730347b8e2f_W0sZmlsZQ==.jl:77\n"
     ]
    },
    {
     "name": "stdout",
     "output_type": "stream",
     "text": [
      "(1.0, -199.29669673045288 - 1.9444507614464484im, -131.46500597287607 - 3.1441189738467603im)\n"
     ]
    },
    {
     "name": "stderr",
     "output_type": "stream",
     "text": [
      "┌ Info: DMRG init:\tobj = +1.463313139626e+02 +4.745890869565e+00im\terr = 2.6020e-01\n",
      "└ @ Main c:\\Users\\vicva\\OneDrive\\Documenten\\git\\Thesis_CCFT\\jl_notebook_cell_df34fa98e69747e1a8f8a730347b8e2f_W0sZmlsZQ==.jl:62\n",
      "┌ Info: DMRG conv 1:\tobj = +1.992966967305e+02 +1.944450761446e+00im\terr = 3.1348993452e-07\ttime = 0.03 sec\n",
      "└ @ Main c:\\Users\\vicva\\OneDrive\\Documenten\\git\\Thesis_CCFT\\jl_notebook_cell_df34fa98e69747e1a8f8a730347b8e2f_W0sZmlsZQ==.jl:77\n",
      "┌ Info: DMRG init:\tobj = +1.036725363130e+02 +5.667561998585e+00im\terr = 2.0103e-01\n",
      "└ @ Main c:\\Users\\vicva\\OneDrive\\Documenten\\git\\Thesis_CCFT\\jl_notebook_cell_df34fa98e69747e1a8f8a730347b8e2f_W0sZmlsZQ==.jl:62\n",
      "┌ Info: DMRG conv 1:\tobj = +1.314650059729e+02 +3.144118973847e+00im\terr = 3.8412235837e-07\ttime = 0.02 sec\n",
      "└ @ Main c:\\Users\\vicva\\OneDrive\\Documenten\\git\\Thesis_CCFT\\jl_notebook_cell_df34fa98e69747e1a8f8a730347b8e2f_W0sZmlsZQ==.jl:77\n"
     ]
    },
    {
     "name": "stdout",
     "output_type": "stream",
     "text": [
      "199.29669673045288 + 1.9444507614464484im\n",
      "ComplexF64[131.46500597287607 + 3.1441189738467603im]\n"
     ]
    },
    {
     "name": "stderr",
     "output_type": "stream",
     "text": [
      "┌ Info: DMRG init:\tobj = +2.052528978449e+02 +2.364829800207e+00im\terr = 1.5604e-02\n",
      "└ @ Main c:\\Users\\vicva\\OneDrive\\Documenten\\git\\Thesis_CCFT\\jl_notebook_cell_df34fa98e69747e1a8f8a730347b8e2f_W0sZmlsZQ==.jl:62\n",
      "┌ Info: DMRG conv 1:\tobj = +2.054273083308e+02 +2.516425329075e+00im\terr = 7.1167036770e-08\ttime = 0.03 sec\n",
      "└ @ Main c:\\Users\\vicva\\OneDrive\\Documenten\\git\\Thesis_CCFT\\jl_notebook_cell_df34fa98e69747e1a8f8a730347b8e2f_W0sZmlsZQ==.jl:77\n",
      "┌ Info: DMRG init:\tobj = +1.410960057941e+02 +3.823859360274e+00im\terr = 2.8593e-02\n",
      "└ @ Main c:\\Users\\vicva\\OneDrive\\Documenten\\git\\Thesis_CCFT\\jl_notebook_cell_df34fa98e69747e1a8f8a730347b8e2f_W0sZmlsZQ==.jl:62\n"
     ]
    },
    {
     "name": "stdout",
     "output_type": "stream",
     "text": [
      "(1.0, -205.42730833084133 - 2.516425329074864im, -141.6450537693683 - 4.297398966941095im)\n",
      "205.42730833084133 + 2.516425329074864im\n",
      "ComplexF64[141.6450537693683 + 4.297398966941095im]\n"
     ]
    },
    {
     "name": "stderr",
     "output_type": "stream",
     "text": [
      "┌ Info: DMRG conv 1:\tobj = +1.416450537694e+02 +4.297398966941e+00im\terr = 1.7194249779e-07\ttime = 0.11 sec\n",
      "└ @ Main c:\\Users\\vicva\\OneDrive\\Documenten\\git\\Thesis_CCFT\\jl_notebook_cell_df34fa98e69747e1a8f8a730347b8e2f_W0sZmlsZQ==.jl:77\n"
     ]
    },
    {
     "name": "stdout",
     "output_type": "stream",
     "text": [
      "("
     ]
    },
    {
     "name": "stderr",
     "output_type": "stream",
     "text": [
      "┌ Info: DMRG init:\tobj = +2.131355700398e+02 +3.060461970128e+00im\terr = 1.8910e-02\n",
      "└ @ Main c:\\Users\\vicva\\OneDrive\\Documenten\\git\\Thesis_CCFT\\jl_notebook_cell_df34fa98e69747e1a8f8a730347b8e2f_W0sZmlsZQ==.jl:62\n",
      "┌ Info: DMRG conv 1:\tobj = +2.134353893144e+02 +3.325596898450e+00im\terr = 1.6923705111e-08\ttime = 0.03 sec\n",
      "└ @ Main c:\\Users\\vicva\\OneDrive\\Documenten\\git\\Thesis_CCFT\\jl_notebook_cell_df34fa98e69747e1a8f8a730347b8e2f_W0sZmlsZQ==.jl:77\n",
      "┌ Info: DMRG init:\tobj = +1.548087568693e+02 +5.226471835595e+00im\terr = 3.2015e-02\n",
      "└ @ Main c:\\Users\\vicva\\OneDrive\\Documenten\\git\\Thesis_CCFT\\jl_notebook_cell_df34fa98e69747e1a8f8a730347b8e2f_W0sZmlsZQ==.jl:62\n",
      "┌ Info: DMRG conv 1:\tobj = +1.557038492675e+02 +5.978268622663e+00im\terr = 1.8450066352e-07\ttime = 0.04 sec\n",
      "└ @ Main c:\\Users\\vicva\\OneDrive\\Documenten\\git\\Thesis_CCFT\\jl_notebook_cell_df34fa98e69747e1a8f8a730347b8e2f_W0sZmlsZQ==.jl:77\n"
     ]
    },
    {
     "name": "stdout",
     "output_type": "stream",
     "text": [
      "1.0, -213.43538931443405 - 3.3255968984497697im, -155.7038492675421 - 5.978268622663105im)\n",
      "213.43538931443405 + 3.3255968984497697im\n",
      "ComplexF64[155.7038492675421 + 5.978268622663105im]\n",
      "("
     ]
    },
    {
     "name": "stderr",
     "output_type": "stream",
     "text": [
      "┌ Info: DMRG init:\tobj = +2.236222885383e+02 +4.044571765386e+00im\terr = 2.3281e-02\n",
      "└ @ Main c:\\Users\\vicva\\OneDrive\\Documenten\\git\\Thesis_CCFT\\jl_notebook_cell_df34fa98e69747e1a8f8a730347b8e2f_W0sZmlsZQ==.jl:62\n",
      "┌ Info: DMRG conv 1:\tobj = +2.241730211853e+02 +4.543459417183e+00im\terr = 2.6004415788e-08\ttime = 0.04 sec\n",
      "└ @ Main c:\\Users\\vicva\\OneDrive\\Documenten\\git\\Thesis_CCFT\\jl_notebook_cell_df34fa98e69747e1a8f8a730347b8e2f_W0sZmlsZQ==.jl:77\n",
      "┌ Info: DMRG init:\tobj = +1.740163573231e+02 +7.270735815393e+00im\terr = 3.4325e-02\n",
      "└ @ Main c:\\Users\\vicva\\OneDrive\\Documenten\\git\\Thesis_CCFT\\jl_notebook_cell_df34fa98e69747e1a8f8a730347b8e2f_W0sZmlsZQ==.jl:62\n",
      "┌ Info: DMRG conv 1:\tobj = +1.753049305340e+02 +8.294854603054e+00im\terr = 8.9374210259e-08\ttime = 0.03 sec\n",
      "└ @ Main c:\\Users\\vicva\\OneDrive\\Documenten\\git\\Thesis_CCFT\\jl_notebook_cell_df34fa98e69747e1a8f8a730347b8e2f_W0sZmlsZQ==.jl:77\n"
     ]
    },
    {
     "name": "stdout",
     "output_type": "stream",
     "text": [
      "1.0, -224.17302118529972 - 4.54345941718308im, -175.3049305339779 - 8.294854603054146im)\n",
      "224.17302118529972 + 4.54345941718308im\n",
      "ComplexF64[175.3049305339779 + 8.294854603054146im]\n"
     ]
    },
    {
     "name": "stderr",
     "output_type": "stream",
     "text": [
      "┌ Info: DMRG init:\tobj = +2.380904515366e+02 +5.525729135869e+00im\terr = 2.8958e-02\n",
      "└ @ Main c:\\Users\\vicva\\OneDrive\\Documenten\\git\\Thesis_CCFT\\jl_notebook_cell_df34fa98e69747e1a8f8a730347b8e2f_W0sZmlsZQ==.jl:62\n",
      "┌ Info: DMRG conv 1:\tobj = +2.391938231847e+02 +6.546466694925e+00im\terr = 7.7972352476e-08\ttime = 0.05 sec\n",
      "└ @ Main c:\\Users\\vicva\\OneDrive\\Documenten\\git\\Thesis_CCFT\\jl_notebook_cell_df34fa98e69747e1a8f8a730347b8e2f_W0sZmlsZQ==.jl:77\n",
      "┌ Info: DMRG init:\tobj = +2.007135565637e+02 +1.008815432235e+01im\terr = 3.4182e-02\n",
      "└ @ Main c:\\Users\\vicva\\OneDrive\\Documenten\\git\\Thesis_CCFT\\jl_notebook_cell_df34fa98e69747e1a8f8a730347b8e2f_W0sZmlsZQ==.jl:62\n",
      "┌ Info: DMRG conv 1:\tobj = +2.021804134043e+02 +1.118134851298e+01im\terr = 5.0626064179e-08\ttime = 0.03 sec\n",
      "└ @ Main c:\\Users\\vicva\\OneDrive\\Documenten\\git\\Thesis_CCFT\\jl_notebook_cell_df34fa98e69747e1a8f8a730347b8e2f_W0sZmlsZQ==.jl:77\n"
     ]
    },
    {
     "name": "stdout",
     "output_type": "stream",
     "text": [
      "(1.0, -239.1938231846856 - 6.546466694924943im, -202.1804134043209 - 11.181348512980142im)\n",
      "239.1938231846856 + 6.546466694924943im\n",
      "ComplexF64[202.1804134043209 + 11.181348512980142im]\n",
      "("
     ]
    },
    {
     "name": "stderr",
     "output_type": "stream",
     "text": [
      "┌ Info: DMRG init:\tobj = +2.592468237528e+02 +7.961775033432e+00im\terr = 3.5900e-02\n",
      "└ @ Main c:\\Users\\vicva\\OneDrive\\Documenten\\git\\Thesis_CCFT\\jl_notebook_cell_df34fa98e69747e1a8f8a730347b8e2f_W0sZmlsZQ==.jl:62\n",
      "┌ Info: DMRG conv 1:\tobj = +2.615813921459e+02 +1.005381827324e+01im\terr = 1.3251760934e-08\ttime = 0.02 sec\n",
      "└ @ Main c:\\Users\\vicva\\OneDrive\\Documenten\\git\\Thesis_CCFT\\jl_notebook_cell_df34fa98e69747e1a8f8a730347b8e2f_W0sZmlsZQ==.jl:77\n",
      "┌ Info: DMRG init:\tobj = +2.364308875199e+02 +1.359869156590e+01im\terr = 3.0455e-02\n",
      "└ @ Main c:\\Users\\vicva\\OneDrive\\Documenten\\git\\Thesis_CCFT\\jl_notebook_cell_df34fa98e69747e1a8f8a730347b8e2f_W0sZmlsZQ==.jl:62\n",
      "┌ Info: DMRG conv 1:\tobj = +2.377260016538e+02 +1.452225682060e+01im\terr = 5.8282235944e-08\ttime = 0.03 sec\n",
      "└ @ Main c:\\Users\\vicva\\OneDrive\\Documenten\\git\\Thesis_CCFT\\jl_notebook_cell_df34fa98e69747e1a8f8a730347b8e2f_W0sZmlsZQ==.jl:77\n"
     ]
    },
    {
     "name": "stdout",
     "output_type": "stream",
     "text": [
      "1.0, -261.58139214593115 - 10.05381827324416im, -237.72600165384114 - 14.522256820604962im)\n",
      "261.58139214593115 + 10.05381827324416im\n",
      "ComplexF64[237.72600165384114 + 14.522256820604962im]\n",
      "(1.0, -296.4102454165155 - 15.3597012609649im, -283.18137532995615 - 18.34161155163im)\n",
      "296.4102454165155 + 15.3597012609649im\n",
      "ComplexF64[283.18137532995615 + 18.34161155163im]\n"
     ]
    },
    {
     "name": "stderr",
     "output_type": "stream",
     "text": [
      "┌ Info: DMRG init:\tobj = +2.923780390916e+02 +1.222739579209e+01im\terr = 4.0861e-02\n",
      "└ @ Main c:\\Users\\vicva\\OneDrive\\Documenten\\git\\Thesis_CCFT\\jl_notebook_cell_df34fa98e69747e1a8f8a730347b8e2f_W0sZmlsZQ==.jl:62\n",
      "┌ Info: DMRG conv 1:\tobj = +2.964102454165e+02 +1.535970126096e+01im\terr = 7.0230439438e-08\ttime = 0.02 sec\n",
      "└ @ Main c:\\Users\\vicva\\OneDrive\\Documenten\\git\\Thesis_CCFT\\jl_notebook_cell_df34fa98e69747e1a8f8a730347b8e2f_W0sZmlsZQ==.jl:77\n",
      "┌ Info: DMRG init:\tobj = +2.822102765833e+02 +1.766188497881e+01im\terr = 2.5092e-02\n",
      "└ @ Main c:\\Users\\vicva\\OneDrive\\Documenten\\git\\Thesis_CCFT\\jl_notebook_cell_df34fa98e69747e1a8f8a730347b8e2f_W0sZmlsZQ==.jl:62\n",
      "┌ Info: DMRG conv 1:\tobj = +2.831813753300e+02 +1.834161155163e+01im\terr = 5.1197497139e-08\ttime = 0.03 sec\n",
      "└ @ Main c:\\Users\\vicva\\OneDrive\\Documenten\\git\\Thesis_CCFT\\jl_notebook_cell_df34fa98e69747e1a8f8a730347b8e2f_W0sZmlsZQ==.jl:77\n"
     ]
    },
    {
     "name": "stdout",
     "output_type": "stream",
     "text": [
      "(1.0, -199.22872163214439 - 2.589272000787724im, -131.3326476225054 - 4.184147559532012im)\n",
      "199.22872163214439 + 2.589272000787724im\n",
      "ComplexF64[131.3326476225054 + 4.184147559532012im]\n"
     ]
    },
    {
     "name": "stderr",
     "output_type": "stream",
     "text": [
      "┌ Info: DMRG init:\tobj = +1.459042595837e+02 +6.324471414201e+00im\terr = 2.6080e-01\n",
      "└ @ Main c:\\Users\\vicva\\OneDrive\\Documenten\\git\\Thesis_CCFT\\jl_notebook_cell_df34fa98e69747e1a8f8a730347b8e2f_W0sZmlsZQ==.jl:62\n",
      "┌ Info: DMRG conv 1:\tobj = +1.992287216321e+02 +2.589272000788e+00im\terr = 3.2876630198e-07\ttime = 0.03 sec\n",
      "└ @ Main c:\\Users\\vicva\\OneDrive\\Documenten\\git\\Thesis_CCFT\\jl_notebook_cell_df34fa98e69747e1a8f8a730347b8e2f_W0sZmlsZQ==.jl:77\n",
      "┌ Info: DMRG init:\tobj = +1.034563740790e+02 +7.552295189716e+00im\terr = 2.0448e-01\n",
      "└ @ Main c:\\Users\\vicva\\OneDrive\\Documenten\\git\\Thesis_CCFT\\jl_notebook_cell_df34fa98e69747e1a8f8a730347b8e2f_W0sZmlsZQ==.jl:62\n",
      "┌ Info: DMRG conv 1:\tobj = +1.313326476225e+02 +4.184147559532e+00im\terr = 3.4697653385e-07\ttime = 0.03 sec\n",
      "└ @ Main c:\\Users\\vicva\\OneDrive\\Documenten\\git\\Thesis_CCFT\\jl_notebook_cell_df34fa98e69747e1a8f8a730347b8e2f_W0sZmlsZQ==.jl:77\n",
      "┌ Info: DMRG init:\tobj = +2.051695981197e+02 +3.149057672075e+00im\terr = 1.5603e-02\n",
      "└ @ Main c:\\Users\\vicva\\OneDrive\\Documenten\\git\\Thesis_CCFT\\jl_notebook_cell_df34fa98e69747e1a8f8a730347b8e2f_W0sZmlsZQ==.jl:62\n",
      "┌ Info: DMRG conv 1:\tobj = +2.053334274335e+02 +3.350057490396e+00im\terr = 7.2462029660e-08\ttime = 0.03 sec\n",
      "└ @ Main c:\\Users\\vicva\\OneDrive\\Documenten\\git\\Thesis_CCFT\\jl_notebook_cell_df34fa98e69747e1a8f8a730347b8e2f_W0sZmlsZQ==.jl:77\n",
      "┌ Info: DMRG init:\tobj = +1.409328378881e+02 +5.088736127154e+00im\terr = 2.8614e-02\n",
      "└ @ Main c:\\Users\\vicva\\OneDrive\\Documenten\\git\\Thesis_CCFT\\jl_notebook_cell_df34fa98e69747e1a8f8a730347b8e2f_W0sZmlsZQ==.jl:62\n",
      "┌ Info: DMRG conv 1:\tobj = +1.414507933263e+02 +5.717968909330e+00im\terr = 1.6892727234e-07\ttime = 0.04 sec\n",
      "└ @ Main c:\\Users\\vicva\\OneDrive\\Documenten\\git\\Thesis_CCFT\\jl_notebook_cell_df34fa98e69747e1a8f8a730347b8e2f_W0sZmlsZQ==.jl:77\n"
     ]
    },
    {
     "name": "stdout",
     "output_type": "stream",
     "text": [
      "(1.0, -205.33342743347922 - 3.350057490396489im, -141.4507933263256 - 5.717968909329512im)\n",
      "205.33342743347922 + 3.350057490396489im\n",
      "ComplexF64[141.4507933263256 + 5.717968909329512im]\n"
     ]
    },
    {
     "name": "stderr",
     "output_type": "stream",
     "text": [
      "┌ Info: DMRG init:\tobj = +2.130198650772e+02 +4.074320596220e+00im\terr = 1.8906e-02\n",
      "└ @ Main c:\\Users\\vicva\\OneDrive\\Documenten\\git\\Thesis_CCFT\\jl_notebook_cell_df34fa98e69747e1a8f8a730347b8e2f_W0sZmlsZQ==.jl:62\n",
      "┌ Info: DMRG conv 1:\tobj = +2.132993625929e+02 +4.425310553447e+00im\terr = 1.7180982754e-08\ttime = 0.02 sec\n",
      "└ @ Main c:\\Users\\vicva\\OneDrive\\Documenten\\git\\Thesis_CCFT\\jl_notebook_cell_df34fa98e69747e1a8f8a730347b8e2f_W0sZmlsZQ==.jl:77\n"
     ]
    },
    {
     "name": "stdout",
     "output_type": "stream",
     "text": [
      "(1.0, -213.29936259290545 - 4.425310553446565im, -155.42475706945953 - 7.956386958766384im)\n",
      "213.29936259290545 + 4.425310553446565im\n",
      "ComplexF64[155.42475706945953 + 7.956386958766384im]\n"
     ]
    },
    {
     "name": "stderr",
     "output_type": "stream",
     "text": [
      "┌ Info: DMRG init:\tobj = +1.545702133949e+02 +6.954160805482e+00im\terr = 3.1978e-02\n",
      "└ @ Main c:\\Users\\vicva\\OneDrive\\Documenten\\git\\Thesis_CCFT\\jl_notebook_cell_df34fa98e69747e1a8f8a730347b8e2f_W0sZmlsZQ==.jl:62\n",
      "┌ Info: DMRG conv 1:\tobj = +1.554247570695e+02 +7.956386958766e+00im\terr = 1.8655564078e-07\ttime = 0.33 sec\n",
      "└ @ Main c:\\Users\\vicva\\OneDrive\\Documenten\\git\\Thesis_CCFT\\jl_notebook_cell_df34fa98e69747e1a8f8a730347b8e2f_W0sZmlsZQ==.jl:77\n",
      "┌ Info: DMRG init:\tobj = +2.234528819641e+02 +5.382037169291e+00im\terr = 2.3271e-02\n",
      "└ @ Main c:\\Users\\vicva\\OneDrive\\Documenten\\git\\Thesis_CCFT\\jl_notebook_cell_df34fa98e69747e1a8f8a730347b8e2f_W0sZmlsZQ==.jl:62\n",
      "┌ Info: DMRG conv 1:\tobj = +2.239606934558e+02 +6.041101739740e+00im\terr = 2.7856939952e-08\ttime = 0.03 sec\n",
      "└ @ Main c:\\Users\\vicva\\OneDrive\\Documenten\\git\\Thesis_CCFT\\jl_notebook_cell_df34fa98e69747e1a8f8a730347b8e2f_W0sZmlsZQ==.jl:77\n",
      "┌ Info: DMRG init:\tobj = +1.736800474349e+02 +9.676511925699e+00im\terr = 3.4555e-02\n",
      "└ @ Main c:\\Users\\vicva\\OneDrive\\Documenten\\git\\Thesis_CCFT\\jl_notebook_cell_df34fa98e69747e1a8f8a730347b8e2f_W0sZmlsZQ==.jl:62\n"
     ]
    },
    {
     "name": "stdout",
     "output_type": "stream",
     "text": [
      "(1.0, -223.96069345577646 - 6.041101739740058im, -174.93714927422286 - 11.046930286542159im)\n",
      "223.96069345577646 + 6.041101739740058im\n",
      "ComplexF64"
     ]
    },
    {
     "name": "stderr",
     "output_type": "stream",
     "text": [
      "┌ Info: DMRG conv 1:\tobj = +1.749371492742e+02 +1.104693028654e+01im\terr = 9.0548972220e-08\ttime = 0.07 sec\n",
      "└ @ Main c:\\Users\\vicva\\OneDrive\\Documenten\\git\\Thesis_CCFT\\jl_notebook_cell_df34fa98e69747e1a8f8a730347b8e2f_W0sZmlsZQ==.jl:77\n"
     ]
    },
    {
     "name": "stdout",
     "output_type": "stream",
     "text": [
      "[174.93714927422286 + 11.046930286542159im]\n",
      "(1.0, -238.82932651016267 - 8.694873732293638im, -201.7429938897904 - 14.898615011733185im)\n",
      "238.82932651016267 + 8.694873732293638im\n",
      "ComplexF64[201.7429938897904 + 14.898615011733185im]\n"
     ]
    },
    {
     "name": "stderr",
     "output_type": "stream",
     "text": [
      "┌ Info: DMRG init:\tobj = +2.378215158312e+02 +7.347153089952e+00im\terr = 2.8941e-02\n",
      "└ @ Main c:\\Users\\vicva\\OneDrive\\Documenten\\git\\Thesis_CCFT\\jl_notebook_cell_df34fa98e69747e1a8f8a730347b8e2f_W0sZmlsZQ==.jl:62\n",
      "┌ Info: DMRG conv 1:\tobj = +2.388293265102e+02 +8.694873732294e+00im\terr = 8.6314087143e-08\ttime = 0.02 sec\n",
      "└ @ Main c:\\Users\\vicva\\OneDrive\\Documenten\\git\\Thesis_CCFT\\jl_notebook_cell_df34fa98e69747e1a8f8a730347b8e2f_W0sZmlsZQ==.jl:77\n",
      "┌ Info: DMRG init:\tobj = +2.002834428962e+02 +1.343521289425e+01im\terr = 3.4529e-02\n",
      "└ @ Main c:\\Users\\vicva\\OneDrive\\Documenten\\git\\Thesis_CCFT\\jl_notebook_cell_df34fa98e69747e1a8f8a730347b8e2f_W0sZmlsZQ==.jl:62\n",
      "┌ Info: DMRG conv 1:\tobj = +2.017429938898e+02 +1.489861501173e+01im\terr = 5.2228654558e-08\ttime = 0.03 sec\n",
      "└ @ Main c:\\Users\\vicva\\OneDrive\\Documenten\\git\\Thesis_CCFT\\jl_notebook_cell_df34fa98e69747e1a8f8a730347b8e2f_W0sZmlsZQ==.jl:77\n",
      "┌ Info: DMRG init:\tobj = +2.587790154200e+02 +1.057465527997e+01im\terr = 3.5902e-02\n",
      "└ @ Main c:\\Users\\vicva\\OneDrive\\Documenten\\git\\Thesis_CCFT\\jl_notebook_cell_df34fa98e69747e1a8f8a730347b8e2f_W0sZmlsZQ==.jl:62\n",
      "┌ Info: DMRG conv 1:\tobj = +2.609505294189e+02 +1.335986014738e+01im\terr = 1.7962957167e-08\ttime = 0.01 sec\n",
      "└ @ Main c:\\Users\\vicva\\OneDrive\\Documenten\\git\\Thesis_CCFT\\jl_notebook_cell_df34fa98e69747e1a8f8a730347b8e2f_W0sZmlsZQ==.jl:77\n",
      "┌ Info: DMRG init:\tobj = +2.359266685264e+02 +1.811960963997e+01im\terr = 3.0821e-02\n",
      "└ @ Main c:\\Users\\vicva\\OneDrive\\Documenten\\git\\Thesis_CCFT\\jl_notebook_cell_df34fa98e69747e1a8f8a730347b8e2f_W0sZmlsZQ==.jl:62\n",
      "┌ Info: DMRG conv 1:\tobj = +2.372272977844e+02 +1.935250750241e+01im\terr = 5.9946585934e-08\ttime = 0.05 sec\n",
      "└ @ Main c:\\Users\\vicva\\OneDrive\\Documenten\\git\\Thesis_CCFT\\jl_notebook_cell_df34fa98e69747e1a8f8a730347b8e2f_W0sZmlsZQ==.jl:77\n"
     ]
    },
    {
     "name": "stdout",
     "output_type": "stream",
     "text": [
      "(1.0, -260.95052941893954 - 13.359860147378786im, -237.22729778441288 - 19.352507502408333im)\n",
      "260.95052941893954 + 13.359860147378786im\n",
      "ComplexF64[237.22729778441288 + 19.352507502408333im]\n",
      "(1.0, -295.59337157124224 - 20.469974584007865im, -282.60744243132723 - 24.44160270968343im)\n",
      "295.59337157124224 + 20.469974584007865im\n",
      "ComplexF64[282.60744243132723 + 24.44160270968343im]\n"
     ]
    },
    {
     "name": "stderr",
     "output_type": "stream",
     "text": [
      "┌ Info: DMRG init:\tobj = +2.916036547000e+02 +1.624818484970e+01im\terr = 4.0975e-02\n",
      "└ @ Main c:\\Users\\vicva\\OneDrive\\Documenten\\git\\Thesis_CCFT\\jl_notebook_cell_df34fa98e69747e1a8f8a730347b8e2f_W0sZmlsZQ==.jl:62\n",
      "┌ Info: DMRG conv 1:\tobj = +2.955933715712e+02 +2.046997458401e+01im\terr = 7.5742532606e-08\ttime = 0.04 sec\n",
      "└ @ Main c:\\Users\\vicva\\OneDrive\\Documenten\\git\\Thesis_CCFT\\jl_notebook_cell_df34fa98e69747e1a8f8a730347b8e2f_W0sZmlsZQ==.jl:77\n",
      "┌ Info: DMRG init:\tobj = +2.816300707498e+02 +2.353640799646e+01im\terr = 2.5410e-02\n",
      "└ @ Main c:\\Users\\vicva\\OneDrive\\Documenten\\git\\Thesis_CCFT\\jl_notebook_cell_df34fa98e69747e1a8f8a730347b8e2f_W0sZmlsZQ==.jl:62\n",
      "┌ Info: DMRG conv 1:\tobj = +2.826074424313e+02 +2.444160270968e+01im\terr = 5.1398045465e-08\ttime = 0.03 sec\n",
      "└ @ Main c:\\Users\\vicva\\OneDrive\\Documenten\\git\\Thesis_CCFT\\jl_notebook_cell_df34fa98e69747e1a8f8a730347b8e2f_W0sZmlsZQ==.jl:77\n"
     ]
    },
    {
     "name": "stdout",
     "output_type": "stream",
     "text": [
      "(1.0, -199.14153313387263 - 3.2312537627859093im, -131.16301020204764 - 5.21733187194019im)\n",
      "199.14153313387263 + 3.2312537627859093im\n",
      "ComplexF64[131.16301020204764 + 5.21733187194019im]\n"
     ]
    },
    {
     "name": "stderr",
     "output_type": "stream",
     "text": [
      "┌ Info: DMRG init:\tobj = +1.453149896113e+02 +7.900417512592e+00im\terr = 2.6164e-01\n",
      "└ @ Main c:\\Users\\vicva\\OneDrive\\Documenten\\git\\Thesis_CCFT\\jl_notebook_cell_df34fa98e69747e1a8f8a730347b8e2f_W0sZmlsZQ==.jl:62\n",
      "┌ Info: DMRG conv 1:\tobj = +1.991415331339e+02 +3.231253762786e+00im\terr = 3.4916904805e-07\ttime = 0.02 sec\n",
      "└ @ Main c:\\Users\\vicva\\OneDrive\\Documenten\\git\\Thesis_CCFT\\jl_notebook_cell_df34fa98e69747e1a8f8a730347b8e2f_W0sZmlsZQ==.jl:77\n",
      "┌ Info: DMRG init:\tobj = +1.031717283007e+02 +9.433273367826e+00im\terr = 2.0718e-01\n",
      "└ @ Main c:\\Users\\vicva\\OneDrive\\Documenten\\git\\Thesis_CCFT\\jl_notebook_cell_df34fa98e69747e1a8f8a730347b8e2f_W0sZmlsZQ==.jl:62\n",
      "┌ Info: DMRG conv 1:\tobj = +1.311630102020e+02 +5.217331871940e+00im\terr = 3.1939208518e-07\ttime = 0.03 sec\n",
      "└ @ Main c:\\Users\\vicva\\OneDrive\\Documenten\\git\\Thesis_CCFT\\jl_notebook_cell_df34fa98e69747e1a8f8a730347b8e2f_W0sZmlsZQ==.jl:77\n",
      "┌ Info: DMRG init:\tobj = +2.050627553149e+02 +3.929832187977e+00im\terr = 1.5601e-02\n",
      "└ @ Main c:\\Users\\vicva\\OneDrive\\Documenten\\git\\Thesis_CCFT\\jl_notebook_cell_df34fa98e69747e1a8f8a730347b8e2f_W0sZmlsZQ==.jl:62\n",
      "┌ Info: DMRG conv 1:\tobj = +2.052131068156e+02 +4.179283847732e+00im\terr = 7.4034083538e-08\ttime = 0.05 sec\n",
      "└ @ Main c:\\Users\\vicva\\OneDrive\\Documenten\\git\\Thesis_CCFT\\jl_notebook_cell_df34fa98e69747e1a8f8a730347b8e2f_W0sZmlsZQ==.jl:77\n",
      "┌ Info: DMRG init:\tobj = +1.407236895773e+02 +6.345288928354e+00im\terr = 2.8673e-02\n",
      "└ @ Main c:\\Users\\vicva\\OneDrive\\Documenten\\git\\Thesis_CCFT\\jl_notebook_cell_df34fa98e69747e1a8f8a730347b8e2f_W0sZmlsZQ==.jl:62\n"
     ]
    },
    {
     "name": "stdout",
     "output_type": "stream",
     "text": [
      "(1.0, -205.21310681563878 - 4.179283847732309im, -141.20164285236373 - 7.12832573639804im)\n",
      "205.21310681563878 + 4.179283847732309im\n",
      "ComplexF64[141.20164285236373 + 7.12832573639804im]\n"
     ]
    },
    {
     "name": "stderr",
     "output_type": "stream",
     "text": [
      "┌ Info: DMRG conv 1:\tobj = +1.412016428524e+02 +7.128325736398e+00im\terr = 1.6702284635e-07\ttime = 0.04 sec\n",
      "└ @ Main c:\\Users\\vicva\\OneDrive\\Documenten\\git\\Thesis_CCFT\\jl_notebook_cell_df34fa98e69747e1a8f8a730347b8e2f_W0sZmlsZQ==.jl:77\n",
      "┌ Info: DMRG init:\tobj = +2.128715793581e+02 +5.082820908918e+00im\terr = 1.8900e-02\n",
      "└ @ Main c:\\Users\\vicva\\OneDrive\\Documenten\\git\\Thesis_CCFT\\jl_notebook_cell_df34fa98e69747e1a8f8a730347b8e2f_W0sZmlsZQ==.jl:62\n",
      "┌ Info: DMRG conv 1:\tobj = +2.131252686132e+02 +5.517541559383e+00im\terr = 1.7510538865e-08\ttime = 0.06 sec\n",
      "└ @ Main c:\\Users\\vicva\\OneDrive\\Documenten\\git\\Thesis_CCFT\\jl_notebook_cell_df34fa98e69747e1a8f8a730347b8e2f_W0sZmlsZQ==.jl:77\n",
      "┌ Info: DMRG init:\tobj = +1.542641887131e+02 +8.669428643427e+00im\terr = 3.2008e-02\n",
      "└ @ Main c:\\Users\\vicva\\OneDrive\\Documenten\\git\\Thesis_CCFT\\jl_notebook_cell_df34fa98e69747e1a8f8a730347b8e2f_W0sZmlsZQ==.jl:62\n"
     ]
    },
    {
     "name": "stdout",
     "output_type": "stream",
     "text": [
      "(1.0, -213.12526861316238 - 5.517541559382768im, -155.06604295624732 - 9.921860728852801im)\n",
      "213.12526861316238 + 5.517541559382768im\n",
      "ComplexF64[155.06604295624732 + 9.921860728852801im]\n"
     ]
    },
    {
     "name": "stderr",
     "output_type": "stream",
     "text": [
      "┌ Info: DMRG conv 1:\tobj = +1.550660429562e+02 +9.921860728853e+00im\terr = 1.9191569230e-07\ttime = 0.04 sec\n",
      "└ @ Main c:\\Users\\vicva\\OneDrive\\Documenten\\git\\Thesis_CCFT\\jl_notebook_cell_df34fa98e69747e1a8f8a730347b8e2f_W0sZmlsZQ==.jl:77\n"
     ]
    },
    {
     "name": "stdout",
     "output_type": "stream",
     "text": [
      "(1.0, -223.68951108305635 - 7.52448172919691im, -174.46372186839014 - 13.787942752294915im)\n",
      "223.68951108305635 + 7.52448172919691im\n",
      "ComplexF64[174.46372186839014 + 13.787942752294915im]\n"
     ]
    },
    {
     "name": "stderr",
     "output_type": "stream",
     "text": [
      "┌ Info: DMRG init:\tobj = +2.232360775637e+02 +6.710402218570e+00im\terr = 2.3257e-02\n",
      "└ @ Main c:\\Users\\vicva\\OneDrive\\Documenten\\git\\Thesis_CCFT\\jl_notebook_cell_df34fa98e69747e1a8f8a730347b8e2f_W0sZmlsZQ==.jl:62\n",
      "┌ Info: DMRG conv 1:\tobj = +2.236895110831e+02 +7.524481729197e+00im\terr = 3.0127562422e-08\ttime = 0.02 sec\n",
      "└ @ Main c:\\Users\\vicva\\OneDrive\\Documenten\\git\\Thesis_CCFT\\jl_notebook_cell_df34fa98e69747e1a8f8a730347b8e2f_W0sZmlsZQ==.jl:77\n",
      "┌ Info: DMRG init:\tobj = +1.732476981706e+02 +1.206690978775e+01im\terr = 3.4718e-02\n",
      "└ @ Main c:\\Users\\vicva\\OneDrive\\Documenten\\git\\Thesis_CCFT\\jl_notebook_cell_df34fa98e69747e1a8f8a730347b8e2f_W0sZmlsZQ==.jl:62\n",
      "┌ Info: DMRG conv 1:\tobj = +1.744637218684e+02 +1.378794275229e+01im\terr = 9.3213645348e-08\ttime = 0.04 sec\n",
      "└ @ Main c:\\Users\\vicva\\OneDrive\\Documenten\\git\\Thesis_CCFT\\jl_notebook_cell_df34fa98e69747e1a8f8a730347b8e2f_W0sZmlsZQ==.jl:77\n"
     ]
    },
    {
     "name": "stdout",
     "output_type": "stream",
     "text": [
      "(1.0, -238.36399048165225 - 10.814398725740748im, -201.18037642864337 - 18.607520453855585im)\n",
      "238.36399048165225 + 10.814398725740748im\n",
      "ComplexF64[201.18037642864337 + 18.607520453855585im]\n"
     ]
    },
    {
     "name": "stderr",
     "output_type": "stream",
     "text": [
      "┌ Info: DMRG init:\tobj = +2.374780066290e+02 +9.151231276786e+00im\terr = 2.8918e-02\n",
      "└ @ Main c:\\Users\\vicva\\OneDrive\\Documenten\\git\\Thesis_CCFT\\jl_notebook_cell_df34fa98e69747e1a8f8a730347b8e2f_W0sZmlsZQ==.jl:62\n",
      "┌ Info: DMRG conv 1:\tobj = +2.383639904817e+02 +1.081439872574e+01im\terr = 9.6053482075e-08\ttime = 0.04 sec\n",
      "└ @ Main c:\\Users\\vicva\\OneDrive\\Documenten\\git\\Thesis_CCFT\\jl_notebook_cell_df34fa98e69747e1a8f8a730347b8e2f_W0sZmlsZQ==.jl:77\n",
      "┌ Info: DMRG init:\tobj = +1.997299121616e+02 +1.676881644456e+01im\terr = 3.4803e-02\n",
      "└ @ Main c:\\Users\\vicva\\OneDrive\\Documenten\\git\\Thesis_CCFT\\jl_notebook_cell_df34fa98e69747e1a8f8a730347b8e2f_W0sZmlsZQ==.jl:62\n",
      "┌ Info: DMRG conv 1:\tobj = +2.011803764286e+02 +1.860752045386e+01im\terr = 5.4202767784e-08\ttime = 0.03 sec\n",
      "└ @ Main c:\\Users\\vicva\\OneDrive\\Documenten\\git\\Thesis_CCFT\\jl_notebook_cell_df34fa98e69747e1a8f8a730347b8e2f_W0sZmlsZQ==.jl:77\n",
      "┌ Info: DMRG init:\tobj = +2.581812076706e+02 +1.315240935128e+01im\terr = 3.5903e-02\n",
      "└ @ Main c:\\Users\\vicva\\OneDrive\\Documenten\\git\\Thesis_CCFT\\jl_notebook_cell_df34fa98e69747e1a8f8a730347b8e2f_W0sZmlsZQ==.jl:62\n",
      "┌ Info: DMRG conv 1:\tobj = +2.601375675401e+02 +1.662578922698e+01im\terr = 2.3048281573e-08\ttime = 0.04 sec\n",
      "└ @ Main c:\\Users\\vicva\\OneDrive\\Documenten\\git\\Thesis_CCFT\\jl_notebook_cell_df34fa98e69747e1a8f8a730347b8e2f_W0sZmlsZQ==.jl:77\n",
      "┌ Info: DMRG init:\tobj = +2.352783677764e+02 +2.263035904520e+01im\terr = 3.1106e-02\n",
      "└ @ Main c:\\Users\\vicva\\OneDrive\\Documenten\\git\\Thesis_CCFT\\jl_notebook_cell_df34fa98e69747e1a8f8a730347b8e2f_W0sZmlsZQ==.jl:62\n"
     ]
    },
    {
     "name": "stdout",
     "output_type": "stream",
     "text": [
      "(1.0, -260.13756754011155 - 16.625789226982626im, -236.58648123924635 - 24.17380645717835im)\n",
      "260.13756754011155 + 16.625789226982626im\n",
      "ComplexF64[236.58648123924635 + 24.17380645717835im]\n"
     ]
    },
    {
     "name": "stderr",
     "output_type": "stream",
     "text": [
      "┌ Info: DMRG conv 1:\tobj = +2.365864812392e+02 +2.417380645718e+01im\terr = 6.1899872905e-08\ttime = 0.31 sec\n",
      "└ @ Main c:\\Users\\vicva\\OneDrive\\Documenten\\git\\Thesis_CCFT\\jl_notebook_cell_df34fa98e69747e1a8f8a730347b8e2f_W0sZmlsZQ==.jl:77\n"
     ]
    },
    {
     "name": "stdout",
     "output_type": "stream",
     "text": [
      "(1.0, -294.5377311239427 - 25.572972712378636im, -281.8701542384864 - 30.52971397077359im)\n"
     ]
    },
    {
     "name": "stderr",
     "output_type": "stream",
     "text": [
      "┌ Info: DMRG init:\tobj = +2.906040672877e+02 +2.022018895798e+01im\terr = 4.1122e-02\n",
      "└ @ Main c:\\Users\\vicva\\OneDrive\\Documenten\\git\\Thesis_CCFT\\jl_notebook_cell_df34fa98e69747e1a8f8a730347b8e2f_W0sZmlsZQ==.jl:62\n",
      "┌ Info: DMRG conv 1:\tobj = +2.945377311239e+02 +2.557297271238e+01im\terr = 8.2995642728e-08\ttime = 0.02 sec\n",
      "└ @ Main c:\\Users\\vicva\\OneDrive\\Documenten\\git\\Thesis_CCFT\\jl_notebook_cell_df34fa98e69747e1a8f8a730347b8e2f_W0sZmlsZQ==.jl:77\n",
      "┌ Info: DMRG init:\tobj = +2.808846049717e+02 +2.940004397532e+01im\terr = 2.5650e-02\n",
      "└ @ Main c:\\Users\\vicva\\OneDrive\\Documenten\\git\\Thesis_CCFT\\jl_notebook_cell_df34fa98e69747e1a8f8a730347b8e2f_W0sZmlsZQ==.jl:62\n",
      "┌ Info: DMRG conv 1:\tobj = +2.818701542385e+02 +3.052971397077e+01im\terr = 5.1995938386e-08\ttime = 0.05 sec\n",
      "└ @ Main c:\\Users\\vicva\\OneDrive\\Documenten\\git\\Thesis_CCFT\\jl_notebook_cell_df34fa98e69747e1a8f8a730347b8e2f_W0sZmlsZQ==.jl:77\n"
     ]
    },
    {
     "name": "stdout",
     "output_type": "stream",
     "text": [
      "294.5377311239427 + 25.572972712378636im\n",
      "ComplexF64[281.8701542384864 + 30.52971397077359im]\n"
     ]
    },
    {
     "name": "stderr",
     "output_type": "stream",
     "text": [
      "┌ Info: DMRG init:\tobj = +1.445567899851e+02 +9.473383232247e+00im\terr = 2.6271e-01\n",
      "└ @ Main c:\\Users\\vicva\\OneDrive\\Documenten\\git\\Thesis_CCFT\\jl_notebook_cell_df34fa98e69747e1a8f8a730347b8e2f_W0sZmlsZQ==.jl:62\n",
      "┌ Info: DMRG conv 1:\tobj = +1.990352855894e+02 +3.869703477002e+00im\terr = 3.7424618708e-07\ttime = 0.06 sec\n",
      "└ @ Main c:\\Users\\vicva\\OneDrive\\Documenten\\git\\Thesis_CCFT\\jl_notebook_cell_df34fa98e69747e1a8f8a730347b8e2f_W0sZmlsZQ==.jl:77\n",
      "┌ Info: DMRG init:\tobj = +1.028188063355e+02 +1.130958389816e+01im\terr = 2.0928e-01\n",
      "└ @ Main c:\\Users\\vicva\\OneDrive\\Documenten\\git\\Thesis_CCFT\\jl_notebook_cell_df34fa98e69747e1a8f8a730347b8e2f_W0sZmlsZQ==.jl:62\n"
     ]
    },
    {
     "name": "stdout",
     "output_type": "stream",
     "text": [
      "(1.0, -199.03528558944106 - 3.86970347700241im, -130.95649845253124 - 6.241989456743399im)\n",
      "199.03528558944106 + 3.86970347700241im\n",
      "ComplexF64[130.95649845253124 + 6.241989456743399im]\n"
     ]
    },
    {
     "name": "stderr",
     "output_type": "stream",
     "text": [
      "┌ Info: DMRG conv 1:\tobj = +1.309564984525e+02 +6.241989456743e+00im\terr = 3.0110188029e-07\ttime = 0.03 sec\n",
      "└ @ Main c:\\Users\\vicva\\OneDrive\\Documenten\\git\\Thesis_CCFT\\jl_notebook_cell_df34fa98e69747e1a8f8a730347b8e2f_W0sZmlsZQ==.jl:77\n"
     ]
    },
    {
     "name": "stdout",
     "output_type": "stream",
     "text": [
      "("
     ]
    },
    {
     "name": "stderr",
     "output_type": "stream",
     "text": [
      "┌ Info: DMRG init:\tobj = +2.049325599721e+02 +4.706311047739e+00im\terr = 1.5600e-02\n",
      "└ @ Main c:\\Users\\vicva\\OneDrive\\Documenten\\git\\Thesis_CCFT\\jl_notebook_cell_df34fa98e69747e1a8f8a730347b8e2f_W0sZmlsZQ==.jl:62\n",
      "┌ Info: DMRG conv 1:\tobj = +2.050666296254e+02 +5.003041324987e+00im\terr = 5.3943931592e-09\ttime = 0.05 sec\n",
      "└ @ Main c:\\Users\\vicva\\OneDrive\\Documenten\\git\\Thesis_CCFT\\jl_notebook_cell_df34fa98e69747e1a8f8a730347b8e2f_W0sZmlsZQ==.jl:77\n",
      "┌ Info: DMRG init:\tobj = +1.404690424339e+02 +7.591471572623e+00im\terr = 2.8760e-02\n",
      "└ @ Main c:\\Users\\vicva\\OneDrive\\Documenten\\git\\Thesis_CCFT\\jl_notebook_cell_df34fa98e69747e1a8f8a730347b8e2f_W0sZmlsZQ==.jl:62\n",
      "┌ Info: DMRG conv 1:\tobj = +1.408980743498e+02 +8.525897127637e+00im\terr = 1.6626232446e-07\ttime = 0.04 sec\n",
      "└ @ Main c:\\Users\\vicva\\OneDrive\\Documenten\\git\\Thesis_CCFT\\jl_notebook_cell_df34fa98e69747e1a8f8a730347b8e2f_W0sZmlsZQ==.jl:77\n"
     ]
    },
    {
     "name": "stdout",
     "output_type": "stream",
     "text": [
      "1.0, -205.06662962539423 - 5.003041324987086im, -140.89807434981353 - 8.525897127636938im)\n",
      "205.06662962539423 + 5.003041324987086im\n",
      "ComplexF64[140.89807434981353 + 8.525897127636938im]\n",
      "(1.0, -212.91369397832023 - 6.600513422771189im, -154.6278033643495 - 11.871403296428515im)\n"
     ]
    },
    {
     "name": "stderr",
     "output_type": "stream",
     "text": [
      "┌ Info: DMRG init:\tobj = +2.126910658688e+02 +6.084670001207e+00im\terr = 1.8894e-02\n",
      "└ @ Main c:\\Users\\vicva\\OneDrive\\Documenten\\git\\Thesis_CCFT\\jl_notebook_cell_df34fa98e69747e1a8f8a730347b8e2f_W0sZmlsZQ==.jl:62\n",
      "┌ Info: DMRG conv 1:\tobj = +2.129136939783e+02 +6.600513422771e+00im\terr = 1.7911432124e-08\ttime = 0.03 sec\n",
      "└ @ Main c:\\Users\\vicva\\OneDrive\\Documenten\\git\\Thesis_CCFT\\jl_notebook_cell_df34fa98e69747e1a8f8a730347b8e2f_W0sZmlsZQ==.jl:77\n",
      "┌ Info: DMRG init:\tobj = +1.538912028979e+02 +1.036914690806e+01im\terr = 3.2090e-02\n",
      "└ @ Main c:\\Users\\vicva\\OneDrive\\Documenten\\git\\Thesis_CCFT\\jl_notebook_cell_df34fa98e69747e1a8f8a730347b8e2f_W0sZmlsZQ==.jl:62\n",
      "┌ Info: DMRG conv 1:\tobj = +1.546278033643e+02 +1.187140329643e+01im\terr = 1.9778520173e-07\ttime = 0.02 sec\n",
      "└ @ Main c:\\Users\\vicva\\OneDrive\\Documenten\\git\\Thesis_CCFT\\jl_notebook_cell_df34fa98e69747e1a8f8a730347b8e2f_W0sZmlsZQ==.jl:77\n"
     ]
    },
    {
     "name": "stdout",
     "output_type": "stream",
     "text": [
      "212.91369397832023 + 6.600513422771189im\n",
      "ComplexF64[154.6278033643495 + 11.871403296428515im]\n",
      "(1.0, -223.36081328468507 - 8.99025446686202im, -173.88419712537026 - 16.51509199376177"
     ]
    },
    {
     "name": "stderr",
     "output_type": "stream",
     "text": [
      "┌ Info: DMRG init:\tobj = +2.229726142423e+02 +8.027506352090e+00im\terr = 2.3242e-02\n",
      "└ @ Main c:\\Users\\vicva\\OneDrive\\Documenten\\git\\Thesis_CCFT\\jl_notebook_cell_df34fa98e69747e1a8f8a730347b8e2f_W0sZmlsZQ==.jl:62\n",
      "┌ Info: DMRG conv 1:\tobj = +2.233608132847e+02 +8.990254466862e+00im\terr = 3.2774742267e-08\ttime = 0.02 sec\n",
      "└ @ Main c:\\Users\\vicva\\OneDrive\\Documenten\\git\\Thesis_CCFT\\jl_notebook_cell_df34fa98e69747e1a8f8a730347b8e2f_W0sZmlsZQ==.jl:77\n",
      "┌ Info: DMRG init:\tobj = +1.727193504201e+02 +1.443793221320e+01im\terr = 3.4834e-02\n",
      "└ @ Main c:\\Users\\vicva\\OneDrive\\Documenten\\git\\Thesis_CCFT\\jl_notebook_cell_df34fa98e69747e1a8f8a730347b8e2f_W0sZmlsZQ==.jl:62\n",
      "┌ Info: DMRG conv 1:\tobj = +1.738841971254e+02 +1.651509199376e+01im\terr = 9.3958471888e-08\ttime = 0.04 sec\n",
      "└ @ Main c:\\Users\\vicva\\OneDrive\\Documenten\\git\\Thesis_CCFT\\jl_notebook_cell_df34fa98e69747e1a8f8a730347b8e2f_W0sZmlsZQ==.jl:77\n"
     ]
    },
    {
     "name": "stdout",
     "output_type": "stream",
     "text": [
      "im)\n",
      "223.36081328468507 + 8.99025446686202im\n",
      "ComplexF64[173.88419712537026 + 16.51509199376177im]\n"
     ]
    },
    {
     "name": "stderr",
     "output_type": "stream",
     "text": [
      "┌ Info: DMRG init:\tobj = +2.370616039721e+02 +1.093389562555e+01im\terr = 2.8890e-02\n",
      "└ @ Main c:\\Users\\vicva\\OneDrive\\Documenten\\git\\Thesis_CCFT\\jl_notebook_cell_df34fa98e69747e1a8f8a730347b8e2f_W0sZmlsZQ==.jl:62\n",
      "┌ Info: DMRG conv 1:\tobj = +2.378004050584e+02 +1.289791177623e+01im\terr = 1.0693638471e-07\ttime = 0.03 sec\n",
      "└ @ Main c:\\Users\\vicva\\OneDrive\\Documenten\\git\\Thesis_CCFT\\jl_notebook_cell_df34fa98e69747e1a8f8a730347b8e2f_W0sZmlsZQ==.jl:77\n",
      "┌ Info: DMRG init:\tobj = +1.990525412945e+02 +2.008555962145e+01im\terr = 3.5023e-02\n",
      "└ @ Main c:\\Users\\vicva\\OneDrive\\Documenten\\git\\Thesis_CCFT\\jl_notebook_cell_df34fa98e69747e1a8f8a730347b8e2f_W0sZmlsZQ==.jl:62\n"
     ]
    },
    {
     "name": "stdout",
     "output_type": "stream",
     "text": [
      "(1.0, -237.800405058438 - 12.897911776228554im, -200.49239234600242 - 22.306079500622094im)\n",
      "237.800405058438 + 12.897911776228554im\n",
      "ComplexF64[200.49239234600242 + 22.306079500622094im]\n"
     ]
    },
    {
     "name": "stderr",
     "output_type": "stream",
     "text": [
      "┌ Info: DMRG conv 1:\tobj = +2.004923923460e+02 +2.230607950062e+01im\terr = 5.6573999777e-08\ttime = 0.03 sec\n",
      "└ @ Main c:\\Users\\vicva\\OneDrive\\Documenten\\git\\Thesis_CCFT\\jl_notebook_cell_df34fa98e69747e1a8f8a730347b8e2f_W0sZmlsZQ==.jl:77\n",
      "┌ Info: DMRG init:\tobj = +2.574563102614e+02 +1.568636590529e+01im\terr = 3.5902e-02\n",
      "└ @ Main c:\\Users\\vicva\\OneDrive\\Documenten\\git\\Thesis_CCFT\\jl_notebook_cell_df34fa98e69747e1a8f8a730347b8e2f_W0sZmlsZQ==.jl:62\n",
      "┌ Info: DMRG conv 1:\tobj = +2.591412184036e+02 +1.983977420223e+01im\terr = 2.8616605951e-08\ttime = 0.03 sec\n",
      "└ @ Main c:\\Users\\vicva\\OneDrive\\Documenten\\git\\Thesis_CCFT\\jl_notebook_cell_df34fa98e69747e1a8f8a730347b8e2f_W0sZmlsZQ==.jl:77\n",
      "┌ Info: DMRG init:\tobj = +2.344859714401e+02 +2.712852522407e+01im\terr = 3.1330e-02\n",
      "└ @ Main c:\\Users\\vicva\\OneDrive\\Documenten\\git\\Thesis_CCFT\\jl_notebook_cell_df34fa98e69747e1a8f8a730347b8e2f_W0sZmlsZQ==.jl:62\n"
     ]
    },
    {
     "name": "stdout",
     "output_type": "stream",
     "text": [
      "(1.0, -259.1412184036247 - 19.839774202233365im, -235.8038406683354 - 28.983977493515074im)\n",
      "259.1412184036247 + 19.839774202233365im\n",
      "ComplexF64[235.8038406683354 + 28.983977493515074im]\n"
     ]
    },
    {
     "name": "stderr",
     "output_type": "stream",
     "text": [
      "┌ Info: DMRG conv 1:\tobj = +2.358038406683e+02 +2.898397749352e+01im\terr = 6.4200661311e-08\ttime = 0.08 sec\n",
      "└ @ Main c:\\Users\\vicva\\OneDrive\\Documenten\\git\\Thesis_CCFT\\jl_notebook_cell_df34fa98e69747e1a8f8a730347b8e2f_W0sZmlsZQ==.jl:77\n"
     ]
    },
    {
     "name": "stdout",
     "output_type": "stream",
     "text": [
      "(1.0,"
     ]
    },
    {
     "name": "stderr",
     "output_type": "stream",
     "text": [
      "┌ Info: DMRG init:\tobj = +2.893762461920e+02 +2.412901894616e+01im\terr = 4.1303e-02\n",
      "└ @ Main c:\\Users\\vicva\\OneDrive\\Documenten\\git\\Thesis_CCFT\\jl_notebook_cell_df34fa98e69747e1a8f8a730347b8e2f_W0sZmlsZQ==.jl:62\n",
      "┌ Info: DMRG conv 1:\tobj = +2.932390367676e+02 +3.066823860999e+01im\terr = 9.2162811557e-08\ttime = 0.05 sec\n",
      "└ @ Main c:\\Users\\vicva\\OneDrive\\Documenten\\git\\Thesis_CCFT\\jl_notebook_cell_df34fa98e69747e1a8f8a730347b8e2f_W0sZmlsZQ==.jl:77\n",
      "┌ Info: DMRG init:\tobj = +2.799742710373e+02 +3.525014624398e+01im\terr = 2.5830e-02\n",
      "└ @ Main c:\\Users\\vicva\\OneDrive\\Documenten\\git\\Thesis_CCFT\\jl_notebook_cell_df34fa98e69747e1a8f8a730347b8e2f_W0sZmlsZQ==.jl:62\n",
      "┌ Info: DMRG conv 1:\tobj = +2.809699826243e+02 +3.660299575713e+01im\terr = 5.2894447716e-08\ttime = 0.04 sec\n",
      "└ @ Main c:\\Users\\vicva\\OneDrive\\Documenten\\git\\Thesis_CCFT\\jl_notebook_cell_df34fa98e69747e1a8f8a730347b8e2f_W0sZmlsZQ==.jl:77\n"
     ]
    },
    {
     "name": "stdout",
     "output_type": "stream",
     "text": [
      " -293.23903676757493 - 30.66823860998986im, -280.96998262429776 - 36.60299575713435im)\n",
      "293.23903676757493 + 30.66823860998986im\n",
      "ComplexF64[280.96998262429776 + 36.60299575713435im]\n",
      "("
     ]
    },
    {
     "name": "stderr",
     "output_type": "stream",
     "text": [
      "┌ Info: DMRG init:\tobj = +1.436203521283e+02 +1.104328014602e+01im\terr = 2.6404e-01\n",
      "└ @ Main c:\\Users\\vicva\\OneDrive\\Documenten\\git\\Thesis_CCFT\\jl_notebook_cell_df34fa98e69747e1a8f8a730347b8e2f_W0sZmlsZQ==.jl:62\n",
      "┌ Info: DMRG conv 1:\tobj = +1.989101658037e+02 +4.503939864125e+00im\terr = 4.0364857437e-07\ttime = 0.04 sec\n",
      "└ @ Main c:\\Users\\vicva\\OneDrive\\Documenten\\git\\Thesis_CCFT\\jl_notebook_cell_df34fa98e69747e1a8f8a730347b8e2f_W0sZmlsZQ==.jl:77\n",
      "┌ Info: DMRG init:\tobj = +1.023978726089e+02 +1.318031796577e+01im\terr = 2.1093e-01\n",
      "└ @ Main c:\\Users\\vicva\\OneDrive\\Documenten\\git\\Thesis_CCFT\\jl_notebook_cell_df34fa98e69747e1a8f8a730347b8e2f_W0sZmlsZQ==.jl:62\n",
      "┌ Info: DMRG conv 1:\tobj = +1.307136085985e+02 +7.256457958283e+00im\terr = 2.9039523814e-07\ttime = 0.04 sec\n",
      "└ @ Main c:\\Users\\vicva\\OneDrive\\Documenten\\git\\Thesis_CCFT\\jl_notebook_cell_df34fa98e69747e1a8f8a730347b8e2f_W0sZmlsZQ==.jl:77\n"
     ]
    },
    {
     "name": "stdout",
     "output_type": "stream",
     "text": [
      "1.0, -198.91016580368944 - 4.50393986412525im, -130.71360859852743 - 7.25645795828277im)\n",
      "198.91016580368944 + 4.50393986412525im\n",
      "ComplexF64[130.71360859852743 + 7.25645795828277im]\n"
     ]
    },
    {
     "name": "stderr",
     "output_type": "stream",
     "text": [
      "┌ Info: DMRG init:\tobj = +2.047792426832e+02 +5.477665683394e+00im\terr = 1.5597e-02\n",
      "└ @ Main c:\\Users\\vicva\\OneDrive\\Documenten\\git\\Thesis_CCFT\\jl_notebook_cell_df34fa98e69747e1a8f8a730347b8e2f_W0sZmlsZQ==.jl:62\n",
      "┌ Info: DMRG conv 1:\tobj = +2.048943372602e+02 +5.820291538173e+00im\terr = 5.5013439594e-09\ttime = 0.08 sec\n",
      "└ @ Main c:\\Users\\vicva\\OneDrive\\Documenten\\git\\Thesis_CCFT\\jl_notebook_cell_df34fa98e69747e1a8f8a730347b8e2f_W0sZmlsZQ==.jl:77\n"
     ]
    },
    {
     "name": "stdout",
     "output_type": "stream",
     "text": [
      "(1.0, -204.89433726019695 - 5.820291538173456im, -140.5406785491578 - 9.908100074764883im)\n",
      "204.89433726019695 + 5.820291538173456im\n",
      "ComplexF64"
     ]
    },
    {
     "name": "stderr",
     "output_type": "stream",
     "text": [
      "┌ Info: DMRG init:\tobj = +1.401694874324e+02 +8.825262312599e+00im\terr = 2.8864e-02\n",
      "└ @ Main c:\\Users\\vicva\\OneDrive\\Documenten\\git\\Thesis_CCFT\\jl_notebook_cell_df34fa98e69747e1a8f8a730347b8e2f_W0sZmlsZQ==.jl:62\n",
      "┌ Info: DMRG conv 1:\tobj = +1.405406785492e+02 +9.908100074765e+00im\terr = 1.6672428756e-07\ttime = 0.03 sec\n",
      "└ @ Main c:\\Users\\vicva\\OneDrive\\Documenten\\git\\Thesis_CCFT\\jl_notebook_cell_df34fa98e69747e1a8f8a730347b8e2f_W0sZmlsZQ==.jl:77\n"
     ]
    },
    {
     "name": "stdout",
     "output_type": "stream",
     "text": [
      "[140.5406785491578 + 9.908100074764883im]\n"
     ]
    },
    {
     "name": "stderr",
     "output_type": "stream",
     "text": [
      "┌ Info: DMRG init:\tobj = +2.124787499143e+02 +7.078604996471e+00im\terr = 1.8886e-02\n",
      "└ @ Main c:\\Users\\vicva\\OneDrive\\Documenten\\git\\Thesis_CCFT\\jl_notebook_cell_df34fa98e69747e1a8f8a730347b8e2f_W0sZmlsZQ==.jl:62\n",
      "┌ Info: DMRG conv 1:\tobj = +2.126653429351e+02 +7.672510751246e+00im\terr = 1.8382611125e-08\ttime = 0.07 sec\n",
      "└ @ Main c:\\Users\\vicva\\OneDrive\\Documenten\\git\\Thesis_CCFT\\jl_notebook_cell_df34fa98e69747e1a8f8a730347b8e2f_W0sZmlsZQ==.jl:77\n",
      "┌ Info: DMRG init:\tobj = +1.534519080112e+02 +1.205017415962e+01im\terr = 3.2208e-02\n",
      "└ @ Main c:\\Users\\vicva\\OneDrive\\Documenten\\git\\Thesis_CCFT\\jl_notebook_cell_df34fa98e69747e1a8f8a730347b8e2f_W0sZmlsZQ==.jl:62\n",
      "┌ Info: DMRG conv 1:\tobj = +1.541101653246e+02 +1.380163943913e+01im\terr = 4.7514723831e-08\ttime = 0.04 sec\n",
      "└ @ Main c:\\Users\\vicva\\OneDrive\\Documenten\\git\\Thesis_CCFT\\jl_notebook_cell_df34fa98e69747e1a8f8a730347b8e2f_W0sZmlsZQ==.jl:77\n"
     ]
    },
    {
     "name": "stdout",
     "output_type": "stream",
     "text": [
      "(1.0, -212.66534293508636 - 7.672510751246101im, -154.11016532460127 - 13.80163943913458im)\n",
      "212.66534293508636 + 7.672510751246101im\n",
      "ComplexF64[154.11016532460127 + 13.80163943913458im]\n",
      "(1.0, "
     ]
    },
    {
     "name": "stderr",
     "output_type": "stream",
     "text": [
      "┌ Info: DMRG init:\tobj = +2.226633795023e+02 +9.331263319550e+00im\terr = 2.3223e-02\n",
      "└ @ Main c:\\Users\\vicva\\OneDrive\\Documenten\\git\\Thesis_CCFT\\jl_notebook_cell_df34fa98e69747e1a8f8a730347b8e2f_W0sZmlsZQ==.jl:62\n",
      "┌ Info: DMRG conv 1:\tobj = +2.229762145696e+02 +1.043522364965e+01im\terr = 3.5769100815e-08\ttime = 0.03 sec\n",
      "└ @ Main c:\\Users\\vicva\\OneDrive\\Documenten\\git\\Thesis_CCFT\\jl_notebook_cell_df34fa98e69747e1a8f8a730347b8e2f_W0sZmlsZQ==.jl:77\n",
      "┌ Info: DMRG init:\tobj = +1.720950597450e+02 +1.678547427609e+01im\terr = 3.4921e-02\n",
      "└ @ Main c:\\Users\\vicva\\OneDrive\\Documenten\\git\\Thesis_CCFT\\jl_notebook_cell_df34fa98e69747e1a8f8a730347b8e2f_W0sZmlsZQ==.jl:62\n",
      "┌ Info: DMRG conv 1:\tobj = +1.731979920094e+02 +1.922555401794e+01im\terr = 1.5252789532e-07\ttime = 0.03 sec\n",
      "└ @ Main c:\\Users\\vicva\\OneDrive\\Documenten\\git\\Thesis_CCFT\\jl_notebook_cell_df34fa98e69747e1a8f8a730347b8e2f_W0sZmlsZQ==.jl:77\n"
     ]
    },
    {
     "name": "stdout",
     "output_type": "stream",
     "text": [
      "-222.97621456962395 - 10.435223649649858im, -173.197992009437 - 19.225554017944987im)\n",
      "222.97621456962395 + 10.435223649649858im\n",
      "ComplexF64[173.197992009437 + 19.225554017944987im]\n",
      "(1.0, -237.1418528004737 - 14.938397626416945im, -199.6788327850515 - 25.992381577317378im)\n",
      "237.1418528004737 + 14.938397626416945im\n",
      "ComplexF64[199.6788327850515 + 25.992381577317378im]\n"
     ]
    },
    {
     "name": "stderr",
     "output_type": "stream",
     "text": [
      "┌ Info: DMRG init:\tobj = +2.365743379245e+02 +1.269125881087e+01im\terr = 2.8856e-02\n",
      "└ @ Main c:\\Users\\vicva\\OneDrive\\Documenten\\git\\Thesis_CCFT\\jl_notebook_cell_df34fa98e69747e1a8f8a730347b8e2f_W0sZmlsZQ==.jl:62\n",
      "┌ Info: DMRG conv 1:\tobj = +2.371418528005e+02 +1.493839762642e+01im\terr = 1.1881886169e-07\ttime = 0.02 sec\n",
      "└ @ Main c:\\Users\\vicva\\OneDrive\\Documenten\\git\\Thesis_CCFT\\jl_notebook_cell_df34fa98e69747e1a8f8a730347b8e2f_W0sZmlsZQ==.jl:77\n",
      "┌ Info: DMRG init:\tobj = +1.982507808981e+02 +2.338200790094e+01im\terr = 3.5211e-02\n",
      "└ @ Main c:\\Users\\vicva\\OneDrive\\Documenten\\git\\Thesis_CCFT\\jl_notebook_cell_df34fa98e69747e1a8f8a730347b8e2f_W0sZmlsZQ==.jl:62\n",
      "┌ Info: DMRG conv 1:\tobj = +1.996788327851e+02 +2.599238157732e+01im\terr = 5.9346847390e-08\ttime = 0.03 sec\n",
      "└ @ Main c:\\Users\\vicva\\OneDrive\\Documenten\\git\\Thesis_CCFT\\jl_notebook_cell_df34fa98e69747e1a8f8a730347b8e2f_W0sZmlsZQ==.jl:77\n"
     ]
    },
    {
     "name": "stdout",
     "output_type": "stream",
     "text": [
      "("
     ]
    },
    {
     "name": "stderr",
     "output_type": "stream",
     "text": [
      "┌ Info: DMRG init:\tobj = +2.566080550083e+02 +1.816799302648e+01im\terr = 3.5895e-02\n",
      "└ @ Main c:\\Users\\vicva\\OneDrive\\Documenten\\git\\Thesis_CCFT\\jl_notebook_cell_df34fa98e69747e1a8f8a730347b8e2f_W0sZmlsZQ==.jl:62\n",
      "┌ Info: DMRG conv 1:\tobj = +2.579600794008e+02 +2.298857552620e+01im\terr = 3.4802445939e-08\ttime = 0.05 sec\n",
      "└ @ Main c:\\Users\\vicva\\OneDrive\\Documenten\\git\\Thesis_CCFT\\jl_notebook_cell_df34fa98e69747e1a8f8a730347b8e2f_W0sZmlsZQ==.jl:77\n",
      "┌ Info: DMRG init:\tobj = +2.335494639129e+02 +3.161178454664e+01im\terr = 3.1513e-02\n",
      "└ @ Main c:\\Users\\vicva\\OneDrive\\Documenten\\git\\Thesis_CCFT\\jl_notebook_cell_df34fa98e69747e1a8f8a730347b8e2f_W0sZmlsZQ==.jl:62\n",
      "┌ Info: DMRG conv 1:\tobj = +2.348797380502e+02 +3.378088503707e+01im\terr = 6.6891443973e-08\ttime = 0.04 sec\n",
      "└ @ Main c:\\Users\\vicva\\OneDrive\\Documenten\\git\\Thesis_CCFT\\jl_notebook_cell_df34fa98e69747e1a8f8a730347b8e2f_W0sZmlsZQ==.jl:77\n"
     ]
    },
    {
     "name": "stdout",
     "output_type": "stream",
     "text": [
      "1.0, -257.9600794008099 - 22.98857552619786im, -234.87973805015702 - 33.780885037071855im)\n",
      "257.9600794008099 + 22.98857552619786im\n",
      "ComplexF64[234.87973805015702 + 33.780885037071855im]\n",
      "("
     ]
    },
    {
     "name": "stderr",
     "output_type": "stream",
     "text": [
      "┌ Info: DMRG init:\tobj = +2.879164556370e+02 +2.795857295364e+01im\terr = 4.1518e-02\n",
      "└ @ Main c:\\Users\\vicva\\OneDrive\\Documenten\\git\\Thesis_CCFT\\jl_notebook_cell_df34fa98e69747e1a8f8a730347b8e2f_W0sZmlsZQ==.jl:62\n",
      "┌ Info: DMRG conv 1:\tobj = +2.916917661066e+02 +3.575647201796e+01im\terr = 1.0349425134e-07\ttime = 0.05 sec\n",
      "└ @ Main c:\\Users\\vicva\\OneDrive\\Documenten\\git\\Thesis_CCFT\\jl_notebook_cell_df34fa98e69747e1a8f8a730347b8e2f_W0sZmlsZQ==.jl:77\n",
      "┌ Info: DMRG init:\tobj = +2.788995556594e+02 +4.108411752922e+01im\terr = 2.5966e-02\n",
      "└ @ Main c:\\Users\\vicva\\OneDrive\\Documenten\\git\\Thesis_CCFT\\jl_notebook_cell_df34fa98e69747e1a8f8a730347b8e2f_W0sZmlsZQ==.jl:62\n",
      "┌ Info: DMRG conv 1:\tobj = +2.799075072762e+02 +4.265851134916e+01im\terr = 5.3937204239e-08\ttime = 0.03 sec\n",
      "└ @ Main c:\\Users\\vicva\\OneDrive\\Documenten\\git\\Thesis_CCFT\\jl_notebook_cell_df34fa98e69747e1a8f8a730347b8e2f_W0sZmlsZQ==.jl:77\n"
     ]
    },
    {
     "name": "stdout",
     "output_type": "stream",
     "text": [
      "1.0, -291.6917661065655 - 35.75647201796463im, -279.907507276244 - 42.65851134916041im)\n",
      "291.6917661065655 + 35.75647201796463im\n",
      "ComplexF64[279.907507276244 + 42.65851134916041im]\n",
      "(1.0, -187.4210333327814 - "
     ]
    },
    {
     "name": "stderr",
     "output_type": "stream",
     "text": [
      "┌ Info: DMRG init:\tobj = +1.126439226137e+02 +2.686093812376e+00im\terr = 3.8866e-01\n",
      "└ @ Main c:\\Users\\vicva\\OneDrive\\Documenten\\git\\Thesis_CCFT\\jl_notebook_cell_df34fa98e69747e1a8f8a730347b8e2f_W0sZmlsZQ==.jl:62\n",
      "┌ Info: DMRG conv 1:\tobj = +1.874210333328e+02 +9.747634779094e-01im\terr = 4.3280223909e-08\ttime = 0.02 sec\n",
      "└ @ Main c:\\Users\\vicva\\OneDrive\\Documenten\\git\\Thesis_CCFT\\jl_notebook_cell_df34fa98e69747e1a8f8a730347b8e2f_W0sZmlsZQ==.jl:77\n",
      "┌ Info: DMRG init:\tobj = +6.629822110717e+01 +3.204588062339e+00im\terr = 3.7657e-01\n",
      "└ @ Main c:\\Users\\vicva\\OneDrive\\Documenten\\git\\Thesis_CCFT\\jl_notebook_cell_df34fa98e69747e1a8f8a730347b8e2f_W0sZmlsZQ==.jl:62\n",
      "┌ Info: DMRG conv 1:\tobj = +1.133506662764e+02 +1.404244780438e+00im\terr = 5.6070781481e-07\ttime = 0.03 sec\n",
      "└ @ Main c:\\Users\\vicva\\OneDrive\\Documenten\\git\\Thesis_CCFT\\jl_notebook_cell_df34fa98e69747e1a8f8a730347b8e2f_W0sZmlsZQ==.jl:77\n"
     ]
    },
    {
     "name": "stdout",
     "output_type": "stream",
     "text": [
      "0.9747634779094321im, -113.35066627638089 - 1.4042447804380593im)\n",
      "187.4210333327814 + 0.9747634779094321im\n",
      "ComplexF64[113.35066627638089 + 1.4042447804380593im]\n"
     ]
    },
    {
     "name": "stderr",
     "output_type": "stream",
     "text": [
      "┌ Info: DMRG init:\tobj = +1.874599485305e+02 +9.776294886793e-01im\terr = 1.1862e-04\n",
      "└ @ Main c:\\Users\\vicva\\OneDrive\\Documenten\\git\\Thesis_CCFT\\jl_notebook_cell_df34fa98e69747e1a8f8a730347b8e2f_W0sZmlsZQ==.jl:62\n",
      "┌ Info: DMRG conv 1:\tobj = +1.874599255695e+02 +9.780177329100e-01im\terr = 3.3531961889e-10\ttime = 0.04 sec\n",
      "└ @ Main c:\\Users\\vicva\\OneDrive\\Documenten\\git\\Thesis_CCFT\\jl_notebook_cell_df34fa98e69747e1a8f8a730347b8e2f_W0sZmlsZQ==.jl:77\n",
      "┌ Info: DMRG init:\tobj = +1.134067275308e+02 +1.408373557065e+00im\terr = 2.5511e-04\n",
      "└ @ Main c:\\Users\\vicva\\OneDrive\\Documenten\\git\\Thesis_CCFT\\jl_notebook_cell_df34fa98e69747e1a8f8a730347b8e2f_W0sZmlsZQ==.jl:62\n"
     ]
    },
    {
     "name": "stdout",
     "output_type": "stream",
     "text": [
      "(1.0, -187.45992556949676 - 0.9780177329100057im, -113.4066585744847 - 1.4094615167178606im)\n",
      "187.45992556949676 + 0.9780177329100057im\n",
      "ComplexF64[113.4066585744847 + 1.4094615167178606im]\n"
     ]
    },
    {
     "name": "stderr",
     "output_type": "stream",
     "text": [
      "┌ Info: DMRG conv 1:\tobj = +1.134066585745e+02 +1.409461516718e+00im\terr = 2.0543195123e-09\ttime = 0.03 sec\n",
      "└ @ Main c:\\Users\\vicva\\OneDrive\\Documenten\\git\\Thesis_CCFT\\jl_notebook_cell_df34fa98e69747e1a8f8a730347b8e2f_W0sZmlsZQ==.jl:77\n"
     ]
    },
    {
     "name": "stdout",
     "output_type": "stream",
     "text": [
      "(1.0, -187.49894756097112 - 0.9812840893015279im, -113.46285862480552 - 1.4147013158744766im)\n"
     ]
    },
    {
     "name": "stderr",
     "output_type": "stream",
     "text": [
      "┌ Info: DMRG init:\tobj = +1.874989706859e+02 +9.808933118778e-01im\terr = 1.1896e-04\n",
      "└ @ Main c:\\Users\\vicva\\OneDrive\\Documenten\\git\\Thesis_CCFT\\jl_notebook_cell_df34fa98e69747e1a8f8a730347b8e2f_W0sZmlsZQ==.jl:62\n",
      "┌ Info: DMRG conv 1:\tobj = +1.874989475610e+02 +9.812840893015e-01im\terr = 3.3998938914e-10\ttime = 0.03 sec\n",
      "└ @ Main c:\\Users\\vicva\\OneDrive\\Documenten\\git\\Thesis_CCFT\\jl_notebook_cell_df34fa98e69747e1a8f8a730347b8e2f_W0sZmlsZQ==.jl:77\n",
      "┌ Info: DMRG init:\tobj = +1.134629280952e+02 +1.413605631653e+00im\terr = 2.5579e-04\n",
      "└ @ Main c:\\Users\\vicva\\OneDrive\\Documenten\\git\\Thesis_CCFT\\jl_notebook_cell_df34fa98e69747e1a8f8a730347b8e2f_W0sZmlsZQ==.jl:62\n",
      "┌ Info: DMRG conv 1:\tobj = +1.134628586248e+02 +1.414701315874e+00im\terr = 2.0704001951e-09\ttime = 0.04 sec\n",
      "└ @ Main c:\\Users\\vicva\\OneDrive\\Documenten\\git\\Thesis_CCFT\\jl_notebook_cell_df34fa98e69747e1a8f8a730347b8e2f_W0sZmlsZQ==.jl:77\n"
     ]
    },
    {
     "name": "stdout",
     "output_type": "stream",
     "text": [
      "187.49894756097112 + 0.9812840893015279im\n",
      "ComplexF64[113.46285862480552 + 1.4147013158744766im]\n",
      "("
     ]
    },
    {
     "name": "stderr",
     "output_type": "stream",
     "text": [
      "┌ Info: DMRG init:\tobj = +1.875381230792e+02 +9.841692720479e-01im\terr = 1.1931e-04\n",
      "└ @ Main c:\\Users\\vicva\\OneDrive\\Documenten\\git\\Thesis_CCFT\\jl_notebook_cell_df34fa98e69747e1a8f8a730347b8e2f_W0sZmlsZQ==.jl:62\n",
      "┌ Info: DMRG conv 1:\tobj = +1.875380997937e+02 +9.845626095956e-01im\terr = 3.4447681169e-10\ttime = 0.04 sec\n",
      "└ @ Main c:\\Users\\vicva\\OneDrive\\Documenten\\git\\Thesis_CCFT\\jl_notebook_cell_df34fa98e69747e1a8f8a730347b8e2f_W0sZmlsZQ==.jl:77\n",
      "┌ Info: DMRG init:\tobj = +1.135193373324e+02 +1.418860836927e+00im\terr = 2.5644e-04\n",
      "└ @ Main c:\\Users\\vicva\\OneDrive\\Documenten\\git\\Thesis_CCFT\\jl_notebook_cell_df34fa98e69747e1a8f8a730347b8e2f_W0sZmlsZQ==.jl:62\n",
      "┌ Info: DMRG conv 1:\tobj = +1.135192673308e+02 +1.419964253130e+00im\terr = 2.0799491960e-09\ttime = 0.03 sec\n",
      "└ @ Main c:\\Users\\vicva\\OneDrive\\Documenten\\git\\Thesis_CCFT\\jl_notebook_cell_df34fa98e69747e1a8f8a730347b8e2f_W0sZmlsZQ==.jl:77\n"
     ]
    },
    {
     "name": "stdout",
     "output_type": "stream",
     "text": [
      "1.0, -187.5380997937224 - 0.9845626095956138im, -113.51926733081977 - 1.4199642531298615im)\n",
      "187.5380997937224 + 0.9845626095956138im\n",
      "ComplexF64[113.51926733081977 + 1.4199642531298615im]\n",
      "(1.0, "
     ]
    },
    {
     "name": "stderr",
     "output_type": "stream",
     "text": [
      "┌ Info: DMRG init:\tobj = +1.875774061994e+02 +9.874574318850e-01im\terr = 1.1966e-04\n",
      "└ @ Main c:\\Users\\vicva\\OneDrive\\Documenten\\git\\Thesis_CCFT\\jl_notebook_cell_df34fa98e69747e1a8f8a730347b8e2f_W0sZmlsZQ==.jl:62\n",
      "┌ Info: DMRG conv 1:\tobj = +1.875773827521e+02 +9.878533474051e-01im\terr = 3.4902405675e-10\ttime = 0.02 sec\n",
      "└ @ Main c:\\Users\\vicva\\OneDrive\\Documenten\\git\\Thesis_CCFT\\jl_notebook_cell_df34fa98e69747e1a8f8a730347b8e2f_W0sZmlsZQ==.jl:77\n",
      "┌ Info: DMRG init:\tobj = +1.135759561492e+02 +1.424139248331e+00im\terr = 2.5709e-04\n",
      "└ @ Main c:\\Users\\vicva\\OneDrive\\Documenten\\git\\Thesis_CCFT\\jl_notebook_cell_df34fa98e69747e1a8f8a730347b8e2f_W0sZmlsZQ==.jl:62\n",
      "┌ Info: DMRG conv 1:\tobj = +1.135758856118e+02 +1.425250455983e+00im\terr = 2.0895992939e-09\ttime = 0.05 sec\n",
      "└ @ Main c:\\Users\\vicva\\OneDrive\\Documenten\\git\\Thesis_CCFT\\jl_notebook_cell_df34fa98e69747e1a8f8a730347b8e2f_W0sZmlsZQ==.jl:77\n"
     ]
    },
    {
     "name": "stdout",
     "output_type": "stream",
     "text": [
      "-187.57738275214615 - 0.9878533474050922im, -113.5758856117847 - 1.4252504559833876im)\n",
      "187.57738275214615 + 0.9878533474050922im\n",
      "ComplexF64[113.5758856117847 + 1.4252504559833876im]\n",
      "("
     ]
    },
    {
     "name": "stderr",
     "output_type": "stream",
     "text": [
      "┌ Info: DMRG init:\tobj = +1.872631249439e+02 +1.003383367497e+00im\terr = 9.5663e-04\n",
      "└ @ Main c:\\Users\\vicva\\OneDrive\\Documenten\\git\\Thesis_CCFT\\jl_notebook_cell_df34fa98e69747e1a8f8a730347b8e2f_W0sZmlsZQ==.jl:62\n",
      "┌ Info: DMRG conv 1:\tobj = +1.872634883462e+02 +1.000174760214e+00im\terr = 2.5466674250e-09\ttime = 0.03 sec\n",
      "└ @ Main c:\\Users\\vicva\\OneDrive\\Documenten\\git\\Thesis_CCFT\\jl_notebook_cell_df34fa98e69747e1a8f8a730347b8e2f_W0sZmlsZQ==.jl:77\n",
      "┌ Info: DMRG init:\tobj = +1.131224821935e+02 +1.447656786108e+00im\terr = 2.0600e-03\n",
      "└ @ Main c:\\Users\\vicva\\OneDrive\\Documenten\\git\\Thesis_CCFT\\jl_notebook_cell_df34fa98e69747e1a8f8a730347b8e2f_W0sZmlsZQ==.jl:62\n",
      "┌ Info: DMRG conv 1:\tobj = +1.131235399572e+02 +1.438662463197e+00im\terr = 1.6482278758e-08\ttime = 0.04 sec\n",
      "└ @ Main c:\\Users\\vicva\\OneDrive\\Documenten\\git\\Thesis_CCFT\\jl_notebook_cell_df34fa98e69747e1a8f8a730347b8e2f_W0sZmlsZQ==.jl:77\n"
     ]
    },
    {
     "name": "stdout",
     "output_type": "stream",
     "text": [
      "1.0, -187.263488346197 - 1.0001747602141822im, -113.12353995721877 - 1.4386624631968452im)\n",
      "187.263488346197 + 1.0001747602141822im\n",
      "ComplexF64[113.12353995721877 + 1.4386624631968452im]\n",
      "(1.0, -187.30185421346738 - 1.0035086792971128im, -113.17868744650022 - 1.4439920806719422im)\n",
      "187.30185421346738"
     ]
    },
    {
     "name": "stderr",
     "output_type": "stream",
     "text": [
      "┌ Info: DMRG init:\tobj = +1.873018789836e+02 +1.003115485528e+00im\terr = 1.1724e-04\n",
      "└ @ Main c:\\Users\\vicva\\OneDrive\\Documenten\\git\\Thesis_CCFT\\jl_notebook_cell_df34fa98e69747e1a8f8a730347b8e2f_W0sZmlsZQ==.jl:62\n",
      "┌ Info: DMRG conv 1:\tobj = +1.873018542135e+02 +1.003508679297e+00im\terr = 3.1861703596e-10\ttime = 0.02 sec\n",
      "└ @ Main c:\\Users\\vicva\\OneDrive\\Documenten\\git\\Thesis_CCFT\\jl_notebook_cell_df34fa98e69747e1a8f8a730347b8e2f_W0sZmlsZQ==.jl:77\n",
      "┌ Info: DMRG init:\tobj = +1.131787614757e+02 +1.442892435090e+00im\terr = 2.5256e-04\n",
      "└ @ Main c:\\Users\\vicva\\OneDrive\\Documenten\\git\\Thesis_CCFT\\jl_notebook_cell_df34fa98e69747e1a8f8a730347b8e2f_W0sZmlsZQ==.jl:62\n",
      "┌ Info: DMRG conv 1:\tobj = +1.131786874465e+02 +1.443992080672e+00im\terr = 2.0276794235e-09\ttime = 0.03 sec\n",
      "└ @ Main c:\\Users\\vicva\\OneDrive\\Documenten\\git\\Thesis_CCFT\\jl_notebook_cell_df34fa98e69747e1a8f8a730347b8e2f_W0sZmlsZQ==.jl:77\n"
     ]
    },
    {
     "name": "stdout",
     "output_type": "stream",
     "text": [
      " + 1.0035086792971128im\n",
      "ComplexF64[113.17868744650022 + 1.4439920806719422im]\n",
      "(1.0, -187.3403478784542 - 1.0068549714251553im, -113.23403894470353 - 1.4493451031139741im)\n"
     ]
    },
    {
     "name": "stderr",
     "output_type": "stream",
     "text": [
      "┌ Info: DMRG init:\tobj = +1.873403728198e+02 +1.006459207038e+00im\terr = 1.1758e-04\n",
      "└ @ Main c:\\Users\\vicva\\OneDrive\\Documenten\\git\\Thesis_CCFT\\jl_notebook_cell_df34fa98e69747e1a8f8a730347b8e2f_W0sZmlsZQ==.jl:62\n",
      "┌ Info: DMRG conv 1:\tobj = +1.873403478785e+02 +1.006854971425e+00im\terr = 3.2272043524e-10\ttime = 0.02 sec\n",
      "└ @ Main c:\\Users\\vicva\\OneDrive\\Documenten\\git\\Thesis_CCFT\\jl_notebook_cell_df34fa98e69747e1a8f8a730347b8e2f_W0sZmlsZQ==.jl:77\n",
      "┌ Info: DMRG init:\tobj = +1.132341135367e+02 +1.448237722767e+00im\terr = 2.5321e-04\n",
      "└ @ Main c:\\Users\\vicva\\OneDrive\\Documenten\\git\\Thesis_CCFT\\jl_notebook_cell_df34fa98e69747e1a8f8a730347b8e2f_W0sZmlsZQ==.jl:62\n",
      "┌ Info: DMRG conv 1:\tobj = +1.132340389447e+02 +1.449345103114e+00im\terr = 2.0369649010e-09\ttime = 0.02 sec\n",
      "└ @ Main c:\\Users\\vicva\\OneDrive\\Documenten\\git\\Thesis_CCFT\\jl_notebook_cell_df34fa98e69747e1a8f8a730347b8e2f_W0sZmlsZQ==.jl:77\n"
     ]
    },
    {
     "name": "stdout",
     "output_type": "stream",
     "text": [
      "187.3403478784542 + 1.0068549714251553im\n",
      "ComplexF64[113.23403894470353 + 1.4493451031139741im]\n",
      "("
     ]
    },
    {
     "name": "stderr",
     "output_type": "stream",
     "text": [
      "┌ Info: DMRG init:\tobj = +1.873789949286e+02 +1.009815337973e+00im\terr = 1.1793e-04\n",
      "└ @ Main c:\\Users\\vicva\\OneDrive\\Documenten\\git\\Thesis_CCFT\\jl_notebook_cell_df34fa98e69747e1a8f8a730347b8e2f_W0sZmlsZQ==.jl:62\n",
      "┌ Info: DMRG conv 1:\tobj = +1.873789698149e+02 +1.010213690715e+00im\terr = 3.2697746051e-10\ttime = 0.03 sec\n",
      "└ @ Main c:\\Users\\vicva\\OneDrive\\Documenten\\git\\Thesis_CCFT\\jl_notebook_cell_df34fa98e69747e1a8f8a730347b8e2f_W0sZmlsZQ==.jl:77\n",
      "┌ Info: DMRG init:\tobj = +1.132896705049e+02 +1.453606484227e+00im\terr = 2.5385e-04\n",
      "└ @ Main c:\\Users\\vicva\\OneDrive\\Documenten\\git\\Thesis_CCFT\\jl_notebook_cell_df34fa98e69747e1a8f8a730347b8e2f_W0sZmlsZQ==.jl:62\n",
      "┌ Info: DMRG conv 1:\tobj = +1.132895953453e+02 +1.454721658825e+00im\terr = 2.0461514538e-09\ttime = 0.02 sec\n",
      "└ @ Main c:\\Users\\vicva\\OneDrive\\Documenten\\git\\Thesis_CCFT\\jl_notebook_cell_df34fa98e69747e1a8f8a730347b8e2f_W0sZmlsZQ==.jl:77\n"
     ]
    },
    {
     "name": "stdout",
     "output_type": "stream",
     "text": [
      "1.0, -187.3789698148583 - 1.0102136907147168im, -113.2895953453149 - 1.4547216588253515im)\n",
      "187.3789698148583 + 1.0102136907147168im\n",
      "ComplexF64[113.2895953453149 + 1.4547216588253515im]\n",
      "(1.0, -187.41772049837869 - 1.0135848916991452im, -113.34535754686992 - 1.4601218767540975im)\n",
      "187.41772049837869"
     ]
    },
    {
     "name": "stderr",
     "output_type": "stream",
     "text": [
      "┌ Info: DMRG init:\tobj = +1.874177457859e+02 +1.013183932607e+00im\terr = 1.1827e-04\n",
      "└ @ Main c:\\Users\\vicva\\OneDrive\\Documenten\\git\\Thesis_CCFT\\jl_notebook_cell_df34fa98e69747e1a8f8a730347b8e2f_W0sZmlsZQ==.jl:62\n",
      "┌ Info: DMRG conv 1:\tobj = +1.874177204984e+02 +1.013584891699e+00im\terr = 3.3129130166e-10\ttime = 0.03 sec\n",
      "└ @ Main c:\\Users\\vicva\\OneDrive\\Documenten\\git\\Thesis_CCFT\\jl_notebook_cell_df34fa98e69747e1a8f8a730347b8e2f_W0sZmlsZQ==.jl:77\n",
      "┌ Info: DMRG init:\tobj = +1.133454332788e+02 +1.458998848150e+00im\terr = 2.5450e-04\n",
      "└ @ Main c:\\Users\\vicva\\OneDrive\\Documenten\\git\\Thesis_CCFT\\jl_notebook_cell_df34fa98e69747e1a8f8a730347b8e2f_W0sZmlsZQ==.jl:62\n",
      "┌ Info: DMRG conv 1:\tobj = +1.133453575469e+02 +1.460121876754e+00im\terr = 2.0554300034e-09\ttime = 0.03 sec\n",
      "└ @ Main c:\\Users\\vicva\\OneDrive\\Documenten\\git\\Thesis_CCFT\\jl_notebook_cell_df34fa98e69747e1a8f8a730347b8e2f_W0sZmlsZQ==.jl:77\n"
     ]
    },
    {
     "name": "stdout",
     "output_type": "stream",
     "text": [
      " + 1.0135848916991452im\n",
      "ComplexF64[113.34535754686992 + 1.4601218767540975im]\n",
      "("
     ]
    },
    {
     "name": "stderr",
     "output_type": "stream",
     "text": [
      "┌ Info: DMRG init:\tobj = +1.874566258694e+02 +1.016565045636e+00im\terr = 1.1861e-04\n",
      "└ @ Main c:\\Users\\vicva\\OneDrive\\Documenten\\git\\Thesis_CCFT\\jl_notebook_cell_df34fa98e69747e1a8f8a730347b8e2f_W0sZmlsZQ==.jl:62\n",
      "┌ Info: DMRG conv 1:\tobj = +1.874566004068e+02 +1.016968629209e+00im\terr = 3.3566274754e-10\ttime = 0.04 sec\n",
      "└ @ Main c:\\Users\\vicva\\OneDrive\\Documenten\\git\\Thesis_CCFT\\jl_notebook_cell_df34fa98e69747e1a8f8a730347b8e2f_W0sZmlsZQ==.jl:77\n",
      "┌ Info: DMRG init:\tobj = +1.134014027620e+02 +1.464414943861e+00im\terr = 2.5515e-04\n",
      "└ @ Main c:\\Users\\vicva\\OneDrive\\Documenten\\git\\Thesis_CCFT\\jl_notebook_cell_df34fa98e69747e1a8f8a730347b8e2f_W0sZmlsZQ==.jl:62\n",
      "┌ Info: DMRG conv 1:\tobj = +1.134013264528e+02 +1.465545886733e+00im\terr = 2.0648024949e-09\ttime = 0.02 sec\n",
      "└ @ Main c:\\Users\\vicva\\OneDrive\\Documenten\\git\\Thesis_CCFT\\jl_notebook_cell_df34fa98e69747e1a8f8a730347b8e2f_W0sZmlsZQ==.jl:77\n"
     ]
    },
    {
     "name": "stdout",
     "output_type": "stream",
     "text": [
      "1.0, -187.45660040679718 - 1.016968629209399im, -113.40132645281147 - 1.465545886732667im)\n",
      "187.45660040679718 + 1.016968629209399im\n",
      "ComplexF64[113.40132645281147 + 1.465545886732667im]\n"
     ]
    },
    {
     "name": "stderr",
     "output_type": "stream",
     "text": [
      "┌ Info: DMRG init:\tobj = +1.874956356589e+02 +1.019958732050e+00im\terr = 1.1896e-04\n",
      "└ @ Main c:\\Users\\vicva\\OneDrive\\Documenten\\git\\Thesis_CCFT\\jl_notebook_cell_df34fa98e69747e1a8f8a730347b8e2f_W0sZmlsZQ==.jl:62\n",
      "┌ Info: DMRG conv 1:\tobj = +1.874956100200e+02 +1.020364958376e+00im\terr = 3.4009252456e-10\ttime = 0.03 sec\n",
      "└ @ Main c:\\Users\\vicva\\OneDrive\\Documenten\\git\\Thesis_CCFT\\jl_notebook_cell_df34fa98e69747e1a8f8a730347b8e2f_W0sZmlsZQ==.jl:77\n",
      "┌ Info: DMRG init:\tobj = +1.134575798627e+02 +1.469854901576e+00im\terr = 2.5580e-04\n",
      "└ @ Main c:\\Users\\vicva\\OneDrive\\Documenten\\git\\Thesis_CCFT\\jl_notebook_cell_df34fa98e69747e1a8f8a730347b8e2f_W0sZmlsZQ==.jl:62\n"
     ]
    },
    {
     "name": "stdout",
     "output_type": "stream",
     "text": [
      "(1.0, -187.4956100199887 - 1.020364958375869im, -113.4575029715214 - 1.4709938194853829im)\n"
     ]
    },
    {
     "name": "stderr",
     "output_type": "stream",
     "text": [
      "┌ Info: DMRG conv 1:\tobj = +1.134575029715e+02 +1.470993819485e+00im\terr = 2.0742708146e-09\ttime = 0.28 sec\n",
      "└ @ Main c:\\Users\\vicva\\OneDrive\\Documenten\\git\\Thesis_CCFT\\jl_notebook_cell_df34fa98e69747e1a8f8a730347b8e2f_W0sZmlsZQ==.jl:77\n"
     ]
    },
    {
     "name": "stdout",
     "output_type": "stream",
     "text": [
      "187.4956100199887 + 1.020364958375869im\n",
      "ComplexF64[113.4575029715214 + 1.4709938194853829im]\n"
     ]
    },
    {
     "name": "stderr",
     "output_type": "stream",
     "text": [
      "┌ Info: DMRG init:\tobj = +1.875347756366e+02 +1.023365047142e+00im\terr = 1.1931e-04\n",
      "└ @ Main c:\\Users\\vicva\\OneDrive\\Documenten\\git\\Thesis_CCFT\\jl_notebook_cell_df34fa98e69747e1a8f8a730347b8e2f_W0sZmlsZQ==.jl:62\n",
      "┌ Info: DMRG conv 1:\tobj = +1.875347498199e+02 +1.023773934631e+00im\terr = 3.4458146317e-10\ttime = 0.05 sec\n",
      "└ @ Main c:\\Users\\vicva\\OneDrive\\Documenten\\git\\Thesis_CCFT\\jl_notebook_cell_df34fa98e69747e1a8f8a730347b8e2f_W0sZmlsZQ==.jl:77\n",
      "┌ Info: DMRG init:\tobj = +1.135139654945e+02 +1.475318852403e+00im\terr = 2.5645e-04\n",
      "└ @ Main c:\\Users\\vicva\\OneDrive\\Documenten\\git\\Thesis_CCFT\\jl_notebook_cell_df34fa98e69747e1a8f8a730347b8e2f_W0sZmlsZQ==.jl:62\n"
     ]
    },
    {
     "name": "stdout",
     "output_type": "stream",
     "text": [
      "(1.0, -187.5347498199328 - 1.0237739346306574im, -113.51388801635542 - 1.4764658066356526im)\n",
      "187.5347498199328 + 1.0237739346306574im\n",
      "ComplexF64[113.51388801635542 + 1.4764658066356526im]\n"
     ]
    },
    {
     "name": "stderr",
     "output_type": "stream",
     "text": [
      "┌ Info: DMRG conv 1:\tobj = +1.135138880164e+02 +1.476465806636e+00im\terr = 2.0838371455e-09\ttime = 0.07 sec\n",
      "└ @ Main c:\\Users\\vicva\\OneDrive\\Documenten\\git\\Thesis_CCFT\\jl_notebook_cell_df34fa98e69747e1a8f8a730347b8e2f_W0sZmlsZQ==.jl:77\n"
     ]
    },
    {
     "name": "stdout",
     "output_type": "stream",
     "text": [
      "("
     ]
    },
    {
     "name": "stderr",
     "output_type": "stream",
     "text": [
      "┌ Info: DMRG init:\tobj = +1.875740462864e+02 +1.026784046508e+00im\terr = 1.1966e-04\n",
      "└ @ Main c:\\Users\\vicva\\OneDrive\\Documenten\\git\\Thesis_CCFT\\jl_notebook_cell_df34fa98e69747e1a8f8a730347b8e2f_W0sZmlsZQ==.jl:62\n",
      "┌ Info: DMRG conv 1:\tobj = +1.875740202907e+02 +1.027195613710e+00im\terr = 3.4913033992e-10\ttime = 0.05 sec\n",
      "└ @ Main c:\\Users\\vicva\\OneDrive\\Documenten\\git\\Thesis_CCFT\\jl_notebook_cell_df34fa98e69747e1a8f8a730347b8e2f_W0sZmlsZQ==.jl:77\n",
      "┌ Info: DMRG init:\tobj = +1.135705605757e+02 +1.480806928353e+00im\terr = 2.5710e-04\n",
      "└ @ Main c:\\Users\\vicva\\OneDrive\\Documenten\\git\\Thesis_CCFT\\jl_notebook_cell_df34fa98e69747e1a8f8a730347b8e2f_W0sZmlsZQ==.jl:62\n",
      "┌ Info: DMRG conv 1:\tobj = +1.135704825057e+02 +1.481961980714e+00im\terr = 2.0935033231e-09\ttime = 0.02 sec\n",
      "└ @ Main c:\\Users\\vicva\\OneDrive\\Documenten\\git\\Thesis_CCFT\\jl_notebook_cell_df34fa98e69747e1a8f8a730347b8e2f_W0sZmlsZQ==.jl:77\n"
     ]
    },
    {
     "name": "stdout",
     "output_type": "stream",
     "text": [
      "1.0, -187.5740202907244 - 1.0271956137095264im, -113.57048250567603 - 1.4819619807135136im)\n",
      "187.5740202907244 + 1.0271956137095264im\n",
      "ComplexF64[113.57048250567603 + 1.4819619807135136im]\n",
      "("
     ]
    },
    {
     "name": "stderr",
     "output_type": "stream",
     "text": [
      "┌ Info: DMRG init:\tobj = +1.872597284423e+02 +1.041802465433e+00im\terr = 9.5663e-04\n",
      "└ @ Main c:\\Users\\vicva\\OneDrive\\Documenten\\git\\Thesis_CCFT\\jl_notebook_cell_df34fa98e69747e1a8f8a730347b8e2f_W0sZmlsZQ==.jl:62\n",
      "┌ Info: DMRG conv 1:\tobj = +1.872600969415e+02 +1.038470647993e+00im\terr = 2.5475121478e-09\ttime = 0.03 sec\n",
      "└ @ Main c:\\Users\\vicva\\OneDrive\\Documenten\\git\\Thesis_CCFT\\jl_notebook_cell_df34fa98e69747e1a8f8a730347b8e2f_W0sZmlsZQ==.jl:77\n",
      "┌ Info: DMRG init:\tobj = +1.131170454349e+02 +1.503035667773e+00im\terr = 2.0601e-03\n",
      "└ @ Main c:\\Users\\vicva\\OneDrive\\Documenten\\git\\Thesis_CCFT\\jl_notebook_cell_df34fa98e69747e1a8f8a730347b8e2f_W0sZmlsZQ==.jl:62\n",
      "┌ Info: DMRG conv 1:\tobj = +1.131181204617e+02 +1.493696458294e+00im\terr = 1.6514952981e-08\ttime = 0.04 sec\n",
      "└ @ Main c:\\Users\\vicva\\OneDrive\\Documenten\\git\\Thesis_CCFT\\jl_notebook_cell_df34fa98e69747e1a8f8a730347b8e2f_W0sZmlsZQ==.jl:77\n"
     ]
    },
    {
     "name": "stdout",
     "output_type": "stream",
     "text": [
      "1.0, -187.26009694146995 - 1.0384706479930141im, -113.1181204616851 - 1.4936964582937016im)\n",
      "187.26009694146995 + 1.0384706479930141im\n",
      "ComplexF64[113.1181204616851 + 1.4936964582937016im]\n"
     ]
    },
    {
     "name": "stderr",
     "output_type": "stream",
     "text": [
      "┌ Info: DMRG init:\tobj = +1.872984775211e+02 +1.041523971316e+00im\terr = 1.1724e-04\n",
      "└ @ Main c:\\Users\\vicva\\OneDrive\\Documenten\\git\\Thesis_CCFT\\jl_notebook_cell_df34fa98e69747e1a8f8a730347b8e2f_W0sZmlsZQ==.jl:62\n",
      "┌ Info: DMRG conv 1:\tobj = +1.872984502271e+02 +1.041932101420e+00im\terr = 3.1871646240e-10\ttime = 0.05 sec\n",
      "└ @ Main c:\\Users\\vicva\\OneDrive\\Documenten\\git\\Thesis_CCFT\\jl_notebook_cell_df34fa98e69747e1a8f8a730347b8e2f_W0sZmlsZQ==.jl:77\n",
      "┌ Info: DMRG init:\tobj = +1.131733256194e+02 +1.498088241771e+00im\terr = 2.5257e-04\n",
      "└ @ Main c:\\Users\\vicva\\OneDrive\\Documenten\\git\\Thesis_CCFT\\jl_notebook_cell_df34fa98e69747e1a8f8a730347b8e2f_W0sZmlsZQ==.jl:62\n"
     ]
    },
    {
     "name": "stdout",
     "output_type": "stream",
     "text": [
      "(1.0, -187.2984502271097 - 1.0419321014196794im, -113.17324416523117 - 1.4992295748970004im)\n",
      "187.2984502271097 + 1.0419321014196794im\n",
      "ComplexF64[113.17324416523117 + 1.4992295748970004im]\n"
     ]
    },
    {
     "name": "stderr",
     "output_type": "stream",
     "text": [
      "┌ Info: DMRG conv 1:\tobj = +1.131732441652e+02 +1.499229574897e+00im\terr = 2.0316247442e-09\ttime = 0.04 sec\n",
      "└ @ Main c:\\Users\\vicva\\OneDrive\\Documenten\\git\\Thesis_CCFT\\jl_notebook_cell_df34fa98e69747e1a8f8a730347b8e2f_W0sZmlsZQ==.jl:77\n"
     ]
    },
    {
     "name": "stdout",
     "output_type": "stream",
     "text": [
      "(1.0, -187.33693125533827"
     ]
    },
    {
     "name": "stderr",
     "output_type": "stream",
     "text": [
      "┌ Info: DMRG init:\tobj = +1.873369587378e+02 +1.044995602148e+00im\terr = 1.1758e-04\n",
      "└ @ Main c:\\Users\\vicva\\OneDrive\\Documenten\\git\\Thesis_CCFT\\jl_notebook_cell_df34fa98e69747e1a8f8a730347b8e2f_W0sZmlsZQ==.jl:62\n",
      "┌ Info: DMRG conv 1:\tobj = +1.873369312553e+02 +1.045406400343e+00im\terr = 3.2282160793e-10\ttime = 0.02 sec\n",
      "└ @ Main c:\\Users\\vicva\\OneDrive\\Documenten\\git\\Thesis_CCFT\\jl_notebook_cell_df34fa98e69747e1a8f8a730347b8e2f_W0sZmlsZQ==.jl:77\n",
      "┌ Info: DMRG init:\tobj = +1.132286538200e+02 +1.503637626907e+00im\terr = 2.5322e-04\n",
      "└ @ Main c:\\Users\\vicva\\OneDrive\\Documenten\\git\\Thesis_CCFT\\jl_notebook_cell_df34fa98e69747e1a8f8a730347b8e2f_W0sZmlsZQ==.jl:62\n",
      "┌ Info: DMRG conv 1:\tobj = +1.132285717477e+02 +1.504786987262e+00im\terr = 2.0409232512e-09\ttime = 0.05 sec\n",
      "└ @ Main c:\\Users\\vicva\\OneDrive\\Documenten\\git\\Thesis_CCFT\\jl_notebook_cell_df34fa98e69747e1a8f8a730347b8e2f_W0sZmlsZQ==.jl:77\n"
     ]
    },
    {
     "name": "stdout",
     "output_type": "stream",
     "text": [
      " - 1.04540640034341im, -113.22857174766251 - 1.504786987261607im)\n",
      "187.33693125533827 + 1.04540640034341im\n",
      "ComplexF64[113.22857174766251 + 1.504786987261607im]\n"
     ]
    },
    {
     "name": "stderr",
     "output_type": "stream",
     "text": [
      "┌ Info: DMRG init:\tobj = +1.873755681717e+02 +1.048480116245e+00im\terr = 1.1793e-04\n",
      "└ @ Main c:\\Users\\vicva\\OneDrive\\Documenten\\git\\Thesis_CCFT\\jl_notebook_cell_df34fa98e69747e1a8f8a730347b8e2f_W0sZmlsZQ==.jl:62\n",
      "┌ Info: DMRG conv 1:\tobj = +1.873755404996e+02 +1.048893600941e+00im\terr = 3.2708010075e-10\ttime = 0.03 sec\n",
      "└ @ Main c:\\Users\\vicva\\OneDrive\\Documenten\\git\\Thesis_CCFT\\jl_notebook_cell_df34fa98e69747e1a8f8a730347b8e2f_W0sZmlsZQ==.jl:77\n",
      "┌ Info: DMRG init:\tobj = +1.132841867975e+02 +1.509211379239e+00im\terr = 2.5386e-04\n",
      "└ @ Main c:\\Users\\vicva\\OneDrive\\Documenten\\git\\Thesis_CCFT\\jl_notebook_cell_df34fa98e69747e1a8f8a730347b8e2f_W0sZmlsZQ==.jl:62\n"
     ]
    },
    {
     "name": "stdout",
     "output_type": "stream",
     "text": [
      "(1.0, -187.375540499564 - 1.0488936009411478im, -113.28410410155851 - 1.510368828545729im)\n",
      "187.375540499564 + 1.0488936009411478im\n",
      "ComplexF64[113.28410410155851 + 1.510368828545729im]\n"
     ]
    },
    {
     "name": "stderr",
     "output_type": "stream",
     "text": [
      "┌ Info: DMRG conv 1:\tobj = +1.132841041016e+02 +1.510368828546e+00im\terr = 2.0501260493e-09\ttime = 0.05 sec\n",
      "└ @ Main c:\\Users\\vicva\\OneDrive\\Documenten\\git\\Thesis_CCFT\\jl_notebook_cell_df34fa98e69747e1a8f8a730347b8e2f_W0sZmlsZQ==.jl:77\n"
     ]
    },
    {
     "name": "stdout",
     "output_type": "stream",
     "text": [
      "("
     ]
    },
    {
     "name": "stderr",
     "output_type": "stream",
     "text": [
      "┌ Info: DMRG init:\tobj = +1.874143062986e+02 +1.051977569950e+00im\terr = 1.1827e-04\n",
      "└ @ Main c:\\Users\\vicva\\OneDrive\\Documenten\\git\\Thesis_CCFT\\jl_notebook_cell_df34fa98e69747e1a8f8a730347b8e2f_W0sZmlsZQ==.jl:62\n",
      "┌ Info: DMRG conv 1:\tobj = +1.874142784352e+02 +1.052393759822e+00im\terr = 3.3139545314e-10\ttime = 0.05 sec\n",
      "└ @ Main c:\\Users\\vicva\\OneDrive\\Documenten\\git\\Thesis_CCFT\\jl_notebook_cell_df34fa98e69747e1a8f8a730347b8e2f_W0sZmlsZQ==.jl:77\n",
      "┌ Info: DMRG init:\tobj = +1.133399254493e+02 +1.514809632317e+00im\terr = 2.5451e-04\n",
      "└ @ Main c:\\Users\\vicva\\OneDrive\\Documenten\\git\\Thesis_CCFT\\jl_notebook_cell_df34fa98e69747e1a8f8a730347b8e2f_W0sZmlsZQ==.jl:62\n",
      "┌ Info: DMRG conv 1:\tobj = +1.133398421246e+02 +1.515975232583e+00im\terr = 2.0594206979e-09\ttime = 0.03 sec\n",
      "└ @ Main c:\\Users\\vicva\\OneDrive\\Documenten\\git\\Thesis_CCFT\\jl_notebook_cell_df34fa98e69747e1a8f8a730347b8e2f_W0sZmlsZQ==.jl:77\n"
     ]
    },
    {
     "name": "stdout",
     "output_type": "stream",
     "text": [
      "1.0, -187.41427843518395 - 1.0523937598217705im, -113.33984212455789 - 1.5159752325831526im)\n",
      "187.41427843518395 + 1.0523937598217705im\n",
      "ComplexF64[113.33984212455789 + 1.5159752325831526im]\n",
      "(1.0, -187.4531455396751 - 1.0559069339027543im, -113.39578671919767 - 1.5216063341254527im)\n",
      "187.4531455396751 + 1.0559069339027543im\n",
      "ComplexF64[113.39578671919767 + 1.5216063341254527im]\n"
     ]
    },
    {
     "name": "stderr",
     "output_type": "stream",
     "text": [
      "┌ Info: DMRG init:\tobj = +1.874531735957e+02 +1.055488020038e+00im\terr = 1.1861e-04\n",
      "└ @ Main c:\\Users\\vicva\\OneDrive\\Documenten\\git\\Thesis_CCFT\\jl_notebook_cell_df34fa98e69747e1a8f8a730347b8e2f_W0sZmlsZQ==.jl:62\n",
      "┌ Info: DMRG conv 1:\tobj = +1.874531455397e+02 +1.055906933903e+00im\terr = 3.3576847134e-10\ttime = 0.02 sec\n",
      "└ @ Main c:\\Users\\vicva\\OneDrive\\Documenten\\git\\Thesis_CCFT\\jl_notebook_cell_df34fa98e69747e1a8f8a730347b8e2f_W0sZmlsZQ==.jl:77\n",
      "┌ Info: DMRG init:\tobj = +1.133958706780e+02 +1.520432520368e+00im\terr = 2.5515e-04\n",
      "└ @ Main c:\\Users\\vicva\\OneDrive\\Documenten\\git\\Thesis_CCFT\\jl_notebook_cell_df34fa98e69747e1a8f8a730347b8e2f_W0sZmlsZQ==.jl:62\n",
      "┌ Info: DMRG conv 1:\tobj = +1.133957867192e+02 +1.521606334125e+00im\terr = 2.0688095509e-09\ttime = 0.03 sec\n",
      "└ @ Main c:\\Users\\vicva\\OneDrive\\Documenten\\git\\Thesis_CCFT\\jl_notebook_cell_df34fa98e69747e1a8f8a730347b8e2f_W0sZmlsZQ==.jl:77\n",
      "┌ Info: DMRG init:\tobj = +1.874921705427e+02 +1.059011523594e+00im\terr = 1.1896e-04\n",
      "└ @ Main c:\\Users\\vicva\\OneDrive\\Documenten\\git\\Thesis_CCFT\\jl_notebook_cell_df34fa98e69747e1a8f8a730347b8e2f_W0sZmlsZQ==.jl:62\n"
     ]
    },
    {
     "name": "stdout",
     "output_type": "stream",
     "text": [
      "(1.0, -187.4921422926064 - 1.0594331804125765im, -113.45193879294807 - 1.527262268849718im)\n",
      "187.4921422926064 + 1.0594331804125765im\n",
      "ComplexF64[113.45193879294807 + 1.527262268849718im"
     ]
    },
    {
     "name": "stderr",
     "output_type": "stream",
     "text": [
      "┌ Info: DMRG conv 1:\tobj = +1.874921422926e+02 +1.059433180413e+00im\terr = 3.4019984475e-10\ttime = 0.30 sec\n",
      "└ @ Main c:\\Users\\vicva\\OneDrive\\Documenten\\git\\Thesis_CCFT\\jl_notebook_cell_df34fa98e69747e1a8f8a730347b8e2f_W0sZmlsZQ==.jl:77\n",
      "┌ Info: DMRG init:\tobj = +1.134520233911e+02 +1.526080178540e+00im\terr = 2.5580e-04\n",
      "└ @ Main c:\\Users\\vicva\\OneDrive\\Documenten\\git\\Thesis_CCFT\\jl_notebook_cell_df34fa98e69747e1a8f8a730347b8e2f_W0sZmlsZQ==.jl:62\n",
      "┌ Info: DMRG conv 1:\tobj = +1.134519387929e+02 +1.527262268850e+00im\terr = 2.0782943331e-09\ttime = 0.03 sec\n",
      "└ @ Main c:\\Users\\vicva\\OneDrive\\Documenten\\git\\Thesis_CCFT\\jl_notebook_cell_df34fa98e69747e1a8f8a730347b8e2f_W0sZmlsZQ==.jl:77\n"
     ]
    },
    {
     "name": "stdout",
     "output_type": "stream",
     "text": [
      "]\n"
     ]
    },
    {
     "name": "stderr",
     "output_type": "stream",
     "text": [
      "┌ Info: DMRG init:\tobj = +1.875312976213e+02 +1.062548138014e+00im\terr = 1.1931e-04\n",
      "└ @ Main c:\\Users\\vicva\\OneDrive\\Documenten\\git\\Thesis_CCFT\\jl_notebook_cell_df34fa98e69747e1a8f8a730347b8e2f_W0sZmlsZQ==.jl:62\n",
      "┌ Info: DMRG conv 1:\tobj = +1.875312691756e+02 +1.062972556893e+00im\terr = 3.4469042358e-10\ttime = 0.05 sec\n",
      "└ @ Main c:\\Users\\vicva\\OneDrive\\Documenten\\git\\Thesis_CCFT\\jl_notebook_cell_df34fa98e69747e1a8f8a730347b8e2f_W0sZmlsZQ==.jl:77\n",
      "┌ Info: DMRG init:\tobj = +1.135083845011e+02 +1.531752742908e+00im\terr = 2.5646e-04\n",
      "└ @ Main c:\\Users\\vicva\\OneDrive\\Documenten\\git\\Thesis_CCFT\\jl_notebook_cell_df34fa98e69747e1a8f8a730347b8e2f_W0sZmlsZQ==.jl:62\n"
     ]
    },
    {
     "name": "stdout",
     "output_type": "stream",
     "text": [
      "(1.0, -187.53126917564913 - 1.062972556892617im, -113.50829925824432 - 1.5329431733661258im)\n",
      "187.53126917564913 + "
     ]
    },
    {
     "name": "stderr",
     "output_type": "stream",
     "text": [
      "┌ Info: DMRG conv 1:\tobj = +1.135082992582e+02 +1.532943173366e+00im\terr = 2.0878772421e-09\ttime = 0.03 sec\n",
      "└ @ Main c:\\Users\\vicva\\OneDrive\\Documenten\\git\\Thesis_CCFT\\jl_notebook_cell_df34fa98e69747e1a8f8a730347b8e2f_W0sZmlsZQ==.jl:77\n"
     ]
    },
    {
     "name": "stdout",
     "output_type": "stream",
     "text": [
      "1.062972556892617im\n",
      "ComplexF64[113.50829925824432 + 1.5329431733661258im]\n",
      "("
     ]
    },
    {
     "name": "stderr",
     "output_type": "stream",
     "text": [
      "┌ Info: DMRG init:\tobj = +1.875705553153e+02 +1.066097921009e+00im\terr = 1.1966e-04\n",
      "└ @ Main c:\\Users\\vicva\\OneDrive\\Documenten\\git\\Thesis_CCFT\\jl_notebook_cell_df34fa98e69747e1a8f8a730347b8e2f_W0sZmlsZQ==.jl:62\n",
      "┌ Info: DMRG conv 1:\tobj = +1.875705266726e+02 +1.066525121200e+00im\terr = 3.4924094807e-10\ttime = 0.04 sec\n",
      "└ @ Main c:\\Users\\vicva\\OneDrive\\Documenten\\git\\Thesis_CCFT\\jl_notebook_cell_df34fa98e69747e1a8f8a730347b8e2f_W0sZmlsZQ==.jl:77\n",
      "┌ Info: DMRG init:\tobj = +1.135649549256e+02 +1.537450350486e+00im\terr = 2.5711e-04\n",
      "└ @ Main c:\\Users\\vicva\\OneDrive\\Documenten\\git\\Thesis_CCFT\\jl_notebook_cell_df34fa98e69747e1a8f8a730347b8e2f_W0sZmlsZQ==.jl:62\n",
      "┌ Info: DMRG conv 1:\tobj = +1.135648690325e+02 +1.538649185226e+00im\terr = 2.0975599650e-09\ttime = 0.04 sec\n",
      "└ @ Main c:\\Users\\vicva\\OneDrive\\Documenten\\git\\Thesis_CCFT\\jl_notebook_cell_df34fa98e69747e1a8f8a730347b8e2f_W0sZmlsZQ==.jl:77\n"
     ]
    },
    {
     "name": "stdout",
     "output_type": "stream",
     "text": [
      "1.0, -187.57052667258785 - 1.0665251211996478im, -113.56486903252193 - 1.5386491852256032im)\n",
      "187.57052667258785 + 1.0665251211996478im\n",
      "ComplexF64[113.56486903252193 + 1.5386491852256032im]\n",
      "("
     ]
    },
    {
     "name": "stderr",
     "output_type": "stream",
     "text": [
      "┌ Info: DMRG init:\tobj = +1.872562038935e+02 +1.080208721228e+00im\terr = 9.5663e-04\n",
      "└ @ Main c:\\Users\\vicva\\OneDrive\\Documenten\\git\\Thesis_CCFT\\jl_notebook_cell_df34fa98e69747e1a8f8a730347b8e2f_W0sZmlsZQ==.jl:62\n",
      "┌ Info: DMRG conv 1:\tobj = +1.872565782657e+02 +1.076753746448e+00im\terr = 2.5483897483e-09\ttime = 0.03 sec\n",
      "└ @ Main c:\\Users\\vicva\\OneDrive\\Documenten\\git\\Thesis_CCFT\\jl_notebook_cell_df34fa98e69747e1a8f8a730347b8e2f_W0sZmlsZQ==.jl:77\n",
      "┌ Info: DMRG init:\tobj = +1.131114034007e+02 +1.558390173616e+00im\terr = 2.0602e-03\n",
      "└ @ Main c:\\Users\\vicva\\OneDrive\\Documenten\\git\\Thesis_CCFT\\jl_notebook_cell_df34fa98e69747e1a8f8a730347b8e2f_W0sZmlsZQ==.jl:62\n",
      "┌ Info: DMRG conv 1:\tobj = +1.131124979762e+02 +1.548706289564e+00im\terr = 1.6548863665e-08\ttime = 0.03 sec\n",
      "└ @ Main c:\\Users\\vicva\\OneDrive\\Documenten\\git\\Thesis_CCFT\\jl_notebook_cell_df34fa98e69747e1a8f8a730347b8e2f_W0sZmlsZQ==.jl:77\n"
     ]
    },
    {
     "name": "stdout",
     "output_type": "stream",
     "text": [
      "1.0, -187.25657826568653 - 1.076753746447816im, -113.1124979762013 - 1.5487062895637804im)\n",
      "187.25657826568653 + 1.076753746447816im\n",
      "ComplexF64[113.1124979762013 + 1.5487062895637804im]\n",
      "(1.0, -187.29491849842623 - 1.0803426782211507im, -113.16759700607584 - 1.5544427732758535im)\n",
      "187.29491849842623 + 1.0803426782211507im\n",
      "ComplexF64[113.16759700607584 + 1.5544427732758535im]\n"
     ]
    },
    {
     "name": "stderr",
     "output_type": "stream",
     "text": [
      "┌ Info: DMRG init:\tobj = +1.872949484101e+02 +1.079919630176e+00im\terr = 1.1724e-04\n",
      "└ @ Main c:\\Users\\vicva\\OneDrive\\Documenten\\git\\Thesis_CCFT\\jl_notebook_cell_df34fa98e69747e1a8f8a730347b8e2f_W0sZmlsZQ==.jl:62\n",
      "┌ Info: DMRG conv 1:\tobj = +1.872949184984e+02 +1.080342678221e+00im\terr = 3.1881981086e-10\ttime = 0.02 sec\n",
      "└ @ Main c:\\Users\\vicva\\OneDrive\\Documenten\\git\\Thesis_CCFT\\jl_notebook_cell_df34fa98e69747e1a8f8a730347b8e2f_W0sZmlsZQ==.jl:77\n",
      "┌ Info: DMRG init:\tobj = +1.131676861603e+02 +1.553259813578e+00im\terr = 2.5258e-04\n",
      "└ @ Main c:\\Users\\vicva\\OneDrive\\Documenten\\git\\Thesis_CCFT\\jl_notebook_cell_df34fa98e69747e1a8f8a730347b8e2f_W0sZmlsZQ==.jl:62\n",
      "┌ Info: DMRG conv 1:\tobj = +1.131675970061e+02 +1.554442773276e+00im\terr = 2.0357191933e-09\ttime = 0.04 sec\n",
      "└ @ Main c:\\Users\\vicva\\OneDrive\\Documenten\\git\\Thesis_CCFT\\jl_notebook_cell_df34fa98e69747e1a8f8a730347b8e2f_W0sZmlsZQ==.jl:77\n"
     ]
    },
    {
     "name": "stdout",
     "output_type": "stream",
     "text": [
      "(1.0, -187.33338641657068 - 1.083944927638638im, -113.22289977996775 - 1.5602044426412112im)\n",
      "187.33338641657068 + 1.083944927638638im\n"
     ]
    },
    {
     "name": "stderr",
     "output_type": "stream",
     "text": [
      "┌ Info: DMRG init:\tobj = +1.873334165345e+02 +1.083519114168e+00im\terr = 1.1758e-04\n",
      "└ @ Main c:\\Users\\vicva\\OneDrive\\Documenten\\git\\Thesis_CCFT\\jl_notebook_cell_df34fa98e69747e1a8f8a730347b8e2f_W0sZmlsZQ==.jl:62\n",
      "┌ Info: DMRG conv 1:\tobj = +1.873333864166e+02 +1.083944927639e+00im\terr = 3.2292677616e-10\ttime = 0.05 sec\n",
      "└ @ Main c:\\Users\\vicva\\OneDrive\\Documenten\\git\\Thesis_CCFT\\jl_notebook_cell_df34fa98e69747e1a8f8a730347b8e2f_W0sZmlsZQ==.jl:77\n",
      "┌ Info: DMRG init:\tobj = +1.132229896099e+02 +1.559013163766e+00im\terr = 2.5322e-04\n",
      "└ @ Main c:\\Users\\vicva\\OneDrive\\Documenten\\git\\Thesis_CCFT\\jl_notebook_cell_df34fa98e69747e1a8f8a730347b8e2f_W0sZmlsZQ==.jl:62\n",
      "┌ Info: DMRG conv 1:\tobj = +1.132228997800e+02 +1.560204442641e+00im\terr = 2.0450309980e-09\ttime = 0.02 sec\n",
      "└ @ Main c:\\Users\\vicva\\OneDrive\\Documenten\\git\\Thesis_CCFT\\jl_notebook_cell_df34fa98e69747e1a8f8a730347b8e2f_W0sZmlsZQ==.jl:77\n"
     ]
    },
    {
     "name": "stdout",
     "output_type": "stream",
     "text": [
      "ComplexF64[113.22289977996775 + 1.5602044426412112im]\n",
      "(1.0, -187.37198249322302 - 1.0875605529362251im, -113.27840718951542 - 1.5659914356657372im)\n",
      "187.37198249322302 + 1.0875605529362251im\n",
      "ComplexF64[113.27840718951542 + 1.5659914356657372im]\n"
     ]
    },
    {
     "name": "stderr",
     "output_type": "stream",
     "text": [
      "┌ Info: DMRG init:\tobj = +1.873720128189e+02 +1.087131954961e+00im\terr = 1.1793e-04\n",
      "└ @ Main c:\\Users\\vicva\\OneDrive\\Documenten\\git\\Thesis_CCFT\\jl_notebook_cell_df34fa98e69747e1a8f8a730347b8e2f_W0sZmlsZQ==.jl:62\n",
      "┌ Info: DMRG conv 1:\tobj = +1.873719824932e+02 +1.087560552936e+00im\terr = 3.2718681428e-10\ttime = 0.02 sec\n",
      "└ @ Main c:\\Users\\vicva\\OneDrive\\Documenten\\git\\Thesis_CCFT\\jl_notebook_cell_df34fa98e69747e1a8f8a730347b8e2f_W0sZmlsZQ==.jl:77\n",
      "┌ Info: DMRG init:\tobj = +1.132784977010e+02 +1.564791773658e+00im\terr = 2.5387e-04\n",
      "└ @ Main c:\\Users\\vicva\\OneDrive\\Documenten\\git\\Thesis_CCFT\\jl_notebook_cell_df34fa98e69747e1a8f8a730347b8e2f_W0sZmlsZQ==.jl:62\n",
      "┌ Info: DMRG conv 1:\tobj = +1.132784071895e+02 +1.565991435666e+00im\terr = 2.0542503240e-09\ttime = 0.02 sec\n",
      "└ @ Main c:\\Users\\vicva\\OneDrive\\Documenten\\git\\Thesis_CCFT\\jl_notebook_cell_df34fa98e69747e1a8f8a730347b8e2f_W0sZmlsZQ==.jl:77\n"
     ]
    },
    {
     "name": "stdout",
     "output_type": "stream",
     "text": [
      "(1.0, -187.41070720346676 - 1.0911896127958696im, -113.33412013142707 - 1.5718038910615226im)\n",
      "187.41070720346676"
     ]
    },
    {
     "name": "stderr",
     "output_type": "stream",
     "text": [
      "┌ Info: DMRG init:\tobj = +1.874107377385e+02 +1.090758210961e+00im\terr = 1.1827e-04\n",
      "└ @ Main c:\\Users\\vicva\\OneDrive\\Documenten\\git\\Thesis_CCFT\\jl_notebook_cell_df34fa98e69747e1a8f8a730347b8e2f_W0sZmlsZQ==.jl:62\n",
      "┌ Info: DMRG conv 1:\tobj = +1.874107072035e+02 +1.091189612796e+00im\terr = 3.3150374994e-10\ttime = 0.02 sec\n",
      "└ @ Main c:\\Users\\vicva\\OneDrive\\Documenten\\git\\Thesis_CCFT\\jl_notebook_cell_df34fa98e69747e1a8f8a730347b8e2f_W0sZmlsZQ==.jl:77\n",
      "┌ Info: DMRG init:\tobj = +1.133342113302e+02 +1.570595781665e+00im\terr = 2.5452e-04\n",
      "└ @ Main c:\\Users\\vicva\\OneDrive\\Documenten\\git\\Thesis_CCFT\\jl_notebook_cell_df34fa98e69747e1a8f8a730347b8e2f_W0sZmlsZQ==.jl:62\n",
      "┌ Info: DMRG conv 1:\tobj = +1.133341201314e+02 +1.571803891062e+00im\terr = 2.0635619075e-09\ttime = 0.03 sec\n",
      "└ @ Main c:\\Users\\vicva\\OneDrive\\Documenten\\git\\Thesis_CCFT\\jl_notebook_cell_df34fa98e69747e1a8f8a730347b8e2f_W0sZmlsZQ==.jl:77\n"
     ]
    },
    {
     "name": "stdout",
     "output_type": "stream",
     "text": [
      " + 1.0911896127958696im\n",
      "ComplexF64[113.33412013142707 + 1.5718038910615226im]\n",
      "(1.0, -187.44956102446406"
     ]
    },
    {
     "name": "stderr",
     "output_type": "stream",
     "text": [
      "┌ Info: DMRG init:\tobj = +1.874495917703e+02 +1.094397941024e+00im\terr = 1.1861e-04\n",
      "└ @ Main c:\\Users\\vicva\\OneDrive\\Documenten\\git\\Thesis_CCFT\\jl_notebook_cell_df34fa98e69747e1a8f8a730347b8e2f_W0sZmlsZQ==.jl:62\n",
      "┌ Info: DMRG conv 1:\tobj = +1.874495610245e+02 +1.094832166220e+00im\terr = 3.3587836288e-10\ttime = 0.03 sec\n",
      "└ @ Main c:\\Users\\vicva\\OneDrive\\Documenten\\git\\Thesis_CCFT\\jl_notebook_cell_df34fa98e69747e1a8f8a730347b8e2f_W0sZmlsZQ==.jl:77\n",
      "┌ Info: DMRG init:\tobj = +1.133901313991e+02 +1.576425326909e+00im\terr = 2.5516e-04\n",
      "└ @ Main c:\\Users\\vicva\\OneDrive\\Documenten\\git\\Thesis_CCFT\\jl_notebook_cell_df34fa98e69747e1a8f8a730347b8e2f_W0sZmlsZQ==.jl:62\n",
      "┌ Info: DMRG conv 1:\tobj = +1.133900395073e+02 +1.577641948492e+00im\terr = 2.0729677578e-09\ttime = 0.04 sec\n",
      "└ @ Main c:\\Users\\vicva\\OneDrive\\Documenten\\git\\Thesis_CCFT\\jl_notebook_cell_df34fa98e69747e1a8f8a730347b8e2f_W0sZmlsZQ==.jl:77\n"
     ]
    },
    {
     "name": "stdout",
     "output_type": "stream",
     "text": [
      " - 1.0948321662195455im, -113.39003950730138 - 1.5776419484917186im)\n",
      "187.44956102446406 + 1.0948321662195455im\n",
      "ComplexF64[113.39003950730138 + 1.5776419484917186im]\n",
      "("
     ]
    },
    {
     "name": "stderr",
     "output_type": "stream",
     "text": [
      "┌ Info: DMRG init:\tobj = +1.874885753938e+02 +1.098051204325e+00im\terr = 1.1896e-04\n",
      "└ @ Main c:\\Users\\vicva\\OneDrive\\Documenten\\git\\Thesis_CCFT\\jl_notebook_cell_df34fa98e69747e1a8f8a730347b8e2f_W0sZmlsZQ==.jl:62\n",
      "┌ Info: DMRG conv 1:\tobj = +1.874885444355e+02 +1.098488272532e+00im\terr = 3.4031138492e-10\ttime = 0.02 sec\n",
      "└ @ Main c:\\Users\\vicva\\OneDrive\\Documenten\\git\\Thesis_CCFT\\jl_notebook_cell_df34fa98e69747e1a8f8a730347b8e2f_W0sZmlsZQ==.jl:77\n",
      "┌ Info: DMRG init:\tobj = +1.134462588143e+02 +1.582280549463e+00im\terr = 2.5581e-04\n",
      "└ @ Main c:\\Users\\vicva\\OneDrive\\Documenten\\git\\Thesis_CCFT\\jl_notebook_cell_df34fa98e69747e1a8f8a730347b8e2f_W0sZmlsZQ==.jl:62\n",
      "┌ Info: DMRG conv 1:\tobj = +1.134461662237e+02 +1.583505748579e+00im\terr = 2.0824698954e-09\ttime = 0.03 sec\n",
      "└ @ Main c:\\Users\\vicva\\OneDrive\\Documenten\\git\\Thesis_CCFT\\jl_notebook_cell_df34fa98e69747e1a8f8a730347b8e2f_W0sZmlsZQ==.jl:77\n"
     ]
    },
    {
     "name": "stdout",
     "output_type": "stream",
     "text": [
      "1.0, -187.48854443546574 - 1.0984882725315857im, -113.44616622366215 - 1.583505748578642im)\n",
      "187.48854443546574 + 1.0984882725315857im\n",
      "ComplexF64[113.44616622366215 + 1.583505748578642im]\n",
      "(1.0, -187.52765791782352 - 1.1021579913805744im, -113.5025011919907 - 1.5893954329115312im)\n",
      "187.52765791782352 + 1.1021579913805744im\n",
      "ComplexF64[113.5025011919907 + 1.5893954329115312im]\n"
     ]
    },
    {
     "name": "stderr",
     "output_type": "stream",
     "text": [
      "┌ Info: DMRG init:\tobj = +1.875276890902e+02 +1.101718060363e+00im\terr = 1.1931e-04\n",
      "└ @ Main c:\\Users\\vicva\\OneDrive\\Documenten\\git\\Thesis_CCFT\\jl_notebook_cell_df34fa98e69747e1a8f8a730347b8e2f_W0sZmlsZQ==.jl:62\n",
      "┌ Info: DMRG conv 1:\tobj = +1.875276579178e+02 +1.102157991381e+00im\terr = 3.4480364172e-10\ttime = 0.05 sec\n",
      "└ @ Main c:\\Users\\vicva\\OneDrive\\Documenten\\git\\Thesis_CCFT\\jl_notebook_cell_df34fa98e69747e1a8f8a730347b8e2f_W0sZmlsZQ==.jl:77\n",
      "┌ Info: DMRG init:\tobj = +1.135025944873e+02 +1.588161590362e+00im\terr = 2.5646e-04\n",
      "└ @ Main c:\\Users\\vicva\\OneDrive\\Documenten\\git\\Thesis_CCFT\\jl_notebook_cell_df34fa98e69747e1a8f8a730347b8e2f_W0sZmlsZQ==.jl:62\n",
      "┌ Info: DMRG conv 1:\tobj = +1.135025011920e+02 +1.589395432912e+00im\terr = 2.0920697181e-09\ttime = 0.04 sec\n",
      "└ @ Main c:\\Users\\vicva\\OneDrive\\Documenten\\git\\Thesis_CCFT\\jl_notebook_cell_df34fa98e69747e1a8f8a730347b8e2f_W0sZmlsZQ==.jl:77\n",
      "┌ Info: DMRG init:\tobj = +1.875669333431e+02 +1.105398568962e+00im\terr = 1.1966e-04\n",
      "└ @ Main c:\\Users\\vicva\\OneDrive\\Documenten\\git\\Thesis_CCFT\\jl_notebook_cell_df34fa98e69747e1a8f8a730347b8e2f_W0sZmlsZQ==.jl:62\n",
      "┌ Info: DMRG conv 1:\tobj = +1.875669019550e+02 +1.105841382742e+00im\terr = 3.4935590138e-10\ttime = 0.05 sec\n",
      "└ @ Main c:\\Users\\vicva\\OneDrive\\Documenten\\git\\Thesis_CCFT\\jl_notebook_cell_df34fa98e69747e1a8f8a730347b8e2f_W0sZmlsZQ==.jl:77\n",
      "┌ Info: DMRG init:\tobj = +1.135591393347e+02 +1.594068591613e+00im\terr = 2.5712e-04\n",
      "└ @ Main c:\\Users\\vicva\\OneDrive\\Documenten\\git\\Thesis_CCFT\\jl_notebook_cell_df34fa98e69747e1a8f8a730347b8e2f_W0sZmlsZQ==.jl:62\n"
     ]
    },
    {
     "name": "stdout",
     "output_type": "stream",
     "text": [
      "(1.0, -187.56690195500005 - 1.1058413827419855im, -113.55904532876241 - 1.595311143957584im)\n",
      "187.56690195500005 + 1.1058413827419855im\n",
      "ComplexF64[113.55904532876241 + 1.595311143957584im]\n"
     ]
    },
    {
     "name": "stderr",
     "output_type": "stream",
     "text": [
      "┌ Info: DMRG conv 1:\tobj = +1.135590453288e+02 +1.595311143958e+00im\terr = 4.9023177914e-10\ttime = 0.30 sec\n",
      "└ @ Main c:\\Users\\vicva\\OneDrive\\Documenten\\git\\Thesis_CCFT\\jl_notebook_cell_df34fa98e69747e1a8f8a730347b8e2f_W0sZmlsZQ==.jl:77\n"
     ]
    }
   ],
   "source": [
    "N = 4\n",
    "distx = 0.5## distance from centre in real\n",
    "\n",
    "disty = 0.06# distance from centre in imaginary\n",
    "\n",
    "cent_im =  0.08im\n",
    "\n",
    "cent_r = 1.1\n",
    "include(\"Potts-Operators & Hamiltonian.jl\")\n",
    "## snake like structure of test_values will allow for faster convergence when recycling ψ (because you don't jump the entire distx after the loop)\n",
    "for i in 1:1:(2*N-1)\n",
    "    if div(i,2) == 1\n",
    "        for j in 1:1:(2*N-1)\n",
    "            if i <N+1\n",
    "                if j<N+1\n",
    "                    test_values[i+(j-1)*(2*N-1)] =  (LinRange(-distx,0.00,N)[i])  .+cent_r+ 1im*LinRange(-disty,0.00,N)[j] .+cent_im\n",
    "                else \n",
    "                    test_values[i+(j-1)*(2*N-1)] =  (LinRange(-distx,0.00,N)[i])  .+cent_r + 1im*LinRange(disty/(N-1),disty+disty/(N-1),N)[j-N] .+cent_im\n",
    "                end\n",
    "            else\n",
    "                if j<N+1\n",
    "                    test_values[i+(j-1)*(2*N-1)] =  (LinRange(distx/(N-1),distx+distx/(N-1),N)[i-N]) .+cent_r  + 1im*LinRange(-disty,0.00,N)[j]  .+cent_im\n",
    "                else\n",
    "                    test_values[i+(j-1)*(2*N-1)] =  (LinRange(distx/(N-1),distx+distx/(N-1),N)[i-N])  .+cent_r+ 1im*LinRange(disty/(N-1),disty+disty/(N-1),N)[j-N].+cent_im\n",
    "                end\n",
    "            end \n",
    "        end\n",
    "    else\n",
    "        for j in (2*N-1):-1:1\n",
    "            if i <N+1\n",
    "                if j<N+1\n",
    "                    test_values[i+(j-1)*(2*N-1)] =  (LinRange(-distx,0.00,N)[i]) .+cent_r+ 1im*LinRange(-disty,0.00,N)[j] .+cent_im\n",
    "                else \n",
    "                    test_values[i+(j-1)*(2*N-1)] =  (LinRange(-distx,0.00,N)[i])  .+cent_r + 1im*LinRange(disty/(N-1),disty+disty/(N-1),N)[j-N] .+cent_im\n",
    "                end\n",
    "            else\n",
    "                if j<N+1\n",
    "                    test_values[i+(j-1)*(2*N-1)] =  (LinRange(distx/(N-1),distx+distx/(N-1),N)[i-N]) .+cent_r + 1im*LinRange(-disty,0.00,N)[j] .+cent_im\n",
    "                else\n",
    "                    test_values[i+(j-1)*(2*N-1)] =  (LinRange(distx/(N-1),distx+distx/(N-1),N)[i-N])   .+cent_r + 1im*LinRange(disty/(N-1),disty+disty/(N-1),N)[j-N] .+cent_im\n",
    "                end\n",
    "            end \n",
    "        end\n",
    "    end\n",
    "end\n",
    "for L in [4]\n",
    "    l = length(test_values)\n",
    "    Results = zeros(ComplexF64,(2,l))\n",
    "\n",
    "    ψ = FiniteMPS(L,ℂ^(Q), ℂ^D)\n",
    "    ψ2 = FiniteMPS(L,ℂ^(Q), ℂ^D)\n",
    "    #ψ3 = FiniteMPS(L,ℂ^(Q), ℂ^D) if you want this need to change how init works\n",
    "    for (i,J□) in enumerate(test_values)\n",
    "        # for (j,JΔ) in enumerate(test_values_1)\n",
    "        # println(i/l)\n",
    "        plaq = @mpoham sum(Plaquette_Potts(Q,Potts_βc(Q),J□,JΔ=0){i,i+1} for i in vertices(FiniteChain(L))[1:end-1]) + Plaquette_Potts(Q,Potts_βc(Q),J□,JΔ=0){vertices(FiniteChain(L))[end],vertices(FiniteChain(L))[1]}\n",
    "        (ψ, envir , delta) = find_groundstate_alt(ψ, plaq, DMRG(maxiter = 500,tol=1e-5, eigalg =MPSKit.Defaults.alg_eigsolve(; ishermitian=false)))\n",
    "        E = expectation_value(ψ, plaq)\n",
    "        En, state  = excitations_alt(plaq, FiniteExcited_alt(gsalg = DMRG(eigalg =MPSKit.Defaults.alg_eigsolve(maxiter = 500,tol=1e-5,ishermitian=false))), (ψ,),(1.0,-E),init = ψ2,num=1) \n",
    "        ψ2 = state[1]\n",
    "\n",
    "  \n",
    "        println(E)\n",
    "        println(En)\n",
    "        \n",
    "        Results[1,i] = E\n",
    "        Results[2,i] = En[1]\n",
    "    end\n",
    "\n",
    "    save_object(\"Leading boundary plaquette DMRG $L,D$D\",Results)\n",
    "end"
   ]
  },
  {
   "cell_type": "code",
   "execution_count": 37,
   "id": "74f08845",
   "metadata": {},
   "outputs": [
    {
     "data": {
      "application/vnd.plotly.v1+json": {
       "config": {
        "editable": false,
        "responsive": true,
        "scrollZoom": true,
        "showLink": false,
        "staticPlot": false
       },
       "data": [
        {
         "colorbar": {
          "title": "log(|δ x_σ|)",
          "titlefont": {
           "family": "Arial, sans-serif",
           "size": 14
          },
          "titleside": "top"
         },
         "fill": true,
         "transpose": true,
         "type": "contour",
         "x": [
          0.020000000000000004,
          0.020000000000000004,
          0.020000000000000004,
          0.020000000000000004,
          0.020000000000000004,
          0.020000000000000004,
          0.020000000000000004,
          0.04,
          0.04,
          0.04,
          0.04,
          0.04,
          0.04,
          0.04,
          0.06,
          0.06,
          0.06,
          0.06,
          0.06,
          0.06,
          0.06,
          0.08,
          0.08,
          0.08,
          0.08,
          0.08,
          0.08,
          0.08,
          0.1,
          0.1,
          0.1,
          0.1,
          0.1,
          0.1,
          0.1,
          0.12,
          0.12,
          0.12,
          0.12,
          0.12,
          0.12,
          0.12,
          0.14,
          0.14,
          0.14,
          0.14,
          0.14,
          0.14,
          0.14,
          0.0626,
          0.0626,
          0.0626,
          0.0626,
          0.0626,
          0.0651,
          0.0651,
          0.0651,
          0.0651,
          0.0651,
          0.0651,
          0.0651,
          0.0651,
          0.0651,
          0.06760000000000001,
          0.06760000000000001,
          0.06760000000000001,
          0.06760000000000001,
          0.06760000000000001,
          0.06760000000000001,
          0.06760000000000001,
          0.06760000000000001,
          0.06760000000000001,
          0.0701,
          0.0701,
          0.0701,
          0.0701,
          0.0701,
          0.0701,
          0.0701,
          0.0701,
          0.0701
         ],
         "y": [
          0.6000000000000001,
          0.7666666666666667,
          0.9333333333333333,
          1.1,
          1.2666666666666668,
          1.4333333333333333,
          1.6,
          0.6000000000000001,
          0.7666666666666667,
          0.9333333333333333,
          1.1,
          1.2666666666666668,
          1.4333333333333333,
          1.6,
          0.6000000000000001,
          0.7666666666666667,
          0.9333333333333333,
          1.1,
          1.2666666666666668,
          1.4333333333333333,
          1.6,
          0.6000000000000001,
          0.7666666666666667,
          0.9333333333333333,
          1.1,
          1.2666666666666668,
          1.4333333333333333,
          1.6,
          0.6000000000000001,
          0.7666666666666667,
          0.9333333333333333,
          1.1,
          1.2666666666666668,
          1.4333333333333333,
          1.6,
          0.6000000000000001,
          0.7666666666666667,
          0.9333333333333333,
          1.1,
          1.2666666666666668,
          1.4333333333333333,
          1.6,
          0.6000000000000001,
          0.7666666666666667,
          0.9333333333333333,
          1.1,
          1.2666666666666668,
          1.4333333333333333,
          1.6,
          0.078,
          0.0805,
          0.083,
          0.0855,
          0.088,
          0.068,
          0.07050000000000001,
          0.073,
          0.0755,
          0.078,
          0.0805,
          0.083,
          0.0855,
          0.088,
          0.068,
          0.07050000000000001,
          0.073,
          0.0755,
          0.078,
          0.0805,
          0.083,
          0.0855,
          0.088,
          0.068,
          0.07050000000000001,
          0.073,
          0.0755,
          0.078,
          0.0805,
          0.083,
          0.0855,
          0.088
         ],
         "z": [
          -1.7632603701569856,
          -2.0576829087504587,
          -2.607630148646867,
          -3.510686839435195,
          -2.462948838469119,
          -1.867402280198311,
          -1.5909736412265145,
          -1.7671741484832673,
          -2.0667337924533355,
          -2.6435881227655,
          -3.867718874066557,
          -2.4944257828350263,
          -1.8728894877186102,
          -1.5916381460021514,
          -1.7695412830756088,
          -2.0722496795053806,
          -2.667418764561947,
          -4.428873614912686,
          -2.513843645227664,
          -1.8738238066733357,
          -1.5900023020272545,
          -1.770337461404191,
          -2.0740971509810953,
          -2.6771088776138474,
          -5.751109830071822,
          -2.519473843912324,
          -1.870045503846032,
          -1.586022936005786,
          -1.769554628247347,
          -2.07222006289345,
          -2.67165105808562,
          -5.018972778964474,
          -2.51045587297761,
          -1.86145168975983,
          -1.5796681885782267,
          -1.7672013716503507,
          -2.06664416298125,
          -2.651313935245229,
          -4.151930869483595,
          -2.4870105139657257,
          -1.847999449276184,
          -1.5709182826948527,
          -1.763302796005789,
          -2.057476008846289,
          -2.6175709467129327,
          -3.686868814666499,
          -2.450384786826253,
          -1.8297038561036956,
          -1.5597664450211166,
          -1.3564986879147927,
          -1.357615558193924,
          -1.358737350921097,
          -1.3598640940110278,
          -1.360995816318895,
          -1.3521220177103948,
          -1.3532196809165777,
          -1.3543221548037687,
          -1.355429467122849,
          -1.356541645848189,
          -1.3576587191738148,
          -1.358780715515622,
          -1.3599076635136895,
          -1.3610395920345675,
          -1.3521593965332153,
          -1.3532572295106546,
          -1.3543598741931282,
          -1.355467358339351,
          -1.3565797099323498,
          -1.3576969571748647,
          -1.3588191284916442,
          -1.3599462525316846,
          -1.3610783581705934,
          -1.3521919912435627,
          -1.3532899664423739,
          -1.3543927541549716,
          -1.3555003821456904,
          -1.3566128784039722,
          -1.3577302711390262,
          -1.3588525887821508,
          -1.3599798599889628,
          -1.3611121136413769
         ]
        }
       ],
       "frames": [],
       "layout": {
        "margin": {
         "b": 50,
         "l": 50,
         "r": 50,
         "t": 60
        },
        "template": {
         "data": {
          "bar": [
           {
            "error_x": {
             "color": "#2a3f5f"
            },
            "error_y": {
             "color": "#2a3f5f"
            },
            "marker": {
             "line": {
              "color": "#E5ECF6",
              "width": 0.5
             }
            },
            "type": "bar"
           }
          ],
          "barpolar": [
           {
            "marker": {
             "line": {
              "color": "#E5ECF6",
              "width": 0.5
             }
            },
            "type": "barpolar"
           }
          ],
          "carpet": [
           {
            "aaxis": {
             "endlinecolor": "#2a3f5f",
             "gridcolor": "white",
             "linecolor": "white",
             "minorgridcolor": "white",
             "startlinecolor": "#2a3f5f"
            },
            "baxis": {
             "endlinecolor": "#2a3f5f",
             "gridcolor": "white",
             "linecolor": "white",
             "minorgridcolor": "white",
             "startlinecolor": "#2a3f5f"
            },
            "type": "carpet"
           }
          ],
          "choropleth": [
           {
            "colorbar": {
             "outlinewidth": 0,
             "ticks": ""
            },
            "type": "choropleth"
           }
          ],
          "contour": [
           {
            "colorbar": {
             "outlinewidth": 0,
             "ticks": ""
            },
            "colorscale": [
             [
              0,
              "#0d0887"
             ],
             [
              0.1111111111111111,
              "#46039f"
             ],
             [
              0.2222222222222222,
              "#7201a8"
             ],
             [
              0.3333333333333333,
              "#9c179e"
             ],
             [
              0.4444444444444444,
              "#bd3786"
             ],
             [
              0.5555555555555556,
              "#d8576b"
             ],
             [
              0.6666666666666666,
              "#ed7953"
             ],
             [
              0.7777777777777778,
              "#fb9f3a"
             ],
             [
              0.8888888888888888,
              "#fdca26"
             ],
             [
              1,
              "#f0f921"
             ]
            ],
            "type": "contour"
           }
          ],
          "contourcarpet": [
           {
            "colorbar": {
             "outlinewidth": 0,
             "ticks": ""
            },
            "type": "contourcarpet"
           }
          ],
          "heatmap": [
           {
            "colorbar": {
             "outlinewidth": 0,
             "ticks": ""
            },
            "colorscale": [
             [
              0,
              "#0d0887"
             ],
             [
              0.1111111111111111,
              "#46039f"
             ],
             [
              0.2222222222222222,
              "#7201a8"
             ],
             [
              0.3333333333333333,
              "#9c179e"
             ],
             [
              0.4444444444444444,
              "#bd3786"
             ],
             [
              0.5555555555555556,
              "#d8576b"
             ],
             [
              0.6666666666666666,
              "#ed7953"
             ],
             [
              0.7777777777777778,
              "#fb9f3a"
             ],
             [
              0.8888888888888888,
              "#fdca26"
             ],
             [
              1,
              "#f0f921"
             ]
            ],
            "type": "heatmap"
           }
          ],
          "heatmapgl": [
           {
            "colorbar": {
             "outlinewidth": 0,
             "ticks": ""
            },
            "colorscale": [
             [
              0,
              "#0d0887"
             ],
             [
              0.1111111111111111,
              "#46039f"
             ],
             [
              0.2222222222222222,
              "#7201a8"
             ],
             [
              0.3333333333333333,
              "#9c179e"
             ],
             [
              0.4444444444444444,
              "#bd3786"
             ],
             [
              0.5555555555555556,
              "#d8576b"
             ],
             [
              0.6666666666666666,
              "#ed7953"
             ],
             [
              0.7777777777777778,
              "#fb9f3a"
             ],
             [
              0.8888888888888888,
              "#fdca26"
             ],
             [
              1,
              "#f0f921"
             ]
            ],
            "type": "heatmapgl"
           }
          ],
          "histogram": [
           {
            "marker": {
             "colorbar": {
              "outlinewidth": 0,
              "ticks": ""
             }
            },
            "type": "histogram"
           }
          ],
          "histogram2d": [
           {
            "colorbar": {
             "outlinewidth": 0,
             "ticks": ""
            },
            "colorscale": [
             [
              0,
              "#0d0887"
             ],
             [
              0.1111111111111111,
              "#46039f"
             ],
             [
              0.2222222222222222,
              "#7201a8"
             ],
             [
              0.3333333333333333,
              "#9c179e"
             ],
             [
              0.4444444444444444,
              "#bd3786"
             ],
             [
              0.5555555555555556,
              "#d8576b"
             ],
             [
              0.6666666666666666,
              "#ed7953"
             ],
             [
              0.7777777777777778,
              "#fb9f3a"
             ],
             [
              0.8888888888888888,
              "#fdca26"
             ],
             [
              1,
              "#f0f921"
             ]
            ],
            "type": "histogram2d"
           }
          ],
          "histogram2dcontour": [
           {
            "colorbar": {
             "outlinewidth": 0,
             "ticks": ""
            },
            "colorscale": [
             [
              0,
              "#0d0887"
             ],
             [
              0.1111111111111111,
              "#46039f"
             ],
             [
              0.2222222222222222,
              "#7201a8"
             ],
             [
              0.3333333333333333,
              "#9c179e"
             ],
             [
              0.4444444444444444,
              "#bd3786"
             ],
             [
              0.5555555555555556,
              "#d8576b"
             ],
             [
              0.6666666666666666,
              "#ed7953"
             ],
             [
              0.7777777777777778,
              "#fb9f3a"
             ],
             [
              0.8888888888888888,
              "#fdca26"
             ],
             [
              1,
              "#f0f921"
             ]
            ],
            "type": "histogram2dcontour"
           }
          ],
          "mesh3d": [
           {
            "colorbar": {
             "outlinewidth": 0,
             "ticks": ""
            },
            "type": "mesh3d"
           }
          ],
          "parcoords": [
           {
            "line": {
             "colorbar": {
              "outlinewidth": 0,
              "ticks": ""
             }
            },
            "type": "parcoords"
           }
          ],
          "pie": [
           {
            "automargin": true,
            "type": "pie"
           }
          ],
          "scatter": [
           {
            "marker": {
             "colorbar": {
              "outlinewidth": 0,
              "ticks": ""
             }
            },
            "type": "scatter"
           }
          ],
          "scatter3d": [
           {
            "line": {
             "colorbar": {
              "outlinewidth": 0,
              "ticks": ""
             }
            },
            "marker": {
             "colorbar": {
              "outlinewidth": 0,
              "ticks": ""
             }
            },
            "type": "scatter3d"
           }
          ],
          "scattercarpet": [
           {
            "marker": {
             "colorbar": {
              "outlinewidth": 0,
              "ticks": ""
             }
            },
            "type": "scattercarpet"
           }
          ],
          "scattergeo": [
           {
            "marker": {
             "colorbar": {
              "outlinewidth": 0,
              "ticks": ""
             }
            },
            "type": "scattergeo"
           }
          ],
          "scattergl": [
           {
            "marker": {
             "colorbar": {
              "outlinewidth": 0,
              "ticks": ""
             }
            },
            "type": "scattergl"
           }
          ],
          "scattermapbox": [
           {
            "marker": {
             "colorbar": {
              "outlinewidth": 0,
              "ticks": ""
             }
            },
            "type": "scattermapbox"
           }
          ],
          "scatterpolar": [
           {
            "marker": {
             "colorbar": {
              "outlinewidth": 0,
              "ticks": ""
             }
            },
            "type": "scatterpolar"
           }
          ],
          "scatterpolargl": [
           {
            "marker": {
             "colorbar": {
              "outlinewidth": 0,
              "ticks": ""
             }
            },
            "type": "scatterpolargl"
           }
          ],
          "scatterternary": [
           {
            "marker": {
             "colorbar": {
              "outlinewidth": 0,
              "ticks": ""
             }
            },
            "type": "scatterternary"
           }
          ],
          "surface": [
           {
            "colorbar": {
             "outlinewidth": 0,
             "ticks": ""
            },
            "colorscale": [
             [
              0,
              "#0d0887"
             ],
             [
              0.1111111111111111,
              "#46039f"
             ],
             [
              0.2222222222222222,
              "#7201a8"
             ],
             [
              0.3333333333333333,
              "#9c179e"
             ],
             [
              0.4444444444444444,
              "#bd3786"
             ],
             [
              0.5555555555555556,
              "#d8576b"
             ],
             [
              0.6666666666666666,
              "#ed7953"
             ],
             [
              0.7777777777777778,
              "#fb9f3a"
             ],
             [
              0.8888888888888888,
              "#fdca26"
             ],
             [
              1,
              "#f0f921"
             ]
            ],
            "type": "surface"
           }
          ],
          "table": [
           {
            "cells": {
             "fill": {
              "color": "#EBF0F8"
             },
             "line": {
              "color": "white"
             }
            },
            "header": {
             "fill": {
              "color": "#C8D4E3"
             },
             "line": {
              "color": "white"
             }
            },
            "type": "table"
           }
          ]
         },
         "layout": {
          "annotationdefaults": {
           "arrowcolor": "#2a3f5f",
           "arrowhead": 0,
           "arrowwidth": 1
          },
          "autotypenumbers": "strict",
          "coloraxis": {
           "colorbar": {
            "outlinewidth": 0,
            "ticks": ""
           }
          },
          "colorscale": {
           "diverging": [
            [
             0,
             "#8e0152"
            ],
            [
             0.1,
             "#c51b7d"
            ],
            [
             0.2,
             "#de77ae"
            ],
            [
             0.3,
             "#f1b6da"
            ],
            [
             0.4,
             "#fde0ef"
            ],
            [
             0.5,
             "#f7f7f7"
            ],
            [
             0.6,
             "#e6f5d0"
            ],
            [
             0.7,
             "#b8e186"
            ],
            [
             0.8,
             "#7fbc41"
            ],
            [
             0.9,
             "#4d9221"
            ],
            [
             1,
             "#276419"
            ]
           ],
           "sequential": [
            [
             0,
             "#0d0887"
            ],
            [
             0.1111111111111111,
             "#46039f"
            ],
            [
             0.2222222222222222,
             "#7201a8"
            ],
            [
             0.3333333333333333,
             "#9c179e"
            ],
            [
             0.4444444444444444,
             "#bd3786"
            ],
            [
             0.5555555555555556,
             "#d8576b"
            ],
            [
             0.6666666666666666,
             "#ed7953"
            ],
            [
             0.7777777777777778,
             "#fb9f3a"
            ],
            [
             0.8888888888888888,
             "#fdca26"
            ],
            [
             1,
             "#f0f921"
            ]
           ],
           "sequentialminus": [
            [
             0,
             "#0d0887"
            ],
            [
             0.1111111111111111,
             "#46039f"
            ],
            [
             0.2222222222222222,
             "#7201a8"
            ],
            [
             0.3333333333333333,
             "#9c179e"
            ],
            [
             0.4444444444444444,
             "#bd3786"
            ],
            [
             0.5555555555555556,
             "#d8576b"
            ],
            [
             0.6666666666666666,
             "#ed7953"
            ],
            [
             0.7777777777777778,
             "#fb9f3a"
            ],
            [
             0.8888888888888888,
             "#fdca26"
            ],
            [
             1,
             "#f0f921"
            ]
           ]
          },
          "colorway": [
           "#636efa",
           "#EF553B",
           "#00cc96",
           "#ab63fa",
           "#FFA15A",
           "#19d3f3",
           "#FF6692",
           "#B6E880",
           "#FF97FF",
           "#FECB52"
          ],
          "font": {
           "color": "#2a3f5f"
          },
          "geo": {
           "bgcolor": "white",
           "lakecolor": "white",
           "landcolor": "#E5ECF6",
           "showlakes": true,
           "showland": true,
           "subunitcolor": "white"
          },
          "hoverlabel": {
           "align": "left"
          },
          "hovermode": "closest",
          "mapbox": {
           "style": "light"
          },
          "paper_bgcolor": "white",
          "plot_bgcolor": "#E5ECF6",
          "polar": {
           "angularaxis": {
            "gridcolor": "white",
            "linecolor": "white",
            "ticks": ""
           },
           "bgcolor": "#E5ECF6",
           "radialaxis": {
            "gridcolor": "white",
            "linecolor": "white",
            "ticks": ""
           }
          },
          "scene": {
           "xaxis": {
            "backgroundcolor": "#E5ECF6",
            "gridcolor": "white",
            "gridwidth": 2,
            "linecolor": "white",
            "showbackground": true,
            "ticks": "",
            "zerolinecolor": "white"
           },
           "yaxis": {
            "backgroundcolor": "#E5ECF6",
            "gridcolor": "white",
            "gridwidth": 2,
            "linecolor": "white",
            "showbackground": true,
            "ticks": "",
            "zerolinecolor": "white"
           },
           "zaxis": {
            "backgroundcolor": "#E5ECF6",
            "gridcolor": "white",
            "gridwidth": 2,
            "linecolor": "white",
            "showbackground": true,
            "ticks": "",
            "zerolinecolor": "white"
           }
          },
          "shapedefaults": {
           "line": {
            "color": "#2a3f5f"
           }
          },
          "ternary": {
           "aaxis": {
            "gridcolor": "white",
            "linecolor": "white",
            "ticks": ""
           },
           "baxis": {
            "gridcolor": "white",
            "linecolor": "white",
            "ticks": ""
           },
           "bgcolor": "#E5ECF6",
           "caxis": {
            "gridcolor": "white",
            "linecolor": "white",
            "ticks": ""
           }
          },
          "title": {
           "x": 0.05
          },
          "xaxis": {
           "automargin": true,
           "gridcolor": "white",
           "linecolor": "white",
           "ticks": "",
           "title": {
            "standoff": 15
           },
           "zerolinecolor": "white",
           "zerolinewidth": 2
          },
          "yaxis": {
           "automargin": true,
           "gridcolor": "white",
           "linecolor": "white",
           "ticks": "",
           "title": {
            "standoff": 15
           },
           "zerolinecolor": "white",
           "zerolinewidth": 2
          }
         }
        },
        "title": {
         "text": "Plaquette DMRG |δ x_σ| L=4, D150",
         "x": 0.5
        },
        "xaxis": {
         "title": {
          "text": "Im(J□)"
         }
        },
        "yaxis": {
         "title": {
          "text": "Re(J□)"
         }
        }
       }
      },
      "image/png": "[encoded data removed]",
      "image/svg+xml": [
       "<svg class=\"main-svg\" xmlns=\"http://www.w3.org/2000/svg\" xmlns:xlink=\"http://www.w3.org/1999/xlink\" width=\"700\" height=\"500\" style=\"\" viewBox=\"0 0 700 500\"><rect x=\"0\" y=\"0\" width=\"700\" height=\"500\" style=\"fill: rgb(255, 255, 255); fill-opacity: 1;\"/><defs id=\"defs-4beaf9\"><g class=\"clips\"><clipPath id=\"clip4beaf9xyplot\" class=\"plotclip\"><rect width=\"530\" height=\"387\"/></clipPath><clipPath class=\"axesclip\" id=\"clip4beaf9x\"><rect x=\"57\" y=\"0\" width=\"530\" height=\"500\"/></clipPath><clipPath class=\"axesclip\" id=\"clip4beaf9y\"><rect x=\"0\" y=\"60\" width=\"700\" height=\"387\"/></clipPath><clipPath class=\"axesclip\" id=\"clip4beaf9xy\"><rect x=\"57\" y=\"60\" width=\"530\" height=\"387\"/></clipPath></g><g class=\"gradients\"/><g class=\"patterns\"/></defs><g class=\"bglayer\"><rect class=\"bg\" x=\"57\" y=\"60\" width=\"530\" height=\"387\" style=\"fill: rgb(229, 236, 246); fill-opacity: 1; stroke-width: 0;\"/></g><g class=\"layer-below\"><g class=\"imagelayer\"/><g class=\"shapelayer\"/></g><g class=\"cartesianlayer\"><g class=\"subplot xy\"><g class=\"layer-subplot\"><g class=\"shapelayer\"/><g class=\"imagelayer\"/></g><g class=\"gridlayer\"><g class=\"x\"><path class=\"xgrid crisp\" transform=\"translate(145.32999999999998,0)\" d=\"M0,60v387\" style=\"stroke: rgb(255, 255, 255); stroke-opacity: 1; stroke-width: 1px;\"/><path class=\"xgrid crisp\" transform=\"translate(233.67,0)\" d=\"M0,60v387\" style=\"stroke: rgb(255, 255, 255); stroke-opacity: 1; stroke-width: 1px;\"/><path class=\"xgrid crisp\" transform=\"translate(322,0)\" d=\"M0,60v387\" style=\"stroke: rgb(255, 255, 255); stroke-opacity: 1; stroke-width: 1px;\"/><path class=\"xgrid crisp\" transform=\"translate(410.33,0)\" d=\"M0,60v387\" style=\"stroke: rgb(255, 255, 255); stroke-opacity: 1; stroke-width: 1px;\"/><path class=\"xgrid crisp\" transform=\"translate(498.67,0)\" d=\"M0,60v387\" style=\"stroke: rgb(255, 255, 255); stroke-opacity: 1; stroke-width: 1px;\"/></g><g class=\"y\"><path class=\"ygrid crisp\" transform=\"translate(0,413.66)\" d=\"M57,0h530\" style=\"stroke: rgb(255, 255, 255); stroke-opacity: 1; stroke-width: 1px;\"/><path class=\"ygrid crisp\" transform=\"translate(0,363.13)\" d=\"M57,0h530\" style=\"stroke: rgb(255, 255, 255); stroke-opacity: 1; stroke-width: 1px;\"/><path class=\"ygrid crisp\" transform=\"translate(0,312.61)\" d=\"M57,0h530\" style=\"stroke: rgb(255, 255, 255); stroke-opacity: 1; stroke-width: 1px;\"/><path class=\"ygrid crisp\" transform=\"translate(0,262.09000000000003)\" d=\"M57,0h530\" style=\"stroke: rgb(255, 255, 255); stroke-opacity: 1; stroke-width: 1px;\"/><path class=\"ygrid crisp\" transform=\"translate(0,211.57)\" d=\"M57,0h530\" style=\"stroke: rgb(255, 255, 255); stroke-opacity: 1; stroke-width: 1px;\"/><path class=\"ygrid crisp\" transform=\"translate(0,161.04000000000002)\" d=\"M57,0h530\" style=\"stroke: rgb(255, 255, 255); stroke-opacity: 1; stroke-width: 1px;\"/><path class=\"ygrid crisp\" transform=\"translate(0,110.52000000000001)\" d=\"M57,0h530\" style=\"stroke: rgb(255, 255, 255); stroke-opacity: 1; stroke-width: 1px;\"/></g></g><g class=\"zerolinelayer\"/><path class=\"xlines-below\"/><path class=\"ylines-below\"/><g class=\"overlines-below\"/><g class=\"xaxislayer-below\"/><g class=\"yaxislayer-below\"/><g class=\"overaxes-below\"/><g class=\"plot\" transform=\"translate(57,60)\" clip-path=\"url(#clip4beaf9xyplot)\"><g class=\"contourlayer mlayer\"><g class=\"contour\" style=\"opacity: 1;\"><g class=\"heatmapcoloring\"/><g class=\"contourbg\"><path d=\"M0,0L530,0L530,387L0,387Z\" style=\"stroke: none; fill: rgb(13, 8, 135);\"/></g><g class=\"contourfill\"><path d=\"M0,0L530,0L530,387L0,387ZM260.07,126.31C260.06,127.43 262.48,129.1 265,129.74C270.67,131.17 295.3,127.43 295.3,126.31C295.3,125.19 270.68,121.64 265,123.03C262.5,123.64 260.08,125.2 260.07,126.31Z\" style=\"stroke: none; fill: rgb(70, 3, 159);\"/><path d=\"M0,0L530,0L530,387L0,387ZM250.26,126.31C250.22,129.67 257.48,134.69 265,136.59C281.91,140.87 355.28,129.66 355.27,126.31C355.26,122.97 281.94,112.39 265,116.52C257.52,118.34 250.3,122.98 250.26,126.31Z\" style=\"stroke: none; fill: rgb(114, 1, 168);\"/><path d=\"M0,0L530,0L530,387L0,387ZM240.45,126.31C240.39,131.9 253.54,140.39 265,143.44C284.73,148.7 327.71,138.99 353.33,135.61C373.27,132.98 406.23,129.31 406.21,126.31C406.19,123.31 373.26,120.09 353.33,117.6C327.7,114.39 284.77,104.96 265,110.01C253.6,112.92 240.51,120.76 240.45,126.31Z\" style=\"stroke: none; fill: rgb(156, 23, 158);\"/><path d=\"M0,0L530,0L530,387L0,387ZM109.16,126.31C109.14,129.59 168.03,141.69 176.67,136.56C180.12,134.51 180.43,129.65 180.38,126.31C180.34,123.09 179.98,118.81 176.67,116.88C168.09,111.87 109.18,123.03 109.16,126.31ZM230.63,126.31C230.54,134.14 249.96,146.09 265,150.29C286.86,156.4 323.96,147.85 353.33,144.58C382.85,141.29 420.25,133.85 441.67,130.57C453.9,128.7 470.53,127.66 470.52,126.31C470.51,124.96 453.9,124.19 441.67,122.46C420.24,119.42 382.84,112.36 353.33,109.2C323.95,106.05 286.92,97.64 265,103.49C250.04,107.48 230.72,118.54 230.63,126.31Z\" style=\"stroke: none; fill: rgb(189, 55, 134);\"/><path d=\"M0,126.8Q58.86,135.33 88.33,138.95C117.75,142.56 163.23,156.9 176.67,148.51C183.6,144.19 184.8,133.54 184.7,126.31C184.6,119.34 183.32,109.93 176.67,105.88C163.3,97.74 117.76,111.7 88.33,115.03Q58.87,118.36 0,125.88L0,0L530,0L530,119.94Q471.12,113.01 441.67,109.82C412.23,106.63 382.81,102.95 353.33,100.81C323.92,98.67 288.56,90.42 265,96.98C246.77,102.06 221,116.32 220.88,126.31C220.76,136.37 246.67,151.78 265,157.14C288.49,164.01 323.92,155.64 353.33,153.55C382.81,151.46 412.24,147.91 441.67,144.6Q471.13,141.28 530,133.66L530,387L0,387Z\" style=\"stroke: none; fill: rgb(216, 87, 107);\"/><path d=\"M0,150.11Q58.88,154.42 88.33,156.15C117.77,157.87 161.72,169.61 176.67,160.46C185.07,155.32 185.52,141.29 188.15,135C189.67,131.37 191.54,129.18 191.52,126.31C191.5,123.48 189.7,121.35 188.15,117.89C185.54,112.07 184.72,99.57 176.67,94.89C161.74,86.21 117.77,97.89 88.33,99.7Q58.88,101.52 0,105.78L0,0L530,0L530,102.92Q471.12,98.93 441.67,97.18C412.23,95.43 382.78,93.54 353.33,92.42C323.89,91.3 289.23,88.46 265,90.46C247.8,91.88 229.81,91.19 221.27,98.73C214.38,104.81 212.4,117.06 212.37,126.31C212.34,135.65 214.32,148.17 221.27,154.51C229.82,162.3 247.77,162.28 265,163.98C289.21,166.37 323.89,163.41 353.33,162.52C382.78,161.63 412.23,160.15 441.67,158.62Q471.12,157.09 530,153.35L530,387L0,387Z\" style=\"stroke: none; fill: rgb(237, 121, 83);\"/><path d=\"M0,176.65Q58.88,178.29 88.33,178.89C117.77,179.49 161.09,181.28 176.67,180.25C182.32,179.88 184.5,179.91 188.15,178.55C192.03,177.11 195.44,171.82 199.19,171.56C202.8,171.31 206.73,174.26 210.23,176.6C214.13,179.21 215.8,185.16 221.27,186.88C230.62,189.83 247.84,181.99 265,180.77C289.27,179.04 323.89,180.7 353.33,180.46C382.78,180.22 412.23,179.83 441.67,179.3Q471.12,178.76 530,177.25L530,387L0,387ZM530,85.89Q466.8,84.81 441.67,84.53C422.97,84.32 408.16,84.38 392.73,84.2C378.88,84.04 369.08,83.72 353.33,83.53C329.75,83.25 288.95,87.71 265,82.94C247.49,79.45 231.14,66.57 221.27,65.15C216.48,64.46 213.8,65.16 210.23,66.26C206.43,67.43 202.98,70.9 199.19,72.26C195.61,73.54 191.68,72.79 188.15,74.39C184.13,76.21 182.53,81.24 176.67,83.29C164.48,87.56 129.99,84.03 113.69,84.2C103.35,84.31 99.34,84.25 88.33,84.37Q67.79,84.59 0,85.69L0,0L530,0Z\" style=\"stroke: none; fill: rgb(251, 159, 58);\"/><path d=\"M0,218.76Q58.89,219.59 88.33,219.89C117.78,220.19 161.29,216.69 176.67,220.56C182.56,222.04 184.24,225.61 188.15,226.62C191.76,227.55 195.52,226.55 199.19,226.84C202.88,227.13 206.55,227.88 210.23,228.35C213.91,228.82 216.39,229.85 221.27,229.65C231.04,229.24 247.79,222.53 265,220.78C289.22,218.32 323.89,220.71 353.33,220.56C382.78,220.41 412.22,220.18 441.67,219.88Q471.11,219.58 530,218.74L530,387L0,387ZM530,53.65Q471.11,52.55 441.67,52.12C412.22,51.69 382.78,51.36 353.33,51.09C323.89,50.83 282.22,54.89 265,50.53C257.24,48.57 254.58,46.97 249.16,42.1Q240.04,33.9 220.62,0L530,0ZM189.75,0Q188.77,2.47 188.15,4.9C186.48,11.48 184.08,34.28 181.27,42.1C179.87,46.02 180.21,48.31 176.67,50.4C165.88,56.78 117.78,50.53 88.33,50.71Q58.89,50.89 0,51.48L0,0Z\" style=\"stroke: none; fill: rgb(253, 202, 38);\"/><path d=\"M0,383.1Q64.58,382.99 88.33,382.87C104.38,382.79 114.64,382.67 128.67,382.58C143.97,382.49 170.05,382.75 176.67,382.34C178.4,382.23 178.93,382.9 179.94,381.95C183.72,378.39 182.22,341.81 188.15,336.87C191.06,334.44 195.51,336.76 199.19,336.88C202.87,337 206.55,337.38 210.23,337.6C213.91,337.82 217.29,336 221.27,338.22C230.02,343.09 242.59,376.92 251.87,381.95C256.47,384.44 259.6,382.28 265,382.38C273.71,382.55 286.44,382.49 299.13,382.58C315.12,382.69 336.25,382.93 353.33,383.04C368.64,383.13 382.27,383.14 396.89,383.21C411.71,383.28 424.23,383.38 441.67,383.44Q466.16,383.53 530,383.64L530,387L0,387Z\" style=\"stroke: none; fill: rgb(240, 249, 33);\"/></g><g class=\"contourlines\"><g class=\"contourlevel\"><path class=\"closedline\" d=\"M260.07,126.31C260.06,127.43 262.48,129.1 265,129.74C270.67,131.17 295.3,127.43 295.3,126.31C295.3,125.19 270.68,121.64 265,123.03C262.5,123.64 260.08,125.2 260.07,126.31Z\" style=\"stroke-miterlimit: 1; vector-effect: non-scaling-stroke; fill: none; stroke: rgb(0, 0, 0); stroke-opacity: 1; stroke-width: 0.5px;\"/></g><g class=\"contourlevel\"><path class=\"closedline\" d=\"M250.26,126.31C250.22,129.67 257.48,134.69 265,136.59C281.91,140.87 355.28,129.66 355.27,126.31C355.26,122.97 281.94,112.39 265,116.52C257.52,118.34 250.3,122.98 250.26,126.31Z\" style=\"stroke-miterlimit: 1; vector-effect: non-scaling-stroke; fill: none; stroke: rgb(0, 0, 0); stroke-opacity: 1; stroke-width: 0.5px;\"/></g><g class=\"contourlevel\"><path class=\"closedline\" d=\"M240.45,126.31C240.39,131.9 253.54,140.39 265,143.44C284.73,148.7 327.71,138.99 353.33,135.61C373.27,132.98 406.23,129.31 406.21,126.31C406.19,123.31 373.26,120.09 353.33,117.6C327.7,114.39 284.77,104.96 265,110.01C253.6,112.92 240.51,120.76 240.45,126.31Z\" style=\"stroke-miterlimit: 1; vector-effect: non-scaling-stroke; fill: none; stroke: rgb(0, 0, 0); stroke-opacity: 1; stroke-width: 0.5px;\"/></g><g class=\"contourlevel\"><path class=\"closedline\" d=\"M109.16,126.31C109.14,129.59 168.03,141.69 176.67,136.56C180.12,134.51 180.43,129.65 180.38,126.31C180.34,123.09 179.98,118.81 176.67,116.88C168.09,111.87 109.18,123.03 109.16,126.31Z\" style=\"stroke-miterlimit: 1; vector-effect: non-scaling-stroke; fill: none; stroke: rgb(0, 0, 0); stroke-opacity: 1; stroke-width: 0.5px;\"/><path class=\"closedline\" d=\"M230.63,126.31C230.54,134.14 249.96,146.09 265,150.29C286.86,156.4 323.96,147.85 353.33,144.58C382.85,141.29 420.25,133.85 441.67,130.57C453.9,128.7 470.53,127.66 470.52,126.31C470.51,124.96 453.9,124.19 441.67,122.46C420.24,119.42 382.84,112.36 353.33,109.2C323.95,106.05 286.92,97.64 265,103.49C250.04,107.48 230.72,118.54 230.63,126.31Z\" style=\"stroke-miterlimit: 1; vector-effect: non-scaling-stroke; fill: none; stroke: rgb(0, 0, 0); stroke-opacity: 1; stroke-width: 0.5px;\"/></g><g class=\"contourlevel\"><path class=\"openline\" d=\"M0,126.8Q58.86,135.33 88.33,138.95C117.75,142.56 163.23,156.9 176.67,148.51C183.6,144.19 184.8,133.54 184.7,126.31C184.6,119.34 183.32,109.93 176.67,105.88C163.3,97.74 117.76,111.7 88.33,115.03Q58.87,118.36 0,125.88\" style=\"stroke-miterlimit: 1; vector-effect: non-scaling-stroke; fill: none; stroke: rgb(0, 0, 0); stroke-opacity: 1; stroke-width: 0.5px;\"/><path class=\"openline\" d=\"M530,119.94Q471.12,113.01 441.67,109.82C412.23,106.63 382.81,102.95 353.33,100.81C323.92,98.67 288.56,90.42 265,96.98C246.77,102.06 221,116.32 220.88,126.31C220.76,136.37 246.67,151.78 265,157.14C288.49,164.01 323.92,155.64 353.33,153.55C382.81,151.46 412.24,147.91 441.67,144.6Q471.13,141.28 530,133.66\" style=\"stroke-miterlimit: 1; vector-effect: non-scaling-stroke; fill: none; stroke: rgb(0, 0, 0); stroke-opacity: 1; stroke-width: 0.5px;\"/></g><g class=\"contourlevel\"><path class=\"openline\" d=\"M0,150.11Q58.88,154.42 88.33,156.15C117.77,157.87 161.72,169.61 176.67,160.46C185.07,155.32 185.52,141.29 188.15,135C189.67,131.37 191.54,129.18 191.52,126.31C191.5,123.48 189.7,121.35 188.15,117.89C185.54,112.07 184.72,99.57 176.67,94.89C161.74,86.21 117.77,97.89 88.33,99.7Q58.88,101.52 0,105.78\" style=\"stroke-miterlimit: 1; vector-effect: non-scaling-stroke; fill: none; stroke: rgb(0, 0, 0); stroke-opacity: 1; stroke-width: 0.5px;\"/><path class=\"openline\" d=\"M530,102.92Q471.12,98.93 441.67,97.18C412.23,95.43 382.78,93.54 353.33,92.42C323.89,91.3 289.23,88.46 265,90.46C247.8,91.88 229.81,91.19 221.27,98.73C214.38,104.81 212.4,117.06 212.37,126.31C212.34,135.65 214.32,148.17 221.27,154.51C229.82,162.3 247.77,162.28 265,163.98C289.21,166.37 323.89,163.41 353.33,162.52C382.78,161.63 412.23,160.15 441.67,158.62Q471.12,157.09 530,153.35\" style=\"stroke-miterlimit: 1; vector-effect: non-scaling-stroke; fill: none; stroke: rgb(0, 0, 0); stroke-opacity: 1; stroke-width: 0.5px;\"/></g><g class=\"contourlevel\"><path class=\"openline\" d=\"M0,176.65Q58.88,178.29 88.33,178.89C117.77,179.49 161.09,181.28 176.67,180.25C182.32,179.88 184.5,179.91 188.15,178.55C192.03,177.11 195.44,171.82 199.19,171.56C202.8,171.31 206.73,174.26 210.23,176.6C214.13,179.21 215.8,185.16 221.27,186.88C230.62,189.83 247.84,181.99 265,180.77C289.27,179.04 323.89,180.7 353.33,180.46C382.78,180.22 412.23,179.83 441.67,179.3Q471.12,178.76 530,177.25\" style=\"stroke-miterlimit: 1; vector-effect: non-scaling-stroke; fill: none; stroke: rgb(0, 0, 0); stroke-opacity: 1; stroke-width: 0.5px;\"/><path class=\"openline\" d=\"M530,85.89Q466.8,84.81 441.67,84.53C422.97,84.32 408.16,84.38 392.73,84.2C378.88,84.04 369.08,83.72 353.33,83.53C329.75,83.25 288.95,87.71 265,82.94C247.49,79.45 231.14,66.57 221.27,65.15C216.48,64.46 213.8,65.16 210.23,66.26C206.43,67.43 202.98,70.9 199.19,72.26C195.61,73.54 191.68,72.79 188.15,74.39C184.13,76.21 182.53,81.24 176.67,83.29C164.48,87.56 129.99,84.03 113.69,84.2C103.35,84.31 99.34,84.25 88.33,84.37Q67.79,84.59 0,85.69\" style=\"stroke-miterlimit: 1; vector-effect: non-scaling-stroke; fill: none; stroke: rgb(0, 0, 0); stroke-opacity: 1; stroke-width: 0.5px;\"/></g><g class=\"contourlevel\"><path class=\"openline\" d=\"M0,218.76Q58.89,219.59 88.33,219.89C117.78,220.19 161.29,216.69 176.67,220.56C182.56,222.04 184.24,225.61 188.15,226.62C191.76,227.55 195.52,226.55 199.19,226.84C202.88,227.13 206.55,227.88 210.23,228.35C213.91,228.82 216.39,229.85 221.27,229.65C231.04,229.24 247.79,222.53 265,220.78C289.22,218.32 323.89,220.71 353.33,220.56C382.78,220.41 412.22,220.18 441.67,219.88Q471.11,219.58 530,218.74\" style=\"stroke-miterlimit: 1; vector-effect: non-scaling-stroke; fill: none; stroke: rgb(0, 0, 0); stroke-opacity: 1; stroke-width: 0.5px;\"/><path class=\"openline\" d=\"M530,53.65Q471.11,52.55 441.67,52.12C412.22,51.69 382.78,51.36 353.33,51.09C323.89,50.83 282.22,54.89 265,50.53C257.24,48.57 254.58,46.97 249.16,42.1Q240.04,33.9 220.62,0\" style=\"stroke-miterlimit: 1; vector-effect: non-scaling-stroke; fill: none; stroke: rgb(0, 0, 0); stroke-opacity: 1; stroke-width: 0.5px;\"/><path class=\"openline\" d=\"M189.75,0Q188.77,2.47 188.15,4.9C186.48,11.48 184.08,34.28 181.27,42.1C179.87,46.02 180.21,48.31 176.67,50.4C165.88,56.78 117.78,50.53 88.33,50.71Q58.89,50.89 0,51.48\" style=\"stroke-miterlimit: 1; vector-effect: non-scaling-stroke; fill: none; stroke: rgb(0, 0, 0); stroke-opacity: 1; stroke-width: 0.5px;\"/></g><g class=\"contourlevel\"><path class=\"openline\" d=\"M0,383.1Q64.58,382.99 88.33,382.87C104.38,382.79 114.64,382.67 128.67,382.58C143.97,382.49 170.05,382.75 176.67,382.34C178.4,382.23 178.93,382.9 179.94,381.95C183.72,378.39 182.22,341.81 188.15,336.87C191.06,334.44 195.51,336.76 199.19,336.88C202.87,337 206.55,337.38 210.23,337.6C213.91,337.82 217.29,336 221.27,338.22C230.02,343.09 242.59,376.92 251.87,381.95C256.47,384.44 259.6,382.28 265,382.38C273.71,382.55 286.44,382.49 299.13,382.58C315.12,382.69 336.25,382.93 353.33,383.04C368.64,383.13 382.27,383.14 396.89,383.21C411.71,383.28 424.23,383.38 441.67,383.44Q466.16,383.53 530,383.64\" style=\"stroke-miterlimit: 1; vector-effect: non-scaling-stroke; fill: none; stroke: rgb(0, 0, 0); stroke-opacity: 1; stroke-width: 0.5px;\"/></g></g></g></g></g><g class=\"overplot\"/><path class=\"xlines-above crisp\" d=\"M0,0\" style=\"fill: none;\"/><path class=\"ylines-above crisp\" d=\"M0,0\" style=\"fill: none;\"/><g class=\"overlines-above\"/><g class=\"xaxislayer-above\"><g class=\"xtick\"><text text-anchor=\"middle\" x=\"0\" y=\"460\" transform=\"translate(57,0)\" style=\"font-family: 'Open Sans', verdana, arial, sans-serif; font-size: 12px; fill: rgb(42, 63, 95); fill-opacity: 1; white-space: pre; opacity: 1;\">0.02</text></g><g class=\"xtick\"><text text-anchor=\"middle\" x=\"0\" y=\"460\" style=\"font-family: 'Open Sans', verdana, arial, sans-serif; font-size: 12px; fill: rgb(42, 63, 95); fill-opacity: 1; white-space: pre; opacity: 1;\" transform=\"translate(145.32999999999998,0)\">0.04</text></g><g class=\"xtick\"><text text-anchor=\"middle\" x=\"0\" y=\"460\" style=\"font-family: 'Open Sans', verdana, arial, sans-serif; font-size: 12px; fill: rgb(42, 63, 95); fill-opacity: 1; white-space: pre; opacity: 1;\" transform=\"translate(233.67,0)\">0.06</text></g><g class=\"xtick\"><text text-anchor=\"middle\" x=\"0\" y=\"460\" style=\"font-family: 'Open Sans', verdana, arial, sans-serif; font-size: 12px; fill: rgb(42, 63, 95); fill-opacity: 1; white-space: pre; opacity: 1;\" transform=\"translate(322,0)\">0.08</text></g><g class=\"xtick\"><text text-anchor=\"middle\" x=\"0\" y=\"460\" style=\"font-family: 'Open Sans', verdana, arial, sans-serif; font-size: 12px; fill: rgb(42, 63, 95); fill-opacity: 1; white-space: pre; opacity: 1;\" transform=\"translate(410.33,0)\">0.1</text></g><g class=\"xtick\"><text text-anchor=\"middle\" x=\"0\" y=\"460\" style=\"font-family: 'Open Sans', verdana, arial, sans-serif; font-size: 12px; fill: rgb(42, 63, 95); fill-opacity: 1; white-space: pre; opacity: 1;\" transform=\"translate(498.67,0)\">0.12</text></g><g class=\"xtick\"><text text-anchor=\"middle\" x=\"0\" y=\"460\" style=\"font-family: 'Open Sans', verdana, arial, sans-serif; font-size: 12px; fill: rgb(42, 63, 95); fill-opacity: 1; white-space: pre; opacity: 1;\" transform=\"translate(587,0)\">0.14</text></g></g><g class=\"yaxislayer-above\"><g class=\"ytick\"><text text-anchor=\"end\" x=\"56\" y=\"4.199999999999999\" transform=\"translate(0,413.66)\" style=\"font-family: 'Open Sans', verdana, arial, sans-serif; font-size: 12px; fill: rgb(42, 63, 95); fill-opacity: 1; white-space: pre; opacity: 1;\">0.2</text></g><g class=\"ytick\"><text text-anchor=\"end\" x=\"56\" y=\"4.199999999999999\" style=\"font-family: 'Open Sans', verdana, arial, sans-serif; font-size: 12px; fill: rgb(42, 63, 95); fill-opacity: 1; white-space: pre; opacity: 1;\" transform=\"translate(0,363.13)\">0.4</text></g><g class=\"ytick\"><text text-anchor=\"end\" x=\"56\" y=\"4.199999999999999\" style=\"font-family: 'Open Sans', verdana, arial, sans-serif; font-size: 12px; fill: rgb(42, 63, 95); fill-opacity: 1; white-space: pre; opacity: 1;\" transform=\"translate(0,312.61)\">0.6</text></g><g class=\"ytick\"><text text-anchor=\"end\" x=\"56\" y=\"4.199999999999999\" style=\"font-family: 'Open Sans', verdana, arial, sans-serif; font-size: 12px; fill: rgb(42, 63, 95); fill-opacity: 1; white-space: pre; opacity: 1;\" transform=\"translate(0,262.09000000000003)\">0.8</text></g><g class=\"ytick\"><text text-anchor=\"end\" x=\"56\" y=\"4.199999999999999\" style=\"font-family: 'Open Sans', verdana, arial, sans-serif; font-size: 12px; fill: rgb(42, 63, 95); fill-opacity: 1; white-space: pre; opacity: 1;\" transform=\"translate(0,211.57)\">1</text></g><g class=\"ytick\"><text text-anchor=\"end\" x=\"56\" y=\"4.199999999999999\" style=\"font-family: 'Open Sans', verdana, arial, sans-serif; font-size: 12px; fill: rgb(42, 63, 95); fill-opacity: 1; white-space: pre; opacity: 1;\" transform=\"translate(0,161.04000000000002)\">1.2</text></g><g class=\"ytick\"><text text-anchor=\"end\" x=\"56\" y=\"4.199999999999999\" style=\"font-family: 'Open Sans', verdana, arial, sans-serif; font-size: 12px; fill: rgb(42, 63, 95); fill-opacity: 1; white-space: pre; opacity: 1;\" transform=\"translate(0,110.52000000000001)\">1.4</text></g><g class=\"ytick\"><text text-anchor=\"end\" x=\"56\" y=\"4.199999999999999\" style=\"font-family: 'Open Sans', verdana, arial, sans-serif; font-size: 12px; fill: rgb(42, 63, 95); fill-opacity: 1; white-space: pre; opacity: 1;\" transform=\"translate(0,60)\">1.6</text></g></g><g class=\"overaxes-above\"/></g></g><g class=\"polarlayer\"/><g class=\"ternarylayer\"/><g class=\"geolayer\"/><g class=\"funnelarealayer\"/><g class=\"pielayer\"/><g class=\"iciclelayer\"/><g class=\"treemaplayer\"/><g class=\"sunburstlayer\"/><g class=\"glimages\"/><defs id=\"topdefs-4beaf9\"><g class=\"clips\"/></defs><g class=\"layer-above\"><g class=\"imagelayer\"/><g class=\"shapelayer\"/></g><g class=\"infolayer\"><g class=\"cb5dfe18 colorbar\" transform=\"translate(57,60)\"><rect class=\"cbbg\" x=\"541\" y=\"0\" width=\"90.328125\" height=\"387\" style=\"fill: rgb(0, 0, 0); fill-opacity: 0; stroke: rgb(68, 68, 68); stroke-opacity: 1; stroke-width: 0;\"/><g class=\"cbfills\" transform=\"translate(0,31)\"><rect class=\"cbfill\" x=\"551\" width=\"30\" y=\"1\" height=\"345\" fill=\"#0d0887\" style=\"\"/><rect class=\"cbfill\" x=\"551\" width=\"30\" y=\"1\" height=\"326\" fill=\"#46039f\" style=\"\"/><rect class=\"cbfill\" x=\"551\" width=\"30\" y=\"1\" height=\"287\" fill=\"#7201a8\" style=\"\"/><rect class=\"cbfill\" x=\"551\" width=\"30\" y=\"1\" height=\"249\" fill=\"#9c179e\" style=\"\"/><rect class=\"cbfill\" x=\"551\" width=\"30\" y=\"1\" height=\"210\" fill=\"#bd3786\" style=\"\"/><rect class=\"cbfill\" x=\"551\" width=\"30\" y=\"1\" height=\"172\" fill=\"#d8576b\" style=\"\"/><rect class=\"cbfill\" x=\"551\" width=\"30\" y=\"1\" height=\"134\" fill=\"#ed7953\" style=\"\"/><rect class=\"cbfill\" x=\"551\" width=\"30\" y=\"1\" height=\"95\" fill=\"#fb9f3a\" style=\"\"/><rect class=\"cbfill\" x=\"551\" width=\"30\" y=\"1\" height=\"57\" fill=\"#fdca26\" style=\"\"/><rect class=\"cbfill\" x=\"551\" width=\"30\" y=\"0\" height=\"19\" fill=\"#f0f921\" style=\"\"/></g><g class=\"cblines\" transform=\"translate(0,31)\"><path class=\"cbline\" d=\"M551,327.25h30\" style=\"fill: none; stroke: rgb(0, 0, 0); stroke-opacity: 1; stroke-width: 0.5px;\"/><path class=\"cbline\" d=\"M551,288.25h30\" style=\"fill: none; stroke: rgb(0, 0, 0); stroke-opacity: 1; stroke-width: 0.5px;\"/><path class=\"cbline\" d=\"M551,250.25h30\" style=\"fill: none; stroke: rgb(0, 0, 0); stroke-opacity: 1; stroke-width: 0.5px;\"/><path class=\"cbline\" d=\"M551,211.25h30\" style=\"fill: none; stroke: rgb(0, 0, 0); stroke-opacity: 1; stroke-width: 0.5px;\"/><path class=\"cbline\" d=\"M551,173.25h30\" style=\"fill: none; stroke: rgb(0, 0, 0); stroke-opacity: 1; stroke-width: 0.5px;\"/><path class=\"cbline\" d=\"M551,135.25h30\" style=\"fill: none; stroke: rgb(0, 0, 0); stroke-opacity: 1; stroke-width: 0.5px;\"/><path class=\"cbline\" d=\"M551,96.25h30\" style=\"fill: none; stroke: rgb(0, 0, 0); stroke-opacity: 1; stroke-width: 0.5px;\"/><path class=\"cbline\" d=\"M551,58.25h30\" style=\"fill: none; stroke: rgb(0, 0, 0); stroke-opacity: 1; stroke-width: 0.5px;\"/><path class=\"cbline\" d=\"M551,19.25h30\" style=\"fill: none; stroke: rgb(0, 0, 0); stroke-opacity: 1; stroke-width: 0.5px;\"/></g><g class=\"cbaxis crisp\" transform=\"translate(0,-60)\"><g class=\"ycb5dfe18tick\"><text text-anchor=\"start\" x=\"583.9\" y=\"4.199999999999999\" transform=\"translate(0,379.33)\" style=\"font-family: 'Open Sans', verdana, arial, sans-serif; font-size: 12px; fill: rgb(42, 63, 95); fill-opacity: 1; white-space: pre; opacity: 1;\">−5</text></g><g class=\"ycb5dfe18tick\"><text text-anchor=\"start\" x=\"583.9\" y=\"4.199999999999999\" style=\"font-family: 'Open Sans', verdana, arial, sans-serif; font-size: 12px; fill: rgb(42, 63, 95); fill-opacity: 1; white-space: pre; opacity: 1;\" transform=\"translate(0,302.44)\">−4</text></g><g class=\"ycb5dfe18tick\"><text text-anchor=\"start\" x=\"583.9\" y=\"4.199999999999999\" style=\"font-family: 'Open Sans', verdana, arial, sans-serif; font-size: 12px; fill: rgb(42, 63, 95); fill-opacity: 1; white-space: pre; opacity: 1;\" transform=\"translate(0,225.56)\">−3</text></g><g class=\"ycb5dfe18tick\"><text text-anchor=\"start\" x=\"583.9\" y=\"4.199999999999999\" style=\"font-family: 'Open Sans', verdana, arial, sans-serif; font-size: 12px; fill: rgb(42, 63, 95); fill-opacity: 1; white-space: pre; opacity: 1;\" transform=\"translate(0,148.67000000000002)\">−2</text></g></g><g class=\"cbtitleunshift\" transform=\"translate(-57,-60)\"><g class=\"cbtitle\" transform=\"\"><text class=\"ycb5dfe18title\" x=\"607.6\" y=\"83.5\" text-anchor=\"start\" style=\"font-family: Arial, sans-serif; font-size: 14px; fill: rgb(42, 63, 95); opacity: 1; font-weight: normal; white-space: pre;\">log(|δ x_σ|)</text></g></g><rect class=\"cboutline\" x=\"551\" y=\"31\" width=\"30\" height=\"346\" style=\"stroke: rgb(68, 68, 68); stroke-opacity: 1; fill: none; stroke-width: 0;\"/></g><g class=\"g-gtitle\"><text class=\"gtitle\" x=\"350\" y=\"30\" text-anchor=\"middle\" dy=\"0em\" style=\"font-family: 'Open Sans', verdana, arial, sans-serif; font-size: 17px; fill: rgb(42, 63, 95); opacity: 1; font-weight: normal; white-space: pre;\">Plaquette DMRG |δ x_σ| L=4, D150</text></g><g class=\"g-xtitle\"><text class=\"xtitle\" x=\"322\" y=\"487.8\" text-anchor=\"middle\" style=\"font-family: 'Open Sans', verdana, arial, sans-serif; font-size: 14px; fill: rgb(42, 63, 95); opacity: 1; font-weight: normal; white-space: pre;\">Im(J□)</text></g><g class=\"g-ytitle\" transform=\"translate(2.4248046875,0)\"><text class=\"ytitle\" transform=\"rotate(-90,11.575000000000003,253.5)\" x=\"11.575000000000003\" y=\"253.5\" text-anchor=\"middle\" style=\"font-family: 'Open Sans', verdana, arial, sans-serif; font-size: 14px; fill: rgb(42, 63, 95); opacity: 1; font-weight: normal; white-space: pre;\">Re(J□)</text></g></g></svg>"
      ],
      "text/html": [
       "<div\n",
       "    class=\"webio-mountpoint\"\n",
       "    data-webio-mountpoint=\"9783545705879189983\"\n",
       ">\n",
       "    <script>\n",
       "    (function(){\n",
       "    // Some integrations (namely, IJulia/Jupyter) use an alternate render pathway than\n",
       "    // just putting the html on the page. If WebIO isn't defined, then it's pretty likely\n",
       "    // that we're in one of those situations and the integration just isn't installed\n",
       "    // correctly.\n",
       "    if (typeof window.WebIO === \"undefined\") {\n",
       "        document\n",
       "            .querySelector('[data-webio-mountpoint=\"9783545705879189983\"]')\n",
       "            .innerHTML = (\n",
       "                '<div style=\"padding: 1em; background-color: #f8d6da; border: 1px solid #f5c6cb; font-weight: bold;\">' +\n",
       "                '<p><strong>WebIO not detected.</strong></p>' +\n",
       "                '<p>Please read ' +\n",
       "                '<a href=\"https://juliagizmos.github.io/WebIO.jl/latest/troubleshooting/not-detected/\" target=\"_blank\">the troubleshooting guide</a> ' +\n",
       "                'for more information on how to resolve this issue.</p>' +\n",
       "                '<p><a href=\"https://juliagizmos.github.io/WebIO.jl/latest/troubleshooting/not-detected/\" target=\"_blank\">https://juliagizmos.github.io/WebIO.jl/latest/troubleshooting/not-detected/</a></p>' +\n",
       "                '</div>'\n",
       "            );\n",
       "        return;\n",
       "    }\n",
       "    WebIO.mount(\n",
       "        document.querySelector('[data-webio-mountpoint=\"9783545705879189983\"]'),\n",
       "        {\"props\":{},\"nodeType\":\"Scope\",\"type\":\"node\",\"instanceArgs\":{\"imports\":{\"data\":[{\"name\":\"Plotly\",\"type\":\"js\",\"url\":\"\\/assetserver\\/ea045726c9e6817144fcffeb0338f99560940283-plotly.min.js\"},{\"name\":null,\"type\":\"js\",\"url\":\"\\/assetserver\\/95b5156f246fb40d2c47dbceb1d72058a4ef06a9-plotly_webio.bundle.js\"}],\"type\":\"async_block\"},\"id\":\"1436803228452202798\",\"handlers\":{\"_toImage\":[\"(function (options){return this.Plotly.toImage(this.plotElem,options).then((function (data){return WebIO.setval({\\\"name\\\":\\\"image\\\",\\\"scope\\\":\\\"1436803228452202798\\\",\\\"id\\\":\\\"345\\\",\\\"type\\\":\\\"observable\\\"},data)}))})\"],\"__get_gd_contents\":[\"(function (prop){prop==\\\"data\\\" ? (WebIO.setval({\\\"name\\\":\\\"__gd_contents\\\",\\\"scope\\\":\\\"1436803228452202798\\\",\\\"id\\\":\\\"346\\\",\\\"type\\\":\\\"observable\\\"},this.plotElem.data)) : undefined; return prop==\\\"layout\\\" ? (WebIO.setval({\\\"name\\\":\\\"__gd_contents\\\",\\\"scope\\\":\\\"1436803228452202798\\\",\\\"id\\\":\\\"346\\\",\\\"type\\\":\\\"observable\\\"},this.plotElem.layout)) : undefined})\"],\"_downloadImage\":[\"(function (options){return this.Plotly.downloadImage(this.plotElem,options)})\"],\"_commands\":[\"(function (args){var fn=args.shift(); var elem=this.plotElem; var Plotly=this.Plotly; args.unshift(elem); return Plotly[fn].apply(this,args)})\"]},\"systemjs_options\":null,\"mount_callbacks\":[\"function () {\\n    var handler = ((function (Plotly,PlotlyWebIO){PlotlyWebIO.init(WebIO); var gd=this.dom.querySelector(\\\"#plot-71b06964-8899-4f7e-ac90-c4407dc5abe2\\\"); this.plotElem=gd; this.Plotly=Plotly; (window.Blink!==undefined) ? (gd.style.width=\\\"100%\\\", gd.style.height=\\\"100vh\\\", gd.style.marginLeft=\\\"0%\\\", gd.style.marginTop=\\\"0vh\\\") : undefined; window.onresize=(function (){return Plotly.Plots.resize(gd)}); Plotly.newPlot(gd,[{\\\"colorbar\\\":{\\\"titleside\\\":\\\"top\\\",\\\"titlefont\\\":{\\\"family\\\":\\\"Arial, sans-serif\\\",\\\"size\\\":14},\\\"title\\\":\\\"log(|δ x_σ|)\\\"},\\\"y\\\":[0.6000000000000001,0.7666666666666667,0.9333333333333333,1.1,1.2666666666666668,1.4333333333333333,1.6,0.6000000000000001,0.7666666666666667,0.9333333333333333,1.1,1.2666666666666668,1.4333333333333333,1.6,0.6000000000000001,0.7666666666666667,0.9333333333333333,1.1,1.2666666666666668,1.4333333333333333,1.6,0.6000000000000001,0.7666666666666667,0.9333333333333333,1.1,1.2666666666666668,1.4333333333333333,1.6,0.6000000000000001,0.7666666666666667,0.9333333333333333,1.1,1.2666666666666668,1.4333333333333333,1.6,0.6000000000000001,0.7666666666666667,0.9333333333333333,1.1,1.2666666666666668,1.4333333333333333,1.6,0.6000000000000001,0.7666666666666667,0.9333333333333333,1.1,1.2666666666666668,1.4333333333333333,1.6,0.078,0.0805,0.083,0.0855,0.088,0.068,0.07050000000000001,0.073,0.0755,0.078,0.0805,0.083,0.0855,0.088,0.068,0.07050000000000001,0.073,0.0755,0.078,0.0805,0.083,0.0855,0.088,0.068,0.07050000000000001,0.073,0.0755,0.078,0.0805,0.083,0.0855,0.088],\\\"type\\\":\\\"contour\\\",\\\"fill\\\":true,\\\"z\\\":[-1.7632603701569856,-2.0576829087504587,-2.607630148646867,-3.510686839435195,-2.462948838469119,-1.867402280198311,-1.5909736412265145,-1.7671741484832673,-2.0667337924533355,-2.6435881227655,-3.867718874066557,-2.4944257828350263,-1.8728894877186102,-1.5916381460021514,-1.7695412830756088,-2.0722496795053806,-2.667418764561947,-4.428873614912686,-2.513843645227664,-1.8738238066733357,-1.5900023020272545,-1.770337461404191,-2.0740971509810953,-2.6771088776138474,-5.751109830071822,-2.519473843912324,-1.870045503846032,-1.586022936005786,-1.769554628247347,-2.07222006289345,-2.67165105808562,-5.018972778964474,-2.51045587297761,-1.86145168975983,-1.5796681885782267,-1.7672013716503507,-2.06664416298125,-2.651313935245229,-4.151930869483595,-2.4870105139657257,-1.847999449276184,-1.5709182826948527,-1.763302796005789,-2.057476008846289,-2.6175709467129327,-3.686868814666499,-2.450384786826253,-1.8297038561036956,-1.5597664450211166,-1.3564986879147927,-1.357615558193924,-1.358737350921097,-1.3598640940110278,-1.360995816318895,-1.3521220177103948,-1.3532196809165777,-1.3543221548037687,-1.355429467122849,-1.356541645848189,-1.3576587191738148,-1.358780715515622,-1.3599076635136895,-1.3610395920345675,-1.3521593965332153,-1.3532572295106546,-1.3543598741931282,-1.355467358339351,-1.3565797099323498,-1.3576969571748647,-1.3588191284916442,-1.3599462525316846,-1.3610783581705934,-1.3521919912435627,-1.3532899664423739,-1.3543927541549716,-1.3555003821456904,-1.3566128784039722,-1.3577302711390262,-1.3588525887821508,-1.3599798599889628,-1.3611121136413769],\\\"transpose\\\":true,\\\"x\\\":[0.020000000000000004,0.020000000000000004,0.020000000000000004,0.020000000000000004,0.020000000000000004,0.020000000000000004,0.020000000000000004,0.04,0.04,0.04,0.04,0.04,0.04,0.04,0.06,0.06,0.06,0.06,0.06,0.06,0.06,0.08,0.08,0.08,0.08,0.08,0.08,0.08,0.1,0.1,0.1,0.1,0.1,0.1,0.1,0.12,0.12,0.12,0.12,0.12,0.12,0.12,0.14,0.14,0.14,0.14,0.14,0.14,0.14,0.0626,0.0626,0.0626,0.0626,0.0626,0.0651,0.0651,0.0651,0.0651,0.0651,0.0651,0.0651,0.0651,0.0651,0.06760000000000001,0.06760000000000001,0.06760000000000001,0.06760000000000001,0.06760000000000001,0.06760000000000001,0.06760000000000001,0.06760000000000001,0.06760000000000001,0.0701,0.0701,0.0701,0.0701,0.0701,0.0701,0.0701,0.0701,0.0701]}],{\\\"xaxis\\\":{\\\"title\\\":{\\\"text\\\":\\\"Im(J□)\\\"}},\\\"template\\\":{\\\"layout\\\":{\\\"coloraxis\\\":{\\\"colorbar\\\":{\\\"ticks\\\":\\\"\\\",\\\"outlinewidth\\\":0}},\\\"xaxis\\\":{\\\"gridcolor\\\":\\\"white\\\",\\\"zerolinewidth\\\":2,\\\"title\\\":{\\\"standoff\\\":15},\\\"ticks\\\":\\\"\\\",\\\"zerolinecolor\\\":\\\"white\\\",\\\"automargin\\\":true,\\\"linecolor\\\":\\\"white\\\"},\\\"hovermode\\\":\\\"closest\\\",\\\"paper_bgcolor\\\":\\\"white\\\",\\\"geo\\\":{\\\"showlakes\\\":true,\\\"showland\\\":true,\\\"landcolor\\\":\\\"#E5ECF6\\\",\\\"bgcolor\\\":\\\"white\\\",\\\"subunitcolor\\\":\\\"white\\\",\\\"lakecolor\\\":\\\"white\\\"},\\\"colorscale\\\":{\\\"sequential\\\":[[0.0,\\\"#0d0887\\\"],[0.1111111111111111,\\\"#46039f\\\"],[0.2222222222222222,\\\"#7201a8\\\"],[0.3333333333333333,\\\"#9c179e\\\"],[0.4444444444444444,\\\"#bd3786\\\"],[0.5555555555555556,\\\"#d8576b\\\"],[0.6666666666666666,\\\"#ed7953\\\"],[0.7777777777777778,\\\"#fb9f3a\\\"],[0.8888888888888888,\\\"#fdca26\\\"],[1.0,\\\"#f0f921\\\"]],\\\"diverging\\\":[[0,\\\"#8e0152\\\"],[0.1,\\\"#c51b7d\\\"],[0.2,\\\"#de77ae\\\"],[0.3,\\\"#f1b6da\\\"],[0.4,\\\"#fde0ef\\\"],[0.5,\\\"#f7f7f7\\\"],[0.6,\\\"#e6f5d0\\\"],[0.7,\\\"#b8e186\\\"],[0.8,\\\"#7fbc41\\\"],[0.9,\\\"#4d9221\\\"],[1,\\\"#276419\\\"]],\\\"sequentialminus\\\":[[0.0,\\\"#0d0887\\\"],[0.1111111111111111,\\\"#46039f\\\"],[0.2222222222222222,\\\"#7201a8\\\"],[0.3333333333333333,\\\"#9c179e\\\"],[0.4444444444444444,\\\"#bd3786\\\"],[0.5555555555555556,\\\"#d8576b\\\"],[0.6666666666666666,\\\"#ed7953\\\"],[0.7777777777777778,\\\"#fb9f3a\\\"],[0.8888888888888888,\\\"#fdca26\\\"],[1.0,\\\"#f0f921\\\"]]},\\\"yaxis\\\":{\\\"gridcolor\\\":\\\"white\\\",\\\"zerolinewidth\\\":2,\\\"title\\\":{\\\"standoff\\\":15},\\\"ticks\\\":\\\"\\\",\\\"zerolinecolor\\\":\\\"white\\\",\\\"automargin\\\":true,\\\"linecolor\\\":\\\"white\\\"},\\\"shapedefaults\\\":{\\\"line\\\":{\\\"color\\\":\\\"#2a3f5f\\\"}},\\\"hoverlabel\\\":{\\\"align\\\":\\\"left\\\"},\\\"mapbox\\\":{\\\"style\\\":\\\"light\\\"},\\\"polar\\\":{\\\"angularaxis\\\":{\\\"gridcolor\\\":\\\"white\\\",\\\"ticks\\\":\\\"\\\",\\\"linecolor\\\":\\\"white\\\"},\\\"bgcolor\\\":\\\"#E5ECF6\\\",\\\"radialaxis\\\":{\\\"gridcolor\\\":\\\"white\\\",\\\"ticks\\\":\\\"\\\",\\\"linecolor\\\":\\\"white\\\"}},\\\"autotypenumbers\\\":\\\"strict\\\",\\\"font\\\":{\\\"color\\\":\\\"#2a3f5f\\\"},\\\"ternary\\\":{\\\"baxis\\\":{\\\"gridcolor\\\":\\\"white\\\",\\\"ticks\\\":\\\"\\\",\\\"linecolor\\\":\\\"white\\\"},\\\"bgcolor\\\":\\\"#E5ECF6\\\",\\\"caxis\\\":{\\\"gridcolor\\\":\\\"white\\\",\\\"ticks\\\":\\\"\\\",\\\"linecolor\\\":\\\"white\\\"},\\\"aaxis\\\":{\\\"gridcolor\\\":\\\"white\\\",\\\"ticks\\\":\\\"\\\",\\\"linecolor\\\":\\\"white\\\"}},\\\"annotationdefaults\\\":{\\\"arrowhead\\\":0,\\\"arrowwidth\\\":1,\\\"arrowcolor\\\":\\\"#2a3f5f\\\"},\\\"plot_bgcolor\\\":\\\"#E5ECF6\\\",\\\"title\\\":{\\\"x\\\":0.05},\\\"scene\\\":{\\\"xaxis\\\":{\\\"gridcolor\\\":\\\"white\\\",\\\"gridwidth\\\":2,\\\"backgroundcolor\\\":\\\"#E5ECF6\\\",\\\"ticks\\\":\\\"\\\",\\\"showbackground\\\":true,\\\"zerolinecolor\\\":\\\"white\\\",\\\"linecolor\\\":\\\"white\\\"},\\\"zaxis\\\":{\\\"gridcolor\\\":\\\"white\\\",\\\"gridwidth\\\":2,\\\"backgroundcolor\\\":\\\"#E5ECF6\\\",\\\"ticks\\\":\\\"\\\",\\\"showbackground\\\":true,\\\"zerolinecolor\\\":\\\"white\\\",\\\"linecolor\\\":\\\"white\\\"},\\\"yaxis\\\":{\\\"gridcolor\\\":\\\"white\\\",\\\"gridwidth\\\":2,\\\"backgroundcolor\\\":\\\"#E5ECF6\\\",\\\"ticks\\\":\\\"\\\",\\\"showbackground\\\":true,\\\"zerolinecolor\\\":\\\"white\\\",\\\"linecolor\\\":\\\"white\\\"}},\\\"colorway\\\":[\\\"#636efa\\\",\\\"#EF553B\\\",\\\"#00cc96\\\",\\\"#ab63fa\\\",\\\"#FFA15A\\\",\\\"#19d3f3\\\",\\\"#FF6692\\\",\\\"#B6E880\\\",\\\"#FF97FF\\\",\\\"#FECB52\\\"]},\\\"data\\\":{\\\"barpolar\\\":[{\\\"type\\\":\\\"barpolar\\\",\\\"marker\\\":{\\\"line\\\":{\\\"color\\\":\\\"#E5ECF6\\\",\\\"width\\\":0.5}}}],\\\"carpet\\\":[{\\\"aaxis\\\":{\\\"gridcolor\\\":\\\"white\\\",\\\"endlinecolor\\\":\\\"#2a3f5f\\\",\\\"minorgridcolor\\\":\\\"white\\\",\\\"startlinecolor\\\":\\\"#2a3f5f\\\",\\\"linecolor\\\":\\\"white\\\"},\\\"type\\\":\\\"carpet\\\",\\\"baxis\\\":{\\\"gridcolor\\\":\\\"white\\\",\\\"endlinecolor\\\":\\\"#2a3f5f\\\",\\\"minorgridcolor\\\":\\\"white\\\",\\\"startlinecolor\\\":\\\"#2a3f5f\\\",\\\"linecolor\\\":\\\"white\\\"}}],\\\"scatterpolar\\\":[{\\\"type\\\":\\\"scatterpolar\\\",\\\"marker\\\":{\\\"colorbar\\\":{\\\"ticks\\\":\\\"\\\",\\\"outlinewidth\\\":0}}}],\\\"parcoords\\\":[{\\\"line\\\":{\\\"colorbar\\\":{\\\"ticks\\\":\\\"\\\",\\\"outlinewidth\\\":0}},\\\"type\\\":\\\"parcoords\\\"}],\\\"scatter\\\":[{\\\"type\\\":\\\"scatter\\\",\\\"marker\\\":{\\\"colorbar\\\":{\\\"ticks\\\":\\\"\\\",\\\"outlinewidth\\\":0}}}],\\\"histogram2dcontour\\\":[{\\\"colorbar\\\":{\\\"ticks\\\":\\\"\\\",\\\"outlinewidth\\\":0},\\\"type\\\":\\\"histogram2dcontour\\\",\\\"colorscale\\\":[[0.0,\\\"#0d0887\\\"],[0.1111111111111111,\\\"#46039f\\\"],[0.2222222222222222,\\\"#7201a8\\\"],[0.3333333333333333,\\\"#9c179e\\\"],[0.4444444444444444,\\\"#bd3786\\\"],[0.5555555555555556,\\\"#d8576b\\\"],[0.6666666666666666,\\\"#ed7953\\\"],[0.7777777777777778,\\\"#fb9f3a\\\"],[0.8888888888888888,\\\"#fdca26\\\"],[1.0,\\\"#f0f921\\\"]]}],\\\"contour\\\":[{\\\"colorbar\\\":{\\\"ticks\\\":\\\"\\\",\\\"outlinewidth\\\":0},\\\"type\\\":\\\"contour\\\",\\\"colorscale\\\":[[0.0,\\\"#0d0887\\\"],[0.1111111111111111,\\\"#46039f\\\"],[0.2222222222222222,\\\"#7201a8\\\"],[0.3333333333333333,\\\"#9c179e\\\"],[0.4444444444444444,\\\"#bd3786\\\"],[0.5555555555555556,\\\"#d8576b\\\"],[0.6666666666666666,\\\"#ed7953\\\"],[0.7777777777777778,\\\"#fb9f3a\\\"],[0.8888888888888888,\\\"#fdca26\\\"],[1.0,\\\"#f0f921\\\"]]}],\\\"scattercarpet\\\":[{\\\"type\\\":\\\"scattercarpet\\\",\\\"marker\\\":{\\\"colorbar\\\":{\\\"ticks\\\":\\\"\\\",\\\"outlinewidth\\\":0}}}],\\\"mesh3d\\\":[{\\\"colorbar\\\":{\\\"ticks\\\":\\\"\\\",\\\"outlinewidth\\\":0},\\\"type\\\":\\\"mesh3d\\\"}],\\\"surface\\\":[{\\\"colorbar\\\":{\\\"ticks\\\":\\\"\\\",\\\"outlinewidth\\\":0},\\\"type\\\":\\\"surface\\\",\\\"colorscale\\\":[[0.0,\\\"#0d0887\\\"],[0.1111111111111111,\\\"#46039f\\\"],[0.2222222222222222,\\\"#7201a8\\\"],[0.3333333333333333,\\\"#9c179e\\\"],[0.4444444444444444,\\\"#bd3786\\\"],[0.5555555555555556,\\\"#d8576b\\\"],[0.6666666666666666,\\\"#ed7953\\\"],[0.7777777777777778,\\\"#fb9f3a\\\"],[0.8888888888888888,\\\"#fdca26\\\"],[1.0,\\\"#f0f921\\\"]]}],\\\"scattermapbox\\\":[{\\\"type\\\":\\\"scattermapbox\\\",\\\"marker\\\":{\\\"colorbar\\\":{\\\"ticks\\\":\\\"\\\",\\\"outlinewidth\\\":0}}}],\\\"scattergeo\\\":[{\\\"type\\\":\\\"scattergeo\\\",\\\"marker\\\":{\\\"colorbar\\\":{\\\"ticks\\\":\\\"\\\",\\\"outlinewidth\\\":0}}}],\\\"histogram\\\":[{\\\"type\\\":\\\"histogram\\\",\\\"marker\\\":{\\\"colorbar\\\":{\\\"ticks\\\":\\\"\\\",\\\"outlinewidth\\\":0}}}],\\\"pie\\\":[{\\\"type\\\":\\\"pie\\\",\\\"automargin\\\":true}],\\\"choropleth\\\":[{\\\"colorbar\\\":{\\\"ticks\\\":\\\"\\\",\\\"outlinewidth\\\":0},\\\"type\\\":\\\"choropleth\\\"}],\\\"heatmapgl\\\":[{\\\"colorbar\\\":{\\\"ticks\\\":\\\"\\\",\\\"outlinewidth\\\":0},\\\"type\\\":\\\"heatmapgl\\\",\\\"colorscale\\\":[[0.0,\\\"#0d0887\\\"],[0.1111111111111111,\\\"#46039f\\\"],[0.2222222222222222,\\\"#7201a8\\\"],[0.3333333333333333,\\\"#9c179e\\\"],[0.4444444444444444,\\\"#bd3786\\\"],[0.5555555555555556,\\\"#d8576b\\\"],[0.6666666666666666,\\\"#ed7953\\\"],[0.7777777777777778,\\\"#fb9f3a\\\"],[0.8888888888888888,\\\"#fdca26\\\"],[1.0,\\\"#f0f921\\\"]]}],\\\"bar\\\":[{\\\"type\\\":\\\"bar\\\",\\\"error_y\\\":{\\\"color\\\":\\\"#2a3f5f\\\"},\\\"error_x\\\":{\\\"color\\\":\\\"#2a3f5f\\\"},\\\"marker\\\":{\\\"line\\\":{\\\"color\\\":\\\"#E5ECF6\\\",\\\"width\\\":0.5}}}],\\\"heatmap\\\":[{\\\"colorbar\\\":{\\\"ticks\\\":\\\"\\\",\\\"outlinewidth\\\":0},\\\"type\\\":\\\"heatmap\\\",\\\"colorscale\\\":[[0.0,\\\"#0d0887\\\"],[0.1111111111111111,\\\"#46039f\\\"],[0.2222222222222222,\\\"#7201a8\\\"],[0.3333333333333333,\\\"#9c179e\\\"],[0.4444444444444444,\\\"#bd3786\\\"],[0.5555555555555556,\\\"#d8576b\\\"],[0.6666666666666666,\\\"#ed7953\\\"],[0.7777777777777778,\\\"#fb9f3a\\\"],[0.8888888888888888,\\\"#fdca26\\\"],[1.0,\\\"#f0f921\\\"]]}],\\\"contourcarpet\\\":[{\\\"colorbar\\\":{\\\"ticks\\\":\\\"\\\",\\\"outlinewidth\\\":0},\\\"type\\\":\\\"contourcarpet\\\"}],\\\"table\\\":[{\\\"type\\\":\\\"table\\\",\\\"header\\\":{\\\"line\\\":{\\\"color\\\":\\\"white\\\"},\\\"fill\\\":{\\\"color\\\":\\\"#C8D4E3\\\"}},\\\"cells\\\":{\\\"line\\\":{\\\"color\\\":\\\"white\\\"},\\\"fill\\\":{\\\"color\\\":\\\"#EBF0F8\\\"}}}],\\\"scatter3d\\\":[{\\\"line\\\":{\\\"colorbar\\\":{\\\"ticks\\\":\\\"\\\",\\\"outlinewidth\\\":0}},\\\"type\\\":\\\"scatter3d\\\",\\\"marker\\\":{\\\"colorbar\\\":{\\\"ticks\\\":\\\"\\\",\\\"outlinewidth\\\":0}}}],\\\"scattergl\\\":[{\\\"type\\\":\\\"scattergl\\\",\\\"marker\\\":{\\\"colorbar\\\":{\\\"ticks\\\":\\\"\\\",\\\"outlinewidth\\\":0}}}],\\\"histogram2d\\\":[{\\\"colorbar\\\":{\\\"ticks\\\":\\\"\\\",\\\"outlinewidth\\\":0},\\\"type\\\":\\\"histogram2d\\\",\\\"colorscale\\\":[[0.0,\\\"#0d0887\\\"],[0.1111111111111111,\\\"#46039f\\\"],[0.2222222222222222,\\\"#7201a8\\\"],[0.3333333333333333,\\\"#9c179e\\\"],[0.4444444444444444,\\\"#bd3786\\\"],[0.5555555555555556,\\\"#d8576b\\\"],[0.6666666666666666,\\\"#ed7953\\\"],[0.7777777777777778,\\\"#fb9f3a\\\"],[0.8888888888888888,\\\"#fdca26\\\"],[1.0,\\\"#f0f921\\\"]]}],\\\"scatterternary\\\":[{\\\"type\\\":\\\"scatterternary\\\",\\\"marker\\\":{\\\"colorbar\\\":{\\\"ticks\\\":\\\"\\\",\\\"outlinewidth\\\":0}}}],\\\"scatterpolargl\\\":[{\\\"type\\\":\\\"scatterpolargl\\\",\\\"marker\\\":{\\\"colorbar\\\":{\\\"ticks\\\":\\\"\\\",\\\"outlinewidth\\\":0}}}]}},\\\"margin\\\":{\\\"l\\\":50,\\\"b\\\":50,\\\"r\\\":50,\\\"t\\\":60},\\\"title\\\":{\\\"text\\\":\\\"Plaquette DMRG |δ x_σ| L=4, D150\\\",\\\"x\\\":0.5},\\\"yaxis\\\":{\\\"title\\\":{\\\"text\\\":\\\"Re(J□)\\\"}}},{\\\"showLink\\\":false,\\\"editable\\\":false,\\\"responsive\\\":true,\\\"staticPlot\\\":false,\\\"scrollZoom\\\":true}); gd.on(\\\"plotly_hover\\\",(function (data){var filtered_data=WebIO.PlotlyCommands.filterEventData(gd,data,\\\"hover\\\"); return !(filtered_data.isnil) ? (WebIO.setval({\\\"name\\\":\\\"hover\\\",\\\"scope\\\":\\\"1436803228452202798\\\",\\\"id\\\":\\\"341\\\",\\\"type\\\":\\\"observable\\\"},filtered_data.out)) : undefined})); gd.on(\\\"plotly_unhover\\\",(function (){return WebIO.setval({\\\"name\\\":\\\"hover\\\",\\\"scope\\\":\\\"1436803228452202798\\\",\\\"id\\\":\\\"341\\\",\\\"type\\\":\\\"observable\\\"},{})})); gd.on(\\\"plotly_selected\\\",(function (data){var filtered_data=WebIO.PlotlyCommands.filterEventData(gd,data,\\\"selected\\\"); return !(filtered_data.isnil) ? (WebIO.setval({\\\"name\\\":\\\"selected\\\",\\\"scope\\\":\\\"1436803228452202798\\\",\\\"id\\\":\\\"342\\\",\\\"type\\\":\\\"observable\\\"},filtered_data.out)) : undefined})); gd.on(\\\"plotly_deselect\\\",(function (){return WebIO.setval({\\\"name\\\":\\\"selected\\\",\\\"scope\\\":\\\"1436803228452202798\\\",\\\"id\\\":\\\"342\\\",\\\"type\\\":\\\"observable\\\"},{})})); gd.on(\\\"plotly_relayout\\\",(function (data){var filtered_data=WebIO.PlotlyCommands.filterEventData(gd,data,\\\"relayout\\\"); return !(filtered_data.isnil) ? (WebIO.setval({\\\"name\\\":\\\"relayout\\\",\\\"scope\\\":\\\"1436803228452202798\\\",\\\"id\\\":\\\"344\\\",\\\"type\\\":\\\"observable\\\"},filtered_data.out)) : undefined})); return gd.on(\\\"plotly_click\\\",(function (data){var filtered_data=WebIO.PlotlyCommands.filterEventData(gd,data,\\\"click\\\"); return !(filtered_data.isnil) ? (WebIO.setval({\\\"name\\\":\\\"click\\\",\\\"scope\\\":\\\"1436803228452202798\\\",\\\"id\\\":\\\"343\\\",\\\"type\\\":\\\"observable\\\"},filtered_data.out)) : undefined}))}));\\n    (WebIO.importBlock({\\\"data\\\":[{\\\"name\\\":\\\"Plotly\\\",\\\"type\\\":\\\"js\\\",\\\"url\\\":\\\"\\/assetserver\\/ea045726c9e6817144fcffeb0338f99560940283-plotly.min.js\\\"},{\\\"name\\\":null,\\\"type\\\":\\\"js\\\",\\\"url\\\":\\\"\\/assetserver\\/95b5156f246fb40d2c47dbceb1d72058a4ef06a9-plotly_webio.bundle.js\\\"}],\\\"type\\\":\\\"async_block\\\"})).then((imports) => handler.apply(this, imports));\\n}\\n\"],\"observables\":{\"_toImage\":{\"sync\":false,\"id\":\"348\",\"value\":{}},\"hover\":{\"sync\":false,\"id\":\"341\",\"value\":{}},\"selected\":{\"sync\":false,\"id\":\"342\",\"value\":{}},\"__gd_contents\":{\"sync\":false,\"id\":\"346\",\"value\":{}},\"click\":{\"sync\":false,\"id\":\"343\",\"value\":{}},\"image\":{\"sync\":true,\"id\":\"345\",\"value\":\"\"},\"__get_gd_contents\":{\"sync\":false,\"id\":\"350\",\"value\":\"\"},\"_downloadImage\":{\"sync\":false,\"id\":\"349\",\"value\":{}},\"relayout\":{\"sync\":false,\"id\":\"344\",\"value\":{}},\"_commands\":{\"sync\":false,\"id\":\"347\",\"value\":[]}}},\"children\":[{\"props\":{\"id\":\"plot-71b06964-8899-4f7e-ac90-c4407dc5abe2\"},\"nodeType\":\"DOM\",\"type\":\"node\",\"instanceArgs\":{\"namespace\":\"html\",\"tag\":\"div\"},\"children\":[]}]},\n",
       "        window,\n",
       "    );\n",
       "    })()\n",
       "    </script>\n",
       "</div>\n"
      ],
      "text/plain": [
       "data: [\n",
       "  \"contour with fields colorbar, fill, transpose, type, x, y, and z\"\n",
       "]\n",
       "\n",
       "layout: \"layout with fields margin, template, title, xaxis, and yaxis\"\n",
       "\n"
      ]
     },
     "metadata": {},
     "output_type": "display_data"
    }
   ],
   "source": [
    "using PlotlyJS\n",
    "using LaTeXStrings\n",
    "using JLD2\n",
    "L = 4\n",
    "D = 150\n",
    "Q = 5\n",
    "\n",
    "Results = load_object(\"Leading boundary plaquette DMRG $L,D150\")\n",
    "\n",
    "target = 0.134 − 0.021im\n",
    "\n",
    "z_values = [log(abs((log(Results[1,j]/Results[2,j])  - ((2*pi)/L)*log(1+sqrt(Q))*target))) for j in 1:l]\n",
    "p = PlotlyJS.plot(PlotlyJS.contour(   z=real(z_values),\n",
    "    x=real(-im*test_values),\n",
    "        y=real(test_values),fill=true,colorbar=attr(\n",
    "            title=\"log(|δ x_σ|)\", # title here\n",
    "            titleside=\"top\",\n",
    "            titlefont=attr(\n",
    "                size=14,\n",
    "                family=\"Arial, sans-serif\"\n",
    "            )\n",
    "        )),Layout(title=attr(text = \"Plaquette DMRG |δ x_σ| L=$L, D$D\",x = 0.5),xaxis_title=\"Im(J□)\",yaxis_title=\"Re(J□)\"))\n",
    "display(p)\n"
   ]
  }
 ],
 "metadata": {
  "kernelspec": {
   "display_name": "Julia 1.11.3",
   "language": "julia",
   "name": "julia-1.11"
  },
  "language_info": {
   "file_extension": ".jl",
   "mimetype": "application/julia",
   "name": "julia",
   "version": "1.11.3"
  }
 },
 "nbformat": 4,
 "nbformat_minor": 5
}
