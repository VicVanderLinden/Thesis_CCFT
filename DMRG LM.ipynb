{
 "cells": [
  {
   "cell_type": "code",
   "execution_count": null,
   "id": "1996f728-c30f-40b6-8a9a-37fcbe0c1d4d",
   "metadata": {},
   "outputs": [
    {
     "data": {
      "text/plain": [
       "Plaquette_Potts (generic function with 1 method)"
      ]
     },
     "metadata": {},
     "output_type": "display_data"
    }
   ],
   "source": [
    "using MPSKit\n",
    "using TensorKit\n",
    "using KrylovKit\n",
    "using TensorOperations\n",
    "using MPSKitModels\n",
    "function classical_Potts(q::Int64, β)\n",
    "    V = ℂ^q\n",
    "    A_potts = TensorMap(zeros,ComplexF64, V ⊗ V ← V ⊗ V)\n",
    "\n",
    "    for i in 1:q\n",
    "        for j in 1:q\n",
    "            for k in 1:q\n",
    "                for l in 1:q\n",
    "                    E = -(Int(i == j) + Int(j == k) + Int(k == l) + Int(l == i))\n",
    "                    A_potts[i, j, k, l] = exp(-β * E)\n",
    "                end\n",
    "            end\n",
    "        end\n",
    "    end\n",
    "    return A_potts\n",
    "end\n",
    "\n",
    "function Potts_extended(q::Int64, β,K)\n",
    "    V = ℂ^q\n",
    "    A_potts = TensorMap(zeros,ComplexF64, V ⊗ V ⊗  V ⊗ V ←  V ⊗ V ⊗  V ⊗ V )\n",
    "\n",
    "    for i in 1:q\n",
    "        for j in 1:q\n",
    "            for k in 1:q\n",
    "                for l in 1:q\n",
    "                    E = -(Int(i == j) + Int(j == k) + Int(k == l) + Int(l == i))\n",
    "                    A_potts[i, j, k, l] = exp(-β * E)\n",
    "                end\n",
    "            end\n",
    "        end\n",
    "    end\n",
    "    return A_potts\n",
    "end\n",
    "\n",
    "\n",
    "function Plaquette_Potts(q::Int64, β, J□;JΔ=0.0)\n",
    "    V = ℂ^q\n",
    "    data = ComplexF64[Int(i==j)*Int(j==k) for i=1:q, j=1:q, k=1:q]\n",
    "    δ3 = TensorMap(data, V ← V ⊗ V)\n",
    "    U = isometry(fuse(V, V), V ⊗ V)\n",
    "    A_potts = TensorMap(zeros,ComplexF64, V ⊗ V ← V ⊗ V)\n",
    "    \n",
    "    for i = 1:q\n",
    "        for j = 1:q\n",
    "            for k = 1:q\n",
    "                for l = 1:q\n",
    "                    # 0.5 factor for double counting the weight on the bond\n",
    "                    E = -(Int(i == j) + Int(j == k) + Int(k == l) + Int(l == i))/2\n",
    "                    E -= J□ * Int(i == j == k == l)\n",
    "                    E -= JΔ * (Int(i==j==k)+Int(j==k==l)+Int(k==l==i)+Int(l==i==j))\n",
    "                    A_potts[i, j, k, l] = exp(-β * E)\n",
    "                end\n",
    "            end\n",
    "        end\n",
    "    end\n",
    "    @tensor Afin[-1 -2;-3 -4] := A_potts[1 2;3 4]*δ3[5;1 11]*conj(δ3[2; 6 7])*conj(δ3[10;3 8])*δ3[4;9 12]*U[-1;5 6]*U[-2;7 8]*conj(U[-3;9 10])*conj(U[-4;11 12]);\n",
    "    #return Afin\n",
    "    return A_potts\n",
    "end"
   ]
  },
  {
   "cell_type": "code",
   "execution_count": 15,
   "id": "74ce3cef-3a14-4672-bbbb-5d6b813434a1",
   "metadata": {},
   "outputs": [],
   "source": [
    "N = 5\n",
    "test_values_1 = zeros(ComplexF64,(2*N-1)^2)\n",
    "l = length(test_values_1)\n",
    "distx = 0.5## distance from alleged fixed point 0.079+0.060i in real\n",
    "disty = 0.1# distance from alleged fixed point 0.079+0.060i in imaginary\n",
    "\n",
    "\n",
    "## snake like structure of test_values will allow for faster convergence when recycling ψ (because you don't jump the entire distx after the loop)\n",
    "for i in 1:1:(2*N-1)\n",
    "    if div(i,2) == 1\n",
    "        for j in 1:1:(2*N-1)\n",
    "            if i <N+1\n",
    "                if j<N+1\n",
    "                    test_values_1[i+(j-1)*(2*N-1)] =  (LinRange(-distx,0.00,N)[i])  .+0.284 + 1im*LinRange(-disty,0.00,N)[j] .+0.0im\n",
    "                else \n",
    "                    test_values_1[i+(j-1)*(2*N-1)] =  (LinRange(-distx,0.00,N)[i])  .+0.284 + 1im*LinRange(disty/(N-1),disty+disty/(N-1),N)[j-N] .+0.0im\n",
    "                end\n",
    "            else\n",
    "                if j<N+1\n",
    "                    test_values_1[i+(j-1)*(2*N-1)] =  (LinRange(distx/(N-1),distx+distx/(N-1),N)[i-N]) .+0.284  + 1im*LinRange(-disty,0.00,N)[j]  .+0.0im\n",
    "                else\n",
    "                    test_values_1[i+(j-1)*(2*N-1)] =  (LinRange(distx/(N-1),distx+distx/(N-1),N)[i-N])   .+0.284 + 1im*LinRange(disty/(N-1),disty+disty/(N-1),N)[j-N] .+0.0im\n",
    "                end\n",
    "            end \n",
    "        end\n",
    "    else\n",
    "        for j in (2*N-1):-1:1\n",
    "            if i <N+1\n",
    "                if j<N+1\n",
    "                    test_values_1[i+(j-1)*(2*N-1)] =  (LinRange(-distx,0.00,N)[i])  .+0.284 + 1im*LinRange(-disty,0.00,N)[j] .+0.0im\n",
    "                else \n",
    "                    test_values_1[i+(j-1)*(2*N-1)] =  (LinRange(-distx,0.00,N)[i])  .+0.284 + 1im*LinRange(disty/(N-1),disty+disty/(N-1),N)[j-N] .+0.0im\n",
    "                end\n",
    "            else\n",
    "                if j<N+1\n",
    "                    test_values_1[i+(j-1)*(2*N-1)] =  (LinRange(distx/(N-1),distx+distx/(N-1),N)[i-N]) .+ 0.284  + 1im*LinRange(-disty,0.00,N)[j]  .+0.0im\n",
    "                else\n",
    "                    test_values_1[i+(j-1)*(2*N-1)] =  (LinRange(distx/(N-1),distx+distx/(N-1),N)[i-N])   .+0.284 + 1im*LinRange(disty/(N-1),disty+disty/(N-1),N)[j-N] .+0.0im\n",
    "                end\n",
    "            end \n",
    "        end\n",
    "    end\n",
    "end"
   ]
  },
  {
   "cell_type": "code",
   "execution_count": 8,
   "id": "bc82c96d",
   "metadata": {},
   "outputs": [],
   "source": [
    "N = 5\n",
    "test_values_2 = zeros(ComplexF64,(2*N-1)^2)\n",
    "l = length(test_values_1)\n",
    "distx = 0.5## distance from alleged fixed point 0.079+0.060i in real\n",
    "disty = 0.3# distance from alleged fixed point 0.079+0.060i in imaginary\n",
    "\n",
    "\n",
    "## snake like structure of test_values will allow for faster convergence when recycling ψ (because you don't jump the entire distx after the loop)\n",
    "for i in 1:1:(2*N-1)\n",
    "    if div(i,2) == 1\n",
    "        for j in 1:1:(2*N-1)\n",
    "            if i <N+1\n",
    "                if j<N+1\n",
    "                    test_values_2[i+(j-1)*(2*N-1)] =  (LinRange(-distx,0.00,N)[i])  .+1 + 1im*LinRange(-disty,0.00,N)[j] .+0.3im\n",
    "                else \n",
    "                    test_values_2[i+(j-1)*(2*N-1)] =  (LinRange(-distx,0.00,N)[i])  .+1 + 1im*LinRange(disty/(N-1),disty+disty/(N-1),N)[j-N] .+0.3im\n",
    "                end\n",
    "            else\n",
    "                if j<N+1\n",
    "                    test_values_2[i+(j-1)*(2*N-1)] =  (LinRange(distx/(N-1),distx+distx/(N-1),N)[i-N]) .+1  + 1im*LinRange(-disty,0.00,N)[j]  .+0.3im\n",
    "                else\n",
    "                    test_values_2[i+(j-1)*(2*N-1)] =  (LinRange(distx/(N-1),distx+distx/(N-1),N)[i-N])   .+1 + 1im*LinRange(disty/(N-1),disty+disty/(N-1),N)[j-N] .+0.3im\n",
    "                end\n",
    "            end \n",
    "        end\n",
    "    else\n",
    "        for j in (2*N-1):-1:1\n",
    "            if i <N+1\n",
    "                if j<N+1\n",
    "                    test_values_2[i+(j-1)*(2*N-1)] =  (LinRange(-distx,0.00,N)[i])  .+1 + 1im*LinRange(-disty,0.00,N)[j] .+0.3im\n",
    "                else \n",
    "                    test_values_2[i+(j-1)*(2*N-1)] =  (LinRange(-distx,0.00,N)[i])  .+1 + 1im*LinRange(disty/(N-1),disty+disty/(N-1),N)[j-N] .+0.3im\n",
    "                end\n",
    "            else\n",
    "                if j<N+1\n",
    "                    test_values_2[i+(j-1)*(2*N-1)] =  (LinRange(distx/(N-1),distx+distx/(N-1),N)[i-N]) .+1  + 1im*LinRange(-disty,0.00,N)[j]  .+0.3im\n",
    "                else\n",
    "                    test_values_2[i+(j-1)*(2*N-1)] =  (LinRange(distx/(N-1),distx+distx/(N-1),N)[i-N])   .+1 + 1im*LinRange(disty/(N-1),disty+disty/(N-1),N)[j-N] .+0.3im\n",
    "                end\n",
    "            end \n",
    "        end\n",
    "    end\n",
    "end"
   ]
  },
  {
   "cell_type": "markdown",
   "id": "277b297d",
   "metadata": {},
   "source": [
    "#### DMRG METHOD"
   ]
  },
  {
   "cell_type": "code",
   "execution_count": 3,
   "id": "84165caa",
   "metadata": {},
   "outputs": [
    {
     "data": {
      "text/plain": [
       "find_groundstate_alt (generic function with 2 methods)"
      ]
     },
     "metadata": {},
     "output_type": "display_data"
    }
   ],
   "source": [
    "## note that TNRKit is not compatible with MPSKIT -> add/rm respectively\n",
    "\n",
    "function Potts_βc(q)\n",
    "      return log(1+sqrt(q))\n",
    "end\n",
    "\n",
    "### Finite (leading boundary) (does not work)\n",
    "# Results = zeros(ComplexF64,(3,l))\n",
    "# L = 3\n",
    "# ψ = FiniteMPS(L,ℂ^(Q^2), ℂ^D)\n",
    "# # infinte (leading boudary works)\n",
    "# for (i,J□) in enumerate(test_values)\n",
    "#     plaq = (periodic_boundary_conditions(DenseMPO(Plaquette_Potts(Q,Potts_βc(Q),J□)),L))\n",
    "#     # ## leading_boundary method \n",
    "#     ens = environments(ψ, plaq)\n",
    "#     ψ, envs, = leading_boundary(ψ, plaq,  VUMPS(; verbosity=0,alg_eigsolve=MPSKit.Defaults.alg_eigsolve(;ishermitian=false)),ens)# use non-hermitian eigensolver\n",
    "#     F = expectation_value(ψ, plaq)\n",
    "#     S = first(entropy(ψ))\n",
    "#     ξ = correlation_length(ψ)\n",
    "#     Results[:,i] = [F,S,ξ]\n",
    "#     println(i//l)\n",
    "# end\n",
    "\n",
    "\n",
    "\n",
    "# # ## INFITE (leading boundary)\n",
    "# using MPSKit: InfiniteMPO\n",
    "# Results = zeros(ComplexF64,(3,l))\n",
    "# ψ = InfiniteMPS(ℂ^(Q^2), ℂ^D)\n",
    "# # infinte (leading boudary works)\n",
    "# for (i,J□) in enumerate(test_values)\n",
    "#     plaq = qstate_clock() ### make sure boundary is correct\n",
    "\n",
    "#     # ## leading_boundary method \n",
    "#     ens = environments(ψ, plaq)\n",
    "#     ψ, envs, = leading_boundary(ψ, plaq,  VUMPS(; verbosity=0,alg_eigsolve=MPSKit.Defaults.alg_eigsolve(;ishermitian=false)),ens)# use non-hermitian eigensolver\n",
    "#     F = expectation_value(ψ, plaq)\n",
    "#     S = first(entropy(ψ))\n",
    "#     ξ = correlation_length(ψ)\n",
    "#     Results[:,i] = [F,S,ξ]\n",
    "#     println(i//l)\n",
    "# end\n",
    "\n",
    "\n",
    "\n",
    "\n",
    "\n",
    "\n",
    "\n",
    "\n",
    "# DMRG method (finite)\n",
    "    \n",
    "#  #### block symmetric (have yet to try)\n",
    "# ψ₀ = InfiniteMPS(ℂ^Q, ℂ^D);\n",
    "# V = Vect[ZNIrrep{Q}](sector=>1 for sector in 0:Q-1)  \n",
    "# # ψ₀ = FiniteMPS(L,V,Vect[ZNIrrep{Q}](sector=>D for sector in 0:Q-1)) \n",
    "\n",
    "using LoggingExtras\n",
    "using MPSKit: updatetol, ∂∂AC,normalize!,add!, MPOHamiltonian,IterLog,loginit!,logiter!,logfinish!,logcancel!,fixedpoint, Algorithm, FiniteQP,LinearCombination,ProjectionOperator\n",
    "\n",
    "\n",
    "\n",
    "### VUMPS ADAPTATION(doesnotconverge)\n",
    "function excitations_alt(H, alg::QuasiparticleAnsatz, ϕ₀::FiniteQP,\n",
    "    lenvs=environments(ϕ₀.left_gs, H),\n",
    "    renvs=ϕ₀.trivial ? lenvs : environments(ϕ₀.right_gs, H); num=1)\n",
    "qp_envs(ϕ) = environments(ϕ, H, lenvs, renvs)\n",
    "E = effective_excitation_renormalization_energy(H, ϕ₀, lenvs, renvs)\n",
    "H_eff(ϕ) = effective_excitation_hamiltonian(H, ϕ, qp_envs(ϕ), E)\n",
    "Es, ϕs, convhist = eigsolve(H_eff, ϕ₀, num, :LM, alg.alg)\n",
    "\n",
    "convhist.converged < num &&\n",
    "@warn \"excitation failed to converge: normres = $(convhist.normres)\"\n",
    "\n",
    "return Es, ϕs\n",
    "end\n",
    "function excitations_alt(H, alg::QuasiparticleAnsatz, lmps::FiniteMPS,\n",
    "    lenvs=environments(lmps, H), rmps::FiniteMPS=lmps,\n",
    "    renvs=lmps === rmps ? lenvs : environments(rmps, H);\n",
    "    sector=one(sectortype(lmps)), num=1)\n",
    "ϕ₀ = LeftGaugedQP(rand, lmps, rmps; sector)\n",
    "return excitations(H, alg, ϕ₀, lenvs, renvs; num)\n",
    "end\n",
    "\n",
    "### DMRG ADAPTATION\n",
    "@kwdef struct FiniteExcited_alt{A} <: Algorithm\n",
    "    \"optimization algorithm\"\n",
    "    gsalg::A = DMRG()\n",
    "    \"energy penalty for enforcing orthogonality with previous states\"\n",
    "    weight::Float64 = 1.0 ################THIS IS VARIABLE IN MY CODE -> because largest magn\n",
    "end\n",
    "function excitations_alt(H, alg::FiniteExcited_alt,\n",
    "    states::Tuple{T,Vararg{T}},energies; #\n",
    "    init=FiniteMPS([copy(first(states).AC[i])\n",
    "                    for i in 1:length(first(states))]),\n",
    "    num=1) where {T<:FiniteMPS}\n",
    "num == 0 && return (scalartype(T)[], T[])\n",
    "super_op = LinearCombination(tuple(H, ProjectionOperator.(states)...),\n",
    "                energies)\n",
    "envs = environments(init, super_op)\n",
    "ne, _ = find_groundstate_alt(init, super_op, DMRG(maxiter = 500,tol=1e-6, eigalg =MPSKit.Defaults.alg_eigsolve(; ishermitian=false)), envs)\n",
    "E = expectation_value(ne, H)\n",
    "nstates = (states..., ne)\n",
    "energies = (energies...,-E)\n",
    "println(energies)\n",
    "ens, excis = excitations_alt(H,alg, nstates,energies; init=init, num=num - 1) ## bit redudant, but don't want to screw up format\n",
    "\n",
    "push!(ens, expectation_value(ne, H))\n",
    "push!(excis, ne)\n",
    "\n",
    "return ens, excis\n",
    "end\n",
    "function excitations_alt(H, alg::FiniteExcited_alt, ψ::FiniteMPS,energies; kwargs...) #,energies::Tuple{Float64}\n",
    "return excitations_alt(H, alg, (ψ,),energies; kwargs...)\n",
    "end\n",
    "\n",
    "\n",
    "\n",
    "\n",
    "\n",
    "\n",
    "function calc_galerkin_alt(pos::Int, above::Union{InfiniteMPS,FiniteMPS,WindowMPS}, operator,\n",
    "    below, envs)\n",
    "AC´ = ∂∂AC(pos, above, operator, envs) * above.AC[pos]\n",
    "normalize!(AC´)\n",
    "out = add!(AC´, below.AL[pos] * below.AL[pos]' * AC´, -1)\n",
    "return norm(out)\n",
    "end\n",
    "\n",
    "function find_groundstate_alt(ψ::FiniteMPS, H, alg, envs=environments(ψ, H))\n",
    "    ϵs = map(pos -> calc_galerkin_alt(pos, ψ, H, ψ, envs), 1:length(ψ))\n",
    "    ϵ = maximum(ϵs)\n",
    "    log = IterLog(\"DMRG\")\n",
    "\n",
    "    LoggingExtras.withlevel(; alg.verbosity) do\n",
    "        @infov 2 loginit!(log, ϵ, expectation_value(ψ, H, envs))\n",
    "        for iter in 1:(alg.maxiter)\n",
    "            alg_eigsolve = updatetol(alg.eigalg, iter, ϵ)\n",
    "\n",
    "            zerovector!(ϵs)\n",
    "            for pos in [1:(length(ψ) - 1); length(ψ):-1:2]\n",
    "                h = ∂∂AC(pos, ψ, H, envs)\n",
    "                _, vec = fixedpoint(h, ψ.AC[pos], :LM, alg_eigsolve)\n",
    "                ϵs[pos] = max(ϵs[pos], calc_galerkin_alt(pos, ψ, H, ψ, envs))\n",
    "                ψ.AC[pos] = vec\n",
    "            end\n",
    "            ϵ = maximum(ϵs)\n",
    "\n",
    "            ψ, envs = alg.finalize(iter, ψ, H, envs)::Tuple{typeof(ψ),typeof(envs)}\n",
    "            if ϵ <= 5e-5 ### I manually coded this because for some reason it would be turne dto 1e-10 for exications\n",
    "                @infov 2 logfinish!(log, iter, ϵ, expectation_value(ψ, H, envs))\n",
    "                break\n",
    "            end\n",
    "            if iter == alg.maxiter\n",
    "                @warnv 1 logcancel!(log, iter, ϵ, expectation_value(ψ, H, envs))\n",
    "            else\n",
    "                @infov 3 logiter!(log, iter, ϵ, expectation_value(ψ, H, envs))\n",
    "            end\n",
    "        end\n",
    "    end\n",
    "    return ψ, envs, ϵ\n",
    "end\n"
   ]
  },
  {
   "cell_type": "code",
   "execution_count": 16,
   "id": "4f1dbba3",
   "metadata": {},
   "outputs": [],
   "source": [
    "D=150\n",
    "J=1\n",
    "h=1\n",
    "Q=5\n",
    "using JLD2\n",
    "l = length(test_values_1)\n",
    "Results = zeros(ComplexF64,(2,l^2))\n",
    "\n",
    "## fixing form first so others might converge quicker\n",
    "\n",
    "# plaq = @mpoham sum(-1*Plaquette_Potts(Q,Potts_βc(Q),0.1){i,i+1} for i in vertices(FiniteChain(L))[1:end-1]) - Plaquette_Potts(Q,Potts_βc(Q),0.1){vertices(FiniteChain(L))[end],vertices(FiniteChain(L))[1]}  \n",
    "# (ψ, envir , delta) = find_groundstate_alt(ψ, plaq, DMRG(maxiter = 500,tol=1e-4, eigalg =MPSKit.Defaults.alg_eigsolve(; ishermitian=false)))\n",
    "\n",
    "for L in [4]\n",
    "    l = length(test_values_1)\n",
    "    Results = zeros(ComplexF64,(2,l,l))\n",
    "\n",
    "    ψ = FiniteMPS(L,ℂ^(Q), ℂ^D)\n",
    "    ψ2 = FiniteMPS(L,ℂ^(Q), ℂ^D)\n",
    "    #ψ3 = FiniteMPS(L,ℂ^(Q), ℂ^D) if you want this need to change how init works\n",
    "    for (i,J□) in enumerate(test_values_2)\n",
    "        for (j,JΔ) in enumerate(test_values_1)\n",
    "        println(i/l)\n",
    "        plaq = @mpoham sum(-1*Plaquette_Potts(Q,Potts_βc(Q),J□,JΔ=JΔ){i,i+1} for i in vertices(FiniteChain(L))[1:end-1]) - Plaquette_Potts(Q,Potts_βc(Q),J□,JΔ=JΔ){vertices(FiniteChain(L))[end],vertices(FiniteChain(L))[1]}\n",
    "        (ψ, envir , delta) = find_groundstate_alt(ψ, plaq, DMRG(maxiter = 500,tol=1e-5, eigalg =MPSKit.Defaults.alg_eigsolve(; ishermitian=false)))\n",
    "        E = expectation_value(ψ, plaq)\n",
    "        En, state  = excitations_alt(plaq, FiniteExcited_alt(gsalg = DMRG(eigalg =MPSKit.Defaults.alg_eigsolve(maxiter = 500,tol=1e-5,ishermitian=false))), (ψ,),(1.0,-E),init = ψ2,num=1) \n",
    "        #En, state = excitations_alt(plaq, QuasiparticleAnsatz(ishermitian=false), ψ, envir;num=1) #(no convergence)\n",
    "        ψ2 = state[1]\n",
    "\n",
    "        #S = [entropy(ψ,i) for i in 0:L] ###only gives the real parts (for now)\n",
    "        println(E)\n",
    "        println(En)\n",
    "        #println(S)\n",
    "        Results[1,i,j] = E\n",
    "        Results[2,i,j] = En[1]\n",
    "        #Results[3,i] = En[2]\n",
    "        end\n",
    "    end\n",
    "\n",
    "    save_object(\"Big Run DMRG est Triangle $L,D$D\",Results)\n",
    "end"
   ]
  },
  {
   "cell_type": "code",
   "execution_count": 17,
   "id": "74f08845",
   "metadata": {},
   "outputs": [],
   "source": [
    "using PlotlyJS\n",
    "using LaTeXStrings\n",
    "using JLD2\n",
    "L = 4\n",
    "D = 250\n",
    "Q = 5\n",
    "function Potts_βc(q)\n",
    "    return log(1+sqrt(q))\n",
    "end\n",
    "Results = load_object(\"Big Run DMRG est Triangle $L,D150\")\n",
    "for (j,J□) in enumerate(test_values_2)\n",
    "    # z_values = (Results[1,:])/L\n",
    "#     p = PlotlyJS.plot(PlotlyJS.contour(   z=real(z_values),\n",
    "#     x=real(-im*test_values),\n",
    "#         y=real(test_values),fill=true,colorbar=attr(\n",
    "#             title=\"Re(F)\", # title here\n",
    "#             titleside=\"top\",\n",
    "#             titlefont=attr(\n",
    "#                 size=14,\n",
    "#                 family=\"Arial, sans-serif\"\n",
    "#             )\n",
    "#         )),Layout(title=attr(text = \"Free energy of finite Plaquette transfermatrix L=$L, D$D\",x = 0.5),xaxis_title=\"Im(J□)\",yaxis_title=\"Re(J□)\"))\n",
    "\n",
    "\n",
    "# PlotlyJS.savefig(p,\"real free energy of finite PlaquetteL=$L, D$D.png\") \n",
    "\n",
    "\n",
    "# z_values = (Results[1,:])/L\n",
    "# p = PlotlyJS.plot(PlotlyJS.contour(   z=real(-1im*z_values),\n",
    "#     x=real(-im*test_values),\n",
    "#         y=real(test_values),fill=true,colorbar=attr(\n",
    "#             title=\"Im(F)\", # title here\n",
    "#             titleside=\"top\",\n",
    "#             titlefont=attr(\n",
    "#                 size=14,\n",
    "#                 family=\"Arial, sans-serif\"\n",
    "#             )\n",
    "#         )),Layout(title=attr(text = \"Free energy of finite Plaquette transfermatrix L=$L, D$D\",x = 0.5),xaxis_title=\"Im(J□)\",yaxis_title=\"Re(J□)\"))\n",
    "\n",
    "\n",
    "# PlotlyJS.savefig(p,\"Im free energy of finite PlaquetteL=$L, D$D.png\") \n",
    "\n",
    "target = 0.134 − 0.021im\n",
    "z_values = [log(abs((log(Results[1,j,i]/Results[2,j,i])  - ((2*pi)/L)*log(1+sqrt(Q))*target))) for i in 1:l]\n",
    "p = PlotlyJS.plot(PlotlyJS.contour(   z=real(z_values),\n",
    "    x=real(-im*test_values_1),\n",
    "        y=real(test_values_1),fill=true,colorbar=attr(\n",
    "            title=\"log(|δ x_σ|)\", # title here\n",
    "            titleside=\"top\",\n",
    "            titlefont=attr(\n",
    "                size=14,\n",
    "                family=\"Arial, sans-serif\"\n",
    "            )\n",
    "        )),Layout(title=attr(text = \"Triangle DMRG |δ x_σ| J□ $J□ L=$L, D$D\",x = 0.5),xaxis_title=\"Im(JΔ)\",yaxis_title=\"Re(JΔ)\"))\n",
    "\n",
    "\n",
    "PlotlyJS.savefig(p,\"scaling dimension Triangle J□ $J□ L=L=$L, D$D.png\")\n",
    "end"
   ]
  },
  {
   "cell_type": "code",
   "execution_count": 10,
   "id": "4e521516",
   "metadata": {},
   "outputs": [],
   "source": [
    "println(test_values)"
   ]
  },
  {
   "cell_type": "code",
   "execution_count": 12,
   "id": "ba04830d",
   "metadata": {},
   "outputs": [
    {
     "ename": "SystemError",
     "evalue": "SystemError: opening file \"DMRG est Triangle 8,D50\": No such file or directory",
     "output_type": "error",
     "traceback": [
      "SystemError: opening file \"DMRG est Triangle 8,D50\": No such file or directory\n",
      "\n",
      "Stacktrace:\n",
      "  [1] systemerror(p::String, errno::Int32; extrainfo::Nothing)\n",
      "    @ Base .\\error.jl:176\n",
      "  [2] systemerror\n",
      "    @ .\\error.jl:176\n",
      "  [3] systemerror\n",
      "    @ .\\error.jl:175 [inlined]\n",
      "  [4] open(fname::String; lock::Bool, read::Bool, write::Bool, create::Bool, truncate::Bool, append::Bool)\n",
      "    @ Base .\\iostream.jl:295\n",
      "  [5] open\n",
      "    @ .\\iostream.jl:277 [inlined]\n",
      "  [6] openfile\n",
      "    @ C:\\Users\\vicva\\.julia\\packages\\JLD2\\nPYlZ\\src\\JLD2.jl:143 [inlined]\n",
      "  [7] openfile(T::Type, fname::String, wr::Bool, create::Bool, truncate::Bool, fallback::Type)\n",
      "    @ JLD2 C:\\Users\\vicva\\.julia\\packages\\JLD2\\nPYlZ\\src\\JLD2.jl:154\n",
      "  [8] jldopen(fname::String, wr::Bool, create::Bool, truncate::Bool, iotype::Type{JLD2.MmapIO}; fallback::Type{IOStream}, compress::Bool, mmaparrays::Bool, typemap::Dict{String, Any}, parallel_read::Bool, plain::Bool)\n",
      "    @ JLD2 C:\\Users\\vicva\\.julia\\packages\\JLD2\\nPYlZ\\src\\JLD2.jl:215\n",
      "  [9] jldopen\n",
      "    @ C:\\Users\\vicva\\.julia\\packages\\JLD2\\nPYlZ\\src\\JLD2.jl:164 [inlined]\n",
      " [10] #jldopen#23\n",
      "    @ C:\\Users\\vicva\\.julia\\packages\\JLD2\\nPYlZ\\src\\JLD2.jl:286 [inlined]\n",
      " [11] jldopen(fname::String, mode::String)\n",
      "    @ JLD2 C:\\Users\\vicva\\.julia\\packages\\JLD2\\nPYlZ\\src\\JLD2.jl:279\n",
      " [12] jldopen(::Function, ::String, ::Vararg{String}; kws::@Kwargs{})\n",
      "    @ JLD2 C:\\Users\\vicva\\.julia\\packages\\JLD2\\nPYlZ\\src\\loadsave.jl:2\n",
      " [13] jldopen\n",
      "    @ C:\\Users\\vicva\\.julia\\packages\\JLD2\\nPYlZ\\src\\loadsave.jl:1 [inlined]\n",
      " [14] load_object(filename::String)\n",
      "    @ JLD2 C:\\Users\\vicva\\.julia\\packages\\JLD2\\nPYlZ\\src\\loadsave.jl:248\n",
      " [15] top-level scope\n",
      "    @ c:\\Users\\vicva\\OneDrive\\Documenten\\git\\Thesis_CCFT\\jl_notebook_cell_df34fa98e69747e1a8f8a730347b8e2f_X11sZmlsZQ==.jl:9"
     ]
    }
   ],
   "source": [
    "L = 8\n",
    "D = 50\n",
    "Q = 5\n",
    "using JLD2\n",
    "using PlotlyJS\n",
    "function Potts_βc(q)\n",
    "    return log(1+sqrt(q))\n",
    "end\n",
    "Results = load_object(\"DMRG est Triangle 8,D50\")\n",
    "\n",
    "z_values = (Results[1,:])/L\n",
    "p = PlotlyJS.plot(PlotlyJS.contour(   z=real(z_values),\n",
    "    x=real(-im*test_values),\n",
    "        y=real(test_values),fill=true,colorbar=attr(\n",
    "            title=\"Re(F)\", # title here\n",
    "            titleside=\"top\",\n",
    "            titlefont=attr(\n",
    "                size=14,\n",
    "                family=\"Arial, sans-serif\"\n",
    "            )\n",
    "        )),Layout(title=attr(text = \"Free energy of finite Plaquette transfermatrix L=$L, D$D\",x = 0.5),xaxis_title=\"Im(J□)\",yaxis_title=\"Re(J□)\"))\n",
    "\n",
    "\n",
    "PlotlyJS.savefig(p,\"real free energy of finite PlaquetteL=$L, D$D.png\") \n",
    "\n",
    "\n",
    "z_values = (Results[1,:])/L\n",
    "p = PlotlyJS.plot(PlotlyJS.contour(   z=real(-1im*z_values),\n",
    "    x=real(-im*test_values_1),\n",
    "        y=real(test_values_1),fill=true,colorbar=attr(\n",
    "            title=\"Im(F)\", # title here\n",
    "            titleside=\"top\",\n",
    "            titlefont=attr(\n",
    "                size=14,\n",
    "                family=\"Arial, sans-serif\"\n",
    "            )\n",
    "        )),Layout(title=attr(text = \"Free energy of finite Plaquette transfermatrix L=$L, D$D\",x = 0.5),xaxis_title=\"Im(J□)\",yaxis_title=\"Re(J□)\"))\n",
    "\n",
    "\n",
    "PlotlyJS.savefig(p,\"Im free energy of finite PlaquetteL=$L, D$D.png\") \n",
    "\n",
    "target = 0.134 − 0.021im\n",
    "z_values = [log(abs((log(Results[1,i]/Results[2,i])  - ((2*pi)/L)*log(1+sqrt(Q))*target))) for i in 1:l]\n",
    "p = PlotlyJS.plot(PlotlyJS.contour(   z=real(z_values),\n",
    "    x=real(-im*test_values),\n",
    "        y=real(test_values),fill=true,colorbar=attr(\n",
    "            title=\"log(|δ x_σ|)\", # title here\n",
    "            titleside=\"top\",\n",
    "            titlefont=attr(\n",
    "                size=14,\n",
    "                family=\"Arial, sans-serif\"\n",
    "            )\n",
    "        )),Layout(title=attr(text = \"PTriangle DMRG |δ x_σ| L=$L, D$D\",x = 0.5),xaxis_title=\"Im(J□)\",yaxis_title=\"Re(J□)\"))\n",
    "\n",
    "\n",
    "PlotlyJS.savefig(p,\"scaling dimension Triangle VUMPS L=$L, D$D.png\")"
   ]
  },
  {
   "cell_type": "code",
   "execution_count": 7,
   "id": "712d7297",
   "metadata": {},
   "outputs": [
    {
     "data": {
      "text/plain": [
       "tmatrix (generic function with 1 method)"
      ]
     },
     "metadata": {},
     "output_type": "display_data"
    }
   ],
   "source": [
    "using LinearAlgebra\n",
    "function eye(m)\n",
    "    return Matrix{ComplexF64}(I,m,m)\n",
    "end\n",
    "\n",
    "function Potts_βc(q)\n",
    "    return log(1+sqrt(q))\n",
    "end\n",
    "function tmatrix(Q,beta,lambda)\n",
    "\n",
    "    # H = zeros(ComplexF64,(Q^(2),Q^(2)))\n",
    "    \n",
    "    \n",
    "  \n",
    "    # H += lambda *reshape(sum(sum(    potts_phase_shift_combined(;q=Q,k=k,p=p).data for k in 1:1:Q-1) for p in 1:1:Q-1),(Q^2,Q^2))\n",
    "\n",
    "    # H += -reshape(sum(potts_phase(;q=Q,k=k).data for k in 1:1:Q-1),(Q^2,Q^2))\n",
    " \n",
    "    # H += -reshape(kron(eye(Q),sum((potts_spin_shift(; q = Q,k=j).data) for j in 1:1:Q-1)),(Q^2,Q^2)) ## i think it was the reshape!\n",
    "    L = 2\n",
    "    H = zeros(ComplexF64,(Q^L,Q^L))\n",
    "    sigma = zeros(ComplexF64,Q,Q)\n",
    "    tau = zeros(ComplexF64,Q,Q)\n",
    "    identity_e = zeros(ComplexF64,Q,Q)\n",
    "    for i in 1:Q\n",
    "        sigma[i, i] = cis(2*pi*(i-1)/Q)\n",
    "        tau[i,mod1(i + 1, Q)] = 1\n",
    "        identity_e[i,i]= 1\n",
    "    end\n",
    "    for i in 1:L-1\n",
    "        H +=  kron(kron(eye(Q^(i-1)),lambda* sum(sum(kron(tau^k, identity_e) * kron(sigma', sigma)^p + kron(identity_e ,tau^k) * kron(sigma', sigma)^p + kron(sigma', sigma)^k * kron(tau^p, identity_e) +  kron(sigma', sigma)^k * kron(identity_e ,tau^p) for k in 1:1:Q-1) for p in 1:1:Q-1)), eye(Q^(L-i-1)))\n",
    "        H += -0.5*kron(kron(eye(Q^(i-1)),(sum((tau^k) for k in 1:1:Q-1))),eye(Q^(L-i))) \n",
    "        H +=  -kron(kron(eye(Q^(i-1)), sum(kron(sigma'^k,sigma^k) for k in 1:Q-1)), eye(Q^(L-i-1)))\n",
    "\n",
    "    end\n",
    "    H += -0.5*kron(eye(Q^(L-1)),sum((tau^k) for k in 1:1:Q-1)) #(not added since this is in the next one)\n",
    "    \n",
    "    Transfer_Matrix = exp(-log(1+sqrt(Q))*transpose(H) )   #### a little bit wrong since you work with beta/n -> in fractions this is okay but the first two plots are not representative\n",
    "    V= ℂ^Q\n",
    "    A_CCFT = TensorMap(Transfer_Matrix, V ⊗ V ← V ⊗ V)   \n",
    "    return A_CCFT\n",
    "end"
   ]
  },
  {
   "cell_type": "code",
   "execution_count": 8,
   "id": "6d825fc4",
   "metadata": {},
   "outputs": [
    {
     "name": "stdout",
     "output_type": "stream",
     "text": [
      "0.012345679012345678\n"
     ]
    },
    {
     "name": "stderr",
     "output_type": "stream",
     "text": [
      "┌ Info: DMRG init:\tobj = +2.006993366413e+03 +2.378430484391e+03im\terr = 2.6646e-01\n",
      "└ @ Main c:\\Users\\vicva\\OneDrive\\Documenten\\git\\Thesis_CCFT\\jl_notebook_cell_df34fa98e69747e1a8f8a730347b8e2f_W3sZmlsZQ==.jl:136\n",
      "┌ Info: DMRG   1:\tobj = +2.391930961913e+03 +2.823111163091e+03im\terr = 1.0012024307e-08\ttime = 6.14 sec\n",
      "└ @ Main c:\\Users\\vicva\\OneDrive\\Documenten\\git\\Thesis_CCFT\\jl_notebook_cell_df34fa98e69747e1a8f8a730347b8e2f_W3sZmlsZQ==.jl:157\n",
      "┌ Info: DMRG conv 2:\tobj = +2.391930962157e+03 +2.823111162964e+03im\terr = 1.9123270791e-15\ttime = 6.76 sec\n",
      "└ @ Main c:\\Users\\vicva\\OneDrive\\Documenten\\git\\Thesis_CCFT\\jl_notebook_cell_df34fa98e69747e1a8f8a730347b8e2f_W3sZmlsZQ==.jl:151\n",
      "┌ Info: DMRG init:\tobj = -5.193801874567e+03 -6.120431622465e+03im\terr = 7.5231e-01\n",
      "└ @ Main c:\\Users\\vicva\\OneDrive\\Documenten\\git\\Thesis_CCFT\\jl_notebook_cell_df34fa98e69747e1a8f8a730347b8e2f_W3sZmlsZQ==.jl:136\n",
      "┌ Info: DMRG   1:\tobj = +1.618341912085e+03 +1.742233250087e+03im\terr = 1.7916558653e-08\ttime = 1.36 sec\n",
      "└ @ Main c:\\Users\\vicva\\OneDrive\\Documenten\\git\\Thesis_CCFT\\jl_notebook_cell_df34fa98e69747e1a8f8a730347b8e2f_W3sZmlsZQ==.jl:157\n",
      "┌ Info: DMRG conv 2:\tobj = +1.618341911886e+03 +1.742233250384e+03im\terr = 5.0942251615e-15\ttime = 1.50 sec\n",
      "└ @ Main c:\\Users\\vicva\\OneDrive\\Documenten\\git\\Thesis_CCFT\\jl_notebook_cell_df34fa98e69747e1a8f8a730347b8e2f_W3sZmlsZQ==.jl:151\n"
     ]
    },
    {
     "name": "stdout",
     "output_type": "stream",
     "text": [
      "(1.0, -2391.9309621573443 - 2823.111162964168im, -1618.3419118857134 - 1742.2332503837931im)\n",
      "2391.9309621573443 + 2823.111162964168im\n",
      "ComplexF64[1618.3419118857134 + 1742.2332503837931im]\n",
      "0.024691358024691357\n"
     ]
    },
    {
     "name": "stderr",
     "output_type": "stream",
     "text": [
      "┌ Info: DMRG init:\tobj = +1.926102416283e+03 +2.271559059135e+03im\terr = 3.6438e-03\n",
      "└ @ Main c:\\Users\\vicva\\OneDrive\\Documenten\\git\\Thesis_CCFT\\jl_notebook_cell_df34fa98e69747e1a8f8a730347b8e2f_W3sZmlsZQ==.jl:136\n",
      "┌ Info: DMRG   1:\tobj = +1.926247987483e+03 +2.271114458648e+03im\terr = 3.0961374701e-10\ttime = 0.08 sec\n",
      "└ @ Main c:\\Users\\vicva\\OneDrive\\Documenten\\git\\Thesis_CCFT\\jl_notebook_cell_df34fa98e69747e1a8f8a730347b8e2f_W3sZmlsZQ==.jl:157\n",
      "┌ Info: DMRG conv 2:\tobj = +1.926247987482e+03 +2.271114458647e+03im\terr = 1.6493474686e-15\ttime = 0.16 sec\n",
      "└ @ Main c:\\Users\\vicva\\OneDrive\\Documenten\\git\\Thesis_CCFT\\jl_notebook_cell_df34fa98e69747e1a8f8a730347b8e2f_W3sZmlsZQ==.jl:151\n",
      "┌ Info: DMRG init:\tobj = +1.324830020899e+03 +1.410293350308e+03im\terr = 7.9932e-03\n",
      "└ @ Main c:\\Users\\vicva\\OneDrive\\Documenten\\git\\Thesis_CCFT\\jl_notebook_cell_df34fa98e69747e1a8f8a730347b8e2f_W3sZmlsZQ==.jl:136\n",
      "┌ Info: DMRG   1:\tobj = +1.325644925339e+03 +1.407033715245e+03im\terr = 1.7727260332e-09\ttime = 0.10 sec\n",
      "└ @ Main c:\\Users\\vicva\\OneDrive\\Documenten\\git\\Thesis_CCFT\\jl_notebook_cell_df34fa98e69747e1a8f8a730347b8e2f_W3sZmlsZQ==.jl:157\n"
     ]
    },
    {
     "name": "stdout",
     "output_type": "stream",
     "text": [
      "(1.0, -1926.247987481897 - 2271.1144586468577im, -1325.6449253303267 - 1407.0337152445989im)\n",
      "1926.247987481897 + 2271.1144586468577im\n",
      "ComplexF64[1325.6449253303267 + 1407.0337152445989im]\n",
      "0.037037037037037035\n"
     ]
    },
    {
     "name": "stderr",
     "output_type": "stream",
     "text": [
      "┌ Info: DMRG conv 2:\tobj = +1.325644925330e+03 +1.407033715245e+03im\terr = 1.1706852839e-15\ttime = 0.23 sec\n",
      "└ @ Main c:\\Users\\vicva\\OneDrive\\Documenten\\git\\Thesis_CCFT\\jl_notebook_cell_df34fa98e69747e1a8f8a730347b8e2f_W3sZmlsZQ==.jl:151\n",
      "┌ Info: DMRG init:\tobj = +1.551400200381e+03 +1.827396579290e+03im\terr = 4.2873e-03\n",
      "└ @ Main c:\\Users\\vicva\\OneDrive\\Documenten\\git\\Thesis_CCFT\\jl_notebook_cell_df34fa98e69747e1a8f8a730347b8e2f_W3sZmlsZQ==.jl:136\n",
      "┌ Info: DMRG   1:\tobj = +1.551537244877e+03 +1.826883497941e+03im\terr = 5.5770046801e-10\ttime = 0.08 sec\n",
      "└ @ Main c:\\Users\\vicva\\OneDrive\\Documenten\\git\\Thesis_CCFT\\jl_notebook_cell_df34fa98e69747e1a8f8a730347b8e2f_W3sZmlsZQ==.jl:157\n",
      "┌ Info: DMRG conv 2:\tobj = +1.551537244875e+03 +1.826883497939e+03im\terr = 1.2173044312e-15\ttime = 0.17 sec\n",
      "└ @ Main c:\\Users\\vicva\\OneDrive\\Documenten\\git\\Thesis_CCFT\\jl_notebook_cell_df34fa98e69747e1a8f8a730347b8e2f_W3sZmlsZQ==.jl:151\n",
      "┌ Info: DMRG init:\tobj = +1.088226350948e+03 +1.139343301594e+03im\terr = 9.3904e-03\n",
      "└ @ Main c:\\Users\\vicva\\OneDrive\\Documenten\\git\\Thesis_CCFT\\jl_notebook_cell_df34fa98e69747e1a8f8a730347b8e2f_W3sZmlsZQ==.jl:136\n",
      "┌ Info: DMRG   1:\tobj = +1.088972814291e+03 +1.135547630271e+03im\terr = 2.3702689226e-09\ttime = 0.12 sec\n",
      "└ @ Main c:\\Users\\vicva\\OneDrive\\Documenten\\git\\Thesis_CCFT\\jl_notebook_cell_df34fa98e69747e1a8f8a730347b8e2f_W3sZmlsZQ==.jl:157\n"
     ]
    },
    {
     "name": "stdout",
     "output_type": "stream",
     "text": [
      "(1.0, -1551.53724487457 - 1826.8834979387968im, -1088.9728143020125 - 1135.5476302570664im)\n",
      "1551.53724487457 + 1826.8834979387968im"
     ]
    },
    {
     "name": "stderr",
     "output_type": "stream",
     "text": [
      "┌ Info: DMRG conv 2:\tobj = +1.088972814302e+03 +1.135547630257e+03im\terr = 1.2331715880e-15\ttime = 0.30 sec\n",
      "└ @ Main c:\\Users\\vicva\\OneDrive\\Documenten\\git\\Thesis_CCFT\\jl_notebook_cell_df34fa98e69747e1a8f8a730347b8e2f_W3sZmlsZQ==.jl:151\n"
     ]
    },
    {
     "name": "stdout",
     "output_type": "stream",
     "text": [
      "\n",
      "ComplexF64[1088.9728143020125 + 1135.5476302570664im]\n",
      "0.04938271604938271\n"
     ]
    },
    {
     "name": "stderr",
     "output_type": "stream",
     "text": [
      "┌ Info: DMRG init:\tobj = +1.249872722673e+03 +1.469889750182e+03im\terr = 5.1115e-03\n",
      "└ @ Main c:\\Users\\vicva\\OneDrive\\Documenten\\git\\Thesis_CCFT\\jl_notebook_cell_df34fa98e69747e1a8f8a730347b8e2f_W3sZmlsZQ==.jl:136\n",
      "┌ Info: DMRG   1:\tobj = +1.249996485452e+03 +1.469281131473e+03im\terr = 1.1004428512e-09\ttime = 0.10 sec\n",
      "└ @ Main c:\\Users\\vicva\\OneDrive\\Documenten\\git\\Thesis_CCFT\\jl_notebook_cell_df34fa98e69747e1a8f8a730347b8e2f_W3sZmlsZQ==.jl:157\n",
      "┌ Info: DMRG conv 2:\tobj = +1.249996485448e+03 +1.469281131467e+03im\terr = 1.1814982362e-15\ttime = 0.22 sec\n",
      "└ @ Main c:\\Users\\vicva\\OneDrive\\Documenten\\git\\Thesis_CCFT\\jl_notebook_cell_df34fa98e69747e1a8f8a730347b8e2f_W3sZmlsZQ==.jl:151\n",
      "┌ Info: DMRG init:\tobj = +8.970260669287e+02 +9.197680291897e+02im\terr = 1.1131e-02\n",
      "└ @ Main c:\\Users\\vicva\\OneDrive\\Documenten\\git\\Thesis_CCFT\\jl_notebook_cell_df34fa98e69747e1a8f8a730347b8e2f_W3sZmlsZQ==.jl:136\n",
      "┌ Info: DMRG   1:\tobj = +8.976521483135e+02 +9.152516846919e+02im\terr = 3.3594519697e-09\ttime = 0.16 sec\n",
      "└ @ Main c:\\Users\\vicva\\OneDrive\\Documenten\\git\\Thesis_CCFT\\jl_notebook_cell_df34fa98e69747e1a8f8a730347b8e2f_W3sZmlsZQ==.jl:157\n"
     ]
    },
    {
     "name": "stdout",
     "output_type": "stream",
     "text": [
      "(1.0, -1249.9964854483871 - 1469.2811314665719im, -897.6521483635697 - 915.2516846694424im)\n",
      "1249.9964854483871 + 1469.2811314665719im\n",
      "ComplexF64[897.6521483635697 + 915.2516846694424im]\n",
      "0.06172839506172839\n"
     ]
    },
    {
     "name": "stderr",
     "output_type": "stream",
     "text": [
      "┌ Info: DMRG conv 2:\tobj = +8.976521483636e+02 +9.152516846694e+02im\terr = 1.5501427184e-15\ttime = 0.32 sec\n",
      "└ @ Main c:\\Users\\vicva\\OneDrive\\Documenten\\git\\Thesis_CCFT\\jl_notebook_cell_df34fa98e69747e1a8f8a730347b8e2f_W3sZmlsZQ==.jl:151\n",
      "┌ Info: DMRG init:\tobj = +1.007178737363e+03 +1.182006507837e+03im\terr = 6.1890e-03\n",
      "└ @ Main c:\\Users\\vicva\\OneDrive\\Documenten\\git\\Thesis_CCFT\\jl_notebook_cell_df34fa98e69747e1a8f8a730347b8e2f_W3sZmlsZQ==.jl:136\n",
      "┌ Info: DMRG   1:\tobj = +1.007281011692e+03 +1.181262211633e+03im\terr = 2.8673723328e-09\ttime = 0.12 sec\n",
      "└ @ Main c:\\Users\\vicva\\OneDrive\\Documenten\\git\\Thesis_CCFT\\jl_notebook_cell_df34fa98e69747e1a8f8a730347b8e2f_W3sZmlsZQ==.jl:157\n",
      "┌ Info: DMRG conv 2:\tobj = +1.007281011681e+03 +1.181262211613e+03im\terr = 1.2251709790e-15\ttime = 0.23 sec\n",
      "└ @ Main c:\\Users\\vicva\\OneDrive\\Documenten\\git\\Thesis_CCFT\\jl_notebook_cell_df34fa98e69747e1a8f8a730347b8e2f_W3sZmlsZQ==.jl:151\n",
      "┌ Info: DMRG init:\tobj = +7.426378517453e+02 +7.414470459206e+02im\terr = 1.3322e-02\n",
      "└ @ Main c:\\Users\\vicva\\OneDrive\\Documenten\\git\\Thesis_CCFT\\jl_notebook_cell_df34fa98e69747e1a8f8a730347b8e2f_W3sZmlsZQ==.jl:136\n",
      "┌ Info: DMRG   1:\tobj = +7.430515839117e+02 +7.359444248684e+02im\terr = 4.2848051532e-09\ttime = 0.14 sec\n",
      "└ @ Main c:\\Users\\vicva\\OneDrive\\Documenten\\git\\Thesis_CCFT\\jl_notebook_cell_df34fa98e69747e1a8f8a730347b8e2f_W3sZmlsZQ==.jl:157\n"
     ]
    },
    {
     "name": "stdout",
     "output_type": "stream",
     "text": [
      "(1.0, -1007.2810116807003 - 1181.262211613112im, -743.0515840247341 - 735.9444248405335im)\n",
      "1007.2810116807003 + 1181.262211613112im\n",
      "ComplexF64[743.0515840247341 + 735.9444248405335im]\n",
      "0.07407407407407407\n"
     ]
    },
    {
     "name": "stderr",
     "output_type": "stream",
     "text": [
      "┌ Info: DMRG conv 2:\tobj = +7.430515840247e+02 +7.359444248405e+02im\terr = 2.8010111555e-15\ttime = 0.29 sec\n",
      "└ @ Main c:\\Users\\vicva\\OneDrive\\Documenten\\git\\Thesis_CCFT\\jl_notebook_cell_df34fa98e69747e1a8f8a730347b8e2f_W3sZmlsZQ==.jl:151\n",
      "┌ Info: DMRG init:\tobj = +8.117435754459e+02 +9.499865710739e+02im\terr = 7.6392e-03\n",
      "└ @ Main c:\\Users\\vicva\\OneDrive\\Documenten\\git\\Thesis_CCFT\\jl_notebook_cell_df34fa98e69747e1a8f8a730347b8e2f_W3sZmlsZQ==.jl:136\n",
      "┌ Info: DMRG   1:\tobj = +8.118113697028e+02 +9.490454399708e+02im\terr = 7.1576773545e-10\ttime = 0.23 sec\n",
      "└ @ Main c:\\Users\\vicva\\OneDrive\\Documenten\\git\\Thesis_CCFT\\jl_notebook_cell_df34fa98e69747e1a8f8a730347b8e2f_W3sZmlsZQ==.jl:157\n",
      "┌ Info: DMRG conv 2:\tobj = +8.118113696966e+02 +9.490454399709e+02im\terr = 1.0678143544e-15\ttime = 0.34 sec\n",
      "└ @ Main c:\\Users\\vicva\\OneDrive\\Documenten\\git\\Thesis_CCFT\\jl_notebook_cell_df34fa98e69747e1a8f8a730347b8e2f_W3sZmlsZQ==.jl:151\n",
      "┌ Info: DMRG init:\tobj = +6.181254146234e+02 +5.961206483001e+02im\terr = 1.6113e-02\n",
      "└ @ Main c:\\Users\\vicva\\OneDrive\\Documenten\\git\\Thesis_CCFT\\jl_notebook_cell_df34fa98e69747e1a8f8a730347b8e2f_W3sZmlsZQ==.jl:136\n",
      "┌ Info: DMRG   1:\tobj = +6.181644273022e+02 +5.892362341674e+02im\terr = 6.7262390572e-09\ttime = 0.14 sec\n",
      "└ @ Main c:\\Users\\vicva\\OneDrive\\Documenten\\git\\Thesis_CCFT\\jl_notebook_cell_df34fa98e69747e1a8f8a730347b8e2f_W3sZmlsZQ==.jl:157\n"
     ]
    },
    {
     "name": "stdout",
     "output_type": "stream",
     "text": [
      "(1.0, -811.8113696966358 - 949.0454399709063im, -618.1644275490911 - 589.2362342732011im)\n",
      "811.8113696966358 + 949.0454399709063im\n"
     ]
    },
    {
     "name": "stderr",
     "output_type": "stream",
     "text": [
      "┌ Info: DMRG conv 2:\tobj = +6.181644275491e+02 +5.892362342732e+02im\terr = 1.5968219953e-15\ttime = 0.28 sec\n",
      "└ @ Main c:\\Users\\vicva\\OneDrive\\Documenten\\git\\Thesis_CCFT\\jl_notebook_cell_df34fa98e69747e1a8f8a730347b8e2f_W3sZmlsZQ==.jl:151\n"
     ]
    },
    {
     "name": "stdout",
     "output_type": "stream",
     "text": [
      "ComplexF64[618.1644275490911 + 589.2362342732011im]\n",
      "0.08641975308641975\n"
     ]
    },
    {
     "name": "stderr",
     "output_type": "stream",
     "text": [
      "┌ Info: DMRG init:\tobj = +6.541928670202e+02 +7.626626544122e+02im\terr = 9.6849e-03\n",
      "└ @ Main c:\\Users\\vicva\\OneDrive\\Documenten\\git\\Thesis_CCFT\\jl_notebook_cell_df34fa98e69747e1a8f8a730347b8e2f_W3sZmlsZQ==.jl:136\n",
      "┌ Info: DMRG   1:\tobj = +6.542082716865e+02 +7.614301751987e+02im\terr = 1.7109965599e-09\ttime = 0.11 sec\n",
      "└ @ Main c:\\Users\\vicva\\OneDrive\\Documenten\\git\\Thesis_CCFT\\jl_notebook_cell_df34fa98e69747e1a8f8a730347b8e2f_W3sZmlsZQ==.jl:157\n",
      "┌ Info: DMRG conv 2:\tobj = +6.542082716626e+02 +7.614301752007e+02im\terr = 1.2703004521e-15\ttime = 0.19 sec\n",
      "└ @ Main c:\\Users\\vicva\\OneDrive\\Documenten\\git\\Thesis_CCFT\\jl_notebook_cell_df34fa98e69747e1a8f8a730347b8e2f_W3sZmlsZQ==.jl:151\n",
      "┌ Info: DMRG init:\tobj = +5.178730259651e+02 +4.769720801391e+02im\terr = 1.9718e-02\n",
      "└ @ Main c:\\Users\\vicva\\OneDrive\\Documenten\\git\\Thesis_CCFT\\jl_notebook_cell_df34fa98e69747e1a8f8a730347b8e2f_W3sZmlsZQ==.jl:136\n",
      "┌ Info: DMRG   1:\tobj = +5.172474381442e+02 +4.680872662209e+02im\terr = 1.4111337615e-08\ttime = 0.13 sec\n",
      "└ @ Main c:\\Users\\vicva\\OneDrive\\Documenten\\git\\Thesis_CCFT\\jl_notebook_cell_df34fa98e69747e1a8f8a730347b8e2f_W3sZmlsZQ==.jl:157\n"
     ]
    },
    {
     "name": "stdout",
     "output_type": "stream",
     "text": [
      "(1.0, -654.2082716625731 - 761.4301752006858im, -517.2474380415724 - 468.08726632500725im)\n",
      "654.2082716625731"
     ]
    },
    {
     "name": "stderr",
     "output_type": "stream",
     "text": [
      "┌ Info: DMRG conv 2:\tobj = +5.172474380416e+02 +4.680872663250e+02im\terr = 5.3836753226e-15\ttime = 0.27 sec\n",
      "└ @ Main c:\\Users\\vicva\\OneDrive\\Documenten\\git\\Thesis_CCFT\\jl_notebook_cell_df34fa98e69747e1a8f8a730347b8e2f_W3sZmlsZQ==.jl:151\n"
     ]
    },
    {
     "name": "stdout",
     "output_type": "stream",
     "text": [
      " + 761.4301752006858im\n",
      "ComplexF64[517.2474380415724 + 468.08726632500725im]\n",
      "0.09876543209876543\n"
     ]
    },
    {
     "name": "stderr",
     "output_type": "stream",
     "text": [
      "┌ Info: DMRG init:\tobj = +5.268865546246e+02 +6.108943086720e+02im\terr = 1.2816e-02\n",
      "└ @ Main c:\\Users\\vicva\\OneDrive\\Documenten\\git\\Thesis_CCFT\\jl_notebook_cell_df34fa98e69747e1a8f8a730347b8e2f_W3sZmlsZQ==.jl:136\n",
      "┌ Info: DMRG   1:\tobj = +5.268328275101e+02 +6.092274802164e+02im\terr = 2.8385173070e-09\ttime = 0.10 sec\n",
      "└ @ Main c:\\Users\\vicva\\OneDrive\\Documenten\\git\\Thesis_CCFT\\jl_notebook_cell_df34fa98e69747e1a8f8a730347b8e2f_W3sZmlsZQ==.jl:157\n",
      "┌ Info: DMRG conv 2:\tobj = +5.268328274615e+02 +6.092274802476e+02im\terr = 1.0777411988e-15\ttime = 0.92 sec\n",
      "└ @ Main c:\\Users\\vicva\\OneDrive\\Documenten\\git\\Thesis_CCFT\\jl_notebook_cell_df34fa98e69747e1a8f8a730347b8e2f_W3sZmlsZQ==.jl:151\n",
      "┌ Info: DMRG init:\tobj = +4.372971812921e+02 +3.782422984341e+02im\terr = 2.4455e-02\n",
      "└ @ Main c:\\Users\\vicva\\OneDrive\\Documenten\\git\\Thesis_CCFT\\jl_notebook_cell_df34fa98e69747e1a8f8a730347b8e2f_W3sZmlsZQ==.jl:136\n",
      "┌ Info: DMRG   1:\tobj = +4.354700906512e+02 +3.663083550533e+02im\terr = 1.8124449367e-08\ttime = 0.27 sec\n",
      "└ @ Main c:\\Users\\vicva\\OneDrive\\Documenten\\git\\Thesis_CCFT\\jl_notebook_cell_df34fa98e69747e1a8f8a730347b8e2f_W3sZmlsZQ==.jl:157\n"
     ]
    },
    {
     "name": "stdout",
     "output_type": "stream",
     "text": [
      "(1.0, -526.8328274614522 - 609.2274802476327im, -435.470090598068 - 366.30835577009856im)\n",
      "526.8328274614522 + 609.2274802476327im"
     ]
    },
    {
     "name": "stderr",
     "output_type": "stream",
     "text": [
      "┌ Info: DMRG conv 2:\tobj = +4.354700905981e+02 +3.663083557701e+02im\terr = 4.9537082190e-15\ttime = 0.48 sec\n",
      "└ @ Main c:\\Users\\vicva\\OneDrive\\Documenten\\git\\Thesis_CCFT\\jl_notebook_cell_df34fa98e69747e1a8f8a730347b8e2f_W3sZmlsZQ==.jl:151\n"
     ]
    },
    {
     "name": "stdout",
     "output_type": "stream",
     "text": [
      "\n",
      "ComplexF64[435.470090598068 + 366.30835577009856im]\n",
      "0.1111111111111111\n"
     ]
    },
    {
     "name": "stderr",
     "output_type": "stream",
     "text": [
      "┌ Info: DMRG init:\tobj = +4.235460703288e+02 +4.871004233281e+02im\terr = 1.8242e-02\n",
      "└ @ Main c:\\Users\\vicva\\OneDrive\\Documenten\\git\\Thesis_CCFT\\jl_notebook_cell_df34fa98e69747e1a8f8a730347b8e2f_W3sZmlsZQ==.jl:136\n",
      "┌ Info: DMRG   1:\tobj = +4.234339737597e+02 +4.848090850911e+02im\terr = 1.3230624400e-08\ttime = 0.12 sec\n",
      "└ @ Main c:\\Users\\vicva\\OneDrive\\Documenten\\git\\Thesis_CCFT\\jl_notebook_cell_df34fa98e69747e1a8f8a730347b8e2f_W3sZmlsZQ==.jl:157\n",
      "┌ Info: DMRG conv 2:\tobj = +4.234339740488e+02 +4.848090852976e+02im\terr = 6.1571769612e-15\ttime = 0.23 sec\n",
      "└ @ Main c:\\Users\\vicva\\OneDrive\\Documenten\\git\\Thesis_CCFT\\jl_notebook_cell_df34fa98e69747e1a8f8a730347b8e2f_W3sZmlsZQ==.jl:151\n",
      "┌ Info: DMRG init:\tobj = +3.725691849954e+02 +2.948004757982e+02im\terr = 3.0857e-02\n",
      "└ @ Main c:\\Users\\vicva\\OneDrive\\Documenten\\git\\Thesis_CCFT\\jl_notebook_cell_df34fa98e69747e1a8f8a730347b8e2f_W3sZmlsZQ==.jl:136\n",
      "┌ Info: DMRG   1:\tobj = +3.684215952300e+02 +2.777263873888e+02im\terr = 3.8882342348e-08\ttime = 0.24 sec\n",
      "└ @ Main c:\\Users\\vicva\\OneDrive\\Documenten\\git\\Thesis_CCFT\\jl_notebook_cell_df34fa98e69747e1a8f8a730347b8e2f_W3sZmlsZQ==.jl:157\n"
     ]
    },
    {
     "name": "stdout",
     "output_type": "stream",
     "text": [
      "(1.0, "
     ]
    },
    {
     "name": "stderr",
     "output_type": "stream",
     "text": [
      "┌ Info: DMRG conv 2:\tobj = +3.684215924827e+02 +2.777263875705e+02im\terr = 1.7800892178e-14\ttime = 0.40 sec\n",
      "└ @ Main c:\\Users\\vicva\\OneDrive\\Documenten\\git\\Thesis_CCFT\\jl_notebook_cell_df34fa98e69747e1a8f8a730347b8e2f_W3sZmlsZQ==.jl:151\n"
     ]
    },
    {
     "name": "stdout",
     "output_type": "stream",
     "text": [
      "-423.43397404878675 - 484.80908529759483im, -368.4215924826904 - 277.7263875704972im)\n",
      "423.43397404878675 + 484.80908529759483im\n",
      "ComplexF64[368.4215924826904 + 277.7263875704972im]\n",
      "0.12345679012345678\n"
     ]
    },
    {
     "name": "stderr",
     "output_type": "stream",
     "text": [
      "┌ Info: DMRG init:\tobj = +2.913848364733e+03 +2.211081115795e+03im\terr = 7.4679e-02\n",
      "└ @ Main c:\\Users\\vicva\\OneDrive\\Documenten\\git\\Thesis_CCFT\\jl_notebook_cell_df34fa98e69747e1a8f8a730347b8e2f_W3sZmlsZQ==.jl:136\n",
      "┌ Info: DMRG   1:\tobj = +2.945141265380e+03 +2.242574275947e+03im\terr = 1.2150794872e-08\ttime = 0.11 sec\n",
      "└ @ Main c:\\Users\\vicva\\OneDrive\\Documenten\\git\\Thesis_CCFT\\jl_notebook_cell_df34fa98e69747e1a8f8a730347b8e2f_W3sZmlsZQ==.jl:157\n",
      "┌ Info: DMRG conv 2:\tobj = +2.945141265384e+03 +2.242574276065e+03im\terr = 1.1844662930e-15\ttime = 0.24 sec\n",
      "└ @ Main c:\\Users\\vicva\\OneDrive\\Documenten\\git\\Thesis_CCFT\\jl_notebook_cell_df34fa98e69747e1a8f8a730347b8e2f_W3sZmlsZQ==.jl:151\n",
      "┌ Info: DMRG init:\tobj = +1.760023756695e+03 +1.195937813454e+03im\terr = 1.6392e-01\n",
      "└ @ Main c:\\Users\\vicva\\OneDrive\\Documenten\\git\\Thesis_CCFT\\jl_notebook_cell_df34fa98e69747e1a8f8a730347b8e2f_W3sZmlsZQ==.jl:136\n",
      "┌ Info: DMRG   1:\tobj = +1.953070385548e+03 +1.380512768143e+03im\terr = 1.0629540809e-08\ttime = 0.17 sec\n",
      "└ @ Main c:\\Users\\vicva\\OneDrive\\Documenten\\git\\Thesis_CCFT\\jl_notebook_cell_df34fa98e69747e1a8f8a730347b8e2f_W3sZmlsZQ==.jl:157\n"
     ]
    },
    {
     "name": "stdout",
     "output_type": "stream",
     "text": [
      "(1.0, -2945.141265383752 - 2242.574276064558im, -1953.0703855258978 - 1380.51276796819im)\n"
     ]
    },
    {
     "name": "stderr",
     "output_type": "stream",
     "text": [
      "┌ Info: DMRG conv 2:\tobj = +1.953070385526e+03 +1.380512767968e+03im\terr = 3.1688029471e-15\ttime = 0.30 sec\n",
      "└ @ Main c:\\Users\\vicva\\OneDrive\\Documenten\\git\\Thesis_CCFT\\jl_notebook_cell_df34fa98e69747e1a8f8a730347b8e2f_W3sZmlsZQ==.jl:151\n"
     ]
    },
    {
     "name": "stdout",
     "output_type": "stream",
     "text": [
      "2945.141265383752 + 2242.574276064558im\n",
      "ComplexF64[1953.0703855258978 + 1380.51276796819im]\n",
      "0.13580246913580246\n"
     ]
    },
    {
     "name": "stderr",
     "output_type": "stream",
     "text": [
      "┌ Info: DMRG init:\tobj = +2.371311940463e+03 +1.804402349307e+03im\terr = 3.7713e-03\n",
      "└ @ Main c:\\Users\\vicva\\OneDrive\\Documenten\\git\\Thesis_CCFT\\jl_notebook_cell_df34fa98e69747e1a8f8a730347b8e2f_W3sZmlsZQ==.jl:136\n",
      "┌ Info: DMRG   1:\tobj = +2.371428597829e+03 +1.804030966729e+03im\terr = 3.4916407177e-10\ttime = 0.11 sec\n",
      "└ @ Main c:\\Users\\vicva\\OneDrive\\Documenten\\git\\Thesis_CCFT\\jl_notebook_cell_df34fa98e69747e1a8f8a730347b8e2f_W3sZmlsZQ==.jl:157\n",
      "┌ Info: DMRG conv 2:\tobj = +2.371428597828e+03 +1.804030966728e+03im\terr = 1.5850034312e-15\ttime = 0.21 sec\n",
      "└ @ Main c:\\Users\\vicva\\OneDrive\\Documenten\\git\\Thesis_CCFT\\jl_notebook_cell_df34fa98e69747e1a8f8a730347b8e2f_W3sZmlsZQ==.jl:151\n",
      "┌ Info: DMRG init:\tobj = +1.595886582544e+03 +1.117369063440e+03im\terr = 8.2084e-03\n",
      "└ @ Main c:\\Users\\vicva\\OneDrive\\Documenten\\git\\Thesis_CCFT\\jl_notebook_cell_df34fa98e69747e1a8f8a730347b8e2f_W3sZmlsZQ==.jl:136\n",
      "┌ Info: DMRG   1:\tobj = +1.596578865953e+03 +1.114670260844e+03im\terr = 1.7085188178e-09\ttime = 0.14 sec\n",
      "└ @ Main c:\\Users\\vicva\\OneDrive\\Documenten\\git\\Thesis_CCFT\\jl_notebook_cell_df34fa98e69747e1a8f8a730347b8e2f_W3sZmlsZQ==.jl:157\n"
     ]
    },
    {
     "name": "stdout",
     "output_type": "stream",
     "text": [
      "(1.0, -2371.42859782789 - 1804.030966727922im, -1596.5788659541076 - 1114.6702608497956im)\n",
      "2371.42859782789 + 1804.030966727922im\n",
      "ComplexF64[1596.5788659541076 + 1114.6702608497956im]\n",
      "0.14814814814814814\n"
     ]
    },
    {
     "name": "stderr",
     "output_type": "stream",
     "text": [
      "┌ Info: DMRG conv 2:\tobj = +1.596578865954e+03 +1.114670260850e+03im\terr = 1.1823595341e-15\ttime = 0.37 sec\n",
      "└ @ Main c:\\Users\\vicva\\OneDrive\\Documenten\\git\\Thesis_CCFT\\jl_notebook_cell_df34fa98e69747e1a8f8a730347b8e2f_W3sZmlsZQ==.jl:151\n",
      "┌ Info: DMRG init:\tobj = +1.909750510287e+03 +1.451508537973e+03im\terr = 4.4543e-03\n",
      "└ @ Main c:\\Users\\vicva\\OneDrive\\Documenten\\git\\Thesis_CCFT\\jl_notebook_cell_df34fa98e69747e1a8f8a730347b8e2f_W3sZmlsZQ==.jl:136\n",
      "┌ Info: DMRG   1:\tobj = +1.909867018846e+03 +1.451076056658e+03im\terr = 6.4616661174e-10\ttime = 0.10 sec\n",
      "└ @ Main c:\\Users\\vicva\\OneDrive\\Documenten\\git\\Thesis_CCFT\\jl_notebook_cell_df34fa98e69747e1a8f8a730347b8e2f_W3sZmlsZQ==.jl:157\n",
      "┌ Info: DMRG conv 2:\tobj = +1.909867018844e+03 +1.451076056656e+03im\terr = 1.1348099545e-15\ttime = 0.20 sec\n",
      "└ @ Main c:\\Users\\vicva\\OneDrive\\Documenten\\git\\Thesis_CCFT\\jl_notebook_cell_df34fa98e69747e1a8f8a730347b8e2f_W3sZmlsZQ==.jl:151\n",
      "┌ Info: DMRG init:\tobj = +1.307929928113e+03 +9.025021570879e+02im\terr = 9.6676e-03\n",
      "└ @ Main c:\\Users\\vicva\\OneDrive\\Documenten\\git\\Thesis_CCFT\\jl_notebook_cell_df34fa98e69747e1a8f8a730347b8e2f_W3sZmlsZQ==.jl:136\n",
      "┌ Info: DMRG   1:\tobj = +1.308615242988e+03 +8.993280127376e+02im\terr = 2.1700781161e-09\ttime = 0.12 sec\n",
      "└ @ Main c:\\Users\\vicva\\OneDrive\\Documenten\\git\\Thesis_CCFT\\jl_notebook_cell_df34fa98e69747e1a8f8a730347b8e2f_W3sZmlsZQ==.jl:157\n"
     ]
    },
    {
     "name": "stdout",
     "output_type": "stream",
     "text": [
      "(1.0, -1909.8670188442359 - 1451.0760566564481im, -1308.6152430047655 - 899.3280127492968im)\n",
      "1909.8670188442359 + 1451.0760566564481im\n",
      "ComplexF64[1308.6152430047655 + 899.3280127492968im]\n",
      "0.16049382716049382\n"
     ]
    },
    {
     "name": "stderr",
     "output_type": "stream",
     "text": [
      "┌ Info: DMRG conv 2:\tobj = +1.308615243005e+03 +8.993280127493e+02im\terr = 4.7105694933e-15\ttime = 0.47 sec\n",
      "└ @ Main c:\\Users\\vicva\\OneDrive\\Documenten\\git\\Thesis_CCFT\\jl_notebook_cell_df34fa98e69747e1a8f8a730347b8e2f_W3sZmlsZQ==.jl:151\n",
      "┌ Info: DMRG init:\tobj = +1.538432309797e+03 +1.167419071363e+03im\terr = 5.3328e-03\n",
      "└ @ Main c:\\Users\\vicva\\OneDrive\\Documenten\\git\\Thesis_CCFT\\jl_notebook_cell_df34fa98e69747e1a8f8a730347b8e2f_W3sZmlsZQ==.jl:136\n",
      "┌ Info: DMRG   1:\tobj = +1.538547650863e+03 +1.166900162998e+03im\terr = 1.3817413555e-09\ttime = 0.09 sec\n",
      "└ @ Main c:\\Users\\vicva\\OneDrive\\Documenten\\git\\Thesis_CCFT\\jl_notebook_cell_df34fa98e69747e1a8f8a730347b8e2f_W3sZmlsZQ==.jl:157\n",
      "┌ Info: DMRG conv 2:\tobj = +1.538547650862e+03 +1.166900162996e+03im\terr = 1.0797143681e-15\ttime = 0.18 sec\n",
      "└ @ Main c:\\Users\\vicva\\OneDrive\\Documenten\\git\\Thesis_CCFT\\jl_notebook_cell_df34fa98e69747e1a8f8a730347b8e2f_W3sZmlsZQ==.jl:151\n",
      "┌ Info: DMRG init:\tobj = +1.075511115133e+03 +7.283477003622e+02im\terr = 1.1800e-02\n",
      "└ @ Main c:\\Users\\vicva\\OneDrive\\Documenten\\git\\Thesis_CCFT\\jl_notebook_cell_df34fa98e69747e1a8f8a730347b8e2f_W3sZmlsZQ==.jl:136\n",
      "┌ Info: DMRG   1:\tobj = +1.076169237161e+03 +7.245215069414e+02im\terr = 2.7038693043e-09\ttime = 0.13 sec\n",
      "└ @ Main c:\\Users\\vicva\\OneDrive\\Documenten\\git\\Thesis_CCFT\\jl_notebook_cell_df34fa98e69747e1a8f8a730347b8e2f_W3sZmlsZQ==.jl:157\n"
     ]
    },
    {
     "name": "stdout",
     "output_type": "stream",
     "text": [
      "(1.0, -1538.5476508617044 - 1166.900162995944im, -1076.169237194457 - 724.5215069704848im)\n",
      "1538.5476508617044"
     ]
    },
    {
     "name": "stderr",
     "output_type": "stream",
     "text": [
      "┌ Info: DMRG conv 2:\tobj = +1.076169237194e+03 +7.245215069705e+02im\terr = 1.3409597048e-15\ttime = 0.26 sec\n",
      "└ @ Main c:\\Users\\vicva\\OneDrive\\Documenten\\git\\Thesis_CCFT\\jl_notebook_cell_df34fa98e69747e1a8f8a730347b8e2f_W3sZmlsZQ==.jl:151\n"
     ]
    },
    {
     "name": "stdout",
     "output_type": "stream",
     "text": [
      " + 1166.900162995944im\n",
      "ComplexF64[1076.169237194457 + 724.5215069704848im]\n",
      "0.1728395061728395\n"
     ]
    },
    {
     "name": "stderr",
     "output_type": "stream",
     "text": [
      "┌ Info: DMRG init:\tobj = +1.239734363689e+03 +9.385761093191e+02im\terr = 6.4853e-03\n",
      "└ @ Main c:\\Users\\vicva\\OneDrive\\Documenten\\git\\Thesis_CCFT\\jl_notebook_cell_df34fa98e69747e1a8f8a730347b8e2f_W3sZmlsZQ==.jl:136\n",
      "┌ Info: DMRG   1:\tobj = +1.239845941245e+03 +9.379328205125e+02im\terr = 3.3563324252e-10\ttime = 0.10 sec\n",
      "└ @ Main c:\\Users\\vicva\\OneDrive\\Documenten\\git\\Thesis_CCFT\\jl_notebook_cell_df34fa98e69747e1a8f8a730347b8e2f_W3sZmlsZQ==.jl:157\n",
      "┌ Info: DMRG conv 2:\tobj = +1.239845941243e+03 +9.379328205115e+02im\terr = 1.4709282559e-15\ttime = 0.20 sec\n",
      "└ @ Main c:\\Users\\vicva\\OneDrive\\Documenten\\git\\Thesis_CCFT\\jl_notebook_cell_df34fa98e69747e1a8f8a730347b8e2f_W3sZmlsZQ==.jl:151\n",
      "┌ Info: DMRG init:\tobj = +8.881814357970e+02 +5.868491364638e+02im\terr = 1.4138e-02\n",
      "└ @ Main c:\\Users\\vicva\\OneDrive\\Documenten\\git\\Thesis_CCFT\\jl_notebook_cell_df34fa98e69747e1a8f8a730347b8e2f_W3sZmlsZQ==.jl:136\n",
      "┌ Info: DMRG   1:\tobj = +8.887737030148e+02 +5.821102574812e+02im\terr = 1.1596385515e-08\ttime = 0.12 sec\n",
      "└ @ Main c:\\Users\\vicva\\OneDrive\\Documenten\\git\\Thesis_CCFT\\jl_notebook_cell_df34fa98e69747e1a8f8a730347b8e2f_W3sZmlsZQ==.jl:157\n"
     ]
    },
    {
     "name": "stdout",
     "output_type": "stream",
     "text": [
      "(1.0, -1239.84594124284 - 937.932820511507im, -888.7737028843509 - "
     ]
    },
    {
     "name": "stderr",
     "output_type": "stream",
     "text": [
      "┌ Info: DMRG conv 2:\tobj = +8.887737028844e+02 +5.821102576384e+02im\terr = 3.3470566489e-15\ttime = 0.25 sec\n",
      "└ @ Main c:\\Users\\vicva\\OneDrive\\Documenten\\git\\Thesis_CCFT\\jl_notebook_cell_df34fa98e69747e1a8f8a730347b8e2f_W3sZmlsZQ==.jl:151\n"
     ]
    },
    {
     "name": "stdout",
     "output_type": "stream",
     "text": [
      "582.1102576383587im)\n",
      "1239.84594124284 + 937.932820511507im\n",
      "ComplexF64[888.7737028843509 + 582.1102576383587im]\n",
      "0.18518518518518517\n"
     ]
    },
    {
     "name": "stderr",
     "output_type": "stream",
     "text": [
      "┌ Info: DMRG init:\tobj = +9.994807406957e+02 +7.540025053881e+02im\terr = 8.0392e-03\n",
      "└ @ Main c:\\Users\\vicva\\OneDrive\\Documenten\\git\\Thesis_CCFT\\jl_notebook_cell_df34fa98e69747e1a8f8a730347b8e2f_W3sZmlsZQ==.jl:136\n",
      "┌ Info: DMRG   1:\tobj = +9.995826527853e+02 +7.531766854727e+02im\terr = 8.8784633003e-10\ttime = 0.09 sec\n",
      "└ @ Main c:\\Users\\vicva\\OneDrive\\Documenten\\git\\Thesis_CCFT\\jl_notebook_cell_df34fa98e69747e1a8f8a730347b8e2f_W3sZmlsZQ==.jl:157\n",
      "┌ Info: DMRG conv 2:\tobj = +9.995826527792e+02 +7.531766854696e+02im\terr = 1.2396022015e-15\ttime = 0.17 sec\n",
      "└ @ Main c:\\Users\\vicva\\OneDrive\\Documenten\\git\\Thesis_CCFT\\jl_notebook_cell_df34fa98e69747e1a8f8a730347b8e2f_W3sZmlsZQ==.jl:151\n",
      "┌ Info: DMRG init:\tobj = +7.375675462684e+02 +4.714084687187e+02im\terr = 1.7112e-02\n",
      "└ @ Main c:\\Users\\vicva\\OneDrive\\Documenten\\git\\Thesis_CCFT\\jl_notebook_cell_df34fa98e69747e1a8f8a730347b8e2f_W3sZmlsZQ==.jl:136\n",
      "┌ Info: DMRG   1:\tobj = +7.380259911313e+02 +4.653604606590e+02im\terr = 5.5433730626e-09\ttime = 0.14 sec\n",
      "└ @ Main c:\\Users\\vicva\\OneDrive\\Documenten\\git\\Thesis_CCFT\\jl_notebook_cell_df34fa98e69747e1a8f8a730347b8e2f_W3sZmlsZQ==.jl:157\n"
     ]
    },
    {
     "name": "stdout",
     "output_type": "stream",
     "text": [
      "(1.0, -999.5826527791581 - 753.176685469646im, -738.0259912567616 - 465.36046076756344im)\n",
      "999.5826527791581 + 753.176685469646im\n",
      "ComplexF64[738.0259912567616 + 465.36046076756344im"
     ]
    },
    {
     "name": "stderr",
     "output_type": "stream",
     "text": [
      "┌ Info: DMRG conv 2:\tobj = +7.380259912568e+02 +4.653604607676e+02im\terr = 3.5591922675e-15\ttime = 0.26 sec\n",
      "└ @ Main c:\\Users\\vicva\\OneDrive\\Documenten\\git\\Thesis_CCFT\\jl_notebook_cell_df34fa98e69747e1a8f8a730347b8e2f_W3sZmlsZQ==.jl:151\n"
     ]
    },
    {
     "name": "stdout",
     "output_type": "stream",
     "text": [
      "]\n",
      "0.19753086419753085\n"
     ]
    },
    {
     "name": "stderr",
     "output_type": "stream",
     "text": [
      "┌ Info: DMRG init:\tobj = +8.062683679964e+02 +6.047509692042e+02im\terr = 1.0226e-02\n",
      "└ @ Main c:\\Users\\vicva\\OneDrive\\Documenten\\git\\Thesis_CCFT\\jl_notebook_cell_df34fa98e69747e1a8f8a730347b8e2f_W3sZmlsZQ==.jl:136\n",
      "┌ Info: DMRG   1:\tobj = +8.063461051150e+02 +6.036526161460e+02im\terr = 2.3083276540e-09\ttime = 0.11 sec\n",
      "└ @ Main c:\\Users\\vicva\\OneDrive\\Documenten\\git\\Thesis_CCFT\\jl_notebook_cell_df34fa98e69747e1a8f8a730347b8e2f_W3sZmlsZQ==.jl:157\n",
      "┌ Info: DMRG conv 2:\tobj = +8.063461050916e+02 +6.036526161383e+02im\terr = 1.4125303688e-15\ttime = 0.20 sec\n",
      "└ @ Main c:\\Users\\vicva\\OneDrive\\Documenten\\git\\Thesis_CCFT\\jl_notebook_cell_df34fa98e69747e1a8f8a730347b8e2f_W3sZmlsZQ==.jl:151\n",
      "┌ Info: DMRG init:\tobj = +6.170004068777e+02 +3.765423685143e+02im\terr = 2.0935e-02\n",
      "└ @ Main c:\\Users\\vicva\\OneDrive\\Documenten\\git\\Thesis_CCFT\\jl_notebook_cell_df34fa98e69747e1a8f8a730347b8e2f_W3sZmlsZQ==.jl:136\n",
      "┌ Info: DMRG   1:\tobj = +6.172185742728e+02 +3.685598347474e+02im\terr = 1.1881981902e-08\ttime = 0.15 sec\n",
      "└ @ Main c:\\Users\\vicva\\OneDrive\\Documenten\\git\\Thesis_CCFT\\jl_notebook_cell_df34fa98e69747e1a8f8a730347b8e2f_W3sZmlsZQ==.jl:157\n"
     ]
    },
    {
     "name": "stdout",
     "output_type": "stream",
     "text": [
      "(1.0, -806.3461050916342 - 603.6526161383434im, -617.2185742006287 - 368.5598348172835"
     ]
    },
    {
     "name": "stderr",
     "output_type": "stream",
     "text": [
      "┌ Info: DMRG conv 2:\tobj = +6.172185742006e+02 +3.685598348173e+02im\terr = 3.1038489500e-15\ttime = 0.29 sec\n",
      "└ @ Main c:\\Users\\vicva\\OneDrive\\Documenten\\git\\Thesis_CCFT\\jl_notebook_cell_df34fa98e69747e1a8f8a730347b8e2f_W3sZmlsZQ==.jl:151\n"
     ]
    },
    {
     "name": "stdout",
     "output_type": "stream",
     "text": [
      "im)\n",
      "806.3461050916342 + 603.6526161383434im\n",
      "ComplexF64[617.2185742006287 + 368.5598348172835im]\n",
      "0.20987654320987653\n"
     ]
    },
    {
     "name": "stderr",
     "output_type": "stream",
     "text": [
      "┌ Info: DMRG init:\tobj = +6.509243124367e+02 +4.834375437484e+02im\terr = 1.3535e-02\n",
      "└ @ Main c:\\Users\\vicva\\OneDrive\\Documenten\\git\\Thesis_CCFT\\jl_notebook_cell_df34fa98e69747e1a8f8a730347b8e2f_W3sZmlsZQ==.jl:136\n",
      "┌ Info: DMRG   1:\tobj = +6.509356123516e+02 +4.819298351431e+02im\terr = 6.5891419250e-09\ttime = 0.09 sec\n",
      "└ @ Main c:\\Users\\vicva\\OneDrive\\Documenten\\git\\Thesis_CCFT\\jl_notebook_cell_df34fa98e69747e1a8f8a730347b8e2f_W3sZmlsZQ==.jl:157\n",
      "┌ Info: DMRG conv 2:\tobj = +6.509356122475e+02 +4.819298351492e+02im\terr = 1.3594639666e-15\ttime = 0.22 sec\n",
      "└ @ Main c:\\Users\\vicva\\OneDrive\\Documenten\\git\\Thesis_CCFT\\jl_notebook_cell_df34fa98e69747e1a8f8a730347b8e2f_W3sZmlsZQ==.jl:151\n",
      "┌ Info: DMRG init:\tobj = +5.212454226289e+02 +2.975571608063e+02im\terr = 2.5909e-02\n",
      "└ @ Main c:\\Users\\vicva\\OneDrive\\Documenten\\git\\Thesis_CCFT\\jl_notebook_cell_df34fa98e69747e1a8f8a730347b8e2f_W3sZmlsZQ==.jl:136\n",
      "┌ Info: DMRG   1:\tobj = +5.211054908991e+02 +2.866073991723e+02im\terr = 3.6525004355e-08\ttime = 0.36 sec\n",
      "└ @ Main c:\\Users\\vicva\\OneDrive\\Documenten\\git\\Thesis_CCFT\\jl_notebook_cell_df34fa98e69747e1a8f8a730347b8e2f_W3sZmlsZQ==.jl:157\n"
     ]
    },
    {
     "name": "stdout",
     "output_type": "stream",
     "text": [
      "(1.0, -650.9356122474647 - 481.92983514917324im, -521.1054903400875 - 286.6073983668896im)\n",
      "650.9356122474647 + 481.92983514917324im\n",
      "ComplexF64"
     ]
    },
    {
     "name": "stderr",
     "output_type": "stream",
     "text": [
      "┌ Info: DMRG conv 2:\tobj = +5.211054903401e+02 +2.866073983669e+02im\terr = 1.8245830779e-14\ttime = 0.72 sec\n",
      "└ @ Main c:\\Users\\vicva\\OneDrive\\Documenten\\git\\Thesis_CCFT\\jl_notebook_cell_df34fa98e69747e1a8f8a730347b8e2f_W3sZmlsZQ==.jl:151\n"
     ]
    },
    {
     "name": "stdout",
     "output_type": "stream",
     "text": [
      "[521.1054903400875 + 286.6073983668896im]\n",
      "0.2222222222222222\n"
     ]
    },
    {
     "name": "stderr",
     "output_type": "stream",
     "text": [
      "┌ Info: DMRG init:\tobj = +5.260654169700e+02 +3.838486559971e+02im\terr = 1.9139e-02\n",
      "└ @ Main c:\\Users\\vicva\\OneDrive\\Documenten\\git\\Thesis_CCFT\\jl_notebook_cell_df34fa98e69747e1a8f8a730347b8e2f_W3sZmlsZQ==.jl:136\n",
      "┌ Info: DMRG   1:\tobj = +5.258677596071e+02 +3.817413943900e+02im\terr = 2.7185246452e-08\ttime = 0.14 sec\n",
      "└ @ Main c:\\Users\\vicva\\OneDrive\\Documenten\\git\\Thesis_CCFT\\jl_notebook_cell_df34fa98e69747e1a8f8a730347b8e2f_W3sZmlsZQ==.jl:157\n",
      "┌ Info: DMRG conv 2:\tobj = +5.258677591104e+02 +3.817413947110e+02im\terr = 2.2566621625e-14\ttime = 0.30 sec\n",
      "└ @ Main c:\\Users\\vicva\\OneDrive\\Documenten\\git\\Thesis_CCFT\\jl_notebook_cell_df34fa98e69747e1a8f8a730347b8e2f_W3sZmlsZQ==.jl:151\n",
      "┌ Info: DMRG init:\tobj = +4.463736856139e+02 +2.301840919871e+02im\terr = 3.2456e-02\n",
      "└ @ Main c:\\Users\\vicva\\OneDrive\\Documenten\\git\\Thesis_CCFT\\jl_notebook_cell_df34fa98e69747e1a8f8a730347b8e2f_W3sZmlsZQ==.jl:136\n",
      "┌ Info: DMRG   1:\tobj = +4.460210605521e+02 +2.144801747967e+02im\terr = 4.1608702109e-08\ttime = 0.40 sec\n",
      "└ @ Main c:\\Users\\vicva\\OneDrive\\Documenten\\git\\Thesis_CCFT\\jl_notebook_cell_df34fa98e69747e1a8f8a730347b8e2f_W3sZmlsZQ==.jl:157\n",
      "┌ Info: DMRG conv 2:\tobj = +4.460210605524e+02 +2.144801737621e+02im\terr = 1.5342304196e-14\ttime = 1.45 sec\n",
      "└ @ Main c:\\Users\\vicva\\OneDrive\\Documenten\\git\\Thesis_CCFT\\jl_notebook_cell_df34fa98e69747e1a8f8a730347b8e2f_W3sZmlsZQ==.jl:151\n"
     ]
    },
    {
     "name": "stdout",
     "output_type": "stream",
     "text": [
      "(1.0, -525.8677591104068 - 381.74139471101483im, -446.0210605523905 - 214.4801737621079im)\n",
      "525.8677591104068 + 381.74139471101483im\n",
      "ComplexF64[446.0210605523905 + 214.4801737621079im]\n",
      "0.2345679012345679\n"
     ]
    },
    {
     "name": "stderr",
     "output_type": "stream",
     "text": [
      "┌ Info: DMRG init:\tobj = +3.318664002850e+03 +1.530409740923e+03im\terr = 8.3874e-02\n",
      "└ @ Main c:\\Users\\vicva\\OneDrive\\Documenten\\git\\Thesis_CCFT\\jl_notebook_cell_df34fa98e69747e1a8f8a730347b8e2f_W3sZmlsZQ==.jl:136\n",
      "┌ Info: DMRG   1:\tobj = +3.360060176940e+03 +1.556424090206e+03im\terr = 1.4020699660e-08\ttime = 0.16 sec\n",
      "└ @ Main c:\\Users\\vicva\\OneDrive\\Documenten\\git\\Thesis_CCFT\\jl_notebook_cell_df34fa98e69747e1a8f8a730347b8e2f_W3sZmlsZQ==.jl:157\n",
      "┌ Info: DMRG conv 2:\tobj = +3.360060176901e+03 +1.556424090287e+03im\terr = 1.0377056597e-15\ttime = 0.39 sec\n",
      "└ @ Main c:\\Users\\vicva\\OneDrive\\Documenten\\git\\Thesis_CCFT\\jl_notebook_cell_df34fa98e69747e1a8f8a730347b8e2f_W3sZmlsZQ==.jl:151\n",
      "┌ Info: DMRG init:\tobj = +1.965939538169e+03 +8.100163165592e+02im\terr = 1.8132e-01\n",
      "└ @ Main c:\\Users\\vicva\\OneDrive\\Documenten\\git\\Thesis_CCFT\\jl_notebook_cell_df34fa98e69747e1a8f8a730347b8e2f_W3sZmlsZQ==.jl:136\n",
      "┌ Info: DMRG   1:\tobj = +2.203760784760e+03 +9.564965254862e+02im\terr = 3.4222091761e-08\ttime = 0.21 sec\n",
      "└ @ Main c:\\Users\\vicva\\OneDrive\\Documenten\\git\\Thesis_CCFT\\jl_notebook_cell_df34fa98e69747e1a8f8a730347b8e2f_W3sZmlsZQ==.jl:157\n"
     ]
    },
    {
     "name": "stdout",
     "output_type": "stream",
     "text": [
      "(1.0, -3360.0601769008103 - 1556.4240902866843im, -2203.7607847080267 - 956.4965253082432im)\n",
      "3360.0601769008103 + 1556.4240902866843im"
     ]
    },
    {
     "name": "stderr",
     "output_type": "stream",
     "text": [
      "┌ Info: DMRG conv 2:\tobj = +2.203760784708e+03 +9.564965253082e+02im\terr = 2.3364112661e-15\ttime = 0.43 sec\n",
      "└ @ Main c:\\Users\\vicva\\OneDrive\\Documenten\\git\\Thesis_CCFT\\jl_notebook_cell_df34fa98e69747e1a8f8a730347b8e2f_W3sZmlsZQ==.jl:151\n"
     ]
    },
    {
     "name": "stdout",
     "output_type": "stream",
     "text": [
      "\n",
      "ComplexF64[2203.7607847080267 + 956.4965253082432im]\n",
      "0.24691358024691357\n"
     ]
    },
    {
     "name": "stderr",
     "output_type": "stream",
     "text": [
      "┌ Info: DMRG init:\tobj = +2.705245580323e+03 +1.252296479638e+03im\terr = 3.8655e-03\n",
      "└ @ Main c:\\Users\\vicva\\OneDrive\\Documenten\\git\\Thesis_CCFT\\jl_notebook_cell_df34fa98e69747e1a8f8a730347b8e2f_W3sZmlsZQ==.jl:136\n",
      "┌ Info: DMRG   1:\tobj = +2.705338866942e+03 +1.252029009454e+03im\terr = 3.8428942152e-10\ttime = 0.16 sec\n",
      "└ @ Main c:\\Users\\vicva\\OneDrive\\Documenten\\git\\Thesis_CCFT\\jl_notebook_cell_df34fa98e69747e1a8f8a730347b8e2f_W3sZmlsZQ==.jl:157\n",
      "┌ Info: DMRG conv 2:\tobj = +2.705338866941e+03 +1.252029009453e+03im\terr = 1.0727764261e-15\ttime = 0.37 sec\n",
      "└ @ Main c:\\Users\\vicva\\OneDrive\\Documenten\\git\\Thesis_CCFT\\jl_notebook_cell_df34fa98e69747e1a8f8a730347b8e2f_W3sZmlsZQ==.jl:151\n",
      "┌ Info: DMRG init:\tobj = +1.798906559223e+03 +7.741213099254e+02im\terr = 8.6696e-03\n",
      "└ @ Main c:\\Users\\vicva\\OneDrive\\Documenten\\git\\Thesis_CCFT\\jl_notebook_cell_df34fa98e69747e1a8f8a730347b8e2f_W3sZmlsZQ==.jl:136\n",
      "┌ Info: DMRG   1:\tobj = +1.799504755427e+03 +7.721887736744e+02im\terr = 1.6979953807e-09\ttime = 0.19 sec\n",
      "└ @ Main c:\\Users\\vicva\\OneDrive\\Documenten\\git\\Thesis_CCFT\\jl_notebook_cell_df34fa98e69747e1a8f8a730347b8e2f_W3sZmlsZQ==.jl:157\n"
     ]
    },
    {
     "name": "stdout",
     "output_type": "stream",
     "text": [
      "(1.0, -2705.338866941302 - 1252.0290094534537im, -1799.5047554278103 - 772.1887736812204im)\n"
     ]
    },
    {
     "name": "stderr",
     "output_type": "stream",
     "text": [
      "┌ Info: DMRG conv 2:\tobj = +1.799504755428e+03 +7.721887736812e+02im\terr = 1.0454639556e-15\ttime = 0.46 sec\n",
      "└ @ Main c:\\Users\\vicva\\OneDrive\\Documenten\\git\\Thesis_CCFT\\jl_notebook_cell_df34fa98e69747e1a8f8a730347b8e2f_W3sZmlsZQ==.jl:151\n"
     ]
    },
    {
     "name": "stdout",
     "output_type": "stream",
     "text": [
      "2705.338866941302 + 1252.0290094534537im\n",
      "ComplexF64[1799.5047554278103 + 772.1887736812204im]\n",
      "0.25925925925925924\n"
     ]
    },
    {
     "name": "stderr",
     "output_type": "stream",
     "text": [
      "┌ Info: DMRG init:\tobj = +2.178563205254e+03 +1.007338955401e+03im\terr = 4.5775e-03\n",
      "└ @ Main c:\\Users\\vicva\\OneDrive\\Documenten\\git\\Thesis_CCFT\\jl_notebook_cell_df34fa98e69747e1a8f8a730347b8e2f_W3sZmlsZQ==.jl:136\n",
      "┌ Info: DMRG   1:\tobj = +2.178663041252e+03 +1.007025395332e+03im\terr = 7.4711146614e-10\ttime = 0.15 sec\n",
      "└ @ Main c:\\Users\\vicva\\OneDrive\\Documenten\\git\\Thesis_CCFT\\jl_notebook_cell_df34fa98e69747e1a8f8a730347b8e2f_W3sZmlsZQ==.jl:157\n",
      "┌ Info: DMRG conv 2:\tobj = +2.178663041251e+03 +1.007025395331e+03im\terr = 1.3533676010e-15\ttime = 0.34 sec\n",
      "└ @ Main c:\\Users\\vicva\\OneDrive\\Documenten\\git\\Thesis_CCFT\\jl_notebook_cell_df34fa98e69747e1a8f8a730347b8e2f_W3sZmlsZQ==.jl:151\n",
      "┌ Info: DMRG init:\tobj = +1.472515888702e+03 +6.251642487560e+02im\terr = 1.0215e-02\n",
      "└ @ Main c:\\Users\\vicva\\OneDrive\\Documenten\\git\\Thesis_CCFT\\jl_notebook_cell_df34fa98e69747e1a8f8a730347b8e2f_W3sZmlsZQ==.jl:136\n",
      "┌ Info: DMRG   1:\tobj = +1.473160586459e+03 +6.228747355928e+02im\terr = 2.0697454295e-09\ttime = 0.49 sec\n",
      "└ @ Main c:\\Users\\vicva\\OneDrive\\Documenten\\git\\Thesis_CCFT\\jl_notebook_cell_df34fa98e69747e1a8f8a730347b8e2f_W3sZmlsZQ==.jl:157\n"
     ]
    },
    {
     "name": "stdout",
     "output_type": "stream",
     "text": [
      "(1.0, -2178.6630412508007 - 1007.0253953312837im, -1473.160586468402 - "
     ]
    },
    {
     "name": "stderr",
     "output_type": "stream",
     "text": [
      "┌ Info: DMRG conv 2:\tobj = +1.473160586468e+03 +6.228747356093e+02im\terr = 1.3059489957e-15\ttime = 0.84 sec\n",
      "└ @ Main c:\\Users\\vicva\\OneDrive\\Documenten\\git\\Thesis_CCFT\\jl_notebook_cell_df34fa98e69747e1a8f8a730347b8e2f_W3sZmlsZQ==.jl:151\n"
     ]
    },
    {
     "name": "stdout",
     "output_type": "stream",
     "text": [
      "622.8747356093213im)\n",
      "2178.6630412508007 + 1007.0253953312837im\n",
      "ComplexF64[1473.160586468402 + 622.8747356093213im]\n",
      "0.2716049382716049\n"
     ]
    },
    {
     "name": "stderr",
     "output_type": "stream",
     "text": [
      "┌ Info: DMRG init:\tobj = +1.754942294825e+03 +8.101159353972e+02im\terr = 5.4959e-03\n",
      "└ @ Main c:\\Users\\vicva\\OneDrive\\Documenten\\git\\Thesis_CCFT\\jl_notebook_cell_df34fa98e69747e1a8f8a730347b8e2f_W3sZmlsZQ==.jl:136\n",
      "┌ Info: DMRG   1:\tobj = +1.755050915367e+03 +8.097364529132e+02im\terr = 1.7918718561e-09\ttime = 0.18 sec\n",
      "└ @ Main c:\\Users\\vicva\\OneDrive\\Documenten\\git\\Thesis_CCFT\\jl_notebook_cell_df34fa98e69747e1a8f8a730347b8e2f_W3sZmlsZQ==.jl:157\n",
      "┌ Info: DMRG conv 2:\tobj = +1.755050915363e+03 +8.097364529129e+02im\terr = 1.0900361600e-15\ttime = 0.71 sec\n",
      "└ @ Main c:\\Users\\vicva\\OneDrive\\Documenten\\git\\Thesis_CCFT\\jl_notebook_cell_df34fa98e69747e1a8f8a730347b8e2f_W3sZmlsZQ==.jl:151\n",
      "┌ Info: DMRG init:\tobj = +1.209276205582e+03 +5.044145684726e+02im\terr = 1.2142e-02\n",
      "└ @ Main c:\\Users\\vicva\\OneDrive\\Documenten\\git\\Thesis_CCFT\\jl_notebook_cell_df34fa98e69747e1a8f8a730347b8e2f_W3sZmlsZQ==.jl:136\n",
      "┌ Info: DMRG   1:\tobj = +1.209977034137e+03 +5.016295398974e+02im\terr = 2.5669844522e-09\ttime = 0.39 sec\n",
      "└ @ Main c:\\Users\\vicva\\OneDrive\\Documenten\\git\\Thesis_CCFT\\jl_notebook_cell_df34fa98e69747e1a8f8a730347b8e2f_W3sZmlsZQ==.jl:157\n"
     ]
    },
    {
     "name": "stdout",
     "output_type": "stream",
     "text": [
      "(1.0, -1755.050915363129 - 809.7364529128893im, -1209.977034155561 - 501.6295399295514im)\n",
      "1755.050915363129 + 809.7364529128893im\n",
      "ComplexF64[1209.977034155561 + 501.6295399295514"
     ]
    },
    {
     "name": "stderr",
     "output_type": "stream",
     "text": [
      "┌ Info: DMRG conv 2:\tobj = +1.209977034156e+03 +5.016295399296e+02im\terr = 1.7614226978e-15\ttime = 0.62 sec\n",
      "└ @ Main c:\\Users\\vicva\\OneDrive\\Documenten\\git\\Thesis_CCFT\\jl_notebook_cell_df34fa98e69747e1a8f8a730347b8e2f_W3sZmlsZQ==.jl:151\n"
     ]
    },
    {
     "name": "stdout",
     "output_type": "stream",
     "text": [
      "im]\n",
      "0.2839506172839506\n"
     ]
    },
    {
     "name": "stderr",
     "output_type": "stream",
     "text": [
      "┌ Info: DMRG init:\tobj = +1.414310300889e+03 +6.512021026050e+02im\terr = 6.7046e-03\n",
      "└ @ Main c:\\Users\\vicva\\OneDrive\\Documenten\\git\\Thesis_CCFT\\jl_notebook_cell_df34fa98e69747e1a8f8a730347b8e2f_W3sZmlsZQ==.jl:136\n",
      "┌ Info: DMRG   1:\tobj = +1.414430284976e+03 +6.507263207511e+02im\terr = 3.8670009481e-10\ttime = 0.17 sec\n",
      "└ @ Main c:\\Users\\vicva\\OneDrive\\Documenten\\git\\Thesis_CCFT\\jl_notebook_cell_df34fa98e69747e1a8f8a730347b8e2f_W3sZmlsZQ==.jl:157\n",
      "┌ Info: DMRG conv 2:\tobj = +1.414430284975e+03 +6.507263207498e+02im\terr = 1.1913686632e-15\ttime = 0.33 sec\n",
      "└ @ Main c:\\Users\\vicva\\OneDrive\\Documenten\\git\\Thesis_CCFT\\jl_notebook_cell_df34fa98e69747e1a8f8a730347b8e2f_W3sZmlsZQ==.jl:151\n",
      "┌ Info: DMRG init:\tobj = +9.973593214809e+02 +4.062714395113e+02im\terr = 1.4567e-02\n",
      "└ @ Main c:\\Users\\vicva\\OneDrive\\Documenten\\git\\Thesis_CCFT\\jl_notebook_cell_df34fa98e69747e1a8f8a730347b8e2f_W3sZmlsZQ==.jl:136\n",
      "┌ Info: DMRG   1:\tobj = +9.981272860690e+02 +4.027853398278e+02im\terr = 3.1275033886e-09\ttime = 0.20 sec\n",
      "└ @ Main c:\\Users\\vicva\\OneDrive\\Documenten\\git\\Thesis_CCFT\\jl_notebook_cell_df34fa98e69747e1a8f8a730347b8e2f_W3sZmlsZQ==.jl:157\n"
     ]
    },
    {
     "name": "stdout",
     "output_type": "stream",
     "text": [
      "(1.0, -1414.4302849754902 - 650.7263207497847im, -998.1272860936164 - 402.785339878199im)\n",
      "1414.4302849754902 + 650.7263207497847im\n",
      "ComplexF64[998.1272860936164 + 402.785339878199im]\n",
      "0.2962962962962963\n"
     ]
    },
    {
     "name": "stderr",
     "output_type": "stream",
     "text": [
      "┌ Info: DMRG conv 2:\tobj = +9.981272860936e+02 +4.027853398782e+02im\terr = 1.6556909946e-15\ttime = 0.43 sec\n",
      "└ @ Main c:\\Users\\vicva\\OneDrive\\Documenten\\git\\Thesis_CCFT\\jl_notebook_cell_df34fa98e69747e1a8f8a730347b8e2f_W3sZmlsZQ==.jl:151\n",
      "┌ Info: DMRG init:\tobj = +1.140560361433e+03 +5.229525241761e+02im\terr = 8.3403e-03\n",
      "└ @ Main c:\\Users\\vicva\\OneDrive\\Documenten\\git\\Thesis_CCFT\\jl_notebook_cell_df34fa98e69747e1a8f8a730347b8e2f_W3sZmlsZQ==.jl:136\n",
      "┌ Info: DMRG   1:\tobj = +1.140693638713e+03 +5.223318920533e+02im\terr = 9.5832673694e-10\ttime = 0.15 sec\n",
      "└ @ Main c:\\Users\\vicva\\OneDrive\\Documenten\\git\\Thesis_CCFT\\jl_notebook_cell_df34fa98e69747e1a8f8a730347b8e2f_W3sZmlsZQ==.jl:157\n",
      "┌ Info: DMRG conv 2:\tobj = +1.140693638711e+03 +5.223318920499e+02im\terr = 1.1536567996e-15\ttime = 0.31 sec\n",
      "└ @ Main c:\\Users\\vicva\\OneDrive\\Documenten\\git\\Thesis_CCFT\\jl_notebook_cell_df34fa98e69747e1a8f8a730347b8e2f_W3sZmlsZQ==.jl:151\n",
      "┌ Info: DMRG init:\tobj = +8.273335855576e+02 +3.261378973528e+02im\terr = 1.7645e-02\n",
      "└ @ Main c:\\Users\\vicva\\OneDrive\\Documenten\\git\\Thesis_CCFT\\jl_notebook_cell_df34fa98e69747e1a8f8a730347b8e2f_W3sZmlsZQ==.jl:136\n",
      "┌ Info: DMRG   1:\tobj = +8.281841986967e+02 +3.216406751180e+02im\terr = 4.3879346888e-09\ttime = 0.72 sec\n",
      "└ @ Main c:\\Users\\vicva\\OneDrive\\Documenten\\git\\Thesis_CCFT\\jl_notebook_cell_df34fa98e69747e1a8f8a730347b8e2f_W3sZmlsZQ==.jl:157\n"
     ]
    },
    {
     "name": "stdout",
     "output_type": "stream",
     "text": [
      "(1.0, -1140.6936387106464 - 522.3318920499454im, -828.184198718077 - 321.64067517891726im)\n"
     ]
    },
    {
     "name": "stderr",
     "output_type": "stream",
     "text": [
      "┌ Info: DMRG conv 2:\tobj = +8.281841987181e+02 +3.216406751789e+02im\terr = 2.8183253148e-15\ttime = 0.99 sec\n",
      "└ @ Main c:\\Users\\vicva\\OneDrive\\Documenten\\git\\Thesis_CCFT\\jl_notebook_cell_df34fa98e69747e1a8f8a730347b8e2f_W3sZmlsZQ==.jl:151\n"
     ]
    },
    {
     "name": "stdout",
     "output_type": "stream",
     "text": [
      "1140.6936387106464 + 522.3318920499454im\n",
      "ComplexF64[828.184198718077 + 321.64067517891726im]\n",
      "0.30864197530864196\n"
     ]
    },
    {
     "name": "stderr",
     "output_type": "stream",
     "text": [
      "┌ Info: DMRG init:\tobj = +9.208025254539e+02 +4.191117534315e+02im\terr = 1.0653e-02\n",
      "└ @ Main c:\\Users\\vicva\\OneDrive\\Documenten\\git\\Thesis_CCFT\\jl_notebook_cell_df34fa98e69747e1a8f8a730347b8e2f_W3sZmlsZQ==.jl:136\n",
      "┌ Info: DMRG   1:\tobj = +9.209451705078e+02 +4.182640337605e+02im\terr = 2.5003440638e-09\ttime = 0.15 sec\n",
      "└ @ Main c:\\Users\\vicva\\OneDrive\\Documenten\\git\\Thesis_CCFT\\jl_notebook_cell_df34fa98e69747e1a8f8a730347b8e2f_W3sZmlsZQ==.jl:157\n",
      "┌ Info: DMRG conv 2:\tobj = +9.209451704993e+02 +4.182640337498e+02im\terr = 1.0084761718e-15\ttime = 0.27 sec\n",
      "└ @ Main c:\\Users\\vicva\\OneDrive\\Documenten\\git\\Thesis_CCFT\\jl_notebook_cell_df34fa98e69747e1a8f8a730347b8e2f_W3sZmlsZQ==.jl:151\n",
      "┌ Info: DMRG init:\tobj = +6.917631247703e+02 +2.601811984449e+02im\terr = 2.1576e-02\n",
      "└ @ Main c:\\Users\\vicva\\OneDrive\\Documenten\\git\\Thesis_CCFT\\jl_notebook_cell_df34fa98e69747e1a8f8a730347b8e2f_W3sZmlsZQ==.jl:136\n",
      "┌ Info: DMRG   1:\tobj = +6.927306326268e+02 +2.542039473176e+02im\terr = 9.5026011920e-09\ttime = 0.22 sec\n",
      "└ @ Main c:\\Users\\vicva\\OneDrive\\Documenten\\git\\Thesis_CCFT\\jl_notebook_cell_df34fa98e69747e1a8f8a730347b8e2f_W3sZmlsZQ==.jl:157\n"
     ]
    },
    {
     "name": "stdout",
     "output_type": "stream",
     "text": [
      "(1.0, -920.9451704992698 - 418.2640337498376im, -692.7306325660654 - 254.2039473236884im)\n",
      "920.9451704992698 + 418.2640337498376im\n",
      "ComplexF64[692.7306325660654 + 254.2039473236884im]\n",
      "0.32098765432098764\n"
     ]
    },
    {
     "name": "stderr",
     "output_type": "stream",
     "text": [
      "┌ Info: DMRG conv 2:\tobj = +6.927306325661e+02 +2.542039473237e+02im\terr = 6.9883828559e-15\ttime = 0.42 sec\n",
      "└ @ Main c:\\Users\\vicva\\OneDrive\\Documenten\\git\\Thesis_CCFT\\jl_notebook_cell_df34fa98e69747e1a8f8a730347b8e2f_W3sZmlsZQ==.jl:151\n",
      "┌ Info: DMRG init:\tobj = +7.447774676428e+02 +3.344714764554e+02im\terr = 1.4172e-02\n",
      "└ @ Main c:\\Users\\vicva\\OneDrive\\Documenten\\git\\Thesis_CCFT\\jl_notebook_cell_df34fa98e69747e1a8f8a730347b8e2f_W3sZmlsZQ==.jl:136\n",
      "┌ Info: DMRG   1:\tobj = +7.448970722860e+02 +3.332449668930e+02im\terr = 7.5565835999e-09\ttime = 0.12 sec\n",
      "└ @ Main c:\\Users\\vicva\\OneDrive\\Documenten\\git\\Thesis_CCFT\\jl_notebook_cell_df34fa98e69747e1a8f8a730347b8e2f_W3sZmlsZQ==.jl:157\n",
      "┌ Info: DMRG conv 2:\tobj = +7.448970722456e+02 +3.332449668475e+02im\terr = 1.2616938584e-15\ttime = 0.23 sec\n",
      "└ @ Main c:\\Users\\vicva\\OneDrive\\Documenten\\git\\Thesis_CCFT\\jl_notebook_cell_df34fa98e69747e1a8f8a730347b8e2f_W3sZmlsZQ==.jl:151\n",
      "┌ Info: DMRG init:\tobj = +5.849291139784e+02 +2.051165891226e+02im\terr = 2.6591e-02\n",
      "└ @ Main c:\\Users\\vicva\\OneDrive\\Documenten\\git\\Thesis_CCFT\\jl_notebook_cell_df34fa98e69747e1a8f8a730347b8e2f_W3sZmlsZQ==.jl:136\n",
      "┌ Info: DMRG   1:\tobj = +5.861194513371e+02 +1.969756841992e+02im\terr = 1.9714047499e-08\ttime = 0.18 sec\n",
      "└ @ Main c:\\Users\\vicva\\OneDrive\\Documenten\\git\\Thesis_CCFT\\jl_notebook_cell_df34fa98e69747e1a8f8a730347b8e2f_W3sZmlsZQ==.jl:157\n"
     ]
    },
    {
     "name": "stdout",
     "output_type": "stream",
     "text": [
      "(1.0, -744.8970722455633 - 333.24496684752285im, "
     ]
    },
    {
     "name": "stderr",
     "output_type": "stream",
     "text": [
      "┌ Info: DMRG conv 2:\tobj = +5.861194511767e+02 +1.969756837952e+02im\terr = 5.2072343208e-15\ttime = 0.35 sec\n",
      "└ @ Main c:\\Users\\vicva\\OneDrive\\Documenten\\git\\Thesis_CCFT\\jl_notebook_cell_df34fa98e69747e1a8f8a730347b8e2f_W3sZmlsZQ==.jl:151\n"
     ]
    },
    {
     "name": "stdout",
     "output_type": "stream",
     "text": [
      "-586.1194511766605 - 196.9756837952452im)\n",
      "744.8970722455633 + 333.24496684752285im\n",
      "ComplexF64[586.1194511766605 + 196.9756837952452im]\n",
      "0.3333333333333333\n"
     ]
    },
    {
     "name": "stderr",
     "output_type": "stream",
     "text": [
      "┌ Info: DMRG init:\tobj = +6.044044676024e+02 +2.645491830398e+02im\terr = 2.0150e-02\n",
      "└ @ Main c:\\Users\\vicva\\OneDrive\\Documenten\\git\\Thesis_CCFT\\jl_notebook_cell_df34fa98e69747e1a8f8a730347b8e2f_W3sZmlsZQ==.jl:136\n",
      "┌ Info: DMRG   1:\tobj = +6.043489475547e+02 +2.626288725875e+02im\terr = 3.0100132539e-08\ttime = 0.13 sec\n",
      "└ @ Main c:\\Users\\vicva\\OneDrive\\Documenten\\git\\Thesis_CCFT\\jl_notebook_cell_df34fa98e69747e1a8f8a730347b8e2f_W3sZmlsZQ==.jl:157\n",
      "┌ Info: DMRG conv 2:\tobj = +6.043489473199e+02 +2.626288722872e+02im\terr = 1.0759535216e-15\ttime = 0.26 sec\n",
      "└ @ Main c:\\Users\\vicva\\OneDrive\\Documenten\\git\\Thesis_CCFT\\jl_notebook_cell_df34fa98e69747e1a8f8a730347b8e2f_W3sZmlsZQ==.jl:151\n",
      "┌ Info: DMRG init:\tobj = +5.026861691547e+02 +1.580107066818e+02im\terr = 3.2874e-02\n",
      "└ @ Main c:\\Users\\vicva\\OneDrive\\Documenten\\git\\Thesis_CCFT\\jl_notebook_cell_df34fa98e69747e1a8f8a730347b8e2f_W3sZmlsZQ==.jl:136\n",
      "┌ Info: DMRG   1:\tobj = +5.044285588023e+02 +1.468744892887e+02im\terr = 4.1813912946e-08\ttime = 0.20 sec\n",
      "└ @ Main c:\\Users\\vicva\\OneDrive\\Documenten\\git\\Thesis_CCFT\\jl_notebook_cell_df34fa98e69747e1a8f8a730347b8e2f_W3sZmlsZQ==.jl:157\n"
     ]
    },
    {
     "name": "stdout",
     "output_type": "stream",
     "text": [
      "(1.0, -604.3489473198646 - 262.6288722871859im, -504.4285595456246 - 146.874488323835im)\n",
      "604.3489473198646 + 262.6288722871859im\n",
      "ComplexF64[504.4285595456246 + 146.874488323835im]\n",
      "0.345679012345679\n"
     ]
    },
    {
     "name": "stderr",
     "output_type": "stream",
     "text": [
      "┌ Info: DMRG conv 2:\tobj = +5.044285595456e+02 +1.468744883238e+02im\terr = 1.6465027016e-14\ttime = 0.38 sec\n",
      "└ @ Main c:\\Users\\vicva\\OneDrive\\Documenten\\git\\Thesis_CCFT\\jl_notebook_cell_df34fa98e69747e1a8f8a730347b8e2f_W3sZmlsZQ==.jl:151\n",
      "┌ Info: DMRG init:\tobj = +3.565919867665e+03 +7.813454693960e+02im\terr = 9.3047e-02\n",
      "└ @ Main c:\\Users\\vicva\\OneDrive\\Documenten\\git\\Thesis_CCFT\\jl_notebook_cell_df34fa98e69747e1a8f8a730347b8e2f_W3sZmlsZQ==.jl:136\n",
      "┌ Info: DMRG   1:\tobj = +3.617111422845e+03 +7.969774773520e+02im\terr = 1.5379535604e-08\ttime = 0.13 sec\n",
      "└ @ Main c:\\Users\\vicva\\OneDrive\\Documenten\\git\\Thesis_CCFT\\jl_notebook_cell_df34fa98e69747e1a8f8a730347b8e2f_W3sZmlsZQ==.jl:157\n",
      "┌ Info: DMRG conv 2:\tobj = +3.617111422802e+03 +7.969774773789e+02im\terr = 2.9887787707e-15\ttime = 0.37 sec\n",
      "└ @ Main c:\\Users\\vicva\\OneDrive\\Documenten\\git\\Thesis_CCFT\\jl_notebook_cell_df34fa98e69747e1a8f8a730347b8e2f_W3sZmlsZQ==.jl:151\n",
      "┌ Info: DMRG init:\tobj = +2.099302802924e+03 +4.103407230560e+02im\terr = 1.8653e-01\n",
      "└ @ Main c:\\Users\\vicva\\OneDrive\\Documenten\\git\\Thesis_CCFT\\jl_notebook_cell_df34fa98e69747e1a8f8a730347b8e2f_W3sZmlsZQ==.jl:136\n",
      "┌ Info: DMRG   1:\tobj = +2.358926498886e+03 +4.892966380711e+02im\terr = 3.2883795894e-08\ttime = 0.18 sec\n",
      "└ @ Main c:\\Users\\vicva\\OneDrive\\Documenten\\git\\Thesis_CCFT\\jl_notebook_cell_df34fa98e69747e1a8f8a730347b8e2f_W3sZmlsZQ==.jl:157\n"
     ]
    },
    {
     "name": "stdout",
     "output_type": "stream",
     "text": [
      "(1.0, -3617.1114228021142 - 796.9774773788824im, -2358.9264988435584 - 489.29663798625256im)\n",
      "3617.1114228021142 + 796.9774773788824im\n",
      "ComplexF64[2358.9264988435584 + 489.29663798625256im]\n",
      "0.35802469135802467\n"
     ]
    },
    {
     "name": "stderr",
     "output_type": "stream",
     "text": [
      "┌ Info: DMRG conv 2:\tobj = +2.358926498844e+03 +4.892966379863e+02im\terr = 1.7945095400e-15\ttime = 0.36 sec\n",
      "└ @ Main c:\\Users\\vicva\\OneDrive\\Documenten\\git\\Thesis_CCFT\\jl_notebook_cell_df34fa98e69747e1a8f8a730347b8e2f_W3sZmlsZQ==.jl:151\n",
      "┌ Info: DMRG init:\tobj = +2.912132769167e+03 +6.412400367665e+02im\terr = 3.9231e-03\n",
      "└ @ Main c:\\Users\\vicva\\OneDrive\\Documenten\\git\\Thesis_CCFT\\jl_notebook_cell_df34fa98e69747e1a8f8a730347b8e2f_W3sZmlsZQ==.jl:136\n",
      "┌ Info: DMRG   1:\tobj = +2.912210823235e+03 +6.410999373563e+02im\terr = 4.0902328095e-10\ttime = 0.14 sec\n",
      "└ @ Main c:\\Users\\vicva\\OneDrive\\Documenten\\git\\Thesis_CCFT\\jl_notebook_cell_df34fa98e69747e1a8f8a730347b8e2f_W3sZmlsZQ==.jl:157\n",
      "┌ Info: DMRG conv 2:\tobj = +2.912210823235e+03 +6.410999373557e+02im\terr = 1.0127432990e-15\ttime = 0.28 sec\n",
      "└ @ Main c:\\Users\\vicva\\OneDrive\\Documenten\\git\\Thesis_CCFT\\jl_notebook_cell_df34fa98e69747e1a8f8a730347b8e2f_W3sZmlsZQ==.jl:151\n",
      "┌ Info: DMRG init:\tobj = +1.924574348134e+03 +3.959867447270e+02im\terr = 8.8221e-03\n",
      "└ @ Main c:\\Users\\vicva\\OneDrive\\Documenten\\git\\Thesis_CCFT\\jl_notebook_cell_df34fa98e69747e1a8f8a730347b8e2f_W3sZmlsZQ==.jl:136\n",
      "┌ Info: DMRG   1:\tobj = +1.925113335120e+03 +3.949777997602e+02im\terr = 1.6823481305e-09\ttime = 0.40 sec\n",
      "└ @ Main c:\\Users\\vicva\\OneDrive\\Documenten\\git\\Thesis_CCFT\\jl_notebook_cell_df34fa98e69747e1a8f8a730347b8e2f_W3sZmlsZQ==.jl:157\n"
     ]
    },
    {
     "name": "stdout",
     "output_type": "stream",
     "text": [
      "(1.0, -2912.2108232347423 - 641.0999373556548im, -1925.1133351201868 - 394.977799764874im)\n"
     ]
    },
    {
     "name": "stderr",
     "output_type": "stream",
     "text": [
      "┌ Info: DMRG conv 2:\tobj = +1.925113335120e+03 +3.949777997649e+02im\terr = 1.2693135167e-15\ttime = 1.27 sec\n",
      "└ @ Main c:\\Users\\vicva\\OneDrive\\Documenten\\git\\Thesis_CCFT\\jl_notebook_cell_df34fa98e69747e1a8f8a730347b8e2f_W3sZmlsZQ==.jl:151\n"
     ]
    },
    {
     "name": "stdout",
     "output_type": "stream",
     "text": [
      "2912.2108232347423 + 641.0999373556548im\n",
      "ComplexF64[1925.1133351201868 + 394.977799764874im]\n",
      "0.37037037037037035\n"
     ]
    },
    {
     "name": "stderr",
     "output_type": "stream",
     "text": [
      "┌ Info: DMRG init:\tobj = +2.345118144583e+03 +5.157957552975e+02im\terr = 4.6528e-03\n",
      "└ @ Main c:\\Users\\vicva\\OneDrive\\Documenten\\git\\Thesis_CCFT\\jl_notebook_cell_df34fa98e69747e1a8f8a730347b8e2f_W3sZmlsZQ==.jl:136\n",
      "┌ Info: DMRG   1:\tobj = +2.345207102831e+03 +5.156308295668e+02im\terr = 8.2950169392e-10\ttime = 0.16 sec\n",
      "└ @ Main c:\\Users\\vicva\\OneDrive\\Documenten\\git\\Thesis_CCFT\\jl_notebook_cell_df34fa98e69747e1a8f8a730347b8e2f_W3sZmlsZQ==.jl:157\n",
      "┌ Info: DMRG conv 2:\tobj = +2.345207102830e+03 +5.156308295656e+02im\terr = 1.1899393497e-15\ttime = 0.27 sec\n",
      "└ @ Main c:\\Users\\vicva\\OneDrive\\Documenten\\git\\Thesis_CCFT\\jl_notebook_cell_df34fa98e69747e1a8f8a730347b8e2f_W3sZmlsZQ==.jl:151\n",
      "┌ Info: DMRG init:\tobj = +1.574407057264e+03 +3.197613228185e+02im\terr = 1.0405e-02\n",
      "└ @ Main c:\\Users\\vicva\\OneDrive\\Documenten\\git\\Thesis_CCFT\\jl_notebook_cell_df34fa98e69747e1a8f8a730347b8e2f_W3sZmlsZQ==.jl:136\n",
      "┌ Info: DMRG   1:\tobj = +1.575028712157e+03 +3.185607727673e+02im\terr = 2.0351604674e-09\ttime = 0.14 sec\n",
      "└ @ Main c:\\Users\\vicva\\OneDrive\\Documenten\\git\\Thesis_CCFT\\jl_notebook_cell_df34fa98e69747e1a8f8a730347b8e2f_W3sZmlsZQ==.jl:157\n"
     ]
    },
    {
     "name": "stdout",
     "output_type": "stream",
     "text": [
      "(1.0, -2345.207102829806 - 515.6308295655788im, -1575.0287121599522 - 318.56077277783464im)\n",
      "2345.207102829806"
     ]
    },
    {
     "name": "stderr",
     "output_type": "stream",
     "text": [
      "┌ Info: DMRG conv 2:\tobj = +1.575028712160e+03 +3.185607727778e+02im\terr = 1.2718313121e-15\ttime = 0.38 sec\n",
      "└ @ Main c:\\Users\\vicva\\OneDrive\\Documenten\\git\\Thesis_CCFT\\jl_notebook_cell_df34fa98e69747e1a8f8a730347b8e2f_W3sZmlsZQ==.jl:151\n"
     ]
    },
    {
     "name": "stdout",
     "output_type": "stream",
     "text": [
      " + 515.6308295655788im\n",
      "ComplexF64[1575.0287121599522 + 318.56077277783464im]\n",
      "0.38271604938271603\n"
     ]
    },
    {
     "name": "stderr",
     "output_type": "stream",
     "text": [
      "┌ Info: DMRG init:\tobj = +1.889113693349e+03 +4.147881690598e+02im\terr = 5.5958e-03\n",
      "└ @ Main c:\\Users\\vicva\\OneDrive\\Documenten\\git\\Thesis_CCFT\\jl_notebook_cell_df34fa98e69747e1a8f8a730347b8e2f_W3sZmlsZQ==.jl:136\n",
      "┌ Info: DMRG   1:\tobj = +1.889218159054e+03 +4.145874494895e+02im\terr = 2.1273644622e-09\ttime = 0.11 sec\n",
      "└ @ Main c:\\Users\\vicva\\OneDrive\\Documenten\\git\\Thesis_CCFT\\jl_notebook_cell_df34fa98e69747e1a8f8a730347b8e2f_W3sZmlsZQ==.jl:157\n",
      "┌ Info: DMRG conv 2:\tobj = +1.889218159051e+03 +4.145874494870e+02im\terr = 1.0409375178e-15\ttime = 0.21 sec\n",
      "└ @ Main c:\\Users\\vicva\\OneDrive\\Documenten\\git\\Thesis_CCFT\\jl_notebook_cell_df34fa98e69747e1a8f8a730347b8e2f_W3sZmlsZQ==.jl:151\n",
      "┌ Info: DMRG init:\tobj = +1.292112762651e+03 +2.579648120014e+02im\terr = 1.2381e-02\n",
      "└ @ Main c:\\Users\\vicva\\OneDrive\\Documenten\\git\\Thesis_CCFT\\jl_notebook_cell_df34fa98e69747e1a8f8a730347b8e2f_W3sZmlsZQ==.jl:136\n",
      "┌ Info: DMRG   1:\tobj = +1.292847336263e+03 +2.564967518091e+02im\terr = 2.5219530993e-09\ttime = 0.13 sec\n",
      "└ @ Main c:\\Users\\vicva\\OneDrive\\Documenten\\git\\Thesis_CCFT\\jl_notebook_cell_df34fa98e69747e1a8f8a730347b8e2f_W3sZmlsZQ==.jl:157\n",
      "┌ Info: DMRG conv 2:\tobj = +1.292847336268e+03 +2.564967518268e+02im\terr = 1.3267259354e-15\ttime = 0.23 sec\n",
      "└ @ Main c:\\Users\\vicva\\OneDrive\\Documenten\\git\\Thesis_CCFT\\jl_notebook_cell_df34fa98e69747e1a8f8a730347b8e2f_W3sZmlsZQ==.jl:151\n"
     ]
    },
    {
     "name": "stdout",
     "output_type": "stream",
     "text": [
      "(1.0, -1889.2181590511634 - 414.58744948698165im, -1292.8473362676043 - 256.4967518268432im)\n",
      "1889.2181590511634 + 414.58744948698165im\n",
      "ComplexF64[1292.8473362676043 + 256.4967518268432im]\n",
      "0.3950617283950617\n"
     ]
    },
    {
     "name": "stderr",
     "output_type": "stream",
     "text": [
      "┌ Info: DMRG init:\tobj = +1.522534877910e+03 +3.333857292266e+02im\terr = 6.8399e-03\n",
      "└ @ Main c:\\Users\\vicva\\OneDrive\\Documenten\\git\\Thesis_CCFT\\jl_notebook_cell_df34fa98e69747e1a8f8a730347b8e2f_W3sZmlsZQ==.jl:136\n",
      "┌ Info: DMRG   1:\tobj = +1.522661711799e+03 +3.331320331904e+02im\terr = 4.0264872408e-10\ttime = 0.08 sec\n",
      "└ @ Main c:\\Users\\vicva\\OneDrive\\Documenten\\git\\Thesis_CCFT\\jl_notebook_cell_df34fa98e69747e1a8f8a730347b8e2f_W3sZmlsZQ==.jl:157\n",
      "┌ Info: DMRG conv 2:\tobj = +1.522661711799e+03 +3.331320331899e+02im\terr = 1.4108856664e-15\ttime = 0.17 sec\n",
      "└ @ Main c:\\Users\\vicva\\OneDrive\\Documenten\\git\\Thesis_CCFT\\jl_notebook_cell_df34fa98e69747e1a8f8a730347b8e2f_W3sZmlsZQ==.jl:151\n",
      "┌ Info: DMRG init:\tobj = +1.065013756662e+03 +2.077263953817e+02im\terr = 1.4866e-02\n",
      "└ @ Main c:\\Users\\vicva\\OneDrive\\Documenten\\git\\Thesis_CCFT\\jl_notebook_cell_df34fa98e69747e1a8f8a730347b8e2f_W3sZmlsZQ==.jl:136\n",
      "┌ Info: DMRG   1:\tobj = +1.065905283136e+03 +2.058784331171e+02im\terr = 3.0681722375e-09\ttime = 0.12 sec\n",
      "└ @ Main c:\\Users\\vicva\\OneDrive\\Documenten\\git\\Thesis_CCFT\\jl_notebook_cell_df34fa98e69747e1a8f8a730347b8e2f_W3sZmlsZQ==.jl:157\n"
     ]
    },
    {
     "name": "stdout",
     "output_type": "stream",
     "text": [
      "(1.0, -1522.661711798668 - 333.1320331899142im, -1065.9052831418337 - 205.87843314062772im)\n",
      "1522.661711798668 + 333.1320331899142im\n",
      "ComplexF64[1065.9052831418337 + 205.87843314062772im]\n",
      "0.4074074074074074\n"
     ]
    },
    {
     "name": "stderr",
     "output_type": "stream",
     "text": [
      "┌ Info: DMRG conv 2:\tobj = +1.065905283142e+03 +2.058784331406e+02im\terr = 1.8437122453e-15\ttime = 0.26 sec\n",
      "└ @ Main c:\\Users\\vicva\\OneDrive\\Documenten\\git\\Thesis_CCFT\\jl_notebook_cell_df34fa98e69747e1a8f8a730347b8e2f_W3sZmlsZQ==.jl:151\n",
      "┌ Info: DMRG init:\tobj = +1.228088716987e+03 +2.676647161943e+02im\terr = 8.5298e-03\n",
      "└ @ Main c:\\Users\\vicva\\OneDrive\\Documenten\\git\\Thesis_CCFT\\jl_notebook_cell_df34fa98e69747e1a8f8a730347b8e2f_W3sZmlsZQ==.jl:136\n",
      "┌ Info: DMRG   1:\tobj = +1.228248391252e+03 +2.673292980592e+02im\terr = 9.1696376486e-10\ttime = 0.07 sec\n",
      "└ @ Main c:\\Users\\vicva\\OneDrive\\Documenten\\git\\Thesis_CCFT\\jl_notebook_cell_df34fa98e69747e1a8f8a730347b8e2f_W3sZmlsZQ==.jl:157\n",
      "┌ Info: DMRG conv 2:\tobj = +1.228248391251e+03 +2.673292980578e+02im\terr = 1.0504976840e-15\ttime = 0.17 sec\n",
      "└ @ Main c:\\Users\\vicva\\OneDrive\\Documenten\\git\\Thesis_CCFT\\jl_notebook_cell_df34fa98e69747e1a8f8a730347b8e2f_W3sZmlsZQ==.jl:151\n",
      "┌ Info: DMRG init:\tobj = +8.830281040966e+02 +1.666873050969e+02im\terr = 1.8015e-02\n",
      "└ @ Main c:\\Users\\vicva\\OneDrive\\Documenten\\git\\Thesis_CCFT\\jl_notebook_cell_df34fa98e69747e1a8f8a730347b8e2f_W3sZmlsZQ==.jl:136\n",
      "┌ Info: DMRG   1:\tobj = +8.841423752531e+02 +1.642925371631e+02im\terr = 4.0406790192e-09\ttime = 0.12 sec\n",
      "└ @ Main c:\\Users\\vicva\\OneDrive\\Documenten\\git\\Thesis_CCFT\\jl_notebook_cell_df34fa98e69747e1a8f8a730347b8e2f_W3sZmlsZQ==.jl:157\n"
     ]
    },
    {
     "name": "stdout",
     "output_type": "stream",
     "text": [
      "(1.0, -1228.2483912514813 - 267.32929805783203im, -884.1423752567196 - 164.29253718835312im)\n",
      "1228.2483912514813 + "
     ]
    },
    {
     "name": "stderr",
     "output_type": "stream",
     "text": [
      "┌ Info: DMRG conv 2:\tobj = +8.841423752567e+02 +1.642925371884e+02im\terr = 2.2140661379e-15\ttime = 0.24 sec\n",
      "└ @ Main c:\\Users\\vicva\\OneDrive\\Documenten\\git\\Thesis_CCFT\\jl_notebook_cell_df34fa98e69747e1a8f8a730347b8e2f_W3sZmlsZQ==.jl:151\n"
     ]
    },
    {
     "name": "stdout",
     "output_type": "stream",
     "text": [
      "267.32929805783203im\n",
      "ComplexF64[884.1423752567196 + 164.29253718835312im]\n",
      "0.41975308641975306\n"
     ]
    },
    {
     "name": "stderr",
     "output_type": "stream",
     "text": [
      "┌ Info: DMRG init:\tobj = +9.919842955472e+02 +2.144052648813e+02im\terr = 1.0935e-02\n",
      "└ @ Main c:\\Users\\vicva\\OneDrive\\Documenten\\git\\Thesis_CCFT\\jl_notebook_cell_df34fa98e69747e1a8f8a730347b8e2f_W3sZmlsZQ==.jl:136\n",
      "┌ Info: DMRG   1:\tobj = +9.921928955119e+02 +2.139349336833e+02im\terr = 2.0173275966e-09\ttime = 0.08 sec\n",
      "└ @ Main c:\\Users\\vicva\\OneDrive\\Documenten\\git\\Thesis_CCFT\\jl_notebook_cell_df34fa98e69747e1a8f8a730347b8e2f_W3sZmlsZQ==.jl:157\n",
      "┌ Info: DMRG conv 2:\tobj = +9.921928955111e+02 +2.139349336798e+02im\terr = 1.7673282473e-15\ttime = 0.15 sec\n",
      "└ @ Main c:\\Users\\vicva\\OneDrive\\Documenten\\git\\Thesis_CCFT\\jl_notebook_cell_df34fa98e69747e1a8f8a730347b8e2f_W3sZmlsZQ==.jl:151\n",
      "┌ Info: DMRG init:\tobj = +7.382440408201e+02 +1.328795092017e+02im\terr = 2.2010e-02\n",
      "└ @ Main c:\\Users\\vicva\\OneDrive\\Documenten\\git\\Thesis_CCFT\\jl_notebook_cell_df34fa98e69747e1a8f8a730347b8e2f_W3sZmlsZQ==.jl:136\n",
      "┌ Info: DMRG   1:\tobj = +7.396814165251e+02 +1.296962850014e+02im\terr = 8.0319737958e-09\ttime = 0.22 sec\n",
      "└ @ Main c:\\Users\\vicva\\OneDrive\\Documenten\\git\\Thesis_CCFT\\jl_notebook_cell_df34fa98e69747e1a8f8a730347b8e2f_W3sZmlsZQ==.jl:157\n"
     ]
    },
    {
     "name": "stdout",
     "output_type": "stream",
     "text": [
      "(1.0, -992.192895511148 - 213.93493367984252im, -739.6814165059519 - 129.69628499519084im)\n",
      "992.192895511148 + "
     ]
    },
    {
     "name": "stderr",
     "output_type": "stream",
     "text": [
      "┌ Info: DMRG conv 2:\tobj = +7.396814165060e+02 +1.296962849952e+02im\terr = 4.0898400221e-15\ttime = 0.34 sec\n",
      "└ @ Main c:\\Users\\vicva\\OneDrive\\Documenten\\git\\Thesis_CCFT\\jl_notebook_cell_df34fa98e69747e1a8f8a730347b8e2f_W3sZmlsZQ==.jl:151\n"
     ]
    },
    {
     "name": "stdout",
     "output_type": "stream",
     "text": [
      "213.93493367984252im\n",
      "ComplexF64[739.6814165059519 + 129.69628499519084im]\n",
      "0.43209876543209874\n"
     ]
    },
    {
     "name": "stderr",
     "output_type": "stream",
     "text": [
      "┌ Info: DMRG init:\tobj = +8.033361254836e+02 +1.709060133647e+02im\terr = 1.4636e-02\n",
      "└ @ Main c:\\Users\\vicva\\OneDrive\\Documenten\\git\\Thesis_CCFT\\jl_notebook_cell_df34fa98e69747e1a8f8a730347b8e2f_W3sZmlsZQ==.jl:136\n",
      "┌ Info: DMRG   1:\tobj = +8.036173857632e+02 +1.701869583538e+02im\terr = 4.2993073923e-09\ttime = 0.07 sec\n",
      "└ @ Main c:\\Users\\vicva\\OneDrive\\Documenten\\git\\Thesis_CCFT\\jl_notebook_cell_df34fa98e69747e1a8f8a730347b8e2f_W3sZmlsZQ==.jl:157\n",
      "┌ Info: DMRG conv 2:\tobj = +8.036173857630e+02 +1.701869583451e+02im\terr = 1.1425602901e-15\ttime = 0.15 sec\n",
      "└ @ Main c:\\Users\\vicva\\OneDrive\\Documenten\\git\\Thesis_CCFT\\jl_notebook_cell_df34fa98e69747e1a8f8a730347b8e2f_W3sZmlsZQ==.jl:151\n",
      "┌ Info: DMRG init:\tobj = +6.246108475713e+02 +1.046227035011e+02im\terr = 2.7023e-02\n",
      "└ @ Main c:\\Users\\vicva\\OneDrive\\Documenten\\git\\Thesis_CCFT\\jl_notebook_cell_df34fa98e69747e1a8f8a730347b8e2f_W3sZmlsZQ==.jl:136\n",
      "┌ Info: DMRG   1:\tobj = +6.265231956204e+02 +1.003307378201e+02im\terr = 1.1194453635e-08\ttime = 0.14 sec\n",
      "└ @ Main c:\\Users\\vicva\\OneDrive\\Documenten\\git\\Thesis_CCFT\\jl_notebook_cell_df34fa98e69747e1a8f8a730347b8e2f_W3sZmlsZQ==.jl:157\n"
     ]
    },
    {
     "name": "stdout",
     "output_type": "stream",
     "text": [
      "(1.0, -803.6173857629908 - 170.186958345129im, -626.5231955801745 - 100.33073772381901im)\n",
      "803.6173857629908 + 170.186958345129im\n"
     ]
    },
    {
     "name": "stderr",
     "output_type": "stream",
     "text": [
      "┌ Info: DMRG conv 2:\tobj = +6.265231955802e+02 +1.003307377238e+02im\terr = 7.7161227223e-15\ttime = 0.25 sec\n",
      "└ @ Main c:\\Users\\vicva\\OneDrive\\Documenten\\git\\Thesis_CCFT\\jl_notebook_cell_df34fa98e69747e1a8f8a730347b8e2f_W3sZmlsZQ==.jl:151\n"
     ]
    },
    {
     "name": "stdout",
     "output_type": "stream",
     "text": [
      "ComplexF64[626.5231955801745 + 100.33073772381901im]\n",
      "0.4444444444444444\n"
     ]
    },
    {
     "name": "stderr",
     "output_type": "stream",
     "text": [
      "┌ Info: DMRG init:\tobj = +6.537616649862e+02 +1.347883583108e+02im\terr = 2.1013e-02\n",
      "└ @ Main c:\\Users\\vicva\\OneDrive\\Documenten\\git\\Thesis_CCFT\\jl_notebook_cell_df34fa98e69747e1a8f8a730347b8e2f_W3sZmlsZQ==.jl:136\n",
      "┌ Info: DMRG   1:\tobj = +6.541440546378e+02 +1.335309985182e+02im\terr = 1.4840948937e-08\ttime = 0.10 sec\n",
      "└ @ Main c:\\Users\\vicva\\OneDrive\\Documenten\\git\\Thesis_CCFT\\jl_notebook_cell_df34fa98e69747e1a8f8a730347b8e2f_W3sZmlsZQ==.jl:157\n",
      "┌ Info: DMRG conv 2:\tobj = +6.541440546621e+02 +1.335309984804e+02im\terr = 7.5409090896e-15\ttime = 0.20 sec\n",
      "└ @ Main c:\\Users\\vicva\\OneDrive\\Documenten\\git\\Thesis_CCFT\\jl_notebook_cell_df34fa98e69747e1a8f8a730347b8e2f_W3sZmlsZQ==.jl:151\n",
      "┌ Info: DMRG init:\tobj = +5.377145841975e+02 +8.044773078916e+01im\terr = 3.3081e-02\n",
      "└ @ Main c:\\Users\\vicva\\OneDrive\\Documenten\\git\\Thesis_CCFT\\jl_notebook_cell_df34fa98e69747e1a8f8a730347b8e2f_W3sZmlsZQ==.jl:136\n",
      "┌ Info: DMRG   1:\tobj = +5.403021522506e+02 +7.471099691410e+01im\terr = 5.0950523395e-08\ttime = 0.21 sec\n",
      "└ @ Main c:\\Users\\vicva\\OneDrive\\Documenten\\git\\Thesis_CCFT\\jl_notebook_cell_df34fa98e69747e1a8f8a730347b8e2f_W3sZmlsZQ==.jl:157\n"
     ]
    },
    {
     "name": "stdout",
     "output_type": "stream",
     "text": [
      "(1.0, -654.1440546620605 - 133.53099848044354im, -540.3021522839506 - 74.71099700833176im)\n",
      "654.1440546620605"
     ]
    },
    {
     "name": "stderr",
     "output_type": "stream",
     "text": [
      "┌ Info: DMRG conv 2:\tobj = +5.403021522840e+02 +7.471099700833e+01im\terr = 4.6929172015e-14\ttime = 0.32 sec\n",
      "└ @ Main c:\\Users\\vicva\\OneDrive\\Documenten\\git\\Thesis_CCFT\\jl_notebook_cell_df34fa98e69747e1a8f8a730347b8e2f_W3sZmlsZQ==.jl:151\n"
     ]
    },
    {
     "name": "stdout",
     "output_type": "stream",
     "text": [
      " + 133.53099848044354im\n",
      "ComplexF64[540.3021522839506 + 74.71099700833176im]\n",
      "0.4567901234567901\n"
     ]
    },
    {
     "name": "stderr",
     "output_type": "stream",
     "text": [
      "┌ Info: DMRG init:\tobj = +3.646520225405e+03\terr = 1.0010e-01\n",
      "└ @ Main c:\\Users\\vicva\\OneDrive\\Documenten\\git\\Thesis_CCFT\\jl_notebook_cell_df34fa98e69747e1a8f8a730347b8e2f_W3sZmlsZQ==.jl:136\n",
      "┌ Info: DMRG   1:\tobj = +3.704164671071e+03\terr = 1.5705636230e-08\ttime = 0.08 sec\n",
      "└ @ Main c:\\Users\\vicva\\OneDrive\\Documenten\\git\\Thesis_CCFT\\jl_notebook_cell_df34fa98e69747e1a8f8a730347b8e2f_W3sZmlsZQ==.jl:157\n",
      "┌ Info: DMRG conv 2:\tobj = +3.704164671071e+03\terr = 2.3518404075e-15\ttime = 0.15 sec\n",
      "└ @ Main c:\\Users\\vicva\\OneDrive\\Documenten\\git\\Thesis_CCFT\\jl_notebook_cell_df34fa98e69747e1a8f8a730347b8e2f_W3sZmlsZQ==.jl:151\n",
      "┌ Info: DMRG init:\tobj = +2.146749182370e+03\terr = 1.8950e-01\n",
      "└ @ Main c:\\Users\\vicva\\OneDrive\\Documenten\\git\\Thesis_CCFT\\jl_notebook_cell_df34fa98e69747e1a8f8a730347b8e2f_W3sZmlsZQ==.jl:136\n",
      "┌ Info: DMRG   1:\tobj = +2.411451683114e+03\terr = 2.9353106870e-08\ttime = 0.12 sec\n",
      "└ @ Main c:\\Users\\vicva\\OneDrive\\Documenten\\git\\Thesis_CCFT\\jl_notebook_cell_df34fa98e69747e1a8f8a730347b8e2f_W3sZmlsZQ==.jl:157\n"
     ]
    },
    {
     "name": "stdout",
     "output_type": "stream",
     "text": [
      "(1.0, -3704.164671070916 - 4.3854416562941474e-13im, -2411.4516831137803 - 3.102505685811374e-13"
     ]
    },
    {
     "name": "stderr",
     "output_type": "stream",
     "text": [
      "┌ Info: DMRG conv 2:\tobj = +2.411451683114e+03\terr = 7.6603296961e-15\ttime = 0.23 sec\n",
      "└ @ Main c:\\Users\\vicva\\OneDrive\\Documenten\\git\\Thesis_CCFT\\jl_notebook_cell_df34fa98e69747e1a8f8a730347b8e2f_W3sZmlsZQ==.jl:151\n"
     ]
    },
    {
     "name": "stdout",
     "output_type": "stream",
     "text": [
      "im)\n",
      "3704.164671070916 + 4.3854416562941474e-13im\n",
      "ComplexF64[2411.4516831137803 + 3.102505685811374e-13im]\n",
      "0.4691358024691358\n"
     ]
    },
    {
     "name": "stderr",
     "output_type": "stream",
     "text": [
      "┌ Info: DMRG init:\tobj = +2.982198860556e+03\terr = 3.9425e-03\n",
      "└ @ Main c:\\Users\\vicva\\OneDrive\\Documenten\\git\\Thesis_CCFT\\jl_notebook_cell_df34fa98e69747e1a8f8a730347b8e2f_W3sZmlsZQ==.jl:136\n",
      "┌ Info: DMRG   1:\tobj = +2.982271623226e+03\terr = 4.1795248424e-10\ttime = 0.07 sec\n",
      "└ @ Main c:\\Users\\vicva\\OneDrive\\Documenten\\git\\Thesis_CCFT\\jl_notebook_cell_df34fa98e69747e1a8f8a730347b8e2f_W3sZmlsZQ==.jl:157\n",
      "┌ Info: DMRG conv 2:\tobj = +2.982271623226e+03\terr = 1.2226102595e-15\ttime = 0.15 sec\n",
      "└ @ Main c:\\Users\\vicva\\OneDrive\\Documenten\\git\\Thesis_CCFT\\jl_notebook_cell_df34fa98e69747e1a8f8a730347b8e2f_W3sZmlsZQ==.jl:151\n",
      "┌ Info: DMRG init:\tobj = +1.967115649616e+03\terr = 8.8886e-03\n",
      "└ @ Main c:\\Users\\vicva\\OneDrive\\Documenten\\git\\Thesis_CCFT\\jl_notebook_cell_df34fa98e69747e1a8f8a730347b8e2f_W3sZmlsZQ==.jl:136\n",
      "┌ Info: DMRG   1:\tobj = +1.967634417389e+03\terr = 1.6816289978e-09\ttime = 0.12 sec\n",
      "└ @ Main c:\\Users\\vicva\\OneDrive\\Documenten\\git\\Thesis_CCFT\\jl_notebook_cell_df34fa98e69747e1a8f8a730347b8e2f_W3sZmlsZQ==.jl:157\n"
     ]
    },
    {
     "name": "stdout",
     "output_type": "stream",
     "text": [
      "(1.0, -2982.27162322599 + 1.9941758677805093e-13im, -1967.6344173885618 - 1.1195328136040676e-14im)\n",
      "2982.27162322599 - 1.9941758677805093e-13im\n",
      "ComplexF64[1967.6344173885618 + 1.1195328136040676e-14im]\n",
      "0.48148148148148145\n"
     ]
    },
    {
     "name": "stderr",
     "output_type": "stream",
     "text": [
      "┌ Info: DMRG conv 2:\tobj = +1.967634417389e+03\terr = 1.1431432647e-15\ttime = 0.24 sec\n",
      "└ @ Main c:\\Users\\vicva\\OneDrive\\Documenten\\git\\Thesis_CCFT\\jl_notebook_cell_df34fa98e69747e1a8f8a730347b8e2f_W3sZmlsZQ==.jl:151\n",
      "┌ Info: DMRG init:\tobj = +2.401527360091e+03\terr = 4.6782e-03\n",
      "└ @ Main c:\\Users\\vicva\\OneDrive\\Documenten\\git\\Thesis_CCFT\\jl_notebook_cell_df34fa98e69747e1a8f8a730347b8e2f_W3sZmlsZQ==.jl:136\n",
      "┌ Info: DMRG   1:\tobj = +2.401612544167e+03\terr = 8.6102539297e-10\ttime = 0.09 sec\n",
      "└ @ Main c:\\Users\\vicva\\OneDrive\\Documenten\\git\\Thesis_CCFT\\jl_notebook_cell_df34fa98e69747e1a8f8a730347b8e2f_W3sZmlsZQ==.jl:157\n",
      "┌ Info: DMRG conv 2:\tobj = +2.401612544167e+03\terr = 1.0286157757e-15\ttime = 0.19 sec\n",
      "└ @ Main c:\\Users\\vicva\\OneDrive\\Documenten\\git\\Thesis_CCFT\\jl_notebook_cell_df34fa98e69747e1a8f8a730347b8e2f_W3sZmlsZQ==.jl:151\n",
      "┌ Info: DMRG init:\tobj = +1.608901948210e+03\terr = 1.0493e-02\n",
      "└ @ Main c:\\Users\\vicva\\OneDrive\\Documenten\\git\\Thesis_CCFT\\jl_notebook_cell_df34fa98e69747e1a8f8a730347b8e2f_W3sZmlsZQ==.jl:136\n",
      "┌ Info: DMRG   1:\tobj = +1.609516132958e+03\terr = 2.0152358116e-09\ttime = 0.10 sec\n",
      "└ @ Main c:\\Users\\vicva\\OneDrive\\Documenten\\git\\Thesis_CCFT\\jl_notebook_cell_df34fa98e69747e1a8f8a730347b8e2f_W3sZmlsZQ==.jl:157\n"
     ]
    },
    {
     "name": "stdout",
     "output_type": "stream",
     "text": [
      "(1.0, -2401.612544166805 - 1.3516020904227703e-14im, -1609.5161329579319 - 8.854515117912845e-15im)\n",
      "2401.612544166805 + 1.3516020904227703e-14im\n",
      "ComplexF64[1609.5161329579319 + 8.854515117912845e-15im]\n",
      "0.49382716049382713\n"
     ]
    },
    {
     "name": "stderr",
     "output_type": "stream",
     "text": [
      "┌ Info: DMRG conv 2:\tobj = +1.609516132958e+03\terr = 1.0432265623e-15\ttime = 0.20 sec\n",
      "└ @ Main c:\\Users\\vicva\\OneDrive\\Documenten\\git\\Thesis_CCFT\\jl_notebook_cell_df34fa98e69747e1a8f8a730347b8e2f_W3sZmlsZQ==.jl:151\n",
      "┌ Info: DMRG init:\tobj = +1.934559308696e+03\terr = 5.6295e-03\n",
      "└ @ Main c:\\Users\\vicva\\OneDrive\\Documenten\\git\\Thesis_CCFT\\jl_notebook_cell_df34fa98e69747e1a8f8a730347b8e2f_W3sZmlsZQ==.jl:136\n",
      "┌ Info: DMRG   1:\tobj = +1.934662408815e+03\terr = 2.2510936602e-09\ttime = 0.08 sec\n",
      "└ @ Main c:\\Users\\vicva\\OneDrive\\Documenten\\git\\Thesis_CCFT\\jl_notebook_cell_df34fa98e69747e1a8f8a730347b8e2f_W3sZmlsZQ==.jl:157\n",
      "┌ Info: DMRG conv 2:\tobj = +1.934662408815e+03\terr = 1.1062964580e-15\ttime = 0.16 sec\n",
      "└ @ Main c:\\Users\\vicva\\OneDrive\\Documenten\\git\\Thesis_CCFT\\jl_notebook_cell_df34fa98e69747e1a8f8a730347b8e2f_W3sZmlsZQ==.jl:151\n",
      "┌ Info: DMRG init:\tobj = +1.320161365012e+03\terr = 1.2495e-02\n",
      "└ @ Main c:\\Users\\vicva\\OneDrive\\Documenten\\git\\Thesis_CCFT\\jl_notebook_cell_df34fa98e69747e1a8f8a730347b8e2f_W3sZmlsZQ==.jl:136\n",
      "┌ Info: DMRG   1:\tobj = +1.320908490801e+03\terr = 2.4914768761e-09\ttime = 0.60 sec\n",
      "└ @ Main c:\\Users\\vicva\\OneDrive\\Documenten\\git\\Thesis_CCFT\\jl_notebook_cell_df34fa98e69747e1a8f8a730347b8e2f_W3sZmlsZQ==.jl:157\n"
     ]
    },
    {
     "name": "stdout",
     "output_type": "stream",
     "text": [
      "(1.0"
     ]
    },
    {
     "name": "stderr",
     "output_type": "stream",
     "text": [
      "┌ Info: DMRG conv 2:\tobj = +1.320908490801e+03\terr = 1.4394903025e-15\ttime = 0.77 sec\n",
      "└ @ Main c:\\Users\\vicva\\OneDrive\\Documenten\\git\\Thesis_CCFT\\jl_notebook_cell_df34fa98e69747e1a8f8a730347b8e2f_W3sZmlsZQ==.jl:151\n"
     ]
    },
    {
     "name": "stdout",
     "output_type": "stream",
     "text": [
      ", -1934.6624088147505 + 1.220288400487156e-13im, -1320.9084908006855 - 2.6718686703000656e-13im)\n",
      "1934.6624088147505 - 1.220288400487156e-13im\n",
      "ComplexF64[1320.9084908006855 + 2.6718686703000656e-13im]\n",
      "0.5061728395061729\n"
     ]
    },
    {
     "name": "stderr",
     "output_type": "stream",
     "text": [
      "┌ Info: DMRG init:\tobj = +1.559199157260e+03\terr = 6.8856e-03\n",
      "└ @ Main c:\\Users\\vicva\\OneDrive\\Documenten\\git\\Thesis_CCFT\\jl_notebook_cell_df34fa98e69747e1a8f8a730347b8e2f_W3sZmlsZQ==.jl:136\n",
      "┌ Info: DMRG   1:\tobj = +1.559328784271e+03\terr = 4.0371998042e-10\ttime = 0.15 sec\n",
      "└ @ Main c:\\Users\\vicva\\OneDrive\\Documenten\\git\\Thesis_CCFT\\jl_notebook_cell_df34fa98e69747e1a8f8a730347b8e2f_W3sZmlsZQ==.jl:157\n",
      "┌ Info: DMRG conv 2:\tobj = +1.559328784271e+03\terr = 1.0551939719e-15\ttime = 0.27 sec\n",
      "└ @ Main c:\\Users\\vicva\\OneDrive\\Documenten\\git\\Thesis_CCFT\\jl_notebook_cell_df34fa98e69747e1a8f8a730347b8e2f_W3sZmlsZQ==.jl:151\n",
      "┌ Info: DMRG init:\tobj = +1.087929251295e+03\terr = 1.5018e-02\n",
      "└ @ Main c:\\Users\\vicva\\OneDrive\\Documenten\\git\\Thesis_CCFT\\jl_notebook_cell_df34fa98e69747e1a8f8a730347b8e2f_W3sZmlsZQ==.jl:136\n",
      "┌ Info: DMRG   1:\tobj = +1.088864650212e+03\terr = 3.0014844357e-09\ttime = 0.14 sec\n",
      "└ @ Main c:\\Users\\vicva\\OneDrive\\Documenten\\git\\Thesis_CCFT\\jl_notebook_cell_df34fa98e69747e1a8f8a730347b8e2f_W3sZmlsZQ==.jl:157\n"
     ]
    },
    {
     "name": "stdout",
     "output_type": "stream",
     "text": [
      "(1.0, -1559.3287842712039 + 9.52582865254331e-15im, -1088.8646502116646 - 1.3431536805331572e-13im)\n",
      "1559.3287842712039 - 9.52582865254331e-15im\n",
      "ComplexF64[1088.8646502116646 + 1.3431536805331572e-13im]\n",
      "0.5185185185185185\n"
     ]
    },
    {
     "name": "stderr",
     "output_type": "stream",
     "text": [
      "┌ Info: DMRG conv 2:\tobj = +1.088864650212e+03\terr = 1.4490220873e-15\ttime = 0.32 sec\n",
      "└ @ Main c:\\Users\\vicva\\OneDrive\\Documenten\\git\\Thesis_CCFT\\jl_notebook_cell_df34fa98e69747e1a8f8a730347b8e2f_W3sZmlsZQ==.jl:151\n",
      "┌ Info: DMRG init:\tobj = +1.257754232267e+03\terr = 8.5948e-03\n",
      "└ @ Main c:\\Users\\vicva\\OneDrive\\Documenten\\git\\Thesis_CCFT\\jl_notebook_cell_df34fa98e69747e1a8f8a730347b8e2f_W3sZmlsZQ==.jl:136\n",
      "┌ Info: DMRG   1:\tobj = +1.257924832057e+03\terr = 8.7561644330e-10\ttime = 0.08 sec\n",
      "└ @ Main c:\\Users\\vicva\\OneDrive\\Documenten\\git\\Thesis_CCFT\\jl_notebook_cell_df34fa98e69747e1a8f8a730347b8e2f_W3sZmlsZQ==.jl:157\n",
      "┌ Info: DMRG conv 2:\tobj = +1.257924832057e+03\terr = 9.5639993777e-16\ttime = 0.16 sec\n",
      "└ @ Main c:\\Users\\vicva\\OneDrive\\Documenten\\git\\Thesis_CCFT\\jl_notebook_cell_df34fa98e69747e1a8f8a730347b8e2f_W3sZmlsZQ==.jl:151\n",
      "┌ Info: DMRG init:\tobj = +9.019039218664e+02\terr = 1.8212e-02\n",
      "└ @ Main c:\\Users\\vicva\\OneDrive\\Documenten\\git\\Thesis_CCFT\\jl_notebook_cell_df34fa98e69747e1a8f8a730347b8e2f_W3sZmlsZQ==.jl:136\n"
     ]
    },
    {
     "name": "stdout",
     "output_type": "stream",
     "text": [
      "("
     ]
    },
    {
     "name": "stderr",
     "output_type": "stream",
     "text": [
      "┌ Info: DMRG   1:\tobj = +9.031093263930e+02\terr = 1.8412246454e-08\ttime = 0.10 sec\n",
      "└ @ Main c:\\Users\\vicva\\OneDrive\\Documenten\\git\\Thesis_CCFT\\jl_notebook_cell_df34fa98e69747e1a8f8a730347b8e2f_W3sZmlsZQ==.jl:157\n",
      "┌ Info: DMRG conv 2:\tobj = +9.031093263930e+02\terr = 5.3291509383e-15\ttime = 0.19 sec\n",
      "└ @ Main c:\\Users\\vicva\\OneDrive\\Documenten\\git\\Thesis_CCFT\\jl_notebook_cell_df34fa98e69747e1a8f8a730347b8e2f_W3sZmlsZQ==.jl:151\n"
     ]
    },
    {
     "name": "stdout",
     "output_type": "stream",
     "text": [
      "1.0, -1257.9248320565675 - 2.610089260823337e-14im, -903.1093263929838 - 1.5875382962660036e-13im)\n",
      "1257.9248320565675 + 2.610089260823337e-14im\n",
      "ComplexF64[903.1093263929838 + 1.5875382962660036e-13im]\n",
      "0.5308641975308642\n"
     ]
    },
    {
     "name": "stderr",
     "output_type": "stream",
     "text": [
      "┌ Info: DMRG init:\tobj = +1.016132881934e+03\terr = 1.1035e-02\n",
      "└ @ Main c:\\Users\\vicva\\OneDrive\\Documenten\\git\\Thesis_CCFT\\jl_notebook_cell_df34fa98e69747e1a8f8a730347b8e2f_W3sZmlsZQ==.jl:136\n",
      "┌ Info: DMRG   1:\tobj = +1.016371340820e+03\terr = 1.6694123856e-09\ttime = 0.08 sec\n",
      "└ @ Main c:\\Users\\vicva\\OneDrive\\Documenten\\git\\Thesis_CCFT\\jl_notebook_cell_df34fa98e69747e1a8f8a730347b8e2f_W3sZmlsZQ==.jl:157\n",
      "┌ Info: DMRG conv 2:\tobj = +1.016371340820e+03\terr = 1.4810087582e-15\ttime = 0.16 sec\n",
      "└ @ Main c:\\Users\\vicva\\OneDrive\\Documenten\\git\\Thesis_CCFT\\jl_notebook_cell_df34fa98e69747e1a8f8a730347b8e2f_W3sZmlsZQ==.jl:151\n",
      "┌ Info: DMRG init:\tobj = +7.540109270000e+02\terr = 2.2258e-02\n",
      "└ @ Main c:\\Users\\vicva\\OneDrive\\Documenten\\git\\Thesis_CCFT\\jl_notebook_cell_df34fa98e69747e1a8f8a730347b8e2f_W3sZmlsZQ==.jl:136\n",
      "┌ Info: DMRG   1:\tobj = +7.556038551682e+02\terr = 2.3742981876e-08\ttime = 0.11 sec\n",
      "└ @ Main c:\\Users\\vicva\\OneDrive\\Documenten\\git\\Thesis_CCFT\\jl_notebook_cell_df34fa98e69747e1a8f8a730347b8e2f_W3sZmlsZQ==.jl:157\n"
     ]
    },
    {
     "name": "stdout",
     "output_type": "stream",
     "text": [
      "(1.0, -1016.3713408197896 - 2.385609525531097e-14im, -755.6038551682334 - 4.863384151974846e-14im)\n",
      "1016.3713408197896 + 2.385609525531097e-14im\n",
      "ComplexF64[755.6038551682334 + 4.863384151974846e-14"
     ]
    },
    {
     "name": "stderr",
     "output_type": "stream",
     "text": [
      "┌ Info: DMRG conv 2:\tobj = +7.556038551682e+02\terr = 1.1642927429e-14\ttime = 0.21 sec\n",
      "└ @ Main c:\\Users\\vicva\\OneDrive\\Documenten\\git\\Thesis_CCFT\\jl_notebook_cell_df34fa98e69747e1a8f8a730347b8e2f_W3sZmlsZQ==.jl:151\n"
     ]
    },
    {
     "name": "stdout",
     "output_type": "stream",
     "text": [
      "im]\n",
      "0.5432098765432098\n"
     ]
    },
    {
     "name": "stderr",
     "output_type": "stream",
     "text": [
      "┌ Info: DMRG init:\tobj = +8.232490283847e+02\terr = 1.4809e-02\n",
      "└ @ Main c:\\Users\\vicva\\OneDrive\\Documenten\\git\\Thesis_CCFT\\jl_notebook_cell_df34fa98e69747e1a8f8a730347b8e2f_W3sZmlsZQ==.jl:136\n",
      "┌ Info: DMRG   1:\tobj = +8.236133714590e+02\terr = 2.1017279268e-09\ttime = 0.08 sec\n",
      "└ @ Main c:\\Users\\vicva\\OneDrive\\Documenten\\git\\Thesis_CCFT\\jl_notebook_cell_df34fa98e69747e1a8f8a730347b8e2f_W3sZmlsZQ==.jl:157\n",
      "┌ Info: DMRG conv 2:\tobj = +8.236133714590e+02\terr = 1.4793954685e-15\ttime = 0.14 sec\n",
      "└ @ Main c:\\Users\\vicva\\OneDrive\\Documenten\\git\\Thesis_CCFT\\jl_notebook_cell_df34fa98e69747e1a8f8a730347b8e2f_W3sZmlsZQ==.jl:151\n",
      "┌ Info: DMRG init:\tobj = +6.380787890459e+02\terr = 2.7310e-02\n",
      "└ @ Main c:\\Users\\vicva\\OneDrive\\Documenten\\git\\Thesis_CCFT\\jl_notebook_cell_df34fa98e69747e1a8f8a730347b8e2f_W3sZmlsZQ==.jl:136\n",
      "┌ Info: DMRG   1:\tobj = +6.402143943509e+02\terr = 3.8428207622e-08\ttime = 0.12 sec\n",
      "└ @ Main c:\\Users\\vicva\\OneDrive\\Documenten\\git\\Thesis_CCFT\\jl_notebook_cell_df34fa98e69747e1a8f8a730347b8e2f_W3sZmlsZQ==.jl:157\n"
     ]
    },
    {
     "name": "stdout",
     "output_type": "stream",
     "text": [
      "(1.0, -823.6133714590459 - 3.315368326144557e-14im, -640.2143943508985 + 1.5910522871289564e-14im)\n",
      "823.6133714590459 + 3.315368326144557e-14im\n",
      "ComplexF64[640.2143943508985 - 1.5910522871289564e-14im]\n",
      "0.5555555555555556\n"
     ]
    },
    {
     "name": "stderr",
     "output_type": "stream",
     "text": [
      "┌ Info: DMRG conv 2:\tobj = +6.402143943509e+02\terr = 2.5099534079e-14\ttime = 0.22 sec\n",
      "└ @ Main c:\\Users\\vicva\\OneDrive\\Documenten\\git\\Thesis_CCFT\\jl_notebook_cell_df34fa98e69747e1a8f8a730347b8e2f_W3sZmlsZQ==.jl:151\n",
      "┌ Info: DMRG init:\tobj = +6.706534096042e+02\terr = 2.1359e-02\n",
      "└ @ Main c:\\Users\\vicva\\OneDrive\\Documenten\\git\\Thesis_CCFT\\jl_notebook_cell_df34fa98e69747e1a8f8a730347b8e2f_W3sZmlsZQ==.jl:136\n",
      "┌ Info: DMRG   1:\tobj = +6.712929949831e+02\terr = 2.1335742044e-09\ttime = 0.08 sec\n",
      "└ @ Main c:\\Users\\vicva\\OneDrive\\Documenten\\git\\Thesis_CCFT\\jl_notebook_cell_df34fa98e69747e1a8f8a730347b8e2f_W3sZmlsZQ==.jl:157\n",
      "┌ Info: DMRG conv 2:\tobj = +6.712929949831e+02\terr = 1.3526542521e-15\ttime = 0.16 sec\n",
      "└ @ Main c:\\Users\\vicva\\OneDrive\\Documenten\\git\\Thesis_CCFT\\jl_notebook_cell_df34fa98e69747e1a8f8a730347b8e2f_W3sZmlsZQ==.jl:151\n",
      "┌ Info: DMRG init:\tobj = +5.495824672170e+02\terr = 3.3361e-02\n",
      "└ @ Main c:\\Users\\vicva\\OneDrive\\Documenten\\git\\Thesis_CCFT\\jl_notebook_cell_df34fa98e69747e1a8f8a730347b8e2f_W3sZmlsZQ==.jl:136\n",
      "┌ Info: DMRG   1:\tobj = +5.524307602345e+02\terr = 2.7752654044e-08\ttime = 0.12 sec\n",
      "└ @ Main c:\\Users\\vicva\\OneDrive\\Documenten\\git\\Thesis_CCFT\\jl_notebook_cell_df34fa98e69747e1a8f8a730347b8e2f_W3sZmlsZQ==.jl:157\n"
     ]
    },
    {
     "name": "stdout",
     "output_type": "stream",
     "text": [
      "(1.0, -671.292994983111 - 3.090755310404328e-14im, -552.430760234529 + 4.055145631879793e-14im)\n",
      "671.292994983111 + 3.090755310404328e-14im\n",
      "ComplexF64[552.430760234529 - 4.055145631879793e-14im]\n",
      "0.5679012345679012\n"
     ]
    },
    {
     "name": "stderr",
     "output_type": "stream",
     "text": [
      "┌ Info: DMRG conv 2:\tobj = +5.524307602345e+02\terr = 2.4783088508e-14\ttime = 0.24 sec\n",
      "└ @ Main c:\\Users\\vicva\\OneDrive\\Documenten\\git\\Thesis_CCFT\\jl_notebook_cell_df34fa98e69747e1a8f8a730347b8e2f_W3sZmlsZQ==.jl:151\n",
      "┌ Info: DMRG init:\tobj = +3.559908005181e+03 -7.786657671344e+02im\terr = 1.0262e-01\n",
      "└ @ Main c:\\Users\\vicva\\OneDrive\\Documenten\\git\\Thesis_CCFT\\jl_notebook_cell_df34fa98e69747e1a8f8a730347b8e2f_W3sZmlsZQ==.jl:136\n",
      "┌ Info: DMRG   1:\tobj = +3.617111422783e+03 -7.969774774298e+02im\terr = 1.5104583529e-08\ttime = 0.08 sec\n",
      "└ @ Main c:\\Users\\vicva\\OneDrive\\Documenten\\git\\Thesis_CCFT\\jl_notebook_cell_df34fa98e69747e1a8f8a730347b8e2f_W3sZmlsZQ==.jl:157\n",
      "┌ Info: DMRG conv 2:\tobj = +3.617111422802e+03 -7.969774773789e+02im\terr = 1.1027949689e-15\ttime = 0.15 sec\n",
      "└ @ Main c:\\Users\\vicva\\OneDrive\\Documenten\\git\\Thesis_CCFT\\jl_notebook_cell_df34fa98e69747e1a8f8a730347b8e2f_W3sZmlsZQ==.jl:151\n",
      "┌ Info: DMRG init:\tobj = +2.105428789892e+03 -4.078757204610e+02im\terr = 1.9245e-01\n",
      "└ @ Main c:\\Users\\vicva\\OneDrive\\Documenten\\git\\Thesis_CCFT\\jl_notebook_cell_df34fa98e69747e1a8f8a730347b8e2f_W3sZmlsZQ==.jl:136\n",
      "┌ Info: DMRG   1:\tobj = +2.358926498848e+03 -4.892966380602e+02im\terr = 2.5120642454e-08\ttime = 0.12 sec\n",
      "└ @ Main c:\\Users\\vicva\\OneDrive\\Documenten\\git\\Thesis_CCFT\\jl_notebook_cell_df34fa98e69747e1a8f8a730347b8e2f_W3sZmlsZQ==.jl:157\n"
     ]
    },
    {
     "name": "stdout",
     "output_type": "stream",
     "text": [
      "(1.0, -3617.1114228021115 + 796.9774773788821im, -2358.926498843553 + 489.2966379862517im)\n",
      "3617.1114228021115 - 796.9774773788821im\n",
      "ComplexF64[2358.926498843553 - 489.2966379862517im]\n",
      "0.5802469135802469\n"
     ]
    },
    {
     "name": "stderr",
     "output_type": "stream",
     "text": [
      "┌ Info: DMRG conv 2:\tobj = +2.358926498844e+03 -4.892966379863e+02im\terr = 1.4844116598e-15\ttime = 0.24 sec\n",
      "└ @ Main c:\\Users\\vicva\\OneDrive\\Documenten\\git\\Thesis_CCFT\\jl_notebook_cell_df34fa98e69747e1a8f8a730347b8e2f_W3sZmlsZQ==.jl:151\n",
      "┌ Info: DMRG init:\tobj = +2.912132769167e+03 -6.412400367665e+02im\terr = 3.9231e-03\n",
      "└ @ Main c:\\Users\\vicva\\OneDrive\\Documenten\\git\\Thesis_CCFT\\jl_notebook_cell_df34fa98e69747e1a8f8a730347b8e2f_W3sZmlsZQ==.jl:136\n",
      "┌ Info: DMRG   1:\tobj = +2.912210823235e+03 -6.410999373563e+02im\terr = 4.0902329101e-10\ttime = 0.08 sec\n",
      "└ @ Main c:\\Users\\vicva\\OneDrive\\Documenten\\git\\Thesis_CCFT\\jl_notebook_cell_df34fa98e69747e1a8f8a730347b8e2f_W3sZmlsZQ==.jl:157\n",
      "┌ Info: DMRG conv 2:\tobj = +2.912210823235e+03 -6.410999373557e+02im\terr = 9.8571216015e-16\ttime = 0.18 sec\n",
      "└ @ Main c:\\Users\\vicva\\OneDrive\\Documenten\\git\\Thesis_CCFT\\jl_notebook_cell_df34fa98e69747e1a8f8a730347b8e2f_W3sZmlsZQ==.jl:151\n",
      "┌ Info: DMRG init:\tobj = +1.924574348134e+03 -3.959867447270e+02im\terr = 8.8610e-03\n",
      "└ @ Main c:\\Users\\vicva\\OneDrive\\Documenten\\git\\Thesis_CCFT\\jl_notebook_cell_df34fa98e69747e1a8f8a730347b8e2f_W3sZmlsZQ==.jl:136\n",
      "┌ Info: DMRG   1:\tobj = +1.925113335119e+03 -3.949777997602e+02im\terr = 1.6502909840e-09\ttime = 0.11 sec\n",
      "└ @ Main c:\\Users\\vicva\\OneDrive\\Documenten\\git\\Thesis_CCFT\\jl_notebook_cell_df34fa98e69747e1a8f8a730347b8e2f_W3sZmlsZQ==.jl:157\n"
     ]
    },
    {
     "name": "stdout",
     "output_type": "stream",
     "text": [
      "(1.0, -2912.2108232347405 + 641.0999373556548im, -1925.1133351201865 + 394.97779976487425im)\n",
      "2912.2108232347405 - 641.0999373556548im\n",
      "ComplexF64"
     ]
    },
    {
     "name": "stderr",
     "output_type": "stream",
     "text": [
      "┌ Info: DMRG conv 2:\tobj = +1.925113335120e+03 -3.949777997649e+02im\terr = 9.9570879966e-16\ttime = 0.34 sec\n",
      "└ @ Main c:\\Users\\vicva\\OneDrive\\Documenten\\git\\Thesis_CCFT\\jl_notebook_cell_df34fa98e69747e1a8f8a730347b8e2f_W3sZmlsZQ==.jl:151\n"
     ]
    },
    {
     "name": "stdout",
     "output_type": "stream",
     "text": [
      "[1925.1133351201865 - 394.97779976487425im]\n",
      "0.5925925925925926\n"
     ]
    },
    {
     "name": "stderr",
     "output_type": "stream",
     "text": [
      "┌ Info: DMRG init:\tobj = +2.345118144583e+03 -5.157957552975e+02im\terr = 4.6528e-03\n",
      "└ @ Main c:\\Users\\vicva\\OneDrive\\Documenten\\git\\Thesis_CCFT\\jl_notebook_cell_df34fa98e69747e1a8f8a730347b8e2f_W3sZmlsZQ==.jl:136\n",
      "┌ Info: DMRG   1:\tobj = +2.345207102831e+03 -5.156308295668e+02im\terr = 8.2950173306e-10\ttime = 0.09 sec\n",
      "└ @ Main c:\\Users\\vicva\\OneDrive\\Documenten\\git\\Thesis_CCFT\\jl_notebook_cell_df34fa98e69747e1a8f8a730347b8e2f_W3sZmlsZQ==.jl:157\n",
      "┌ Info: DMRG conv 2:\tobj = +2.345207102830e+03 -5.156308295656e+02im\terr = 1.0510767464e-15\ttime = 0.18 sec\n",
      "└ @ Main c:\\Users\\vicva\\OneDrive\\Documenten\\git\\Thesis_CCFT\\jl_notebook_cell_df34fa98e69747e1a8f8a730347b8e2f_W3sZmlsZQ==.jl:151\n",
      "┌ Info: DMRG init:\tobj = +1.574407057264e+03 -3.197613228185e+02im\terr = 1.0464e-02\n",
      "└ @ Main c:\\Users\\vicva\\OneDrive\\Documenten\\git\\Thesis_CCFT\\jl_notebook_cell_df34fa98e69747e1a8f8a730347b8e2f_W3sZmlsZQ==.jl:136\n",
      "┌ Info: DMRG   1:\tobj = +1.575028712157e+03 -3.185607727676e+02im\terr = 1.9655794631e-09\ttime = 0.13 sec\n",
      "└ @ Main c:\\Users\\vicva\\OneDrive\\Documenten\\git\\Thesis_CCFT\\jl_notebook_cell_df34fa98e69747e1a8f8a730347b8e2f_W3sZmlsZQ==.jl:157\n"
     ]
    },
    {
     "name": "stdout",
     "output_type": "stream",
     "text": [
      "(1.0, -2345.2071028298055 + 515.6308295655786im, -1575.028712159952 + 318.5607727778346im)\n",
      "2345.2071028298055 - 515.6308295655786im\n",
      "ComplexF64[1575.028712159952 - 318.5607727778346im]\n",
      "0.6049382716049383\n"
     ]
    },
    {
     "name": "stderr",
     "output_type": "stream",
     "text": [
      "┌ Info: DMRG conv 2:\tobj = +1.575028712160e+03 -3.185607727778e+02im\terr = 1.5321333072e-15\ttime = 0.27 sec\n",
      "└ @ Main c:\\Users\\vicva\\OneDrive\\Documenten\\git\\Thesis_CCFT\\jl_notebook_cell_df34fa98e69747e1a8f8a730347b8e2f_W3sZmlsZQ==.jl:151\n",
      "┌ Info: DMRG init:\tobj = +1.889113693349e+03 -4.147881690598e+02im\terr = 5.5958e-03\n",
      "└ @ Main c:\\Users\\vicva\\OneDrive\\Documenten\\git\\Thesis_CCFT\\jl_notebook_cell_df34fa98e69747e1a8f8a730347b8e2f_W3sZmlsZQ==.jl:136\n",
      "┌ Info: DMRG   1:\tobj = +1.889218159054e+03 -4.145874494895e+02im\terr = 2.1273644596e-09\ttime = 0.09 sec\n",
      "└ @ Main c:\\Users\\vicva\\OneDrive\\Documenten\\git\\Thesis_CCFT\\jl_notebook_cell_df34fa98e69747e1a8f8a730347b8e2f_W3sZmlsZQ==.jl:157\n",
      "┌ Info: DMRG conv 2:\tobj = +1.889218159051e+03 -4.145874494870e+02im\terr = 9.5407452796e-16\ttime = 0.17 sec\n",
      "└ @ Main c:\\Users\\vicva\\OneDrive\\Documenten\\git\\Thesis_CCFT\\jl_notebook_cell_df34fa98e69747e1a8f8a730347b8e2f_W3sZmlsZQ==.jl:151\n",
      "┌ Info: DMRG init:\tobj = +1.292112762651e+03 -2.579648120014e+02im\terr = 1.2467e-02\n",
      "└ @ Main c:\\Users\\vicva\\OneDrive\\Documenten\\git\\Thesis_CCFT\\jl_notebook_cell_df34fa98e69747e1a8f8a730347b8e2f_W3sZmlsZQ==.jl:136\n",
      "┌ Info: DMRG   1:\tobj = +1.292847336263e+03 -2.564967518095e+02im\terr = 2.4502336956e-09\ttime = 0.13 sec\n",
      "└ @ Main c:\\Users\\vicva\\OneDrive\\Documenten\\git\\Thesis_CCFT\\jl_notebook_cell_df34fa98e69747e1a8f8a730347b8e2f_W3sZmlsZQ==.jl:157\n"
     ]
    },
    {
     "name": "stdout",
     "output_type": "stream",
     "text": [
      "(1.0, -1889.218159051164 + 414.58744948698217im, -1292.8473362676045 + 256.49675182684325im)\n",
      "1889.218159051164 - 414.58744948698217im\n",
      "ComplexF64[1292.8473362676045 - 256.49675182684325im]\n",
      "0.6172839506172839\n"
     ]
    },
    {
     "name": "stderr",
     "output_type": "stream",
     "text": [
      "┌ Info: DMRG conv 2:\tobj = +1.292847336268e+03 -2.564967518268e+02im\terr = 1.3788245157e-15\ttime = 0.24 sec\n",
      "└ @ Main c:\\Users\\vicva\\OneDrive\\Documenten\\git\\Thesis_CCFT\\jl_notebook_cell_df34fa98e69747e1a8f8a730347b8e2f_W3sZmlsZQ==.jl:151\n",
      "┌ Info: DMRG init:\tobj = +1.522534877910e+03 -3.333857292266e+02im\terr = 6.8399e-03\n",
      "└ @ Main c:\\Users\\vicva\\OneDrive\\Documenten\\git\\Thesis_CCFT\\jl_notebook_cell_df34fa98e69747e1a8f8a730347b8e2f_W3sZmlsZQ==.jl:136\n",
      "┌ Info: DMRG   1:\tobj = +1.522661711799e+03 -3.331320331904e+02im\terr = 4.0264874139e-10\ttime = 0.08 sec\n",
      "└ @ Main c:\\Users\\vicva\\OneDrive\\Documenten\\git\\Thesis_CCFT\\jl_notebook_cell_df34fa98e69747e1a8f8a730347b8e2f_W3sZmlsZQ==.jl:157\n",
      "┌ Info: DMRG conv 2:\tobj = +1.522661711799e+03 -3.331320331899e+02im\terr = 1.1073316525e-15\ttime = 0.17 sec\n",
      "└ @ Main c:\\Users\\vicva\\OneDrive\\Documenten\\git\\Thesis_CCFT\\jl_notebook_cell_df34fa98e69747e1a8f8a730347b8e2f_W3sZmlsZQ==.jl:151\n",
      "┌ Info: DMRG init:\tobj = +1.065013756662e+03 -2.077263953817e+02im\terr = 1.4993e-02\n",
      "└ @ Main c:\\Users\\vicva\\OneDrive\\Documenten\\git\\Thesis_CCFT\\jl_notebook_cell_df34fa98e69747e1a8f8a730347b8e2f_W3sZmlsZQ==.jl:136\n",
      "┌ Info: DMRG   1:\tobj = +1.065905283137e+03 -2.058784331180e+02im\terr = 2.9949897938e-09\ttime = 0.12 sec\n",
      "└ @ Main c:\\Users\\vicva\\OneDrive\\Documenten\\git\\Thesis_CCFT\\jl_notebook_cell_df34fa98e69747e1a8f8a730347b8e2f_W3sZmlsZQ==.jl:157\n",
      "┌ Info: DMRG conv 2:\tobj = +1.065905283142e+03 -2.058784331406e+02im\terr = 1.6704887743e-15\ttime = 0.23 sec\n",
      "└ @ Main c:\\Users\\vicva\\OneDrive\\Documenten\\git\\Thesis_CCFT\\jl_notebook_cell_df34fa98e69747e1a8f8a730347b8e2f_W3sZmlsZQ==.jl:151\n"
     ]
    },
    {
     "name": "stdout",
     "output_type": "stream",
     "text": [
      "(1.0, -1522.6617117986684 + 333.1320331899142im, -1065.9052831418335 + 205.87843314062775im)\n",
      "1522.6617117986684 - 333.1320331899142im\n",
      "ComplexF64[1065.9052831418335 - 205.87843314062775im]\n",
      "0.6296296296296297\n"
     ]
    },
    {
     "name": "stderr",
     "output_type": "stream",
     "text": [
      "┌ Info: DMRG init:\tobj = +1.228088716987e+03 -2.676647161943e+02im\terr = 8.5298e-03\n",
      "└ @ Main c:\\Users\\vicva\\OneDrive\\Documenten\\git\\Thesis_CCFT\\jl_notebook_cell_df34fa98e69747e1a8f8a730347b8e2f_W3sZmlsZQ==.jl:136\n",
      "┌ Info: DMRG   1:\tobj = +1.228248391252e+03 -2.673292980592e+02im\terr = 9.1696377790e-10\ttime = 0.09 sec\n",
      "└ @ Main c:\\Users\\vicva\\OneDrive\\Documenten\\git\\Thesis_CCFT\\jl_notebook_cell_df34fa98e69747e1a8f8a730347b8e2f_W3sZmlsZQ==.jl:157\n",
      "┌ Info: DMRG conv 2:\tobj = +1.228248391251e+03 -2.673292980578e+02im\terr = 1.1575241273e-15\ttime = 0.18 sec\n",
      "└ @ Main c:\\Users\\vicva\\OneDrive\\Documenten\\git\\Thesis_CCFT\\jl_notebook_cell_df34fa98e69747e1a8f8a730347b8e2f_W3sZmlsZQ==.jl:151\n",
      "┌ Info: DMRG init:\tobj = +8.830281040966e+02 -1.666873050969e+02im\terr = 1.8198e-02\n",
      "└ @ Main c:\\Users\\vicva\\OneDrive\\Documenten\\git\\Thesis_CCFT\\jl_notebook_cell_df34fa98e69747e1a8f8a730347b8e2f_W3sZmlsZQ==.jl:136\n",
      "┌ Info: DMRG   1:\tobj = +8.841423752534e+02 -1.642925371666e+02im\terr = 3.9386848820e-09\ttime = 0.64 sec\n",
      "└ @ Main c:\\Users\\vicva\\OneDrive\\Documenten\\git\\Thesis_CCFT\\jl_notebook_cell_df34fa98e69747e1a8f8a730347b8e2f_W3sZmlsZQ==.jl:157\n"
     ]
    },
    {
     "name": "stdout",
     "output_type": "stream",
     "text": [
      "(1.0, -1228.2483912514806 + 267.32929805783215im, -884.1423752567188 + 164.29253718835304im)\n"
     ]
    },
    {
     "name": "stderr",
     "output_type": "stream",
     "text": [
      "┌ Info: DMRG conv 2:\tobj = +8.841423752567e+02 -1.642925371884e+02im\terr = 2.2577002621e-15\ttime = 0.74 sec\n",
      "└ @ Main c:\\Users\\vicva\\OneDrive\\Documenten\\git\\Thesis_CCFT\\jl_notebook_cell_df34fa98e69747e1a8f8a730347b8e2f_W3sZmlsZQ==.jl:151\n"
     ]
    },
    {
     "name": "stdout",
     "output_type": "stream",
     "text": [
      "1228.2483912514806 - 267.32929805783215im\n",
      "ComplexF64[884.1423752567188 - 164.29253718835304im]\n",
      "0.6419753086419753\n"
     ]
    },
    {
     "name": "stderr",
     "output_type": "stream",
     "text": [
      "┌ Info: DMRG init:\tobj = +9.919842955472e+02 -2.144052648813e+02im\terr = 1.0935e-02\n",
      "└ @ Main c:\\Users\\vicva\\OneDrive\\Documenten\\git\\Thesis_CCFT\\jl_notebook_cell_df34fa98e69747e1a8f8a730347b8e2f_W3sZmlsZQ==.jl:136\n",
      "┌ Info: DMRG   1:\tobj = +9.921928955119e+02 -2.139349336833e+02im\terr = 2.0173275964e-09\ttime = 0.12 sec\n",
      "└ @ Main c:\\Users\\vicva\\OneDrive\\Documenten\\git\\Thesis_CCFT\\jl_notebook_cell_df34fa98e69747e1a8f8a730347b8e2f_W3sZmlsZQ==.jl:157\n",
      "┌ Info: DMRG conv 2:\tobj = +9.921928955111e+02 -2.139349336798e+02im\terr = 1.7236166827e-15\ttime = 0.18 sec\n",
      "└ @ Main c:\\Users\\vicva\\OneDrive\\Documenten\\git\\Thesis_CCFT\\jl_notebook_cell_df34fa98e69747e1a8f8a730347b8e2f_W3sZmlsZQ==.jl:151\n",
      "┌ Info: DMRG init:\tobj = +7.382440408201e+02 -1.328795092017e+02im\terr = 2.2274e-02\n",
      "└ @ Main c:\\Users\\vicva\\OneDrive\\Documenten\\git\\Thesis_CCFT\\jl_notebook_cell_df34fa98e69747e1a8f8a730347b8e2f_W3sZmlsZQ==.jl:136\n",
      "┌ Info: DMRG   1:\tobj = +7.396814165223e+02 -1.296962850062e+02im\terr = 8.1088286572e-09\ttime = 0.12 sec\n",
      "└ @ Main c:\\Users\\vicva\\OneDrive\\Documenten\\git\\Thesis_CCFT\\jl_notebook_cell_df34fa98e69747e1a8f8a730347b8e2f_W3sZmlsZQ==.jl:157\n",
      "┌ Info: DMRG conv 2:\tobj = +7.396814165060e+02 -1.296962849952e+02im\terr = 4.3170288683e-15\ttime = 0.24 sec\n",
      "└ @ Main c:\\Users\\vicva\\OneDrive\\Documenten\\git\\Thesis_CCFT\\jl_notebook_cell_df34fa98e69747e1a8f8a730347b8e2f_W3sZmlsZQ==.jl:151\n"
     ]
    },
    {
     "name": "stdout",
     "output_type": "stream",
     "text": [
      "(1.0, -992.1928955111475 + 213.93493367984266im, -739.6814165059516 + 129.69628499519084im)\n",
      "992.1928955111475 - 213.93493367984266im\n",
      "ComplexF64[739.6814165059516 - 129.69628499519084im]\n",
      "0.654320987654321\n"
     ]
    },
    {
     "name": "stderr",
     "output_type": "stream",
     "text": [
      "┌ Info: DMRG init:\tobj = +8.033361254836e+02 -1.709060133647e+02im\terr = 1.4636e-02\n",
      "└ @ Main c:\\Users\\vicva\\OneDrive\\Documenten\\git\\Thesis_CCFT\\jl_notebook_cell_df34fa98e69747e1a8f8a730347b8e2f_W3sZmlsZQ==.jl:136\n",
      "┌ Info: DMRG   1:\tobj = +8.036173857632e+02 -1.701869583538e+02im\terr = 4.2993074186e-09\ttime = 0.08 sec\n",
      "└ @ Main c:\\Users\\vicva\\OneDrive\\Documenten\\git\\Thesis_CCFT\\jl_notebook_cell_df34fa98e69747e1a8f8a730347b8e2f_W3sZmlsZQ==.jl:157\n",
      "┌ Info: DMRG conv 2:\tobj = +8.036173857630e+02 -1.701869583451e+02im\terr = 9.4194554722e-16\ttime = 0.16 sec\n",
      "└ @ Main c:\\Users\\vicva\\OneDrive\\Documenten\\git\\Thesis_CCFT\\jl_notebook_cell_df34fa98e69747e1a8f8a730347b8e2f_W3sZmlsZQ==.jl:151\n",
      "┌ Info: DMRG init:\tobj = +6.246108475713e+02 -1.046227035011e+02im\terr = 2.7405e-02\n",
      "└ @ Main c:\\Users\\vicva\\OneDrive\\Documenten\\git\\Thesis_CCFT\\jl_notebook_cell_df34fa98e69747e1a8f8a730347b8e2f_W3sZmlsZQ==.jl:136\n",
      "┌ Info: DMRG   1:\tobj = +6.265231956157e+02 -1.003307378243e+02im\terr = 1.1357941417e-08\ttime = 0.12 sec\n",
      "└ @ Main c:\\Users\\vicva\\OneDrive\\Documenten\\git\\Thesis_CCFT\\jl_notebook_cell_df34fa98e69747e1a8f8a730347b8e2f_W3sZmlsZQ==.jl:157\n"
     ]
    },
    {
     "name": "stdout",
     "output_type": "stream",
     "text": [
      "(1.0, -803.6173857629902 + 170.18695834512883im, -626.5231955801744 + 100.33073772381904im)\n",
      "803.6173857629902 - 170.18695834512883im\n",
      "ComplexF64[626.5231955801744 - 100.33073772381904im]\n",
      "0.6666666666666666\n"
     ]
    },
    {
     "name": "stderr",
     "output_type": "stream",
     "text": [
      "┌ Info: DMRG conv 2:\tobj = +6.265231955802e+02 -1.003307377238e+02im\terr = 7.9038176467e-15\ttime = 0.22 sec\n",
      "└ @ Main c:\\Users\\vicva\\OneDrive\\Documenten\\git\\Thesis_CCFT\\jl_notebook_cell_df34fa98e69747e1a8f8a730347b8e2f_W3sZmlsZQ==.jl:151\n",
      "┌ Info: DMRG init:\tobj = +6.537616649862e+02 -1.347883583108e+02im\terr = 2.1013e-02\n",
      "└ @ Main c:\\Users\\vicva\\OneDrive\\Documenten\\git\\Thesis_CCFT\\jl_notebook_cell_df34fa98e69747e1a8f8a730347b8e2f_W3sZmlsZQ==.jl:136\n",
      "┌ Info: DMRG   1:\tobj = +6.541440546378e+02 -1.335309985182e+02im\terr = 1.4840948910e-08\ttime = 0.07 sec\n",
      "└ @ Main c:\\Users\\vicva\\OneDrive\\Documenten\\git\\Thesis_CCFT\\jl_notebook_cell_df34fa98e69747e1a8f8a730347b8e2f_W3sZmlsZQ==.jl:157\n",
      "┌ Info: DMRG conv 2:\tobj = +6.541440546621e+02 -1.335309984804e+02im\terr = 7.5300525882e-15\ttime = 0.14 sec\n",
      "└ @ Main c:\\Users\\vicva\\OneDrive\\Documenten\\git\\Thesis_CCFT\\jl_notebook_cell_df34fa98e69747e1a8f8a730347b8e2f_W3sZmlsZQ==.jl:151\n",
      "┌ Info: DMRG init:\tobj = +5.377145841975e+02 -8.044773078916e+01im\terr = 3.3640e-02\n",
      "└ @ Main c:\\Users\\vicva\\OneDrive\\Documenten\\git\\Thesis_CCFT\\jl_notebook_cell_df34fa98e69747e1a8f8a730347b8e2f_W3sZmlsZQ==.jl:136\n",
      "┌ Info: DMRG   1:\tobj = +5.403021521815e+02 -7.471099692820e+01im\terr = 5.6773520918e-08\ttime = 0.12 sec\n",
      "└ @ Main c:\\Users\\vicva\\OneDrive\\Documenten\\git\\Thesis_CCFT\\jl_notebook_cell_df34fa98e69747e1a8f8a730347b8e2f_W3sZmlsZQ==.jl:157\n"
     ]
    },
    {
     "name": "stdout",
     "output_type": "stream",
     "text": [
      "(1.0, -654.1440546620602 + 133.5309984804435im, -540.3021522839498 + 74.71099700833204im)\n",
      "654.1440546620602 - 133.5309984804435im\n",
      "ComplexF64[540.3021522839498 - "
     ]
    },
    {
     "name": "stderr",
     "output_type": "stream",
     "text": [
      "┌ Info: DMRG conv 2:\tobj = +5.403021522839e+02 -7.471099700833e+01im\terr = 5.6625933081e-14\ttime = 0.22 sec\n",
      "└ @ Main c:\\Users\\vicva\\OneDrive\\Documenten\\git\\Thesis_CCFT\\jl_notebook_cell_df34fa98e69747e1a8f8a730347b8e2f_W3sZmlsZQ==.jl:151\n"
     ]
    },
    {
     "name": "stdout",
     "output_type": "stream",
     "text": [
      "74.71099700833204im]\n",
      "0.6790123456790124\n"
     ]
    },
    {
     "name": "stderr",
     "output_type": "stream",
     "text": [
      "┌ Info: DMRG init:\tobj = +3.310999537229e+03 -1.522333821292e+03im\terr = 9.9654e-02\n",
      "└ @ Main c:\\Users\\vicva\\OneDrive\\Documenten\\git\\Thesis_CCFT\\jl_notebook_cell_df34fa98e69747e1a8f8a730347b8e2f_W3sZmlsZQ==.jl:136\n",
      "┌ Info: DMRG   1:\tobj = +3.360060176968e+03 -1.556424090364e+03im\terr = 1.3994896363e-08\ttime = 0.08 sec\n",
      "└ @ Main c:\\Users\\vicva\\OneDrive\\Documenten\\git\\Thesis_CCFT\\jl_notebook_cell_df34fa98e69747e1a8f8a730347b8e2f_W3sZmlsZQ==.jl:157\n",
      "┌ Info: DMRG conv 2:\tobj = +3.360060176901e+03 -1.556424090287e+03im\terr = 1.1752152019e-15\ttime = 0.16 sec\n",
      "└ @ Main c:\\Users\\vicva\\OneDrive\\Documenten\\git\\Thesis_CCFT\\jl_notebook_cell_df34fa98e69747e1a8f8a730347b8e2f_W3sZmlsZQ==.jl:151\n",
      "┌ Info: DMRG init:\tobj = +1.977847847414e+03 -7.993798497689e+02im\terr = 1.9350e-01\n",
      "└ @ Main c:\\Users\\vicva\\OneDrive\\Documenten\\git\\Thesis_CCFT\\jl_notebook_cell_df34fa98e69747e1a8f8a730347b8e2f_W3sZmlsZQ==.jl:136\n",
      "┌ Info: DMRG   1:\tobj = +2.203760784736e+03 -9.564965254081e+02im\terr = 2.6427586684e-08\ttime = 0.14 sec\n",
      "└ @ Main c:\\Users\\vicva\\OneDrive\\Documenten\\git\\Thesis_CCFT\\jl_notebook_cell_df34fa98e69747e1a8f8a730347b8e2f_W3sZmlsZQ==.jl:157\n"
     ]
    },
    {
     "name": "stdout",
     "output_type": "stream",
     "text": [
      "(1.0, -3360.060176900808 + 1556.4240902866845im, -2203.7607847080285 + 956.4965253082427im)\n",
      "3360.060176900808 - 1556.4240902866845im\n",
      "ComplexF64[2203.7607847080285 - 956.4965253082427im]\n",
      "0.691358024691358\n"
     ]
    },
    {
     "name": "stderr",
     "output_type": "stream",
     "text": [
      "┌ Info: DMRG conv 2:\tobj = +2.203760784708e+03 -9.564965253082e+02im\terr = 2.0481912989e-15\ttime = 0.25 sec\n",
      "└ @ Main c:\\Users\\vicva\\OneDrive\\Documenten\\git\\Thesis_CCFT\\jl_notebook_cell_df34fa98e69747e1a8f8a730347b8e2f_W3sZmlsZQ==.jl:151\n",
      "┌ Info: DMRG init:\tobj = +2.705245580323e+03 -1.252296479638e+03im\terr = 3.8655e-03\n",
      "└ @ Main c:\\Users\\vicva\\OneDrive\\Documenten\\git\\Thesis_CCFT\\jl_notebook_cell_df34fa98e69747e1a8f8a730347b8e2f_W3sZmlsZQ==.jl:136\n",
      "┌ Info: DMRG   1:\tobj = +2.705338866942e+03 -1.252029009454e+03im\terr = 3.8428942020e-10\ttime = 0.09 sec\n",
      "└ @ Main c:\\Users\\vicva\\OneDrive\\Documenten\\git\\Thesis_CCFT\\jl_notebook_cell_df34fa98e69747e1a8f8a730347b8e2f_W3sZmlsZQ==.jl:157\n",
      "┌ Info: DMRG conv 2:\tobj = +2.705338866941e+03 -1.252029009453e+03im\terr = 9.2757851677e-16\ttime = 0.18 sec\n",
      "└ @ Main c:\\Users\\vicva\\OneDrive\\Documenten\\git\\Thesis_CCFT\\jl_notebook_cell_df34fa98e69747e1a8f8a730347b8e2f_W3sZmlsZQ==.jl:151\n",
      "┌ Info: DMRG init:\tobj = +1.798906559223e+03 -7.741213099254e+02im\terr = 8.7190e-03\n",
      "└ @ Main c:\\Users\\vicva\\OneDrive\\Documenten\\git\\Thesis_CCFT\\jl_notebook_cell_df34fa98e69747e1a8f8a730347b8e2f_W3sZmlsZQ==.jl:136\n",
      "┌ Info: DMRG   1:\tobj = +1.799504755425e+03 -7.721887736742e+02im\terr = 1.6589059784e-09\ttime = 0.12 sec\n",
      "└ @ Main c:\\Users\\vicva\\OneDrive\\Documenten\\git\\Thesis_CCFT\\jl_notebook_cell_df34fa98e69747e1a8f8a730347b8e2f_W3sZmlsZQ==.jl:157\n"
     ]
    },
    {
     "name": "stdout",
     "output_type": "stream",
     "text": [
      "(1.0, -2705.3388669413007 + 1252.0290094534546im, -1799.504755427811 + 772.1887736812207im)\n",
      "2705.3388669413007 - 1252.0290094534546im\n",
      "ComplexF64[1799.504755427811 - 772.1887736812207im]\n",
      "0.7037037037037037\n"
     ]
    },
    {
     "name": "stderr",
     "output_type": "stream",
     "text": [
      "┌ Info: DMRG conv 2:\tobj = +1.799504755428e+03 -7.721887736812e+02im\terr = 9.9526629889e-16\ttime = 0.25 sec\n",
      "└ @ Main c:\\Users\\vicva\\OneDrive\\Documenten\\git\\Thesis_CCFT\\jl_notebook_cell_df34fa98e69747e1a8f8a730347b8e2f_W3sZmlsZQ==.jl:151\n",
      "┌ Info: DMRG init:\tobj = +2.178563205254e+03 -1.007338955401e+03im\terr = 4.5775e-03\n",
      "└ @ Main c:\\Users\\vicva\\OneDrive\\Documenten\\git\\Thesis_CCFT\\jl_notebook_cell_df34fa98e69747e1a8f8a730347b8e2f_W3sZmlsZQ==.jl:136\n",
      "┌ Info: DMRG   1:\tobj = +2.178663041252e+03 -1.007025395332e+03im\terr = 7.4711146212e-10\ttime = 0.08 sec\n",
      "└ @ Main c:\\Users\\vicva\\OneDrive\\Documenten\\git\\Thesis_CCFT\\jl_notebook_cell_df34fa98e69747e1a8f8a730347b8e2f_W3sZmlsZQ==.jl:157\n",
      "┌ Info: DMRG conv 2:\tobj = +2.178663041251e+03 -1.007025395331e+03im\terr = 1.2358679467e-15\ttime = 0.17 sec\n",
      "└ @ Main c:\\Users\\vicva\\OneDrive\\Documenten\\git\\Thesis_CCFT\\jl_notebook_cell_df34fa98e69747e1a8f8a730347b8e2f_W3sZmlsZQ==.jl:151\n",
      "┌ Info: DMRG init:\tobj = +1.472515888702e+03 -6.251642487560e+02im\terr = 1.0292e-02\n",
      "└ @ Main c:\\Users\\vicva\\OneDrive\\Documenten\\git\\Thesis_CCFT\\jl_notebook_cell_df34fa98e69747e1a8f8a730347b8e2f_W3sZmlsZQ==.jl:136\n",
      "┌ Info: DMRG   1:\tobj = +1.473160586457e+03 -6.228747355931e+02im\terr = 1.9860206560e-09\ttime = 0.10 sec\n",
      "└ @ Main c:\\Users\\vicva\\OneDrive\\Documenten\\git\\Thesis_CCFT\\jl_notebook_cell_df34fa98e69747e1a8f8a730347b8e2f_W3sZmlsZQ==.jl:157\n"
     ]
    },
    {
     "name": "stdout",
     "output_type": "stream",
     "text": [
      "(1.0, -2178.6630412507993 + 1007.0253953312836im, -1473.160586468401 + 622.8747356093209im)\n",
      "2178.6630412507993 - 1007.0253953312836im\n",
      "ComplexF64"
     ]
    },
    {
     "name": "stderr",
     "output_type": "stream",
     "text": [
      "┌ Info: DMRG conv 2:\tobj = +1.473160586468e+03 -6.228747356093e+02im\terr = 1.2362523318e-15\ttime = 0.23 sec\n",
      "└ @ Main c:\\Users\\vicva\\OneDrive\\Documenten\\git\\Thesis_CCFT\\jl_notebook_cell_df34fa98e69747e1a8f8a730347b8e2f_W3sZmlsZQ==.jl:151\n"
     ]
    },
    {
     "name": "stdout",
     "output_type": "stream",
     "text": [
      "[1473.160586468401 - 622.8747356093209im]\n",
      "0.7160493827160493\n"
     ]
    },
    {
     "name": "stderr",
     "output_type": "stream",
     "text": [
      "┌ Info: DMRG init:\tobj = +1.754942294825e+03 -8.101159353972e+02im\terr = 5.4959e-03\n",
      "└ @ Main c:\\Users\\vicva\\OneDrive\\Documenten\\git\\Thesis_CCFT\\jl_notebook_cell_df34fa98e69747e1a8f8a730347b8e2f_W3sZmlsZQ==.jl:136\n",
      "┌ Info: DMRG   1:\tobj = +1.755050915367e+03 -8.097364529132e+02im\terr = 1.7918717904e-09\ttime = 0.08 sec\n",
      "└ @ Main c:\\Users\\vicva\\OneDrive\\Documenten\\git\\Thesis_CCFT\\jl_notebook_cell_df34fa98e69747e1a8f8a730347b8e2f_W3sZmlsZQ==.jl:157\n",
      "┌ Info: DMRG conv 2:\tobj = +1.755050915363e+03 -8.097364529129e+02im\terr = 1.2237943143e-15\ttime = 0.16 sec\n",
      "└ @ Main c:\\Users\\vicva\\OneDrive\\Documenten\\git\\Thesis_CCFT\\jl_notebook_cell_df34fa98e69747e1a8f8a730347b8e2f_W3sZmlsZQ==.jl:151\n",
      "┌ Info: DMRG init:\tobj = +1.209276205582e+03 -5.044145684726e+02im\terr = 1.2259e-02\n",
      "└ @ Main c:\\Users\\vicva\\OneDrive\\Documenten\\git\\Thesis_CCFT\\jl_notebook_cell_df34fa98e69747e1a8f8a730347b8e2f_W3sZmlsZQ==.jl:136\n",
      "┌ Info: DMRG   1:\tobj = +1.209977034135e+03 -5.016295398966e+02im\terr = 2.5242724891e-09\ttime = 0.12 sec\n",
      "└ @ Main c:\\Users\\vicva\\OneDrive\\Documenten\\git\\Thesis_CCFT\\jl_notebook_cell_df34fa98e69747e1a8f8a730347b8e2f_W3sZmlsZQ==.jl:157\n"
     ]
    },
    {
     "name": "stdout",
     "output_type": "stream",
     "text": [
      "(1.0, -1755.0509153631297 + 809.7364529128897im, -1209.9770341555616 + 501.6295399295515im)\n",
      "1755.0509153631297 - 809.7364529128897im\n",
      "ComplexF64[1209.9770341555616 - 501.6295399295515im]\n",
      "0.7283950617283951\n"
     ]
    },
    {
     "name": "stderr",
     "output_type": "stream",
     "text": [
      "┌ Info: DMRG conv 2:\tobj = +1.209977034156e+03 -5.016295399296e+02im\terr = 1.3497614403e-15\ttime = 0.23 sec\n",
      "└ @ Main c:\\Users\\vicva\\OneDrive\\Documenten\\git\\Thesis_CCFT\\jl_notebook_cell_df34fa98e69747e1a8f8a730347b8e2f_W3sZmlsZQ==.jl:151\n",
      "┌ Info: DMRG init:\tobj = +1.414310300889e+03 -6.512021026050e+02im\terr = 6.7046e-03\n",
      "└ @ Main c:\\Users\\vicva\\OneDrive\\Documenten\\git\\Thesis_CCFT\\jl_notebook_cell_df34fa98e69747e1a8f8a730347b8e2f_W3sZmlsZQ==.jl:136\n",
      "┌ Info: DMRG   1:\tobj = +1.414430284976e+03 -6.507263207511e+02im\terr = 3.8670008213e-10\ttime = 0.08 sec\n",
      "└ @ Main c:\\Users\\vicva\\OneDrive\\Documenten\\git\\Thesis_CCFT\\jl_notebook_cell_df34fa98e69747e1a8f8a730347b8e2f_W3sZmlsZQ==.jl:157\n",
      "┌ Info: DMRG conv 2:\tobj = +1.414430284975e+03 -6.507263207498e+02im\terr = 1.1808030767e-15\ttime = 0.16 sec\n",
      "└ @ Main c:\\Users\\vicva\\OneDrive\\Documenten\\git\\Thesis_CCFT\\jl_notebook_cell_df34fa98e69747e1a8f8a730347b8e2f_W3sZmlsZQ==.jl:151\n",
      "┌ Info: DMRG init:\tobj = +9.973593214809e+02 -4.062714395113e+02im\terr = 1.4739e-02\n",
      "└ @ Main c:\\Users\\vicva\\OneDrive\\Documenten\\git\\Thesis_CCFT\\jl_notebook_cell_df34fa98e69747e1a8f8a730347b8e2f_W3sZmlsZQ==.jl:136\n",
      "┌ Info: DMRG   1:\tobj = +9.981272860656e+02 -4.027853398239e+02im\terr = 3.2172011716e-09\ttime = 0.12 sec\n",
      "└ @ Main c:\\Users\\vicva\\OneDrive\\Documenten\\git\\Thesis_CCFT\\jl_notebook_cell_df34fa98e69747e1a8f8a730347b8e2f_W3sZmlsZQ==.jl:157\n"
     ]
    },
    {
     "name": "stdout",
     "output_type": "stream",
     "text": [
      "(1.0, -1414.4302849754883"
     ]
    },
    {
     "name": "stderr",
     "output_type": "stream",
     "text": [
      "┌ Info: DMRG conv 2:\tobj = +9.981272860936e+02 -4.027853398782e+02im\terr = 1.7591691090e-15\ttime = 0.24 sec\n",
      "└ @ Main c:\\Users\\vicva\\OneDrive\\Documenten\\git\\Thesis_CCFT\\jl_notebook_cell_df34fa98e69747e1a8f8a730347b8e2f_W3sZmlsZQ==.jl:151\n"
     ]
    },
    {
     "name": "stdout",
     "output_type": "stream",
     "text": [
      " + 650.7263207497839im, -998.1272860936155 + 402.7853398781989im)\n",
      "1414.4302849754883 - 650.7263207497839im\n",
      "ComplexF64[998.1272860936155 - 402.7853398781989im]\n",
      "0.7407407407407407\n"
     ]
    },
    {
     "name": "stderr",
     "output_type": "stream",
     "text": [
      "┌ Info: DMRG init:\tobj = +1.140560361433e+03 -5.229525241761e+02im\terr = 8.3403e-03\n",
      "└ @ Main c:\\Users\\vicva\\OneDrive\\Documenten\\git\\Thesis_CCFT\\jl_notebook_cell_df34fa98e69747e1a8f8a730347b8e2f_W3sZmlsZQ==.jl:136\n",
      "┌ Info: DMRG   1:\tobj = +1.140693638713e+03 -5.223318920533e+02im\terr = 9.5832671313e-10\ttime = 0.09 sec\n",
      "└ @ Main c:\\Users\\vicva\\OneDrive\\Documenten\\git\\Thesis_CCFT\\jl_notebook_cell_df34fa98e69747e1a8f8a730347b8e2f_W3sZmlsZQ==.jl:157\n",
      "┌ Info: DMRG conv 2:\tobj = +1.140693638711e+03 -5.223318920499e+02im\terr = 1.1462672278e-15\ttime = 0.18 sec\n",
      "└ @ Main c:\\Users\\vicva\\OneDrive\\Documenten\\git\\Thesis_CCFT\\jl_notebook_cell_df34fa98e69747e1a8f8a730347b8e2f_W3sZmlsZQ==.jl:151\n",
      "┌ Info: DMRG init:\tobj = +8.273335855576e+02 -3.261378973528e+02im\terr = 1.7895e-02\n",
      "└ @ Main c:\\Users\\vicva\\OneDrive\\Documenten\\git\\Thesis_CCFT\\jl_notebook_cell_df34fa98e69747e1a8f8a730347b8e2f_W3sZmlsZQ==.jl:136\n",
      "┌ Info: DMRG   1:\tobj = +8.281841986980e+02 -3.216406751184e+02im\terr = 4.5480655320e-09\ttime = 0.12 sec\n",
      "└ @ Main c:\\Users\\vicva\\OneDrive\\Documenten\\git\\Thesis_CCFT\\jl_notebook_cell_df34fa98e69747e1a8f8a730347b8e2f_W3sZmlsZQ==.jl:157\n"
     ]
    },
    {
     "name": "stdout",
     "output_type": "stream",
     "text": [
      "(1.0, -1140.6936387106455 + 522.3318920499452im, -828.1841987180782 + 321.64067517891715im)\n",
      "1140.6936387106455 - 522.3318920499452im\n",
      "ComplexF64[828.1841987180782 - 321.64067517891715im]\n",
      "0.7530864197530864\n"
     ]
    },
    {
     "name": "stderr",
     "output_type": "stream",
     "text": [
      "┌ Info: DMRG conv 2:\tobj = +8.281841987181e+02 -3.216406751789e+02im\terr = 2.5818617184e-15\ttime = 0.24 sec\n",
      "└ @ Main c:\\Users\\vicva\\OneDrive\\Documenten\\git\\Thesis_CCFT\\jl_notebook_cell_df34fa98e69747e1a8f8a730347b8e2f_W3sZmlsZQ==.jl:151\n",
      "┌ Info: DMRG init:\tobj = +9.208025254539e+02 -4.191117534315e+02im\terr = 1.0653e-02\n",
      "└ @ Main c:\\Users\\vicva\\OneDrive\\Documenten\\git\\Thesis_CCFT\\jl_notebook_cell_df34fa98e69747e1a8f8a730347b8e2f_W3sZmlsZQ==.jl:136\n",
      "┌ Info: DMRG   1:\tobj = +9.209451705078e+02 -4.182640337605e+02im\terr = 2.5003440514e-09\ttime = 0.10 sec\n",
      "└ @ Main c:\\Users\\vicva\\OneDrive\\Documenten\\git\\Thesis_CCFT\\jl_notebook_cell_df34fa98e69747e1a8f8a730347b8e2f_W3sZmlsZQ==.jl:157\n",
      "┌ Info: DMRG conv 2:\tobj = +9.209451704993e+02 -4.182640337498e+02im\terr = 9.7232923408e-16\ttime = 0.18 sec\n",
      "└ @ Main c:\\Users\\vicva\\OneDrive\\Documenten\\git\\Thesis_CCFT\\jl_notebook_cell_df34fa98e69747e1a8f8a730347b8e2f_W3sZmlsZQ==.jl:151\n",
      "┌ Info: DMRG init:\tobj = +6.917631247703e+02 -2.601811984449e+02im\terr = 2.1932e-02\n",
      "└ @ Main c:\\Users\\vicva\\OneDrive\\Documenten\\git\\Thesis_CCFT\\jl_notebook_cell_df34fa98e69747e1a8f8a730347b8e2f_W3sZmlsZQ==.jl:136\n",
      "┌ Info: DMRG   1:\tobj = +6.927306326218e+02 -2.542039473272e+02im\terr = 9.8995513855e-09\ttime = 0.12 sec\n",
      "└ @ Main c:\\Users\\vicva\\OneDrive\\Documenten\\git\\Thesis_CCFT\\jl_notebook_cell_df34fa98e69747e1a8f8a730347b8e2f_W3sZmlsZQ==.jl:157\n"
     ]
    },
    {
     "name": "stdout",
     "output_type": "stream",
     "text": [
      "(1.0, -920.9451704992703 + 418.26403374983795im, -692.7306325660655 + 254.20394732368854im)\n",
      "920.9451704992703 - 418.26403374983795im\n",
      "ComplexF64[692.7306325660655"
     ]
    },
    {
     "name": "stderr",
     "output_type": "stream",
     "text": [
      "┌ Info: DMRG conv 2:\tobj = +6.927306325661e+02 -2.542039473237e+02im\terr = 8.1376951477e-15\ttime = 0.23 sec\n",
      "└ @ Main c:\\Users\\vicva\\OneDrive\\Documenten\\git\\Thesis_CCFT\\jl_notebook_cell_df34fa98e69747e1a8f8a730347b8e2f_W3sZmlsZQ==.jl:151\n"
     ]
    },
    {
     "name": "stdout",
     "output_type": "stream",
     "text": [
      " - 254.20394732368854im]\n",
      "0.7654320987654321\n"
     ]
    },
    {
     "name": "stderr",
     "output_type": "stream",
     "text": [
      "┌ Info: DMRG init:\tobj = +7.447774676428e+02 -3.344714764554e+02im\terr = 1.4172e-02\n",
      "└ @ Main c:\\Users\\vicva\\OneDrive\\Documenten\\git\\Thesis_CCFT\\jl_notebook_cell_df34fa98e69747e1a8f8a730347b8e2f_W3sZmlsZQ==.jl:136\n",
      "┌ Info: DMRG   1:\tobj = +7.448970722860e+02 -3.332449668930e+02im\terr = 7.5565836096e-09\ttime = 0.10 sec\n",
      "└ @ Main c:\\Users\\vicva\\OneDrive\\Documenten\\git\\Thesis_CCFT\\jl_notebook_cell_df34fa98e69747e1a8f8a730347b8e2f_W3sZmlsZQ==.jl:157\n",
      "┌ Info: DMRG conv 2:\tobj = +7.448970722456e+02 -3.332449668475e+02im\terr = 1.2460609019e-15\ttime = 0.18 sec\n",
      "└ @ Main c:\\Users\\vicva\\OneDrive\\Documenten\\git\\Thesis_CCFT\\jl_notebook_cell_df34fa98e69747e1a8f8a730347b8e2f_W3sZmlsZQ==.jl:151\n",
      "┌ Info: DMRG init:\tobj = +5.849291139784e+02 -2.051165891226e+02im\terr = 2.7092e-02\n",
      "└ @ Main c:\\Users\\vicva\\OneDrive\\Documenten\\git\\Thesis_CCFT\\jl_notebook_cell_df34fa98e69747e1a8f8a730347b8e2f_W3sZmlsZQ==.jl:136\n",
      "┌ Info: DMRG   1:\tobj = +5.861194512961e+02 -1.969756841563e+02im\terr = 1.9399673077e-08\ttime = 0.15 sec\n",
      "└ @ Main c:\\Users\\vicva\\OneDrive\\Documenten\\git\\Thesis_CCFT\\jl_notebook_cell_df34fa98e69747e1a8f8a730347b8e2f_W3sZmlsZQ==.jl:157\n"
     ]
    },
    {
     "name": "stdout",
     "output_type": "stream",
     "text": [
      "(1.0, -744.8970722455631 + 333.2449668475227im, -586.1194511766602 + 196.97568379524517im)\n"
     ]
    },
    {
     "name": "stderr",
     "output_type": "stream",
     "text": [
      "┌ Info: DMRG conv 2:\tobj = +5.861194511767e+02 -1.969756837952e+02im\terr = 5.3652082722e-15\ttime = 0.85 sec\n",
      "└ @ Main c:\\Users\\vicva\\OneDrive\\Documenten\\git\\Thesis_CCFT\\jl_notebook_cell_df34fa98e69747e1a8f8a730347b8e2f_W3sZmlsZQ==.jl:151\n"
     ]
    },
    {
     "name": "stdout",
     "output_type": "stream",
     "text": [
      "744.8970722455631 - 333.2449668475227im\n",
      "ComplexF64[586.1194511766602 - 196.97568379524517im]\n",
      "0.7777777777777778\n"
     ]
    },
    {
     "name": "stderr",
     "output_type": "stream",
     "text": [
      "┌ Info: DMRG init:\tobj = +6.044044676024e+02 -2.645491830398e+02im\terr = 2.0150e-02\n",
      "└ @ Main c:\\Users\\vicva\\OneDrive\\Documenten\\git\\Thesis_CCFT\\jl_notebook_cell_df34fa98e69747e1a8f8a730347b8e2f_W3sZmlsZQ==.jl:136\n",
      "┌ Info: DMRG   1:\tobj = +6.043489475547e+02 -2.626288725875e+02im\terr = 3.0100132547e-08\ttime = 0.10 sec\n",
      "└ @ Main c:\\Users\\vicva\\OneDrive\\Documenten\\git\\Thesis_CCFT\\jl_notebook_cell_df34fa98e69747e1a8f8a730347b8e2f_W3sZmlsZQ==.jl:157\n",
      "┌ Info: DMRG conv 2:\tobj = +6.043489473199e+02 -2.626288722872e+02im\terr = 1.0930967675e-15\ttime = 0.19 sec\n",
      "└ @ Main c:\\Users\\vicva\\OneDrive\\Documenten\\git\\Thesis_CCFT\\jl_notebook_cell_df34fa98e69747e1a8f8a730347b8e2f_W3sZmlsZQ==.jl:151\n",
      "┌ Info: DMRG init:\tobj = +5.026861691547e+02 -1.580107066818e+02im\terr = 3.3559e-02\n",
      "└ @ Main c:\\Users\\vicva\\OneDrive\\Documenten\\git\\Thesis_CCFT\\jl_notebook_cell_df34fa98e69747e1a8f8a730347b8e2f_W3sZmlsZQ==.jl:136\n",
      "┌ Info: DMRG   1:\tobj = +5.044285585287e+02 -1.468744891106e+02im\terr = 4.0253639100e-08\ttime = 0.10 sec\n",
      "└ @ Main c:\\Users\\vicva\\OneDrive\\Documenten\\git\\Thesis_CCFT\\jl_notebook_cell_df34fa98e69747e1a8f8a730347b8e2f_W3sZmlsZQ==.jl:157\n"
     ]
    },
    {
     "name": "stdout",
     "output_type": "stream",
     "text": [
      "(1.0, -604.3489473198642 + 262.62887228718574im, -504.428559545625 + 146.874488323835im)\n",
      "604.3489473198642 - 262.62887228718574im\n",
      "ComplexF64[504.428559545625 - 146.874488323835im]\n",
      "0.7901234567901234\n"
     ]
    },
    {
     "name": "stderr",
     "output_type": "stream",
     "text": [
      "┌ Info: DMRG conv 2:\tobj = +5.044285595456e+02 -1.468744883238e+02im\terr = 1.6459778719e-14\ttime = 0.22 sec\n",
      "└ @ Main c:\\Users\\vicva\\OneDrive\\Documenten\\git\\Thesis_CCFT\\jl_notebook_cell_df34fa98e69747e1a8f8a730347b8e2f_W3sZmlsZQ==.jl:151\n",
      "┌ Info: DMRG init:\tobj = +2.908845522239e+03 -2.199162521240e+03im\terr = 9.2282e-02\n",
      "└ @ Main c:\\Users\\vicva\\OneDrive\\Documenten\\git\\Thesis_CCFT\\jl_notebook_cell_df34fa98e69747e1a8f8a730347b8e2f_W3sZmlsZQ==.jl:136\n",
      "┌ Info: DMRG   1:\tobj = +2.945141265527e+03 -2.242574276050e+03im\terr = 1.2627656502e-08\ttime = 0.18 sec\n",
      "└ @ Main c:\\Users\\vicva\\OneDrive\\Documenten\\git\\Thesis_CCFT\\jl_notebook_cell_df34fa98e69747e1a8f8a730347b8e2f_W3sZmlsZQ==.jl:157\n",
      "┌ Info: DMRG conv 2:\tobj = +2.945141265384e+03 -2.242574276065e+03im\terr = 1.0112303521e-15\ttime = 0.23 sec\n",
      "└ @ Main c:\\Users\\vicva\\OneDrive\\Documenten\\git\\Thesis_CCFT\\jl_notebook_cell_df34fa98e69747e1a8f8a730347b8e2f_W3sZmlsZQ==.jl:151\n",
      "┌ Info: DMRG init:\tobj = +1.767040845867e+03 -1.160414168171e+03im\terr = 1.9055e-01\n",
      "└ @ Main c:\\Users\\vicva\\OneDrive\\Documenten\\git\\Thesis_CCFT\\jl_notebook_cell_df34fa98e69747e1a8f8a730347b8e2f_W3sZmlsZQ==.jl:136\n"
     ]
    },
    {
     "name": "stdout",
     "output_type": "stream",
     "text": [
      "("
     ]
    },
    {
     "name": "stderr",
     "output_type": "stream",
     "text": [
      "┌ Info: DMRG   1:\tobj = +1.953070385393e+03 -1.380512768138e+03im\terr = 3.3643110467e-08\ttime = 0.13 sec\n",
      "└ @ Main c:\\Users\\vicva\\OneDrive\\Documenten\\git\\Thesis_CCFT\\jl_notebook_cell_df34fa98e69747e1a8f8a730347b8e2f_W3sZmlsZQ==.jl:157\n",
      "┌ Info: DMRG conv 2:\tobj = +1.953070385526e+03 -1.380512767968e+03im\terr = 2.2438749093e-15\ttime = 0.21 sec\n",
      "└ @ Main c:\\Users\\vicva\\OneDrive\\Documenten\\git\\Thesis_CCFT\\jl_notebook_cell_df34fa98e69747e1a8f8a730347b8e2f_W3sZmlsZQ==.jl:151\n"
     ]
    },
    {
     "name": "stdout",
     "output_type": "stream",
     "text": [
      "1.0, -2945.1412653837488 + 2242.5742760645558im, -1953.0703855258962 + 1380.5127679681898im)\n",
      "2945.1412653837488 - 2242.5742760645558im\n",
      "ComplexF64[1953.0703855258962 - 1380.5127679681898im]\n",
      "0.8024691358024691\n"
     ]
    },
    {
     "name": "stderr",
     "output_type": "stream",
     "text": [
      "┌ Info: DMRG init:\tobj = +2.371311940463e+03 -1.804402349307e+03im\terr = 3.7713e-03\n",
      "└ @ Main c:\\Users\\vicva\\OneDrive\\Documenten\\git\\Thesis_CCFT\\jl_notebook_cell_df34fa98e69747e1a8f8a730347b8e2f_W3sZmlsZQ==.jl:136\n",
      "┌ Info: DMRG   1:\tobj = +2.371428597829e+03 -1.804030966729e+03im\terr = 3.4916405247e-10\ttime = 0.08 sec\n",
      "└ @ Main c:\\Users\\vicva\\OneDrive\\Documenten\\git\\Thesis_CCFT\\jl_notebook_cell_df34fa98e69747e1a8f8a730347b8e2f_W3sZmlsZQ==.jl:157\n",
      "┌ Info: DMRG conv 2:\tobj = +2.371428597828e+03 -1.804030966728e+03im\terr = 1.5976703961e-15\ttime = 0.19 sec\n",
      "└ @ Main c:\\Users\\vicva\\OneDrive\\Documenten\\git\\Thesis_CCFT\\jl_notebook_cell_df34fa98e69747e1a8f8a730347b8e2f_W3sZmlsZQ==.jl:151\n",
      "┌ Info: DMRG init:\tobj = +1.595886582544e+03 -1.117369063440e+03im\terr = 8.4693e-03\n",
      "└ @ Main c:\\Users\\vicva\\OneDrive\\Documenten\\git\\Thesis_CCFT\\jl_notebook_cell_df34fa98e69747e1a8f8a730347b8e2f_W3sZmlsZQ==.jl:136\n",
      "┌ Info: DMRG   1:\tobj = +1.596578865952e+03 -1.114670260846e+03im\terr = 1.7784920910e-09\ttime = 0.20 sec\n",
      "└ @ Main c:\\Users\\vicva\\OneDrive\\Documenten\\git\\Thesis_CCFT\\jl_notebook_cell_df34fa98e69747e1a8f8a730347b8e2f_W3sZmlsZQ==.jl:157\n"
     ]
    },
    {
     "name": "stdout",
     "output_type": "stream",
     "text": [
      "(1.0, -2371.428597827894 + 1804.0309667279248im, -1596.578865954109 + 1114.6702608497965im)\n",
      "2371.428597827894 - "
     ]
    },
    {
     "name": "stderr",
     "output_type": "stream",
     "text": [
      "┌ Info: DMRG conv 2:\tobj = +1.596578865954e+03 -1.114670260850e+03im\terr = 1.1870204598e-15\ttime = 0.34 sec\n",
      "└ @ Main c:\\Users\\vicva\\OneDrive\\Documenten\\git\\Thesis_CCFT\\jl_notebook_cell_df34fa98e69747e1a8f8a730347b8e2f_W3sZmlsZQ==.jl:151\n"
     ]
    },
    {
     "name": "stdout",
     "output_type": "stream",
     "text": [
      "1804.0309667279248im\n",
      "ComplexF64[1596.578865954109 - 1114.6702608497965im]\n",
      "0.8148148148148148\n"
     ]
    },
    {
     "name": "stderr",
     "output_type": "stream",
     "text": [
      "┌ Info: DMRG init:\tobj = +1.909750510287e+03 -1.451508537973e+03im\terr = 4.4543e-03\n",
      "└ @ Main c:\\Users\\vicva\\OneDrive\\Documenten\\git\\Thesis_CCFT\\jl_notebook_cell_df34fa98e69747e1a8f8a730347b8e2f_W3sZmlsZQ==.jl:136\n",
      "┌ Info: DMRG   1:\tobj = +1.909867018846e+03 -1.451076056658e+03im\terr = 6.4616662696e-10\ttime = 0.08 sec\n",
      "└ @ Main c:\\Users\\vicva\\OneDrive\\Documenten\\git\\Thesis_CCFT\\jl_notebook_cell_df34fa98e69747e1a8f8a730347b8e2f_W3sZmlsZQ==.jl:157\n",
      "┌ Info: DMRG conv 2:\tobj = +1.909867018844e+03 -1.451076056656e+03im\terr = 1.1064366317e-15\ttime = 0.19 sec\n",
      "└ @ Main c:\\Users\\vicva\\OneDrive\\Documenten\\git\\Thesis_CCFT\\jl_notebook_cell_df34fa98e69747e1a8f8a730347b8e2f_W3sZmlsZQ==.jl:151\n",
      "┌ Info: DMRG init:\tobj = +1.307929928113e+03 -9.025021570879e+02im\terr = 9.9860e-03\n",
      "└ @ Main c:\\Users\\vicva\\OneDrive\\Documenten\\git\\Thesis_CCFT\\jl_notebook_cell_df34fa98e69747e1a8f8a730347b8e2f_W3sZmlsZQ==.jl:136\n",
      "┌ Info: DMRG   1:\tobj = +1.308615242985e+03 -8.993280127387e+02im\terr = 2.1724337466e-09\ttime = 0.15 sec\n",
      "└ @ Main c:\\Users\\vicva\\OneDrive\\Documenten\\git\\Thesis_CCFT\\jl_notebook_cell_df34fa98e69747e1a8f8a730347b8e2f_W3sZmlsZQ==.jl:157\n"
     ]
    },
    {
     "name": "stdout",
     "output_type": "stream",
     "text": [
      "(1.0, -1909.8670188442352 + 1451.0760566564472im, -1308.6152430047678 + 899.3280127492977im)\n",
      "1909.8670188442352 - "
     ]
    },
    {
     "name": "stderr",
     "output_type": "stream",
     "text": [
      "┌ Info: DMRG conv 2:\tobj = +1.308615243005e+03 -8.993280127493e+02im\terr = 1.5000563598e-15\ttime = 0.28 sec\n",
      "└ @ Main c:\\Users\\vicva\\OneDrive\\Documenten\\git\\Thesis_CCFT\\jl_notebook_cell_df34fa98e69747e1a8f8a730347b8e2f_W3sZmlsZQ==.jl:151\n"
     ]
    },
    {
     "name": "stdout",
     "output_type": "stream",
     "text": [
      "1451.0760566564472im\n",
      "ComplexF64[1308.6152430047678 - 899.3280127492977im]\n",
      "0.8271604938271605\n"
     ]
    },
    {
     "name": "stderr",
     "output_type": "stream",
     "text": [
      "┌ Info: DMRG init:\tobj = +1.538432309797e+03 -1.167419071363e+03im\terr = 5.3328e-03\n",
      "└ @ Main c:\\Users\\vicva\\OneDrive\\Documenten\\git\\Thesis_CCFT\\jl_notebook_cell_df34fa98e69747e1a8f8a730347b8e2f_W3sZmlsZQ==.jl:136\n",
      "┌ Info: DMRG   1:\tobj = +1.538547650863e+03 -1.166900162998e+03im\terr = 1.3817413655e-09\ttime = 0.08 sec\n",
      "└ @ Main c:\\Users\\vicva\\OneDrive\\Documenten\\git\\Thesis_CCFT\\jl_notebook_cell_df34fa98e69747e1a8f8a730347b8e2f_W3sZmlsZQ==.jl:157\n",
      "┌ Info: DMRG conv 2:\tobj = +1.538547650862e+03 -1.166900162996e+03im\terr = 1.0414667182e-15\ttime = 0.18 sec\n",
      "└ @ Main c:\\Users\\vicva\\OneDrive\\Documenten\\git\\Thesis_CCFT\\jl_notebook_cell_df34fa98e69747e1a8f8a730347b8e2f_W3sZmlsZQ==.jl:151\n",
      "┌ Info: DMRG init:\tobj = +1.075511115133e+03 -7.283477003622e+02im\terr = 1.1880e-02\n",
      "└ @ Main c:\\Users\\vicva\\OneDrive\\Documenten\\git\\Thesis_CCFT\\jl_notebook_cell_df34fa98e69747e1a8f8a730347b8e2f_W3sZmlsZQ==.jl:136\n",
      "┌ Info: DMRG   1:\tobj = +1.076169237149e+03 -7.245215069346e+02im\terr = 2.8452537401e-09\ttime = 0.12 sec\n",
      "└ @ Main c:\\Users\\vicva\\OneDrive\\Documenten\\git\\Thesis_CCFT\\jl_notebook_cell_df34fa98e69747e1a8f8a730347b8e2f_W3sZmlsZQ==.jl:157\n"
     ]
    },
    {
     "name": "stdout",
     "output_type": "stream",
     "text": [
      "(1.0, -1538.5476508617032 + 1166.9001629959434im, -1076.1692371944569 + 724.5215069704849im)\n",
      "1538.5476508617032 - 1166.9001629959434im\n",
      "ComplexF64[1076.1692371944569 - 724.5215069704849"
     ]
    },
    {
     "name": "stderr",
     "output_type": "stream",
     "text": [
      "┌ Info: DMRG conv 2:\tobj = +1.076169237194e+03 -7.245215069705e+02im\terr = 1.2694177223e-15\ttime = 0.23 sec\n",
      "└ @ Main c:\\Users\\vicva\\OneDrive\\Documenten\\git\\Thesis_CCFT\\jl_notebook_cell_df34fa98e69747e1a8f8a730347b8e2f_W3sZmlsZQ==.jl:151\n"
     ]
    },
    {
     "name": "stdout",
     "output_type": "stream",
     "text": [
      "im]\n",
      "0.8395061728395061\n"
     ]
    },
    {
     "name": "stderr",
     "output_type": "stream",
     "text": [
      "┌ Info: DMRG init:\tobj = +1.239734363689e+03 -9.385761093191e+02im\terr = 6.4853e-03\n",
      "└ @ Main c:\\Users\\vicva\\OneDrive\\Documenten\\git\\Thesis_CCFT\\jl_notebook_cell_df34fa98e69747e1a8f8a730347b8e2f_W3sZmlsZQ==.jl:136\n",
      "┌ Info: DMRG   1:\tobj = +1.239845941245e+03 -9.379328205125e+02im\terr = 3.3563322049e-10\ttime = 0.10 sec\n",
      "└ @ Main c:\\Users\\vicva\\OneDrive\\Documenten\\git\\Thesis_CCFT\\jl_notebook_cell_df34fa98e69747e1a8f8a730347b8e2f_W3sZmlsZQ==.jl:157\n",
      "┌ Info: DMRG conv 2:\tobj = +1.239845941243e+03 -9.379328205115e+02im\terr = 1.2562572086e-15\ttime = 0.20 sec\n",
      "└ @ Main c:\\Users\\vicva\\OneDrive\\Documenten\\git\\Thesis_CCFT\\jl_notebook_cell_df34fa98e69747e1a8f8a730347b8e2f_W3sZmlsZQ==.jl:151\n",
      "┌ Info: DMRG init:\tobj = +8.881814357970e+02 -5.868491364638e+02im\terr = 1.4268e-02\n",
      "└ @ Main c:\\Users\\vicva\\OneDrive\\Documenten\\git\\Thesis_CCFT\\jl_notebook_cell_df34fa98e69747e1a8f8a730347b8e2f_W3sZmlsZQ==.jl:136\n",
      "┌ Info: DMRG   1:\tobj = +8.887737028134e+02 -5.821102575372e+02im\terr = 3.2296191696e-09\ttime = 0.12 sec\n",
      "└ @ Main c:\\Users\\vicva\\OneDrive\\Documenten\\git\\Thesis_CCFT\\jl_notebook_cell_df34fa98e69747e1a8f8a730347b8e2f_W3sZmlsZQ==.jl:157\n"
     ]
    },
    {
     "name": "stdout",
     "output_type": "stream",
     "text": [
      "(1.0, -1239.845941242841 + 937.9328205115077im, -888.773702884352 + 582.1102576383586im)\n",
      "1239.845941242841 - 937.9328205115077im\n",
      "ComplexF64[888.773702884352 - 582.1102576383586im]\n",
      "0.8518518518518519\n"
     ]
    },
    {
     "name": "stderr",
     "output_type": "stream",
     "text": [
      "┌ Info: DMRG conv 2:\tobj = +8.887737028844e+02 -5.821102576384e+02im\terr = 1.5320853025e-15\ttime = 0.24 sec\n",
      "└ @ Main c:\\Users\\vicva\\OneDrive\\Documenten\\git\\Thesis_CCFT\\jl_notebook_cell_df34fa98e69747e1a8f8a730347b8e2f_W3sZmlsZQ==.jl:151\n",
      "┌ Info: DMRG init:\tobj = +9.994807406957e+02 -7.540025053881e+02im\terr = 8.0392e-03\n",
      "└ @ Main c:\\Users\\vicva\\OneDrive\\Documenten\\git\\Thesis_CCFT\\jl_notebook_cell_df34fa98e69747e1a8f8a730347b8e2f_W3sZmlsZQ==.jl:136\n",
      "┌ Info: DMRG   1:\tobj = +9.995826527853e+02 -7.531766854727e+02im\terr = 8.8784629800e-10\ttime = 0.10 sec\n",
      "└ @ Main c:\\Users\\vicva\\OneDrive\\Documenten\\git\\Thesis_CCFT\\jl_notebook_cell_df34fa98e69747e1a8f8a730347b8e2f_W3sZmlsZQ==.jl:157\n",
      "┌ Info: DMRG conv 2:\tobj = +9.995826527792e+02 -7.531766854696e+02im\terr = 1.1948517535e-15\ttime = 0.18 sec\n",
      "└ @ Main c:\\Users\\vicva\\OneDrive\\Documenten\\git\\Thesis_CCFT\\jl_notebook_cell_df34fa98e69747e1a8f8a730347b8e2f_W3sZmlsZQ==.jl:151\n",
      "┌ Info: DMRG init:\tobj = +7.375675462684e+02 -4.714084687187e+02im\terr = 1.7307e-02\n",
      "└ @ Main c:\\Users\\vicva\\OneDrive\\Documenten\\git\\Thesis_CCFT\\jl_notebook_cell_df34fa98e69747e1a8f8a730347b8e2f_W3sZmlsZQ==.jl:136\n",
      "┌ Info: DMRG   1:\tobj = +7.380259910876e+02 -4.653604606034e+02im\terr = 6.6687492611e-09\ttime = 0.14 sec\n",
      "└ @ Main c:\\Users\\vicva\\OneDrive\\Documenten\\git\\Thesis_CCFT\\jl_notebook_cell_df34fa98e69747e1a8f8a730347b8e2f_W3sZmlsZQ==.jl:157\n"
     ]
    },
    {
     "name": "stdout",
     "output_type": "stream",
     "text": [
      "(1.0, -999.5826527791588 + 753.1766854696465im, -738.0259912567616 + 465.3604607675639im)\n",
      "999.5826527791588 - 753.1766854696465im\n",
      "ComplexF64[738.0259912567616 - 465.3604607675639im]\n",
      "0.8641975308641975\n"
     ]
    },
    {
     "name": "stderr",
     "output_type": "stream",
     "text": [
      "┌ Info: DMRG conv 2:\tobj = +7.380259912568e+02 -4.653604607676e+02im\terr = 4.3796874832e-15\ttime = 0.26 sec\n",
      "└ @ Main c:\\Users\\vicva\\OneDrive\\Documenten\\git\\Thesis_CCFT\\jl_notebook_cell_df34fa98e69747e1a8f8a730347b8e2f_W3sZmlsZQ==.jl:151\n",
      "┌ Info: DMRG init:\tobj = +8.062683679964e+02 -6.047509692042e+02im\terr = 1.0226e-02\n",
      "└ @ Main c:\\Users\\vicva\\OneDrive\\Documenten\\git\\Thesis_CCFT\\jl_notebook_cell_df34fa98e69747e1a8f8a730347b8e2f_W3sZmlsZQ==.jl:136\n",
      "┌ Info: DMRG   1:\tobj = +8.063461051150e+02 -6.036526161460e+02im\terr = 2.3083276745e-09\ttime = 0.08 sec\n",
      "└ @ Main c:\\Users\\vicva\\OneDrive\\Documenten\\git\\Thesis_CCFT\\jl_notebook_cell_df34fa98e69747e1a8f8a730347b8e2f_W3sZmlsZQ==.jl:157\n",
      "┌ Info: DMRG conv 2:\tobj = +8.063461050916e+02 -6.036526161383e+02im\terr = 1.3701583517e-15\ttime = 0.15 sec\n",
      "└ @ Main c:\\Users\\vicva\\OneDrive\\Documenten\\git\\Thesis_CCFT\\jl_notebook_cell_df34fa98e69747e1a8f8a730347b8e2f_W3sZmlsZQ==.jl:151\n",
      "┌ Info: DMRG init:\tobj = +6.170004068777e+02 -3.765423685143e+02im\terr = 2.1213e-02\n",
      "└ @ Main c:\\Users\\vicva\\OneDrive\\Documenten\\git\\Thesis_CCFT\\jl_notebook_cell_df34fa98e69747e1a8f8a730347b8e2f_W3sZmlsZQ==.jl:136\n",
      "┌ Info: DMRG   1:\tobj = +6.172185742655e+02 -3.685598346770e+02im\terr = 1.3507834561e-08\ttime = 0.14 sec\n",
      "└ @ Main c:\\Users\\vicva\\OneDrive\\Documenten\\git\\Thesis_CCFT\\jl_notebook_cell_df34fa98e69747e1a8f8a730347b8e2f_W3sZmlsZQ==.jl:157\n"
     ]
    },
    {
     "name": "stdout",
     "output_type": "stream",
     "text": [
      "(1.0, -806.3461050916352 + 603.6526161383439im, -617.2185742006294 + 368.55983481728316im)\n"
     ]
    },
    {
     "name": "stderr",
     "output_type": "stream",
     "text": [
      "┌ Info: DMRG conv 2:\tobj = +6.172185742006e+02 -3.685598348173e+02im\terr = 3.6142822402e-15\ttime = 0.25 sec\n",
      "└ @ Main c:\\Users\\vicva\\OneDrive\\Documenten\\git\\Thesis_CCFT\\jl_notebook_cell_df34fa98e69747e1a8f8a730347b8e2f_W3sZmlsZQ==.jl:151\n"
     ]
    },
    {
     "name": "stdout",
     "output_type": "stream",
     "text": [
      "806.3461050916352 - 603.6526161383439im\n",
      "ComplexF64[617.2185742006294 - 368.55983481728316im]\n",
      "0.8765432098765432\n"
     ]
    },
    {
     "name": "stderr",
     "output_type": "stream",
     "text": [
      "┌ Info: DMRG init:\tobj = +6.509243124367e+02 -4.834375437484e+02im\terr = 1.3535e-02\n",
      "└ @ Main c:\\Users\\vicva\\OneDrive\\Documenten\\git\\Thesis_CCFT\\jl_notebook_cell_df34fa98e69747e1a8f8a730347b8e2f_W3sZmlsZQ==.jl:136\n",
      "┌ Info: DMRG   1:\tobj = +6.509356123516e+02 -4.819298351431e+02im\terr = 6.5891418233e-09\ttime = 0.07 sec\n",
      "└ @ Main c:\\Users\\vicva\\OneDrive\\Documenten\\git\\Thesis_CCFT\\jl_notebook_cell_df34fa98e69747e1a8f8a730347b8e2f_W3sZmlsZQ==.jl:157\n",
      "┌ Info: DMRG conv 2:\tobj = +6.509356122475e+02 -4.819298351492e+02im\terr = 1.3305771316e-15\ttime = 0.15 sec\n",
      "└ @ Main c:\\Users\\vicva\\OneDrive\\Documenten\\git\\Thesis_CCFT\\jl_notebook_cell_df34fa98e69747e1a8f8a730347b8e2f_W3sZmlsZQ==.jl:151\n",
      "┌ Info: DMRG init:\tobj = +5.212454226289e+02 -2.975571608063e+02im\terr = 2.6277e-02\n",
      "└ @ Main c:\\Users\\vicva\\OneDrive\\Documenten\\git\\Thesis_CCFT\\jl_notebook_cell_df34fa98e69747e1a8f8a730347b8e2f_W3sZmlsZQ==.jl:136\n",
      "┌ Info: DMRG   1:\tobj = +5.211054908486e+02 -2.866073989328e+02im\terr = 3.6813910062e-08\ttime = 0.12 sec\n",
      "└ @ Main c:\\Users\\vicva\\OneDrive\\Documenten\\git\\Thesis_CCFT\\jl_notebook_cell_df34fa98e69747e1a8f8a730347b8e2f_W3sZmlsZQ==.jl:157\n"
     ]
    },
    {
     "name": "stdout",
     "output_type": "stream",
     "text": [
      "(1.0, -650.9356122474652 + 481.92983514917336im, -521.1054903400883 + 286.60739836689004im)\n",
      "650.9356122474652 - 481.92983514917336im\n",
      "ComplexF64[521.1054903400883 - 286.60739836689004im]\n",
      "0.8888888888888888\n"
     ]
    },
    {
     "name": "stderr",
     "output_type": "stream",
     "text": [
      "┌ Info: DMRG conv 2:\tobj = +5.211054903401e+02 -2.866073983669e+02im\terr = 1.9712166190e-14\ttime = 0.23 sec\n",
      "└ @ Main c:\\Users\\vicva\\OneDrive\\Documenten\\git\\Thesis_CCFT\\jl_notebook_cell_df34fa98e69747e1a8f8a730347b8e2f_W3sZmlsZQ==.jl:151\n",
      "┌ Info: DMRG init:\tobj = +5.260654169700e+02 -3.838486559971e+02im\terr = 1.9139e-02\n",
      "└ @ Main c:\\Users\\vicva\\OneDrive\\Documenten\\git\\Thesis_CCFT\\jl_notebook_cell_df34fa98e69747e1a8f8a730347b8e2f_W3sZmlsZQ==.jl:136\n",
      "┌ Info: DMRG   1:\tobj = +5.258677596071e+02 -3.817413943900e+02im\terr = 2.7185246515e-08\ttime = 0.08 sec\n",
      "└ @ Main c:\\Users\\vicva\\OneDrive\\Documenten\\git\\Thesis_CCFT\\jl_notebook_cell_df34fa98e69747e1a8f8a730347b8e2f_W3sZmlsZQ==.jl:157\n",
      "┌ Info: DMRG conv 2:\tobj = +5.258677591104e+02 -3.817413947110e+02im\terr = 2.2592452260e-14\ttime = 0.18 sec\n",
      "└ @ Main c:\\Users\\vicva\\OneDrive\\Documenten\\git\\Thesis_CCFT\\jl_notebook_cell_df34fa98e69747e1a8f8a730347b8e2f_W3sZmlsZQ==.jl:151\n",
      "┌ Info: DMRG init:\tobj = +4.463736856139e+02 -2.301840919871e+02im\terr = 3.2878e-02\n",
      "└ @ Main c:\\Users\\vicva\\OneDrive\\Documenten\\git\\Thesis_CCFT\\jl_notebook_cell_df34fa98e69747e1a8f8a730347b8e2f_W3sZmlsZQ==.jl:136\n",
      "┌ Info: DMRG   1:\tobj = +4.460210605779e+02 -2.144801748293e+02im\terr = 3.9958214214e-08\ttime = 0.14 sec\n",
      "└ @ Main c:\\Users\\vicva\\OneDrive\\Documenten\\git\\Thesis_CCFT\\jl_notebook_cell_df34fa98e69747e1a8f8a730347b8e2f_W3sZmlsZQ==.jl:157\n"
     ]
    },
    {
     "name": "stdout",
     "output_type": "stream",
     "text": [
      "(1.0, -525.8677591104064 + 381.7413947110148im, -446.02106055239096 + 214.48017376210817im)\n",
      "525.8677591104064 - 381.7413947110148im\n",
      "ComplexF64[446.02106055239096 - 214.48017376210817im]\n",
      "0.9012345679012346\n"
     ]
    },
    {
     "name": "stderr",
     "output_type": "stream",
     "text": [
      "┌ Info: DMRG conv 2:\tobj = +4.460210605524e+02 -2.144801737621e+02im\terr = 1.7106644142e-14\ttime = 0.27 sec\n",
      "└ @ Main c:\\Users\\vicva\\OneDrive\\Documenten\\git\\Thesis_CCFT\\jl_notebook_cell_df34fa98e69747e1a8f8a730347b8e2f_W3sZmlsZQ==.jl:151\n",
      "┌ Info: DMRG init:\tobj = +2.368785170973e+03 -2.776841925440e+03im\terr = 8.2931e-02\n",
      "└ @ Main c:\\Users\\vicva\\OneDrive\\Documenten\\git\\Thesis_CCFT\\jl_notebook_cell_df34fa98e69747e1a8f8a730347b8e2f_W3sZmlsZQ==.jl:136\n",
      "┌ Info: DMRG   1:\tobj = +2.391930962267e+03 -2.823111162837e+03im\terr = 1.0922697400e-08\ttime = 0.08 sec\n",
      "└ @ Main c:\\Users\\vicva\\OneDrive\\Documenten\\git\\Thesis_CCFT\\jl_notebook_cell_df34fa98e69747e1a8f8a730347b8e2f_W3sZmlsZQ==.jl:157\n",
      "┌ Info: DMRG conv 2:\tobj = +2.391930962157e+03 -2.823111162964e+03im\terr = 1.0374695370e-15\ttime = 0.16 sec\n",
      "└ @ Main c:\\Users\\vicva\\OneDrive\\Documenten\\git\\Thesis_CCFT\\jl_notebook_cell_df34fa98e69747e1a8f8a730347b8e2f_W3sZmlsZQ==.jl:151\n",
      "┌ Info: DMRG init:\tobj = +1.480501318469e+03 -1.479931220729e+03im\terr = 1.8264e-01\n",
      "└ @ Main c:\\Users\\vicva\\OneDrive\\Documenten\\git\\Thesis_CCFT\\jl_notebook_cell_df34fa98e69747e1a8f8a730347b8e2f_W3sZmlsZQ==.jl:136\n",
      "┌ Info: DMRG   1:\tobj = +1.618341911790e+03 -1.742233250652e+03im\terr = 1.2148691137e-08\ttime = 0.13 sec\n",
      "└ @ Main c:\\Users\\vicva\\OneDrive\\Documenten\\git\\Thesis_CCFT\\jl_notebook_cell_df34fa98e69747e1a8f8a730347b8e2f_W3sZmlsZQ==.jl:157\n"
     ]
    },
    {
     "name": "stdout",
     "output_type": "stream",
     "text": [
      "(1.0, -2391.930962157345 + 2823.11116296417im, -1618.3419118857132 + 1742.2332503837938im)\n",
      "2391.930962157345 - 2823.11116296417im\n",
      "ComplexF64[1618.3419118857132 - 1742.2332503837938"
     ]
    },
    {
     "name": "stderr",
     "output_type": "stream",
     "text": [
      "┌ Info: DMRG conv 2:\tobj = +1.618341911886e+03 -1.742233250384e+03im\terr = 1.6673407389e-15\ttime = 0.24 sec\n",
      "└ @ Main c:\\Users\\vicva\\OneDrive\\Documenten\\git\\Thesis_CCFT\\jl_notebook_cell_df34fa98e69747e1a8f8a730347b8e2f_W3sZmlsZQ==.jl:151\n"
     ]
    },
    {
     "name": "stdout",
     "output_type": "stream",
     "text": [
      "im]\n",
      "0.9135802469135802\n"
     ]
    },
    {
     "name": "stderr",
     "output_type": "stream",
     "text": [
      "┌ Info: DMRG init:\tobj = +1.926102416283e+03 -2.271559059135e+03im\terr = 3.6438e-03\n",
      "└ @ Main c:\\Users\\vicva\\OneDrive\\Documenten\\git\\Thesis_CCFT\\jl_notebook_cell_df34fa98e69747e1a8f8a730347b8e2f_W3sZmlsZQ==.jl:136\n",
      "┌ Info: DMRG   1:\tobj = +1.926247987483e+03 -2.271114458648e+03im\terr = 3.0961377688e-10\ttime = 0.18 sec\n",
      "└ @ Main c:\\Users\\vicva\\OneDrive\\Documenten\\git\\Thesis_CCFT\\jl_notebook_cell_df34fa98e69747e1a8f8a730347b8e2f_W3sZmlsZQ==.jl:157\n",
      "┌ Info: DMRG conv 2:\tobj = +1.926247987482e+03 -2.271114458647e+03im\terr = 1.1522577025e-15\ttime = 0.77 sec\n",
      "└ @ Main c:\\Users\\vicva\\OneDrive\\Documenten\\git\\Thesis_CCFT\\jl_notebook_cell_df34fa98e69747e1a8f8a730347b8e2f_W3sZmlsZQ==.jl:151\n",
      "┌ Info: DMRG init:\tobj = +1.324830020899e+03 -1.410293350308e+03im\terr = 8.1420e-03\n",
      "└ @ Main c:\\Users\\vicva\\OneDrive\\Documenten\\git\\Thesis_CCFT\\jl_notebook_cell_df34fa98e69747e1a8f8a730347b8e2f_W3sZmlsZQ==.jl:136\n",
      "┌ Info: DMRG   1:\tobj = +1.325644925340e+03 -1.407033715247e+03im\terr = 1.9573080064e-09\ttime = 0.16 sec\n",
      "└ @ Main c:\\Users\\vicva\\OneDrive\\Documenten\\git\\Thesis_CCFT\\jl_notebook_cell_df34fa98e69747e1a8f8a730347b8e2f_W3sZmlsZQ==.jl:157\n"
     ]
    },
    {
     "name": "stdout",
     "output_type": "stream",
     "text": [
      "(1.0, -1926.2479874818976 + 2271.114458646861im, -1325.6449253303265 + 1407.0337152445993im)\n",
      "1926.2479874818976 - 2271.114458646861im\n",
      "ComplexF64[1325.6449253303265 - 1407.0337152445993im]\n",
      "0.9259259259259259"
     ]
    },
    {
     "name": "stderr",
     "output_type": "stream",
     "text": [
      "┌ Info: DMRG conv 2:\tobj = +1.325644925330e+03 -1.407033715245e+03im\terr = 1.1709831494e-15\ttime = 0.32 sec\n",
      "└ @ Main c:\\Users\\vicva\\OneDrive\\Documenten\\git\\Thesis_CCFT\\jl_notebook_cell_df34fa98e69747e1a8f8a730347b8e2f_W3sZmlsZQ==.jl:151\n"
     ]
    },
    {
     "name": "stdout",
     "output_type": "stream",
     "text": [
      "\n"
     ]
    },
    {
     "name": "stderr",
     "output_type": "stream",
     "text": [
      "┌ Info: DMRG init:\tobj = +1.551400200381e+03 -1.827396579290e+03im\terr = 4.2873e-03\n",
      "└ @ Main c:\\Users\\vicva\\OneDrive\\Documenten\\git\\Thesis_CCFT\\jl_notebook_cell_df34fa98e69747e1a8f8a730347b8e2f_W3sZmlsZQ==.jl:136\n",
      "┌ Info: DMRG   1:\tobj = +1.551537244877e+03 -1.826883497941e+03im\terr = 5.5770042627e-10\ttime = 0.15 sec\n",
      "└ @ Main c:\\Users\\vicva\\OneDrive\\Documenten\\git\\Thesis_CCFT\\jl_notebook_cell_df34fa98e69747e1a8f8a730347b8e2f_W3sZmlsZQ==.jl:157\n",
      "┌ Info: DMRG conv 2:\tobj = +1.551537244875e+03 -1.826883497939e+03im\terr = 9.7773311145e-16\ttime = 0.56 sec\n",
      "└ @ Main c:\\Users\\vicva\\OneDrive\\Documenten\\git\\Thesis_CCFT\\jl_notebook_cell_df34fa98e69747e1a8f8a730347b8e2f_W3sZmlsZQ==.jl:151\n",
      "┌ Info: DMRG init:\tobj = +1.088226350948e+03 -1.139343301594e+03im\terr = 9.5806e-03\n",
      "└ @ Main c:\\Users\\vicva\\OneDrive\\Documenten\\git\\Thesis_CCFT\\jl_notebook_cell_df34fa98e69747e1a8f8a730347b8e2f_W3sZmlsZQ==.jl:136\n",
      "┌ Info: DMRG   1:\tobj = +1.088972814287e+03 -1.135547630272e+03im\terr = 2.4765149104e-09\ttime = 0.38 sec\n",
      "└ @ Main c:\\Users\\vicva\\OneDrive\\Documenten\\git\\Thesis_CCFT\\jl_notebook_cell_df34fa98e69747e1a8f8a730347b8e2f_W3sZmlsZQ==.jl:157\n"
     ]
    },
    {
     "name": "stdout",
     "output_type": "stream",
     "text": [
      "(1.0, -1551.53724487457 + 1826.8834979387957im, -1088.9728143020116 + 1135.547630257067im)\n",
      "1551.53724487457"
     ]
    },
    {
     "name": "stderr",
     "output_type": "stream",
     "text": [
      "┌ Info: DMRG conv 2:\tobj = +1.088972814302e+03 -1.135547630257e+03im\terr = 1.3143226475e-15\ttime = 0.59 sec\n",
      "└ @ Main c:\\Users\\vicva\\OneDrive\\Documenten\\git\\Thesis_CCFT\\jl_notebook_cell_df34fa98e69747e1a8f8a730347b8e2f_W3sZmlsZQ==.jl:151\n"
     ]
    },
    {
     "name": "stdout",
     "output_type": "stream",
     "text": [
      " - 1826.8834979387957im\n",
      "ComplexF64[1088.9728143020116 - 1135.547630257067im]\n",
      "0.9382716049382716\n"
     ]
    },
    {
     "name": "stderr",
     "output_type": "stream",
     "text": [
      "┌ Info: DMRG init:\tobj = +1.249872722673e+03 -1.469889750182e+03im\terr = 5.1115e-03\n",
      "└ @ Main c:\\Users\\vicva\\OneDrive\\Documenten\\git\\Thesis_CCFT\\jl_notebook_cell_df34fa98e69747e1a8f8a730347b8e2f_W3sZmlsZQ==.jl:136\n",
      "┌ Info: DMRG   1:\tobj = +1.249996485452e+03 -1.469281131473e+03im\terr = 1.1004428225e-09\ttime = 0.24 sec\n",
      "└ @ Main c:\\Users\\vicva\\OneDrive\\Documenten\\git\\Thesis_CCFT\\jl_notebook_cell_df34fa98e69747e1a8f8a730347b8e2f_W3sZmlsZQ==.jl:157\n",
      "┌ Info: DMRG conv 2:\tobj = +1.249996485448e+03 -1.469281131467e+03im\terr = 1.0030392276e-15\ttime = 0.67 sec\n",
      "└ @ Main c:\\Users\\vicva\\OneDrive\\Documenten\\git\\Thesis_CCFT\\jl_notebook_cell_df34fa98e69747e1a8f8a730347b8e2f_W3sZmlsZQ==.jl:151\n",
      "┌ Info: DMRG init:\tobj = +8.970260669287e+02 -9.197680291897e+02im\terr = 1.1373e-02\n",
      "└ @ Main c:\\Users\\vicva\\OneDrive\\Documenten\\git\\Thesis_CCFT\\jl_notebook_cell_df34fa98e69747e1a8f8a730347b8e2f_W3sZmlsZQ==.jl:136\n",
      "┌ Info: DMRG   1:\tobj = +8.976521483044e+02 -9.152516846901e+02im\terr = 3.4539644322e-09\ttime = 0.40 sec\n",
      "└ @ Main c:\\Users\\vicva\\OneDrive\\Documenten\\git\\Thesis_CCFT\\jl_notebook_cell_df34fa98e69747e1a8f8a730347b8e2f_W3sZmlsZQ==.jl:157\n"
     ]
    },
    {
     "name": "stdout",
     "output_type": "stream",
     "text": [
      "(1.0, -1249.9964854483883 + 1469.2811314665719im"
     ]
    },
    {
     "name": "stderr",
     "output_type": "stream",
     "text": [
      "┌ Info: DMRG conv 2:\tobj = +8.976521483636e+02 -9.152516846694e+02im\terr = 1.9229497713e-15\ttime = 0.64 sec\n",
      "└ @ Main c:\\Users\\vicva\\OneDrive\\Documenten\\git\\Thesis_CCFT\\jl_notebook_cell_df34fa98e69747e1a8f8a730347b8e2f_W3sZmlsZQ==.jl:151\n"
     ]
    },
    {
     "name": "stdout",
     "output_type": "stream",
     "text": [
      ", -897.6521483635698 + 915.2516846694424im)\n",
      "1249.9964854483883 - 1469.2811314665719im\n",
      "ComplexF64[897.6521483635698 - 915.2516846694424im]\n",
      "0.9506172839506173\n"
     ]
    },
    {
     "name": "stderr",
     "output_type": "stream",
     "text": [
      "┌ Info: DMRG init:\tobj = +1.007178737363e+03 -1.182006507837e+03im\terr = 6.1890e-03\n",
      "└ @ Main c:\\Users\\vicva\\OneDrive\\Documenten\\git\\Thesis_CCFT\\jl_notebook_cell_df34fa98e69747e1a8f8a730347b8e2f_W3sZmlsZQ==.jl:136\n",
      "┌ Info: DMRG   1:\tobj = +1.007281011692e+03 -1.181262211633e+03im\terr = 2.8673723043e-09\ttime = 0.14 sec\n",
      "└ @ Main c:\\Users\\vicva\\OneDrive\\Documenten\\git\\Thesis_CCFT\\jl_notebook_cell_df34fa98e69747e1a8f8a730347b8e2f_W3sZmlsZQ==.jl:157\n",
      "┌ Info: DMRG conv 2:\tobj = +1.007281011681e+03 -1.181262211613e+03im\terr = 1.3288990579e-15\ttime = 0.27 sec\n",
      "└ @ Main c:\\Users\\vicva\\OneDrive\\Documenten\\git\\Thesis_CCFT\\jl_notebook_cell_df34fa98e69747e1a8f8a730347b8e2f_W3sZmlsZQ==.jl:151\n",
      "┌ Info: DMRG init:\tobj = +7.426378517453e+02 -7.414470459206e+02im\terr = 1.3629e-02\n",
      "└ @ Main c:\\Users\\vicva\\OneDrive\\Documenten\\git\\Thesis_CCFT\\jl_notebook_cell_df34fa98e69747e1a8f8a730347b8e2f_W3sZmlsZQ==.jl:136\n",
      "┌ Info: DMRG   1:\tobj = +7.430515839099e+02 -7.359444248703e+02im\terr = 4.7234840075e-09\ttime = 0.18 sec\n",
      "└ @ Main c:\\Users\\vicva\\OneDrive\\Documenten\\git\\Thesis_CCFT\\jl_notebook_cell_df34fa98e69747e1a8f8a730347b8e2f_W3sZmlsZQ==.jl:157\n"
     ]
    },
    {
     "name": "stdout",
     "output_type": "stream",
     "text": [
      "(1.0, -1007.2810116807008 + 1181.262211613112im, -743.0515840247335 + 735.9444248405332im)\n"
     ]
    },
    {
     "name": "stderr",
     "output_type": "stream",
     "text": [
      "┌ Info: DMRG conv 2:\tobj = +7.430515840247e+02 -7.359444248405e+02im\terr = 3.0817013740e-15\ttime = 0.36 sec\n",
      "└ @ Main c:\\Users\\vicva\\OneDrive\\Documenten\\git\\Thesis_CCFT\\jl_notebook_cell_df34fa98e69747e1a8f8a730347b8e2f_W3sZmlsZQ==.jl:151\n"
     ]
    },
    {
     "name": "stdout",
     "output_type": "stream",
     "text": [
      "1007.2810116807008 - 1181.262211613112im\n",
      "ComplexF64[743.0515840247335 - 735.9444248405332im]\n",
      "0.9629629629629629\n"
     ]
    },
    {
     "name": "stderr",
     "output_type": "stream",
     "text": [
      "┌ Info: DMRG init:\tobj = +8.117435754459e+02 -9.499865710739e+02im\terr = 7.6392e-03\n",
      "└ @ Main c:\\Users\\vicva\\OneDrive\\Documenten\\git\\Thesis_CCFT\\jl_notebook_cell_df34fa98e69747e1a8f8a730347b8e2f_W3sZmlsZQ==.jl:136\n",
      "┌ Info: DMRG   1:\tobj = +8.118113697028e+02 -9.490454399708e+02im\terr = 7.1576770991e-10\ttime = 0.13 sec\n",
      "└ @ Main c:\\Users\\vicva\\OneDrive\\Documenten\\git\\Thesis_CCFT\\jl_notebook_cell_df34fa98e69747e1a8f8a730347b8e2f_W3sZmlsZQ==.jl:157\n",
      "┌ Info: DMRG conv 2:\tobj = +8.118113696966e+02 -9.490454399709e+02im\terr = 1.0192545394e-15\ttime = 0.28 sec\n",
      "└ @ Main c:\\Users\\vicva\\OneDrive\\Documenten\\git\\Thesis_CCFT\\jl_notebook_cell_df34fa98e69747e1a8f8a730347b8e2f_W3sZmlsZQ==.jl:151\n",
      "┌ Info: DMRG init:\tobj = +6.181254146234e+02 -5.961206483002e+02im\terr = 1.6496e-02\n",
      "└ @ Main c:\\Users\\vicva\\OneDrive\\Documenten\\git\\Thesis_CCFT\\jl_notebook_cell_df34fa98e69747e1a8f8a730347b8e2f_W3sZmlsZQ==.jl:136\n",
      "┌ Info: DMRG   1:\tobj = +6.181644272608e+02 -5.892362341770e+02im\terr = 7.5134721396e-09\ttime = 0.19 sec\n",
      "└ @ Main c:\\Users\\vicva\\OneDrive\\Documenten\\git\\Thesis_CCFT\\jl_notebook_cell_df34fa98e69747e1a8f8a730347b8e2f_W3sZmlsZQ==.jl:157\n"
     ]
    },
    {
     "name": "stdout",
     "output_type": "stream",
     "text": [
      "(1.0, -811.811369696636"
     ]
    },
    {
     "name": "stderr",
     "output_type": "stream",
     "text": [
      "┌ Info: DMRG conv 2:\tobj = +6.181644275491e+02 -5.892362342732e+02im\terr = 1.7644110333e-15\ttime = 0.48 sec\n",
      "└ @ Main c:\\Users\\vicva\\OneDrive\\Documenten\\git\\Thesis_CCFT\\jl_notebook_cell_df34fa98e69747e1a8f8a730347b8e2f_W3sZmlsZQ==.jl:151\n"
     ]
    },
    {
     "name": "stdout",
     "output_type": "stream",
     "text": [
      " + 949.0454399709064im, -618.1644275490905 + 589.2362342732018im)\n",
      "811.811369696636 - 949.0454399709064im\n",
      "ComplexF64[618.1644275490905 - 589.2362342732018im]\n",
      "0.9753086419753086\n"
     ]
    },
    {
     "name": "stderr",
     "output_type": "stream",
     "text": [
      "┌ Info: DMRG init:\tobj = +6.541928670202e+02 -7.626626544122e+02im\terr = 9.6849e-03\n",
      "└ @ Main c:\\Users\\vicva\\OneDrive\\Documenten\\git\\Thesis_CCFT\\jl_notebook_cell_df34fa98e69747e1a8f8a730347b8e2f_W3sZmlsZQ==.jl:136\n",
      "┌ Info: DMRG   1:\tobj = +6.542082716865e+02 -7.614301751987e+02im\terr = 1.7109965591e-09\ttime = 0.16 sec\n",
      "└ @ Main c:\\Users\\vicva\\OneDrive\\Documenten\\git\\Thesis_CCFT\\jl_notebook_cell_df34fa98e69747e1a8f8a730347b8e2f_W3sZmlsZQ==.jl:157\n",
      "┌ Info: DMRG conv 2:\tobj = +6.542082716626e+02 -7.614301752007e+02im\terr = 9.4856961246e-16\ttime = 0.32 sec\n",
      "└ @ Main c:\\Users\\vicva\\OneDrive\\Documenten\\git\\Thesis_CCFT\\jl_notebook_cell_df34fa98e69747e1a8f8a730347b8e2f_W3sZmlsZQ==.jl:151\n",
      "┌ Info: DMRG init:\tobj = +5.178730259651e+02 -4.769720801391e+02im\terr = 2.0183e-02\n",
      "└ @ Main c:\\Users\\vicva\\OneDrive\\Documenten\\git\\Thesis_CCFT\\jl_notebook_cell_df34fa98e69747e1a8f8a730347b8e2f_W3sZmlsZQ==.jl:136\n",
      "┌ Info: DMRG   1:\tobj = +5.172474380853e+02 -4.680872661780e+02im\terr = 1.4658119375e-08\ttime = 0.23 sec\n",
      "└ @ Main c:\\Users\\vicva\\OneDrive\\Documenten\\git\\Thesis_CCFT\\jl_notebook_cell_df34fa98e69747e1a8f8a730347b8e2f_W3sZmlsZQ==.jl:157\n"
     ]
    },
    {
     "name": "stdout",
     "output_type": "stream",
     "text": [
      "(1.0, -654.2082716625736 + 761.4301752006861im, -517.2474380415721 + 468.08726632500793im)\n",
      "654.2082716625736 - 761.4301752006861"
     ]
    },
    {
     "name": "stderr",
     "output_type": "stream",
     "text": [
      "┌ Info: DMRG conv 2:\tobj = +5.172474380416e+02 -4.680872663250e+02im\terr = 4.9910629787e-15\ttime = 0.43 sec\n",
      "└ @ Main c:\\Users\\vicva\\OneDrive\\Documenten\\git\\Thesis_CCFT\\jl_notebook_cell_df34fa98e69747e1a8f8a730347b8e2f_W3sZmlsZQ==.jl:151\n"
     ]
    },
    {
     "name": "stdout",
     "output_type": "stream",
     "text": [
      "im\n",
      "ComplexF64[517.2474380415721 - 468.08726632500793im]\n",
      "0.9876543209876543\n"
     ]
    },
    {
     "name": "stderr",
     "output_type": "stream",
     "text": [
      "┌ Info: DMRG init:\tobj = +5.268865546246e+02 -6.108943086720e+02im\terr = 1.2816e-02\n",
      "└ @ Main c:\\Users\\vicva\\OneDrive\\Documenten\\git\\Thesis_CCFT\\jl_notebook_cell_df34fa98e69747e1a8f8a730347b8e2f_W3sZmlsZQ==.jl:136\n",
      "┌ Info: DMRG   1:\tobj = +5.268328275101e+02 -6.092274802164e+02im\terr = 2.8385172531e-09\ttime = 0.15 sec\n",
      "└ @ Main c:\\Users\\vicva\\OneDrive\\Documenten\\git\\Thesis_CCFT\\jl_notebook_cell_df34fa98e69747e1a8f8a730347b8e2f_W3sZmlsZQ==.jl:157\n",
      "┌ Info: DMRG conv 2:\tobj = +5.268328274615e+02 -6.092274802476e+02im\terr = 1.1282204933e-15\ttime = 0.27 sec\n",
      "└ @ Main c:\\Users\\vicva\\OneDrive\\Documenten\\git\\Thesis_CCFT\\jl_notebook_cell_df34fa98e69747e1a8f8a730347b8e2f_W3sZmlsZQ==.jl:151\n",
      "┌ Info: DMRG init:\tobj = +4.372971812921e+02 -3.782422984341e+02im\terr = 2.4999e-02\n",
      "└ @ Main c:\\Users\\vicva\\OneDrive\\Documenten\\git\\Thesis_CCFT\\jl_notebook_cell_df34fa98e69747e1a8f8a730347b8e2f_W3sZmlsZQ==.jl:136\n",
      "┌ Info: DMRG   1:\tobj = +4.354700908152e+02 -3.663083549922e+02im\terr = 1.8978307949e-08\ttime = 0.23 sec\n",
      "└ @ Main c:\\Users\\vicva\\OneDrive\\Documenten\\git\\Thesis_CCFT\\jl_notebook_cell_df34fa98e69747e1a8f8a730347b8e2f_W3sZmlsZQ==.jl:157\n"
     ]
    },
    {
     "name": "stdout",
     "output_type": "stream",
     "text": [
      "(1.0, -526.8328274614521 + 609.227480247633im, -435.4700905980683 + 366.30835577009833im)\n"
     ]
    },
    {
     "name": "stderr",
     "output_type": "stream",
     "text": [
      "┌ Info: DMRG conv 2:\tobj = +4.354700905981e+02 -3.663083557701e+02im\terr = 5.3944575596e-15\ttime = 0.44 sec\n",
      "└ @ Main c:\\Users\\vicva\\OneDrive\\Documenten\\git\\Thesis_CCFT\\jl_notebook_cell_df34fa98e69747e1a8f8a730347b8e2f_W3sZmlsZQ==.jl:151\n"
     ]
    },
    {
     "name": "stdout",
     "output_type": "stream",
     "text": [
      "526.8328274614521 - 609.227480247633im\n",
      "ComplexF64[435.4700905980683 - 366.30835577009833im]\n",
      "1.0\n"
     ]
    },
    {
     "name": "stderr",
     "output_type": "stream",
     "text": [
      "┌ Info: DMRG init:\tobj = +4.235460703288e+02 -4.871004233281e+02im\terr = 1.8242e-02\n",
      "└ @ Main c:\\Users\\vicva\\OneDrive\\Documenten\\git\\Thesis_CCFT\\jl_notebook_cell_df34fa98e69747e1a8f8a730347b8e2f_W3sZmlsZQ==.jl:136\n",
      "┌ Info: DMRG   1:\tobj = +4.234339737597e+02 -4.848090850911e+02im\terr = 1.3230624409e-08\ttime = 0.16 sec\n",
      "└ @ Main c:\\Users\\vicva\\OneDrive\\Documenten\\git\\Thesis_CCFT\\jl_notebook_cell_df34fa98e69747e1a8f8a730347b8e2f_W3sZmlsZQ==.jl:157\n",
      "┌ Info: DMRG conv 2:\tobj = +4.234339740488e+02 -4.848090852976e+02im\terr = 6.1264475706e-15\ttime = 0.29 sec\n",
      "└ @ Main c:\\Users\\vicva\\OneDrive\\Documenten\\git\\Thesis_CCFT\\jl_notebook_cell_df34fa98e69747e1a8f8a730347b8e2f_W3sZmlsZQ==.jl:151\n",
      "┌ Info: DMRG init:\tobj = +3.725691849954e+02 -2.948004757982e+02im\terr = 3.1460e-02\n",
      "└ @ Main c:\\Users\\vicva\\OneDrive\\Documenten\\git\\Thesis_CCFT\\jl_notebook_cell_df34fa98e69747e1a8f8a730347b8e2f_W3sZmlsZQ==.jl:136\n",
      "┌ Info: DMRG   1:\tobj = +3.684215963380e+02 -2.777263884388e+02im\terr = 4.1643241837e-08\ttime = 0.25 sec\n",
      "└ @ Main c:\\Users\\vicva\\OneDrive\\Documenten\\git\\Thesis_CCFT\\jl_notebook_cell_df34fa98e69747e1a8f8a730347b8e2f_W3sZmlsZQ==.jl:157\n"
     ]
    },
    {
     "name": "stdout",
     "output_type": "stream",
     "text": [
      "(1.0, -423.4339740487866 + 484.8090852975947im, -368.42159248269127 + 277.7263875704977im)\n",
      "423.4339740487866 - 484.8090852975947im\n",
      "ComplexF64[368.42159248269127 - 277.7263875704977im]\n"
     ]
    },
    {
     "name": "stderr",
     "output_type": "stream",
     "text": [
      "┌ Info: DMRG conv 2:\tobj = +3.684215924827e+02 -2.777263875705e+02im\terr = 1.8048643957e-14\ttime = 0.46 sec\n",
      "└ @ Main c:\\Users\\vicva\\OneDrive\\Documenten\\git\\Thesis_CCFT\\jl_notebook_cell_df34fa98e69747e1a8f8a730347b8e2f_W3sZmlsZQ==.jl:151\n"
     ]
    }
   ],
   "source": [
    "D=30\n",
    "J=1\n",
    "h=1\n",
    "Q=5\n",
    "using JLD2\n",
    "for L in [4] #,12,16,20,24\n",
    "    l = length(test_values)\n",
    "    Results = zeros(ComplexF64,(2,l))\n",
    "\n",
    "    ψ = FiniteMPS(L,ℂ^(Q), ℂ^D)\n",
    "    ψ2 = FiniteMPS(L,ℂ^(Q), ℂ^D)\n",
    "    for (i,J□) in enumerate(test_values)\n",
    "        println(i/l)\n",
    "        plaq = @mpoham tmatrix(Q,Potts_βc(Q),J□){vertices(FiniteChain(L))[end],vertices(FiniteChain(L))[1]} + sum(tmatrix(Q,Potts_βc(Q),J□){i,i+1} for i in vertices(FiniteChain(L))[1:end-1]) \n",
    "        (ψ, envir , delta) = find_groundstate_alt(ψ, plaq, DMRG(maxiter = 500,tol=1e-5, eigalg =MPSKit.Defaults.alg_eigsolve(; ishermitian=false)))\n",
    "        E = expectation_value(ψ, plaq)\n",
    "        En, state  = excitations_alt(plaq, FiniteExcited_alt(gsalg = DMRG(eigalg =MPSKit.Defaults.alg_eigsolve(maxiter = 500,tol=1e-5,ishermitian=false))), (ψ,),(1.0,-E),init = ψ2,num=1) \n",
    "        #En0, st0 = excitations_alt(plaq, QuasiparticleAnsatz(ishermitian=false), ψ, envir;num=4) (no convergence)\n",
    "        ψ2 = state[1]\n",
    "\n",
    "        #S = [entropy(ψ,i) for i in 0:L] ###only gives the real parts (for now)\n",
    "        println(E)\n",
    "        println(En)\n",
    "        #println(S)\n",
    "        Results[1,i] = E\n",
    "        Results[2,i] = En[1]\n",
    "        #Results[3,i] = En[2]\n",
    "    end\n",
    "\n",
    "    save_object(\"Big Run DMRG CCFT est $L,D$D, potts\",Results)\n",
    "end"
   ]
  },
  {
   "cell_type": "code",
   "execution_count": 3,
   "id": "bb3fd0ec",
   "metadata": {},
   "outputs": [
    {
     "data": {
      "text/plain": [
       "plot_difference (generic function with 1 method)"
      ]
     },
     "metadata": {},
     "output_type": "display_data"
    }
   ],
   "source": [
    "\n",
    "function plot_difference(results,z_values,dif,test_values,Q,L,D)\n",
    "   \n",
    "    p = PlotlyJS.plot(PlotlyJS.contour(   z=real(z_values),\n",
    "    x=real(-im*test_values),\n",
    "        y=real(test_values),fill=true,colorbar=attr(\n",
    "            title=\"Re(F)\", # title here\n",
    "            titleside=\"top\",\n",
    "            titlefont=attr(\n",
    "                size=14,\n",
    "                family=\"Arial, sans-serif\"\n",
    "            )\n",
    "        )),Layout(title=attr(text = \" LM DMRG Fr2ee energy of CCFT transfermatrix L=$L,Q=$Q\",x = 0.5),xaxis_title=\"Im(lambda)\",yaxis_title=\"Re(lambda)\"))\n",
    "\n",
    "\n",
    "PlotlyJS.savefig(p,\"Q$Q   LM DMRG fig 1 Free energy of CCFT L=$L.png\") \n",
    "p = PlotlyJS.plot(PlotlyJS.contour(   z=real(-1im*z_values),\n",
    "    x=real(-im*test_values),\n",
    "        y=real(test_values),fill=true,colorbar=attr(\n",
    "            title=\"Im(F)\", # title here\n",
    "            titleside=\"top\",\n",
    "            titlefont=attr(\n",
    "                size=14,\n",
    "                family=\"Arial, sans-serif\"\n",
    "            )\n",
    "        )),Layout(title=attr(text = \"Im  LM DMRG free energy of CCFT transfermatrix L=$L,Q=$Q D=$D\",x = 0.5),xaxis_title=\"Im(lambda)\",yaxis_title=\"Re(lambda)\"))\n",
    "PlotlyJS.savefig(p,\"Q$Q  LM DMRG fig 2 Im Free energy of CCFT L=$L.png\") \n",
    "p = PlotlyJS.plot(PlotlyJS.contour(   z=dif,\n",
    "    x=real(-im*test_values),\n",
    "        y=real(test_values),fill=true,colorbar=attr(\n",
    "            title=\"|δ x_σ|\", # title here\n",
    "            titleside=\"top\",\n",
    "            titlefont=attr( \n",
    "                size=14,\n",
    "                family=\"Arial, sans-serif\"\n",
    "            )\n",
    "        )),Layout(title=attr(text = \" LM DMRG CCFT|δ x_σ| L=$L,Q=$Q,D=$D\",x = 0.5),xaxis_title=\"Im(λ)\",yaxis_title=\"Re(λ)\"))\n",
    "PlotlyJS.savefig(p,\"Q$Q fig 3 LM DMRG  CCFT scaling energy of CCFT L=$L D=$D.png\") \n",
    "pp = PlotlyJS.plot(PlotlyJS.contour(   z=(real(1 ./ results)),\n",
    "    x=real(-im*test_values),\n",
    "        y=real(test_values),fill=true,colorbar=attr(\n",
    "            title=\"log(ξ)\", # title here\n",
    "            titleside=\"top\",\n",
    "            titlefont=attr( \n",
    "                size=14,\n",
    "                family=\"Arial, sans-serif\"\n",
    "            )\n",
    "        )),Layout(title=attr(text = \" LM DMRG (C)CFT ξ L=$L,Q=$Q D=$D\",x = 0.5),xaxis_title=\"Im(λ)\",yaxis_title=\"Re(λ)\"))\n",
    "PlotlyJS.savefig(pp,\"Q$Q fig 4 LM DMRG CCFT ξ of L=$L D=$D.png\") \n",
    "end"
   ]
  },
  {
   "cell_type": "code",
   "execution_count": null,
   "id": "59c71a46",
   "metadata": {},
   "outputs": [
    {
     "name": "stdout",
     "output_type": "stream",
     "text": [
      "()\n",
      "[-1.549042126794479, -1.579580745996088, -1.6091581186722066, -1.634380140126764, -1.6490982012690285, -1.6431685842922037, -1.602048762335164, -1.5087234516892774, -1.3462210176273206, -1.5915021112679775, -1.633802133585174, -1.6792684604575792, -1.7256597746228652, -1.767307267478493, -1.7919635841439872, -1.7774520174635715, -1.6936411597856917, -1.514747534997677, -1.6300465738230454, -1.684616537097374, -1.7479239156190622, -1.8206169776005943, -1.900732954107843, -1.9781840057956848, -2.0228988515031587, -1.9766154573980994, -1.7919694487605056, -1.6611404282608146, -1.7266202994968132, -1.806845755936493, -1.9069998476705168, -2.033650650945521, -2.191090524441496, -2.3587955424480076, -2.415491976867339, -2.1879864743002044, -1.68137451953093, -1.7541300013080863, -1.8461280424589808, -1.9668522302610107, -2.1332915783605912, -2.378677835439157, -2.7695398251570027, -3.243586760202281, -2.7319590423161477, -1.6883899505735838, -1.762979856445796, -1.8578156941643633, -1.9833938761426524, -2.1594953049267636, -2.429438479547482, -2.9170715552504194, -4.154672826707779, -2.963737735237423, -1.6816561020257694, -1.7522453993787923, -1.840118834168873, -1.9526219819524704, -2.101294298283482, -2.3028473116807335, -2.5634968913538154, -2.730833316850277, -2.4050014056366527, -1.6626401983052832, -1.7246410073504024, -1.7984787695438915, -1.8867092904424188, -1.990530074743783, -2.1038143244478498, -2.1942174730877277, -2.172756739755546, -1.9437300201888703, -1.6342555058841548, -1.6852536875658812, -1.7423146777977097, -1.8043091851156876, -1.8666707717047177, -1.916913682924982, -1.9278898878855357, -1.8571173999155601, -1.666978753972189]\n"
     ]
    },
    {
     "data": {
      "text/plain": [
       "\"Q5 fig 4 LM DMRG CCFT ξ of L=4 D=30.png\""
      ]
     },
     "metadata": {},
     "output_type": "display_data"
    }
   ],
   "source": [
    "using JLD2\n",
    "using PlotlyJS\n",
    "Q =5\n",
    "L = 4\n",
    "D = 30\n",
    "first_two = load_object(\"Big Run DMRG CCFT est $L,D$D, potts\")\n",
    "println(size(first_two[1]))\n",
    "Results = zeros(ComplexF64,(l))\n",
    "target = 0.134 - 0.021im\n",
    "# target = 2/15\n",
    "dif = zeros(Float64,(l))\n",
    "z_values = zeros(ComplexF64,(l))    \n",
    "for j in 1:l\n",
    "    Results[j] = log(((abs(first_two[1,j])/abs(first_two[2,j]))))\n",
    "    z_values[j] = 1/log(1+sqrt(Q)) * log((abs(first_two[2,j])))/L\n",
    "\n",
    "    dif[j] =log(abs((log(first_two[1,j]/first_two[2,j])  - ((2*pi)/L)*log(1+sqrt(Q))*target))) #log(abs(log(eig[1]/eig[2]) - log(1+sqrt(Q))*L/(2*pi)*target))\n",
    "    \n",
    "end\n",
    "plot_difference(Results,z_values,dif,test_values,Q,L,D)"
   ]
  },
  {
   "cell_type": "code",
   "execution_count": null,
   "id": "67cb2bb7",
   "metadata": {},
   "outputs": [],
   "source": [
    "L = 4\n",
    "D = 30\n",
    "first_two = load_object(\"Big Run DMRG CCFT est $L,D$D, potts\")\n",
    "println(size(first_two[1]))\n",
    "Results = zeros(ComplexF64,(l))\n",
    "target = 0.134 - 0.021im\n",
    "# target = 2/15\n",
    "dif = zeros(Float64,(l))\n",
    "z_values = zeros(ComplexF64,(l))    \n",
    "for j in 1:l\n",
    "    Results[j] = log(((abs(first_two[1,j])/abs(first_two[2,j]))))\n",
    "    z_values[j] = 1/log(1+sqrt(Q)) * log((abs(first_two[2,j])))/L\n",
    "\n",
    "    dif[j] =log(abs((log(first_two[1,j]/first_two[2,j])  - ((2*pi)/L)*log(1+sqrt(Q))*target))) #log(abs(log(eig[1]/eig[2]) - log(1+sqrt(Q))*L/(2*pi)*target))\n",
    "    \n",
    "end\n",
    "plot_difference(Results,z_values,dif,test_values,Q,L,D)"
   ]
  },
  {
   "cell_type": "markdown",
   "id": "f5ce2866",
   "metadata": {},
   "source": [
    "# Leading Boundary"
   ]
  },
  {
   "cell_type": "code",
   "execution_count": null,
   "id": "454dc2ae",
   "metadata": {},
   "outputs": [
    {
     "name": "stdout",
     "output_type": "stream",
     "text": [
      "1//81\n"
     ]
    }
   ],
   "source": [
    "l = length(test_values)\n",
    "Results = zeros(ComplexF64,(3,l))\n",
    "Q = 5\n",
    "D = 25\n",
    "ψ = InfiniteMPS(ℂ^(Q^2), ℂ^D)\n",
    "\n",
    "#infinte(leading boudary works)\n",
    "for (i,lambda) in enumerate(test_values)\n",
    "    plaq = InfiniteMPO([-1*Plaquette_Potts(Q,Potts_βc(Q),lambda),]) ### make sure boundary is correct\n",
    "\n",
    "    # ## leading_boundary method \n",
    "    ens = environments(ψ, plaq)\n",
    "    ψ, envs, = leading_boundary(ψ, plaq,  VUMPS(; verbosity=0,alg_eigsolve=MPSKit.Defaults.alg_eigsolve(;ishermitian=false)),ens)# use non-hermitian eigensolver\n",
    "    F = expectation_value(ψ, plaq)\n",
    "    S = first(entropy(ψ))\n",
    "    ξ = correlation_length(ψ)\n",
    "    Results[:,i] = [F,S,ξ]\n",
    "    println(i//l)\n",
    "end\n",
    "using JLD2\n",
    "save_object(\"Leading_boundary Plasuette D$D\",Results)"
   ]
  },
  {
   "cell_type": "code",
   "execution_count": 5,
   "id": "217407d9",
   "metadata": {},
   "outputs": [
    {
     "name": "stdout",
     "output_type": "stream",
     "text": [
      "1//81\n",
      "2//81\n",
      "1//27\n",
      "4//81\n",
      "5//81\n",
      "2//27\n",
      "7//81\n",
      "8//81\n",
      "1//9\n",
      "10//81\n",
      "11//81\n",
      "4//27\n",
      "13//81\n",
      "14//81\n",
      "5//27\n",
      "16//81\n",
      "17//81\n",
      "2//9\n",
      "19//81\n",
      "20//81\n",
      "7//27\n",
      "22//81\n",
      "23//81\n",
      "8//27\n",
      "25//81\n",
      "26//81\n",
      "1//3\n",
      "28//81\n",
      "29//81\n",
      "10//27\n",
      "31//81\n",
      "32//81\n",
      "11//27\n",
      "34//81\n",
      "35//81\n",
      "4//9\n",
      "37//81\n",
      "38//81\n",
      "13//27\n",
      "40//81\n",
      "41//81\n",
      "14//27\n",
      "43//81\n",
      "44//81\n",
      "5//9\n",
      "46//81\n",
      "47//81\n",
      "16//27\n",
      "49//81\n",
      "50//81\n",
      "17//27\n",
      "52//81\n",
      "53//81\n",
      "2//3\n",
      "55//81\n",
      "56//81\n",
      "19//27\n",
      "58//81\n",
      "59//81\n",
      "20//27\n",
      "61//81\n",
      "62//81\n",
      "7//9\n",
      "64//81\n",
      "65//81\n",
      "22//27\n",
      "67//81\n",
      "68//81\n",
      "23//27\n",
      "70//81\n",
      "71//81\n",
      "8//9\n",
      "73//81\n",
      "74//81\n",
      "25//27\n",
      "76//81\n",
      "77//81\n",
      "26//27\n",
      "79//81\n",
      "80//81\n",
      "1//1\n"
     ]
    }
   ],
   "source": [
    "l = length(test_values)\n",
    "Results = zeros(ComplexF64,(3,l))\n",
    "Q = 5\n",
    "D = 25\n",
    "ψ = InfiniteMPS(ℂ^(Q), ℂ^D)\n",
    "\n",
    "#infinte(leading boudary works)\n",
    "for (i,lambda) in enumerate(test_values)\n",
    "    plaq = InfiniteMPO([-1*tmatrix(Q,Potts_βc(Q),lambda),]) ### make sure boundary is correct\n",
    "\n",
    "    # ## leading_boundary method \n",
    "    ens = environments(ψ, plaq)\n",
    "    ψ, envs, = leading_boundary(ψ, plaq,  VUMPS(; verbosity=0,alg_eigsolve=MPSKit.Defaults.alg_eigsolve(;ishermitian=false)),ens)# use non-hermitian eigensolver\n",
    "    F = expectation_value(ψ, plaq)\n",
    "    S = first(entropy(ψ))\n",
    "    ξ = correlation_length(ψ)\n",
    "    Results[:,i] = [F,S,ξ]\n",
    "    println(i//l)\n",
    "end\n",
    "using JLD2\n",
    "save_object(\"Leading_boundary CCFT D$D\",Results)"
   ]
  },
  {
   "cell_type": "code",
   "execution_count": null,
   "id": "e08e434f",
   "metadata": {},
   "outputs": [
    {
     "name": "stdout",
     "output_type": "stream",
     "text": [
      "(3, 81)\n"
     ]
    },
    {
     "data": {
      "text/plain": [
       "\"Q5 fig 4 Leading boundary Plaquette ξD25.png\""
      ]
     },
     "metadata": {},
     "output_type": "display_data"
    }
   ],
   "source": [
    "using PlotlyJS\n",
    "Results = load_object(\"Leading_boundary Plasuette D25\")\n",
    "println(size(Results))\n",
    "p = PlotlyJS.plot(PlotlyJS.contour(   z=real(Results[1,:]),\n",
    "x=real(-im*test_values),\n",
    "    y=real(test_values),fill=true,colorbar=attr(\n",
    "        title=\"Re(F)\", # title here\n",
    "        titleside=\"top\",\n",
    "        titlefont=attr(\n",
    "            size=14,\n",
    "            family=\"Arial, sans-serif\"\n",
    "        )\n",
    "    )),Layout(title=attr(text = \" Leading boundary Free energy of Plaquette transfermatrix Q=$Q,D$D\",x = 0.5),xaxis_title=\"Im(lambda)\",yaxis_title=\"Re(lambda)\"))\n",
    "\n",
    "\n",
    "PlotlyJS.savefig(p,\"Q$Q  Leading boundary fig 1 Free energy of Plaquette$D.png\") \n",
    "p = PlotlyJS.plot(PlotlyJS.contour(   z=real(-1im*Results[1,:]),\n",
    "x=real(-im*test_values),\n",
    "    y=real(test_values),fill=true,colorbar=attr(\n",
    "        title=\"Im(F)\", # title here\n",
    "        titleside=\"top\",\n",
    "        titlefont=attr(\n",
    "            size=14,\n",
    "            family=\"Arial, sans-serif\"\n",
    "        )\n",
    "    )),Layout(title=attr(text = \"Im Leading boundary free energy of Plaquettetransfermatrix Q=$Q,D$D\",x = 0.5),xaxis_title=\"Im(lambda)\",yaxis_title=\"Re(lambda)\"))\n",
    "PlotlyJS.savefig(p,\"Q$Q Leading boundary  fig 2 Im Free energy of PlaquetteD$D.png\") \n",
    "# p = PlotlyJS.plot(PlotlyJS.contour(   z=,\n",
    "#     x=real(-im*test_values),\n",
    "#         y=real(test_values),fill=true,colorbar=attr(\n",
    "#             title=\"|δ x_σ|\", # title here\n",
    "#             titleside=\"top\",\n",
    "#             titlefont=attr( \n",
    "#                 size=14,\n",
    "#                 family=\"Arial, sans-serif\"\n",
    "#             )\n",
    "#         )),Layout(title=attr(text = \" LM DMRG (C)CFT|δ x_σ| L=$L,Q=$Q\",x = 0.5),xaxis_title=\"Im(λ)\",yaxis_title=\"Re(λ)\"))\n",
    "# PlotlyJS.savefig(p,\"Q$Q  fig 3  LM DMRG scaling energy of CCFT L=$L,.png\") \n",
    "pp = PlotlyJS.plot(PlotlyJS.contour(   z=real(Results[3,:]),\n",
    "    x=real(-im*test_values),\n",
    "        y=real(test_values),fill=true,colorbar=attr(\n",
    "            title=\"log(ξ)\", # title here\n",
    "            titleside=\"top\",\n",
    "            titlefont=attr( \n",
    "                size=14,\n",
    "                family=\"Arial, sans-serif\"\n",
    "            )\n",
    "        )),Layout(title=attr(text = \" Leading boundary Plaquette ξ ,Q=$Q,$D\",x = 0.5),xaxis_title=\"Im(λ)\",yaxis_title=\"Re(λ)\"))\n",
    "PlotlyJS.savefig(pp,\"Q$Q fig 4 Leading boundary Plaquette ξD$D.png\") \n"
   ]
  }
 ],
 "metadata": {
  "kernelspec": {
   "display_name": "Julia 1.11.3",
   "language": "julia",
   "name": "julia-1.11"
  },
  "language_info": {
   "file_extension": ".jl",
   "mimetype": "application/julia",
   "name": "julia",
   "version": "1.11.3"
  }
 },
 "nbformat": 4,
 "nbformat_minor": 5
}
